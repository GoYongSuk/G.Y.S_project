{
  "nbformat": 4,
  "nbformat_minor": 0,
  "metadata": {
    "colab": {
      "name": "going_Deeper_8_sub.ipynb의 사본",
      "provenance": [],
      "collapsed_sections": [
        "IKT1pI1oSDdd"
      ],
      "machine_shape": "hm"
    },
    "kernelspec": {
      "name": "python3",
      "display_name": "Python 3"
    },
    "language_info": {
      "name": "python"
    },
    "accelerator": "GPU"
  },
  "cells": [
    {
      "cell_type": "code",
      "source": [
        "# from google.colab import drive\n",
        "# drive.mount('/content/drive')"
      ],
      "metadata": {
        "id": "vEMH6BZIAe5g"
      },
      "execution_count": 1,
      "outputs": []
    },
    {
      "cell_type": "code",
      "source": [
        "!python3 -m pip install konlpy"
      ],
      "metadata": {
        "colab": {
          "base_uri": "https://localhost:8080/"
        },
        "id": "mzWzl7ycI-Ez",
        "outputId": "45dae937-9d16-4a15-f32b-6d8caa108eb0"
      },
      "execution_count": 2,
      "outputs": [
        {
          "output_type": "stream",
          "name": "stdout",
          "text": [
            "Requirement already satisfied: konlpy in /usr/local/lib/python3.7/dist-packages (0.6.0)\n",
            "Requirement already satisfied: numpy>=1.6 in /usr/local/lib/python3.7/dist-packages (from konlpy) (1.21.5)\n",
            "Requirement already satisfied: JPype1>=0.7.0 in /usr/local/lib/python3.7/dist-packages (from konlpy) (1.3.0)\n",
            "Requirement already satisfied: lxml>=4.1.0 in /usr/local/lib/python3.7/dist-packages (from konlpy) (4.2.6)\n",
            "Requirement already satisfied: typing-extensions in /usr/local/lib/python3.7/dist-packages (from JPype1>=0.7.0->konlpy) (3.10.0.2)\n"
          ]
        }
      ]
    },
    {
      "cell_type": "code",
      "source": [
        "!sudo apt-get install g++ openjdk-8-jdk python3-dev python3-pip curl"
      ],
      "metadata": {
        "colab": {
          "base_uri": "https://localhost:8080/"
        },
        "id": "fn-km-FNI_2j",
        "outputId": "89f7e874-b927-44dc-abc9-af5550888bb3"
      },
      "execution_count": 3,
      "outputs": [
        {
          "output_type": "stream",
          "name": "stdout",
          "text": [
            "Reading package lists... Done\n",
            "Building dependency tree       \n",
            "Reading state information... Done\n",
            "curl is already the newest version (7.58.0-2ubuntu3.16).\n",
            "g++ is already the newest version (4:7.4.0-1ubuntu2.3).\n",
            "python3-dev is already the newest version (3.6.7-1~18.04).\n",
            "openjdk-8-jdk is already the newest version (8u312-b07-0ubuntu1~18.04).\n",
            "python3-pip is already the newest version (9.0.1-2.3~ubuntu1.18.04.5).\n",
            "0 upgraded, 0 newly installed, 0 to remove and 96 not upgraded.\n"
          ]
        }
      ]
    },
    {
      "cell_type": "code",
      "source": [
        "!sudo apt-get install curl git"
      ],
      "metadata": {
        "colab": {
          "base_uri": "https://localhost:8080/"
        },
        "id": "jCx-WuCoJF_q",
        "outputId": "a76cee4e-99a1-46ee-f790-9da27c02a313"
      },
      "execution_count": 4,
      "outputs": [
        {
          "output_type": "stream",
          "name": "stdout",
          "text": [
            "Reading package lists... Done\n",
            "Building dependency tree       \n",
            "Reading state information... Done\n",
            "curl is already the newest version (7.58.0-2ubuntu3.16).\n",
            "git is already the newest version (1:2.17.1-1ubuntu0.9).\n",
            "0 upgraded, 0 newly installed, 0 to remove and 96 not upgraded.\n"
          ]
        }
      ]
    },
    {
      "cell_type": "code",
      "source": [
        "!bash <(curl -s https://raw.githubusercontent.com/konlpy/konlpy/master/scripts/mecab.sh)"
      ],
      "metadata": {
        "colab": {
          "base_uri": "https://localhost:8080/"
        },
        "id": "U-sbGaPWJEnR",
        "outputId": "76652c4e-c256-4e99-9991-0f9a117dce71"
      },
      "execution_count": 5,
      "outputs": [
        {
          "output_type": "stream",
          "name": "stdout",
          "text": [
            "mecab-ko is already installed\n",
            "mecab-ko-dic is already installed\n",
            "mecab-python is already installed\n",
            "Done.\n"
          ]
        }
      ]
    },
    {
      "cell_type": "code",
      "source": [
        "import matplotlib.font_manager as fm\n",
        "\n",
        "# 설치된 폰트 출력\n",
        "font_list = [font.name for font in fm.fontManager.ttflist]\n",
        "font_list"
      ],
      "metadata": {
        "colab": {
          "base_uri": "https://localhost:8080/"
        },
        "id": "tZbScZAocvCl",
        "outputId": "43738dd5-ac1e-4652-ca59-12f2c66caeb1"
      },
      "execution_count": 6,
      "outputs": [
        {
          "output_type": "execute_result",
          "data": {
            "text/plain": [
              "['DejaVu Serif',\n",
              " 'cmex10',\n",
              " 'STIXSizeFiveSym',\n",
              " 'DejaVu Sans Display',\n",
              " 'STIXGeneral',\n",
              " 'DejaVu Sans Mono',\n",
              " 'DejaVu Serif',\n",
              " 'cmss10',\n",
              " 'STIXSizeOneSym',\n",
              " 'STIXSizeFourSym',\n",
              " 'DejaVu Serif Display',\n",
              " 'STIXSizeFourSym',\n",
              " 'STIXGeneral',\n",
              " 'cmb10',\n",
              " 'DejaVu Sans',\n",
              " 'STIXNonUnicode',\n",
              " 'DejaVu Serif',\n",
              " 'STIXSizeThreeSym',\n",
              " 'DejaVu Sans Mono',\n",
              " 'STIXSizeOneSym',\n",
              " 'STIXSizeTwoSym',\n",
              " 'DejaVu Serif',\n",
              " 'cmmi10',\n",
              " 'cmtt10',\n",
              " 'STIXSizeTwoSym',\n",
              " 'STIXNonUnicode',\n",
              " 'STIXNonUnicode',\n",
              " 'STIXGeneral',\n",
              " 'STIXGeneral',\n",
              " 'DejaVu Sans',\n",
              " 'STIXSizeThreeSym',\n",
              " 'DejaVu Sans Mono',\n",
              " 'DejaVu Sans',\n",
              " 'cmr10',\n",
              " 'DejaVu Sans Mono',\n",
              " 'cmsy10',\n",
              " 'STIXNonUnicode',\n",
              " 'DejaVu Sans',\n",
              " 'Liberation Sans',\n",
              " 'DejaVu Serif',\n",
              " 'Liberation Mono',\n",
              " 'DejaVu Math TeX Gyre',\n",
              " 'DejaVu Sans',\n",
              " 'Liberation Serif',\n",
              " 'DejaVu Serif',\n",
              " 'DejaVu Sans',\n",
              " 'Liberation Sans',\n",
              " 'Liberation Sans',\n",
              " 'NanumSquareRound',\n",
              " 'NanumSquareRound',\n",
              " 'DejaVu Serif',\n",
              " 'DejaVu Sans Mono',\n",
              " 'DejaVu Sans',\n",
              " 'Humor Sans',\n",
              " 'Liberation Sans',\n",
              " 'NanumBarunGothic',\n",
              " 'DejaVu Sans',\n",
              " 'DejaVu Serif',\n",
              " 'DejaVu Sans',\n",
              " 'NanumGothic',\n",
              " 'Liberation Serif',\n",
              " 'Liberation Sans Narrow',\n",
              " 'Liberation Mono',\n",
              " 'Liberation Sans Narrow',\n",
              " 'DejaVu Serif',\n",
              " 'NanumBarunGothic',\n",
              " 'DejaVu Sans Mono',\n",
              " 'Liberation Mono',\n",
              " 'NanumSquare',\n",
              " 'NanumSquare',\n",
              " 'NanumMyeongjo',\n",
              " 'DejaVu Serif',\n",
              " 'DejaVu Sans',\n",
              " 'Liberation Sans Narrow',\n",
              " 'DejaVu Sans Mono',\n",
              " 'DejaVu Sans',\n",
              " 'DejaVu Serif',\n",
              " 'NanumMyeongjo',\n",
              " 'DejaVu Sans',\n",
              " 'Liberation Sans Narrow',\n",
              " 'Liberation Mono',\n",
              " 'DejaVu Serif',\n",
              " 'NanumGothic',\n",
              " 'DejaVu Sans Mono',\n",
              " 'Liberation Serif',\n",
              " 'DejaVu Sans',\n",
              " 'Liberation Serif']"
            ]
          },
          "metadata": {},
          "execution_count": 6
        }
      ]
    },
    {
      "cell_type": "code",
      "source": [
        "import tensorflow as tf\n",
        "import numpy as np\n",
        "\n",
        "from sklearn.model_selection import train_test_split\n",
        "import matplotlib.ticker as ticker\n",
        "import matplotlib.pyplot as plt\n",
        "\n",
        "import time\n",
        "import re\n",
        "import os\n",
        "import io"
      ],
      "metadata": {
        "id": "gZn2rLv4EX-4"
      },
      "execution_count": 7,
      "outputs": []
    },
    {
      "cell_type": "code",
      "source": [
        "!apt -qq -y install fonts-nanum > /dev/null\n",
        "\n",
        "import matplotlib.font_manager as fm\n",
        "\n",
        "fontpath = '/usr/share/fonts/truetype/nanum/NanumBarunGothic.ttf'\n",
        "\n",
        "font = fm.FontProperties(fname=fontpath, size=9)\n",
        "\n",
        "fm._rebuild()\n",
        "\n",
        "# 그래프에 retina display 적용\n",
        "\n",
        "%config InlineBackend.figure_format = 'retina'\n",
        "\n",
        "# Colab 의 한글 폰트 설정\n",
        "\n",
        "plt.rc('font', family='NanumBarunGothic') "
      ],
      "metadata": {
        "colab": {
          "base_uri": "https://localhost:8080/"
        },
        "id": "01o-vVxAnUIq",
        "outputId": "8eda1785-2359-4e8f-bc10-c3834c352581"
      },
      "execution_count": 8,
      "outputs": [
        {
          "output_type": "stream",
          "name": "stdout",
          "text": [
            "\n",
            "WARNING: apt does not have a stable CLI interface. Use with caution in scripts.\n",
            "\n"
          ]
        }
      ]
    },
    {
      "cell_type": "code",
      "source": [
        "from tensorflow import keras\n",
        "import konlpy\n",
        "from konlpy.tag import Mecab\n",
        "from tensorflow.keras.preprocessing.sequence import pad_sequences\n",
        "from tensorflow.keras.preprocessing.text import Tokenizer"
      ],
      "metadata": {
        "id": "OGLOKJVlKdsK"
      },
      "execution_count": 9,
      "outputs": []
    },
    {
      "cell_type": "markdown",
      "source": [
        "# 1. 데이터 불러오기"
      ],
      "metadata": {
        "id": "qsorRGNVoecE"
      }
    },
    {
      "cell_type": "markdown",
      "source": [
        "## ⓐ 리눅스 사용 (wget, tar)"
      ],
      "metadata": {
        "id": "pUrmOFdlpDIN"
      }
    },
    {
      "cell_type": "markdown",
      "source": [
        "- wget 웹주소 -P 로컬폴더\n",
        "- wget -P 로컬폴더 웹주소\n",
        "- tar xvzf /경로/압축파일.tar.gz -C /원하는위치"
      ],
      "metadata": {
        "id": "vMU1MYB6omFL"
      }
    },
    {
      "cell_type": "code",
      "source": [
        "# !wget https://github.com/jungyeul/korean-parallel-corpora/raw/master/korean-english-news-v1/korean-english-park.train.tar.gz -P /content/sample_data"
      ],
      "metadata": {
        "id": "_G65aSB_pV03"
      },
      "execution_count": 10,
      "outputs": []
    },
    {
      "cell_type": "code",
      "source": [
        "# !wget https://github.com/jungyeul/korean-parallel-corpora/raw/master/korean-english-news-v1/korean-english-park.train.tar.gz"
      ],
      "metadata": {
        "id": "Kv5ncwvvnpXV"
      },
      "execution_count": 11,
      "outputs": []
    },
    {
      "cell_type": "code",
      "source": [
        "# !tar -zxvf korean-english-park.train.tar.gz -C /content/sample_data"
      ],
      "metadata": {
        "id": "xJ1Um-DanORl"
      },
      "execution_count": 12,
      "outputs": []
    },
    {
      "cell_type": "code",
      "source": [
        "# !tar -zxvf korean-english-park.train.tar.gz"
      ],
      "metadata": {
        "id": "FoIzksaHrFU6"
      },
      "execution_count": 13,
      "outputs": []
    },
    {
      "cell_type": "markdown",
      "source": [
        "## ⓑ 파이썬 내장 함수인 urllib을 사용하기"
      ],
      "metadata": {
        "id": "i-JkU6nNrRcW"
      }
    },
    {
      "cell_type": "markdown",
      "source": [
        ".tar.gz 파일은 TAR 패키징과 GNU zip(gzip) 압축의 조합으로 만들어집니다. 이러한 파일은 일반적으로 Unix/Linux 기반 시스템에서 패키지 또는 설치 프로그램으로 사용됩니다. 이 파일을 읽거나 추출하려면 먼저 이 파일의 압축을 풀고 TAR 유틸리티로 확장해야 합니다. 이 파일에는 .tar와 .gz 파일이 모두 포함되어 있기 때문입니다.\n",
        "\n",
        "파이썬을 사용하여 \".tar.gz\" 파일을 추출하거나 압축을 풀려면 파이썬에서 tarfile 모듈을 사용해야 합니다. 이 모듈은 .gz, .bz 압축 방법을 포함한 .tar 파일을 읽고 쓸 수 있습니다."
      ],
      "metadata": {
        "id": "tCogJwittx0i"
      }
    },
    {
      "cell_type": "markdown",
      "source": [
        "### urllib.request\n",
        "- urllib.request는 데이터를 전송할 때 인코딩을 해서 바이너리 형태로 전송한다.\n",
        "- 데이터의 상태에 따라서 get과 post 함수를 구분해서 전송한다.\n",
        "\n",
        "- [requests와 urllib.request 비교](https://incomeplus.tistory.com/254)"
      ],
      "metadata": {
        "id": "3RoJPIBx_fhv"
      }
    },
    {
      "cell_type": "markdown",
      "source": [
        "### url에서 파일 이름 추출할 때 사용하는 코드\n",
        "\n",
        "- filename = URL.split('/')[-1]\n",
        "- img_name = os.path.basename(URL)\n",
        "\n",
        "URL ex: \"https://github.com/jungyeul/korean-parallel-corpora/tree/master/korean-english-news-v1/korean-english-park.train.tar.gz\""
      ],
      "metadata": {
        "id": "vZZOI_VNy_rI"
      }
    },
    {
      "cell_type": "code",
      "source": [
        "# import tarfile\n",
        "# import urllib\n",
        "# from urllib import request"
      ],
      "metadata": {
        "id": "fWtqt4qR-KY7"
      },
      "execution_count": 14,
      "outputs": []
    },
    {
      "cell_type": "code",
      "source": [
        "# URL = \"https://github.com/jungyeul/korean-parallel-corpora/tree/master/korean-english-news-v1/korean-english-park.train.tar.gz\"\n",
        "# download_filename = os.path.basename(URL)"
      ],
      "metadata": {
        "id": "vzxBsH7B9lZx"
      },
      "execution_count": 15,
      "outputs": []
    },
    {
      "cell_type": "code",
      "source": [
        "# print(download_filename)"
      ],
      "metadata": {
        "id": "XIiSl7oe95VT"
      },
      "execution_count": 16,
      "outputs": []
    },
    {
      "cell_type": "code",
      "source": [
        "# urllib.request.urlretrieve(URL, download_filename)"
      ],
      "metadata": {
        "id": "HBG0qCd195PC"
      },
      "execution_count": 17,
      "outputs": []
    },
    {
      "cell_type": "markdown",
      "source": [
        "file could not be opened successfully 문제 발생, 원본파일이 변하기 때문으로 예상함"
      ],
      "metadata": {
        "id": "7oZergoy-IvH"
      }
    },
    {
      "cell_type": "code",
      "source": [
        "# DOWNLOAD_ROOT = \"https://github.com/jungyeul/korean-parallel-corpora/tree/master/korean-english-news-v1/\"\n",
        "# KO_EN_TRAIN_URL = DOWNLOAD_ROOT + \"korean-english-park.train.tar.gz\"\n",
        "# NAME = \"korean-english-park.train\"+\".tar.gz\"\n",
        "# KO = \"/content/drive/MyDrive/Going_Deeper_NLP_BS/Going_Deeper_NLP_BS_sub\"\n",
        "\n",
        "# KO_EN_PATH = os.path.join(KO,\"Seq2Seq\")"
      ],
      "metadata": {
        "id": "UaPPyV2t_k3v"
      },
      "execution_count": 18,
      "outputs": []
    },
    {
      "cell_type": "code",
      "source": [
        "# def fetch_KO_EN_data(ko_en_train=KO_EN_TRAIN_URL, ko_en_path=KO_EN_PATH):\n",
        "#   if not os.path.isdir(ko_en_path):\n",
        "#     os.makedirs(ko_en_path)\n",
        "#   for filename, url in (\"korean-english-park.train.tar.gz\",ko_en_train):\n",
        "#     path = os.path.join(ko_en_path, filename)\n",
        "#     if not os.path.isfile(path):\n",
        "#       urllib.request.urlretrieve(url, path)\n",
        "\n",
        "#     tar_gz_file = tarfile.open(path)\n",
        "#     tar_gz_file.extractall(path=KO_EN_PATH)\n",
        "#     tar_gz_file.close()"
      ],
      "metadata": {
        "id": "iwS3hJGF_lKn"
      },
      "execution_count": 19,
      "outputs": []
    },
    {
      "cell_type": "markdown",
      "source": [
        "## ⓒ 케라스(Keras)의 get_file 함수"
      ],
      "metadata": {
        "id": "FtRkdxw5x5Q7"
      }
    },
    {
      "cell_type": "code",
      "source": [
        "path_to_zip = tf.keras.utils.get_file(\n",
        "'korean-english-park.train.tar.gz',\n",
        "origin='https://github.com/jungyeul/korean-parallel-corpora/raw/master/korean-english-news-v1/korean-english-park.train.tar.gz',\n",
        "extract=True)\n",
        "\n",
        "print(path_to_zip)\n",
        "path_to_file_ko = os.path.dirname(path_to_zip)+\"/korean-english-park.train.ko\"\n",
        "with open(path_to_file_ko, \"r\") as f:\n",
        "  raw_kor = f.read().splitlines()\n",
        "\n",
        "print(\"Korean Data Size:\", len(raw_kor))\n",
        "print(\"Example:\")\n",
        "\n",
        "for sen in raw_kor[0:100][::20]: print(\">>\", sen)"
      ],
      "metadata": {
        "colab": {
          "base_uri": "https://localhost:8080/"
        },
        "id": "kGW-X_Hlomak",
        "outputId": "0e5887d3-0137-45c0-cae1-01f1cc5852ba"
      },
      "execution_count": 20,
      "outputs": [
        {
          "output_type": "stream",
          "name": "stdout",
          "text": [
            "/root/.keras/datasets/korean-english-park.train.tar.gz\n",
            "Korean Data Size: 94123\n",
            "Example:\n",
            ">> 개인용 컴퓨터 사용의 상당 부분은 \"이것보다 뛰어날 수 있느냐?\"\n",
            ">> 북한의 핵무기 계획을 포기하도록 하려는 압력이 거세지고 있는 가운데, 일본과 북한의 외교관들이 외교 관계를 정상화하려는 회담을 재개했다.\n",
            ">> \"경호 로보트가 침입자나 화재를 탐지하기 위해서 개인적으로, 그리고 전문적으로 사용되고 있습니다.\"\n",
            ">> 수자원부 당국은 논란이 되고 있고, 막대한 비용이 드는 이 사업에 대해 내년에 건설을 시작할 계획이다.\n",
            ">> 또한 근력 운동은 활발하게 걷는 것이나 최소한 20분 동안 뛰는 것과 같은 유산소 활동에서 얻는 운동 효과를 심장과 폐에 주지 않기 때문에, 연구학자들은 근력 운동이 심장에 큰 영향을 미치는지 여부에 대해 논쟁을 해왔다.\n"
          ]
        }
      ]
    },
    {
      "cell_type": "code",
      "source": [
        "path_to_file_en = os.path.dirname(path_to_zip)+\"/korean-english-park.train.en\"\n",
        "with open(path_to_file_en, \"r\") as f:\n",
        "  raw_en = f.read().splitlines()\n",
        "\n",
        "print(\"English Data Size:\", len(raw_kor))\n",
        "print(\"Example:\")\n",
        "\n",
        "for sen in raw_en[0:100][::20]: print(\">>\", sen)"
      ],
      "metadata": {
        "colab": {
          "base_uri": "https://localhost:8080/"
        },
        "id": "FwPZSy0nGbv4",
        "outputId": "5ba2e4e1-ebe8-4ccb-ffec-7b87b5c68aa1"
      },
      "execution_count": 21,
      "outputs": [
        {
          "output_type": "stream",
          "name": "stdout",
          "text": [
            "English Data Size: 94123\n",
            "Example:\n",
            ">> Much of personal computing is about \"can you top this?\"\n",
            ">> Amid mounting pressure on North Korea to abandon its nuclear weapons program Japanese and North Korean diplomats have resumed talks on normalizing diplomatic relations.\n",
            ">> “Guard robots are used privately and professionally to detect intruders or fire,” Karlsson said.\n",
            ">> Authorities from the Water Resources Ministry plan to begin construction next year on the controversial and hugely expensive project.\n",
            ">> Researchers also have debated whether weight-training has a big impact on the heart, since it does not give the heart and lungs the kind of workout they get from aerobic activities such as brisk walking or running for at least 20 minutes.\n"
          ]
        }
      ]
    },
    {
      "cell_type": "code",
      "source": [
        "data_ko_en = zip(raw_kor, raw_en)\n",
        "cleaned_corpus = set(data_ko_en)\n",
        "print(\"중복을 제거한 데이터 개수는 {}개 입니다.\".format(len(cleaned_corpus)))"
      ],
      "metadata": {
        "colab": {
          "base_uri": "https://localhost:8080/"
        },
        "id": "YkdxflH2HC9k",
        "outputId": "031f4808-f31a-4893-aa4f-0c9f34360da0"
      },
      "execution_count": 22,
      "outputs": [
        {
          "output_type": "stream",
          "name": "stdout",
          "text": [
            "중복을 제거한 데이터 개수는 78968개 입니다.\n"
          ]
        }
      ]
    },
    {
      "cell_type": "markdown",
      "source": [
        "### Mecap을 문자열로 만들어서 토큰화 시켜야 하는가?"
      ],
      "metadata": {
        "id": "IKT1pI1oSDdd"
      }
    },
    {
      "cell_type": "code",
      "source": [
        "corpus = list(cleaned_corpus)"
      ],
      "metadata": {
        "id": "8Sggq3-7M6vn"
      },
      "execution_count": 23,
      "outputs": []
    },
    {
      "cell_type": "code",
      "source": [
        "corpus[1][0]"
      ],
      "metadata": {
        "colab": {
          "base_uri": "https://localhost:8080/",
          "height": 0
        },
        "id": "FZTqxx9oNGxT",
        "outputId": "0d397d5e-8a0f-4c32-eda0-9f9b2dd4e0e0"
      },
      "execution_count": 24,
      "outputs": [
        {
          "output_type": "execute_result",
          "data": {
            "text/plain": [
              "'한편 호주의 S&P/ASX 200 지수는 은행들의 실적 부진 소식이 알려지면서 0.5% 하락했다.'"
            ],
            "application/vnd.google.colaboratory.intrinsic+json": {
              "type": "string"
            }
          },
          "metadata": {},
          "execution_count": 24
        }
      ]
    },
    {
      "cell_type": "code",
      "source": [
        "a = ['a', 'z', 'a', 'g', 'a', 'd']\n",
        "b = \" \".join(a)\n",
        "b"
      ],
      "metadata": {
        "colab": {
          "base_uri": "https://localhost:8080/",
          "height": 0
        },
        "id": "_nudanpVKHll",
        "outputId": "78d53ca8-e478-4b65-9574-771b9cceaeb1"
      },
      "execution_count": 25,
      "outputs": [
        {
          "output_type": "execute_result",
          "data": {
            "text/plain": [
              "'a z a g a d'"
            ],
            "application/vnd.google.colaboratory.intrinsic+json": {
              "type": "string"
            }
          },
          "metadata": {},
          "execution_count": 25
        }
      ]
    },
    {
      "cell_type": "code",
      "source": [
        "mecab = Mecab()\n",
        "morph = mecab.morphs(corpus[1][0])\n",
        "a = [\" \".join(morph)]"
      ],
      "metadata": {
        "id": "dkL8v-BpNVsv"
      },
      "execution_count": 26,
      "outputs": []
    },
    {
      "cell_type": "code",
      "source": [
        "a"
      ],
      "metadata": {
        "colab": {
          "base_uri": "https://localhost:8080/"
        },
        "id": "T2PoViw7Nm57",
        "outputId": "9386cff0-1930-4446-8f35-ba91f98906e8"
      },
      "execution_count": 27,
      "outputs": [
        {
          "output_type": "execute_result",
          "data": {
            "text/plain": [
              "['한편 호주 의 S & P / ASX 200 지수 는 은행 들 의 실적 부진 소식 이 알려 지 면서 0 . 5 % 하락 했 다 .']"
            ]
          },
          "metadata": {},
          "execution_count": 27
        }
      ]
    },
    {
      "cell_type": "code",
      "source": [
        "for sen in [corpus[1][0]]:\n",
        "  print(sen)"
      ],
      "metadata": {
        "colab": {
          "base_uri": "https://localhost:8080/"
        },
        "id": "nROioTKjOpKf",
        "outputId": "c5beeb59-6057-4d9a-9b71-00dc1faf491e"
      },
      "execution_count": 28,
      "outputs": [
        {
          "output_type": "stream",
          "name": "stdout",
          "text": [
            "한편 호주의 S&P/ASX 200 지수는 은행들의 실적 부진 소식이 알려지면서 0.5% 하락했다.\n"
          ]
        }
      ]
    },
    {
      "cell_type": "code",
      "source": [
        "mecab = Mecab()\n",
        "morph = [\" \".join(mecab.morphs(sen)) for sen in [corpus[0][0]]]\n",
        "morph"
      ],
      "metadata": {
        "colab": {
          "base_uri": "https://localhost:8080/"
        },
        "id": "hNjpZaCIMyxZ",
        "outputId": "4f808cbd-2c6b-4306-97c9-a8b20f5599eb"
      },
      "execution_count": 29,
      "outputs": [
        {
          "output_type": "execute_result",
          "data": {
            "text/plain": [
              "['북한 은 개성 과 신의주 간 철도 를 다시 연결 하 고 보수 하 는 것 에 대한 회담 준비 에 더 많 은 시간 이 필요 하 다고 밝혔 다 .']"
            ]
          },
          "metadata": {},
          "execution_count": 29
        }
      ]
    },
    {
      "cell_type": "code",
      "source": [
        "tokenizer = tf.keras.preprocessing.text.Tokenizer(filters='')\n",
        "tokenizer.fit_on_texts(morph)"
      ],
      "metadata": {
        "id": "J2RWlKvSQKeh"
      },
      "execution_count": 30,
      "outputs": []
    },
    {
      "cell_type": "code",
      "source": [
        "tokenizer.index_word"
      ],
      "metadata": {
        "colab": {
          "base_uri": "https://localhost:8080/"
        },
        "id": "Pi_zImF9QZa7",
        "outputId": "0e0d621e-296f-44ca-8053-252f03c0dac0"
      },
      "execution_count": 31,
      "outputs": [
        {
          "output_type": "execute_result",
          "data": {
            "text/plain": [
              "{1: '하',\n",
              " 2: '은',\n",
              " 3: '에',\n",
              " 4: '북한',\n",
              " 5: '개성',\n",
              " 6: '과',\n",
              " 7: '신의주',\n",
              " 8: '간',\n",
              " 9: '철도',\n",
              " 10: '를',\n",
              " 11: '다시',\n",
              " 12: '연결',\n",
              " 13: '고',\n",
              " 14: '보수',\n",
              " 15: '는',\n",
              " 16: '것',\n",
              " 17: '대한',\n",
              " 18: '회담',\n",
              " 19: '준비',\n",
              " 20: '더',\n",
              " 21: '많',\n",
              " 22: '시간',\n",
              " 23: '이',\n",
              " 24: '필요',\n",
              " 25: '다고',\n",
              " 26: '밝혔',\n",
              " 27: '다',\n",
              " 28: '.'}"
            ]
          },
          "metadata": {},
          "execution_count": 31
        }
      ]
    },
    {
      "cell_type": "code",
      "source": [
        "mecab = Mecab()\n",
        "morph = mecab.morphs(corpus[0][0])\n",
        "tokenizer = tf.keras.preprocessing.text.Tokenizer(filters='')\n",
        "tokenizer.fit_on_texts(morph)\n",
        "tokenizer.index_word"
      ],
      "metadata": {
        "colab": {
          "base_uri": "https://localhost:8080/"
        },
        "id": "0j3dWgZeRWgs",
        "outputId": "5af4ff1f-a7f7-40f3-c945-c10d1e2fe94c"
      },
      "execution_count": 32,
      "outputs": [
        {
          "output_type": "execute_result",
          "data": {
            "text/plain": [
              "{1: '하',\n",
              " 2: '은',\n",
              " 3: '에',\n",
              " 4: '북한',\n",
              " 5: '개성',\n",
              " 6: '과',\n",
              " 7: '신의주',\n",
              " 8: '간',\n",
              " 9: '철도',\n",
              " 10: '를',\n",
              " 11: '다시',\n",
              " 12: '연결',\n",
              " 13: '고',\n",
              " 14: '보수',\n",
              " 15: '는',\n",
              " 16: '것',\n",
              " 17: '대한',\n",
              " 18: '회담',\n",
              " 19: '준비',\n",
              " 20: '더',\n",
              " 21: '많',\n",
              " 22: '시간',\n",
              " 23: '이',\n",
              " 24: '필요',\n",
              " 25: '다고',\n",
              " 26: '밝혔',\n",
              " 27: '다',\n",
              " 28: '.'}"
            ]
          },
          "metadata": {},
          "execution_count": 32
        }
      ]
    },
    {
      "cell_type": "markdown",
      "source": [
        "결론: mecab을 사용한 후 문자열로 바꿔서 토큰화하는 것과 바로 토큰화하는 것은 차이가 없다. 고로, 문자열로 바꾸는 처리는 필요하지않습니다."
      ],
      "metadata": {
        "id": "gzrmoCBsSRRL"
      }
    },
    {
      "cell_type": "markdown",
      "source": [
        "# 2. 데이터 전처리\n",
        "\n",
        "정규표현식을 사용해 특수문자 제거"
      ],
      "metadata": {
        "id": "EQLHHnigFCnf"
      }
    },
    {
      "cell_type": "markdown",
      "source": [
        "전처리 과정에서 문장의 시작 문자 `<start>`, 종료 문자 `<end>` 를 붙여주게 됩니다. 이 작업은 Encoder에 들어갈 입력 문장의 전처리에는 굳이 필요하지 않지만, Decoder의 입력 문장과 라벨로 사용할 출력 문장에는 꼭 필요하게 됩니다. 이전 렉처 노드에서 살펴보았듯, Decoder는 첫 입력으로 사용할 시작 토큰과 문장생성 종료를 알리는 끝 토큰이 반드시 필요하기 때문입니다."
      ],
      "metadata": {
        "id": "Kuwa6LrsjYxM"
      }
    },
    {
      "cell_type": "code",
      "source": [
        "corpus = list(cleaned_corpus)\n",
        "mecab = Mecab()"
      ],
      "metadata": {
        "id": "1A2ufl7xkhih"
      },
      "execution_count": 33,
      "outputs": []
    },
    {
      "cell_type": "code",
      "source": [
        "corpus[0:10]"
      ],
      "metadata": {
        "colab": {
          "base_uri": "https://localhost:8080/"
        },
        "id": "z5-XcZStsME8",
        "outputId": "4d50da61-e0b6-41e1-a03e-ef2235bdd12f"
      },
      "execution_count": 34,
      "outputs": [
        {
          "output_type": "execute_result",
          "data": {
            "text/plain": [
              "[('북한은 개성과 신의주 간 철도를 다시 연결하고 보수하는 것에 대한 회담 준비에 더 많은 시간이 필요하다고 밝혔다.',\n",
              "  'North Korea said it needed more time to prepare for the talks about reconnecting and repairing railway routes between Kaesong and Shinuiju.'),\n",
              " ('한편 호주의 S&P/ASX 200 지수는 은행들의 실적 부진 소식이 알려지면서 0.5% 하락했다.',\n",
              "  \"Australia's key S&P/ASX 200 index eased 0.5 percent, dragged down by weakness in the major banks.\"),\n",
              " ('탄저병을 흡입하는 경우는 매우 드물며 전염성 병은 아니다.',\n",
              "  'Anthrax inhalation is very rare, and is not contagious.'),\n",
              " ('이번 첫 여성 법무부 장관의 경질은 검찰 개혁을 포함해 정책 다수에 있어 충돌을 빚어왔던 검찰 측 및 언론에 충격으로 다가왔다.',\n",
              "  '\"\" The sacking of the nation\\'s first female justice minister came as a shock to the media and the prosecution with whom the nation\\'s first female minister has had a rift over a number of policy issues including the scope of reform measures.'),\n",
              " ('네바다 경찰은 비디오에 잡힌 3세 여아 성폭행 혐의로 수배중인 용의자가 검거됐다고 밝혔다.',\n",
              "  '(CNN) A man wanted in the videotaped sexual assault of a 3-year-old girl has been arrested, according to police in Nevada.'),\n",
              " ('원문 & 독해설명 인쇄', 'It was originally scheduled for this week.'),\n",
              " ('이번 폭설로 학교, 관공서는 문을 닫고 주요 도로는 폐쇄됐으며 국내외 비행편은 결항됐다.',\n",
              "  'The storm forced schools and government offices to close, blocking major roads and leading to the cancellation of all domestic and international flights.'),\n",
              " ('한자사전', 'Chinese Embassy warns Rep.'),\n",
              " ('아마디네자드 대통령은 이어 누리 알 말리키 이라크 총리와도 회담을 가졌다.',\n",
              "  'Later in the day, Ahmadinejad met Iraqi Prime Minister Nuri al-Maliki.'),\n",
              " ('미군측은 대통령 직속 동북아시대위원회 위원장인 문정인 연세대 교수가 반미시위와 같은 국내 일부 집단의 행동이 미국의 주한 미군 감축 계획을 부추겼다는 발언을 하자 이와같이 입장을 표명했다.',\n",
              "  'The remark came after Yonsei University professor Moon Chung-in, head of the Presidential Committee on Northeast Asian Cooperation Initiative, said last Friday that acts on Korea’s part, like anti-American demonstrations, had prompted the U.S. to speed up the reduction plan.')]"
            ]
          },
          "metadata": {},
          "execution_count": 34
        }
      ]
    },
    {
      "cell_type": "code",
      "source": [
        "def preprocess_sentence(sentence, token=False):\n",
        "    sentence = sentence.lower().strip()\n",
        "\n",
        "    sentence = re.sub(r\"([?.!,])\", r\" \\1 \", sentence)\n",
        "    sentence = re.sub(r'[\" \"]+', \" \", sentence)\n",
        "    sentence = re.sub(r\"[^a-zA-Z?.!,가-힣ㄱ-ㅎㅏ-ㅣ]+\", \" \", sentence)\n",
        "\n",
        "    sentence = sentence.strip()\n",
        "\n",
        "    if token:\n",
        "      sentence = '<start> ' + sentence + ' <end>'\n",
        "\n",
        "    if token == False:\n",
        "      sentence = mecab.morphs(sentence)\n",
        "      \n",
        "    return sentence"
      ],
      "metadata": {
        "id": "TuYrJ4JtpJgg"
      },
      "execution_count": 35,
      "outputs": []
    },
    {
      "cell_type": "code",
      "source": [
        "preprocess_sentence(corpus[0][0])"
      ],
      "metadata": {
        "colab": {
          "base_uri": "https://localhost:8080/"
        },
        "id": "5d3Qv7UmpdQ0",
        "outputId": "f597943a-c0ab-4e83-86ea-787cca8d29ce"
      },
      "execution_count": 36,
      "outputs": [
        {
          "output_type": "execute_result",
          "data": {
            "text/plain": [
              "['북한',\n",
              " '은',\n",
              " '개성',\n",
              " '과',\n",
              " '신의주',\n",
              " '간',\n",
              " '철도',\n",
              " '를',\n",
              " '다시',\n",
              " '연결',\n",
              " '하',\n",
              " '고',\n",
              " '보수',\n",
              " '하',\n",
              " '는',\n",
              " '것',\n",
              " '에',\n",
              " '대한',\n",
              " '회담',\n",
              " '준비',\n",
              " '에',\n",
              " '더',\n",
              " '많',\n",
              " '은',\n",
              " '시간',\n",
              " '이',\n",
              " '필요',\n",
              " '하',\n",
              " '다고',\n",
              " '밝혔',\n",
              " '다',\n",
              " '.']"
            ]
          },
          "metadata": {},
          "execution_count": 36
        }
      ]
    },
    {
      "cell_type": "code",
      "source": [
        "preprocess_sentence(corpus[0][1], token=True)"
      ],
      "metadata": {
        "colab": {
          "base_uri": "https://localhost:8080/",
          "height": 35
        },
        "id": "meuclM4KpkVi",
        "outputId": "8116ed31-9418-422c-f60b-6f084bffb4d6"
      },
      "execution_count": 37,
      "outputs": [
        {
          "output_type": "execute_result",
          "data": {
            "text/plain": [
              "'<start> north korea said it needed more time to prepare for the talks about reconnecting and repairing railway routes between kaesong and shinuiju . <end>'"
            ],
            "application/vnd.google.colaboratory.intrinsic+json": {
              "type": "string"
            }
          },
          "metadata": {},
          "execution_count": 37
        }
      ]
    },
    {
      "cell_type": "code",
      "source": [
        "enc_corpus = []\n",
        "dec_corpus = []\n",
        "\n",
        "for kor, eng in cleaned_corpus:\n",
        "    ko_corpus = preprocess_sentence(kor)\n",
        "    en_corpus = preprocess_sentence(eng, token=True)\n",
        "    if len(ko_corpus) <= 40:\n",
        "      enc_corpus.append(ko_corpus)\n",
        "      dec_corpus.append(en_corpus)\n",
        "\n",
        "print(\"Korean:\", enc_corpus[100])   # go away !\n",
        "print(\"English:\", dec_corpus[100])   # <start> salga de aqu ! <end>"
      ],
      "metadata": {
        "colab": {
          "base_uri": "https://localhost:8080/"
        },
        "id": "jCWDmmVwzN72",
        "outputId": "0efb9922-6f82-4b88-c9a4-1b8d661ced5f"
      },
      "execution_count": 38,
      "outputs": [
        {
          "output_type": "stream",
          "name": "stdout",
          "text": [
            "Korean: ['년', '전', '오늘', ',', '쓰', '나미', '가', '인도', '양', '의', '개국', '을', '강타', '하', '면서', ',', '명', '이', '사망', '했', '습니다', '.']\n",
            "English: <start> four years ago today , , people were killed when tsunami slammed into a dozen countries along the indian ocean . <end>\n"
          ]
        }
      ]
    },
    {
      "cell_type": "markdown",
      "source": [
        "한국어 파일에 영문에서 한국어로 해석할 수 없는 단어는 영어로 그대로 표기해놓아서 한영혼용체가 일부 섞여있었다."
      ],
      "metadata": {
        "id": "wbEWEgZD0PRw"
      }
    },
    {
      "cell_type": "code",
      "source": [
        "print(\"Korean:\", enc_corpus[90]) \n",
        "print(\"English:\", dec_corpus[90])"
      ],
      "metadata": {
        "colab": {
          "base_uri": "https://localhost:8080/"
        },
        "id": "62GKsyXVo59B",
        "outputId": "aed4c7e7-55ab-4ecf-f547-1d36e92d2b08"
      },
      "execution_count": 39,
      "outputs": [
        {
          "output_type": "stream",
          "name": "stdout",
          "text": [
            "Korean: ['한편', '플로리다', '플라이', '머리', '가', '끝난', '후', '사퇴', '의사', '를', '밝힌', '루디', '줄리아니', '전', '뉴욕', '시장', '은', '매케인', '에', '대한', '지지', '를', '선언', '했', '다', '.']\n",
            "English: <start> former new york mayor rudy giuliani dropped out of the race and endorsed mccain hours before the debate began . <end>\n"
          ]
        }
      ]
    },
    {
      "cell_type": "code",
      "source": [
        "print(\"enc_corpus 안에 있는 문장 개수:{}개\".format(len(enc_corpus)))\n",
        "print(\"dec_corpus 안에 있는 문장 개수:{}개\".format(len(dec_corpus)))"
      ],
      "metadata": {
        "colab": {
          "base_uri": "https://localhost:8080/"
        },
        "id": "c5otZbA8FbOt",
        "outputId": "0af56120-938b-4f48-fd07-2499c35f0fce"
      },
      "execution_count": 40,
      "outputs": [
        {
          "output_type": "stream",
          "name": "stdout",
          "text": [
            "enc_corpus 안에 있는 문장 개수:66483개\n",
            "dec_corpus 안에 있는 문장 개수:66483개\n"
          ]
        }
      ]
    },
    {
      "cell_type": "markdown",
      "source": [
        "# 3. 토큰화"
      ],
      "metadata": {
        "id": "QUSb7xrmGx7e"
      }
    },
    {
      "cell_type": "code",
      "source": [
        "def tokenize(corpus):\n",
        "    tokenizer = tf.keras.preprocessing.text.Tokenizer(filters='')\n",
        "    tokenizer.fit_on_texts(corpus)\n",
        "\n",
        "    tensor = tokenizer.texts_to_sequences(corpus)\n",
        "\n",
        "    tensor = tf.keras.preprocessing.sequence.pad_sequences(tensor, padding='post')\n",
        "\n",
        "    return tensor, tokenizer"
      ],
      "metadata": {
        "id": "xuRxwBO0tlPr"
      },
      "execution_count": 41,
      "outputs": []
    },
    {
      "cell_type": "code",
      "source": [
        "enc_tensor, enc_tokenizer = tokenize(enc_corpus)\n",
        "dec_tensor, dec_tokenizer = tokenize(dec_corpus)\n",
        "\n",
        "# 훈련 데이터와 테스트 데이터로 분리하기\n",
        "enc_train, enc_test, dec_train, dec_test = \\\n",
        "train_test_split(enc_tensor, dec_tensor, test_size=0.2)\n",
        "\n",
        "print(\"Korean Vocab Size:\", len(enc_tokenizer.index_word))\n",
        "print(\"English Vocab Size:\", len(dec_tokenizer.index_word))"
      ],
      "metadata": {
        "colab": {
          "base_uri": "https://localhost:8080/"
        },
        "id": "EVK72UJ2uaHT",
        "outputId": "dd3d4263-b8cb-42f7-99f8-70042aa3977c"
      },
      "execution_count": 42,
      "outputs": [
        {
          "output_type": "stream",
          "name": "stdout",
          "text": [
            "Korean Vocab Size: 45423\n",
            "English Vocab Size: 39979\n"
          ]
        }
      ]
    },
    {
      "cell_type": "code",
      "source": [
        "enc_tensor"
      ],
      "metadata": {
        "colab": {
          "base_uri": "https://localhost:8080/"
        },
        "id": "jbvxi5R-wd-W",
        "outputId": "f9f9d66e-4a59-4f8f-9803-b1bbc95d658b"
      },
      "execution_count": 43,
      "outputs": [
        {
          "output_type": "execute_result",
          "data": {
            "text/plain": [
              "array([[   84,     7,  2996, ...,     0,     0,     0],\n",
              "       [   86,   347,     6, ...,     0,     0,     0],\n",
              "       [21345,     5,  8901, ...,     0,     0,     0],\n",
              "       ...,\n",
              "       [ 8790,     4,  6872, ...,     0,     0,     0],\n",
              "       [   86,   404,   358, ...,     0,     0,     0],\n",
              "       [14867,     7,  6846, ...,     0,     0,     0]], dtype=int32)"
            ]
          },
          "metadata": {},
          "execution_count": 43
        }
      ]
    },
    {
      "cell_type": "code",
      "source": [
        "dec_tensor"
      ],
      "metadata": {
        "colab": {
          "base_uri": "https://localhost:8080/"
        },
        "id": "r6P6ZyPlw-n7",
        "outputId": "e9b145d7-630d-4d5c-e016-6434347d5cab"
      },
      "execution_count": 44,
      "outputs": [
        {
          "output_type": "execute_result",
          "data": {
            "text/plain": [
              "array([[    4,    63,    51, ...,     0,     0,     0],\n",
              "       [    4,   680,    11, ...,     0,     0,     0],\n",
              "       [    4, 14305, 14306, ...,     0,     0,     0],\n",
              "       ...,\n",
              "       [    4,  9073,    16, ...,     0,     0,     0],\n",
              "       [    4,    49,  1238, ...,     0,     0,     0],\n",
              "       [    4,    36,   101, ...,     0,     0,     0]], dtype=int32)"
            ]
          },
          "metadata": {},
          "execution_count": 44
        }
      ]
    },
    {
      "cell_type": "code",
      "source": [
        "print(\"enc_tokenizer: \",end=\" \")\n",
        "for i in range(1,11):\n",
        "  print(enc_tokenizer.index_word[i],end=\" \")"
      ],
      "metadata": {
        "colab": {
          "base_uri": "https://localhost:8080/"
        },
        "id": "wJtYq-qhxmnq",
        "outputId": "11f8d2e9-60f9-4593-e5b5-34d13e6366da"
      },
      "execution_count": 45,
      "outputs": [
        {
          "output_type": "stream",
          "name": "stdout",
          "text": [
            "enc_tokenizer:  . 다 이 는 을 의 은 에 했 를 "
          ]
        }
      ]
    },
    {
      "cell_type": "code",
      "source": [
        "print(\"dec_tokenizer: \",end=\" \")\n",
        "for i in range(1,11):\n",
        "  print(dec_tokenizer.index_word[i],end=\" \")"
      ],
      "metadata": {
        "colab": {
          "base_uri": "https://localhost:8080/"
        },
        "id": "HEIaP8kUyCPp",
        "outputId": "a05acdb6-ce05-4ad8-ec27-c2bf6632d743"
      },
      "execution_count": 46,
      "outputs": [
        {
          "output_type": "stream",
          "name": "stdout",
          "text": [
            "dec_tokenizer:  the . , <start> <end> to of a in and "
          ]
        }
      ]
    },
    {
      "cell_type": "markdown",
      "source": [
        "# 4. 모델 설계하기"
      ],
      "metadata": {
        "id": "5YDKg_OzJI50"
      }
    },
    {
      "cell_type": "code",
      "source": [
        "class BahdanauAttention(tf.keras.layers.Layer):\n",
        "    def __init__(self, units):\n",
        "        super(BahdanauAttention, self).__init__()\n",
        "        self.w_dec = tf.keras.layers.Dense(units)\n",
        "        self.w_enc = tf.keras.layers.Dense(units)\n",
        "        self.w_com = tf.keras.layers.Dense(1)\n",
        "    \n",
        "    def call(self, h_enc, h_dec):\n",
        "        # h_enc shape: [batch x length x units]\n",
        "        # h_dec shape: [batch x units]\n",
        "\n",
        "        h_enc = self.w_enc(h_enc)\n",
        "        h_dec = tf.expand_dims(h_dec, 1)\n",
        "        h_dec = self.w_dec(h_dec)\n",
        "\n",
        "        score = self.w_com(tf.nn.tanh(h_dec + h_enc))\n",
        "        \n",
        "        attn = tf.nn.softmax(score, axis=1)\n",
        "\n",
        "        context_vec = attn * h_enc\n",
        "        context_vec = tf.reduce_sum(context_vec, axis=1)\n",
        "\n",
        "        return context_vec, attn"
      ],
      "metadata": {
        "id": "WHgs-hr_uebb"
      },
      "execution_count": 47,
      "outputs": []
    },
    {
      "cell_type": "code",
      "source": [
        "class Encoder(tf.keras.Model):\n",
        "    def __init__(self, vocab_size, embedding_dim, enc_units):\n",
        "        super(Encoder, self).__init__()\n",
        "        \n",
        "        self.enc_units = enc_units\n",
        "        self.embedding = tf.keras.layers.Embedding(vocab_size, embedding_dim)\n",
        "        self.gru = tf.keras.layers.GRU(enc_units,\n",
        "                                       return_sequences=True)\n",
        "        \n",
        "    def call(self, x):\n",
        "        out = self.embedding(x)\n",
        "        out = self.gru(out)\n",
        "        \n",
        "        return out"
      ],
      "metadata": {
        "id": "rwXxO8Gz-MZA"
      },
      "execution_count": 48,
      "outputs": []
    },
    {
      "cell_type": "code",
      "source": [
        "class Decoder(tf.keras.Model):\n",
        "    def __init__(self, vocab_size, embedding_dim, dec_units):\n",
        "        super(Decoder, self).__init__()\n",
        "        self.dec_units = dec_units\n",
        "        self.embedding = tf.keras.layers.Embedding(vocab_size, embedding_dim)\n",
        "        self.gru = tf.keras.layers.GRU(dec_units,\n",
        "                                       return_sequences=True,\n",
        "                                       return_state=True)\n",
        "        self.fc = tf.keras.layers.Dense(vocab_size)\n",
        "\n",
        "        self.attention = BahdanauAttention(self.dec_units)\n",
        "\n",
        "    def call(self, x, h_dec, enc_out):\n",
        "        context_vec, attn = self.attention(enc_out, h_dec)\n",
        "\n",
        "        out = self.embedding(x)\n",
        "        out = tf.concat([tf.expand_dims(context_vec, 1), out], axis=-1)\n",
        "        \n",
        "        out, h_dec = self.gru(out)\n",
        "        out = tf.reshape(out, (-1, out.shape[2]))\n",
        "        out = self.fc(out)\n",
        "\n",
        "        return out, h_dec, attn"
      ],
      "metadata": {
        "id": "B84RT10x-Oso"
      },
      "execution_count": 49,
      "outputs": []
    },
    {
      "cell_type": "code",
      "source": [
        "BATCH_SIZE     = 64\n",
        "SRC_VOCAB_SIZE = len(enc_tokenizer.index_word) + 1\n",
        "TGT_VOCAB_SIZE = len(dec_tokenizer.index_word) + 1\n",
        "\n",
        "units         = 128\n",
        "embedding_dim = 128\n",
        "\n",
        "encoder = Encoder(SRC_VOCAB_SIZE, embedding_dim, units)\n",
        "decoder = Decoder(TGT_VOCAB_SIZE, embedding_dim, units)\n",
        "\n",
        "# sample input\n",
        "sequence_len = 40\n",
        "\n",
        "sample_enc = tf.random.uniform((BATCH_SIZE, sequence_len))\n",
        "sample_output = encoder(sample_enc)\n",
        "\n",
        "print ('Encoder Output:', sample_output.shape)\n",
        "\n",
        "sample_state = tf.random.uniform((BATCH_SIZE, units))\n",
        "\n",
        "sample_logits, h_dec, attn = decoder(tf.random.uniform((BATCH_SIZE, 1)),\n",
        "                                     sample_state, sample_output)\n",
        "\n",
        "print ('Decoder Output:', sample_logits.shape)\n",
        "print ('Decoder Hidden State:', h_dec.shape)\n",
        "print ('Attention:', attn.shape)"
      ],
      "metadata": {
        "colab": {
          "base_uri": "https://localhost:8080/"
        },
        "id": "LO8S97IYGT8E",
        "outputId": "aa1c7998-57d5-4c09-be73-d971dddd02d1"
      },
      "execution_count": 50,
      "outputs": [
        {
          "output_type": "stream",
          "name": "stdout",
          "text": [
            "Encoder Output: (64, 40, 128)\n",
            "Decoder Output: (64, 39980)\n",
            "Decoder Hidden State: (64, 128)\n",
            "Attention: (64, 40, 1)\n"
          ]
        }
      ]
    },
    {
      "cell_type": "markdown",
      "source": [
        "# 5. 훈련하기"
      ],
      "metadata": {
        "id": "lvYAcKEgJOrS"
      }
    },
    {
      "cell_type": "markdown",
      "source": [
        "## Optimizer & Loss"
      ],
      "metadata": {
        "id": "iy3lad0lJW8Y"
      }
    },
    {
      "cell_type": "code",
      "source": [
        "optimizer = tf.keras.optimizers.Adam()\n",
        "loss_object = tf.keras.losses.SparseCategoricalCrossentropy(\n",
        "    from_logits=True, reduction='none')\n",
        "\n",
        "def loss_function(real, pred):\n",
        "    mask = tf.math.logical_not(tf.math.equal(real, 0))\n",
        "    loss = loss_object(real, pred)\n",
        "    \n",
        "    mask = tf.cast(mask, dtype=loss.dtype)\n",
        "    loss *= mask\n",
        "    \n",
        "    return tf.reduce_mean(loss)"
      ],
      "metadata": {
        "id": "JLelpCM0Gr7k"
      },
      "execution_count": 51,
      "outputs": []
    },
    {
      "cell_type": "markdown",
      "source": [
        "## train_step 구현"
      ],
      "metadata": {
        "id": "ePcmaZNfJZ3R"
      }
    },
    {
      "cell_type": "code",
      "source": [
        "@tf.function\n",
        "def train_step(src, tgt, encoder, decoder, optimizer, dec_tok):\n",
        "    bsz = src.shape[0]\n",
        "    loss = 0\n",
        "\n",
        "    with tf.GradientTape() as tape:\n",
        "        enc_out = encoder(src)\n",
        "        h_dec = enc_out[:, -1]\n",
        "        \n",
        "        dec_src = tf.expand_dims([dec_tok.word_index['<start>']] * bsz, 1)\n",
        "\n",
        "        for t in range(1, tgt.shape[1]):\n",
        "            pred, h_dec, _ = decoder(dec_src, h_dec, enc_out)\n",
        "\n",
        "            loss += loss_function(tgt[:, t], pred)\n",
        "            dec_src = tf.expand_dims(tgt[:, t], 1)\n",
        "        \n",
        "    batch_loss = (loss / int(tgt.shape[1]))\n",
        "\n",
        "    variables = encoder.trainable_variables + decoder.trainable_variables\n",
        "    gradients = tape.gradient(loss, variables)\n",
        "    optimizer.apply_gradients(zip(gradients, variables))\n",
        "    \n",
        "    return batch_loss"
      ],
      "metadata": {
        "id": "5oiSPKlVJUkO"
      },
      "execution_count": 52,
      "outputs": []
    },
    {
      "cell_type": "markdown",
      "source": [
        "## 훈련 시작하기"
      ],
      "metadata": {
        "id": "TtL1cM_sJfB2"
      }
    },
    {
      "cell_type": "code",
      "source": [
        "from tqdm import tqdm    # tqdm\n",
        "import random"
      ],
      "metadata": {
        "id": "ICx7Uwq5zGP_"
      },
      "execution_count": 53,
      "outputs": []
    },
    {
      "cell_type": "code",
      "source": [
        "@tf.function\n",
        "def eval_step(src, tgt, encoder, decoder, dec_tok):\n",
        "    bsz = src.shape[0]\n",
        "    loss = 0\n",
        "\n",
        "    enc_out = encoder(src)\n",
        "\n",
        "    h_dec = enc_out[:, -1]\n",
        "    \n",
        "    dec_src = tf.expand_dims([dec_tok.word_index['<start>']] * bsz, 1)\n",
        "\n",
        "    for t in range(1, tgt.shape[1]):\n",
        "        pred, h_dec, _ = decoder(dec_src, h_dec, enc_out)\n",
        "\n",
        "        loss += loss_function(tgt[:, t], pred)\n",
        "        dec_src = tf.expand_dims(tgt[:, t], 1)\n",
        "        \n",
        "    batch_loss = (loss / int(tgt.shape[1]))\n",
        "    \n",
        "    return batch_loss\n",
        "\n",
        "\n",
        "# Training Process\n",
        "\n",
        "from tqdm import tqdm\n",
        "\n",
        "EPOCHS = 30\n",
        "\n",
        "for epoch in range(EPOCHS):\n",
        "    total_loss = 0\n",
        "    \n",
        "    idx_list = list(range(0, enc_train.shape[0], BATCH_SIZE))\n",
        "    random.shuffle(idx_list)\n",
        "    t = tqdm(idx_list)\n",
        "\n",
        "    for (batch, idx) in enumerate(t):\n",
        "        batch_loss = train_step(enc_train[idx:idx+BATCH_SIZE],\n",
        "                                dec_train[idx:idx+BATCH_SIZE],\n",
        "                                encoder,\n",
        "                                decoder,\n",
        "                                optimizer,\n",
        "                                dec_tokenizer)\n",
        "    \n",
        "        total_loss += batch_loss\n",
        "        \n",
        "        t.set_description_str('Epoch %2d' % (epoch + 1))\n",
        "        t.set_postfix_str('Loss %.4f' % (total_loss.numpy() / (batch + 1)))\n",
        "    \n",
        "    test_loss = 0\n",
        "    \n",
        "    idx_list = list(range(0, enc_test.shape[0], BATCH_SIZE))\n",
        "    random.shuffle(idx_list)\n",
        "    t = tqdm(idx_list)\n",
        "\n",
        "    for (test_batch, idx) in enumerate(t):\n",
        "        test_batch_loss = eval_step(enc_test[idx:idx+BATCH_SIZE],\n",
        "                                    dec_test[idx:idx+BATCH_SIZE],\n",
        "                                    encoder,\n",
        "                                    decoder,\n",
        "                                    dec_tokenizer)\n",
        "    \n",
        "        test_loss += test_batch_loss\n",
        "\n",
        "        t.set_description_str('Test Epoch %2d' % (epoch + 1))\n",
        "        t.set_postfix_str('Test Loss %.4f' % (test_loss.numpy() / (test_batch + 1)))"
      ],
      "metadata": {
        "colab": {
          "base_uri": "https://localhost:8080/"
        },
        "id": "wzs8eKHaJr2N",
        "outputId": "64f73ebe-90d8-4e88-c906-c67b043c69db"
      },
      "execution_count": 54,
      "outputs": [
        {
          "output_type": "stream",
          "name": "stderr",
          "text": [
            "Epoch  1: 100%|██████████| 832/832 [05:48<00:00,  2.39it/s, Loss 1.9482]\n",
            "Test Epoch  1: 100%|██████████| 208/208 [01:19<00:00,  2.62it/s, Test Loss 1.9280]\n",
            "Epoch  2: 100%|██████████| 832/832 [03:16<00:00,  4.23it/s, Loss 1.9150]\n",
            "Test Epoch  2: 100%|██████████| 208/208 [00:21<00:00,  9.49it/s, Test Loss 1.9276]\n",
            "Epoch  3: 100%|██████████| 832/832 [03:17<00:00,  4.22it/s, Loss 1.9148]\n",
            "Test Epoch  3: 100%|██████████| 208/208 [00:21<00:00,  9.48it/s, Test Loss 1.9304]\n",
            "Epoch  4: 100%|██████████| 832/832 [03:16<00:00,  4.23it/s, Loss 1.9148]\n",
            "Test Epoch  4: 100%|██████████| 208/208 [00:21<00:00,  9.51it/s, Test Loss 1.9298]\n",
            "Epoch  5: 100%|██████████| 832/832 [03:17<00:00,  4.21it/s, Loss 1.7696]\n",
            "Test Epoch  5: 100%|██████████| 208/208 [00:21<00:00,  9.49it/s, Test Loss 1.6815]\n",
            "Epoch  6: 100%|██████████| 832/832 [03:17<00:00,  4.22it/s, Loss 1.6018]\n",
            "Test Epoch  6: 100%|██████████| 208/208 [00:21<00:00,  9.46it/s, Test Loss 1.5835]\n",
            "Epoch  7: 100%|██████████| 832/832 [03:17<00:00,  4.21it/s, Loss 1.5097]\n",
            "Test Epoch  7: 100%|██████████| 208/208 [00:21<00:00,  9.49it/s, Test Loss 1.5326]\n",
            "Epoch  8: 100%|██████████| 832/832 [03:17<00:00,  4.22it/s, Loss 1.4432]\n",
            "Test Epoch  8: 100%|██████████| 208/208 [00:21<00:00,  9.46it/s, Test Loss 1.4976]\n",
            "Epoch  9: 100%|██████████| 832/832 [03:16<00:00,  4.23it/s, Loss 1.3851]\n",
            "Test Epoch  9: 100%|██████████| 208/208 [00:21<00:00,  9.53it/s, Test Loss 1.4715]\n",
            "Epoch 10: 100%|██████████| 832/832 [03:16<00:00,  4.23it/s, Loss 1.3335]\n",
            "Test Epoch 10: 100%|██████████| 208/208 [00:21<00:00,  9.49it/s, Test Loss 1.4544]\n",
            "Epoch 11: 100%|██████████| 832/832 [03:16<00:00,  4.24it/s, Loss 1.2875]\n",
            "Test Epoch 11: 100%|██████████| 208/208 [00:21<00:00,  9.49it/s, Test Loss 1.4438]\n",
            "Epoch 12: 100%|██████████| 832/832 [03:16<00:00,  4.23it/s, Loss 1.2460]\n",
            "Test Epoch 12: 100%|██████████| 208/208 [00:21<00:00,  9.52it/s, Test Loss 1.4405]\n",
            "Epoch 13: 100%|██████████| 832/832 [03:16<00:00,  4.22it/s, Loss 1.2079]\n",
            "Test Epoch 13: 100%|██████████| 208/208 [00:21<00:00,  9.48it/s, Test Loss 1.4387]\n",
            "Epoch 14: 100%|██████████| 832/832 [03:16<00:00,  4.24it/s, Loss 1.1726]\n",
            "Test Epoch 14: 100%|██████████| 208/208 [00:21<00:00,  9.52it/s, Test Loss 1.4412]\n",
            "Epoch 15: 100%|██████████| 832/832 [03:16<00:00,  4.23it/s, Loss 1.1396]\n",
            "Test Epoch 15: 100%|██████████| 208/208 [00:21<00:00,  9.48it/s, Test Loss 1.4476]\n",
            "Epoch 16: 100%|██████████| 832/832 [03:16<00:00,  4.24it/s, Loss 1.1088]\n",
            "Test Epoch 16: 100%|██████████| 208/208 [00:21<00:00,  9.49it/s, Test Loss 1.4556]\n",
            "Epoch 17: 100%|██████████| 832/832 [03:16<00:00,  4.23it/s, Loss 1.0797]\n",
            "Test Epoch 17: 100%|██████████| 208/208 [00:22<00:00,  9.45it/s, Test Loss 1.4657]\n",
            "Epoch 18: 100%|██████████| 832/832 [03:16<00:00,  4.24it/s, Loss 1.0522]\n",
            "Test Epoch 18: 100%|██████████| 208/208 [00:21<00:00,  9.52it/s, Test Loss 1.4786]\n",
            "Epoch 19: 100%|██████████| 832/832 [03:15<00:00,  4.25it/s, Loss 1.0275]\n",
            "Test Epoch 19: 100%|██████████| 208/208 [00:21<00:00,  9.47it/s, Test Loss 1.4904]\n",
            "Epoch 20: 100%|██████████| 832/832 [03:16<00:00,  4.23it/s, Loss 1.0033]\n",
            "Test Epoch 20: 100%|██████████| 208/208 [00:21<00:00,  9.50it/s, Test Loss 1.5085]\n",
            "Epoch 21: 100%|██████████| 832/832 [03:15<00:00,  4.25it/s, Loss 0.9803]\n",
            "Test Epoch 21: 100%|██████████| 208/208 [00:21<00:00,  9.51it/s, Test Loss 1.5183]\n",
            "Epoch 22: 100%|██████████| 832/832 [03:16<00:00,  4.24it/s, Loss 0.9589]\n",
            "Test Epoch 22: 100%|██████████| 208/208 [00:21<00:00,  9.48it/s, Test Loss 1.5344]\n",
            "Epoch 23: 100%|██████████| 832/832 [03:16<00:00,  4.23it/s, Loss 0.9392]\n",
            "Test Epoch 23: 100%|██████████| 208/208 [00:22<00:00,  9.44it/s, Test Loss 1.5486]\n",
            "Epoch 24: 100%|██████████| 832/832 [03:16<00:00,  4.23it/s, Loss 0.9206]\n",
            "Test Epoch 24: 100%|██████████| 208/208 [00:21<00:00,  9.51it/s, Test Loss 1.5623]\n",
            "Epoch 25: 100%|██████████| 832/832 [03:16<00:00,  4.24it/s, Loss 0.9035]\n",
            "Test Epoch 25: 100%|██████████| 208/208 [00:21<00:00,  9.51it/s, Test Loss 1.5770]\n",
            "Epoch 26: 100%|██████████| 832/832 [03:15<00:00,  4.25it/s, Loss 0.8857]\n",
            "Test Epoch 26: 100%|██████████| 208/208 [00:21<00:00,  9.48it/s, Test Loss 1.5915]\n",
            "Epoch 27: 100%|██████████| 832/832 [03:16<00:00,  4.24it/s, Loss 0.8695]\n",
            "Test Epoch 27: 100%|██████████| 208/208 [00:21<00:00,  9.49it/s, Test Loss 1.6068]\n",
            "Epoch 28: 100%|██████████| 832/832 [03:16<00:00,  4.24it/s, Loss 0.8540]\n",
            "Test Epoch 28: 100%|██████████| 208/208 [00:21<00:00,  9.46it/s, Test Loss 1.6230]\n",
            "Epoch 29: 100%|██████████| 832/832 [03:17<00:00,  4.20it/s, Loss 0.8403]\n",
            "Test Epoch 29: 100%|██████████| 208/208 [00:21<00:00,  9.49it/s, Test Loss 1.6350]\n",
            "Epoch 30: 100%|██████████| 832/832 [03:17<00:00,  4.22it/s, Loss 0.8258]\n",
            "Test Epoch 30: 100%|██████████| 208/208 [00:21<00:00,  9.49it/s, Test Loss 1.6501]\n"
          ]
        }
      ]
    },
    {
      "cell_type": "code",
      "source": [
        "def evaluate(sentence, encoder, decoder):\n",
        "    attention = np.zeros((dec_train.shape[-1], enc_train.shape[-1]))\n",
        "    \n",
        "    sentence = preprocess_sentence(sentence)\n",
        "    inputs = enc_tokenizer.texts_to_sequences([sentence])\n",
        "    inputs = tf.keras.preprocessing.sequence.pad_sequences(inputs,\n",
        "                                                           maxlen=enc_train.shape[-1],\n",
        "                                                           padding='post')\n",
        "\n",
        "    result = ''\n",
        "\n",
        "    enc_out = encoder(inputs)\n",
        "\n",
        "    dec_hidden = enc_out[:, -1]\n",
        "    dec_input = tf.expand_dims([dec_tokenizer.word_index['<start>']], 0)\n",
        "\n",
        "    for t in range(dec_train.shape[-1]):\n",
        "        predictions, dec_hidden, attention_weights = decoder(dec_input,\n",
        "                                                             dec_hidden,\n",
        "                                                             enc_out)\n",
        "\n",
        "        attention_weights = tf.reshape(attention_weights, (-1, ))\n",
        "        attention[t] = attention_weights.numpy()\n",
        "\n",
        "        predicted_id = \\\n",
        "        tf.argmax(tf.math.softmax(predictions, axis=-1)[0]).numpy()\n",
        "        result += dec_tokenizer.index_word[predicted_id] + ' '\n",
        "        \n",
        "        if dec_tokenizer.index_word[predicted_id] == '<end>':\n",
        "            return result, sentence, attention\n",
        "\n",
        "        dec_input = tf.expand_dims([predicted_id], 0)\n",
        "\n",
        "    return result, sentence, attention\n",
        "\n",
        "\n",
        "def plot_attention(attention, sentence, predicted_sentence):\n",
        "    fig = plt.figure(figsize=(10,10))\n",
        "    ax = fig.add_subplot(1, 1, 1)\n",
        "    ax.matshow(attention, cmap='viridis')\n",
        "\n",
        "    fontdict = {'fontsize': 14}\n",
        "\n",
        "    ax.set_xticklabels([''] + sentence, fontdict=fontdict, rotation=90)\n",
        "    ax.set_yticklabels([''] + predicted_sentence, fontdict=fontdict)\n",
        "\n",
        "    ax.xaxis.set_major_locator(ticker.MultipleLocator(1))\n",
        "    ax.yaxis.set_major_locator(ticker.MultipleLocator(1))\n",
        "\n",
        "    plt.show()\n",
        "\n",
        "\n",
        "def translate(sentence, encoder, decoder):\n",
        "    result, sentence, attention = evaluate(sentence, encoder, decoder)\n",
        "\n",
        "    print('Input: %s' % (sentence))\n",
        "    print('Predicted translation: {}'.format(result))\n",
        "    \n",
        "    attention = attention[:len(result.split()), :len(sentence)]\n",
        "    plot_attention(attention, sentence, result.split(' '))"
      ],
      "metadata": {
        "id": "E4WpPHE8ogLI"
      },
      "execution_count": 70,
      "outputs": []
    },
    {
      "cell_type": "markdown",
      "source": [
        "앞에서 노드에서 진행했을 때랑 다르게 이번에는 형태소 분석기를 사용해서 list로 출력이 되므로 기존에 사용했던 split을 지웠습니다."
      ],
      "metadata": {
        "id": "RDqKvMBPbsZ_"
      }
    },
    {
      "cell_type": "code",
      "source": [
        "sentence = \"오바마는 대통령이다.\"\n",
        "sentence = preprocess_sentence(sentence)\n",
        "tests = enc_tokenizer.texts_to_sequences([sentence])\n",
        "tests"
      ],
      "metadata": {
        "colab": {
          "base_uri": "https://localhost:8080/"
        },
        "id": "FqiN-sq3WdZY",
        "outputId": "c3b11054-3e4c-4ae4-d0d5-f56a191c7bf2"
      },
      "execution_count": 71,
      "outputs": [
        {
          "output_type": "execute_result",
          "data": {
            "text/plain": [
              "[[112, 4, 47, 3, 2, 1]]"
            ]
          },
          "metadata": {},
          "execution_count": 71
        }
      ]
    },
    {
      "cell_type": "code",
      "source": [
        "sentence"
      ],
      "metadata": {
        "colab": {
          "base_uri": "https://localhost:8080/"
        },
        "id": "OC-w3cGecADS",
        "outputId": "213473fd-ec79-4483-ff44-8b8dcbc1a416"
      },
      "execution_count": 72,
      "outputs": [
        {
          "output_type": "execute_result",
          "data": {
            "text/plain": [
              "['오바마', '는', '대통령', '이', '다', '.']"
            ]
          },
          "metadata": {},
          "execution_count": 72
        }
      ]
    },
    {
      "cell_type": "code",
      "source": [
        "translate(\"오바마는 대통령이다.\", encoder, decoder)"
      ],
      "metadata": {
        "colab": {
          "base_uri": "https://localhost:8080/",
          "height": 660
        },
        "id": "QPZyTJD5sw39",
        "outputId": "8e7a3336-fb24-420e-daf0-cc30dc4a198d"
      },
      "execution_count": 73,
      "outputs": [
        {
          "output_type": "stream",
          "name": "stdout",
          "text": [
            "Input: ['오바마', '는', '대통령', '이', '다', '.']\n",
            "Predicted translation: obama s campaign , obama s president s a . <end> \n"
          ]
        },
        {
          "output_type": "display_data",
          "data": {
            "text/plain": [
              "<Figure size 720x720 with 1 Axes>"
            ],
            "image/png": "[encoded data removed]"
          },
          "metadata": {
            "image/png": {
              "width": 380,
              "height": 606
            },
            "needs_background": "light"
          }
        }
      ]
    },
    {
      "cell_type": "code",
      "source": [
        "translate(\"시민들은 도시 속에 산다.\", encoder, decoder)"
      ],
      "metadata": {
        "id": "AyfiiiqPuTJ6",
        "colab": {
          "base_uri": "https://localhost:8080/",
          "height": 646
        },
        "outputId": "018000ec-345d-4d73-f095-52a9f16b18f5"
      },
      "execution_count": 74,
      "outputs": [
        {
          "output_type": "stream",
          "name": "stdout",
          "text": [
            "Input: ['시민', '들', '은', '도시', '속', '에', '산다', '.']\n",
            "Predicted translation: the group also has been in the world . <end> \n"
          ]
        },
        {
          "output_type": "display_data",
          "data": {
            "text/plain": [
              "<Figure size 720x720 with 1 Axes>"
            ],
            "image/png": "[encoded data removed]"
          },
          "metadata": {
            "image/png": {
              "width": 494,
              "height": 593
            },
            "needs_background": "light"
          }
        }
      ]
    },
    {
      "cell_type": "code",
      "source": [
        "translate(\"커피는 필요 없다.\", encoder, decoder)"
      ],
      "metadata": {
        "id": "2wSRK_Ag2fy0",
        "colab": {
          "base_uri": "https://localhost:8080/",
          "height": 646
        },
        "outputId": "50833705-41b8-4367-d066-3d0c9e9b15c8"
      },
      "execution_count": 75,
      "outputs": [
        {
          "output_type": "stream",
          "name": "stdout",
          "text": [
            "Input: ['커피', '는', '필요', '없', '다', '.']\n",
            "Predicted translation: it s not a battleship . <end> \n"
          ]
        },
        {
          "output_type": "display_data",
          "data": {
            "text/plain": [
              "<Figure size 720x720 with 1 Axes>"
            ],
            "image/png": "[encoded data removed]"
          },
          "metadata": {
            "image/png": {
              "width": 551,
              "height": 593
            },
            "needs_background": "light"
          }
        }
      ]
    },
    {
      "cell_type": "code",
      "source": [
        "translate(\"일곱명의 사망자가 발생했다.\", encoder, decoder)"
      ],
      "metadata": {
        "id": "VNWp8PPi2j8U",
        "colab": {
          "base_uri": "https://localhost:8080/",
          "height": 682
        },
        "outputId": "892b760e-a4d3-46a7-92bc-15c402396950"
      },
      "execution_count": 77,
      "outputs": [
        {
          "output_type": "stream",
          "name": "stdout",
          "text": [
            "Input: ['일곱', '명', '의', '사망자', '가', '발생', '했', '다', '.']\n",
            "Predicted translation: seven people died in the death toll at least people died in the death toll at least people died in the death toll at least people died in the death toll at least people died in the death toll at least people died in the death toll at least people died in the death toll at least people died in the death toll at least people died in the death toll at least people died in the death toll at least people died in the \n"
          ]
        },
        {
          "output_type": "display_data",
          "data": {
            "text/plain": [
              "<Figure size 720x720 with 1 Axes>"
            ],
            "image/png": "[encoded data removed]"
          },
          "metadata": {
            "image/png": {
              "width": 126,
              "height": 608
            },
            "needs_background": "light"
          }
        }
      ]
    },
    {
      "cell_type": "markdown",
      "source": [
        "# 회고"
      ],
      "metadata": {
        "id": "ztEO7cu3k2xN"
      }
    },
    {
      "cell_type": "markdown",
      "source": [
        ""
      ],
      "metadata": {
        "id": "7yAeroTqk4cL"
      }
    },
    {
      "cell_type": "markdown",
      "source": [
        "# 참고 자료\n",
        "\n",
        "- https://hcnoh.github.io/2018-12-11-bahdanau-attention\n",
        "- https://www.youtube.com/watch?v=AA621UofTUA&list=LL&index=2&t=762s\n",
        "- https://www.youtube.com/watch?v=4DzKM0vgG1Y&list=LL&index=3\n",
        "- https://www.youtube.com/watch?v=XxMhC11bD8o&list=LL&index=6\n",
        "- https://www.tensorflow.org/tutorials/text/nmt_with_attention"
      ],
      "metadata": {
        "id": "EncAzRByk5hO"
      }
    }
  ]
}