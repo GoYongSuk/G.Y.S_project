{
  "nbformat": 4,
  "nbformat_minor": 0,
  "metadata": {
    "colab": {
      "name": "going_Deeper_8_sub.ipynb의 원본",
      "provenance": [],
      "collapsed_sections": [
        "IKT1pI1oSDdd"
      ]
    },
    "kernelspec": {
      "name": "python3",
      "display_name": "Python 3"
    },
    "language_info": {
      "name": "python"
    }
  },
  "cells": [
    {
      "cell_type": "code",
      "source": [
        "# from google.colab import drive\n",
        "# drive.mount('/content/drive')"
      ],
      "metadata": {
        "id": "vEMH6BZIAe5g"
      },
      "execution_count": 1,
      "outputs": []
    },
    {
      "cell_type": "code",
      "source": [
        "!python3 -m pip install konlpy"
      ],
      "metadata": {
        "colab": {
          "base_uri": "https://localhost:8080/"
        },
        "id": "mzWzl7ycI-Ez",
        "outputId": "768d2454-7648-4aaf-be66-bd95d5f499a3"
      },
      "execution_count": 2,
      "outputs": [
        {
          "output_type": "stream",
          "name": "stdout",
          "text": [
            "Requirement already satisfied: konlpy in /usr/local/lib/python3.7/dist-packages (0.6.0)\n",
            "Requirement already satisfied: JPype1>=0.7.0 in /usr/local/lib/python3.7/dist-packages (from konlpy) (1.3.0)\n",
            "Requirement already satisfied: lxml>=4.1.0 in /usr/local/lib/python3.7/dist-packages (from konlpy) (4.2.6)\n",
            "Requirement already satisfied: numpy>=1.6 in /usr/local/lib/python3.7/dist-packages (from konlpy) (1.21.5)\n",
            "Requirement already satisfied: typing-extensions in /usr/local/lib/python3.7/dist-packages (from JPype1>=0.7.0->konlpy) (3.10.0.2)\n"
          ]
        }
      ]
    },
    {
      "cell_type": "code",
      "source": [
        "!sudo apt-get install g++ openjdk-8-jdk python3-dev python3-pip curl"
      ],
      "metadata": {
        "colab": {
          "base_uri": "https://localhost:8080/"
        },
        "id": "fn-km-FNI_2j",
        "outputId": "ba847249-9fd7-4b3a-88a9-3043b0aede58"
      },
      "execution_count": 3,
      "outputs": [
        {
          "output_type": "stream",
          "name": "stdout",
          "text": [
            "Reading package lists... Done\n",
            "Building dependency tree       \n",
            "Reading state information... Done\n",
            "curl is already the newest version (7.58.0-2ubuntu3.16).\n",
            "g++ is already the newest version (4:7.4.0-1ubuntu2.3).\n",
            "python3-dev is already the newest version (3.6.7-1~18.04).\n",
            "openjdk-8-jdk is already the newest version (8u312-b07-0ubuntu1~18.04).\n",
            "python3-pip is already the newest version (9.0.1-2.3~ubuntu1.18.04.5).\n",
            "0 upgraded, 0 newly installed, 0 to remove and 96 not upgraded.\n"
          ]
        }
      ]
    },
    {
      "cell_type": "code",
      "source": [
        "!sudo apt-get install curl git"
      ],
      "metadata": {
        "colab": {
          "base_uri": "https://localhost:8080/"
        },
        "id": "jCx-WuCoJF_q",
        "outputId": "30db814b-a0db-4e6c-d50b-04f70c93ec5d"
      },
      "execution_count": 4,
      "outputs": [
        {
          "output_type": "stream",
          "name": "stdout",
          "text": [
            "Reading package lists... Done\n",
            "Building dependency tree       \n",
            "Reading state information... Done\n",
            "curl is already the newest version (7.58.0-2ubuntu3.16).\n",
            "git is already the newest version (1:2.17.1-1ubuntu0.9).\n",
            "0 upgraded, 0 newly installed, 0 to remove and 96 not upgraded.\n"
          ]
        }
      ]
    },
    {
      "cell_type": "code",
      "source": [
        "!bash <(curl -s https://raw.githubusercontent.com/konlpy/konlpy/master/scripts/mecab.sh)"
      ],
      "metadata": {
        "colab": {
          "base_uri": "https://localhost:8080/"
        },
        "id": "U-sbGaPWJEnR",
        "outputId": "97943c17-170a-48c8-8b90-2ff70a5230ba"
      },
      "execution_count": 5,
      "outputs": [
        {
          "output_type": "stream",
          "name": "stdout",
          "text": [
            "mecab-ko is already installed\n",
            "mecab-ko-dic is already installed\n",
            "mecab-python is already installed\n",
            "Done.\n"
          ]
        }
      ]
    },
    {
      "cell_type": "code",
      "source": [
        "import matplotlib.font_manager as fm\n",
        "\n",
        "# 설치된 폰트 출력\n",
        "font_list = [font.name for font in fm.fontManager.ttflist]\n",
        "font_list"
      ],
      "metadata": {
        "colab": {
          "base_uri": "https://localhost:8080/"
        },
        "id": "tZbScZAocvCl",
        "outputId": "7714ce97-5270-4ead-ff06-bc5f831f1a93"
      },
      "execution_count": 6,
      "outputs": [
        {
          "output_type": "execute_result",
          "data": {
            "text/plain": [
              "['STIXSizeTwoSym',\n",
              " 'DejaVu Sans',\n",
              " 'DejaVu Serif',\n",
              " 'DejaVu Serif Display',\n",
              " 'STIXGeneral',\n",
              " 'STIXSizeFourSym',\n",
              " 'STIXNonUnicode',\n",
              " 'STIXSizeFourSym',\n",
              " 'DejaVu Sans Mono',\n",
              " 'STIXSizeThreeSym',\n",
              " 'DejaVu Sans',\n",
              " 'DejaVu Serif',\n",
              " 'STIXNonUnicode',\n",
              " 'STIXSizeFiveSym',\n",
              " 'DejaVu Sans Mono',\n",
              " 'DejaVu Serif',\n",
              " 'DejaVu Sans Mono',\n",
              " 'cmb10',\n",
              " 'STIXSizeOneSym',\n",
              " 'cmr10',\n",
              " 'STIXGeneral',\n",
              " 'cmex10',\n",
              " 'cmsy10',\n",
              " 'STIXSizeOneSym',\n",
              " 'STIXNonUnicode',\n",
              " 'DejaVu Sans',\n",
              " 'STIXGeneral',\n",
              " 'STIXNonUnicode',\n",
              " 'DejaVu Sans Display',\n",
              " 'DejaVu Sans Mono',\n",
              " 'cmss10',\n",
              " 'DejaVu Sans',\n",
              " 'cmmi10',\n",
              " 'cmtt10',\n",
              " 'DejaVu Serif',\n",
              " 'STIXGeneral',\n",
              " 'STIXSizeTwoSym',\n",
              " 'STIXSizeThreeSym',\n",
              " 'DejaVu Serif',\n",
              " 'Liberation Sans',\n",
              " 'Liberation Sans',\n",
              " 'Liberation Serif',\n",
              " 'NanumSquare',\n",
              " 'DejaVu Sans',\n",
              " 'Liberation Serif',\n",
              " 'Liberation Sans',\n",
              " 'Liberation Sans Narrow',\n",
              " 'DejaVu Sans Mono',\n",
              " 'NanumBarunGothic',\n",
              " 'DejaVu Math TeX Gyre',\n",
              " 'NanumMyeongjo',\n",
              " 'NanumGothic',\n",
              " 'DejaVu Sans',\n",
              " 'DejaVu Serif',\n",
              " 'Humor Sans',\n",
              " 'Liberation Sans Narrow',\n",
              " 'Liberation Mono',\n",
              " 'DejaVu Sans',\n",
              " 'Liberation Sans Narrow',\n",
              " 'DejaVu Sans',\n",
              " 'Liberation Mono',\n",
              " 'DejaVu Sans Mono',\n",
              " 'DejaVu Sans',\n",
              " 'NanumSquareRound',\n",
              " 'DejaVu Serif',\n",
              " 'Liberation Sans Narrow',\n",
              " 'NanumGothic',\n",
              " 'DejaVu Sans Mono',\n",
              " 'DejaVu Sans',\n",
              " 'Liberation Sans',\n",
              " 'DejaVu Serif',\n",
              " 'DejaVu Serif',\n",
              " 'DejaVu Serif',\n",
              " 'Liberation Serif',\n",
              " 'Liberation Mono',\n",
              " 'Liberation Mono',\n",
              " 'DejaVu Sans',\n",
              " 'DejaVu Sans Mono',\n",
              " 'DejaVu Sans',\n",
              " 'NanumSquareRound',\n",
              " 'DejaVu Serif',\n",
              " 'Liberation Serif',\n",
              " 'NanumMyeongjo',\n",
              " 'NanumBarunGothic',\n",
              " 'NanumSquare',\n",
              " 'DejaVu Sans',\n",
              " 'DejaVu Serif']"
            ]
          },
          "metadata": {},
          "execution_count": 6
        }
      ]
    },
    {
      "cell_type": "code",
      "source": [
        "import tensorflow as tf\n",
        "import numpy as np\n",
        "\n",
        "from sklearn.model_selection import train_test_split\n",
        "import matplotlib.ticker as ticker\n",
        "import matplotlib.pyplot as plt\n",
        "\n",
        "import time\n",
        "import re\n",
        "import os\n",
        "import io"
      ],
      "metadata": {
        "id": "gZn2rLv4EX-4"
      },
      "execution_count": 7,
      "outputs": []
    },
    {
      "cell_type": "code",
      "source": [
        "!apt -qq -y install fonts-nanum > /dev/null\n",
        "\n",
        "import matplotlib.font_manager as fm\n",
        "\n",
        "fontpath = '/usr/share/fonts/truetype/nanum/NanumBarunGothic.ttf'\n",
        "\n",
        "font = fm.FontProperties(fname=fontpath, size=9)\n",
        "\n",
        "fm._rebuild()\n",
        "\n",
        "# 그래프에 retina display 적용\n",
        "\n",
        "%config InlineBackend.figure_format = 'retina'\n",
        "\n",
        "# Colab 의 한글 폰트 설정\n",
        "\n",
        "plt.rc('font', family='NanumBarunGothic') "
      ],
      "metadata": {
        "colab": {
          "base_uri": "https://localhost:8080/"
        },
        "id": "01o-vVxAnUIq",
        "outputId": "6fd9c939-186a-4b8b-c34b-4b6aecd17cea"
      },
      "execution_count": 8,
      "outputs": [
        {
          "output_type": "stream",
          "name": "stdout",
          "text": [
            "\n",
            "WARNING: apt does not have a stable CLI interface. Use with caution in scripts.\n",
            "\n"
          ]
        }
      ]
    },
    {
      "cell_type": "code",
      "source": [
        "from tensorflow import keras\n",
        "import konlpy\n",
        "from konlpy.tag import Mecab\n",
        "from tensorflow.keras.preprocessing.sequence import pad_sequences\n",
        "from tensorflow.keras.preprocessing.text import Tokenizer"
      ],
      "metadata": {
        "id": "OGLOKJVlKdsK"
      },
      "execution_count": 9,
      "outputs": []
    },
    {
      "cell_type": "markdown",
      "source": [
        "# 1. 데이터 불러오기"
      ],
      "metadata": {
        "id": "qsorRGNVoecE"
      }
    },
    {
      "cell_type": "markdown",
      "source": [
        "## ⓐ 리눅스 사용 (wget, tar)"
      ],
      "metadata": {
        "id": "pUrmOFdlpDIN"
      }
    },
    {
      "cell_type": "markdown",
      "source": [
        "- wget 웹주소 -P 로컬폴더\n",
        "- wget -P 로컬폴더 웹주소\n",
        "- tar xvzf /경로/압축파일.tar.gz -C /원하는위치"
      ],
      "metadata": {
        "id": "vMU1MYB6omFL"
      }
    },
    {
      "cell_type": "code",
      "source": [
        "# !wget https://github.com/jungyeul/korean-parallel-corpora/raw/master/korean-english-news-v1/korean-english-park.train.tar.gz -P /content/sample_data"
      ],
      "metadata": {
        "id": "_G65aSB_pV03"
      },
      "execution_count": 10,
      "outputs": []
    },
    {
      "cell_type": "code",
      "source": [
        "# !wget https://github.com/jungyeul/korean-parallel-corpora/raw/master/korean-english-news-v1/korean-english-park.train.tar.gz"
      ],
      "metadata": {
        "id": "Kv5ncwvvnpXV"
      },
      "execution_count": 11,
      "outputs": []
    },
    {
      "cell_type": "code",
      "source": [
        "# !tar -zxvf korean-english-park.train.tar.gz -C /content/sample_data"
      ],
      "metadata": {
        "id": "xJ1Um-DanORl"
      },
      "execution_count": 12,
      "outputs": []
    },
    {
      "cell_type": "code",
      "source": [
        "# !tar -zxvf korean-english-park.train.tar.gz"
      ],
      "metadata": {
        "id": "FoIzksaHrFU6"
      },
      "execution_count": 13,
      "outputs": []
    },
    {
      "cell_type": "markdown",
      "source": [
        "## ⓑ 파이썬 내장 함수인 urllib을 사용하기"
      ],
      "metadata": {
        "id": "i-JkU6nNrRcW"
      }
    },
    {
      "cell_type": "markdown",
      "source": [
        ".tar.gz 파일은 TAR 패키징과 GNU zip(gzip) 압축의 조합으로 만들어집니다. 이러한 파일은 일반적으로 Unix/Linux 기반 시스템에서 패키지 또는 설치 프로그램으로 사용됩니다. 이 파일을 읽거나 추출하려면 먼저 이 파일의 압축을 풀고 TAR 유틸리티로 확장해야 합니다. 이 파일에는 .tar와 .gz 파일이 모두 포함되어 있기 때문입니다.\n",
        "\n",
        "파이썬을 사용하여 \".tar.gz\" 파일을 추출하거나 압축을 풀려면 파이썬에서 tarfile 모듈을 사용해야 합니다. 이 모듈은 .gz, .bz 압축 방법을 포함한 .tar 파일을 읽고 쓸 수 있습니다."
      ],
      "metadata": {
        "id": "tCogJwittx0i"
      }
    },
    {
      "cell_type": "markdown",
      "source": [
        "### urllib.request\n",
        "- urllib.request는 데이터를 전송할 때 인코딩을 해서 바이너리 형태로 전송한다.\n",
        "- 데이터의 상태에 따라서 get과 post 함수를 구분해서 전송한다.\n",
        "\n",
        "- [requests와 urllib.request 비교](https://incomeplus.tistory.com/254)"
      ],
      "metadata": {
        "id": "3RoJPIBx_fhv"
      }
    },
    {
      "cell_type": "markdown",
      "source": [
        "### url에서 파일 이름 추출할 때 사용하는 코드\n",
        "\n",
        "- filename = URL.split('/')[-1]\n",
        "- img_name = os.path.basename(URL)\n",
        "\n",
        "URL ex: \"https://github.com/jungyeul/korean-parallel-corpora/tree/master/korean-english-news-v1/korean-english-park.train.tar.gz\""
      ],
      "metadata": {
        "id": "vZZOI_VNy_rI"
      }
    },
    {
      "cell_type": "code",
      "source": [
        "# import tarfile\n",
        "# import urllib\n",
        "# from urllib import request"
      ],
      "metadata": {
        "id": "fWtqt4qR-KY7"
      },
      "execution_count": 14,
      "outputs": []
    },
    {
      "cell_type": "code",
      "source": [
        "# URL = \"https://github.com/jungyeul/korean-parallel-corpora/tree/master/korean-english-news-v1/korean-english-park.train.tar.gz\"\n",
        "# download_filename = os.path.basename(URL)"
      ],
      "metadata": {
        "id": "vzxBsH7B9lZx"
      },
      "execution_count": 15,
      "outputs": []
    },
    {
      "cell_type": "code",
      "source": [
        "# print(download_filename)"
      ],
      "metadata": {
        "id": "XIiSl7oe95VT"
      },
      "execution_count": 16,
      "outputs": []
    },
    {
      "cell_type": "code",
      "source": [
        "# urllib.request.urlretrieve(URL, download_filename)"
      ],
      "metadata": {
        "id": "HBG0qCd195PC"
      },
      "execution_count": 17,
      "outputs": []
    },
    {
      "cell_type": "markdown",
      "source": [
        "file could not be opened successfully 문제 발생, 원본파일이 변하기 때문으로 예상함"
      ],
      "metadata": {
        "id": "7oZergoy-IvH"
      }
    },
    {
      "cell_type": "code",
      "source": [
        "# DOWNLOAD_ROOT = \"https://github.com/jungyeul/korean-parallel-corpora/tree/master/korean-english-news-v1/\"\n",
        "# KO_EN_TRAIN_URL = DOWNLOAD_ROOT + \"korean-english-park.train.tar.gz\"\n",
        "# NAME = \"korean-english-park.train\"+\".tar.gz\"\n",
        "# KO = \"/content/drive/MyDrive/Going_Deeper_NLP_BS/Going_Deeper_NLP_BS_sub\"\n",
        "\n",
        "# KO_EN_PATH = os.path.join(KO,\"Seq2Seq\")"
      ],
      "metadata": {
        "id": "UaPPyV2t_k3v"
      },
      "execution_count": 18,
      "outputs": []
    },
    {
      "cell_type": "code",
      "source": [
        "# def fetch_KO_EN_data(ko_en_train=KO_EN_TRAIN_URL, ko_en_path=KO_EN_PATH):\n",
        "#   if not os.path.isdir(ko_en_path):\n",
        "#     os.makedirs(ko_en_path)\n",
        "#   for filename, url in (\"korean-english-park.train.tar.gz\",ko_en_train):\n",
        "#     path = os.path.join(ko_en_path, filename)\n",
        "#     if not os.path.isfile(path):\n",
        "#       urllib.request.urlretrieve(url, path)\n",
        "\n",
        "#     tar_gz_file = tarfile.open(path)\n",
        "#     tar_gz_file.extractall(path=KO_EN_PATH)\n",
        "#     tar_gz_file.close()"
      ],
      "metadata": {
        "id": "iwS3hJGF_lKn"
      },
      "execution_count": 19,
      "outputs": []
    },
    {
      "cell_type": "markdown",
      "source": [
        "## ⓒ 케라스(Keras)의 get_file 함수"
      ],
      "metadata": {
        "id": "FtRkdxw5x5Q7"
      }
    },
    {
      "cell_type": "code",
      "source": [
        "path_to_zip = tf.keras.utils.get_file(\n",
        "'korean-english-park.train.tar.gz',\n",
        "origin='https://github.com/jungyeul/korean-parallel-corpora/raw/master/korean-english-news-v1/korean-english-park.train.tar.gz',\n",
        "extract=True)\n",
        "\n",
        "print(path_to_zip)\n",
        "path_to_file_ko = os.path.dirname(path_to_zip)+\"/korean-english-park.train.ko\"\n",
        "with open(path_to_file_ko, \"r\") as f:\n",
        "  raw_kor = f.read().splitlines()\n",
        "\n",
        "print(\"Korean Data Size:\", len(raw_kor))\n",
        "print(\"Example:\")\n",
        "\n",
        "for sen in raw_kor[0:100][::20]: print(\">>\", sen)"
      ],
      "metadata": {
        "colab": {
          "base_uri": "https://localhost:8080/"
        },
        "id": "kGW-X_Hlomak",
        "outputId": "e7c203a4-9cfb-467a-be5c-9ca8df62e7c6"
      },
      "execution_count": 20,
      "outputs": [
        {
          "output_type": "stream",
          "name": "stdout",
          "text": [
            "/root/.keras/datasets/korean-english-park.train.tar.gz\n",
            "Korean Data Size: 94123\n",
            "Example:\n",
            ">> 개인용 컴퓨터 사용의 상당 부분은 \"이것보다 뛰어날 수 있느냐?\"\n",
            ">> 북한의 핵무기 계획을 포기하도록 하려는 압력이 거세지고 있는 가운데, 일본과 북한의 외교관들이 외교 관계를 정상화하려는 회담을 재개했다.\n",
            ">> \"경호 로보트가 침입자나 화재를 탐지하기 위해서 개인적으로, 그리고 전문적으로 사용되고 있습니다.\"\n",
            ">> 수자원부 당국은 논란이 되고 있고, 막대한 비용이 드는 이 사업에 대해 내년에 건설을 시작할 계획이다.\n",
            ">> 또한 근력 운동은 활발하게 걷는 것이나 최소한 20분 동안 뛰는 것과 같은 유산소 활동에서 얻는 운동 효과를 심장과 폐에 주지 않기 때문에, 연구학자들은 근력 운동이 심장에 큰 영향을 미치는지 여부에 대해 논쟁을 해왔다.\n"
          ]
        }
      ]
    },
    {
      "cell_type": "code",
      "source": [
        "path_to_file_en = os.path.dirname(path_to_zip)+\"/korean-english-park.train.en\"\n",
        "with open(path_to_file_en, \"r\") as f:\n",
        "  raw_en = f.read().splitlines()\n",
        "\n",
        "print(\"English Data Size:\", len(raw_kor))\n",
        "print(\"Example:\")\n",
        "\n",
        "for sen in raw_en[0:100][::20]: print(\">>\", sen)"
      ],
      "metadata": {
        "colab": {
          "base_uri": "https://localhost:8080/"
        },
        "id": "FwPZSy0nGbv4",
        "outputId": "cab418fb-d58d-47f0-ca48-3fe5966d1adb"
      },
      "execution_count": 21,
      "outputs": [
        {
          "output_type": "stream",
          "name": "stdout",
          "text": [
            "English Data Size: 94123\n",
            "Example:\n",
            ">> Much of personal computing is about \"can you top this?\"\n",
            ">> Amid mounting pressure on North Korea to abandon its nuclear weapons program Japanese and North Korean diplomats have resumed talks on normalizing diplomatic relations.\n",
            ">> “Guard robots are used privately and professionally to detect intruders or fire,” Karlsson said.\n",
            ">> Authorities from the Water Resources Ministry plan to begin construction next year on the controversial and hugely expensive project.\n",
            ">> Researchers also have debated whether weight-training has a big impact on the heart, since it does not give the heart and lungs the kind of workout they get from aerobic activities such as brisk walking or running for at least 20 minutes.\n"
          ]
        }
      ]
    },
    {
      "cell_type": "code",
      "source": [
        "data_ko_en = zip(raw_kor, raw_en)\n",
        "cleaned_corpus = set(data_ko_en)\n",
        "print(\"중복을 제거한 데이터 개수는 {}개 입니다.\".format(len(cleaned_corpus)))"
      ],
      "metadata": {
        "colab": {
          "base_uri": "https://localhost:8080/"
        },
        "id": "YkdxflH2HC9k",
        "outputId": "21bbe6f4-5768-4635-b9e4-90c37bc9f7a9"
      },
      "execution_count": 22,
      "outputs": [
        {
          "output_type": "stream",
          "name": "stdout",
          "text": [
            "중복을 제거한 데이터 개수는 78968개 입니다.\n"
          ]
        }
      ]
    },
    {
      "cell_type": "markdown",
      "source": [
        "### Mecap을 문자열로 만들어서 토큰화 시켜야 하는가?"
      ],
      "metadata": {
        "id": "IKT1pI1oSDdd"
      }
    },
    {
      "cell_type": "code",
      "source": [
        "corpus = list(cleaned_corpus)"
      ],
      "metadata": {
        "id": "8Sggq3-7M6vn"
      },
      "execution_count": 23,
      "outputs": []
    },
    {
      "cell_type": "code",
      "source": [
        "corpus[1][0]"
      ],
      "metadata": {
        "colab": {
          "base_uri": "https://localhost:8080/",
          "height": 0
        },
        "id": "FZTqxx9oNGxT",
        "outputId": "9f285cdc-5f8b-4f9c-b073-52808c611b44"
      },
      "execution_count": 24,
      "outputs": [
        {
          "output_type": "execute_result",
          "data": {
            "text/plain": [
              "'미시간주 서부에서 동부로 이동한 토네이도가 여러 차례 발생해 5명이 사망했다.'"
            ],
            "application/vnd.google.colaboratory.intrinsic+json": {
              "type": "string"
            }
          },
          "metadata": {},
          "execution_count": 24
        }
      ]
    },
    {
      "cell_type": "code",
      "source": [
        "a = ['a', 'z', 'a', 'g', 'a', 'd']\n",
        "b = \" \".join(a)\n",
        "b"
      ],
      "metadata": {
        "colab": {
          "base_uri": "https://localhost:8080/",
          "height": 0
        },
        "id": "_nudanpVKHll",
        "outputId": "b2217bc3-62a9-4857-fe57-8ff60c3d4e53"
      },
      "execution_count": 25,
      "outputs": [
        {
          "output_type": "execute_result",
          "data": {
            "text/plain": [
              "'a z a g a d'"
            ],
            "application/vnd.google.colaboratory.intrinsic+json": {
              "type": "string"
            }
          },
          "metadata": {},
          "execution_count": 25
        }
      ]
    },
    {
      "cell_type": "code",
      "source": [
        "mecab = Mecab()\n",
        "morph = mecab.morphs(corpus[1][0])\n",
        "a = [\" \".join(morph)]"
      ],
      "metadata": {
        "id": "dkL8v-BpNVsv"
      },
      "execution_count": 26,
      "outputs": []
    },
    {
      "cell_type": "code",
      "source": [
        "a"
      ],
      "metadata": {
        "colab": {
          "base_uri": "https://localhost:8080/"
        },
        "id": "T2PoViw7Nm57",
        "outputId": "5b997f69-d463-4ac6-998d-2490b1a6cc04"
      },
      "execution_count": 27,
      "outputs": [
        {
          "output_type": "execute_result",
          "data": {
            "text/plain": [
              "['미시간주 서부 에서 동부 로 이동한 토네이도 가 여러 차례 발생 해 5 명 이 사망 했 다 .']"
            ]
          },
          "metadata": {},
          "execution_count": 27
        }
      ]
    },
    {
      "cell_type": "code",
      "source": [
        "for sen in [corpus[1][0]]:\n",
        "  print(sen)"
      ],
      "metadata": {
        "colab": {
          "base_uri": "https://localhost:8080/"
        },
        "id": "nROioTKjOpKf",
        "outputId": "25c0c094-514d-4f46-aaed-4d7da98478bf"
      },
      "execution_count": 28,
      "outputs": [
        {
          "output_type": "stream",
          "name": "stdout",
          "text": [
            "미시간주 서부에서 동부로 이동한 토네이도가 여러 차례 발생해 5명이 사망했다.\n"
          ]
        }
      ]
    },
    {
      "cell_type": "code",
      "source": [
        "mecab = Mecab()\n",
        "morph = [\" \".join(mecab.morphs(sen)) for sen in [corpus[0][0]]]\n",
        "morph"
      ],
      "metadata": {
        "colab": {
          "base_uri": "https://localhost:8080/"
        },
        "id": "hNjpZaCIMyxZ",
        "outputId": "0760e480-764f-426f-d0bf-bab180d0704f"
      },
      "execution_count": 29,
      "outputs": [
        {
          "output_type": "execute_result",
          "data": {
            "text/plain": [
              "['원문 기사 보 기 미국 신임 대통령 이 백악관 을 산책 할 때 그 의 걸음걸이 는 힘 이 있 고 그 의 눈 에 는 총기 가 있 다 .']"
            ]
          },
          "metadata": {},
          "execution_count": 29
        }
      ]
    },
    {
      "cell_type": "code",
      "source": [
        "tokenizer = tf.keras.preprocessing.text.Tokenizer(filters='')\n",
        "tokenizer.fit_on_texts(morph)"
      ],
      "metadata": {
        "id": "J2RWlKvSQKeh"
      },
      "execution_count": 30,
      "outputs": []
    },
    {
      "cell_type": "code",
      "source": [
        "tokenizer.index_word"
      ],
      "metadata": {
        "colab": {
          "base_uri": "https://localhost:8080/"
        },
        "id": "Pi_zImF9QZa7",
        "outputId": "8eb90665-2d6a-4a29-8d64-a0b0b8133090"
      },
      "execution_count": 31,
      "outputs": [
        {
          "output_type": "execute_result",
          "data": {
            "text/plain": [
              "{1: '이',\n",
              " 2: '그',\n",
              " 3: '의',\n",
              " 4: '는',\n",
              " 5: '있',\n",
              " 6: '원문',\n",
              " 7: '기사',\n",
              " 8: '보',\n",
              " 9: '기',\n",
              " 10: '미국',\n",
              " 11: '신임',\n",
              " 12: '대통령',\n",
              " 13: '백악관',\n",
              " 14: '을',\n",
              " 15: '산책',\n",
              " 16: '할',\n",
              " 17: '때',\n",
              " 18: '걸음걸이',\n",
              " 19: '힘',\n",
              " 20: '고',\n",
              " 21: '눈',\n",
              " 22: '에',\n",
              " 23: '총기',\n",
              " 24: '가',\n",
              " 25: '다',\n",
              " 26: '.'}"
            ]
          },
          "metadata": {},
          "execution_count": 31
        }
      ]
    },
    {
      "cell_type": "code",
      "source": [
        "mecab = Mecab()\n",
        "morph = mecab.morphs(corpus[0][0])\n",
        "tokenizer = tf.keras.preprocessing.text.Tokenizer(filters='')\n",
        "tokenizer.fit_on_texts(morph)\n",
        "tokenizer.index_word"
      ],
      "metadata": {
        "colab": {
          "base_uri": "https://localhost:8080/"
        },
        "id": "0j3dWgZeRWgs",
        "outputId": "d36f3121-92cf-4bdb-d638-2c0bf66e23db"
      },
      "execution_count": 32,
      "outputs": [
        {
          "output_type": "execute_result",
          "data": {
            "text/plain": [
              "{1: '이',\n",
              " 2: '그',\n",
              " 3: '의',\n",
              " 4: '는',\n",
              " 5: '있',\n",
              " 6: '원문',\n",
              " 7: '기사',\n",
              " 8: '보',\n",
              " 9: '기',\n",
              " 10: '미국',\n",
              " 11: '신임',\n",
              " 12: '대통령',\n",
              " 13: '백악관',\n",
              " 14: '을',\n",
              " 15: '산책',\n",
              " 16: '할',\n",
              " 17: '때',\n",
              " 18: '걸음걸이',\n",
              " 19: '힘',\n",
              " 20: '고',\n",
              " 21: '눈',\n",
              " 22: '에',\n",
              " 23: '총기',\n",
              " 24: '가',\n",
              " 25: '다',\n",
              " 26: '.'}"
            ]
          },
          "metadata": {},
          "execution_count": 32
        }
      ]
    },
    {
      "cell_type": "markdown",
      "source": [
        "결론: mecab을 사용한 후 문자열로 바꿔서 토큰화하는 것과 바로 토큰화하는 것은 차이가 없다. 고로, 문자열로 바꾸는 처리는 필요하지않습니다."
      ],
      "metadata": {
        "id": "gzrmoCBsSRRL"
      }
    },
    {
      "cell_type": "markdown",
      "source": [
        "# 2. 데이터 전처리\n",
        "\n",
        "정규표현식을 사용해 특수문자 제거"
      ],
      "metadata": {
        "id": "EQLHHnigFCnf"
      }
    },
    {
      "cell_type": "markdown",
      "source": [
        "전처리 과정에서 문장의 시작 문자 `<start>`, 종료 문자 `<end>` 를 붙여주게 됩니다. 이 작업은 Encoder에 들어갈 입력 문장의 전처리에는 굳이 필요하지 않지만, Decoder의 입력 문장과 라벨로 사용할 출력 문장에는 꼭 필요하게 됩니다. 이전 렉처 노드에서 살펴보았듯, Decoder는 첫 입력으로 사용할 시작 토큰과 문장생성 종료를 알리는 끝 토큰이 반드시 필요하기 때문입니다."
      ],
      "metadata": {
        "id": "Kuwa6LrsjYxM"
      }
    },
    {
      "cell_type": "code",
      "source": [
        "corpus = list(cleaned_corpus)\n",
        "mecab = Mecab()"
      ],
      "metadata": {
        "id": "1A2ufl7xkhih"
      },
      "execution_count": 33,
      "outputs": []
    },
    {
      "cell_type": "code",
      "source": [
        "corpus[0:10]"
      ],
      "metadata": {
        "colab": {
          "base_uri": "https://localhost:8080/"
        },
        "id": "z5-XcZStsME8",
        "outputId": "e1c9c99c-b097-49c8-a7e9-465aa4c0f6bf"
      },
      "execution_count": 34,
      "outputs": [
        {
          "output_type": "execute_result",
          "data": {
            "text/plain": [
              "[('원문기사보기 미국 신임대통령이 백악관을 산책할 때 그의 걸음걸이는 힘이 있고 그의 눈에는 총기가 있다.',\n",
              "  \"When a new president strolls into the White House, there's a kick in his step and a twinkle in his eyes.\"),\n",
              " ('미시간주 서부에서 동부로 이동한 토네이도가 여러 차례 발생해 5명이 사망했다.',\n",
              "  'Five of the deaths were in Michigan, where several storms plowed from western Michigan eastward.'),\n",
              " ('국제원자력기구(IAEA)의 알리 아스크하르 솔타니에 이란대사는 4일“이란이 핵무기를 2003년까지 보유하려 했다는 주장도 거짓\"이라고 주장했다.',\n",
              "  \"Iran's ambassador to the International Atomic Energy Agency, Ali Asghar Soltanieh, said Tuesday that even the allegations that Tehran was pursuing a nuclear weapon up to 2003 were false.\"),\n",
              " ('제프리 경찰청장은 “영국 내외에서 여성 할례를 위한 시술을 준비하거나 시술을 하게 되면 2003년 새로 입법된 법에 의해 최고 14년형을 받을 수 있다\"고 말했다.',\n",
              "  'Arranging or carrying out the procedure in Britain or abroad is a criminal offense punishable by up to 14 years in prison, but no one has been prosecuted since it was banned under British law in 2003, Jeffrey said.'),\n",
              " ('김정일 국방위원장과 노무현 대통령은 4일 평양 백화원 영빈관에서 ‘남북관계발전 평화번영선언문’에 서명한 뒤 서로 교환했다.',\n",
              "  'North Korean leader Kim Jong Il and South Korean President Roh Moo-hyun signed a joint statement Thursday, pledging to begin work on a permanent peace agreement that would replace the cease-fire accord signed at the end of the Korean War.'),\n",
              " ('인도 마하라슈트라주 솔라푸르 구역 무스티 마을의 무슬림과 힌두교도들은 행사를 진행하면서 아이가 다치는 불상사는 아직까지 발생하지 않았다고 주장했다.',\n",
              "  'Villagers say no babies have been injured during the ritual, which is practiced by Muslims and Hindus in Musti village in the district of Solapur, in the state of Maharashtra.'),\n",
              " ('스페인 경찰은 이 커플이 매들라인의 부모에게 유괴금 관련 연락을 시도했다는 정보를 입수한 뒤 이들을 조사해왔다고 28일(현지시간) 발표했다.',\n",
              "  \"Spanish police had been investigating the couple after hearing allegations they had tried to contact Madeleine's parents to collect the reward for her safe return, according to a police statement released Thursday.\"),\n",
              " ('현재 과학자들은 지구의 오지와 험한 지역에서 소규모 거실보다 큰 면적의 폐허가 있는 위치를 찾는데 위성사진을 이용하고 있다.',\n",
              "  'Today, scientists can use them to locate ruins some no bigger than a small living room in some of the most remote and forbidding places on the planet.'),\n",
              " ('그는 \"내 친구들, 학교가 여기에 있다\"고 말했다.',\n",
              "  '\"I have my friends here, my school,\" he told CNN.'),\n",
              " (\"'종군 위안부'는 일본이 2차 세계대전 당시 성노예로 강제 징집했던 수천명의 여성을 이르는 말이다.\",\n",
              "  'The term \"comfort woman\" is used to describe the thousands of girls and women whom Japan forced into sex slavery before and during World War II.')]"
            ]
          },
          "metadata": {},
          "execution_count": 34
        }
      ]
    },
    {
      "cell_type": "code",
      "source": [
        "def preprocess_sentence(sentence, token=False):\n",
        "    sentence = sentence.lower().strip()\n",
        "\n",
        "    sentence = re.sub(r\"([?.!,])\", r\" \\1 \", sentence)\n",
        "    sentence = re.sub(r'[\" \"]+', \" \", sentence)\n",
        "    sentence = re.sub(r\"[^a-zA-Z?.!,가-힣ㄱ-ㅎㅏ-ㅣ]+\", \" \", sentence)\n",
        "\n",
        "    sentence = sentence.strip()\n",
        "\n",
        "    if token:\n",
        "      sentence = '<start> ' + sentence + ' <end>'\n",
        "\n",
        "    if token == False:\n",
        "      sentence = mecab.morphs(sentence)\n",
        "      \n",
        "    return sentence"
      ],
      "metadata": {
        "id": "TuYrJ4JtpJgg"
      },
      "execution_count": 35,
      "outputs": []
    },
    {
      "cell_type": "code",
      "source": [
        "preprocess_sentence(corpus[0][0])"
      ],
      "metadata": {
        "colab": {
          "base_uri": "https://localhost:8080/"
        },
        "id": "5d3Qv7UmpdQ0",
        "outputId": "2b3358ec-c216-4731-8737-644873ef2ddb"
      },
      "execution_count": 36,
      "outputs": [
        {
          "output_type": "execute_result",
          "data": {
            "text/plain": [
              "['원문',\n",
              " '기사',\n",
              " '보',\n",
              " '기',\n",
              " '미국',\n",
              " '신임',\n",
              " '대통령',\n",
              " '이',\n",
              " '백악관',\n",
              " '을',\n",
              " '산책',\n",
              " '할',\n",
              " '때',\n",
              " '그',\n",
              " '의',\n",
              " '걸음걸이',\n",
              " '는',\n",
              " '힘',\n",
              " '이',\n",
              " '있',\n",
              " '고',\n",
              " '그',\n",
              " '의',\n",
              " '눈',\n",
              " '에',\n",
              " '는',\n",
              " '총기',\n",
              " '가',\n",
              " '있',\n",
              " '다',\n",
              " '.']"
            ]
          },
          "metadata": {},
          "execution_count": 36
        }
      ]
    },
    {
      "cell_type": "code",
      "source": [
        "preprocess_sentence(corpus[0][1], token=True)"
      ],
      "metadata": {
        "colab": {
          "base_uri": "https://localhost:8080/",
          "height": 35
        },
        "id": "meuclM4KpkVi",
        "outputId": "ca36f392-f28b-450b-9b77-79a8234dec0c"
      },
      "execution_count": 37,
      "outputs": [
        {
          "output_type": "execute_result",
          "data": {
            "text/plain": [
              "'<start> when a new president strolls into the white house , there s a kick in his step and a twinkle in his eyes . <end>'"
            ],
            "application/vnd.google.colaboratory.intrinsic+json": {
              "type": "string"
            }
          },
          "metadata": {},
          "execution_count": 37
        }
      ]
    },
    {
      "cell_type": "code",
      "source": [
        "enc_corpus = []\n",
        "dec_corpus = []\n",
        "\n",
        "for kor, eng in cleaned_corpus:\n",
        "    ko_corpus = preprocess_sentence(kor)\n",
        "    en_corpus = preprocess_sentence(eng, token=True)\n",
        "    if len(ko_corpus) <= 40:\n",
        "      enc_corpus.append(ko_corpus)\n",
        "      dec_corpus.append(en_corpus)\n",
        "\n",
        "print(\"Korean:\", enc_corpus[100])   # go away !\n",
        "print(\"English:\", dec_corpus[100])   # <start> salga de aqu ! <end>"
      ],
      "metadata": {
        "colab": {
          "base_uri": "https://localhost:8080/"
        },
        "id": "jCWDmmVwzN72",
        "outputId": "bab7ed08-4ded-4bd5-aa91-e4a6de1d1a6e"
      },
      "execution_count": 38,
      "outputs": [
        {
          "output_type": "stream",
          "name": "stdout",
          "text": [
            "Korean: ['sf', '영화', '스타워즈', '의', '조지', '루카스', '감독', '이', '스타워즈', 'tv', '시리즈', '를', '제작', '한다고', '발표', '했', '다', '.']\n",
            "English: <start> george lucas is planning a live action television series spinoff of the star wars film franchise . <end>\n"
          ]
        }
      ]
    },
    {
      "cell_type": "markdown",
      "source": [
        "한국어 파일에 영문에서 한국어로 해석할 수 없는 단어는 영어로 그대로 표기해놓아서 한영혼용체가 일부 섞여있었다."
      ],
      "metadata": {
        "id": "wbEWEgZD0PRw"
      }
    },
    {
      "cell_type": "code",
      "source": [
        "print(\"Korean:\", enc_corpus[90]) \n",
        "print(\"English:\", dec_corpus[90])"
      ],
      "metadata": {
        "colab": {
          "base_uri": "https://localhost:8080/"
        },
        "id": "62GKsyXVo59B",
        "outputId": "357731fb-4cae-47ad-c433-7d73de1663f3"
      },
      "execution_count": 39,
      "outputs": [
        {
          "output_type": "stream",
          "name": "stdout",
          "text": [
            "Korean: ['노무현', '대통령', '은', '멕시코', '와', '코스타리카', '를', '순방', '하', '고', '워싱턴', '에서', '개최', '되', '는', '유엔', '총회', '고위급', '본회의', '에', '참석', '할', '예정', '이', '다', '.']\n",
            "English: <start> roh , accompanied by first lady kwon yang sook , will leave here on sept . <end>\n"
          ]
        }
      ]
    },
    {
      "cell_type": "code",
      "source": [
        "print(\"enc_corpus 안에 있는 문장 개수:{}개\".format(len(enc_corpus)))\n",
        "print(\"dec_corpus 안에 있는 문장 개수:{}개\".format(len(dec_corpus)))"
      ],
      "metadata": {
        "colab": {
          "base_uri": "https://localhost:8080/"
        },
        "id": "c5otZbA8FbOt",
        "outputId": "011a90ef-ed9c-473b-b6b7-451ddb311605"
      },
      "execution_count": 40,
      "outputs": [
        {
          "output_type": "stream",
          "name": "stdout",
          "text": [
            "enc_corpus 안에 있는 문장 개수:66483개\n",
            "dec_corpus 안에 있는 문장 개수:66483개\n"
          ]
        }
      ]
    },
    {
      "cell_type": "markdown",
      "source": [
        "# 3. 토큰화"
      ],
      "metadata": {
        "id": "QUSb7xrmGx7e"
      }
    },
    {
      "cell_type": "code",
      "source": [
        "def tokenize(corpus):\n",
        "    tokenizer = tf.keras.preprocessing.text.Tokenizer(filters='')\n",
        "    tokenizer.fit_on_texts(corpus)\n",
        "\n",
        "    tensor = tokenizer.texts_to_sequences(corpus)\n",
        "\n",
        "    tensor = tf.keras.preprocessing.sequence.pad_sequences(tensor, padding='post')\n",
        "\n",
        "    return tensor, tokenizer"
      ],
      "metadata": {
        "id": "xuRxwBO0tlPr"
      },
      "execution_count": 41,
      "outputs": []
    },
    {
      "cell_type": "code",
      "source": [
        "enc_tensor, enc_tokenizer = tokenize(enc_corpus)\n",
        "dec_tensor, dec_tokenizer = tokenize(dec_corpus)\n",
        "\n",
        "# 훈련 데이터와 테스트 데이터로 분리하기\n",
        "enc_train, enc_test, dec_train, dec_test = \\\n",
        "train_test_split(enc_tensor, dec_tensor, test_size=0.2)\n",
        "\n",
        "print(\"Korean Vocab Size:\", len(enc_tokenizer.index_word))\n",
        "print(\"English Vocab Size:\", len(dec_tokenizer.index_word))"
      ],
      "metadata": {
        "colab": {
          "base_uri": "https://localhost:8080/"
        },
        "id": "EVK72UJ2uaHT",
        "outputId": "978d1322-b4ca-4e19-c469-3fc2af135179"
      },
      "execution_count": 42,
      "outputs": [
        {
          "output_type": "stream",
          "name": "stdout",
          "text": [
            "Korean Vocab Size: 45423\n",
            "English Vocab Size: 39979\n"
          ]
        }
      ]
    },
    {
      "cell_type": "code",
      "source": [
        "enc_tensor"
      ],
      "metadata": {
        "colab": {
          "base_uri": "https://localhost:8080/"
        },
        "id": "jbvxi5R-wd-W",
        "outputId": "2fe4b45d-84a8-4df8-98c9-58b74c70ea13"
      },
      "execution_count": 43,
      "outputs": [
        {
          "output_type": "execute_result",
          "data": {
            "text/plain": [
              "array([[ 225,  322,  109, ...,    0,    0,    0],\n",
              "       [7911,  877,   15, ...,    0,    0,    0],\n",
              "       [ 171, 1832,  634, ...,    0,    0,    0],\n",
              "       ...,\n",
              "       [ 149, 8550,  102, ...,    0,    0,    0],\n",
              "       [4475, 2760, 5871, ...,    0,    0,    0],\n",
              "       [ 786,   71,    7, ...,    0,    0,    0]], dtype=int32)"
            ]
          },
          "metadata": {},
          "execution_count": 43
        }
      ]
    },
    {
      "cell_type": "code",
      "source": [
        "dec_tensor"
      ],
      "metadata": {
        "colab": {
          "base_uri": "https://localhost:8080/"
        },
        "id": "r6P6ZyPlw-n7",
        "outputId": "150ed33c-a272-4c0a-d0c8-56e05280f4b7"
      },
      "execution_count": 44,
      "outputs": [
        {
          "output_type": "execute_result",
          "data": {
            "text/plain": [
              "array([[    4,    70,     8, ...,     0,     0,     0],\n",
              "       [    4,   157,     7, ...,     0,     0,     0],\n",
              "       [    4,   291,    11, ...,     0,     0,     0],\n",
              "       ...,\n",
              "       [    4, 39979,    12, ...,     0,     0,     0],\n",
              "       [    4,    19,    11, ...,     0,     0,     0],\n",
              "       [    4,    32,   151, ...,     0,     0,     0]], dtype=int32)"
            ]
          },
          "metadata": {},
          "execution_count": 44
        }
      ]
    },
    {
      "cell_type": "code",
      "source": [
        "print(\"enc_tokenizer: \",end=\" \")\n",
        "for i in range(1,11):\n",
        "  print(enc_tokenizer.index_word[i],end=\" \")"
      ],
      "metadata": {
        "colab": {
          "base_uri": "https://localhost:8080/"
        },
        "id": "wJtYq-qhxmnq",
        "outputId": "b8b483be-d9ca-4a83-e0c5-dbc6fe0b96d3"
      },
      "execution_count": 45,
      "outputs": [
        {
          "output_type": "stream",
          "name": "stdout",
          "text": [
            "enc_tokenizer:  . 다 이 는 을 의 은 에 했 를 "
          ]
        }
      ]
    },
    {
      "cell_type": "code",
      "source": [
        "print(\"dec_tokenizer: \",end=\" \")\n",
        "for i in range(1,11):\n",
        "  print(dec_tokenizer.index_word[i],end=\" \")"
      ],
      "metadata": {
        "colab": {
          "base_uri": "https://localhost:8080/"
        },
        "id": "HEIaP8kUyCPp",
        "outputId": "ae13a89e-fe4c-4fb4-f995-823804abde6e"
      },
      "execution_count": 46,
      "outputs": [
        {
          "output_type": "stream",
          "name": "stdout",
          "text": [
            "dec_tokenizer:  the . , <start> <end> to of a in and "
          ]
        }
      ]
    },
    {
      "cell_type": "markdown",
      "source": [
        "# 4. 모델 설계하기"
      ],
      "metadata": {
        "id": "5YDKg_OzJI50"
      }
    },
    {
      "cell_type": "code",
      "source": [
        "class BahdanauAttention(tf.keras.layers.Layer):\n",
        "    def __init__(self, units):\n",
        "        super(BahdanauAttention, self).__init__()\n",
        "        self.w_dec = tf.keras.layers.Dense(units)\n",
        "        self.w_enc = tf.keras.layers.Dense(units)\n",
        "        self.w_com = tf.keras.layers.Dense(1)\n",
        "    \n",
        "    def call(self, h_enc, h_dec):\n",
        "        # h_enc shape: [batch x length x units]\n",
        "        # h_dec shape: [batch x units]\n",
        "\n",
        "        h_enc = self.w_enc(h_enc)\n",
        "        h_dec = tf.expand_dims(h_dec, 1)\n",
        "        h_dec = self.w_dec(h_dec)\n",
        "\n",
        "        score = self.w_com(tf.nn.tanh(h_dec + h_enc))\n",
        "        \n",
        "        attn = tf.nn.softmax(score, axis=1)\n",
        "\n",
        "        context_vec = attn * h_enc\n",
        "        context_vec = tf.reduce_sum(context_vec, axis=1)\n",
        "\n",
        "        return context_vec, attn"
      ],
      "metadata": {
        "id": "WHgs-hr_uebb"
      },
      "execution_count": 47,
      "outputs": []
    },
    {
      "cell_type": "code",
      "source": [
        "class Encoder(tf.keras.Model):\n",
        "    def __init__(self, vocab_size, embedding_dim, enc_units):\n",
        "        super(Encoder, self).__init__()\n",
        "        \n",
        "        self.enc_units = enc_units\n",
        "        self.embedding = tf.keras.layers.Embedding(vocab_size, embedding_dim)\n",
        "        self.gru = tf.keras.layers.GRU(enc_units,\n",
        "                                       return_sequences=True)\n",
        "        \n",
        "    def call(self, x):\n",
        "        out = self.embedding(x)\n",
        "        out = self.gru(out)\n",
        "        \n",
        "        return out"
      ],
      "metadata": {
        "id": "rwXxO8Gz-MZA"
      },
      "execution_count": 48,
      "outputs": []
    },
    {
      "cell_type": "code",
      "source": [
        "class Decoder(tf.keras.Model):\n",
        "    def __init__(self, vocab_size, embedding_dim, dec_units):\n",
        "        super(Decoder, self).__init__()\n",
        "        self.dec_units = dec_units\n",
        "        self.embedding = tf.keras.layers.Embedding(vocab_size, embedding_dim)\n",
        "        self.gru = tf.keras.layers.GRU(dec_units,\n",
        "                                       return_sequences=True,\n",
        "                                       return_state=True)\n",
        "        self.fc = tf.keras.layers.Dense(vocab_size)\n",
        "\n",
        "        self.attention = BahdanauAttention(self.dec_units)\n",
        "\n",
        "    def call(self, x, h_dec, enc_out):\n",
        "        context_vec, attn = self.attention(enc_out, h_dec)\n",
        "\n",
        "        out = self.embedding(x)\n",
        "        out = tf.concat([tf.expand_dims(context_vec, 1), out], axis=-1)\n",
        "        \n",
        "        out, h_dec = self.gru(out)\n",
        "        out = tf.reshape(out, (-1, out.shape[2]))\n",
        "        out = self.fc(out)\n",
        "\n",
        "        return out, h_dec, attn"
      ],
      "metadata": {
        "id": "B84RT10x-Oso"
      },
      "execution_count": 49,
      "outputs": []
    },
    {
      "cell_type": "code",
      "source": [
        "BATCH_SIZE     = 64\n",
        "SRC_VOCAB_SIZE = len(enc_tokenizer.index_word) + 1\n",
        "TGT_VOCAB_SIZE = len(dec_tokenizer.index_word) + 1\n",
        "\n",
        "units         = 128\n",
        "embedding_dim = 128\n",
        "\n",
        "encoder = Encoder(SRC_VOCAB_SIZE, embedding_dim, units)\n",
        "decoder = Decoder(TGT_VOCAB_SIZE, embedding_dim, units)\n",
        "\n",
        "# sample input\n",
        "sequence_len = 40\n",
        "\n",
        "sample_enc = tf.random.uniform((BATCH_SIZE, sequence_len))\n",
        "sample_output = encoder(sample_enc)\n",
        "\n",
        "print ('Encoder Output:', sample_output.shape)\n",
        "\n",
        "sample_state = tf.random.uniform((BATCH_SIZE, units))\n",
        "\n",
        "sample_logits, h_dec, attn = decoder(tf.random.uniform((BATCH_SIZE, 1)),\n",
        "                                     sample_state, sample_output)\n",
        "\n",
        "print ('Decoder Output:', sample_logits.shape)\n",
        "print ('Decoder Hidden State:', h_dec.shape)\n",
        "print ('Attention:', attn.shape)"
      ],
      "metadata": {
        "colab": {
          "base_uri": "https://localhost:8080/"
        },
        "id": "LO8S97IYGT8E",
        "outputId": "37a90cef-3768-49af-d508-4f8a291f4673"
      },
      "execution_count": 50,
      "outputs": [
        {
          "output_type": "stream",
          "name": "stdout",
          "text": [
            "Encoder Output: (64, 40, 128)\n",
            "Decoder Output: (64, 39980)\n",
            "Decoder Hidden State: (64, 128)\n",
            "Attention: (64, 40, 1)\n"
          ]
        }
      ]
    },
    {
      "cell_type": "markdown",
      "source": [
        "# 5. 훈련하기"
      ],
      "metadata": {
        "id": "lvYAcKEgJOrS"
      }
    },
    {
      "cell_type": "markdown",
      "source": [
        "## Optimizer & Loss"
      ],
      "metadata": {
        "id": "iy3lad0lJW8Y"
      }
    },
    {
      "cell_type": "code",
      "source": [
        "optimizer = tf.keras.optimizers.Adam()\n",
        "loss_object = tf.keras.losses.SparseCategoricalCrossentropy(\n",
        "    from_logits=True, reduction='none')\n",
        "\n",
        "def loss_function(real, pred):\n",
        "    mask = tf.math.logical_not(tf.math.equal(real, 0))\n",
        "    loss = loss_object(real, pred)\n",
        "    \n",
        "    mask = tf.cast(mask, dtype=loss.dtype)\n",
        "    loss *= mask\n",
        "    \n",
        "    return tf.reduce_mean(loss)"
      ],
      "metadata": {
        "id": "JLelpCM0Gr7k"
      },
      "execution_count": 51,
      "outputs": []
    },
    {
      "cell_type": "markdown",
      "source": [
        "## train_step 구현"
      ],
      "metadata": {
        "id": "ePcmaZNfJZ3R"
      }
    },
    {
      "cell_type": "code",
      "source": [
        "@tf.function\n",
        "def train_step(src, tgt, encoder, decoder, optimizer, dec_tok):\n",
        "    bsz = src.shape[0]\n",
        "    loss = 0\n",
        "\n",
        "    with tf.GradientTape() as tape:\n",
        "        enc_out = encoder(src)\n",
        "        h_dec = enc_out[:, -1]\n",
        "        \n",
        "        dec_src = tf.expand_dims([dec_tok.word_index['<start>']] * bsz, 1)\n",
        "\n",
        "        for t in range(1, tgt.shape[1]):\n",
        "            pred, h_dec, _ = decoder(dec_src, h_dec, enc_out)\n",
        "\n",
        "            loss += loss_function(tgt[:, t], pred)\n",
        "            dec_src = tf.expand_dims(tgt[:, t], 1)\n",
        "        \n",
        "    batch_loss = (loss / int(tgt.shape[1]))\n",
        "\n",
        "    variables = encoder.trainable_variables + decoder.trainable_variables\n",
        "    gradients = tape.gradient(loss, variables)\n",
        "    optimizer.apply_gradients(zip(gradients, variables))\n",
        "    \n",
        "    return batch_loss"
      ],
      "metadata": {
        "id": "5oiSPKlVJUkO"
      },
      "execution_count": 52,
      "outputs": []
    },
    {
      "cell_type": "markdown",
      "source": [
        "## 훈련 시작하기"
      ],
      "metadata": {
        "id": "TtL1cM_sJfB2"
      }
    },
    {
      "cell_type": "code",
      "source": [
        "from tqdm import tqdm    # tqdm\n",
        "import random"
      ],
      "metadata": {
        "id": "ICx7Uwq5zGP_"
      },
      "execution_count": 53,
      "outputs": []
    },
    {
      "cell_type": "code",
      "source": [
        "@tf.function\n",
        "def eval_step(src, tgt, encoder, decoder, dec_tok):\n",
        "    bsz = src.shape[0]\n",
        "    loss = 0\n",
        "\n",
        "    enc_out = encoder(src)\n",
        "\n",
        "    h_dec = enc_out[:, -1]\n",
        "    \n",
        "    dec_src = tf.expand_dims([dec_tok.word_index['<start>']] * bsz, 1)\n",
        "\n",
        "    for t in range(1, tgt.shape[1]):\n",
        "        pred, h_dec, _ = decoder(dec_src, h_dec, enc_out)\n",
        "\n",
        "        loss += loss_function(tgt[:, t], pred)\n",
        "        dec_src = tf.expand_dims(tgt[:, t], 1)\n",
        "        \n",
        "    batch_loss = (loss / int(tgt.shape[1]))\n",
        "    \n",
        "    return batch_loss\n",
        "\n",
        "\n",
        "# Training Process\n",
        "\n",
        "from tqdm import tqdm\n",
        "\n",
        "EPOCHS = 20\n",
        "\n",
        "for epoch in range(EPOCHS):\n",
        "    total_loss = 0\n",
        "    \n",
        "    idx_list = list(range(0, enc_train.shape[0], BATCH_SIZE))\n",
        "    random.shuffle(idx_list)\n",
        "    t = tqdm(idx_list)\n",
        "\n",
        "    for (batch, idx) in enumerate(t):\n",
        "        batch_loss = train_step(enc_train[idx:idx+BATCH_SIZE],\n",
        "                                dec_train[idx:idx+BATCH_SIZE],\n",
        "                                encoder,\n",
        "                                decoder,\n",
        "                                optimizer,\n",
        "                                dec_tokenizer)\n",
        "    \n",
        "        total_loss += batch_loss\n",
        "        \n",
        "        t.set_description_str('Epoch %2d' % (epoch + 1))\n",
        "        t.set_postfix_str('Loss %.4f' % (total_loss.numpy() / (batch + 1)))\n",
        "    \n",
        "    test_loss = 0\n",
        "    \n",
        "    idx_list = list(range(0, enc_test.shape[0], BATCH_SIZE))\n",
        "    random.shuffle(idx_list)\n",
        "    t = tqdm(idx_list)\n",
        "\n",
        "    for (test_batch, idx) in enumerate(t):\n",
        "        test_batch_loss = eval_step(enc_test[idx:idx+BATCH_SIZE],\n",
        "                                    dec_test[idx:idx+BATCH_SIZE],\n",
        "                                    encoder,\n",
        "                                    decoder,\n",
        "                                    dec_tokenizer)\n",
        "    \n",
        "        test_loss += test_batch_loss\n",
        "\n",
        "        t.set_description_str('Test Epoch %2d' % (epoch + 1))\n",
        "        t.set_postfix_str('Test Loss %.4f' % (test_loss.numpy() / (test_batch + 1)))"
      ],
      "metadata": {
        "colab": {
          "base_uri": "https://localhost:8080/"
        },
        "id": "wzs8eKHaJr2N",
        "outputId": "94950617-df81-4c7b-cb11-f1b1a4f2af2b"
      },
      "execution_count": 54,
      "outputs": [
        {
          "output_type": "stream",
          "name": "stderr",
          "text": [
            "Epoch  1: 100%|██████████| 832/832 [05:47<00:00,  2.40it/s, Loss 1.9529]\n",
            "Test Epoch  1: 100%|██████████| 208/208 [01:18<00:00,  2.64it/s, Test Loss 1.9051]\n",
            "Epoch  2: 100%|██████████| 832/832 [03:14<00:00,  4.27it/s, Loss 1.9191]\n",
            "Test Epoch  2: 100%|██████████| 208/208 [00:21<00:00,  9.59it/s, Test Loss 1.9105]\n",
            "Epoch  3: 100%|██████████| 832/832 [03:15<00:00,  4.25it/s, Loss 1.8657]\n",
            "Test Epoch  3: 100%|██████████| 208/208 [00:22<00:00,  9.39it/s, Test Loss 1.7492]\n",
            "Epoch  4: 100%|██████████| 832/832 [03:15<00:00,  4.25it/s, Loss 1.6792]\n",
            "Test Epoch  4: 100%|██████████| 208/208 [00:21<00:00,  9.52it/s, Test Loss 1.6197]\n",
            "Epoch  5: 100%|██████████| 832/832 [03:15<00:00,  4.25it/s, Loss 1.5671]\n",
            "Test Epoch  5: 100%|██████████| 208/208 [00:21<00:00,  9.48it/s, Test Loss 1.5506]\n",
            "Epoch  6: 100%|██████████| 832/832 [03:16<00:00,  4.24it/s, Loss 1.4897]\n",
            "Test Epoch  6: 100%|██████████| 208/208 [00:21<00:00,  9.46it/s, Test Loss 1.5080]\n",
            "Epoch  7: 100%|██████████| 832/832 [03:16<00:00,  4.24it/s, Loss 1.4253]\n",
            "Test Epoch  7: 100%|██████████| 208/208 [00:21<00:00,  9.49it/s, Test Loss 1.4728]\n",
            "Epoch  8: 100%|██████████| 832/832 [03:16<00:00,  4.23it/s, Loss 1.3695]\n",
            "Test Epoch  8: 100%|██████████| 208/208 [00:21<00:00,  9.49it/s, Test Loss 1.4513]\n",
            "Epoch  9: 100%|██████████| 832/832 [03:15<00:00,  4.25it/s, Loss 1.3221]\n",
            "Test Epoch  9: 100%|██████████| 208/208 [00:21<00:00,  9.53it/s, Test Loss 1.4381]\n",
            "Epoch 10: 100%|██████████| 832/832 [03:15<00:00,  4.25it/s, Loss 1.2803]\n",
            "Test Epoch 10: 100%|██████████| 208/208 [00:21<00:00,  9.50it/s, Test Loss 1.4324]\n",
            "Epoch 11: 100%|██████████| 832/832 [03:15<00:00,  4.26it/s, Loss 1.2418]\n",
            "Test Epoch 11: 100%|██████████| 208/208 [00:22<00:00,  9.43it/s, Test Loss 1.4295]\n",
            "Epoch 12: 100%|██████████| 832/832 [03:18<00:00,  4.20it/s, Loss 1.2061]\n",
            "Test Epoch 12: 100%|██████████| 208/208 [00:22<00:00,  9.41it/s, Test Loss 1.4298]\n",
            "Epoch 13: 100%|██████████| 832/832 [03:17<00:00,  4.21it/s, Loss 1.1727]\n",
            "Test Epoch 13: 100%|██████████| 208/208 [00:21<00:00,  9.49it/s, Test Loss 1.4329]\n",
            "Epoch 14: 100%|██████████| 832/832 [03:17<00:00,  4.22it/s, Loss 1.1409]\n",
            "Test Epoch 14: 100%|██████████| 208/208 [00:22<00:00,  9.45it/s, Test Loss 1.4398]\n",
            "Epoch 15: 100%|██████████| 832/832 [03:17<00:00,  4.22it/s, Loss 1.1110]\n",
            "Test Epoch 15: 100%|██████████| 208/208 [00:22<00:00,  9.43it/s, Test Loss 1.4473]\n",
            "Epoch 16: 100%|██████████| 832/832 [03:16<00:00,  4.23it/s, Loss 1.0827]\n",
            "Test Epoch 16: 100%|██████████| 208/208 [00:21<00:00,  9.50it/s, Test Loss 1.4585]\n",
            "Epoch 17: 100%|██████████| 832/832 [03:17<00:00,  4.21it/s, Loss 1.0562]\n",
            "Test Epoch 17: 100%|██████████| 208/208 [00:21<00:00,  9.46it/s, Test Loss 1.4692]\n",
            "Epoch 18: 100%|██████████| 832/832 [03:17<00:00,  4.22it/s, Loss 1.0307]\n",
            "Test Epoch 18: 100%|██████████| 208/208 [00:21<00:00,  9.46it/s, Test Loss 1.4824]\n",
            "Epoch 19: 100%|██████████| 832/832 [03:16<00:00,  4.22it/s, Loss 1.0070]\n",
            "Test Epoch 19: 100%|██████████| 208/208 [00:21<00:00,  9.49it/s, Test Loss 1.4942]\n",
            "Epoch 20: 100%|██████████| 832/832 [03:18<00:00,  4.20it/s, Loss 0.9846]\n",
            "Test Epoch 20: 100%|██████████| 208/208 [00:22<00:00,  9.43it/s, Test Loss 1.5078]\n"
          ]
        }
      ]
    },
    {
      "cell_type": "code",
      "source": [
        "def evaluate(sentence, encoder, decoder):\n",
        "    attention = np.zeros((dec_train.shape[-1], enc_train.shape[-1]))\n",
        "    \n",
        "    sentence = preprocess_sentence(sentence)\n",
        "    inputs = enc_tokenizer.texts_to_sequences([sentence])\n",
        "    inputs = tf.keras.preprocessing.sequence.pad_sequences(inputs,\n",
        "                                                           maxlen=enc_train.shape[-1],\n",
        "                                                           padding='post')\n",
        "\n",
        "    result = ''\n",
        "\n",
        "    enc_out = encoder(inputs)\n",
        "\n",
        "    dec_hidden = enc_out[:, -1]\n",
        "    dec_input = tf.expand_dims([dec_tokenizer.word_index['<start>']], 0)\n",
        "\n",
        "    for t in range(dec_train.shape[-1]):\n",
        "        predictions, dec_hidden, attention_weights = decoder(dec_input,\n",
        "                                                             dec_hidden,\n",
        "                                                             enc_out)\n",
        "\n",
        "        attention_weights = tf.reshape(attention_weights, (-1, ))\n",
        "        attention[t] = attention_weights.numpy()\n",
        "\n",
        "        predicted_id = \\\n",
        "        tf.argmax(tf.math.softmax(predictions, axis=-1)[0]).numpy()\n",
        "        result += dec_tokenizer.index_word[predicted_id] + ' '\n",
        "        \n",
        "        if dec_tokenizer.index_word[predicted_id] == '<end>':\n",
        "            return result, sentence, attention\n",
        "\n",
        "        dec_input = tf.expand_dims([predicted_id], 0)\n",
        "\n",
        "    return result, sentence, attention\n",
        "\n",
        "\n",
        "def plot_attention(attention, sentence, predicted_sentence):\n",
        "    fig = plt.figure(figsize=(10,10))\n",
        "    ax = fig.add_subplot(1, 1, 1)\n",
        "    ax.matshow(attention, cmap='viridis')\n",
        "\n",
        "    fontdict = {'fontsize': 14}\n",
        "\n",
        "    ax.set_xticklabels([''] + sentence, fontdict=fontdict, rotation=90)\n",
        "    ax.set_yticklabels([''] + predicted_sentence, fontdict=fontdict)\n",
        "\n",
        "    ax.xaxis.set_major_locator(ticker.MultipleLocator(1))\n",
        "    ax.yaxis.set_major_locator(ticker.MultipleLocator(1))\n",
        "\n",
        "    plt.show()\n",
        "\n",
        "\n",
        "def translate(sentence, encoder, decoder):\n",
        "    result, sentence, attention = evaluate(sentence, encoder, decoder)\n",
        "\n",
        "    print('Input: %s' % (sentence))\n",
        "    print('Predicted translation: {}'.format(result))\n",
        "    \n",
        "    attention = attention[:len(result.split()), :len(sentence)]\n",
        "    plot_attention(attention, sentence, result.split(' '))"
      ],
      "metadata": {
        "id": "E4WpPHE8ogLI"
      },
      "execution_count": 55,
      "outputs": []
    },
    {
      "cell_type": "markdown",
      "source": [
        "앞에서 노드에서 진행했을 때랑 다르게 이번에는 형태소 분석기를 사용해서 list로 출력이 되므로 기존에 사용했던 split을 지웠습니다."
      ],
      "metadata": {
        "id": "RDqKvMBPbsZ_"
      }
    },
    {
      "cell_type": "code",
      "source": [
        "sentence = \"오바마는 대통령이다.\"\n",
        "sentence = preprocess_sentence(sentence)\n",
        "tests = enc_tokenizer.texts_to_sequences([sentence])\n",
        "tests"
      ],
      "metadata": {
        "colab": {
          "base_uri": "https://localhost:8080/"
        },
        "id": "FqiN-sq3WdZY",
        "outputId": "5aaaead1-0b93-49ad-9d4c-99a5645ba9b1"
      },
      "execution_count": 56,
      "outputs": [
        {
          "output_type": "execute_result",
          "data": {
            "text/plain": [
              "[[112, 4, 47, 3, 2, 1]]"
            ]
          },
          "metadata": {},
          "execution_count": 56
        }
      ]
    },
    {
      "cell_type": "code",
      "source": [
        "sentence"
      ],
      "metadata": {
        "colab": {
          "base_uri": "https://localhost:8080/"
        },
        "id": "OC-w3cGecADS",
        "outputId": "6887b4ed-57b7-44f3-f3e7-ea463f7a25c7"
      },
      "execution_count": 57,
      "outputs": [
        {
          "output_type": "execute_result",
          "data": {
            "text/plain": [
              "['오바마', '는', '대통령', '이', '다', '.']"
            ]
          },
          "metadata": {},
          "execution_count": 57
        }
      ]
    },
    {
      "cell_type": "code",
      "source": [
        "translate(\"오바마는 대통령이다.\", encoder, decoder)"
      ],
      "metadata": {
        "colab": {
          "base_uri": "https://localhost:8080/",
          "height": 660
        },
        "id": "QPZyTJD5sw39",
        "outputId": "f1356c53-15a0-4aa6-c50e-8518f08d18ff"
      },
      "execution_count": 58,
      "outputs": [
        {
          "output_type": "stream",
          "name": "stdout",
          "text": [
            "Input: ['오바마', '는', '대통령', '이', '다', '.']\n",
            "Predicted translation: obama is a lot of the republican presidential nomination . <end> \n"
          ]
        },
        {
          "output_type": "display_data",
          "data": {
            "text/plain": [
              "<Figure size 720x720 with 1 Axes>"
            ],
            "image/png": "[encoded data removed]"
          },
          "metadata": {
            "image/png": {
              "width": 393,
              "height": 606
            },
            "needs_background": "light"
          }
        }
      ]
    },
    {
      "cell_type": "code",
      "source": [
        "translate(\"시민들은 도시 속에 산다.\", encoder, decoder)"
      ],
      "metadata": {
        "id": "AyfiiiqPuTJ6",
        "colab": {
          "base_uri": "https://localhost:8080/",
          "height": 646
        },
        "outputId": "39f33032-7633-4044-eb5b-55f949caa7be"
      },
      "execution_count": 59,
      "outputs": [
        {
          "output_type": "stream",
          "name": "stdout",
          "text": [
            "Input: ['시민', '들', '은', '도시', '속', '에', '산다', '.']\n",
            "Predicted translation: the violence is still in the area . <end> \n"
          ]
        },
        {
          "output_type": "display_data",
          "data": {
            "text/plain": [
              "<Figure size 720x720 with 1 Axes>"
            ],
            "image/png": "[encoded data removed]"
          },
          "metadata": {
            "image/png": {
              "width": 557,
              "height": 593
            },
            "needs_background": "light"
          }
        }
      ]
    },
    {
      "cell_type": "code",
      "source": [
        "translate(\"커피는 필요 없다.\", encoder, decoder)"
      ],
      "metadata": {
        "id": "2wSRK_Ag2fy0",
        "colab": {
          "base_uri": "https://localhost:8080/",
          "height": 646
        },
        "outputId": "a8b65228-426c-4bf9-afc7-0e7c487cb79e"
      },
      "execution_count": 60,
      "outputs": [
        {
          "output_type": "stream",
          "name": "stdout",
          "text": [
            "Input: ['커피', '는', '필요', '없', '다', '.']\n",
            "Predicted translation: it s not a little . <end> \n"
          ]
        },
        {
          "output_type": "display_data",
          "data": {
            "text/plain": [
              "<Figure size 720x720 with 1 Axes>"
            ],
            "image/png": "[encoded data removed]"
          },
          "metadata": {
            "image/png": {
              "width": 524,
              "height": 593
            },
            "needs_background": "light"
          }
        }
      ]
    },
    {
      "cell_type": "code",
      "source": [
        "translate(\"일곱명의 사망자가 발생했다.\", encoder, decoder)"
      ],
      "metadata": {
        "id": "VNWp8PPi2j8U",
        "colab": {
          "base_uri": "https://localhost:8080/",
          "height": 612
        },
        "outputId": "0cbd56a1-9ec5-494f-c66a-d26a62735120"
      },
      "execution_count": 61,
      "outputs": [
        {
          "output_type": "stream",
          "name": "stdout",
          "text": [
            "Input: ['일곱', '명', '의', '사망자', '가', '발생', '했', '다', '.']\n",
            "Predicted translation: the blast killed people were killed . <end> \n"
          ]
        },
        {
          "output_type": "display_data",
          "data": {
            "text/plain": [
              "<Figure size 720x720 with 1 Axes>"
            ],
            "image/png": "[encoded data removed]"
          },
          "metadata": {
            "image/png": {
              "width": 623,
              "height": 558
            },
            "needs_background": "light"
          }
        }
      ]
    },
    {
      "cell_type": "markdown",
      "source": [
        "# 회고"
      ],
      "metadata": {
        "id": "ztEO7cu3k2xN"
      }
    },
    {
      "cell_type": "markdown",
      "source": [
        "데이터를 분석해본 결과 데이터에 한영혼용체로 사용된 문장이 있었고 한국어와 영어 해석이 일치하지 않는 경우가 있었습니다. 문장의 길이를 제한하지않고 모델을 돌려본 결과 출력값이 제대로 출력되지 않았습니다. 그래서 corpus 길이를 40 이하로 제한한 결과 좋은 결과를 얻을 수 있었습니다. 모델의 학습이 제대로 이루어지지 않을 경우 `<end>`가 제대로 나오지 않아서 같은 문장을 계속 반복하는 결과를 얻었습니다. epoch를 많이 줄 수록 loss값이 줄고 더 나은 문장을 출력하는 것을 확인 했지만 epoch를 30을 줘본 결과 과적합되어 앞에서 말한 문제가 발생했습니다. Dropout을 사용하면 과적합을 막아서 지금보다 더 좋은 결과를 얻을 수 있을 것 같습니다. 현재 번역된 문장이 생각보다 비슷하게 나와서 매우 만족합니다. \n",
        "\n",
        "NLP전문 지식인한테 물어본 결과 한영혼용체를 예전에는 전처리하는 경우가 많았는데 요즘은 이조차도 해석에 영향을 주므로 지우지않는다고 합니다. "
      ],
      "metadata": {
        "id": "7yAeroTqk4cL"
      }
    },
    {
      "cell_type": "markdown",
      "source": [
        "# 참고 자료\n",
        "\n",
        "- https://hcnoh.github.io/2018-12-11-bahdanau-attention\n",
        "- https://www.youtube.com/watch?v=AA621UofTUA&list=LL&index=2&t=762s\n",
        "- https://www.youtube.com/watch?v=4DzKM0vgG1Y&list=LL&index=3\n",
        "- https://www.youtube.com/watch?v=XxMhC11bD8o&list=LL&index=6\n",
        "- https://www.tensorflow.org/tutorials/text/nmt_with_attention"
      ],
      "metadata": {
        "id": "EncAzRByk5hO"
      }
    }
  ]
}