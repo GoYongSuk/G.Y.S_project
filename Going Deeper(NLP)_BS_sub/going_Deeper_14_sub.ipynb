{
  "nbformat": 4,
  "nbformat_minor": 0,
  "metadata": {
    "colab": {
      "name": "going_Deeper_14_sub.ipynb",
      "provenance": [],
      "collapsed_sections": [],
      "machine_shape": "hm"
    },
    "kernelspec": {
      "name": "python3",
      "display_name": "Python 3"
    },
    "language_info": {
      "name": "python"
    },
    "accelerator": "GPU",
    "widgets": {
      "application/vnd.jupyter.widget-state+json": {
        "37d20681e386415e8b2b702683f806b2": {
          "model_module": "@jupyter-widgets/controls",
          "model_name": "HBoxModel",
          "model_module_version": "1.5.0",
          "state": {
            "_dom_classes": [],
            "_model_module": "@jupyter-widgets/controls",
            "_model_module_version": "1.5.0",
            "_model_name": "HBoxModel",
            "_view_count": null,
            "_view_module": "@jupyter-widgets/controls",
            "_view_module_version": "1.5.0",
            "_view_name": "HBoxView",
            "box_style": "",
            "children": [
              "IPY_MODEL_d54b6876a30d4542ab07c720bb0d027e",
              "IPY_MODEL_03112d26aa714c32b3e9b09779a69150",
              "IPY_MODEL_16909302b770416eb1f2315e68c32456"
            ],
            "layout": "IPY_MODEL_df7729190b7b41838c4271301f5f1e6f"
          }
        },
        "d54b6876a30d4542ab07c720bb0d027e": {
          "model_module": "@jupyter-widgets/controls",
          "model_name": "HTMLModel",
          "model_module_version": "1.5.0",
          "state": {
            "_dom_classes": [],
            "_model_module": "@jupyter-widgets/controls",
            "_model_module_version": "1.5.0",
            "_model_name": "HTMLModel",
            "_view_count": null,
            "_view_module": "@jupyter-widgets/controls",
            "_view_module_version": "1.5.0",
            "_view_name": "HTMLView",
            "description": "",
            "description_tooltip": null,
            "layout": "IPY_MODEL_71b496f0b0474a9d8923a7a794f1db85",
            "placeholder": "​",
            "style": "IPY_MODEL_9489c55ca9c948f68fd21c279b2cb269",
            "value": "  0%"
          }
        },
        "03112d26aa714c32b3e9b09779a69150": {
          "model_module": "@jupyter-widgets/controls",
          "model_name": "FloatProgressModel",
          "model_module_version": "1.5.0",
          "state": {
            "_dom_classes": [],
            "_model_module": "@jupyter-widgets/controls",
            "_model_module_version": "1.5.0",
            "_model_name": "FloatProgressModel",
            "_view_count": null,
            "_view_module": "@jupyter-widgets/controls",
            "_view_module_version": "1.5.0",
            "_view_name": "ProgressView",
            "bar_style": "danger",
            "description": "",
            "description_tooltip": null,
            "layout": "IPY_MODEL_aa6e4f43299f45ecaadf6ab433b184c5",
            "max": 3957761,
            "min": 0,
            "orientation": "horizontal",
            "style": "IPY_MODEL_6a115d795301459697498236f86a81d1",
            "value": 105
          }
        },
        "16909302b770416eb1f2315e68c32456": {
          "model_module": "@jupyter-widgets/controls",
          "model_name": "HTMLModel",
          "model_module_version": "1.5.0",
          "state": {
            "_dom_classes": [],
            "_model_module": "@jupyter-widgets/controls",
            "_model_module_version": "1.5.0",
            "_model_name": "HTMLModel",
            "_view_count": null,
            "_view_module": "@jupyter-widgets/controls",
            "_view_module_version": "1.5.0",
            "_view_name": "HTMLView",
            "description": "",
            "description_tooltip": null,
            "layout": "IPY_MODEL_3c571b12ef564a51b422ad519b71b8c3",
            "placeholder": "​",
            "style": "IPY_MODEL_032717f5dd494f8e93292e36c9b2c894",
            "value": " 105/3957761 [00:00&lt;44:20, 1487.58it/s]"
          }
        },
        "df7729190b7b41838c4271301f5f1e6f": {
          "model_module": "@jupyter-widgets/base",
          "model_name": "LayoutModel",
          "model_module_version": "1.2.0",
          "state": {
            "_model_module": "@jupyter-widgets/base",
            "_model_module_version": "1.2.0",
            "_model_name": "LayoutModel",
            "_view_count": null,
            "_view_module": "@jupyter-widgets/base",
            "_view_module_version": "1.2.0",
            "_view_name": "LayoutView",
            "align_content": null,
            "align_items": null,
            "align_self": null,
            "border": null,
            "bottom": null,
            "display": null,
            "flex": null,
            "flex_flow": null,
            "grid_area": null,
            "grid_auto_columns": null,
            "grid_auto_flow": null,
            "grid_auto_rows": null,
            "grid_column": null,
            "grid_gap": null,
            "grid_row": null,
            "grid_template_areas": null,
            "grid_template_columns": null,
            "grid_template_rows": null,
            "height": null,
            "justify_content": null,
            "justify_items": null,
            "left": null,
            "margin": null,
            "max_height": null,
            "max_width": null,
            "min_height": null,
            "min_width": null,
            "object_fit": null,
            "object_position": null,
            "order": null,
            "overflow": null,
            "overflow_x": null,
            "overflow_y": null,
            "padding": null,
            "right": null,
            "top": null,
            "visibility": null,
            "width": null
          }
        },
        "71b496f0b0474a9d8923a7a794f1db85": {
          "model_module": "@jupyter-widgets/base",
          "model_name": "LayoutModel",
          "model_module_version": "1.2.0",
          "state": {
            "_model_module": "@jupyter-widgets/base",
            "_model_module_version": "1.2.0",
            "_model_name": "LayoutModel",
            "_view_count": null,
            "_view_module": "@jupyter-widgets/base",
            "_view_module_version": "1.2.0",
            "_view_name": "LayoutView",
            "align_content": null,
            "align_items": null,
            "align_self": null,
            "border": null,
            "bottom": null,
            "display": null,
            "flex": null,
            "flex_flow": null,
            "grid_area": null,
            "grid_auto_columns": null,
            "grid_auto_flow": null,
            "grid_auto_rows": null,
            "grid_column": null,
            "grid_gap": null,
            "grid_row": null,
            "grid_template_areas": null,
            "grid_template_columns": null,
            "grid_template_rows": null,
            "height": null,
            "justify_content": null,
            "justify_items": null,
            "left": null,
            "margin": null,
            "max_height": null,
            "max_width": null,
            "min_height": null,
            "min_width": null,
            "object_fit": null,
            "object_position": null,
            "order": null,
            "overflow": null,
            "overflow_x": null,
            "overflow_y": null,
            "padding": null,
            "right": null,
            "top": null,
            "visibility": null,
            "width": null
          }
        },
        "9489c55ca9c948f68fd21c279b2cb269": {
          "model_module": "@jupyter-widgets/controls",
          "model_name": "DescriptionStyleModel",
          "model_module_version": "1.5.0",
          "state": {
            "_model_module": "@jupyter-widgets/controls",
            "_model_module_version": "1.5.0",
            "_model_name": "DescriptionStyleModel",
            "_view_count": null,
            "_view_module": "@jupyter-widgets/base",
            "_view_module_version": "1.2.0",
            "_view_name": "StyleView",
            "description_width": ""
          }
        },
        "aa6e4f43299f45ecaadf6ab433b184c5": {
          "model_module": "@jupyter-widgets/base",
          "model_name": "LayoutModel",
          "model_module_version": "1.2.0",
          "state": {
            "_model_module": "@jupyter-widgets/base",
            "_model_module_version": "1.2.0",
            "_model_name": "LayoutModel",
            "_view_count": null,
            "_view_module": "@jupyter-widgets/base",
            "_view_module_version": "1.2.0",
            "_view_name": "LayoutView",
            "align_content": null,
            "align_items": null,
            "align_self": null,
            "border": null,
            "bottom": null,
            "display": null,
            "flex": null,
            "flex_flow": null,
            "grid_area": null,
            "grid_auto_columns": null,
            "grid_auto_flow": null,
            "grid_auto_rows": null,
            "grid_column": null,
            "grid_gap": null,
            "grid_row": null,
            "grid_template_areas": null,
            "grid_template_columns": null,
            "grid_template_rows": null,
            "height": null,
            "justify_content": null,
            "justify_items": null,
            "left": null,
            "margin": null,
            "max_height": null,
            "max_width": null,
            "min_height": null,
            "min_width": null,
            "object_fit": null,
            "object_position": null,
            "order": null,
            "overflow": null,
            "overflow_x": null,
            "overflow_y": null,
            "padding": null,
            "right": null,
            "top": null,
            "visibility": null,
            "width": null
          }
        },
        "6a115d795301459697498236f86a81d1": {
          "model_module": "@jupyter-widgets/controls",
          "model_name": "ProgressStyleModel",
          "model_module_version": "1.5.0",
          "state": {
            "_model_module": "@jupyter-widgets/controls",
            "_model_module_version": "1.5.0",
            "_model_name": "ProgressStyleModel",
            "_view_count": null,
            "_view_module": "@jupyter-widgets/base",
            "_view_module_version": "1.2.0",
            "_view_name": "StyleView",
            "bar_color": null,
            "description_width": ""
          }
        },
        "3c571b12ef564a51b422ad519b71b8c3": {
          "model_module": "@jupyter-widgets/base",
          "model_name": "LayoutModel",
          "model_module_version": "1.2.0",
          "state": {
            "_model_module": "@jupyter-widgets/base",
            "_model_module_version": "1.2.0",
            "_model_name": "LayoutModel",
            "_view_count": null,
            "_view_module": "@jupyter-widgets/base",
            "_view_module_version": "1.2.0",
            "_view_name": "LayoutView",
            "align_content": null,
            "align_items": null,
            "align_self": null,
            "border": null,
            "bottom": null,
            "display": null,
            "flex": null,
            "flex_flow": null,
            "grid_area": null,
            "grid_auto_columns": null,
            "grid_auto_flow": null,
            "grid_auto_rows": null,
            "grid_column": null,
            "grid_gap": null,
            "grid_row": null,
            "grid_template_areas": null,
            "grid_template_columns": null,
            "grid_template_rows": null,
            "height": null,
            "justify_content": null,
            "justify_items": null,
            "left": null,
            "margin": null,
            "max_height": null,
            "max_width": null,
            "min_height": null,
            "min_width": null,
            "object_fit": null,
            "object_position": null,
            "order": null,
            "overflow": null,
            "overflow_x": null,
            "overflow_y": null,
            "padding": null,
            "right": null,
            "top": null,
            "visibility": null,
            "width": null
          }
        },
        "032717f5dd494f8e93292e36c9b2c894": {
          "model_module": "@jupyter-widgets/controls",
          "model_name": "DescriptionStyleModel",
          "model_module_version": "1.5.0",
          "state": {
            "_model_module": "@jupyter-widgets/controls",
            "_model_module_version": "1.5.0",
            "_model_name": "DescriptionStyleModel",
            "_view_count": null,
            "_view_module": "@jupyter-widgets/base",
            "_view_module_version": "1.2.0",
            "_view_name": "StyleView",
            "description_width": ""
          }
        },
        "f1879fee43114bf2ba8334c73640283a": {
          "model_module": "@jupyter-widgets/controls",
          "model_name": "HBoxModel",
          "model_module_version": "1.5.0",
          "state": {
            "_dom_classes": [],
            "_model_module": "@jupyter-widgets/controls",
            "_model_module_version": "1.5.0",
            "_model_name": "HBoxModel",
            "_view_count": null,
            "_view_module": "@jupyter-widgets/controls",
            "_view_module_version": "1.5.0",
            "_view_name": "HBoxView",
            "box_style": "",
            "children": [
              "IPY_MODEL_c14c37f1943449dfb6e18b69c6d028d9",
              "IPY_MODEL_94e65e509c1e4ca9b97c6e1ed439a6ff",
              "IPY_MODEL_e871057e274c4d23ab26853cd6260e0a"
            ],
            "layout": "IPY_MODEL_146100d14a2b49f58d24d10c580d21d1"
          }
        },
        "c14c37f1943449dfb6e18b69c6d028d9": {
          "model_module": "@jupyter-widgets/controls",
          "model_name": "HTMLModel",
          "model_module_version": "1.5.0",
          "state": {
            "_dom_classes": [],
            "_model_module": "@jupyter-widgets/controls",
            "_model_module_version": "1.5.0",
            "_model_name": "HTMLModel",
            "_view_count": null,
            "_view_module": "@jupyter-widgets/controls",
            "_view_module_version": "1.5.0",
            "_view_name": "HTMLView",
            "description": "",
            "description_tooltip": null,
            "layout": "IPY_MODEL_bda8befc681240b9bb442b18a6f3b94e",
            "placeholder": "​",
            "style": "IPY_MODEL_b53bcc3d62bc49a2a0bee2e5dac1251e",
            "value": "  0%"
          }
        },
        "94e65e509c1e4ca9b97c6e1ed439a6ff": {
          "model_module": "@jupyter-widgets/controls",
          "model_name": "FloatProgressModel",
          "model_module_version": "1.5.0",
          "state": {
            "_dom_classes": [],
            "_model_module": "@jupyter-widgets/controls",
            "_model_module_version": "1.5.0",
            "_model_name": "FloatProgressModel",
            "_view_count": null,
            "_view_module": "@jupyter-widgets/controls",
            "_view_module_version": "1.5.0",
            "_view_name": "ProgressView",
            "bar_style": "danger",
            "description": "",
            "description_tooltip": null,
            "layout": "IPY_MODEL_7405aef16d1e451583b1781fd09c4995",
            "max": 3957761,
            "min": 0,
            "orientation": "horizontal",
            "style": "IPY_MODEL_9e09bcc5db1d4f238ee91d4c10a035db",
            "value": 105
          }
        },
        "e871057e274c4d23ab26853cd6260e0a": {
          "model_module": "@jupyter-widgets/controls",
          "model_name": "HTMLModel",
          "model_module_version": "1.5.0",
          "state": {
            "_dom_classes": [],
            "_model_module": "@jupyter-widgets/controls",
            "_model_module_version": "1.5.0",
            "_model_name": "HTMLModel",
            "_view_count": null,
            "_view_module": "@jupyter-widgets/controls",
            "_view_module_version": "1.5.0",
            "_view_name": "HTMLView",
            "description": "",
            "description_tooltip": null,
            "layout": "IPY_MODEL_a4c270fa72d94110ac4b32aebc4f5df3",
            "placeholder": "​",
            "style": "IPY_MODEL_d5092ff5daa2444b99b9657602de7bbf",
            "value": " 105/3957761 [00:00&lt;25:09, 2621.19it/s]"
          }
        },
        "146100d14a2b49f58d24d10c580d21d1": {
          "model_module": "@jupyter-widgets/base",
          "model_name": "LayoutModel",
          "model_module_version": "1.2.0",
          "state": {
            "_model_module": "@jupyter-widgets/base",
            "_model_module_version": "1.2.0",
            "_model_name": "LayoutModel",
            "_view_count": null,
            "_view_module": "@jupyter-widgets/base",
            "_view_module_version": "1.2.0",
            "_view_name": "LayoutView",
            "align_content": null,
            "align_items": null,
            "align_self": null,
            "border": null,
            "bottom": null,
            "display": null,
            "flex": null,
            "flex_flow": null,
            "grid_area": null,
            "grid_auto_columns": null,
            "grid_auto_flow": null,
            "grid_auto_rows": null,
            "grid_column": null,
            "grid_gap": null,
            "grid_row": null,
            "grid_template_areas": null,
            "grid_template_columns": null,
            "grid_template_rows": null,
            "height": null,
            "justify_content": null,
            "justify_items": null,
            "left": null,
            "margin": null,
            "max_height": null,
            "max_width": null,
            "min_height": null,
            "min_width": null,
            "object_fit": null,
            "object_position": null,
            "order": null,
            "overflow": null,
            "overflow_x": null,
            "overflow_y": null,
            "padding": null,
            "right": null,
            "top": null,
            "visibility": null,
            "width": null
          }
        },
        "bda8befc681240b9bb442b18a6f3b94e": {
          "model_module": "@jupyter-widgets/base",
          "model_name": "LayoutModel",
          "model_module_version": "1.2.0",
          "state": {
            "_model_module": "@jupyter-widgets/base",
            "_model_module_version": "1.2.0",
            "_model_name": "LayoutModel",
            "_view_count": null,
            "_view_module": "@jupyter-widgets/base",
            "_view_module_version": "1.2.0",
            "_view_name": "LayoutView",
            "align_content": null,
            "align_items": null,
            "align_self": null,
            "border": null,
            "bottom": null,
            "display": null,
            "flex": null,
            "flex_flow": null,
            "grid_area": null,
            "grid_auto_columns": null,
            "grid_auto_flow": null,
            "grid_auto_rows": null,
            "grid_column": null,
            "grid_gap": null,
            "grid_row": null,
            "grid_template_areas": null,
            "grid_template_columns": null,
            "grid_template_rows": null,
            "height": null,
            "justify_content": null,
            "justify_items": null,
            "left": null,
            "margin": null,
            "max_height": null,
            "max_width": null,
            "min_height": null,
            "min_width": null,
            "object_fit": null,
            "object_position": null,
            "order": null,
            "overflow": null,
            "overflow_x": null,
            "overflow_y": null,
            "padding": null,
            "right": null,
            "top": null,
            "visibility": null,
            "width": null
          }
        },
        "b53bcc3d62bc49a2a0bee2e5dac1251e": {
          "model_module": "@jupyter-widgets/controls",
          "model_name": "DescriptionStyleModel",
          "model_module_version": "1.5.0",
          "state": {
            "_model_module": "@jupyter-widgets/controls",
            "_model_module_version": "1.5.0",
            "_model_name": "DescriptionStyleModel",
            "_view_count": null,
            "_view_module": "@jupyter-widgets/base",
            "_view_module_version": "1.2.0",
            "_view_name": "StyleView",
            "description_width": ""
          }
        },
        "7405aef16d1e451583b1781fd09c4995": {
          "model_module": "@jupyter-widgets/base",
          "model_name": "LayoutModel",
          "model_module_version": "1.2.0",
          "state": {
            "_model_module": "@jupyter-widgets/base",
            "_model_module_version": "1.2.0",
            "_model_name": "LayoutModel",
            "_view_count": null,
            "_view_module": "@jupyter-widgets/base",
            "_view_module_version": "1.2.0",
            "_view_name": "LayoutView",
            "align_content": null,
            "align_items": null,
            "align_self": null,
            "border": null,
            "bottom": null,
            "display": null,
            "flex": null,
            "flex_flow": null,
            "grid_area": null,
            "grid_auto_columns": null,
            "grid_auto_flow": null,
            "grid_auto_rows": null,
            "grid_column": null,
            "grid_gap": null,
            "grid_row": null,
            "grid_template_areas": null,
            "grid_template_columns": null,
            "grid_template_rows": null,
            "height": null,
            "justify_content": null,
            "justify_items": null,
            "left": null,
            "margin": null,
            "max_height": null,
            "max_width": null,
            "min_height": null,
            "min_width": null,
            "object_fit": null,
            "object_position": null,
            "order": null,
            "overflow": null,
            "overflow_x": null,
            "overflow_y": null,
            "padding": null,
            "right": null,
            "top": null,
            "visibility": null,
            "width": null
          }
        },
        "9e09bcc5db1d4f238ee91d4c10a035db": {
          "model_module": "@jupyter-widgets/controls",
          "model_name": "ProgressStyleModel",
          "model_module_version": "1.5.0",
          "state": {
            "_model_module": "@jupyter-widgets/controls",
            "_model_module_version": "1.5.0",
            "_model_name": "ProgressStyleModel",
            "_view_count": null,
            "_view_module": "@jupyter-widgets/base",
            "_view_module_version": "1.2.0",
            "_view_name": "StyleView",
            "bar_color": null,
            "description_width": ""
          }
        },
        "a4c270fa72d94110ac4b32aebc4f5df3": {
          "model_module": "@jupyter-widgets/base",
          "model_name": "LayoutModel",
          "model_module_version": "1.2.0",
          "state": {
            "_model_module": "@jupyter-widgets/base",
            "_model_module_version": "1.2.0",
            "_model_name": "LayoutModel",
            "_view_count": null,
            "_view_module": "@jupyter-widgets/base",
            "_view_module_version": "1.2.0",
            "_view_name": "LayoutView",
            "align_content": null,
            "align_items": null,
            "align_self": null,
            "border": null,
            "bottom": null,
            "display": null,
            "flex": null,
            "flex_flow": null,
            "grid_area": null,
            "grid_auto_columns": null,
            "grid_auto_flow": null,
            "grid_auto_rows": null,
            "grid_column": null,
            "grid_gap": null,
            "grid_row": null,
            "grid_template_areas": null,
            "grid_template_columns": null,
            "grid_template_rows": null,
            "height": null,
            "justify_content": null,
            "justify_items": null,
            "left": null,
            "margin": null,
            "max_height": null,
            "max_width": null,
            "min_height": null,
            "min_width": null,
            "object_fit": null,
            "object_position": null,
            "order": null,
            "overflow": null,
            "overflow_x": null,
            "overflow_y": null,
            "padding": null,
            "right": null,
            "top": null,
            "visibility": null,
            "width": null
          }
        },
        "d5092ff5daa2444b99b9657602de7bbf": {
          "model_module": "@jupyter-widgets/controls",
          "model_name": "DescriptionStyleModel",
          "model_module_version": "1.5.0",
          "state": {
            "_model_module": "@jupyter-widgets/controls",
            "_model_module_version": "1.5.0",
            "_model_name": "DescriptionStyleModel",
            "_view_count": null,
            "_view_module": "@jupyter-widgets/base",
            "_view_module_version": "1.2.0",
            "_view_name": "StyleView",
            "description_width": ""
          }
        },
        "c667d0ef26b445d7aa0639f544bdda46": {
          "model_module": "@jupyter-widgets/controls",
          "model_name": "HBoxModel",
          "model_module_version": "1.5.0",
          "state": {
            "_dom_classes": [],
            "_model_module": "@jupyter-widgets/controls",
            "_model_module_version": "1.5.0",
            "_model_name": "HBoxModel",
            "_view_count": null,
            "_view_module": "@jupyter-widgets/controls",
            "_view_module_version": "1.5.0",
            "_view_name": "HBoxView",
            "box_style": "",
            "children": [
              "IPY_MODEL_58f0af12fd444ea282e9c8c3c191cf24",
              "IPY_MODEL_e3eeac22ff0a4f049b8d75ced0cdab6e",
              "IPY_MODEL_e0e3151836734958b403b9ff67186c29"
            ],
            "layout": "IPY_MODEL_81394b489760492abbc71185fec89329"
          }
        },
        "58f0af12fd444ea282e9c8c3c191cf24": {
          "model_module": "@jupyter-widgets/controls",
          "model_name": "HTMLModel",
          "model_module_version": "1.5.0",
          "state": {
            "_dom_classes": [],
            "_model_module": "@jupyter-widgets/controls",
            "_model_module_version": "1.5.0",
            "_model_name": "HTMLModel",
            "_view_count": null,
            "_view_module": "@jupyter-widgets/controls",
            "_view_module_version": "1.5.0",
            "_view_name": "HTMLView",
            "description": "",
            "description_tooltip": null,
            "layout": "IPY_MODEL_b3645a16435f4866bf1b303345341c83",
            "placeholder": "​",
            "style": "IPY_MODEL_ef522477507b42c7a9c6b071418a5050",
            "value": "100%"
          }
        },
        "e3eeac22ff0a4f049b8d75ced0cdab6e": {
          "model_module": "@jupyter-widgets/controls",
          "model_name": "FloatProgressModel",
          "model_module_version": "1.5.0",
          "state": {
            "_dom_classes": [],
            "_model_module": "@jupyter-widgets/controls",
            "_model_module_version": "1.5.0",
            "_model_name": "FloatProgressModel",
            "_view_count": null,
            "_view_module": "@jupyter-widgets/controls",
            "_view_module_version": "1.5.0",
            "_view_name": "ProgressView",
            "bar_style": "success",
            "description": "",
            "description_tooltip": null,
            "layout": "IPY_MODEL_e66c990803dd4f3aa86b57795bdd1a80",
            "max": 3957761,
            "min": 0,
            "orientation": "horizontal",
            "style": "IPY_MODEL_1d1115ec56fe4a5e85dd3a21e6d5810a",
            "value": 3957761
          }
        },
        "e0e3151836734958b403b9ff67186c29": {
          "model_module": "@jupyter-widgets/controls",
          "model_name": "HTMLModel",
          "model_module_version": "1.5.0",
          "state": {
            "_dom_classes": [],
            "_model_module": "@jupyter-widgets/controls",
            "_model_module_version": "1.5.0",
            "_model_name": "HTMLModel",
            "_view_count": null,
            "_view_module": "@jupyter-widgets/controls",
            "_view_module_version": "1.5.0",
            "_view_name": "HTMLView",
            "description": "",
            "description_tooltip": null,
            "layout": "IPY_MODEL_1f6e5c01fa9545d9a033d08b381e5450",
            "placeholder": "​",
            "style": "IPY_MODEL_6421f7eddf1046ff961e5a6f62589835",
            "value": " 3957761/3957761 [05:24&lt;00:00, 16292.71it/s]"
          }
        },
        "81394b489760492abbc71185fec89329": {
          "model_module": "@jupyter-widgets/base",
          "model_name": "LayoutModel",
          "model_module_version": "1.2.0",
          "state": {
            "_model_module": "@jupyter-widgets/base",
            "_model_module_version": "1.2.0",
            "_model_name": "LayoutModel",
            "_view_count": null,
            "_view_module": "@jupyter-widgets/base",
            "_view_module_version": "1.2.0",
            "_view_name": "LayoutView",
            "align_content": null,
            "align_items": null,
            "align_self": null,
            "border": null,
            "bottom": null,
            "display": null,
            "flex": null,
            "flex_flow": null,
            "grid_area": null,
            "grid_auto_columns": null,
            "grid_auto_flow": null,
            "grid_auto_rows": null,
            "grid_column": null,
            "grid_gap": null,
            "grid_row": null,
            "grid_template_areas": null,
            "grid_template_columns": null,
            "grid_template_rows": null,
            "height": null,
            "justify_content": null,
            "justify_items": null,
            "left": null,
            "margin": null,
            "max_height": null,
            "max_width": null,
            "min_height": null,
            "min_width": null,
            "object_fit": null,
            "object_position": null,
            "order": null,
            "overflow": null,
            "overflow_x": null,
            "overflow_y": null,
            "padding": null,
            "right": null,
            "top": null,
            "visibility": null,
            "width": null
          }
        },
        "b3645a16435f4866bf1b303345341c83": {
          "model_module": "@jupyter-widgets/base",
          "model_name": "LayoutModel",
          "model_module_version": "1.2.0",
          "state": {
            "_model_module": "@jupyter-widgets/base",
            "_model_module_version": "1.2.0",
            "_model_name": "LayoutModel",
            "_view_count": null,
            "_view_module": "@jupyter-widgets/base",
            "_view_module_version": "1.2.0",
            "_view_name": "LayoutView",
            "align_content": null,
            "align_items": null,
            "align_self": null,
            "border": null,
            "bottom": null,
            "display": null,
            "flex": null,
            "flex_flow": null,
            "grid_area": null,
            "grid_auto_columns": null,
            "grid_auto_flow": null,
            "grid_auto_rows": null,
            "grid_column": null,
            "grid_gap": null,
            "grid_row": null,
            "grid_template_areas": null,
            "grid_template_columns": null,
            "grid_template_rows": null,
            "height": null,
            "justify_content": null,
            "justify_items": null,
            "left": null,
            "margin": null,
            "max_height": null,
            "max_width": null,
            "min_height": null,
            "min_width": null,
            "object_fit": null,
            "object_position": null,
            "order": null,
            "overflow": null,
            "overflow_x": null,
            "overflow_y": null,
            "padding": null,
            "right": null,
            "top": null,
            "visibility": null,
            "width": null
          }
        },
        "ef522477507b42c7a9c6b071418a5050": {
          "model_module": "@jupyter-widgets/controls",
          "model_name": "DescriptionStyleModel",
          "model_module_version": "1.5.0",
          "state": {
            "_model_module": "@jupyter-widgets/controls",
            "_model_module_version": "1.5.0",
            "_model_name": "DescriptionStyleModel",
            "_view_count": null,
            "_view_module": "@jupyter-widgets/base",
            "_view_module_version": "1.2.0",
            "_view_name": "StyleView",
            "description_width": ""
          }
        },
        "e66c990803dd4f3aa86b57795bdd1a80": {
          "model_module": "@jupyter-widgets/base",
          "model_name": "LayoutModel",
          "model_module_version": "1.2.0",
          "state": {
            "_model_module": "@jupyter-widgets/base",
            "_model_module_version": "1.2.0",
            "_model_name": "LayoutModel",
            "_view_count": null,
            "_view_module": "@jupyter-widgets/base",
            "_view_module_version": "1.2.0",
            "_view_name": "LayoutView",
            "align_content": null,
            "align_items": null,
            "align_self": null,
            "border": null,
            "bottom": null,
            "display": null,
            "flex": null,
            "flex_flow": null,
            "grid_area": null,
            "grid_auto_columns": null,
            "grid_auto_flow": null,
            "grid_auto_rows": null,
            "grid_column": null,
            "grid_gap": null,
            "grid_row": null,
            "grid_template_areas": null,
            "grid_template_columns": null,
            "grid_template_rows": null,
            "height": null,
            "justify_content": null,
            "justify_items": null,
            "left": null,
            "margin": null,
            "max_height": null,
            "max_width": null,
            "min_height": null,
            "min_width": null,
            "object_fit": null,
            "object_position": null,
            "order": null,
            "overflow": null,
            "overflow_x": null,
            "overflow_y": null,
            "padding": null,
            "right": null,
            "top": null,
            "visibility": null,
            "width": null
          }
        },
        "1d1115ec56fe4a5e85dd3a21e6d5810a": {
          "model_module": "@jupyter-widgets/controls",
          "model_name": "ProgressStyleModel",
          "model_module_version": "1.5.0",
          "state": {
            "_model_module": "@jupyter-widgets/controls",
            "_model_module_version": "1.5.0",
            "_model_name": "ProgressStyleModel",
            "_view_count": null,
            "_view_module": "@jupyter-widgets/base",
            "_view_module_version": "1.2.0",
            "_view_name": "StyleView",
            "bar_color": null,
            "description_width": ""
          }
        },
        "1f6e5c01fa9545d9a033d08b381e5450": {
          "model_module": "@jupyter-widgets/base",
          "model_name": "LayoutModel",
          "model_module_version": "1.2.0",
          "state": {
            "_model_module": "@jupyter-widgets/base",
            "_model_module_version": "1.2.0",
            "_model_name": "LayoutModel",
            "_view_count": null,
            "_view_module": "@jupyter-widgets/base",
            "_view_module_version": "1.2.0",
            "_view_name": "LayoutView",
            "align_content": null,
            "align_items": null,
            "align_self": null,
            "border": null,
            "bottom": null,
            "display": null,
            "flex": null,
            "flex_flow": null,
            "grid_area": null,
            "grid_auto_columns": null,
            "grid_auto_flow": null,
            "grid_auto_rows": null,
            "grid_column": null,
            "grid_gap": null,
            "grid_row": null,
            "grid_template_areas": null,
            "grid_template_columns": null,
            "grid_template_rows": null,
            "height": null,
            "justify_content": null,
            "justify_items": null,
            "left": null,
            "margin": null,
            "max_height": null,
            "max_width": null,
            "min_height": null,
            "min_width": null,
            "object_fit": null,
            "object_position": null,
            "order": null,
            "overflow": null,
            "overflow_x": null,
            "overflow_y": null,
            "padding": null,
            "right": null,
            "top": null,
            "visibility": null,
            "width": null
          }
        },
        "6421f7eddf1046ff961e5a6f62589835": {
          "model_module": "@jupyter-widgets/controls",
          "model_name": "DescriptionStyleModel",
          "model_module_version": "1.5.0",
          "state": {
            "_model_module": "@jupyter-widgets/controls",
            "_model_module_version": "1.5.0",
            "_model_name": "DescriptionStyleModel",
            "_view_count": null,
            "_view_module": "@jupyter-widgets/base",
            "_view_module_version": "1.2.0",
            "_view_name": "StyleView",
            "description_width": ""
          }
        },
        "00f3275a99c0460b9b92ea0076a1dae9": {
          "model_module": "@jupyter-widgets/controls",
          "model_name": "HBoxModel",
          "model_module_version": "1.5.0",
          "state": {
            "_dom_classes": [],
            "_model_module": "@jupyter-widgets/controls",
            "_model_module_version": "1.5.0",
            "_model_name": "HBoxModel",
            "_view_count": null,
            "_view_module": "@jupyter-widgets/controls",
            "_view_module_version": "1.5.0",
            "_view_name": "HBoxView",
            "box_style": "",
            "children": [
              "IPY_MODEL_b1ea9dafec58451cace091400f457a7b",
              "IPY_MODEL_88ebdefe7ece49468add0da320d74dcf",
              "IPY_MODEL_61e3746f79c643c48c140a26d81fb7cc"
            ],
            "layout": "IPY_MODEL_ccdd510b6d1e443e9275875cc5bd1e05"
          }
        },
        "b1ea9dafec58451cace091400f457a7b": {
          "model_module": "@jupyter-widgets/controls",
          "model_name": "HTMLModel",
          "model_module_version": "1.5.0",
          "state": {
            "_dom_classes": [],
            "_model_module": "@jupyter-widgets/controls",
            "_model_module_version": "1.5.0",
            "_model_name": "HTMLModel",
            "_view_count": null,
            "_view_module": "@jupyter-widgets/controls",
            "_view_module_version": "1.5.0",
            "_view_name": "HTMLView",
            "description": "",
            "description_tooltip": null,
            "layout": "IPY_MODEL_c125077fa54a4891a5ad004b460c2294",
            "placeholder": "​",
            "style": "IPY_MODEL_22697650b1134d3b8b00cd1a1b042bcb",
            "value": "  0%"
          }
        },
        "88ebdefe7ece49468add0da320d74dcf": {
          "model_module": "@jupyter-widgets/controls",
          "model_name": "FloatProgressModel",
          "model_module_version": "1.5.0",
          "state": {
            "_dom_classes": [],
            "_model_module": "@jupyter-widgets/controls",
            "_model_module_version": "1.5.0",
            "_model_name": "FloatProgressModel",
            "_view_count": null,
            "_view_module": "@jupyter-widgets/controls",
            "_view_module_version": "1.5.0",
            "_view_name": "ProgressView",
            "bar_style": "danger",
            "description": "",
            "description_tooltip": null,
            "layout": "IPY_MODEL_e0bfa9cc61274609b1bf903a16c72291",
            "max": 918189,
            "min": 0,
            "orientation": "horizontal",
            "style": "IPY_MODEL_c7672a9d7ea04ef7ac753bf3d53575c4",
            "value": 6
          }
        },
        "61e3746f79c643c48c140a26d81fb7cc": {
          "model_module": "@jupyter-widgets/controls",
          "model_name": "HTMLModel",
          "model_module_version": "1.5.0",
          "state": {
            "_dom_classes": [],
            "_model_module": "@jupyter-widgets/controls",
            "_model_module_version": "1.5.0",
            "_model_name": "HTMLModel",
            "_view_count": null,
            "_view_module": "@jupyter-widgets/controls",
            "_view_module_version": "1.5.0",
            "_view_name": "HTMLView",
            "description": "",
            "description_tooltip": null,
            "layout": "IPY_MODEL_bc47780f4b9c4a9d95af12547ecd0f2b",
            "placeholder": "​",
            "style": "IPY_MODEL_ea868ad50a344790a2e773bb9a810886",
            "value": " 6/918189 [00:00&lt;2:37:04, 97.43it/s]"
          }
        },
        "ccdd510b6d1e443e9275875cc5bd1e05": {
          "model_module": "@jupyter-widgets/base",
          "model_name": "LayoutModel",
          "model_module_version": "1.2.0",
          "state": {
            "_model_module": "@jupyter-widgets/base",
            "_model_module_version": "1.2.0",
            "_model_name": "LayoutModel",
            "_view_count": null,
            "_view_module": "@jupyter-widgets/base",
            "_view_module_version": "1.2.0",
            "_view_name": "LayoutView",
            "align_content": null,
            "align_items": null,
            "align_self": null,
            "border": null,
            "bottom": null,
            "display": null,
            "flex": null,
            "flex_flow": null,
            "grid_area": null,
            "grid_auto_columns": null,
            "grid_auto_flow": null,
            "grid_auto_rows": null,
            "grid_column": null,
            "grid_gap": null,
            "grid_row": null,
            "grid_template_areas": null,
            "grid_template_columns": null,
            "grid_template_rows": null,
            "height": null,
            "justify_content": null,
            "justify_items": null,
            "left": null,
            "margin": null,
            "max_height": null,
            "max_width": null,
            "min_height": null,
            "min_width": null,
            "object_fit": null,
            "object_position": null,
            "order": null,
            "overflow": null,
            "overflow_x": null,
            "overflow_y": null,
            "padding": null,
            "right": null,
            "top": null,
            "visibility": null,
            "width": null
          }
        },
        "c125077fa54a4891a5ad004b460c2294": {
          "model_module": "@jupyter-widgets/base",
          "model_name": "LayoutModel",
          "model_module_version": "1.2.0",
          "state": {
            "_model_module": "@jupyter-widgets/base",
            "_model_module_version": "1.2.0",
            "_model_name": "LayoutModel",
            "_view_count": null,
            "_view_module": "@jupyter-widgets/base",
            "_view_module_version": "1.2.0",
            "_view_name": "LayoutView",
            "align_content": null,
            "align_items": null,
            "align_self": null,
            "border": null,
            "bottom": null,
            "display": null,
            "flex": null,
            "flex_flow": null,
            "grid_area": null,
            "grid_auto_columns": null,
            "grid_auto_flow": null,
            "grid_auto_rows": null,
            "grid_column": null,
            "grid_gap": null,
            "grid_row": null,
            "grid_template_areas": null,
            "grid_template_columns": null,
            "grid_template_rows": null,
            "height": null,
            "justify_content": null,
            "justify_items": null,
            "left": null,
            "margin": null,
            "max_height": null,
            "max_width": null,
            "min_height": null,
            "min_width": null,
            "object_fit": null,
            "object_position": null,
            "order": null,
            "overflow": null,
            "overflow_x": null,
            "overflow_y": null,
            "padding": null,
            "right": null,
            "top": null,
            "visibility": null,
            "width": null
          }
        },
        "22697650b1134d3b8b00cd1a1b042bcb": {
          "model_module": "@jupyter-widgets/controls",
          "model_name": "DescriptionStyleModel",
          "model_module_version": "1.5.0",
          "state": {
            "_model_module": "@jupyter-widgets/controls",
            "_model_module_version": "1.5.0",
            "_model_name": "DescriptionStyleModel",
            "_view_count": null,
            "_view_module": "@jupyter-widgets/base",
            "_view_module_version": "1.2.0",
            "_view_name": "StyleView",
            "description_width": ""
          }
        },
        "e0bfa9cc61274609b1bf903a16c72291": {
          "model_module": "@jupyter-widgets/base",
          "model_name": "LayoutModel",
          "model_module_version": "1.2.0",
          "state": {
            "_model_module": "@jupyter-widgets/base",
            "_model_module_version": "1.2.0",
            "_model_name": "LayoutModel",
            "_view_count": null,
            "_view_module": "@jupyter-widgets/base",
            "_view_module_version": "1.2.0",
            "_view_name": "LayoutView",
            "align_content": null,
            "align_items": null,
            "align_self": null,
            "border": null,
            "bottom": null,
            "display": null,
            "flex": null,
            "flex_flow": null,
            "grid_area": null,
            "grid_auto_columns": null,
            "grid_auto_flow": null,
            "grid_auto_rows": null,
            "grid_column": null,
            "grid_gap": null,
            "grid_row": null,
            "grid_template_areas": null,
            "grid_template_columns": null,
            "grid_template_rows": null,
            "height": null,
            "justify_content": null,
            "justify_items": null,
            "left": null,
            "margin": null,
            "max_height": null,
            "max_width": null,
            "min_height": null,
            "min_width": null,
            "object_fit": null,
            "object_position": null,
            "order": null,
            "overflow": null,
            "overflow_x": null,
            "overflow_y": null,
            "padding": null,
            "right": null,
            "top": null,
            "visibility": null,
            "width": null
          }
        },
        "c7672a9d7ea04ef7ac753bf3d53575c4": {
          "model_module": "@jupyter-widgets/controls",
          "model_name": "ProgressStyleModel",
          "model_module_version": "1.5.0",
          "state": {
            "_model_module": "@jupyter-widgets/controls",
            "_model_module_version": "1.5.0",
            "_model_name": "ProgressStyleModel",
            "_view_count": null,
            "_view_module": "@jupyter-widgets/base",
            "_view_module_version": "1.2.0",
            "_view_name": "StyleView",
            "bar_color": null,
            "description_width": ""
          }
        },
        "bc47780f4b9c4a9d95af12547ecd0f2b": {
          "model_module": "@jupyter-widgets/base",
          "model_name": "LayoutModel",
          "model_module_version": "1.2.0",
          "state": {
            "_model_module": "@jupyter-widgets/base",
            "_model_module_version": "1.2.0",
            "_model_name": "LayoutModel",
            "_view_count": null,
            "_view_module": "@jupyter-widgets/base",
            "_view_module_version": "1.2.0",
            "_view_name": "LayoutView",
            "align_content": null,
            "align_items": null,
            "align_self": null,
            "border": null,
            "bottom": null,
            "display": null,
            "flex": null,
            "flex_flow": null,
            "grid_area": null,
            "grid_auto_columns": null,
            "grid_auto_flow": null,
            "grid_auto_rows": null,
            "grid_column": null,
            "grid_gap": null,
            "grid_row": null,
            "grid_template_areas": null,
            "grid_template_columns": null,
            "grid_template_rows": null,
            "height": null,
            "justify_content": null,
            "justify_items": null,
            "left": null,
            "margin": null,
            "max_height": null,
            "max_width": null,
            "min_height": null,
            "min_width": null,
            "object_fit": null,
            "object_position": null,
            "order": null,
            "overflow": null,
            "overflow_x": null,
            "overflow_y": null,
            "padding": null,
            "right": null,
            "top": null,
            "visibility": null,
            "width": null
          }
        },
        "ea868ad50a344790a2e773bb9a810886": {
          "model_module": "@jupyter-widgets/controls",
          "model_name": "DescriptionStyleModel",
          "model_module_version": "1.5.0",
          "state": {
            "_model_module": "@jupyter-widgets/controls",
            "_model_module_version": "1.5.0",
            "_model_name": "DescriptionStyleModel",
            "_view_count": null,
            "_view_module": "@jupyter-widgets/base",
            "_view_module_version": "1.2.0",
            "_view_name": "StyleView",
            "description_width": ""
          }
        },
        "0b08157036ae4b10b921d25ef9d1da7e": {
          "model_module": "@jupyter-widgets/controls",
          "model_name": "HBoxModel",
          "model_module_version": "1.5.0",
          "state": {
            "_dom_classes": [],
            "_model_module": "@jupyter-widgets/controls",
            "_model_module_version": "1.5.0",
            "_model_name": "HBoxModel",
            "_view_count": null,
            "_view_module": "@jupyter-widgets/controls",
            "_view_module_version": "1.5.0",
            "_view_name": "HBoxView",
            "box_style": "",
            "children": [
              "IPY_MODEL_b94394a441944057b18a693192b852e8",
              "IPY_MODEL_41c1b2e7746e49b398f26140b44af5b9",
              "IPY_MODEL_39b1712b8854499b9bb333c83194bf65"
            ],
            "layout": "IPY_MODEL_83cfcc696d7b485299bf2587b00eb732"
          }
        },
        "b94394a441944057b18a693192b852e8": {
          "model_module": "@jupyter-widgets/controls",
          "model_name": "HTMLModel",
          "model_module_version": "1.5.0",
          "state": {
            "_dom_classes": [],
            "_model_module": "@jupyter-widgets/controls",
            "_model_module_version": "1.5.0",
            "_model_name": "HTMLModel",
            "_view_count": null,
            "_view_module": "@jupyter-widgets/controls",
            "_view_module_version": "1.5.0",
            "_view_name": "HTMLView",
            "description": "",
            "description_tooltip": null,
            "layout": "IPY_MODEL_0f7e9f0f136a46388b20e545d3443a34",
            "placeholder": "​",
            "style": "IPY_MODEL_3dd01bd9a0c94713a9478201a27826ad",
            "value": "100%"
          }
        },
        "41c1b2e7746e49b398f26140b44af5b9": {
          "model_module": "@jupyter-widgets/controls",
          "model_name": "FloatProgressModel",
          "model_module_version": "1.5.0",
          "state": {
            "_dom_classes": [],
            "_model_module": "@jupyter-widgets/controls",
            "_model_module_version": "1.5.0",
            "_model_name": "FloatProgressModel",
            "_view_count": null,
            "_view_module": "@jupyter-widgets/controls",
            "_view_module_version": "1.5.0",
            "_view_name": "ProgressView",
            "bar_style": "danger",
            "description": "",
            "description_tooltip": null,
            "layout": "IPY_MODEL_7d801c10bbc74b5c85280692513f9f04",
            "max": 128000,
            "min": 0,
            "orientation": "horizontal",
            "style": "IPY_MODEL_3eb2b72e9b7e4f6c833978080bd8726a",
            "value": 128000
          }
        },
        "39b1712b8854499b9bb333c83194bf65": {
          "model_module": "@jupyter-widgets/controls",
          "model_name": "HTMLModel",
          "model_module_version": "1.5.0",
          "state": {
            "_dom_classes": [],
            "_model_module": "@jupyter-widgets/controls",
            "_model_module_version": "1.5.0",
            "_model_name": "HTMLModel",
            "_view_count": null,
            "_view_module": "@jupyter-widgets/controls",
            "_view_module_version": "1.5.0",
            "_view_name": "HTMLView",
            "description": "",
            "description_tooltip": null,
            "layout": "IPY_MODEL_d81658367e054752909a5a0940b9c879",
            "placeholder": "​",
            "style": "IPY_MODEL_e5ce00878cd4489b918b7e74920c7376",
            "value": " 128000/128000 [00:27&lt;00:00, 4750.83it/s]"
          }
        },
        "83cfcc696d7b485299bf2587b00eb732": {
          "model_module": "@jupyter-widgets/base",
          "model_name": "LayoutModel",
          "model_module_version": "1.2.0",
          "state": {
            "_model_module": "@jupyter-widgets/base",
            "_model_module_version": "1.2.0",
            "_model_name": "LayoutModel",
            "_view_count": null,
            "_view_module": "@jupyter-widgets/base",
            "_view_module_version": "1.2.0",
            "_view_name": "LayoutView",
            "align_content": null,
            "align_items": null,
            "align_self": null,
            "border": null,
            "bottom": null,
            "display": null,
            "flex": null,
            "flex_flow": null,
            "grid_area": null,
            "grid_auto_columns": null,
            "grid_auto_flow": null,
            "grid_auto_rows": null,
            "grid_column": null,
            "grid_gap": null,
            "grid_row": null,
            "grid_template_areas": null,
            "grid_template_columns": null,
            "grid_template_rows": null,
            "height": null,
            "justify_content": null,
            "justify_items": null,
            "left": null,
            "margin": null,
            "max_height": null,
            "max_width": null,
            "min_height": null,
            "min_width": null,
            "object_fit": null,
            "object_position": null,
            "order": null,
            "overflow": null,
            "overflow_x": null,
            "overflow_y": null,
            "padding": null,
            "right": null,
            "top": null,
            "visibility": null,
            "width": null
          }
        },
        "0f7e9f0f136a46388b20e545d3443a34": {
          "model_module": "@jupyter-widgets/base",
          "model_name": "LayoutModel",
          "model_module_version": "1.2.0",
          "state": {
            "_model_module": "@jupyter-widgets/base",
            "_model_module_version": "1.2.0",
            "_model_name": "LayoutModel",
            "_view_count": null,
            "_view_module": "@jupyter-widgets/base",
            "_view_module_version": "1.2.0",
            "_view_name": "LayoutView",
            "align_content": null,
            "align_items": null,
            "align_self": null,
            "border": null,
            "bottom": null,
            "display": null,
            "flex": null,
            "flex_flow": null,
            "grid_area": null,
            "grid_auto_columns": null,
            "grid_auto_flow": null,
            "grid_auto_rows": null,
            "grid_column": null,
            "grid_gap": null,
            "grid_row": null,
            "grid_template_areas": null,
            "grid_template_columns": null,
            "grid_template_rows": null,
            "height": null,
            "justify_content": null,
            "justify_items": null,
            "left": null,
            "margin": null,
            "max_height": null,
            "max_width": null,
            "min_height": null,
            "min_width": null,
            "object_fit": null,
            "object_position": null,
            "order": null,
            "overflow": null,
            "overflow_x": null,
            "overflow_y": null,
            "padding": null,
            "right": null,
            "top": null,
            "visibility": null,
            "width": null
          }
        },
        "3dd01bd9a0c94713a9478201a27826ad": {
          "model_module": "@jupyter-widgets/controls",
          "model_name": "DescriptionStyleModel",
          "model_module_version": "1.5.0",
          "state": {
            "_model_module": "@jupyter-widgets/controls",
            "_model_module_version": "1.5.0",
            "_model_name": "DescriptionStyleModel",
            "_view_count": null,
            "_view_module": "@jupyter-widgets/base",
            "_view_module_version": "1.2.0",
            "_view_name": "StyleView",
            "description_width": ""
          }
        },
        "7d801c10bbc74b5c85280692513f9f04": {
          "model_module": "@jupyter-widgets/base",
          "model_name": "LayoutModel",
          "model_module_version": "1.2.0",
          "state": {
            "_model_module": "@jupyter-widgets/base",
            "_model_module_version": "1.2.0",
            "_model_name": "LayoutModel",
            "_view_count": null,
            "_view_module": "@jupyter-widgets/base",
            "_view_module_version": "1.2.0",
            "_view_name": "LayoutView",
            "align_content": null,
            "align_items": null,
            "align_self": null,
            "border": null,
            "bottom": null,
            "display": null,
            "flex": null,
            "flex_flow": null,
            "grid_area": null,
            "grid_auto_columns": null,
            "grid_auto_flow": null,
            "grid_auto_rows": null,
            "grid_column": null,
            "grid_gap": null,
            "grid_row": null,
            "grid_template_areas": null,
            "grid_template_columns": null,
            "grid_template_rows": null,
            "height": null,
            "justify_content": null,
            "justify_items": null,
            "left": null,
            "margin": null,
            "max_height": null,
            "max_width": null,
            "min_height": null,
            "min_width": null,
            "object_fit": null,
            "object_position": null,
            "order": null,
            "overflow": null,
            "overflow_x": null,
            "overflow_y": null,
            "padding": null,
            "right": null,
            "top": null,
            "visibility": null,
            "width": null
          }
        },
        "3eb2b72e9b7e4f6c833978080bd8726a": {
          "model_module": "@jupyter-widgets/controls",
          "model_name": "ProgressStyleModel",
          "model_module_version": "1.5.0",
          "state": {
            "_model_module": "@jupyter-widgets/controls",
            "_model_module_version": "1.5.0",
            "_model_name": "ProgressStyleModel",
            "_view_count": null,
            "_view_module": "@jupyter-widgets/base",
            "_view_module_version": "1.2.0",
            "_view_name": "StyleView",
            "bar_color": null,
            "description_width": ""
          }
        },
        "d81658367e054752909a5a0940b9c879": {
          "model_module": "@jupyter-widgets/base",
          "model_name": "LayoutModel",
          "model_module_version": "1.2.0",
          "state": {
            "_model_module": "@jupyter-widgets/base",
            "_model_module_version": "1.2.0",
            "_model_name": "LayoutModel",
            "_view_count": null,
            "_view_module": "@jupyter-widgets/base",
            "_view_module_version": "1.2.0",
            "_view_name": "LayoutView",
            "align_content": null,
            "align_items": null,
            "align_self": null,
            "border": null,
            "bottom": null,
            "display": null,
            "flex": null,
            "flex_flow": null,
            "grid_area": null,
            "grid_auto_columns": null,
            "grid_auto_flow": null,
            "grid_auto_rows": null,
            "grid_column": null,
            "grid_gap": null,
            "grid_row": null,
            "grid_template_areas": null,
            "grid_template_columns": null,
            "grid_template_rows": null,
            "height": null,
            "justify_content": null,
            "justify_items": null,
            "left": null,
            "margin": null,
            "max_height": null,
            "max_width": null,
            "min_height": null,
            "min_width": null,
            "object_fit": null,
            "object_position": null,
            "order": null,
            "overflow": null,
            "overflow_x": null,
            "overflow_y": null,
            "padding": null,
            "right": null,
            "top": null,
            "visibility": null,
            "width": null
          }
        },
        "e5ce00878cd4489b918b7e74920c7376": {
          "model_module": "@jupyter-widgets/controls",
          "model_name": "DescriptionStyleModel",
          "model_module_version": "1.5.0",
          "state": {
            "_model_module": "@jupyter-widgets/controls",
            "_model_module_version": "1.5.0",
            "_model_name": "DescriptionStyleModel",
            "_view_count": null,
            "_view_module": "@jupyter-widgets/base",
            "_view_module_version": "1.2.0",
            "_view_name": "StyleView",
            "description_width": ""
          }
        }
      }
    }
  },
  "cells": [
    {
      "cell_type": "code",
      "source": [
        "!pip install sentencepiece"
      ],
      "metadata": {
        "colab": {
          "base_uri": "https://localhost:8080/"
        },
        "id": "-CWw3Mz7iaib",
        "outputId": "f7a49e13-5e8b-4765-8417-6cbdb703ce7b"
      },
      "execution_count": 1,
      "outputs": [
        {
          "output_type": "stream",
          "name": "stdout",
          "text": [
            "Collecting sentencepiece\n",
            "  Downloading sentencepiece-0.1.96-cp37-cp37m-manylinux_2_17_x86_64.manylinux2014_x86_64.whl (1.2 MB)\n",
            "\u001b[?25l\r\u001b[K     |▎                               | 10 kB 29.6 MB/s eta 0:00:01\r\u001b[K     |▌                               | 20 kB 20.1 MB/s eta 0:00:01\r\u001b[K     |▉                               | 30 kB 10.7 MB/s eta 0:00:01\r\u001b[K     |█                               | 40 kB 4.3 MB/s eta 0:00:01\r\u001b[K     |█▍                              | 51 kB 4.2 MB/s eta 0:00:01\r\u001b[K     |█▋                              | 61 kB 5.0 MB/s eta 0:00:01\r\u001b[K     |██                              | 71 kB 5.5 MB/s eta 0:00:01\r\u001b[K     |██▏                             | 81 kB 5.4 MB/s eta 0:00:01\r\u001b[K     |██▍                             | 92 kB 6.0 MB/s eta 0:00:01\r\u001b[K     |██▊                             | 102 kB 5.1 MB/s eta 0:00:01\r\u001b[K     |███                             | 112 kB 5.1 MB/s eta 0:00:01\r\u001b[K     |███▎                            | 122 kB 5.1 MB/s eta 0:00:01\r\u001b[K     |███▌                            | 133 kB 5.1 MB/s eta 0:00:01\r\u001b[K     |███▉                            | 143 kB 5.1 MB/s eta 0:00:01\r\u001b[K     |████                            | 153 kB 5.1 MB/s eta 0:00:01\r\u001b[K     |████▎                           | 163 kB 5.1 MB/s eta 0:00:01\r\u001b[K     |████▋                           | 174 kB 5.1 MB/s eta 0:00:01\r\u001b[K     |████▉                           | 184 kB 5.1 MB/s eta 0:00:01\r\u001b[K     |█████▏                          | 194 kB 5.1 MB/s eta 0:00:01\r\u001b[K     |█████▍                          | 204 kB 5.1 MB/s eta 0:00:01\r\u001b[K     |█████▊                          | 215 kB 5.1 MB/s eta 0:00:01\r\u001b[K     |██████                          | 225 kB 5.1 MB/s eta 0:00:01\r\u001b[K     |██████▏                         | 235 kB 5.1 MB/s eta 0:00:01\r\u001b[K     |██████▌                         | 245 kB 5.1 MB/s eta 0:00:01\r\u001b[K     |██████▊                         | 256 kB 5.1 MB/s eta 0:00:01\r\u001b[K     |███████                         | 266 kB 5.1 MB/s eta 0:00:01\r\u001b[K     |███████▎                        | 276 kB 5.1 MB/s eta 0:00:01\r\u001b[K     |███████▋                        | 286 kB 5.1 MB/s eta 0:00:01\r\u001b[K     |███████▉                        | 296 kB 5.1 MB/s eta 0:00:01\r\u001b[K     |████████                        | 307 kB 5.1 MB/s eta 0:00:01\r\u001b[K     |████████▍                       | 317 kB 5.1 MB/s eta 0:00:01\r\u001b[K     |████████▋                       | 327 kB 5.1 MB/s eta 0:00:01\r\u001b[K     |█████████                       | 337 kB 5.1 MB/s eta 0:00:01\r\u001b[K     |█████████▏                      | 348 kB 5.1 MB/s eta 0:00:01\r\u001b[K     |█████████▌                      | 358 kB 5.1 MB/s eta 0:00:01\r\u001b[K     |█████████▊                      | 368 kB 5.1 MB/s eta 0:00:01\r\u001b[K     |██████████                      | 378 kB 5.1 MB/s eta 0:00:01\r\u001b[K     |██████████▎                     | 389 kB 5.1 MB/s eta 0:00:01\r\u001b[K     |██████████▌                     | 399 kB 5.1 MB/s eta 0:00:01\r\u001b[K     |██████████▉                     | 409 kB 5.1 MB/s eta 0:00:01\r\u001b[K     |███████████                     | 419 kB 5.1 MB/s eta 0:00:01\r\u001b[K     |███████████▍                    | 430 kB 5.1 MB/s eta 0:00:01\r\u001b[K     |███████████▋                    | 440 kB 5.1 MB/s eta 0:00:01\r\u001b[K     |███████████▉                    | 450 kB 5.1 MB/s eta 0:00:01\r\u001b[K     |████████████▏                   | 460 kB 5.1 MB/s eta 0:00:01\r\u001b[K     |████████████▍                   | 471 kB 5.1 MB/s eta 0:00:01\r\u001b[K     |████████████▊                   | 481 kB 5.1 MB/s eta 0:00:01\r\u001b[K     |█████████████                   | 491 kB 5.1 MB/s eta 0:00:01\r\u001b[K     |█████████████▎                  | 501 kB 5.1 MB/s eta 0:00:01\r\u001b[K     |█████████████▌                  | 512 kB 5.1 MB/s eta 0:00:01\r\u001b[K     |█████████████▊                  | 522 kB 5.1 MB/s eta 0:00:01\r\u001b[K     |██████████████                  | 532 kB 5.1 MB/s eta 0:00:01\r\u001b[K     |██████████████▎                 | 542 kB 5.1 MB/s eta 0:00:01\r\u001b[K     |██████████████▋                 | 552 kB 5.1 MB/s eta 0:00:01\r\u001b[K     |██████████████▉                 | 563 kB 5.1 MB/s eta 0:00:01\r\u001b[K     |███████████████▏                | 573 kB 5.1 MB/s eta 0:00:01\r\u001b[K     |███████████████▍                | 583 kB 5.1 MB/s eta 0:00:01\r\u001b[K     |███████████████▋                | 593 kB 5.1 MB/s eta 0:00:01\r\u001b[K     |████████████████                | 604 kB 5.1 MB/s eta 0:00:01\r\u001b[K     |████████████████▏               | 614 kB 5.1 MB/s eta 0:00:01\r\u001b[K     |████████████████▌               | 624 kB 5.1 MB/s eta 0:00:01\r\u001b[K     |████████████████▊               | 634 kB 5.1 MB/s eta 0:00:01\r\u001b[K     |█████████████████               | 645 kB 5.1 MB/s eta 0:00:01\r\u001b[K     |█████████████████▎              | 655 kB 5.1 MB/s eta 0:00:01\r\u001b[K     |█████████████████▌              | 665 kB 5.1 MB/s eta 0:00:01\r\u001b[K     |█████████████████▉              | 675 kB 5.1 MB/s eta 0:00:01\r\u001b[K     |██████████████████              | 686 kB 5.1 MB/s eta 0:00:01\r\u001b[K     |██████████████████▍             | 696 kB 5.1 MB/s eta 0:00:01\r\u001b[K     |██████████████████▋             | 706 kB 5.1 MB/s eta 0:00:01\r\u001b[K     |███████████████████             | 716 kB 5.1 MB/s eta 0:00:01\r\u001b[K     |███████████████████▏            | 727 kB 5.1 MB/s eta 0:00:01\r\u001b[K     |███████████████████▍            | 737 kB 5.1 MB/s eta 0:00:01\r\u001b[K     |███████████████████▊            | 747 kB 5.1 MB/s eta 0:00:01\r\u001b[K     |████████████████████            | 757 kB 5.1 MB/s eta 0:00:01\r\u001b[K     |████████████████████▎           | 768 kB 5.1 MB/s eta 0:00:01\r\u001b[K     |████████████████████▌           | 778 kB 5.1 MB/s eta 0:00:01\r\u001b[K     |████████████████████▉           | 788 kB 5.1 MB/s eta 0:00:01\r\u001b[K     |█████████████████████           | 798 kB 5.1 MB/s eta 0:00:01\r\u001b[K     |█████████████████████▎          | 808 kB 5.1 MB/s eta 0:00:01\r\u001b[K     |█████████████████████▋          | 819 kB 5.1 MB/s eta 0:00:01\r\u001b[K     |█████████████████████▉          | 829 kB 5.1 MB/s eta 0:00:01\r\u001b[K     |██████████████████████▏         | 839 kB 5.1 MB/s eta 0:00:01\r\u001b[K     |██████████████████████▍         | 849 kB 5.1 MB/s eta 0:00:01\r\u001b[K     |██████████████████████▊         | 860 kB 5.1 MB/s eta 0:00:01\r\u001b[K     |███████████████████████         | 870 kB 5.1 MB/s eta 0:00:01\r\u001b[K     |███████████████████████▏        | 880 kB 5.1 MB/s eta 0:00:01\r\u001b[K     |███████████████████████▌        | 890 kB 5.1 MB/s eta 0:00:01\r\u001b[K     |███████████████████████▊        | 901 kB 5.1 MB/s eta 0:00:01\r\u001b[K     |████████████████████████        | 911 kB 5.1 MB/s eta 0:00:01\r\u001b[K     |████████████████████████▎       | 921 kB 5.1 MB/s eta 0:00:01\r\u001b[K     |████████████████████████▋       | 931 kB 5.1 MB/s eta 0:00:01\r\u001b[K     |████████████████████████▉       | 942 kB 5.1 MB/s eta 0:00:01\r\u001b[K     |█████████████████████████       | 952 kB 5.1 MB/s eta 0:00:01\r\u001b[K     |█████████████████████████▍      | 962 kB 5.1 MB/s eta 0:00:01\r\u001b[K     |█████████████████████████▋      | 972 kB 5.1 MB/s eta 0:00:01\r\u001b[K     |██████████████████████████      | 983 kB 5.1 MB/s eta 0:00:01\r\u001b[K     |██████████████████████████▏     | 993 kB 5.1 MB/s eta 0:00:01\r\u001b[K     |██████████████████████████▌     | 1.0 MB 5.1 MB/s eta 0:00:01\r\u001b[K     |██████████████████████████▊     | 1.0 MB 5.1 MB/s eta 0:00:01\r\u001b[K     |███████████████████████████     | 1.0 MB 5.1 MB/s eta 0:00:01\r\u001b[K     |███████████████████████████▎    | 1.0 MB 5.1 MB/s eta 0:00:01\r\u001b[K     |███████████████████████████▌    | 1.0 MB 5.1 MB/s eta 0:00:01\r\u001b[K     |███████████████████████████▉    | 1.1 MB 5.1 MB/s eta 0:00:01\r\u001b[K     |████████████████████████████    | 1.1 MB 5.1 MB/s eta 0:00:01\r\u001b[K     |████████████████████████████▍   | 1.1 MB 5.1 MB/s eta 0:00:01\r\u001b[K     |████████████████████████████▋   | 1.1 MB 5.1 MB/s eta 0:00:01\r\u001b[K     |████████████████████████████▉   | 1.1 MB 5.1 MB/s eta 0:00:01\r\u001b[K     |█████████████████████████████▏  | 1.1 MB 5.1 MB/s eta 0:00:01\r\u001b[K     |█████████████████████████████▍  | 1.1 MB 5.1 MB/s eta 0:00:01\r\u001b[K     |█████████████████████████████▊  | 1.1 MB 5.1 MB/s eta 0:00:01\r\u001b[K     |██████████████████████████████  | 1.1 MB 5.1 MB/s eta 0:00:01\r\u001b[K     |██████████████████████████████▎ | 1.1 MB 5.1 MB/s eta 0:00:01\r\u001b[K     |██████████████████████████████▌ | 1.2 MB 5.1 MB/s eta 0:00:01\r\u001b[K     |██████████████████████████████▊ | 1.2 MB 5.1 MB/s eta 0:00:01\r\u001b[K     |███████████████████████████████ | 1.2 MB 5.1 MB/s eta 0:00:01\r\u001b[K     |███████████████████████████████▎| 1.2 MB 5.1 MB/s eta 0:00:01\r\u001b[K     |███████████████████████████████▋| 1.2 MB 5.1 MB/s eta 0:00:01\r\u001b[K     |███████████████████████████████▉| 1.2 MB 5.1 MB/s eta 0:00:01\r\u001b[K     |████████████████████████████████| 1.2 MB 5.1 MB/s \n",
            "\u001b[?25hInstalling collected packages: sentencepiece\n",
            "Successfully installed sentencepiece-0.1.96\n"
          ]
        }
      ]
    },
    {
      "cell_type": "code",
      "execution_count": 2,
      "metadata": {
        "colab": {
          "base_uri": "https://localhost:8080/"
        },
        "id": "ckuisyt2iAnl",
        "outputId": "620b76d6-956b-472a-f11d-ae61a09848bf"
      },
      "outputs": [
        {
          "output_type": "stream",
          "name": "stdout",
          "text": [
            "Mounted at /content/drive\n"
          ]
        }
      ],
      "source": [
        "from google.colab import drive\n",
        "drive.mount('/content/drive')"
      ]
    },
    {
      "cell_type": "code",
      "source": [
        "# imports\n",
        "from __future__ import absolute_import, division, print_function, unicode_literals\n",
        "\n",
        "import tensorflow as tf\n",
        "import tensorflow.keras.backend as K\n",
        "\n",
        "import os\n",
        "import re\n",
        "import math\n",
        "import numpy as np\n",
        "import pandas as pd\n",
        "import random\n",
        "import collections\n",
        "import json\n",
        "import shutil\n",
        "import zipfile\n",
        "import copy\n",
        "from datetime import datetime\n",
        "\n",
        "import matplotlib.pyplot as plt\n",
        "import sentencepiece as spm\n",
        "from tqdm.notebook import tqdm\n",
        "\n",
        "random_seed = 1234\n",
        "random.seed(random_seed)\n",
        "np.random.seed(random_seed)\n",
        "tf.random.set_seed(random_seed)\n",
        "\n",
        "# tf version 및 gpu 확인\n",
        "print(tf.__version__)\n",
        "print(tf.config.list_physical_devices('GPU'))\n",
        "print(tf.test.gpu_device_name())"
      ],
      "metadata": {
        "colab": {
          "base_uri": "https://localhost:8080/"
        },
        "id": "kAKWFvG5iReg",
        "outputId": "3fa91d38-8f70-4d15-eb52-650b5927163b"
      },
      "execution_count": 3,
      "outputs": [
        {
          "output_type": "stream",
          "name": "stdout",
          "text": [
            "2.8.0\n",
            "[PhysicalDevice(name='/physical_device:GPU:0', device_type='GPU')]\n",
            "/device:GPU:0\n"
          ]
        }
      ]
    },
    {
      "cell_type": "markdown",
      "source": [
        "# 1. 한글 나무위키 코퍼스로부터 8000의 vocab_size를 갖는 sentencepiece 모델 생성"
      ],
      "metadata": {
        "id": "X-xz3qbajYrg"
      }
    },
    {
      "cell_type": "code",
      "source": [
        "import sentencepiece as spm\n",
        "import os\n",
        "corpus_file = '/content/drive/MyDrive/Going_Deeper_NLP_BS/Going_Deeper_NLP_BS_sub/bert/kowiki.txt'\n",
        "prefix = 'ko_8000'\n",
        "vocab_size = 8000\n",
        "\n",
        "spm.SentencePieceTrainer.train(\n",
        "    f\"--input={corpus_file} --model_prefix={prefix} --vocab_size={vocab_size + 7}\" + \n",
        "    \" --model_type=bpe\" +\n",
        "    \" --max_sentence_length=999999\" + # 문장 최대 길이\n",
        "    \" --pad_id=0 --pad_piece=[PAD]\" + # pad (0)\n",
        "    \" --unk_id=1 --unk_piece=[UNK]\" + # unknown (1)\n",
        "    \" --bos_id=2 --bos_piece=[BOS]\" + # begin of sequence (2)\n",
        "    \" --eos_id=3 --eos_piece=[EOS]\" + # end of sequence (3)\n",
        "    \" --user_defined_symbols=[SEP],[CLS],[MASK]\") # 사용자 정의 토큰\n",
        "\n",
        "print(\"완료=3\")   # 완료메시지가 출력될 때까지 아무 출력내용이 없더라도 기다려 주세요."
      ],
      "metadata": {
        "colab": {
          "base_uri": "https://localhost:8080/"
        },
        "id": "kjbCsvkoiZ1H",
        "outputId": "15c57b5e-938e-4037-db85-0aee35218cdf"
      },
      "execution_count": 5,
      "outputs": [
        {
          "output_type": "stream",
          "name": "stdout",
          "text": [
            "완료=3\n"
          ]
        }
      ]
    },
    {
      "cell_type": "code",
      "source": [
        "model_dir = '/content/ko_8000.model'\n",
        "data_dir = '/content'\n",
        "\n",
        "# vocab loading\n",
        "vocab = spm.SentencePieceProcessor()\n",
        "vocab.load(model_dir)"
      ],
      "metadata": {
        "colab": {
          "base_uri": "https://localhost:8080/"
        },
        "id": "g0V_a0HZjNYX",
        "outputId": "1e9f099e-a44a-43cc-b125-aeab46f34e8d"
      },
      "execution_count": 59,
      "outputs": [
        {
          "output_type": "execute_result",
          "data": {
            "text/plain": [
              "True"
            ]
          },
          "metadata": {},
          "execution_count": 59
        }
      ]
    },
    {
      "cell_type": "markdown",
      "source": [
        "### a. 토크나이저 결과 확인하기"
      ],
      "metadata": {
        "id": "AhcybQB8l3Ft"
      }
    },
    {
      "cell_type": "code",
      "source": [
        "# 특수 token 7개를 제외한 나머지 tokens 들\n",
        "vocab_list = []\n",
        "for id in range(7, len(vocab)):\n",
        "    if not vocab.is_unknown(id):\n",
        "        vocab_list.append(vocab.id_to_piece(id))\n",
        "print(vocab_list)"
      ],
      "metadata": {
        "colab": {
          "base_uri": "https://localhost:8080/"
        },
        "id": "ewyK2e0Sleq_",
        "outputId": "6d346241-8489-41cd-dd8f-4be54f1efe08"
      },
      "execution_count": 8,
      "outputs": [
        {
          "output_type": "stream",
          "name": "stdout",
          "text": [
            "['▁1', '▁이', '으로', '에서', '▁있', '▁2', '▁그', '▁대', '▁사', '이다', '었다', '▁지', '▁수', '▁19', '▁가', '▁시', '▁20', '▁기', '▁전', '▁아', '▁하', '▁있다', '▁다', '▁제', '했다', '하였', '▁일', '▁한', '▁중', '▁정', '▁주', '하는', '▁것', '▁자', '▁공', '▁인', '되었다', '▁경', '▁위', '▁유', '▁보', '하고', '▁3', '▁등', '▁부', '하였다', '▁조', '하여', '▁미', '▁동', '▁선', '▁나', '으며', '▁모', '▁연', '▁영', '▁의', '▁오', '▁마', '에는', '▁발', '▁소', '한다', '▁고', '▁개', '▁201', '▁구', '▁세', '▁도', '▁상', '▁비', '▁스', '▁국', '▁서', '▁후', '▁여', '▁200', '▁때', '▁4', '▁성', '▁해', '▁관', '▁있는', '▁신', '▁프', '▁대한', '부터', '▁5', '▁방', '▁또', '지만', '▁(', '▁역', '되어', '▁않', '▁만', '▁\"', '▁장', '▁바', '까지', '▁무', '▁남', '▁통', '▁현', '▁교', '▁같', '에게', '▁내', '학교', '▁문', '▁출', '▁거', '▁포', '▁결', '된다', '▁《', '적인', '이라', '▁6', '▁우', '적으로', '▁불', '▁원', '▁최', '▁10', '▁진', '▁생', '▁작', '▁어', '▁당', '국의', '▁노', '▁강', '▁알', '▁반', '▁7', '▁8', '▁계', '▁따', '▁파', '▁분', '▁없', '▁받', '▁말', '면서', '들이', 'or', '되었', '▁사용', \"▁'\", '▁두', '▁실', '에서는', '▁리', '들은', '▁명', '▁함', '▁단', '▁이후', '00', '하기', '▁예', '년에', '),', '▁한다', '▁안', '하게', '▁재', '▁9', '▁일본', '▁차', '▁설', '▁배', '▁에', 'er', '▁199', '▁다음', '았다', '▁특', '▁요', '였다', '▁18', '▁데', '▁종', '으나', '▁초', '▁군', '▁로', '▁독', '▁12', '()', 'la', '▁추', '▁김', '▁많', '▁그는', '▁~', '▁대한민', '▁되었다', '리아', '▁카', '▁활', '▁감', '▁라', '이며', '는데', '▁입', 'on', '▁건', '스트', '▁타', '▁다른', '▁형', '▁더', '▁지역', '▁S', '▁참', '▁운', '▁매', '▁같은', '▁태', '▁및', '▁그리', '▁양', '▁위해', '▁평', '▁음', '▁11', 'in', '▁행', '▁산', '주의', '▁적', '▁본', '▁)', '들어', '▁미국', '▁열', '▁과', '▁왕', '들의', '▁올', '▁승', '▁때문', '▁북', '▁크', '▁시작', '▁번', '기도', 'an', '▁프로', '▁코', '들을', '▁피', '▁호', '▁총', '레이', '▁C', '라는', '▁목', '되는', '▁화', '▁그러', '▁회', '▁베', '▁따라', '▁임', '▁각', '▁198', '▁또한', '하며', '▁변', '▁사람', '▁함께', '▁A', '▁표', '▁외', '▁속', '▁처', '▁f', '라고', '▁경우', '▁물', '▁달', '▁M', '이나', '▁위치', '▁현재', '▁약', '시아', '▁자신', '▁민', '▁직', '▁이름', 'mu', '하지', '▁새', '▁간', '▁학', '▁선수', '▁그의', '▁게', '▁F', '19', '▁드', '하다', '▁집', '▁기록', '▁영화', '▁당시', '되고', '▁한국', '▁for', '에도', '▁저', '▁항', '▁가장', '▁하나', '▁세계', '▁때문에', 'en', '▁사이', '기에', '▁그러나', 'mula', '▁존', '기를', '▁메', '▁점', '▁체', 'ar', '▁박', '▁뒤', '▁것을', '▁확', '▁15', '▁또는', '▁formula', '▁했다', '▁조선', '▁있으며', '스의', '▁것으로', '▁197', '▁된다', '▁국가', '▁있었다', '이라고', '▁의해', '▁T', '▁것이', '▁레', '▁16', '▁복', '▁청', '▁축', '▁토', '▁못', '▁투', '▁천', '▁광', '리는', '▁필', '지는', '▁그리고', '▁브', '일에', '▁통해', '▁활동', '졌다', '▁법', '▁합', '▁프랑', '▁철', '▁17', '▁야', 'al', '▁판', '등학교', '▁196', '▁근', '▁창', '▁증', '▁편', '▁삼', '했고', '▁디', '▁금', '▁B', '▁치', '▁살', 'ti', '▁많은', '▁것이다', '▁언', '리를', '▁들어', '▁첫', '이라는', '▁돌', '▁버', '▁심', '▁높', '▁대한민국', '▁아니', '▁다음과', '▁‘', '하였고', '▁쓰', '(,', '▁D', '랜드', '▁하는', '▁뜻', '하면서', '▁경기', '스는', '20', '▁충', '▁다시', '▁황', 'es', '▁플', '는다', '▁서울', '▁포함', '▁대해', '▁있었', '▁가지', '▁할', '이었다', '▁194', '▁I', '▁P', '▁여러', '▁애', '▁완', '▁네', '▁트', '▁K', '▁대한민국의', '대로', '▁14', '▁되', '사를', '▁병', '▁페', '로서', 'km', '▁백', '▁독일', '이고', '▁큰', '상을', '▁죽', '개의', '이는', '▁하였다', '되었고', '▁모두', '▁루', '▁패', '▁용', '▁연구', '보다', '▁순', '▁팀', '▁도시', '▁클', '▁권', '▁13', '▁사회', '▁195', '장을', '▁채', '위를', '▁은', '▁모든', '▁L', '▁히', '▁취', '▁처음', '▁알려', '성을', '니아', 'he', '지를', '▁규', '▁이루', '▁친', '▁시즌', '▁일부', '▁중국', '이었', '▁인구', '▁등이', '▁제작', '라이', '▁대표', '▁전쟁', '▁등의', '대의', '▁이용', 'ic', '회의', '▁감독', '▁정부', '▁식', '▁축구', '▁손', '리에', '자가', 'is', '▁아이', '▁위한', '▁존재', '년부터', '▁끝', '▁구성', '▁있어', '도의', '▁R', '부분', '했으며', '▁허', '▁정치', '▁즉', '▁이상', '도로', '▁영국', '▁G', '▁프랑스', '나라', '▁-', '력을', '▁이어', '▁테', '거나', '▁것은', '▁중심', '이자', '년에는', '▁일반', '▁문제', '▁자신의', '▁길', '▁같다', '▁맡', '▁나타', '시에', '▁월', '▁러', '▁가능', '▁온', '▁작품', '▁앞', '▁논', '▁뉴', '▁환', '▁N', '000', '▁게임', '기의', '▁개발', '▁걸', '▁맞', '▁리그', '▁곳', '▁이러', '▁동안', '▁갖', '▁193', '▁발견', '▁이러한', '▁기준', '▁캐', '▁접', '▁준', '리스', '▁H', '▁별', '▁새로', '▁하지만', '▁U', '▁주장', '▁30', '▁등을', '▁이는', 'at', '년대', '▁면', '▁위치한', '▁발표', '▁향', '▁E', '▁밀', '통령', '하면', '▁국제', 'le', '▁되어', '되었으며', '▁〈', '▁방송', '도록', '로부터', '▁농', '들과', '위원', '났다', '▁협', '(1', '▁지방', '시키', '▁볼', '로는', '▁잘', 're', '자의', '▁검', '▁의미', '기는', '▁2010', '▁섬', '▁이를', '▁대부분', '서는', '군의', 'it', '▁사건', '▁전투', 'ou', '리가', '기가', '다는', '▁공격', '에서도', '▁하고', '▁번째', '란드', '▁밝', '▁담', '월에', '▁폭', '사가', '▁육', '▁귀', '▁대회', '리카', '하였으며', '▁문화', '다고', '▁홍', '▁음악', '▁영향', '▁대학', '▁대통령', '▁막', '어진', '정을', '▁얻', '이트', '리그', '세기', '했던', '▁W', '년까지', '스를', '▁최초', '명의', '쪽으로', '▁참여', '▁미국의', '▁프로그', '▁석', '▁키', '▁극', '성이', '들에게', '▁설립', '▁날', '▁우승', '▁진행', '자를', '▁설치', '인의', '▁줄', '▁결과', '▁이에', '자는', '▁효', '▁특히', '▁앨', '와의', '도를', '▁발생', '10', '▁관계', '▁관련', '▁역사', '▁<', '▁일어', 'el', '▁곡', '▁배우', '▁된', '림픽', '▁2008', '▁책', '▁그녀', '디오', '▁절', '▁“', '▁봉', '▁25', '▁유럽', '▁사망', '▁발매', '리의', '▁만들어', '▁다양', '자로', '대를', '렸다', '가지', '▁암', '▁같이', '▁러시아', '▁이전', '▁생각', '이스', '▁독립', '▁형태', '▁부분', '(19', '▁갈', '므로', '요한', '▁태어', '▁시간', 'om', '▁사실', '▁폐', '▁글', '▁인해', '▁교육', '스터', '▁블', '▁헤', 'st', '▁주로', 'ol', '▁새로운', '▁소속', '▁질', '▁자유', '▁이것', '▁받아', '▁경제', '▁측', '▁2007', '▁좋', '▁수도', '▁지원', '▁2011', '▁받았다', '▁이탈', '▁있고', '스가', '▁2009', '르는', '▁기술', '▁올림픽', '라마', '▁2012', '▁중앙', '식을', '▁와', '▁계속', '과의', '▁침', '▁출신', '화국', '▁프로그램', '▁엔', '▁머', '▁t', '▁등장', '▁송', '번째', '▁지정', '▁잡', '▁로마', '▁커', '▁상태', '▁참가', '▁범', '▁구조', '▁있던', '도는', '▁누', '-1', 'ch', '▁192', '▁데뷔', '▁탄', '▁벌', '▁골', '학자', '▁2014', '▁결정', '▁매우', '▁성공', '다가', '사의', '▁선거', '▁탈', '부의', '▁운영', '▁난', '리즈', '인이', '이지', '대학교', 'am', '▁않았다', '프트', '▁아버', '▁혼', '으로서', '▁넘', '▁아들', '이션', '▁가지고', '르크', '▁J', '▁이탈리아', '▁2013', '전을', '▁21', ',000', '▁니', '▁타이', '드는', '▁몇', '비아', '▁일본의', '▁고려', '▁윤', '기로', '▁돌아', '▁없다', '명을', '▁급', '▁아니라', '▁슈', '하기도', '▁O', '▁들', '▁찾', '대에', '처럼', 'tion', '▁터', '에서의', 'ing', '▁차지', '해서', '▁결국', '▁만들', '장이', '▁100', '도가', '했지만', '▁24', '▁생산', '▁없는', '왔다', '▁한편', '되지', '▁운동', '▁악', '▁싱', '▁2015', 'us', 'et', '▁해당', '▁최고', '▁행정', '▁떨', '▁0', '▁조직', 'il', '▁2006', '▁출연', '남도', 'ro', '▁않고', '우스', '하자', '운데', '▁아래', '▁22', '▁23', 'FA', '▁케', '사는', '▁앨범', '▁전체', '▁계획', '권을', '▁업', '▁좌', '▁많이', '간의', '▁이유', '▁내용', '▁2016', '▁2018', '부에', '▁쿠', '원을', '냈다', '▁가리', '명이', '▁라이', '▁폴', '화를', '▁음반', '스타', '▁여성', '▁둘', '▁유명', '▁따르', '군은', '수를', '▁방법', '선의', '일부터', '수의', '▁힘', '\")', '▁가운데', '▁주요', '스크', '스템', '초등학교', '으로써', '원의', '▁떠', '▁하여', '▁후보', '▁빠', 'of', '▁팔', '▁대학교', '▁역할', '▁제공', '▁데이', '▁남아', 'as', '▁국민', '음을', '▁스타', '장으로', '어로', '장은', '▁2017', '▁다양한', '▁묘', '▁월드', '▁28', '진다', '▁몸', '▁26', '사로', '지의', '나는', '▁이루어', '▁않는다', '▁거의', '▁콘', '였던', '▁표현', '대학', '▁각각', '▁컴', '자인', '▁드라마', '하던', '▁인터', '▁잠', '리고', '민주', '▁27', '▁모습', '했으나', '▁헌', '이의', '인민', '인다', '지가', '▁스페', '운동', '▁수상', '(\"', '전에', '스와', '수가', '▁연결', '▁칼', '머니', 'ra', 'BS', '▁졸', '하려', '▁붙', 'de', '▁191', '▁마지', '됐다', '▁이름을', '▁이미', '으로는', '▁V', '▁격', '▁공식', '▁190', '_1', '▁경상', '▁,', '문화', '▁출전', '원이', '▁알려져', '▁얼', '▁임명', '▁필요', '▁2005', '▁시리즈', '스로', '성의', '▁따라서', '▁열린', '가는', '▁높은', '으로부터', '대표', '위원회', '점을', '▁작은', '▁마이', '▁몰', '력이', '▁마지막', '▁지구', '▁영향을', '▁시스템', '▁뛰', '제로', '▁인정', '▁공개', '▁직접', '▁과정', '▁정보', '▁능', '시켰', '지에', '▁2000', '대한', '▁빌', '▁따르면', '▁of', '었고', ').', '어를', '▁대신', '▁기원', '▁이야', '시의', '상의', '200', '▁보고', '이가', '▁2004', '▁개최', '지고', '▁진출', '▁추가', '▁대전', '▁기능', '북도', '▁항공', '▁센', '▁자연', '▁활약', '있다', '제를', '▁않은', '해야', '▁엘', '▁풍', '▁그리스', '▁평가', '》(', '군이', '▁c', '▁민주', '▁시대', '▁되는', '▁쇼', '▁29', '▁그룹', '▁정도', '▁있는데', '▁상황', '▁홈', '▁정의', '▁오스트', '▁녹', '▁생활', '▁유지', '▁브라', '▁눈', '▁바이', '▁그가', '갔다', '▁건물', '▁졸업', '▁말한다', '이드', '선을', '사에', '▁후에', 'ed', '▁변경', '▁비롯', '▁먹', '▁인도', '▁인구는', '▁철도', '▁서로', '▁노래', '▁역시', '수로', '▁발전', '▁크게', '▁퍼', '▁보여', '▁핵', '위에', '▁아르', '▁관한', '▁제국', '▁지금', '▁않았', '▁프리', '▁압', '▁중요한', 'ac', '르트', '▁여자', '▁레이', '▁응', '인을', '▁결혼', '전에서', '들에', '▁건설', '적은', '▁뿐', '▁인물', '▁거쳐', '▁울', '▁그것', '세의', '지로', '▁학교', '▁뜻은', '인은', '▁사업', '▁하였', 'ri', '▁부산', '부를', '일까지', '▁분류', '▁m', '원은', '▁낮', '계를', '▁[', '▁FC', '▁관리', '니다', '치는', '▁나라', '▁2019', '어는', '50', '식으로', '▁경기도', '▁상대', '▁혹', '▁이론', '특별', '▁일으', '▁공동', '킨다', '▁반대', '▁플레이', '▁요구', '▁가진', '▁형성', '▁희', '▁딸', '문을', '전히', '▁티', '광역', '임을', '▁밴', '▁만든', '▁원래', '▁연합', '원으로', '치를', '▁놓', '트로', '부는', '▁모델', '▁기업', '되면서', '▁31', '▁중화', '▁시절', '▁2002', '▁않는', '레스', '수는', '른다', '▁동시에', '▁색', '▁군사', '제가', '▁이르', '▁사이에', '▁느', '리오', '▁실시', '▁시작했다', '▁지하', '▁기본', '▁워', '운드', '군을', '하였으나', '▁겸', '장의', '인민공', 'ent', '▁싱글', '▁2003', '대는', '▁어떤', '상이', '▁지역의', '▁비판', '▁승강', '▁아닌', '이었던', '▁제외', '▁노동', '▁:', '역이다', '대가', '프리카', '회를', '▁계약', '▁긴', '▁잉', '제의', '▁역할을', '▁운행', '정한', '▁현대', '▁학생', '하는데', '상으로', '▁자동', '▁50', '▁싸', '▁민족', '▁명칭', '▁지도', '▁소련', '▁야구', '이기도', '▁189', '▁전통', '▁처음으로', '▁여기', '주는', '▁최초의', 'and', '장에', '▁전라', '체의', '명은', '▁콜', '▁판매', '나다', '▁보통', '▁공간', '▁휴', '▁영화이다', '스탄', '▁이동', '▁이때', '▁망', '되며', '린다', '있는', '▁특징', '▁수행', '▁의한', '▁있을', '▁나오', '12', '▁「', '▁기준으로', '이를', '18', '▁기반', '▁기간', '▁넓', '▁도입', '▁달리', '▁되고', '단의', '▁그래', '▁초기', '▁특별', '자와', '▁견', '▁교황', '호로', '▁비슷', '▁전문', '▁옮', '▁도쿄', '소를', 'un', '키는', '▁서비', '▁푸', '▁개인', '카이', '▁있다고', '▁인간', '과는', '▁하며', '▁마을', '▁위하여', '적을', '▁기존', '▁종교', 'ig', '연구', 'BC', '.5', '격을', '서를', '성은', '▁다이', '▁퇴', '관은', '▁웨', '시마', '▁바로', '장에서', '▁개의', '▁혹은', ')·', '▁엄', 'ur', '▁지나', '▁혁', '호를', '체를', '15', '▁역임', '독교', '▁궁', '▁월드컵', '중에', '▁애니', '▁슬', '▁벨', '▁탑', '가와', '물을', '▁과학', '▁모양', '▁훈', '▁빈', '시간', '▁s', '▁출시', 'os', '▁1990', '▁목록', '▁기타', 'um', '▁정책', '▁어머니', '.\"', '▁사랑', '▁유일', '▁태양', '고등학교', '혔다', '동안', '▁지배', '무를', '트를', '명이다', '퓨터', '▁이끌', '▁아버지', '▁국내', '30', '▁일반적으로', '드로', '했는데', '드의', '▁전국', '▁될', '텔레', '▁경기에서', '하지만', '▁연방', '▁경찰', '▁기관', '광역시', '▁과거', 'od', '리로', '▁언어', '▁소설', '▁지휘', '▁주변', '16', '▁공연', '▁맥', '리와', 'ation', '도에', '화가', '▁동일', '▁기원전', '기관', 'ot', '▁샤', '▁p', '▁중심으로', '트의', '▁부르', '마다', '피언', '학과', '방송', '▁이적', '쪽에', '시켰다', '▁40', '▁산업', 'ad', '▁2001', '드를', '▁이것은', '▁보내', '▁그를', '▁받은', '스코', '▁적용', '▁탐', '▁가수', '▁비교', '▁FI', '의를', '▁흔', '구의', '▁먼', '군에', '▁1,', '▁곧', '호는', '▁획', '▁뮤', '메이션', '▁풀', '위로', '▁속하는', '경기', '▁받았', '▁추정', '▁밖', '▁작업', '▁지정되었다', '▁있다는', '▁확인', '▁분야', '▁클럽', '▁충청', '▁가까', '쳤다', '▁담당', '▁떨어', 'id', 'ter', '▁선정', '▁받고', '▁방영', '▁the', '▁찾아', '▁건축', '류의', '▁컴퓨터', '▁없이', '동에', '▁되었고', '체가', '리지', 've', '▁노선', '▁숙', '▁착', '▁국가대표', '▁옥', '당의', '▁방향', '▁챔', '▁때문이다', '▁기독교', '년의', '▁규모', '▁열차', '▁작곡', '▁피해', '어가', '▁자기', '트는', '▁통합', '▁득', '사와', '▁환경', '-2', '▁지지', '비전', '▁낙', '▁염', '▁차량', '▁증가', '▁배우이다', '14', '정에', '단을', '세는', '야마', '▁어느', '▁두고', '▁실패', '스에', 'ow', '▁설명', '하거나', 'op', '▁가족', '▁대부분의', '▁그녀는', '글랜드', '어의', '60', '조의', '크로', '▁우주', '▁멤', '인으로', '▁개념', '▁넣', '르게', '▁너', '▁기념', '▁늘', '▁올라', '▁활동을', '종의', '▁태어났다', '▁갑', '▁뉴욕', '▁이런', '11', '▁윌', '▁상당', '▁챔피언', '▁오늘', '부가', '▁최대', '▁자신이', '▁이와', '중학교', '나무', '▁수록', '▁이상의', '▁보호', '제는', 'ec', '.2', '회는', '▁캐나다', '인이다', '동을', '▁있지만', '시켜', '▁애니메이션', '▁걸쳐', '학적', '이로', '▁이름은', '▁서울특별', '▁TV', '트남', '▁1980', '▁FIFA', '일에는', '▁데이터', '▁사상', '면에', '▁사고', '▁(19', '▁하나이다', '▁어린', '원에', '▁대체', '교육', '▁다음을', '계의', '▁없었다', '▁1999', '관을', '▁있어서', '렇게', '움을', '▁수는', '▁등에', '으면', '▁대하여', '적이', 'cm', '▁멤버', '▁·', 'em', '세가', '▁스페인', '겼다', '▁1998', '식의', '▁최초로', '▁예정', '▁최근', '스카', '이란', '▁등으로', '구에', '▁있었던', '치가', '▁하다', '13', '▁뛰어', '메리카', '▁흐', '▁나가', '▁획득', '▁위원', '했다고', '성과', '일을', '17', '기와', '▁땅', 'ag', '▁선출', '▁자료', '80', '심을', '자들은', '.)', 'ir', '▁더욱', '▁불가', '▁공화국', '드리', '▁잉글랜드', '식은', '▁윈', '▁텔레', '▁개봉', '▁선택', '▁최종', '▁내려', '단은', '▁구간', '_2', '식이', '성에', '했을', '▁지역에', '세를', '지역', '▁베이', '▁인천', 'oc', '▁맺', '어서', '▁부족', '▁흑', '▁솔', '▁잔', 'ia', '▁조사', '▁조건', '인민공화국', '▁보인다', '▁시민', '널리', '▁평균', '▁d', '▁정당', '▁선언', '학을', '트리', '40', '▁물리', '▁변화', '▁앤', '▁b', '▁런', '▁조지', '시키는', '되었으나', '.0', '▁연주', '▁자리', '▁명령', 'th', '▁대구', '▁선발', '프로', '▁어려', '▁흥', '▁1997', '한다는', '▁공산', '덜란드', 'ver', '개월', '》,', '시대', '▁동물', '▁연속', '▁에너', '▁도로', '▁서울특별시', '난다', '렀다', '▁결승', '▁가리킨다', '▁점령', '▁칭', '정부', '▁있게', '함으로써', '▁이름으로', '소가', '▁불구', '▁효과', '라도', '만을', '▁작가', '▁1995', '▁반응', '▁전기', '호선', '▁표준', '명으로', '▁Y', '▁움', '▁이들은', '▁옛', '▁관할', '포츠', '▁잃', '년간', '▁거주', '▁좋은', '▁국립', '▁X', '자들이', '하도록', '▁예를', '▁헌법', '내는', '만이', '▁언급', '▁몽', '▁교통', '상에', '이지만', 'ce', '▁이유로', '▁1996', '회에서', '▁팬', '▁이해', '▁아시아', '▁선수이다', '▁컨', '구를', '▁현재는', '이에', '▁고대', '▁유사', '▁후반', '▁덕', '▁마르', '▁덴', '쪽으로는', '▁국가대표팀', '▁그들의', '▁승리', '상은', '▁전에', ']]', '▁징', '▁네덜란드', '웠다', '▁익', '비를', '▁액', '▁소유', '▁주의', '역을', '▁출판', '▁베트남', '▁왜', '인데', '▁전자', '▁조약', '▁단체', '▁목표', '▁메이', '▁정규', '▁폴란드', '스턴', '▁사무', '레일', '▁겨', '▁km', '▁북한', '었으며', '진을', '▁것이라고', 'nd', 'mm', '▁휘', '학의', '모토', '▁면적은', '▁예술', '으므로', '▁공립', '일랜드', '▁명의', '▁세포', '▁지속', '▁이곳', '▁입단', '▁하나의', '▁맡았다', '▁주민', '주에', '▁188', '과에', '▁현재의', '▁1994', '랐다', '▁시설', '▁구분', '라의', '▁모습을', '월에는', '▁쌍', '▁깊', '▁밤', '▁이듬', '▁밝혔다', '▁국회의', '▁하지', '▁버전', '▁정신', '▁영국의', '정이', '▁하나로', '▁1970', '민주주의', '▁정확', '▁드러', '▁우리', '▁불구하고', '▁돈', '▁사용하는', '▁대중', '▁아직', '베이', '되기', '▁지상', '▁말했다', '▁끌', '▁실험', '▁소프트', '▁실제', '▁오늘날', '▁소비', 'ay', '▁강화', '지지', '▁그런', '▁1992', '▁분리', '▁쓴', '70', '계에', '▁씨', '라스', '지방', '자리', '..', '▁포르', '▁제한', '▁유래', '사카', '▁[[', '▁그림', '원에서', '▁세워', '▁거두', '▁이듬해', '▁육군', '▁사이의', '나이', '▁믿', '단에', '▁크리스', '스키', '관이', '치고', '주시', '▁핀', '직을', '지와', '▁페르', '금을', '▁가문', '▁웹', '메달', '소의', '버스', '▁알려진', '단이', '▁은퇴', '▁불리', '▁언론', '시코', '▁고등학교', '회에', '▁통과', '부르크', '거리', '월부터', '스테', '▁비해', '▁찬', 'The', '▁분석', '가의', '골을', '▁위에', '▁널리', 'im', '▁남자', '▁포함한', '회가', '형을', '▁그들은', '▁의미한다', '들로', '▁제품', '▁물질', '톨릭', '▁방문', '베르', '▁나온', '▁발달', '▁헬', '▁칸', '▁펼', '▁움직', '▁회사', '▁등과', '장과', '정의', '▁중에', 'ul', '바이', \")'\", '▁경험', '로의', '▁1991', '철도', '▁차례', '▁이사', '▁결합', '스티', '▁못했다', '▁완전히', '▁제조', '체는', '▁홀', '법을', '▁비행', '▁설계', '▁크로', '▁바탕', '불어', '하의', '▁자치', '▁친구', '▁프로젝', '르고', '▁것에', '드가', '루스', '이어', '▁여겨', '▁1993', '-0', '▁전해', '▁꽃', '▁괴', '▁사람이', '▁연기', '▁요청', '▁갖고', '▁부여', 'te', '▁배치', '▁더불어', '들도', '아의', '▁통일', '▁멸', '▁자주', '▁때까지', '▁소재', '당은', '▁1960', '▁마음', '▁스웨', '러스', '선에', '▁정도로', '점이', '▁알렉', '▁독일의', '사업', '▁수준', '▁프랑스의', '▁비롯한', '▁주연', '일본', '▁빛', '시는', '▁런던', 'EFA', '▁브라질', '산을', '▁맨', '▁멀', '▁깨', '소는', '▁제안', '▁나머', '▁오른', '▁중요', '▁그대로', '찬가지', 'TV', '▁영토', '▁목적으로', '▁마찬가지', '▁1988', '▁초등학교', '▁오래', '▁파괴', '▁요시', '로를', '▁쉽', '▁바뀌', '릭터', '▁유전', '트가', '▁아프리카', '▁감독의', '▁스스로', '▁이로', '위가', '부로', '▁주인', '경을', '▁텔레비전', '스토', '▁않아', '웨어', '▁인터넷', '▁만나', '▁유명한', '▁60', '위는', '▁확장', '지에서', '기술', '우는', '▁있도록', '▁외국', '▁패배', '관으로', '》()', '▁성장', '.3', '▁이들', '▁식민', '인과', '정은', '▁추진', '▁밝혀', '선거', '가를', '▁오스트리아', '었던', '▁의하여', '▁많다', '▁치료', 'ap', '\",', '▁스웨덴', '문에', '위의', '▁존재한다', '▁사라', '선이', '▁달러', '▁UEFA', '▁하이', '물의', '▁지난', '▁우승을', '▁아마', '주를', '▁남부', '▁기여', '▁사람들이', '▁칠', '▁가르', '받았다', '▁복귀', '되기도', '일의', '지게', '감을', '르의', '▁불교', '아가', '▁경우가', '▁경쟁', '▁1989', '종이다', '▁혈', '없이', '▁스포츠', '영화', '▁과정에서', '신을', '▁강력', '▁근처', '▁법률', '▁습', '▁몬', '▁짧', '▁되었', '▁먼저', '▁일어나', '▁하계', '▁캐릭터', '▁공항', '▁해석', '▁왕국', '회사', '▁있으나', '▁이외', '▁초대', '라인', '멕시코', 'NA', '▁주도', '▁것이었다', '많은', '▁영어', '▁접근', '48', '▁수용', '▁가톨릭', '▁광주', '규모', '▁폐지', '력은', '▁집합', '▁일제', '▁밴드', '▁서식', '▁들어가', '▁관측', '▁불리는', '▁품', '▁선수로', '이기', '카와', '하라', '스에서', '레일리아', '▁KBS', '▁가능하다', '▁단순', '군과', '도와', '▁알고', '조는', '▁그녀의', '▁잇', '▁작용', '▁제작된', '▁개혁', '▁특정', '▁촉', 'li', '구는', '행을', '▁스위', '정보', '▁않다', '25', '오는', '▁가져', '디어', '▁구성되어', '▁기초', '형의', '▁필리', '화국의', '▁이야기', '▁도착', '▁십', '▁인민', '▁노르', '▁때는', '▁결성', '하다가', '▁여기서', '과학', '▁교수', '하이', '▁제국의', '소년', '▁비슷한', '자이다', 'og', '▁70', '주로', '▁여객', '▁성립', '▁술', '▁St', '졌고', '▁/', '▁강원', '▁자동차', '▁조각', '량이', '간다', '▁186', '▁해결', '▁궤', '▁조선민주주의', '▁선수권', '▁수많은', '수한', '전의', '▁거부', '▁록', '▁떨어진', '▁스테', '하였는데', '▁아카', '크의', '▁해안', '▁경영', '_3', '▁앙', '웨이', '▁사용한다', '▁디자인', '▁파견', '▁기록했다', '▁상대로', '▁삼성', '▁반란', '속도로', '고를', '▁아무', '시를', '▁지역에서', '▁라디오', '▁바꾸', '▁지냈다', '했다는', '▁행동', '선은', '▁상호', '▁생성', '▁의하면', '▁보다', 'ab', '▁동맹', '▁『', '▁다르', '▁발행', '▁겪', '▁중간', '▁아시', '▁히로', '▁여름', '▁미국에서', '▁북쪽', '▁그린', '▁이루어진', '▁살아', '▁놀', '전이', '▁외교', '어나', '▁187', '▁의원', '▁대표적인', '▁을', '▁남쪽', '▁황제', '▁프레', '90', '▁제시', '▁부정', '▁당선', '센터', '구가', '하기로', '▁나무', '▁대해서', '▁승강장', '▁훈련', '▁슈퍼', '▁지하철', '함을', '▁공작', '▁임시', '▁분포', '자에', '▁타이틀', '▁다만', '▁시행', '▁만에', '▁2020', '촬영', '▁논란', '량을', '▁것과', '▁마찬가지로', '▁오스트레일리아', '▁1945', '(200', '▁형태로', '▁이렇게', '▁투표', '▁근거', '▁위해서', '▁엔진', '미터', '▁in', '부에서', '▁방어', '▁이주', '▁상징', '▁처리', '트워', '관의', 'ard', '▁흡', '▁캠', '▁중에서', '▁빅', '와는', '인트', '▁번역', '▁위험', '아시아', '▁계열', '▁대응', '▁시작하였다', '낸다', '▁교회', '▁일을', '▁1950', '▁끝에', '(20', '▁윌리', '만의', '▁스트', '전은', '왕의', '▁1986', '나가', '▁출생', '▁등록', '▁유니', '았고', '▁부른다', '▁멕시코', '▁1987', '▁디지', '▁년', '지션', '▁표시', '▁벽', '▁개통', '▁야마', '였고', '한다고', '▁시도', '▁n', '▁재판', '업을', '▁제주', '교회', '면을', '시즌', '으면서', '▁붕', '▁꾸', '▁체포', '성으로', '▁준비', '▁사용된다', '▁값', '평양', '▁곳에', '▁즉위', '▁몇몇', '▁있었고', '▁뇌', '▁통치', '조선', '▁있기', '크라', '▁규정', '▁?', '▁삶', '화된', '.1', '.4', '사에서', '▁한국의', '▁아일랜드', '사회', '▁이름이', '▁숨', '21', '▁적이', '▁사용할', '▁곤', '점으로', '▁좋아', '▁시험', '조를', '년을', '요일', '▁회의', '어졌다', '23', '▁활용', '▁쌓', '▁체결', '▁동생', '▁바다', '▁보유', '리에서', '문화재', '▁중단', '24', '▁따른', '▁캘', '디아', '▁제기', '▁대해서는', '▁벤', '화의', '오카', '.6', '86', 'ut', '▁그렇', '학생', 'ie', '▁있지', '▁낳', '대와', '▁본래', '▁1984', '▁보존', '▁다카', '▁미사', '▁안정', '▁다루', '▁종합', '▁나타나', '인들이', '▁조성', '▁가정', '▁직후', '▁귀족', '▁80', '▁유로', '▁경상북도', '▁윈도', '나의', '연합', '▁카를', '▁관련된', '▁종류', '▁밑', '물이', '▁나머지', '부와', '국이', '당이', '해졌다', '▁얼마', '▁시기', '▁지적', '량은', '▁표기', '▁경상남도', '▁계승', '수이다', 'ine', '가이다', '도시', '▁살해', '▁주인공', '▁촬영', 'ht', '▁것도', '▁오브', '▁못하고', '35', '▁완성', '.7', '▁보수', '▁센터', '가로', '습니다', '▁하루', '▁1985', '▁팀의', '▁문학', '▁엘리', '▁서비스', '▁and', '▁못한', '▁떠나', '▁혁명', '였으며', '▁옮겨', '▁사진', '▁내각', '리포', '로가', '니는', '▁동쪽', '▁오후', 'ion', '▁수비', '력의', '나라의', '트에서', '러운', '▁대사', '▁둔', '▁강한', '되자', 'ess', '하에', '▁천황', '▁가능한', '▁금지', '▁대륙', '▁혐', '역으로', '▁유일한', '▁이루어져', '▁위치하고', '▁싶', '인지', '시키고', '전한', '권의', '선에서', '롭게', '▁홍콩', '자들의', '소에', '내고', '▁묘사', '시킨', '▁이스', '▁취임', '안을', '소로', '주교', '▁윌리엄', '▁안에', '▁류', '▁달성', '▁왼', '체로', '려고', '▁유대', 'nt', '서로', '▁비디오', '▁젊', '▁디지털', '▁바르', '국은', '▁해외', '▁스코', '▁의견', '계가', '▁종료', '▁포르투', '티아', '學校', '▁충돌', '▁정부는', '▁르', '▁베르', '▁물론', '▁이용하여', '력으로', '▁벗', '▁스튜', '▁친일', '89', '▁각종', '▁일어난', '▁소개', '▁인근', '▁중의', '▁경우에는', '▁이집', '▁지명', 'br', 'ak', '민족', '치의', '피아', '▁전달', '▁근무', '▁사이에서', '▁필요한', '▁간의', '▁아내', '▁35', '▁위치해', '▁승격', '▁문제가', '▁오사카', '세에', '▁주목', '▁관광', '헝가', '▁억', '▁2,', '▁경기를', '▁가까운', '당을', '▁발사', '▁지역을', '월까지', '로로', '▁빨', '치로', '▁낮은', '▁읽', '▁참여하였다', '▁말을', '▁도시로', '▁32', '▁제거', '임스', '▁베네', 'ity', ')\"', '▁죄', '▁아니다', '▁나누', '▁파이', '▁관계를', '▁위의', '▁전환', '▁듣', '▁이슬', '분을', '적으로는', '조가', '92', '▁1982', '▁합류', '45', '분에', '▁만들었다', '▁남북', '▁둘러', '▁가입', '▁뒤에', '▁알렉산', '▁문제를', '량의', '▁만들어진', '▁폰', '▁썼', '단으로', '▁굴', '작용', '▁중국의', '▁미술', '▁해군', '▁서쪽', '기업', '▁빼', '▁이래', '승을', '워드', '▁명예', '고로', '▁만화', '라우', '▁에이', '▁되었으며', '▁평화', '▁후쿠', 'ph', '▁제도', '▁수가', '▁꼬', '▁출신의', '▁주는', '준다', '니스', '▁불린다', '▁건너', '▁구조를', '▁즐', '▁Ch', \"',\", '▁북부', '.(', '▁갖추', '물관', '그룹', '▁뮤직', '라고도', '▁1983', '▁바탕으로', '▁네트워', '▁미래', '▁정식', '지도', '▁그려', '▁반면', '▁계산', '▁실제로', '석을', '▁옆', '론을', '▁실행', '▁멜', '▁신라', '▁전반', '상과', '▁전시', '▁전략', '되었던', '▁펜', '▁종목', '종이', '▁최고의', '▁너무', '▁마련', '▁정치적', '▁기존의', '▁제목', '인들은', '▁만약', '만에', '일은', '문학', '▁전라남도', '메이', '▁w', '▁부문', '계는', '▁주었다', '신의', '▁오르', '▁In', '권이', '85', '▁사실을', '▁납', '프는', '▁재직', '▁MBC', '▁그해', '▁비밀', 'ist', '시가', '▁기록을', '▁저항', '산으로', '버트', '▁스토', '▁집중', '▁신문', '▁강조', '이던', 'ge', '▁The', '▁통하여', '▁사람은', '▁가는', '▁인식', '산의', '▁부모', '▁넘어', '리어', '미널', '▁맹', '▁배경', '▁생물', '▁연장', 'ber', '▁기후', '산업', '\"(', '즈의', '사이', '먼트', '상에서', '▁작성', '-3', 'ne', '생활', '관리', '▁아키', '메달을', '▁상업', '▁던', '▁사령', '이라고도', '▁정착', '▁마이크로', '점에서', '▁불러', '▁성격', '비가', '크는', '했기', '▁무렵', '▁II', '▁인한', '로스', '년대에', 'CA', '차를', '▁적극', '▁기능을', '▁끼', '▁제외한', '▁하기', '라노', '▁보여주', '▁영역', '질을', '세포', 'est', '▁허용', '▁혜', '▁객', '단체', '▁공급', '보다는', '▁아우', '졌으며', '해를', '▁올랐다', '은행', '교의', '공항', '두고', '시대의', '장이다', '로운', '▁로스', '▁내부', '▁확대', '▁셀', '▁뿐만', '에게는', '▁유형', '▁왔다', '법원', '▁대회에서', '파의', '▁이후에', '전쟁', '47', '▁최소', '▁입학', '▁사용하여', '▁사회주의', 'all', '▁일반적인', '▁나중에', '▁일이', 'ran', '▁의사', '▁오스', '▁사람을', '밖에', ')》', '계에서', '프가', '▁항상', '▁헨', '▁포지션', '22', '▁받아들', '▁정부의', '▁생활을', '▁이슬람', '▁1979', '리포니아', '▁여전히', '▁지진', '▁뒷', '▁족', '▁터키', '▁만드는', '.8', '▁부근', '적이고', '가가', '물로', '▁1981', '▁국방', '▁보면', '▁인디', '▁관찰', '▁전투에서', '르타', '▁이번', '▁제정', '▁케이', '▁그래서', '래프트', '되었는데', 'qu', '.9', '▁시대의', '▁판단', '세이', '▁출발', '▁보도', '▁동료', '▁동부', '▁연극', '▁1972', '년과', '▁원자', '▁확보', '▁핀란드', '호가', '과를', '▁위협', '▁있었지만', '개발', '기고', '▁편집', '▁채널', '▁매년', '원과', '주가', '▁사용되는', '한국', 'ers', '▁a', '▁덴마', '▁보이', '▁붕괴', '▁선의', '▁가리키는', 'ub', '▁바람', '▁쉽게', '▁포르투갈', '▁국왕', '▁뒤를', '면의', '▁등은', '시오', '다이', '▁경우도', '27', '▁정리', '사령', '▁de', '까지의', '▁채택', '로도', '서관', '▁마리아', '았으며', '▁문서', '26', '끄는', '▁젊은', '력에', '▁충분', '▁90', '▁동계', '▁교체', '▁전개', '36', '▁마사', '동차', '▁흰', '▁높이', '실을', '▁이승', '경제', '▁방식', '▁시의', '시로', '▁범죄', '▁시작되었다', '▁1973', '▁합병', '▁500', '▁세운', '▁유리', '▁남동', '대전', 'tic', '▁승리를', '▁끊', '▁모스크', '▁일종이다', 'ST', '▁남편', '▁외에도', '▁말이다', '▁공격을', '▁겨울', '▁다섯', '▁감소', 'art', '▁하자', '▁점차', '37', '▁아나', '▁장기', 'ell', '▁척', '세기에', '▁시기에', '46', '구려', '▁없어', '▁득점', '모리', '화에', '▁떨어져', 'FC', '라운드', '▁계약을', '▁자리를', '▁밖에', '력과', '비는', '▁탑재', '▁측정', '트라', '▁귀국', '당에', '드와', '▁강력한', '로서의', '87', '▁옹', '배우', '▁등에서', '▁전사', '▁의해서', '▁중학교', '▁사람들은', '▁울산', '리기', '▁사용한', '▁서부', '▁블랙', '▁k', '음악', '▁구축', '▁그곳', '의로', '▁녹음', '▁잠시', '하려는', '▁강원도', '▁민간', '▁수학', '대에서', '테인', '▁본관은', '▁얼굴', '▁수립', '▁관심을', '▁냉', '데미', '▁갖춘', '▁하게', '▁성우', '▁책임', '까지는', '▁세르', '▁설립된', '▁에드', '자치', '▁하면서', '계로', '▁당시의', '▁헝가', '문이', '▁캘리포니아', '▁안전', '▁정보를', '▁통신', '▁충청남도', '▁해체', '▁필리핀', '당한', '▁구역', '▁주장했다', '▁변호', '협회', '▁시청', '▁흘', '▁인수', '▁평양', '▁g', '95', '▁파일', '▁증거', '설을', '▁춘', '▁마쓰', '▁45', '▁신경', '▁1974', '▁185', '라엘', '일보', '붉은', '▁알아', '▁불과', '▁자체', '▁화학', '▁침공', '▁해방', '▁균', '구로', '▁만족', 'uc', '스케', '▁왔', '해의', '▁집단', '정으로', '▁구단', '▁잎', '받아', '트에', '▁레코', '되었지만', '면에서', '▁v', '▁주연으로', '▁길이', '▁예선', '▁간주', '98', '▁종종', '틀랜드', '▁사후', '▁발표했다', '▁나뉘', '▁게이', '▁소프트웨어', '다운', '▁경향', '▁요리', '▁라이브', '네시아', '▁건강', '▁델', '일러', '▁여행', '▁시내', '▁대립', '▁쇠', '용으로', '▁나폴', '우리', '▁샌', '▁기획', '민국', '개를', '사키', '▁좀', '무원', '티브', '▁이끄는', 'ice', '▁텍', '▁쪽', '▁이란', '▁개봉한', '▁쓰인다', '▁인간의', '하나', '하다고', '▁임명되었다', '약을', '레이션', '리스트', '▁에스', '▁무역', '▁편입', '▁죽은', '▁음력', '같은', '▁1976', '▁봄', '▁찰', '▁회원', '▁태평양', '었는데', '▁정상', '▁힘을', '류를', '▁컬', '▁나오는', '티나', '▁자신을', '학년', '▁짓', '▁폭발', '▁태어난', '▁때에는', '▁제임스', '▁받는', '▁방식으로', 'our', '▁엑', '▁인사', '자들을', '▁1978', '▁회복', '자에게', '▁개편', '▁비교적', '▁대형', '▁인기를', '▁수입', '▁한다는', 'se', '▁장애', '명한', '75', '▁대상', '후의', '▁설치되어', '▁속에', '▁뛰어난', '▁연맹', '하고자', '키아', '▁기계', '▁라틴', '리학', '▁사례', '▁둥', '▁공공', '▁조정', '박쥐', '▁자본', '▁수정', '▁국회의원', '적이다', '▁아름', '점에', '...', '었으나', '▁1920', '▁조선민주주의인민공화국', '▁&', '▁특수', '▁1971', '▁신설', '▁남성', '▁노력', '▁후손', '▁어떻', '다른', '▁했지만', '▁블루', '라비아', '▁메이저', '신이', '▁루이', '▁에피', '초등학교는', '음이의', '▁숲', '족의', '▁고양', '▁전차', '65', \"'(\", '데스', '32', '▁이것이', '▁저장', 'ip', '▁보이는', '▁형식', '▁위치한다', '종은', '▁사람의', '▁대규모', '화는', '▁고구려', '▁1968', '▁1963', '▁1975', '▁몽골', '▁180', '▁초등학교이다', '▁함수', '▁불가능', '▁카메', '▁피아', '▁복잡', '니어', '포르', '▁네트워크', '▁프로듀', '▁발견된다', '▁농업', 'av', '룬다', '▁이스라엘', '어져', '▁내에서', '형이', '▁e', '▁않을', '로나', '여자', '▁부터', '▁1930', '정책', '▁파리', '▁털', '동의', '▁한다고', '▁원칙', '▁문화재', '▁사실상', '료로', '▁우선', '▁초반', '▁흔히', '▁고전', '리트', '▁내용을', '▁시대에', '▁편성', '▁홈런', '▁식물', '▁본격', '소에서', '▁1940', '▁감염', '▁링', '이었고', '▁아르헨', '유럽', '차례', '43', '▁꿈', '싱턴', '▁있었으며', '▁콩', '▁발매되었다', '군으로', '▁과정을', '49', '▁조금', '▁부인', '종으로', '▁1969', '▁스튜디오', '▁외에', '국을', '▁쉬', '▁기억', '▁구성된', '▁인하여', '▁근대', 'ik', '오프', '▁나카', '▁북서', ',5', '▁트리', '▁300', '▁지역은', '구역', '▁속에서', '터테인', '▁팀은', '▁나서', '▁전혀', '셔널', '▁이전에', '▁어떻게', '미디', '▁모스크바', '제에', '▁원작', '시와', '▁참석', '료를', '품을', '▁아주', '▁도움을', '▁형태의', '▁유명하다', '▁통한', '▁윈도우', '▁있었으나', '예술', '▁열대', '▁구체', '▁아랍', '▁오리', '▁행사', '크라이나', '려는', '▁죽음', '▁잭', '지기', '분의', '▁대상으로', '아버', '▁잘못', '▁증명', 'for', '▁세이', '▁암살', '▁중화인민공화국', '▁설정', '▁사회적', '▁섭', '▁물러', '76', '▁때에', '▁하는데', '▁사용되었다', '전으로', '지면서', '28', '▁탄생', '▁본선', '▁확정', '▁플로', '드에서', '라크', '▁사는', '대회', '었지만', '▁1948', '▁Z', '▁정도의', '▁비난', '법의', '서에', '▁캄', '▁숫', '▁카운', '세계', '공업', '인들의', '▁등장하는', '어와', '▁공부', '▁했고', '▁시장', '▁창설', '년이', '▁짧은', '동음이의', '권에', '▁되면서', '어도', '▁개선', '▁박사', '▁현실', '▁철도역이다', '▁보급', '받은', '▁묻', '▁하였고', '▁기사', '▁한때', '권은', '▁뜻이', '라가', '법에', '인에', '▁', '이', '다', '.', '에', '의', '는', '로', ',', '하', '1', '을', '가', '고', '지', '서', '한', '은', '기', '0', ')', '(', '으', '2', '사', '대', '리', '시', '를', '년', '스', '도', '인', '일', '아', '자', '9', '어', '있', '라', '수', '나', '부', '그', '전', '되', '정', '국', '과', '해', '주', '었', '제', '들', '성', '장', '3', '구', '여', '상', 'e', '적', '동', '했', '5', '8', '월', '위', 'a', '와', '4', '원', '선', '게', '공', '였', '보', '6', '마', '만', '조', '트', '중', '며', 'o', '드', '7', '화', '경', '학', '미', '교', '소', '우', '유', 'r', '세', 'i', '비', '신', '오', '문', '치', '르', 'n', '명', '개', '면', '계', '역', '후', '연', '관', '등', '회', '된', '것', '진', '터', '영', '모', '용', '\"', 't', '발', '프', '군', 'l', '당', '무', '산', '러', '작', '재', '방', '민', '타', '니', '음', 'm', '데', '단', '거', 's', '레', '통', '간', '카', '분', '반', '생', '바', '안', '체', '포', '차', '행', '크', '내', '호', '현', '식', '운', '본', '노', 'u', \"'\", '남', '할', '종', '파', '물', '양', '요', '때', '출', '속', '임', '실', '야', '두', 'S', '-', '함', '형', '던', 'C', '결', '토', '강', '설', '루', '려', '표', 'A', 'c', '히', '키', '코', '각', '법', '초', '승', '독', '태', '업', '직', '건', '까', '디', '불', 'h', '래', '입', 'd', '배', '버', '력', '합', '록', '또', '점', '최', '예', '않', '번', '받', '매', '피', '같', '았', '약', '천', '른', '권', '왕', '말', '베', '메', '티', '《', '》', 'M', 'T', '심', '판', '격', '립', '알', '브', '청', '더', '금', '목', '감', 'B', '투', '추', '처', '북', '없', '항', 'f', '란', '달', '~', '평', '활', 'F', 'I', '외', '네', '열', '따', '린', '특', '저', '·', 'g', '집', '언', '편', 'P', '석', '준', '복', 'D', '테', '향', '즈', '병', '광', '류', '변', 'p', 'k', '질', '름', '령', '난', 'y', '족', '근', 'E', '랑', '급', '총', '람', '황', '송', '김', '존', '페', '축', '많', '올', '쪽', '능', '박', '술', '참', '철', '울', '론', '별', '살', 'L', '환', 'R', 'N', '온', '창', '악', '증', '품', '절', '및', 'O', '육', '료', '곡', '쿠', '백', ':', '새', '쓰', 'K', '플', '져', 'G', '순', '돌', '졌', '량', '필', '께', 'b', '확', '애', '망', '든', '머', '규', '림', '글', '패', '케', '색', '워', '팀', '범', '탈', '날', '견', '극', 'H', '쟁', '클', '련', '삼', '탄', '너', '친', '충', 'V', '랜', '째', '손', '봉', '막', '_', '책', '접', 'v', '뒤', '못', '완', '협', '퍼', '션', 'U', '/', '담', '런', '밀', '채', '츠', '길', '녀', '습', '골', '측', '블', '혼', '곳', '취', 'W', '럽', '엔', '험', '칭', '귀', '누', '겨', '암', '벌', '찰', '슬', '갈', '커', '씨', '’', '앙', '높', '웨', '슈', '‘', '첫', '뜻', '쳐', '침', '허', '즌', 'w', '죽', '효', '획', '볼', '널', '뉴', '응', '센', '났', '착', '큰', '락', '잡', '헌', '례', '희', '렸', '검', '폭', '득', '징', '움', '논', 'J', '%', '농', '섬', '걸', '캐', '홍', '럼', '틀', '풍', '느', '좌', '퇴', '택', '왔', '끝', '폴', '즉', '엘', '폐', '층', '될', '압', '줄', '픽', '헤', '덕', '윤', '싱', '맞', '먼', '념', '앞', '>', '찬', '맡', '긴', '<', '혁', '늘', '갖', '킨', '율', '써', '익', '〈', '〉', '턴', ']', '[', '릭', '잘', '램', '묘', '빈', '슨', '염', '링', '냈', '얼', '벨', '흥', '균', '억', '델', '닌', '앨', '객', '궁', '콘', '밝', '몇', '엄', '맹', '빌', '휘', '훈', '팔', '옥', '얻', '숙', '컵', '렌', '칸', '갔', '쇼', '“', '”', '텔', '칼', '됐', '므', '괴', '넘', '콜', '맥', '푸', '뷔', '좋', 'X', '몰', '붙', '덴', '핵', '찾', '혹', '낸', '흐', '둘', '빠', '떠', '켰', '템', 'x', '액', '혀', '샤', '컴', '릴', '몬', '뿐', '놓', '룹', '률', '쥐', 'z', '탑', '굴', '욕', '십', '끌', '떨', '힘', '잠', '롯', '싸', '죄', '칙', '갑', '핀', '벽', '척', '졸', '략', '춘', '풀', '몸', '먹', '눈', '맨', '켜', '잉', '끼', 'Y', '촌', '휴', '쳤', '잔', '컬', '홈', '벤', '칠', '렉', '밖', '大', '틴', '녹', '렇', '뛰', '몽', '뮤', '곤', '탁', '!', '륙', '폰', '털', '꾸', '혜', '멸', '탕', '둥', '겼', '밴', '웠', '솔', '겸', '혈', '돈', '딸', '톤', '렀', '혔', '셀', '쿄', '팅', '?', '낮', '넷', '컨', '홀', '앤', '님', '둔', '퓨', '냐', '」', '「', '윈', '텐', '랐', '겠', '욱', '롤', '톨', '탐', '떤', '헨', '꽃', '낙', '넓', '촉', '킬', '읍', '왜', '金', '셔', '콩', '렬', '붕', '山', '펜', '뇌', '랙', '옹', '덜', '슷', '흔', '융', '李', '옮', '섭', '=', '듬', '넣', '멘', '빛', '깨', '놀', '곧', '땅', '學', '킹', '닝', '룬', '헬', '팬', '딩', '쌍', '흑', '겐', '힌', '답', '켓', '챔', '롭', '룡', '값', '튜', '멤', '짓', '젤', '큐', '즘', '윌', '쉬', '쇄', '밤', '릉', '렵', '뢰', '웅', '닉', '흡', '튼', '젠', '씩', '납', '듀', '옛', '맺', '닥', '궤', '쉽', '짜', '랭', '숭', '듯', '+', '랫', '中', '文', '잃', '州', '숨', 'Z', '섯', 'j', '젝', '깊', '웃', '&', '롱', '빙', '꼬', '멜', '國', '멀', '쓴', '王', '캠', '펠', '웹', '핑', '큼', '잇', '즐', '끄', '텍', '믿', '뜨', '찍', '잎', '셰', '덤', ';', 'Q', '』', '『', '밍', '펼', '뷰', '짐', '틱', '빅', '돼', '뀌', '멕', '빨', '엽', '틸', '쇠', '짧', '삭', '곱', '子', '롬', '|', '校', '城', '첨', '폼', '東', '힐', '촬', '럴', '럭', '릿', '혐', '三', '道', 'q', '켈', '캘', '썼', '겪', '安', '곽', '낭', '랍', '딘', '옆', '밑', '켄', '氏', '쌓', '삶', '콤', '高', '흘', '人', '南', '벗', '뉘', '싶', '헝', '첩', '낳', '컷', '젊', '닐', '꿈', '냥', '빼', '옷', '랄', '天', '왼', '듣', '됨', '公', '얀', '읽', '닛', '톱', '냉', '셜', '°', '믹', '룩', '平', '寺', '엑', '픈', '事', '法', '벡', '낼', '섰', '숲', '퀴', '봄', '뒷', '엇', '띠', '書', '흰', '宗', '軍', '묵', '벼', '셋', '뤄', '튀', '븐', '붉', '잭', '쿨', '캄', '川', '元', '좀', '앗', '괄', '샌', '뿌', '義', '正', '끊', '뱅', '슴', '맛', '덮', '一', '씬', '넬', '팽', '녕', '륜', '찌', '–', '떻', '숫', '댄', '뱀', '府', '늬', '묻', '院', '長', '첼', '팩', '∼', '・', '짝', '둑', '웰', '石', '춤', 'é', '늄', '成', '쾌', '렴', '톰', '明', '쓸', '海', '셈', '탱', '뤼', '앵', '캔', '엠', '꼽', '깔', '陽', '뽑', '샘', '늦', '렐', '훨', '꺼', '밥', '닫', '西', '쫓', '光', '옌', '횡', '꼭', '君', '上', '太', '앉', '使', '郡', '팝', '德', '會', '原', '뼈', '륨', '地', '덩', '흉', '좁', '끈', '北', '겔', '武', '世', '끔', '家', '行', '部', '新', '봇', '렘', '本', '훗', '主', '꾼', '룸', 'ᆞ', '等', '깃', '룰', '뚜', '日', '都', '멍', '田', '윗', '神', '水', '韓', '덧', '춰', '펙', '랩', '門', '仁', '햄', '갤', '縣', '홋', '政', '퀘', '펴', '듭', '딕', '딜', '삽', '쿼', '꺾', '*', '龍', '生', '묶', '싼', '궐', '官', '륭', '經', '司', '탠', '퀸', '뮌', '윙', '無', '쌀', '꼴', '섞', '朴', '뉜', '겹', '里', '빗', '킴', '興', '눌', '훌', '띄', '趙', '×', '林', '긍', '첸', '슐', '펄', '洞', '忠', '녁', '밭', '셉', '깥', '돔', '相', '넌', 'а', '敎', '녔', '넥', '漢', '夫', '툰', '렛', '白', '民', '所', '永', '江', '聖', '낌', '五', '鄭', '펑', '臣', '和', '慶', '理', '빵', '돕', '馬', '깝', '史', '뿔', '張', '엉', '늑', '섹', '곰', '펀', '똑', '닷', '틈', '훼', '→', '全', 'の', '랴', '딱', '넨', '皇', '善', '컫', '前', '昌', '記', 'о', '흙', '힙', '朝', '굳', '將', '島', '帝', '툴', '갱', '定', '性', '핸', '心', '羅', '팡', '知', '尹', '化', '킥', '셸', '콰', '堂', '빚', 'и', '킷', '톡', '有', '겁', '껍', '之', '士', '풋', '小', '面', '맷', '닭', '벳', '崔', '十', '方', '겉', '京', '河', '松', '社', '쏘', '同', '뮬', '룽', '佛', '下', '時', '不', '淸', '굽', '멈', '古', '콥', '콕', '宮', '옵', '콧', 'α', '뇨', '봐', '푼', '通', '뻗', '代', '밸', '핫', '턱', '四', '信', '師', '딴', '럿', '年', '二', '떼', '꿀', '굿', '像', '렷', '탓', '퉁', '쯤', '論', '華', '죠', '後', '守', '닮', '劉', '樂', '쑤', '홉', '禮', '月', '祖', '八', '왈', '孝', '샹', '尙', '캡', '女', '굉', '줬', '權', '릎', '눅', '릇', '重', '圖', '쁜', '市', '붓', '뚫', '木', '字', 'е', 'н', '툼', '洪', '基', '칩', '黃', '싫', '낱', '物', '샬', '孫', '댐', '雲', '셨', '內', '陵', '놈', '立', '엣', '名', '業', '띤', '닿', '걷', '寧', '侯', '鎭', '듈', '吉', '낀', '合', '自', '科', '、', '廣', '驛', '헐', 'р', '삿', '判', '兵', '集', '갓', '흠', '派', '젖', '功', '殿', '柳', '順', '分', '봤', '監', '냄', '쩌', '衛', '宋', '承', '體', 'ー', '靑', '솟', '六', '春', '펌', '잊', '谷', '웬', '걱', '九', '周', '建', '議', '퐁', '景', '쉐', '※', '曹', '덟', '앱', '直', '옴', '솜', '•', '制', '돋', '곁', '美', '흩', '쥬', '쿤', '度', '톈', '둠', '슘', '者', '얄', '얇', '郞', '源', '굵', '英', '路', '륵', '긋', '쏟', '村', '얘', '福', 'á', '휩', '껴', '館', '멋', '짙', '宣', '見', '身', '左', '章', '萬', '팜', '탤', '花', '星', '貞', '꾀', '觀', '號', '렁', '#', '맵', '眞', '的', '$', '初', '節', 'с', '쯔', '밟', '濟', '꿔', '動', '治', '野', '훔', '덱', '泰', '뭉', '侍', '康', '副', '컸', '傳', '造', '챌', '캉', '왓', '뚝', '開', '根', '뤘', '外', '典', '音', '国', '壽', '떡', '令', '臺', 'к', '式', '쁘', '옐', '寶', '玉', '끓', '別', '應', '憲', '利', '햇', '{', '吳', '族', '奉', '思', '휠', 'い', '鮮', 'в', '뀐', '텀', '핍', '댓', 'ü', '后', '實', '命', '戰', '`', '씀', '語', '짱', '良', '御', 'ン', '唐', '弘', '修', '꽤', '保', '申', '촨', '잦', '맘', '횟', '智', '슭', '說', '浦', '親', 'л', '在', '作', '賢', '空', '錄', '阿', '픔', '形', '줌', '펫', '來', '塔', '省', '梁', '썬', '빔', '進', '位', '괘', '土', '敬', '앓', 'т', '老', '詩', '싯', '歌', '뒀', '벅', '밋', '工', '色', '界', '津', 'ا', '徐', '붐', '右', '엿', 'ο', '線', '參', '井', '秀', '碑', '갇', '얹', '땄', '눠', '七', '流', '延', '溪', '齋', '言', '風', '陳', '多', '깎', '딪', '護', '運', '멧', '샨', '間', '헥', '땃', '줘', '用', '팟', '如', '數', '藤', 'ö', '맑', '맏', 'ó', '常', 'ā', '藏', '口', '찐', 'μ', '슛', '벵', '玄', '任', '達', '꼈', '反', '텝', '楊', '몫', '許', '닦', '찔', '密', '甲', '場', '걀', '先', '鳳', '車', '옳', '對', '志', '깐', 'í', '亭', '뭇', '곶', '씌', '錫', '沈', '끗', '靈', '낫', '朱', '郎', '頭', '윅', '統', '쟈', '≪', '印', '≫', '夏', '禪', '얽', '佐', '랏', '熙', '麗', '烈', '姜', '팍', '出', '츄', '務', '뻔', '察', '團', '伯', '園', 'ν', '愛', '百', '識', '쭉', '榮', '器', '草', '關', '캅', '豊', '}', 'ι', '湖', '員', 'ς', '嘉', '現', '鄕', '튬', '儀', '귄', '諸', '뚱', '勝', '橋', '從', '意', '植', '晉', '商', '解', '墓', '■', '낚', '氣', '볍', '앰', '遠', 'ä', '祭', '鐵', '뜬', '○', '益', '千', '뱃', '容', '管', '뻐', '헛', '加', '竹', '伊', '起', '領', '坐', '챙', '쾰', '궈', '沙', '遺', '第', '팰', '찮', '調', '엮', '귤', '魏', '엥', '쩔', '恩', '秦', '處', '想', '機', '싹', '욘', '力', '非', 'ρ', '居', '雄', '―', 'し', '뾰', '報', '異', '畵', '핏', '렝', '뫼', '꿨', '泉', '惠', '次', 'ん', '캣', '柱', '鍾', '샐', '術', '黨', '火', 'β', '始', '我', 'τ', '支', '훙', '岩', '。', '崇', '뭄', '丁', '탬', '紀', '室', '쉴', '秋', '俊', '受', '得', '宇', '盧', '섀', 'か', '샀', '品', '웍', '廳', '昭', 'な', '資', '池', '깜', '類', '삐', '푹', 'う', '交', '얕', '낄', '넛', '果', '랬', '쿡', '싣', '舍', '뮈', '嚴', '營', '咸', '目', '育', '提', '돗', '꽂', '姓', '챈', 'ل', '曲', '늙', '系', '뜸', '局', '試', '總', 'ε', '믈', 'λ', '仲', '렙', '妃', '齊', '香', '@', '彦', '富', '卿', '圓', '尉', '少', 'ス', '顯', '能', '手', '波', '男', '表', '魚', '致', '꽝', '껏', '發', '댈', 'м', '群', '瑞', '냅', '慧', 'д', '吏', '숀', '戶', '防', '極', '角', '눔', '갚', '象', '農', '셴', 'た', '共', '母', '큘', '恭', '츰', '産', '情', '首', '쾨', '故', '署', '늪', '薩', '»', '촛', '짖', '邑', '즙', 'σ', 'と', '因', '췄', '蘇', '샵', '썩', '훤', '博', '☆', '짚', '尊', '樞', '탭', '虎', '覺', '陸', '찢', '△', '庵', '仙', 'й', '町', '結', '峰', '牧', '電', '갯', '듐', '쪼', '入', '房', '릅', 'イ', '몹', 'ル', '딧', '陰', '區', 'у', '半', '펭', '뿜', '獻', '蓮', '췌', '協', '倉', '屬', '淑', '閣', '녜', '빽', '完', '뜰', 'è', '域', '蔡', '뇽', '巖', '贊', '딥', '룻', '板', '겟', '範', '쁨', '슌', '괌', '굶', '溫', '翼', '菩', 'り', '普', '呂', '씻', '靖', '숍', '變', '～', '펩', '勳', '可', '쩐', '깁', '父', '넉', '乙', '連', '−', '쿰', 'る', '鶴', '맬', '哲', '엎', '銀', '丹', '퀄', '퀼', '샷', '邊', '僧', '死', '督', '뮐', '엡', '律', '燕', '핼', '学', '貴', '壇', '«', '船', '越', '祠', '台', '友', '淵', '뭐', '珍', '復', 'κ', '衆', '彌', '淳', '職', '載', '輔', '久', '벙', '—', '斗', '탔', '볶', '舊', '港', '롄', '\\\\', '藝', '近', '郭', '샴', '슝', 'ラ', '젯', '喜', '境', '莊', '쵸', '隆', '種', '赤', '奇', '잼', '껑', '벚', 'に', '具', '똥', '꿰', '뜯', '足', '윽', '允', '精', '臨', '썰', '衣', '땀', '澤', '純', '舞', '層', '特', '禹', '잣', '튠', '毛', '禁', '座', 'ま', '煥', '퓌', '球', '둡', '촘', '爲', '둬', '亞', '惡', '旨', '龜', '′', '素', '訓', '均', '맴', 'ら', '住', '낡', '뵈', '뽀', '촐', '陀', '雨', '奎', '쥘', '址', '廟', '洋', '멩', '쑨', 'リ', '儒', '꼼', '洙', '養', '劇', '條', '誠', '期', '轉', '텅', 'ト', '깅', '盛', '蘭', '閔', '魯', 'き', '備', '射', '隨', '괜', '멱', '浩', '私', '욤', '댕', '慈', '낯', '퓰', 'π', '聲', '丘', '内', '執', '€', '牛', '警', '좡', '今', '隊', '刑', '葉', '藩', '要', '念', '隱', '醫', '켐', '那', '放', '젓', '쥔', '以', '麻', '緣', '取', '킵', '列', '岳', '弼', '兼', 'γ', '淨', '뎀', '됩', '綱', '츨', '獨', '팎', '胡', '布', '質', '兒', '岡', '戦', '至', '桂', '聯', '팻', '±', '愼', '持', '謙', '훅', '檢', '改', '穆', '雙', 'は', '祿', '肅', '靜', '量', '캇', '觸', '羽', '製', '嶺', '希', '然', '若', '밧', '冠', 'ッ', '딤', 'く', '狀', '茂', '밈', '亂', 'ن', '封', '譜', '웜', '쉰', '圭', '洛', '由', 'お', '캥', '戒', '苦', '몄', '離', '띈', '釋', '쏠', '比', '錦', '約', '計', '랠', '聞', '助', '惱', '望', '賀', '썸', '퀀', '夢', '補', '銅', '于', '汝', 'я', 'ي', 'ク', '亨', '孔', '件', '飛', '珠', '뇰', '單', '甫', 'さ', '팥', 'δ', '帶', '卷', '欲', '兩', '委', '裵', '쑹', '칫', '剛', '末', '鏡', '뱌', 'ア', '摠', '考', '藥', '엌', '‧', '^', '왁', '客', '寅', '餘', '孟', '敏', '辛', '問', '屋', '樹', '杜', '易', '清', '짠', '尾', '恒', '鳥', '型', '留', 'à', '眼', '準', 'ī', 'て', '向', '誌', '쏜', '챠', '慕', '헴', 'η', '夷', '廷', '樓', '쐐', 'ç', '宰', '麟', '뭔', '퍽', '克', '役', '祥', '端', '윔', '쿵', '꽁', '威', '紅', '格', '滿', '環', '갸', '폈', '丞', '求', '黑', '솥', '技', '影', '会', '梅', '好', '晋', '葛', '釜', '鉉', 'г', '烏', '宅', '僉', '翰', 'あ', '究', '細', 'ь', '食', '쨌', 'ر', 'م', '厚', '己', 'و', '演', '叔', '辰', '摩', '넴', '乘', '講', '丙', '諫', '먀', '秉', '酒', '덥', '衡', '잖', '回', '啓', '選', '題', '騎', '깡', '뺏', '指', '曺', '證', '財', '乾', 'ち', '則', '쩍', '徳', '筆', '돛', '煩', '遊', 'É', 'â', 'タ', '增', '斷', '邱', '簡', '茶', '滅', '妙', '祐', '骨', '服', '話', '炳', '假', '籍', '敦', '未', '雅', '욜', '懿', '桓', '略', '젬', '句', '댁', 'こ', 'だ', '散', '宜', '条', '點', '콴', '昇', 'С', '邪', '늠', '雜', '裕', '딛', 'み', '軒', '銘', '얌', '扶', '輪', 'ы', '눕', '央', 'ú', '遼', '巨', '續', '革', '歸', 'シ', '뛴', '設', '刺', '襄', '鎬', '툭', '坊', '旗', '雪', '季', '擧', '硏', '策', '登', '盟', '뎅', '賜', '찻', 'つ', '休', '振', '曆', '丸', '征', '倭', '庶', '難', '칵', '震', 'ド', '庭', '繼', '固', '寬', '殷', '핌', '積', '廉', 'ч', '依', '契', '庫', '翁', '쑥', '貪', '卞', '勞', '病', '뮴', 'θ', 'が', '健', '놉', '앳', 'ί', 'ᄀ', 'を', '罪', '送', '읊', '簿', '峴', '最', '紙', '웁', '́', '俗', '旌', '感', '願', 'ω', '株', '欽', '版', '超', 'п', '洲', '옅', '姬', '贈', '際', '뺨', '힉', '刻', '坡', '寫', '皮', '⁄', '注', '童', '땐', '볕', '캬', 'も', '夜', '消', '燮', '뛸', 'υ', '詞', '賓', '邦', '★', '紫', 'ά', '翊', '쉘', '爾', '琴', '뺀', '懷', '漏', '僕', '再', '勢', '逸', 'す', '梵', '룀', 'カ', '晩', 'マ', '旅', '組', 'ᄋ', '区', '匡', '潤', '蒙', '諦', '횃', 'ό', '徒', '盤', '鑑', 'Δ', '←', '程', '蓋', '追', '介', '팸', 'れ', '深', '鼎', 'б', '序', 'え', '甘', '速', '過', '陶', 'よ', '歷', '썹', '쭈', '切', '鐘', '∙', '才', '県', '亮', '惟', '納', '엷', '磨', '巡', '站', '뀔', '봅', '料', '뽕', '凉', '止', '症', '퀵', 'د', '譯', '掌', '殺', '浮', '옙', '構', '팁', 'ジ', 'ロ', '配', '落', '壤', '芳', '샛', '推', '楚', '웸', 'š', 'з', '存', '毅', '刊', '熊', '꼰', '斯', '磁', '勇', 'ñ', '習', '背', 'ł', '꿇', '텃', '畿', '碩', '編', '置', '蘊', '갠', '숄', '尼', '虛', '於', '灣', '露', '땡', '춧', '泳', 'х', 'レ', '宿', '戸', '넵', '施', '頼', 'ê', '也', '而', '袁', '奴', '疏', '染', '維', '述', '活', '織', '씹', 'キ', '텡', '嬪', '街', '깬', '쉼', 'け', '項', 'フ', '率', '鹿', '失', '岐', '켤', 'ب', '祚', '迦', '냇', '뎌', '評', '깼', '奏', '當', '짤', '튿', '勒', '将', '崎', '뻘', '壁', '峯', '稅', '鳴', 'К', '輝', '差', '帥', '熱', '真', '〜', '專', '弟', '與', '告', '墳', '鬼', 'ß', '긁', '何', '干', '幸', '揚', '導', '米', '坪', '潭', '睦', 'ニ', '倫', '規', '墨', '爭', '步', 'コ', '堅', '模', '階', '刀', '援', '꽉', '찼', '휼', 'オ', '標', '닙', '뱉', '펨', 'ᄂ', 'っ', '冬', '舜', 'А', '移', '貢', '徽', '血', '賊', '蹟', '쇤', '撰', '獄', '紋', '綠', '引', '壬', '燈', '耶', '댑', '享', '決', '錢', '텟', '폄', '幕', '渡', '謝', '꺽', '눗', 'ᄅ', '案', '兪', '眠', '視', '貫', '깍', 'じ', '害', '蔚', '랗', '윳', '홑', '吾', '耳', '賞', '鼓', '其', '嗣', '葬', 'ô', '午', '奈', '弓', '愚', '照', '邉', 'ᄃ', '勤', '般', '輸', '撫', '青', '줍', '紹', '裝', '▲', '阮', '段', '솝', 'で', '秘', '胤', '辭', '힝', 'ᄆ', '豆', '솅', 'æ', 'ı', '候', '坂', '讀', '限', '얏', '戱', '浪', '伽', '庚', '歲', '쏴', '伏', '됭', '젼', '函', '操', '教', 'ナ', '栗', 'ū', 'φ', 'М', '豫', '査', '降', '웡', '喪', '魔', '算', '쌈', '쭤', '附', '뢴', '劍', '篇', '鴻', 'ə', 'や', '堤', '微', '忍', '授', '쎄', 'わ', '兄', '喆', '齡', '챕', 'ᅳ', '帖', '芝', '薛', '쫒', '諡', '£', 'П', '関', '頂', '符', '륀', 'ウ', '뎃', '創', '禧', '뜩', '傅', '壯', '材', '庄', '稷', '破', '鬪', '춥', '曾', '顔', '唱', '塚', '睿', '瞋', '障', '빴', '是', '班', '韻', '뎬', '幀', '級', '惑', '映', '蜀', '衍', '哀', '肉', '号', '廢', '彩', '接', '赫', '寒', 'س', '優', '閭', '뵤', '쩡', 'テ', '收', '脈', 'ø', 'ć', '伐', '脫', '舌', '還', '驪', '놨', '森', '檀', '須', 'В', 'ノ', 'ミ', '淮', '董', '郵', 'ш', '─', '冊', '꿩', '텁', 'バ', '箕', '萊', '談', '⟫', 'ャ', '徵', '油', '땜', '숱', '佑', '攝', '経', '묀', '찹', '岸', '救', '牙', '鍊', '̊', '包', '桃', '菴', '巴', '癡', '碧', '展', '請', '맙', '헵', '⟪', '味', '尺', '孤', '幹', '敵', '꿉', '튕', '給', '齒', '씽', '宝', '漁', '稱', '終', '讓', '退', '匠', '卯', '舟', '蔵', '黎', '놔', 'エ', 'チ', '融', '랸', 'ã', '去', '婦', '疑', '댜', '륄', '젱', '찜', 'サ', '逆', '떴', '卓', '潘', '볜', '헹', 'ع', '梨', '뤽', '뽐', '亥', '絶', '跋', '넋', '좇', 'έ', '寂', '잿', '橫', '番', '雍', '例', '崖', '換', '駐', '鷄', 'ひ', '唯', '実', '必', '陣', '빡', '쌌', '審', '蕭', 'ت', '羊', '숯', '컹', '仕', '湯', 'モ', '屯', '默', '县', '強', '腹', '썽', 'ュ', '價', '示', '옻', '잰', '햐', 'ᅵ', '柴', '旭', '覆', '賦', '鹽', '셍', '巫', '彭', '酉', '〕', '輿', '얗', '了', '婆', '戊', '毘', '菊', '著', '귈', '묄', '便', '培', '愍', '胎', '꿋', 'ィ', '慢', '爵', '뻣', '숏', '他', '낵', '潮', '탸', 'ē', '俱', '祀', '껌', 'ō', '〔', '댔', '볏', '앎', '흄', '貨', '푀', 'め', '築', '航', 'Б', 'י', 'グ', '妻', '朔', '澄', '禎', '遂', '酸', '丈', 'χ', 'ц', '巳', '濬', 'Р', '砲', '쌔', '広', '뷸', '녘', '括', '泥', '牟', '굼', '밌', '븀', '핥', 'Đ', '□', '停', '打', '折', '癸', '蔣', '覽', 'ư', 'ば', '牌', '탯', 'ょ', '輕', 'ズ', 'ム', '片', '헷', '底', '及', '듦', '줏', 'ه', '仇', '複', '軌', '툇', '占', '幡', '莫', '衙', '쳇', '万', '稿', 'ハ', '楽', 'プ', '祝', 'ή', '拳', '沃', '着', '蟲', '鎌', '炎', '탉', '戴', '整', '泗', 'ガ', '裁', '똘', 'メ', '肖', '駿', '챗', '券', '尚', '짊', '\\xad', 'ブ', '拓', '殊', 'ă', 'ˈ', 'ᄉ', '升', '召', '嫡', '庸', '槐', '沢', '突', '筵', '討', '乳', '擊', '菜', '휜', '佳', '尋', '店', '桐', '놋', '彰', '杉', '梧', '短', '쨩', '禍', '范', '鼻', '測', '曉', '朗', '枝', '鎮', '除', '덫', '坤', '就', '敍', 'Α', 'ろ', '係', '抗', '遷', '갬', 'ë', 'ː', '災', 'ᄇ', 'ゃ', '傑', '勅', '奭', '彈', '戌', '淡', '炯', '訴', 'И', '宙', '彫', '訪', '註', '냑', 'ύ', '凡', 'Н', '丑', '競', '賈', '辨', '溝', '藍', '幢', '態', '早', '갭', 'า', '胞', '荷', '被', '悲', '抄', '暴', '漆', '虞', 'ح', '壺', '槃', '汗', '耆', '額', '●', '穴', '雷', 'デ', '昊', '渾', '笠', 'Π', '乱', '昧', '苑', '荊', '待', '氷', '豪', '履', '甁', '遍', '郷', '魂', 'č', '乃', '禦', '綜', '綾', '艦', '閑', '隋', '괭', '눙', '욧', '仰', '幽', '探', '核', '穀', '卜', '各', '婚', '鈴', '塘', '毒', '炭', '粉', '鉢', '췬', 'Г', '∞', '垂', '扈', '賴', '껀', '젭', 'Σ', '犯', '遞', '拜', '눴', '沖', '珪', '采', '귓', '亡', '側', '呼', '権', '沼', '砂', '賣', '넙', 'ş', '█', '悟', '捨', '涅', '租', '頌', '앴', '첵', 'ふ', '濃', '荒', '費', '遇', '닳', 'ו', '儉', '迎', '뉠', '쁠', '쿱', '悅', '熟', '蕃', '궂', '쭝', 'å', '云', '企', '浚', '薰', '넜', 'Á', 'ж', '་', '投', '来', '耕', 'Т', '為', '総', '肥', '陜', '뺄', 'ゆ', '伴', '供', '宴', '按', '絲', '謹', '走', '긱', 'ぶ', '応', '卽', '庾', '效', '曰', '跡', 'そ', '卒', '哈', '浜', '鏞', '튤', '懸', '矢', '認', '뷜', 'ダ', '余', '卑', '寛', '床', '排', '擇', '晴', '璋', '網', 'ビ', '低', '急', '暗', '更', '盡', '黄', '넝', '숴', 'ق', '姫', '屠', '뵐', 'ی', '幼', '杖', '樣', '驗', '늉', '뚤', '콸', '億', '謀', '軸', '陟', '깟', '伝', '僞', '筑', '縛', '諱', '쥰', 'パ', '席', '攻', '晶', '섣', 'Д', 'ה', 'ف', 'せ', 'ど', 'ワ', '倍', '宏', '息', '窟', '鎔', '兆', '堯', '菌', '諭', 'ᄌ', '勿', '灘', '鄧', '헉', '冷', '彬', '獸', '舒', '馮', '喬', '忘', '眉', '緖', '豐', '飯', '쳅', '팹', '免', '含', '播', '洗', '燦', '瓦', '꾹', '垣', '奮', '招', '瀬', '謨', '겜', '†', 'ず', '圈', '烽', '迪', 'Л', 'ة', '銃', '쟝', '짬', 'ᄒ', '又', '戎', '緯', '훠', 'ᄏ', '塾', '駕', '鷹', '뎠', '솽', '펍', '【', '】', '束', '答', '買', '頓', '髮', '돤', 'ר', '壓', '奥', '蔭', '衝', '뭘', 'ج', 'ツ', '呪', '課', '頃', 'Κ', '党', '冥', '慰', '負', '껄', '벰', 'Ö', '↔', '憂', '昆', '텨', 'О', '浙', '蒲', '詳', '윕', '东', '充', '損', '뀜', '몐', '셤', '왠', 'ョ', '忽', '扇', '蜜', '劑', '强', '架', '索', '聚', '黒', '涉', '混', 'ร', '体', '渠', '犬', '篆', '險', '뗀', 'ð', 'ơ', 'ェ', '荀', '阪', '寄', '悌', '掛', '湘', '爐', '辦', 'ŋ', 'ほ', 'セ', '押', '詔', '괵', '듄', '셧', '숟', 'Φ', '沿', '綏', '韋', '뗏', '쬐', '팠', 'ï', 'ケ', '偏', '寇', '往', '揮', '樑', '訥', '阜', '샥', '텼', '⋅', 'び', '迷', '雀', '믐', '뷴', '쫄', 'î', 'ý', '瞻', '鑄', '빤', '푈', '伸', '嶽', '潛', '灌', '疾', '筒', '羲', '겅', '떳', '偉', '対', '戚', '拉', '糖', '訟', '顧', '맣', '왑', '此', '澈', '箭', '켠', 'ò', 'ệ', '付', '忌', '桑', '絃', '챘', '堀', '帽', '悼', '沒', '甄', '笑', '鉄', '镇', '雕', '닻', '씰', 'む', '傷', '屛', '幾', '溟', '練', '襲', '왐', '参', '綿', '諺', '適', '只', '姚', '晦', '満', '쏙', '챤', '≤', 'ね', '乞', '柔', '栢', '樊', '蒼', '観', '鑛', '끽', '숑', 'ś', 'א', '々', '꼿', 'ヶ', '갉', '뎁', '似', '广', '捕', '橘', '覇', '鵬', 'Ε', 'أ', 'ボ', '堡', '蘆', '蛇', '쪄', '刹', '郁', 'ž', '廊', '浅', '繫', '耽', '샅', '햅', '吹', '渓', '僖', '娘', '巾', '斤', '燧', '畫', '療', '线', '貝', '遮', '隣', '霞', 'э', 'ю', 'น', '冀', '脚', '誤', '꿍', '쥴', '톳', 'Å', 'ァ', '塵', '已', '看', '祉', '綬', '訣', '違', '넹', '뺑', '뻑', 'ᅡ', '旦', '游', '纂', '芸', '짼', '쳄', '휨', 'Š', 'ա', 'げ', '慮', '琉', '翔', 'ネ', '値', '劃', '斥', '暦', '瑜', '膺', 'ù', '借', '勸', '吐', '峻', '曜', '減', '燁', '皆', '窯', '膜', '零', '従', '循', '晟', '狄', '猛', '璿', '禄', '互', '圃', '幻', '燒', '獅', '瓊', '盜', '萱', '讚', '뭍', '債', '婢', '裏', '譚', '貿', '鳩', 'ế', '円', '屈', '歐', '漫', '皐', '趣', '鐸', '岑', '旋', '갛', 'ش', 'ヤ', '勉', '婁', '杏', '杓', '汀', '煙', '礙', '稽', '竿', '賤', '遣', '馨', '割', '卵', '塞', '変', '寵', '怪', '斬', '横', '狂', '珉', '避', '땔', '묽', '짰', '칡', 'ベ', '揆', '敞', '榜', '琳', '盆', '翠', '闕', '넸', '्', '恪', '挺', '擬', '旺', '棋', '睡', '翟', '裴', 'へ', 'ゅ', '亀', '抱', '湛', '粹', '솁', '쉔', '힛', 'ì', 'ń', '伎', '弐', '衿', '껫', '톄', 'ψ', 'ك', 'र', 'ソ', '姑', '弁', '怡', '昔', '杞', '畢', '確', '礪', '祈', '肇', '趾', '週', '預', 'ğ', 'Λ', 'ё', '誘', '閤', '륌', '폿', '徹', '殉', '遵', '邵', '閉', '飾', '빳', '쩨', '쳉', 'Ω', 'َ', '凝', '媛', '恐', '斎', '票', '辯', '閻', '켁', '斜', '熹', '画', '畜', '縱', '藻', '遜', '냘', '횔', 'ф', '個', '倒', '寿', '廻', '析', '沛', '炫', '窩', '腦', '説', '龐', '냔', 'ě', '♪', '串', '廬', '恵', '涼', '濱', '繁', '纏', '邸', '욥', '잽', '튈', 'ز', 'ᄎ', 'ᅩ', 'ḥ', '叢', '妄', '帳', '湜', '盈', '祗', '羌', '聰', '肩', '駒', '뒬', 'Μ', 'ξ', '„', '竺', '腸', '託', '録', '®', 'У', 'ב', '卦', '壞', '拔', '杭', '渭', '糧', '脂', '謁', '퉈', 'ạ', 'ピ', '奧', '峽', '快', '柏', '漸', '隸', '顕', '섐', '탰', 'ᄑ', '妓', '朋', '札', '棟', '檜', '渤', '珥', '畠', '秩', '詠', '鴨', '빻', 'Ü', 'і', '‚', 'ヒ', '凰', '峙', '灰', '猿', '瑩', '繡', '脩', '詮', '謠', '铁', 'ぎ', '圍', '崗', '敷', '溶', '脣', '苻', '醴', '隅', '좨', '쭐', 'מ', '场', '幣', '弥', '捷', '皓', '績', '誓', '陝', '녓', '씁', '윷', '죤', 'Γ', 'ご', '否', '彼', '悔', '滉', '狗', '窮', '褒', '輯', '鈞', '鎖', '뢸', 'ा', '什', '叉', '棺', '牒', '猶', '逢', '鄒', '銓', '閱', '▶', 'ぬ', '倂', '冶', '凶', '患', '液', '瀛', '疇', '筋', '薄', '裂', '阳', '냠', '찧', 'ζ', 'ṭ', 'ễ', '夕', '尤', '拘', '柄', '璽', '需', '響', '뗄', '∎', '勃', '戀', '楷', '歡', '溥', '軾', '鎰', '駅', '윰', '予', '伺', '採', '紗', '詹', '針', '飮', '黔', '깰', '멎', '틋', 'ܐ', '寸', '崙', '拾', '獲', '祇', '禿', '蠶', '遲', '鋼', '飡', '亦', '滋', '疫', '硬', '꽈', '뵙', '셩', '웩', '츤', 'ל', 'ა', 'ザ', 'ポ', '吸', '巢', '恨', '據', '暉', '楞', '电', '畏', '誕', 'ʼ', 'ก', 'ᄐ', '僚', '嵌', '椒', '爆', '瓚', '研', '篤', '胄', '螺', 'ʿ', 'ъ', '倻', '償', '哉', '爀', '狼', '窓', 'ง', '与', '你', '凌', '危', '坦', '塑', '弗', '弱', '械', '棲', '澗', '誼', '뜀', '솀', 'ɪ', 'Ο', 'อ', '♭', 'ぐ', '滄', '苗', '趺', '밉', '뺐', '‰', 'ゴ', '冕', '団', '旻', '瑛', '穡', '辺', '잴', '쫑', 'ώ', 'ᅮ', '偶', '厭', '当', '殘', '滑', '瓜', '竟', '臧', '醉', '隴', '믄', '웽', '쿈', '훑', 'Β', '図', '幅', '恋', '愧', '暎', '槍', '粒', '縮', '臥', '虹', '衰', '醮', '霖', '퍄', '§', 'Č', 'đ', 'ʻ', 'Ф', 'ი', 'ṣ', 'ギ', '凱', '叱', '幷', '批', '晃', '栄', '每', '気', '琦', '禾', '諍', '辟', '鞍', '韶', '驅', '쐈', '쾡', '홰', 'Θ', 'ม', 'ホ', '兎', '峨', '曼', '沆', '瀑', '燃', '罰', '聽', '腫', '腺', '莞', '鱗', '뷧', 'ط', '丕', '兢', '到', '媒', '悳', '掾', '旬', '曇', '汚', '涵', '牡', '猫', '璧', '郊', '髻', '鬱', '龙', 'З', 'べ', 'ヴ', '墩', '拍', '敗', '旣', '椿', '沔', '点', '籠', '継', '耀', '豹', '貸', '閩', '鞠', '쇳', '쟌', '刷', '哥', '懺', '昕', '楓', '痛', '矣', '礎', '竇', '虜', '鄴', '겊', '꽌', '垈', '尸', '慚', '楠', '絹']\n"
          ]
        }
      ]
    },
    {
      "cell_type": "code",
      "source": [
        "# [CLS], tokens a, [SEP], tokens b, [SEP] 형태의 token 생성\n",
        "string_a = \"추적추적 비가 내리는 날이었어 그날은 왠지 손님이 많아 첫 번에 삼십 전 둘째번 오십 전 오랜만에 받아보는 십 전짜리 백통화 서푼에\"\n",
        "string_b = \"손바닥 위엔 기쁨의 눈물이 흘러 컬컬한 목에 모주 한잔을 적셔 몇 달 포 전부터 콜록거리는 아내 생각에 그토록 먹고 싶다던\"\n",
        "tokens_org = [\"[CLS]\"] + vocab.encode_as_pieces(string_a) + [\"[SEP]\"] + vocab.encode_as_pieces(string_b) + [\"[SEP]\"]\n",
        "print(tokens_org)"
      ],
      "metadata": {
        "colab": {
          "base_uri": "https://localhost:8080/"
        },
        "id": "msGiO40Olynf",
        "outputId": "1ec17a2f-3ac9-49e3-b300-69ebf2f2f631"
      },
      "execution_count": 9,
      "outputs": [
        {
          "output_type": "stream",
          "name": "stdout",
          "text": [
            "['[CLS]', '▁추', '적', '추', '적', '▁비', '가', '▁내', '리는', '▁날', '이었', '어', '▁그', '날', '은', '▁', '왠', '지', '▁손', '님', '이', '▁많', '아', '▁첫', '▁번', '에', '▁삼', '십', '▁전', '▁둘', '째', '번', '▁오', '십', '▁전', '▁오', '랜', '만에', '▁받아', '보', '는', '▁십', '▁전', '짜', '리', '▁백', '통', '화', '▁서', '푼', '에', '[SEP]', '▁손', '바', '닥', '▁위', '엔', '▁기', '쁨', '의', '▁눈', '물이', '▁흘', '러', '▁컬', '컬', '한', '▁목', '에', '▁모', '주', '▁한', '잔', '을', '▁적', '셔', '▁몇', '▁달', '▁포', '▁전', '부터', '▁콜', '록', '거', '리는', '▁아내', '▁생각', '에', '▁그', '토', '록', '▁먹', '고', '▁싶', '다', '던', '[SEP]']\n"
          ]
        }
      ]
    },
    {
      "cell_type": "markdown",
      "source": [
        "# 2. 데이터 전처리 (1) MASK 생성\n",
        "\n",
        "BERT의 Masked Language Model(MLM)은 GPT의 Next Token Prediction 태스크처럼 다음이 이어질 단어는? 을 맞추는 게 아니라 마스킹 된 다음 빈칸에 알맞은 단어는? 문제를 푸는 형식으로 구성됩니다."
      ],
      "metadata": {
        "id": "5y5DfUPimjex"
      }
    },
    {
      "cell_type": "markdown",
      "source": [
        "MLM을 위해 BERT는 학습 데이터의 전체에서 15%를 `[MASK]` 토큰으로 랜덤하게 바꿉니다. 이 15%의 `[MASK]` 토큰 중 80%는 `[MASK]` 토큰, 10%는 무작위로 랜덤한 토큰, 나머지 10%는 원래의 토큰을 그대로 사용합니다."
      ],
      "metadata": {
        "id": "UcvoHWJBm915"
      }
    },
    {
      "cell_type": "code",
      "source": [
        "print(tokens_org)\n",
        "\n",
        "# 전체 token의 15% mask\n",
        "mask_cnt = int((len(tokens_org) - 3) * 0.15)\n",
        "mask_cnt"
      ],
      "metadata": {
        "colab": {
          "base_uri": "https://localhost:8080/"
        },
        "id": "UJNHC0ahl2QY",
        "outputId": "5424e854-6c20-4924-9726-1009594f608e"
      },
      "execution_count": 10,
      "outputs": [
        {
          "output_type": "stream",
          "name": "stdout",
          "text": [
            "['[CLS]', '▁추', '적', '추', '적', '▁비', '가', '▁내', '리는', '▁날', '이었', '어', '▁그', '날', '은', '▁', '왠', '지', '▁손', '님', '이', '▁많', '아', '▁첫', '▁번', '에', '▁삼', '십', '▁전', '▁둘', '째', '번', '▁오', '십', '▁전', '▁오', '랜', '만에', '▁받아', '보', '는', '▁십', '▁전', '짜', '리', '▁백', '통', '화', '▁서', '푼', '에', '[SEP]', '▁손', '바', '닥', '▁위', '엔', '▁기', '쁨', '의', '▁눈', '물이', '▁흘', '러', '▁컬', '컬', '한', '▁목', '에', '▁모', '주', '▁한', '잔', '을', '▁적', '셔', '▁몇', '▁달', '▁포', '▁전', '부터', '▁콜', '록', '거', '리는', '▁아내', '▁생각', '에', '▁그', '토', '록', '▁먹', '고', '▁싶', '다', '던', '[SEP]']\n"
          ]
        },
        {
          "output_type": "execute_result",
          "data": {
            "text/plain": [
              "14"
            ]
          },
          "metadata": {},
          "execution_count": 10
        }
      ]
    },
    {
      "cell_type": "markdown",
      "source": [
        " Subword 기반으로 토크나이징을 했을 때 _대, `[MASK]`, 민국이라고 가운데를 마스킹 했을 경우 해당 `[MASK]`가 '한'일 거라는 건 너무 쉽게 맞출 수 있습니다. 그래서 Masked LM 태스크를 구성할 땐 띄어쓰기 단위로 한꺼번에 마스킹합니다."
      ],
      "metadata": {
        "id": "8WaQzYfTnK4d"
      }
    },
    {
      "cell_type": "code",
      "source": [
        "# 띄어쓰기 단위로 mask하기 위해서 index 분할\n",
        "cand_idx = []  # word 단위의 index array\n",
        "for (i, token) in enumerate(tokens_org):\n",
        "    if token == \"[CLS]\" or token == \"[SEP]\":\n",
        "        continue\n",
        "    if 0 < len(cand_idx) and not token.startswith(u\"\\u2581\"):  # u\"\\u2581\"는 단어의 시작을 의미하는 값\n",
        "        cand_idx[-1].append(i)\n",
        "    else:\n",
        "        cand_idx.append([i])\n",
        "\n",
        "# 결과확인\n",
        "for cand in cand_idx:\n",
        "    print(cand, [tokens_org[i] for i in cand])"
      ],
      "metadata": {
        "colab": {
          "base_uri": "https://localhost:8080/"
        },
        "id": "xdxjFzh5m357",
        "outputId": "890e106a-cd46-41d1-b77e-6b952a3797ab"
      },
      "execution_count": 11,
      "outputs": [
        {
          "output_type": "stream",
          "name": "stdout",
          "text": [
            "[1, 2, 3, 4] ['▁추', '적', '추', '적']\n",
            "[5, 6] ['▁비', '가']\n",
            "[7, 8] ['▁내', '리는']\n",
            "[9, 10, 11] ['▁날', '이었', '어']\n",
            "[12, 13, 14] ['▁그', '날', '은']\n",
            "[15, 16, 17] ['▁', '왠', '지']\n",
            "[18, 19, 20] ['▁손', '님', '이']\n",
            "[21, 22] ['▁많', '아']\n",
            "[23] ['▁첫']\n",
            "[24, 25] ['▁번', '에']\n",
            "[26, 27] ['▁삼', '십']\n",
            "[28] ['▁전']\n",
            "[29, 30, 31] ['▁둘', '째', '번']\n",
            "[32, 33] ['▁오', '십']\n",
            "[34] ['▁전']\n",
            "[35, 36, 37] ['▁오', '랜', '만에']\n",
            "[38, 39, 40] ['▁받아', '보', '는']\n",
            "[41] ['▁십']\n",
            "[42, 43, 44] ['▁전', '짜', '리']\n",
            "[45, 46, 47] ['▁백', '통', '화']\n",
            "[48, 49, 50] ['▁서', '푼', '에']\n",
            "[52, 53, 54] ['▁손', '바', '닥']\n",
            "[55, 56] ['▁위', '엔']\n",
            "[57, 58, 59] ['▁기', '쁨', '의']\n",
            "[60, 61] ['▁눈', '물이']\n",
            "[62, 63] ['▁흘', '러']\n",
            "[64, 65, 66] ['▁컬', '컬', '한']\n",
            "[67, 68] ['▁목', '에']\n",
            "[69, 70] ['▁모', '주']\n",
            "[71, 72, 73] ['▁한', '잔', '을']\n",
            "[74, 75] ['▁적', '셔']\n",
            "[76] ['▁몇']\n",
            "[77] ['▁달']\n",
            "[78] ['▁포']\n",
            "[79, 80] ['▁전', '부터']\n",
            "[81, 82, 83, 84] ['▁콜', '록', '거', '리는']\n",
            "[85] ['▁아내']\n",
            "[86, 87] ['▁생각', '에']\n",
            "[88, 89, 90] ['▁그', '토', '록']\n",
            "[91, 92] ['▁먹', '고']\n",
            "[93, 94, 95] ['▁싶', '다', '던']\n"
          ]
        }
      ]
    },
    {
      "cell_type": "code",
      "source": [
        "# random mask를 위해서 index 순서를 섞음\n",
        "random.shuffle(cand_idx)\n",
        "cand_idx"
      ],
      "metadata": {
        "colab": {
          "base_uri": "https://localhost:8080/"
        },
        "id": "uuFX04Q0m5Yr",
        "outputId": "e4e70eae-d6fa-4fe2-bd2b-7b86b258a9ef"
      },
      "execution_count": 12,
      "outputs": [
        {
          "output_type": "execute_result",
          "data": {
            "text/plain": [
              "[[24, 25],\n",
              " [57, 58, 59],\n",
              " [32, 33],\n",
              " [64, 65, 66],\n",
              " [41],\n",
              " [79, 80],\n",
              " [52, 53, 54],\n",
              " [67, 68],\n",
              " [29, 30, 31],\n",
              " [91, 92],\n",
              " [23],\n",
              " [26, 27],\n",
              " [76],\n",
              " [42, 43, 44],\n",
              " [78],\n",
              " [60, 61],\n",
              " [38, 39, 40],\n",
              " [93, 94, 95],\n",
              " [9, 10, 11],\n",
              " [81, 82, 83, 84],\n",
              " [85],\n",
              " [12, 13, 14],\n",
              " [34],\n",
              " [71, 72, 73],\n",
              " [77],\n",
              " [45, 46, 47],\n",
              " [48, 49, 50],\n",
              " [28],\n",
              " [74, 75],\n",
              " [62, 63],\n",
              " [88, 89, 90],\n",
              " [5, 6],\n",
              " [35, 36, 37],\n",
              " [55, 56],\n",
              " [18, 19, 20],\n",
              " [86, 87],\n",
              " [7, 8],\n",
              " [15, 16, 17],\n",
              " [1, 2, 3, 4],\n",
              " [21, 22],\n",
              " [69, 70]]"
            ]
          },
          "metadata": {},
          "execution_count": 12
        }
      ]
    },
    {
      "cell_type": "code",
      "source": [
        "# tokens가 mask되므로 재 실행을 위해서 넣어줌 (테스트용)\n",
        "tokens = copy.deepcopy(tokens_org)\n",
        "\n",
        "mask_lms = []  # mask 된 값\n",
        "for index_set in cand_idx:\n",
        "    if len(mask_lms) >= mask_cnt:  # 핸재 mask된 개수가 15%를 넘으면 중지\n",
        "          break\n",
        "    if len(mask_lms) + len(index_set) > mask_cnt:  # 이번에 mask할 개수를 포함해 15%를 넘으면 skip\n",
        "          continue\n",
        "    dice = random.random()  # 0과 1 사이의 확률 값\n",
        "\n",
        "    for index in index_set:\n",
        "        masked_token = None\n",
        "        if dice < 0.8:  # 80% replace with [MASK]\n",
        "            masked_token = \"[MASK]\"\n",
        "        elif dice < 0.9: # 10% keep original\n",
        "            masked_token = tokens[index]\n",
        "        else:  # 10% random word\n",
        "            masked_token = random.choice(vocab_list)\n",
        "        mask_lms.append({\"index\": index, \"label\": tokens[index]})\n",
        "        tokens[index] = masked_token\n",
        "\n",
        "print(\"tokens_org\")\n",
        "print(tokens_org, \"\\n\")\n",
        "print(\"tokens\")\n",
        "print(tokens)"
      ],
      "metadata": {
        "colab": {
          "base_uri": "https://localhost:8080/"
        },
        "id": "Q_GhnmRInS1X",
        "outputId": "34f5a88d-9877-42fb-bb1b-2a41cb347cd8"
      },
      "execution_count": 13,
      "outputs": [
        {
          "output_type": "stream",
          "name": "stdout",
          "text": [
            "tokens_org\n",
            "['[CLS]', '▁추', '적', '추', '적', '▁비', '가', '▁내', '리는', '▁날', '이었', '어', '▁그', '날', '은', '▁', '왠', '지', '▁손', '님', '이', '▁많', '아', '▁첫', '▁번', '에', '▁삼', '십', '▁전', '▁둘', '째', '번', '▁오', '십', '▁전', '▁오', '랜', '만에', '▁받아', '보', '는', '▁십', '▁전', '짜', '리', '▁백', '통', '화', '▁서', '푼', '에', '[SEP]', '▁손', '바', '닥', '▁위', '엔', '▁기', '쁨', '의', '▁눈', '물이', '▁흘', '러', '▁컬', '컬', '한', '▁목', '에', '▁모', '주', '▁한', '잔', '을', '▁적', '셔', '▁몇', '▁달', '▁포', '▁전', '부터', '▁콜', '록', '거', '리는', '▁아내', '▁생각', '에', '▁그', '토', '록', '▁먹', '고', '▁싶', '다', '던', '[SEP]'] \n",
            "\n",
            "tokens\n",
            "['[CLS]', '▁추', '적', '추', '적', '▁비', '가', '▁내', '리는', '▁날', '이었', '어', '▁그', '날', '은', '▁', '왠', '지', '▁손', '님', '이', '▁많', '아', '[MASK]', '[MASK]', '[MASK]', '▁삼', '십', '▁전', '▁둘', '째', '번', '[MASK]', '[MASK]', '▁전', '▁오', '랜', '만에', '▁받아', '보', '는', '프', '▁전', '짜', '리', '▁백', '통', '화', '▁서', '푼', '에', '[SEP]', '▁손', '바', '닥', '▁위', '엔', '[MASK]', '[MASK]', '[MASK]', '▁눈', '물이', '▁흘', '러', '[MASK]', '[MASK]', '[MASK]', '▁목', '에', '▁모', '주', '▁한', '잔', '을', '▁적', '셔', '▁몇', '▁달', '▁포', '▁전', '부터', '▁콜', '록', '거', '리는', '▁아내', '▁생각', '에', '▁그', '토', '록', '▁먹', '고', '▁싶', '다', '던', '[SEP]']\n"
          ]
        }
      ]
    },
    {
      "cell_type": "markdown",
      "source": [
        "### a. Masked LM의 라벨 데이터도 생성하여 정리"
      ],
      "metadata": {
        "id": "wwtxwRrsniFe"
      }
    },
    {
      "cell_type": "code",
      "source": [
        "# 순서 정렬 및 mask_idx, mask_label 생성\n",
        "mask_lms = sorted(mask_lms, key=lambda x: x[\"index\"])\n",
        "mask_idx = [p[\"index\"] for p in mask_lms]\n",
        "mask_label = [p[\"label\"] for p in mask_lms]\n",
        "\n",
        "print(\"mask_idx   :\", mask_idx)\n",
        "print(\"mask_label :\", mask_label)"
      ],
      "metadata": {
        "colab": {
          "base_uri": "https://localhost:8080/"
        },
        "id": "AJjE14hrnVW_",
        "outputId": "8be2692d-23be-4dd9-e32e-05d80ee49f99"
      },
      "execution_count": 14,
      "outputs": [
        {
          "output_type": "stream",
          "name": "stdout",
          "text": [
            "mask_idx   : [23, 24, 25, 32, 33, 41, 57, 58, 59, 64, 65, 66, 79, 80]\n",
            "mask_label : ['▁첫', '▁번', '에', '▁오', '십', '▁십', '▁기', '쁨', '의', '▁컬', '컬', '한', '▁전', '부터']\n"
          ]
        }
      ]
    },
    {
      "cell_type": "markdown",
      "source": [
        "### 🔶 create_pretrain_mask() : Masked LM을 위한 코퍼스 생성 메소드"
      ],
      "metadata": {
        "id": "dQ0JVCDmoQdz"
      }
    },
    {
      "cell_type": "code",
      "source": [
        "def create_pretrain_mask(tokens, mask_cnt, vocab_list):\n",
        "    \"\"\"\n",
        "    마스크 생성\n",
        "    :param tokens: tokens\n",
        "    :param mask_cnt: mask 개수 (전체 tokens의 15%)\n",
        "    :param vocab_list: vocab list (random token 용)\n",
        "    :return tokens: mask된 tokens\n",
        "    :return mask_idx: mask된 token의 index\n",
        "    :return mask_label: mask된 token의 원래 값\n",
        "    \"\"\"\n",
        "    # 단어 단위로 mask 하기 위해서 index 분할\n",
        "    cand_idx = []  # word 단위의 index array\n",
        "    for (i, token) in enumerate(tokens):\n",
        "        if token == \"[CLS]\" or token == \"[SEP]\":\n",
        "            continue\n",
        "        if 0 < len(cand_idx) and not token.startswith(u\"\\u2581\"):\n",
        "            cand_idx[-1].append(i)\n",
        "        else:\n",
        "            cand_idx.append([i])\n",
        "    # random mask를 위해서 순서를 섞음\n",
        "    random.shuffle(cand_idx)\n",
        "\n",
        "    mask_lms = []  # mask 된 값\n",
        "    for index_set in cand_idx:\n",
        "        if len(mask_lms) >= mask_cnt:  # 핸재 mask된 개수가 15%를 넘으면 중지\n",
        "            break\n",
        "        if len(mask_lms) + len(index_set) > mask_cnt:  # 이번에 mask할 개수를 포함해 15%를 넘으면 skip\n",
        "            continue\n",
        "        dice = random.random()  # 0..1 사이의 확률 값\n",
        "        for index in index_set:\n",
        "            masked_token = None\n",
        "            if dice < 0.8:  # 80% replace with [MASK]\n",
        "                masked_token = \"[MASK]\"\n",
        "            elif dice < 0.9: # 10% keep original\n",
        "                masked_token = tokens[index]\n",
        "            else:  # 10% random word\n",
        "                masked_token = random.choice(vocab_list)\n",
        "            mask_lms.append({\"index\": index, \"label\": tokens[index]})\n",
        "            tokens[index] = masked_token\n",
        "    # mask_lms 정렬 후 mask_idx, mask_label 추출\n",
        "    mask_lms = sorted(mask_lms, key=lambda x: x[\"index\"])\n",
        "    mask_idx = [p[\"index\"] for p in mask_lms]  # mask된 token의 index\n",
        "    mask_label = [p[\"label\"] for p in mask_lms]  # mask된 token의 원래 값\n",
        "\n",
        "    return tokens, mask_idx, mask_label"
      ],
      "metadata": {
        "id": "emd3ej4FoGg9"
      },
      "execution_count": 15,
      "outputs": []
    },
    {
      "cell_type": "code",
      "source": [
        "# tokens가 mask되므로 재 실행을 위해서 넣어줌 (테스트용)\n",
        "tokens = copy.deepcopy(tokens_org)\n",
        "\n",
        "tokens, mask_idx, mask_label = create_pretrain_mask(tokens, mask_cnt, vocab_list)\n",
        "\n",
        "print(\"tokens_org\")\n",
        "print(tokens_org, \"\\n\")\n",
        "print(\"tokens\")\n",
        "print(tokens, \"\\n\")\n",
        "\n",
        "print(\"mask_idx   :\", mask_idx)\n",
        "print(\"mask_label :\", mask_label)"
      ],
      "metadata": {
        "colab": {
          "base_uri": "https://localhost:8080/"
        },
        "id": "SBuH16dSoJS7",
        "outputId": "1ee7f37e-e76a-4934-806c-167ab5399833"
      },
      "execution_count": 16,
      "outputs": [
        {
          "output_type": "stream",
          "name": "stdout",
          "text": [
            "tokens_org\n",
            "['[CLS]', '▁추', '적', '추', '적', '▁비', '가', '▁내', '리는', '▁날', '이었', '어', '▁그', '날', '은', '▁', '왠', '지', '▁손', '님', '이', '▁많', '아', '▁첫', '▁번', '에', '▁삼', '십', '▁전', '▁둘', '째', '번', '▁오', '십', '▁전', '▁오', '랜', '만에', '▁받아', '보', '는', '▁십', '▁전', '짜', '리', '▁백', '통', '화', '▁서', '푼', '에', '[SEP]', '▁손', '바', '닥', '▁위', '엔', '▁기', '쁨', '의', '▁눈', '물이', '▁흘', '러', '▁컬', '컬', '한', '▁목', '에', '▁모', '주', '▁한', '잔', '을', '▁적', '셔', '▁몇', '▁달', '▁포', '▁전', '부터', '▁콜', '록', '거', '리는', '▁아내', '▁생각', '에', '▁그', '토', '록', '▁먹', '고', '▁싶', '다', '던', '[SEP]'] \n",
            "\n",
            "tokens\n",
            "['[CLS]', '▁추', '적', '추', '적', '▁비', '가', '▁내', '리는', '▁날', '이었', '어', '▁그', '날', '은', '▁', '왠', '지', '▁손', '님', '이', '[MASK]', '[MASK]', '[MASK]', '▁번', '에', '▁삼', '십', '▁전', '▁둘', '째', '번', '▁오', '십', '▁전', '▁오', '랜', '만에', '▁받아', '보', '는', '▁십', '▁전', '짜', '리', '▁백', '통', '화', '팹', '著', '內', '[SEP]', '▁손', '바', '닥', '[MASK]', '[MASK]', '▁기', '쁨', '의', '▁눈', '물이', '▁흘', '러', '▁컬', '컬', '한', '▁목', '에', '[MASK]', '[MASK]', '▁한', '잔', '을', '▁적', '셔', '▁몇', '▁달', '▁포', '▁전', '부터', '▁콜', '록', '거', '리는', '▁아내', '[MASK]', '[MASK]', '▁그', '토', '록', '▁먹', '고', '▁싶', '다', '던', '[SEP]'] \n",
            "\n",
            "mask_idx   : [21, 22, 23, 48, 49, 50, 55, 56, 62, 63, 69, 70, 86, 87]\n",
            "mask_label : ['▁많', '아', '▁첫', '▁서', '푼', '에', '▁위', '엔', '▁흘', '러', '▁모', '주', '▁생각', '에']\n"
          ]
        }
      ]
    },
    {
      "cell_type": "markdown",
      "source": [
        "# 3. 데이터 전처리 (2) NSP pair 생성\n",
        "\n",
        "BERT의 pretrain task로 Next Sentence Prediction이 있습니다. 문장 2개를 붙여 놓고 두 문장이 이어지는 것인지 아닌지 문장 호응관계를 맞출 수 있게 하는 것입니다."
      ],
      "metadata": {
        "id": "9fnsQWKdoB_d"
      }
    },
    {
      "cell_type": "markdown",
      "source": [
        "### a. 예시"
      ],
      "metadata": {
        "id": "fi1HjGYEpFwz"
      }
    },
    {
      "cell_type": "code",
      "source": [
        "string = \"\"\"추적추적 비가 내리는 날이었어\n",
        "그날은 왠지 손님이 많아\n",
        "첫 번에 삼십 전 둘째 번 오십 전\n",
        "오랜만에 받아보는 십 전짜리 백통화 서푼에\n",
        "손바닥 위엔 기쁨의 눈물이 흘러\n",
        "컬컬한 목에 모주 한잔을 적셔\n",
        "몇 달 포 전부터 콜록거리는 아내\n",
        "생각에 그토록 먹고 싶다던\n",
        "설렁탕 한 그릇을 이제는 살 수 있어\n",
        "집으로 돌아가는 길 난 문득 떠올라\n",
        "아내의 목소리가 거칠어만 가는 희박한 숨소리가\n",
        "오늘은 왠지 나가지 말라던 내 옆에 있어 달라던\n",
        "그리도 나가고 싶으면 일찍이라도 들어와 달라던\n",
        "아내의 간절한 목소리가 들려와\n",
        "나를 원망하듯 비는 점점 거세져\n",
        "싸늘히 식어가는 아내가 떠올라 걱정은 더해져\n",
        "난 몰라 오늘은 운수 좋은 날\n",
        "난 맨날 이렇게 살 수 있으면 얼마나 좋을까\"\"\""
      ],
      "metadata": {
        "id": "pxSn2aFYneKe"
      },
      "execution_count": 17,
      "outputs": []
    },
    {
      "cell_type": "code",
      "source": [
        "# 줄 단위로 tokenize\n",
        "doc = [vocab.encode_as_pieces(line) for line in string.split(\"\\n\")]\n",
        "doc[:3]"
      ],
      "metadata": {
        "colab": {
          "base_uri": "https://localhost:8080/"
        },
        "id": "vQl8t0MVokb3",
        "outputId": "6656face-a9e6-47a4-9e8c-cef24677a9e5"
      },
      "execution_count": 18,
      "outputs": [
        {
          "output_type": "execute_result",
          "data": {
            "text/plain": [
              "[['▁추', '적', '추', '적', '▁비', '가', '▁내', '리는', '▁날', '이었', '어'],\n",
              " ['▁그', '날', '은', '▁', '왠', '지', '▁손', '님', '이', '▁많', '아'],\n",
              " ['▁첫', '▁번', '에', '▁삼', '십', '▁전', '▁둘', '째', '▁번', '▁오', '십', '▁전']]"
            ]
          },
          "metadata": {},
          "execution_count": 18
        }
      ]
    },
    {
      "cell_type": "markdown",
      "source": [
        "넣어줄 특수 token은 [CLS]와 [SEP]이고, sequence의 최대 길이는 n_test_seq - 3으로 정합니다."
      ],
      "metadata": {
        "id": "5y1-avCCo-nF"
      }
    },
    {
      "cell_type": "code",
      "source": [
        "# 최대 길이\n",
        "n_test_seq = 64\n",
        "# 최소 길이\n",
        "min_seq = 8\n",
        "# [CLS], tokens_a, [SEB], tokens_b, [SEP]\n",
        "max_seq = n_test_seq - 3"
      ],
      "metadata": {
        "id": "VQ46pMXIolrO"
      },
      "execution_count": 19,
      "outputs": []
    },
    {
      "cell_type": "code",
      "source": [
        "current_chunk = []  # line 단위 tokens\n",
        "current_length = 0\n",
        "for i in range(len(doc)):  # doc 전체를 loop\n",
        "    current_chunk.append(doc[i])  # line 단위로 추가\n",
        "    current_length += len(doc[i])  # current_chunk의 token 수\n",
        "    if 1 < len(current_chunk) and (i == len(doc) - 1 or current_length >= max_seq):  # 마지막 줄 이거나 길이가 max_seq 이상 인 경우, 학습 데이터를 만듭니다. \n",
        "        print(\"current_chunk:\", len(current_chunk), current_length, current_chunk)\n",
        "\n",
        "        #######################################\n",
        "        # token a\n",
        "        a_end = 1\n",
        "        if 1 < len(current_chunk):\n",
        "            a_end = random.randrange(1, len(current_chunk))\n",
        "        tokens_a = []\n",
        "        for j in range(a_end):\n",
        "            tokens_a.extend(current_chunk[j])\n",
        "        # token b\n",
        "        tokens_b = []\n",
        "        for j in range(a_end, len(current_chunk)):\n",
        "            tokens_b.extend(current_chunk[j])\n",
        "          \n",
        "        print(\"tokens_a:\", len(tokens_a), tokens_a)\n",
        "        print(\"tokens_b:\", len(tokens_b), tokens_b)\n",
        "        #######################################\n",
        "        print()\n",
        "\n",
        "        current_chunk = []\n",
        "        current_length = 0"
      ],
      "metadata": {
        "colab": {
          "base_uri": "https://localhost:8080/"
        },
        "id": "s-n4ZOrkopOH",
        "outputId": "d62ca51f-c2c0-44be-9615-9c5c08cda949"
      },
      "execution_count": 20,
      "outputs": [
        {
          "output_type": "stream",
          "name": "stdout",
          "text": [
            "current_chunk: 5 62 [['▁추', '적', '추', '적', '▁비', '가', '▁내', '리는', '▁날', '이었', '어'], ['▁그', '날', '은', '▁', '왠', '지', '▁손', '님', '이', '▁많', '아'], ['▁첫', '▁번', '에', '▁삼', '십', '▁전', '▁둘', '째', '▁번', '▁오', '십', '▁전'], ['▁오', '랜', '만에', '▁받아', '보', '는', '▁십', '▁전', '짜', '리', '▁백', '통', '화', '▁서', '푼', '에'], ['▁손', '바', '닥', '▁위', '엔', '▁기', '쁨', '의', '▁눈', '물이', '▁흘', '러']]\n",
            "tokens_a: 50 ['▁추', '적', '추', '적', '▁비', '가', '▁내', '리는', '▁날', '이었', '어', '▁그', '날', '은', '▁', '왠', '지', '▁손', '님', '이', '▁많', '아', '▁첫', '▁번', '에', '▁삼', '십', '▁전', '▁둘', '째', '▁번', '▁오', '십', '▁전', '▁오', '랜', '만에', '▁받아', '보', '는', '▁십', '▁전', '짜', '리', '▁백', '통', '화', '▁서', '푼', '에']\n",
            "tokens_b: 12 ['▁손', '바', '닥', '▁위', '엔', '▁기', '쁨', '의', '▁눈', '물이', '▁흘', '러']\n",
            "\n",
            "current_chunk: 6 71 [['▁컬', '컬', '한', '▁목', '에', '▁모', '주', '▁한', '잔', '을', '▁적', '셔'], ['▁몇', '▁달', '▁포', '▁전', '부터', '▁콜', '록', '거', '리는', '▁아내'], ['▁생각', '에', '▁그', '토', '록', '▁먹', '고', '▁싶', '다', '던'], ['▁설', '렁', '탕', '▁한', '▁그', '릇', '을', '▁이', '제는', '▁살', '▁수', '▁있어'], ['▁집', '으로', '▁돌아', '가는', '▁길', '▁난', '▁문', '득', '▁떠', '올', '라'], ['▁아내', '의', '▁목', '소', '리가', '▁거', '칠', '어', '만', '▁가는', '▁희', '박', '한', '▁숨', '소', '리가']]\n",
            "tokens_a: 55 ['▁컬', '컬', '한', '▁목', '에', '▁모', '주', '▁한', '잔', '을', '▁적', '셔', '▁몇', '▁달', '▁포', '▁전', '부터', '▁콜', '록', '거', '리는', '▁아내', '▁생각', '에', '▁그', '토', '록', '▁먹', '고', '▁싶', '다', '던', '▁설', '렁', '탕', '▁한', '▁그', '릇', '을', '▁이', '제는', '▁살', '▁수', '▁있어', '▁집', '으로', '▁돌아', '가는', '▁길', '▁난', '▁문', '득', '▁떠', '올', '라']\n",
            "tokens_b: 16 ['▁아내', '의', '▁목', '소', '리가', '▁거', '칠', '어', '만', '▁가는', '▁희', '박', '한', '▁숨', '소', '리가']\n",
            "\n",
            "current_chunk: 5 73 [['▁오늘', '은', '▁', '왠', '지', '▁나', '가지', '▁말', '라', '던', '▁내', '▁옆', '에', '▁있어', '▁달', '라', '던'], ['▁그리', '도', '▁나가', '고', '▁싶', '으면', '▁일', '찍', '이라', '도', '▁들어', '와', '▁달', '라', '던'], ['▁아내', '의', '▁간', '절', '한', '▁목', '소', '리가', '▁들', '려', '와'], ['▁나', '를', '▁원', '망', '하', '듯', '▁비', '는', '▁점', '점', '▁거', '세', '져'], ['▁싸', '늘', '히', '▁식', '어', '가는', '▁아내', '가', '▁떠', '올', '라', '▁', '걱', '정은', '▁더', '해', '져']]\n",
            "tokens_a: 56 ['▁오늘', '은', '▁', '왠', '지', '▁나', '가지', '▁말', '라', '던', '▁내', '▁옆', '에', '▁있어', '▁달', '라', '던', '▁그리', '도', '▁나가', '고', '▁싶', '으면', '▁일', '찍', '이라', '도', '▁들어', '와', '▁달', '라', '던', '▁아내', '의', '▁간', '절', '한', '▁목', '소', '리가', '▁들', '려', '와', '▁나', '를', '▁원', '망', '하', '듯', '▁비', '는', '▁점', '점', '▁거', '세', '져']\n",
            "tokens_b: 17 ['▁싸', '늘', '히', '▁식', '어', '가는', '▁아내', '가', '▁떠', '올', '라', '▁', '걱', '정은', '▁더', '해', '져']\n",
            "\n",
            "current_chunk: 2 22 [['▁난', '▁몰', '라', '▁오늘', '은', '▁운', '수', '▁좋은', '▁날'], ['▁난', '▁맨', '날', '▁이렇게', '▁살', '▁수', '▁있', '으면', '▁얼마', '나', '▁좋', '을', '까']]\n",
            "tokens_a: 9 ['▁난', '▁몰', '라', '▁오늘', '은', '▁운', '수', '▁좋은', '▁날']\n",
            "tokens_b: 13 ['▁난', '▁맨', '날', '▁이렇게', '▁살', '▁수', '▁있', '으면', '▁얼마', '나', '▁좋', '을', '까']\n",
            "\n"
          ]
        }
      ]
    },
    {
      "cell_type": "markdown",
      "source": [
        "짝지은 두 문장을 그대로 두면 NSP task의 true label 케이스가 되고, 둘의 순서를 뒤바꾸면 false label 케이스가 됩니다."
      ],
      "metadata": {
        "id": "3H4ub6vNoxMR"
      }
    },
    {
      "cell_type": "code",
      "source": [
        "def trim_tokens(tokens_a, tokens_b, max_seq):\n",
        "    \"\"\"\n",
        "    tokens_a, tokens_b의 길이를 줄임 최대 길이: max_seq\n",
        "    :param tokens_a: tokens A\n",
        "    :param tokens_b: tokens B\n",
        "    :param max_seq: 두 tokens 길이의 최대 값\n",
        "    \"\"\"\n",
        "    while True:\n",
        "        total_length = len(tokens_a) + len(tokens_b)\n",
        "        if total_length <= max_seq:\n",
        "            break\n",
        "\n",
        "        if len(tokens_a) > len(tokens_b):\n",
        "            del tokens_a[0]\n",
        "        else:\n",
        "            tokens_b.pop()"
      ],
      "metadata": {
        "id": "RJXqQy3VorGf"
      },
      "execution_count": 21,
      "outputs": []
    },
    {
      "cell_type": "code",
      "source": [
        "current_chunk = []  # line 단위 tokens\n",
        "current_length = 0\n",
        "for i in range(len(doc)):  # doc 전체를 loop\n",
        "    current_chunk.append(doc[i])  # line 단위로 추가\n",
        "    current_length += len(doc[i])  # current_chunk의 token 수\n",
        "    if 1 < len(current_chunk) and (i == len(doc) - 1 or current_length >= max_seq):  # 마지막 줄 이거나 길이가 max_seq 이상 인 경우\n",
        "        print(\"current_chunk:\", len(current_chunk), current_length, current_chunk)\n",
        "\n",
        "        # token a\n",
        "        a_end = 1\n",
        "        if 1 < len(current_chunk):\n",
        "            a_end = random.randrange(1, len(current_chunk))\n",
        "        tokens_a = []\n",
        "        for j in range(a_end):\n",
        "            tokens_a.extend(current_chunk[j])\n",
        "        # token b\n",
        "        tokens_b = []\n",
        "        for j in range(a_end, len(current_chunk)):\n",
        "            tokens_b.extend(current_chunk[j])\n",
        "\n",
        "        #######################################\n",
        "        if random.random() < 0.5:  # 50% 확률로 swap\n",
        "            is_next = 0     #False\n",
        "            tokens_t = tokens_a\n",
        "            tokens_a = tokens_b\n",
        "            tokens_b = tokens_t\n",
        "        else:\n",
        "            is_next = 1    #True\n",
        "        # max_seq 보다 큰 경우 길이 조절\n",
        "        trim_tokens(tokens_a, tokens_b, max_seq)\n",
        "        assert 0 < len(tokens_a)\n",
        "        assert 0 < len(tokens_b)\n",
        "\n",
        "        print(\"is_next:\", is_next)\n",
        "        print(\"tokens_a:\", len(tokens_a), tokens_a)\n",
        "        print(\"tokens_b:\", len(tokens_b), tokens_b)\n",
        "        #######################################\n",
        "        print()\n",
        "\n",
        "        current_chunk = []\n",
        "        current_length = 0"
      ],
      "metadata": {
        "colab": {
          "base_uri": "https://localhost:8080/"
        },
        "id": "h7M5DVpfoton",
        "outputId": "193f29b2-e998-4196-ebbe-caedddd59f1c"
      },
      "execution_count": 22,
      "outputs": [
        {
          "output_type": "stream",
          "name": "stdout",
          "text": [
            "current_chunk: 5 62 [['▁추', '적', '추', '적', '▁비', '가', '▁내', '리는', '▁날', '이었', '어'], ['▁그', '날', '은', '▁', '왠', '지', '▁손', '님', '이', '▁많', '아'], ['▁첫', '▁번', '에', '▁삼', '십', '▁전', '▁둘', '째', '▁번', '▁오', '십', '▁전'], ['▁오', '랜', '만에', '▁받아', '보', '는', '▁십', '▁전', '짜', '리', '▁백', '통', '화', '▁서', '푼', '에'], ['▁손', '바', '닥', '▁위', '엔', '▁기', '쁨', '의', '▁눈', '물이', '▁흘', '러']]\n",
            "is_next: 0\n",
            "tokens_a: 28 ['▁오', '랜', '만에', '▁받아', '보', '는', '▁십', '▁전', '짜', '리', '▁백', '통', '화', '▁서', '푼', '에', '▁손', '바', '닥', '▁위', '엔', '▁기', '쁨', '의', '▁눈', '물이', '▁흘', '러']\n",
            "tokens_b: 33 ['▁추', '적', '추', '적', '▁비', '가', '▁내', '리는', '▁날', '이었', '어', '▁그', '날', '은', '▁', '왠', '지', '▁손', '님', '이', '▁많', '아', '▁첫', '▁번', '에', '▁삼', '십', '▁전', '▁둘', '째', '▁번', '▁오', '십']\n",
            "\n",
            "current_chunk: 6 71 [['▁컬', '컬', '한', '▁목', '에', '▁모', '주', '▁한', '잔', '을', '▁적', '셔'], ['▁몇', '▁달', '▁포', '▁전', '부터', '▁콜', '록', '거', '리는', '▁아내'], ['▁생각', '에', '▁그', '토', '록', '▁먹', '고', '▁싶', '다', '던'], ['▁설', '렁', '탕', '▁한', '▁그', '릇', '을', '▁이', '제는', '▁살', '▁수', '▁있어'], ['▁집', '으로', '▁돌아', '가는', '▁길', '▁난', '▁문', '득', '▁떠', '올', '라'], ['▁아내', '의', '▁목', '소', '리가', '▁거', '칠', '어', '만', '▁가는', '▁희', '박', '한', '▁숨', '소', '리가']]\n",
            "is_next: 0\n",
            "tokens_a: 39 ['▁설', '렁', '탕', '▁한', '▁그', '릇', '을', '▁이', '제는', '▁살', '▁수', '▁있어', '▁집', '으로', '▁돌아', '가는', '▁길', '▁난', '▁문', '득', '▁떠', '올', '라', '▁아내', '의', '▁목', '소', '리가', '▁거', '칠', '어', '만', '▁가는', '▁희', '박', '한', '▁숨', '소', '리가']\n",
            "tokens_b: 22 ['▁컬', '컬', '한', '▁목', '에', '▁모', '주', '▁한', '잔', '을', '▁적', '셔', '▁몇', '▁달', '▁포', '▁전', '부터', '▁콜', '록', '거', '리는', '▁아내']\n",
            "\n",
            "current_chunk: 5 73 [['▁오늘', '은', '▁', '왠', '지', '▁나', '가지', '▁말', '라', '던', '▁내', '▁옆', '에', '▁있어', '▁달', '라', '던'], ['▁그리', '도', '▁나가', '고', '▁싶', '으면', '▁일', '찍', '이라', '도', '▁들어', '와', '▁달', '라', '던'], ['▁아내', '의', '▁간', '절', '한', '▁목', '소', '리가', '▁들', '려', '와'], ['▁나', '를', '▁원', '망', '하', '듯', '▁비', '는', '▁점', '점', '▁거', '세', '져'], ['▁싸', '늘', '히', '▁식', '어', '가는', '▁아내', '가', '▁떠', '올', '라', '▁', '걱', '정은', '▁더', '해', '져']]\n",
            "is_next: 1\n",
            "tokens_a: 17 ['▁오늘', '은', '▁', '왠', '지', '▁나', '가지', '▁말', '라', '던', '▁내', '▁옆', '에', '▁있어', '▁달', '라', '던']\n",
            "tokens_b: 44 ['▁그리', '도', '▁나가', '고', '▁싶', '으면', '▁일', '찍', '이라', '도', '▁들어', '와', '▁달', '라', '던', '▁아내', '의', '▁간', '절', '한', '▁목', '소', '리가', '▁들', '려', '와', '▁나', '를', '▁원', '망', '하', '듯', '▁비', '는', '▁점', '점', '▁거', '세', '져', '▁싸', '늘', '히', '▁식', '어']\n",
            "\n",
            "current_chunk: 2 22 [['▁난', '▁몰', '라', '▁오늘', '은', '▁운', '수', '▁좋은', '▁날'], ['▁난', '▁맨', '날', '▁이렇게', '▁살', '▁수', '▁있', '으면', '▁얼마', '나', '▁좋', '을', '까']]\n",
            "is_next: 1\n",
            "tokens_a: 9 ['▁난', '▁몰', '라', '▁오늘', '은', '▁운', '수', '▁좋은', '▁날']\n",
            "tokens_b: 13 ['▁난', '▁맨', '날', '▁이렇게', '▁살', '▁수', '▁있', '으면', '▁얼마', '나', '▁좋', '을', '까']\n",
            "\n"
          ]
        }
      ]
    },
    {
      "cell_type": "markdown",
      "source": [
        "두 문장 사이에 segment 처리를 해주어야 합니다. \n",
        "\n",
        "\n",
        "첫 번째 문장의 segment는 모두 0으로, 두 번째 문장은 1로 채워준 후 둘 사이에 구분자인 `[SEP]` 등을 넣어주는 것으로 마무리됩니다.\n",
        "\n",
        "\n",
        "\n",
        "이전 스텝의 create_pretrain_mask()까지 함께 호출되어 Mask LM용 데이터셋과 NSP용 데이터셋이 결합된 하나의 데이터셋으로 완성될 것입니다. BERT의 pretrain은 MLM과 NSP, 두 가지 task가 동시에 수행됩니다."
      ],
      "metadata": {
        "id": "TH8MrYa6pTEn"
      }
    },
    {
      "cell_type": "code",
      "source": [
        "instances = []\n",
        "current_chunk = []  # line 단위 tokens\n",
        "current_length = 0\n",
        "for i in range(len(doc)):  # doc 전체를 loop\n",
        "    current_chunk.append(doc[i])  # line 단위로 추가\n",
        "    current_length += len(doc[i])  # current_chunk의 token 수\n",
        "    if 1 < len(current_chunk) and (i == len(doc) - 1 or current_length >= max_seq):  # 마지막 줄 이거나 길이가 max_seq 이상 인 경우\n",
        "        print(\"current_chunk:\", len(current_chunk), current_length, current_chunk)\n",
        "\n",
        "        # token a\n",
        "        a_end = 1\n",
        "        if 1 < len(current_chunk):\n",
        "            a_end = random.randrange(1, len(current_chunk))\n",
        "        tokens_a = []\n",
        "        for j in range(a_end):\n",
        "            tokens_a.extend(current_chunk[j])\n",
        "        # token b\n",
        "        tokens_b = []\n",
        "        for j in range(a_end, len(current_chunk)):\n",
        "            tokens_b.extend(current_chunk[j])\n",
        "\n",
        "        if random.random() < 0.5:  # 50% 확률로 swap\n",
        "            is_next = 0    # False\n",
        "            tokens_t = tokens_a\n",
        "            tokens_a = tokens_b\n",
        "            tokens_b = tokens_t\n",
        "        else:\n",
        "            is_next = 1   # True\n",
        "        # max_seq 보다 큰 경우 길이 조절\n",
        "        trim_tokens(tokens_a, tokens_b, max_seq)\n",
        "        assert 0 < len(tokens_a)\n",
        "        assert 0 < len(tokens_b)\n",
        "\n",
        "        print(\"is_next:\", is_next)\n",
        "        print(\"tokens_a:\", len(tokens_a), tokens_a)\n",
        "        print(\"tokens_b:\", len(tokens_b), tokens_b)\n",
        "        #######################################\n",
        "\n",
        "        # tokens & segment 생성\n",
        "        tokens = [\"[CLS]\"] + tokens_a + [\"[SEP]\"] + tokens_b + [\"[SEP]\"]\n",
        "        segment = [0] * (len(tokens_a) + 2) + [1] * (len(tokens_b) + 1)\n",
        "        print(\"tokens:\", len(tokens), tokens)\n",
        "        print(\"segment:\", len(segment), segment)\n",
        "        \n",
        "        # mask\n",
        "        tokens, mask_idx, mask_label = create_pretrain_mask(tokens, int((len(tokens) - 3) * 0.15), vocab_list)\n",
        "        print(\"masked tokens:\", len(tokens), tokens)\n",
        "        print(\"masked index:\", len(mask_idx), mask_idx)\n",
        "        print(\"masked label:\", len(mask_label), mask_label)\n",
        "\n",
        "        instance = {\n",
        "            \"tokens\": tokens,\n",
        "            \"segment\": segment,\n",
        "            \"is_next\": is_next,\n",
        "            \"mask_idx\": mask_idx,\n",
        "            \"mask_label\": mask_label\n",
        "        }\n",
        "        instances.append(instance)\n",
        "        #######################################\n",
        "        print()\n",
        "\n",
        "        current_chunk = []\n",
        "        current_length = 0"
      ],
      "metadata": {
        "colab": {
          "base_uri": "https://localhost:8080/"
        },
        "id": "4AkOItl3pOw3",
        "outputId": "8c8dee58-49dc-453a-d10f-f4a7b579928f"
      },
      "execution_count": 23,
      "outputs": [
        {
          "output_type": "stream",
          "name": "stdout",
          "text": [
            "current_chunk: 5 62 [['▁추', '적', '추', '적', '▁비', '가', '▁내', '리는', '▁날', '이었', '어'], ['▁그', '날', '은', '▁', '왠', '지', '▁손', '님', '이', '▁많', '아'], ['▁첫', '▁번', '에', '▁삼', '십', '▁전', '▁둘', '째', '▁번', '▁오', '십', '▁전'], ['▁오', '랜', '만에', '▁받아', '보', '는', '▁십', '▁전', '짜', '리', '▁백', '통', '화', '▁서', '푼', '에'], ['▁손', '바', '닥', '▁위', '엔', '▁기', '쁨', '의', '▁눈', '물이', '▁흘', '러']]\n",
            "is_next: 0\n",
            "tokens_a: 12 ['▁손', '바', '닥', '▁위', '엔', '▁기', '쁨', '의', '▁눈', '물이', '▁흘', '러']\n",
            "tokens_b: 49 ['▁추', '적', '추', '적', '▁비', '가', '▁내', '리는', '▁날', '이었', '어', '▁그', '날', '은', '▁', '왠', '지', '▁손', '님', '이', '▁많', '아', '▁첫', '▁번', '에', '▁삼', '십', '▁전', '▁둘', '째', '▁번', '▁오', '십', '▁전', '▁오', '랜', '만에', '▁받아', '보', '는', '▁십', '▁전', '짜', '리', '▁백', '통', '화', '▁서', '푼']\n",
            "tokens: 64 ['[CLS]', '▁손', '바', '닥', '▁위', '엔', '▁기', '쁨', '의', '▁눈', '물이', '▁흘', '러', '[SEP]', '▁추', '적', '추', '적', '▁비', '가', '▁내', '리는', '▁날', '이었', '어', '▁그', '날', '은', '▁', '왠', '지', '▁손', '님', '이', '▁많', '아', '▁첫', '▁번', '에', '▁삼', '십', '▁전', '▁둘', '째', '▁번', '▁오', '십', '▁전', '▁오', '랜', '만에', '▁받아', '보', '는', '▁십', '▁전', '짜', '리', '▁백', '통', '화', '▁서', '푼', '[SEP]']\n",
            "segment: 64 [0, 0, 0, 0, 0, 0, 0, 0, 0, 0, 0, 0, 0, 0, 1, 1, 1, 1, 1, 1, 1, 1, 1, 1, 1, 1, 1, 1, 1, 1, 1, 1, 1, 1, 1, 1, 1, 1, 1, 1, 1, 1, 1, 1, 1, 1, 1, 1, 1, 1, 1, 1, 1, 1, 1, 1, 1, 1, 1, 1, 1, 1, 1, 1]\n",
            "masked tokens: 64 ['[CLS]', '▁손', '바', '닥', '▁위', '엔', '▁기', '쁨', '의', '▁눈', '물이', '▁흘', '러', '[SEP]', '▁추', '적', '추', '적', '▁비', '가', '▁내', '리는', '▁날', '이었', '어', '[MASK]', '[MASK]', '[MASK]', '▁', '왠', '지', '▁손', '님', '이', '▁많', '아', '[MASK]', '▁번', '에', '▁삼', '십', '가로', '[MASK]', '[MASK]', '▁번', '[MASK]', '[MASK]', '▁전', '▁오', '랜', '만에', '▁받아', '보', '는', '▁십', '▁전', '짜', '리', '▁백', '통', '화', '▁서', '푼', '[SEP]']\n",
            "masked index: 9 [25, 26, 27, 36, 41, 42, 43, 45, 46]\n",
            "masked label: 9 ['▁그', '날', '은', '▁첫', '▁전', '▁둘', '째', '▁오', '십']\n",
            "\n",
            "current_chunk: 6 71 [['▁컬', '컬', '한', '▁목', '에', '▁모', '주', '▁한', '잔', '을', '▁적', '셔'], ['▁몇', '▁달', '▁포', '▁전', '부터', '▁콜', '록', '거', '리는', '▁아내'], ['▁생각', '에', '▁그', '토', '록', '▁먹', '고', '▁싶', '다', '던'], ['▁설', '렁', '탕', '▁한', '▁그', '릇', '을', '▁이', '제는', '▁살', '▁수', '▁있어'], ['▁집', '으로', '▁돌아', '가는', '▁길', '▁난', '▁문', '득', '▁떠', '올', '라'], ['▁아내', '의', '▁목', '소', '리가', '▁거', '칠', '어', '만', '▁가는', '▁희', '박', '한', '▁숨', '소', '리가']]\n",
            "is_next: 1\n",
            "tokens_a: 12 ['▁컬', '컬', '한', '▁목', '에', '▁모', '주', '▁한', '잔', '을', '▁적', '셔']\n",
            "tokens_b: 49 ['▁몇', '▁달', '▁포', '▁전', '부터', '▁콜', '록', '거', '리는', '▁아내', '▁생각', '에', '▁그', '토', '록', '▁먹', '고', '▁싶', '다', '던', '▁설', '렁', '탕', '▁한', '▁그', '릇', '을', '▁이', '제는', '▁살', '▁수', '▁있어', '▁집', '으로', '▁돌아', '가는', '▁길', '▁난', '▁문', '득', '▁떠', '올', '라', '▁아내', '의', '▁목', '소', '리가', '▁거']\n",
            "tokens: 64 ['[CLS]', '▁컬', '컬', '한', '▁목', '에', '▁모', '주', '▁한', '잔', '을', '▁적', '셔', '[SEP]', '▁몇', '▁달', '▁포', '▁전', '부터', '▁콜', '록', '거', '리는', '▁아내', '▁생각', '에', '▁그', '토', '록', '▁먹', '고', '▁싶', '다', '던', '▁설', '렁', '탕', '▁한', '▁그', '릇', '을', '▁이', '제는', '▁살', '▁수', '▁있어', '▁집', '으로', '▁돌아', '가는', '▁길', '▁난', '▁문', '득', '▁떠', '올', '라', '▁아내', '의', '▁목', '소', '리가', '▁거', '[SEP]']\n",
            "segment: 64 [0, 0, 0, 0, 0, 0, 0, 0, 0, 0, 0, 0, 0, 0, 1, 1, 1, 1, 1, 1, 1, 1, 1, 1, 1, 1, 1, 1, 1, 1, 1, 1, 1, 1, 1, 1, 1, 1, 1, 1, 1, 1, 1, 1, 1, 1, 1, 1, 1, 1, 1, 1, 1, 1, 1, 1, 1, 1, 1, 1, 1, 1, 1, 1]\n",
            "masked tokens: 64 ['[CLS]', '▁컬', '컬', '한', '▁목', '에', '▁모', '주', '▁한', '잔', '을', '暴', '°', '[SEP]', '▁몇', '▁달', '▁포', '▁전', '부터', '▁콜', '록', '거', '리는', '▁아내', '▁생각', '에', '▁그', '토', '록', '▁먹', '고', '▁싶', '다', '던', '▁설', '렁', '탕', '▁한', '▁그', '릇', '을', '▁이', '제는', '[MASK]', '▁수', '▁있어', '▁집', '으로', '▁돌아', '가는', '[MASK]', '▁난', '▁문', '득', '[MASK]', '[MASK]', '[MASK]', '[MASK]', '[MASK]', '▁목', '소', '리가', '▁거', '[SEP]']\n",
            "masked index: 9 [11, 12, 43, 50, 54, 55, 56, 57, 58]\n",
            "masked label: 9 ['▁적', '셔', '▁살', '▁길', '▁떠', '올', '라', '▁아내', '의']\n",
            "\n",
            "current_chunk: 5 73 [['▁오늘', '은', '▁', '왠', '지', '▁나', '가지', '▁말', '라', '던', '▁내', '▁옆', '에', '▁있어', '▁달', '라', '던'], ['▁그리', '도', '▁나가', '고', '▁싶', '으면', '▁일', '찍', '이라', '도', '▁들어', '와', '▁달', '라', '던'], ['▁아내', '의', '▁간', '절', '한', '▁목', '소', '리가', '▁들', '려', '와'], ['▁나', '를', '▁원', '망', '하', '듯', '▁비', '는', '▁점', '점', '▁거', '세', '져'], ['▁싸', '늘', '히', '▁식', '어', '가는', '▁아내', '가', '▁떠', '올', '라', '▁', '걱', '정은', '▁더', '해', '져']]\n",
            "is_next: 1\n",
            "tokens_a: 17 ['▁오늘', '은', '▁', '왠', '지', '▁나', '가지', '▁말', '라', '던', '▁내', '▁옆', '에', '▁있어', '▁달', '라', '던']\n",
            "tokens_b: 44 ['▁그리', '도', '▁나가', '고', '▁싶', '으면', '▁일', '찍', '이라', '도', '▁들어', '와', '▁달', '라', '던', '▁아내', '의', '▁간', '절', '한', '▁목', '소', '리가', '▁들', '려', '와', '▁나', '를', '▁원', '망', '하', '듯', '▁비', '는', '▁점', '점', '▁거', '세', '져', '▁싸', '늘', '히', '▁식', '어']\n",
            "tokens: 64 ['[CLS]', '▁오늘', '은', '▁', '왠', '지', '▁나', '가지', '▁말', '라', '던', '▁내', '▁옆', '에', '▁있어', '▁달', '라', '던', '[SEP]', '▁그리', '도', '▁나가', '고', '▁싶', '으면', '▁일', '찍', '이라', '도', '▁들어', '와', '▁달', '라', '던', '▁아내', '의', '▁간', '절', '한', '▁목', '소', '리가', '▁들', '려', '와', '▁나', '를', '▁원', '망', '하', '듯', '▁비', '는', '▁점', '점', '▁거', '세', '져', '▁싸', '늘', '히', '▁식', '어', '[SEP]']\n",
            "segment: 64 [0, 0, 0, 0, 0, 0, 0, 0, 0, 0, 0, 0, 0, 0, 0, 0, 0, 0, 0, 1, 1, 1, 1, 1, 1, 1, 1, 1, 1, 1, 1, 1, 1, 1, 1, 1, 1, 1, 1, 1, 1, 1, 1, 1, 1, 1, 1, 1, 1, 1, 1, 1, 1, 1, 1, 1, 1, 1, 1, 1, 1, 1, 1, 1]\n",
            "masked tokens: 64 ['[CLS]', '[MASK]', '[MASK]', '▁', '왠', '지', '▁나', '가지', '▁말', '라', '던', '▁내', '▁옆', '에', '▁있어', '[MASK]', '[MASK]', '[MASK]', '[SEP]', '▁그리', '도', '▁나가', '고', '▁싶', '으면', '[MASK]', '[MASK]', '[MASK]', '[MASK]', '▁들어', '와', '▁달', '라', '던', '▁아내', '의', '▁간', '절', '한', '▁목', '소', '리가', '▁들', '려', '와', '▁나', '를', '▁원', '망', '하', '듯', '▁비', '는', '▁점', '점', '▁거', '세', '져', '▁싸', '늘', '히', '▁식', '어', '[SEP]']\n",
            "masked index: 9 [1, 2, 15, 16, 17, 25, 26, 27, 28]\n",
            "masked label: 9 ['▁오늘', '은', '▁달', '라', '던', '▁일', '찍', '이라', '도']\n",
            "\n",
            "current_chunk: 2 22 [['▁난', '▁몰', '라', '▁오늘', '은', '▁운', '수', '▁좋은', '▁날'], ['▁난', '▁맨', '날', '▁이렇게', '▁살', '▁수', '▁있', '으면', '▁얼마', '나', '▁좋', '을', '까']]\n",
            "is_next: 0\n",
            "tokens_a: 13 ['▁난', '▁맨', '날', '▁이렇게', '▁살', '▁수', '▁있', '으면', '▁얼마', '나', '▁좋', '을', '까']\n",
            "tokens_b: 9 ['▁난', '▁몰', '라', '▁오늘', '은', '▁운', '수', '▁좋은', '▁날']\n",
            "tokens: 25 ['[CLS]', '▁난', '▁맨', '날', '▁이렇게', '▁살', '▁수', '▁있', '으면', '▁얼마', '나', '▁좋', '을', '까', '[SEP]', '▁난', '▁몰', '라', '▁오늘', '은', '▁운', '수', '▁좋은', '▁날', '[SEP]']\n",
            "segment: 25 [0, 0, 0, 0, 0, 0, 0, 0, 0, 0, 0, 0, 0, 0, 0, 1, 1, 1, 1, 1, 1, 1, 1, 1, 1]\n",
            "masked tokens: 25 ['[CLS]', '▁난', '▁맨', '날', '▁이렇게', '▁살', '▁수', '▁있', '으면', '▁얼마', '나', '▁좋', '을', '까', '[SEP]', '▁난', '▁몰', '라', '▁오늘', '은', '▁운', '수', '▁좋은', '▁날', '[SEP]']\n",
            "masked index: 3 [7, 8, 15]\n",
            "masked label: 3 ['▁있', '으면', '▁난']\n",
            "\n"
          ]
        }
      ]
    },
    {
      "cell_type": "code",
      "source": [
        "# 최종 데이터셋 결과 확인\n",
        "for instance in instances:\n",
        "    print(instance)"
      ],
      "metadata": {
        "colab": {
          "base_uri": "https://localhost:8080/"
        },
        "id": "bNUiWAz8pwE3",
        "outputId": "29c6b4b4-9b43-4631-8cf7-b9c6fc00a691"
      },
      "execution_count": 24,
      "outputs": [
        {
          "output_type": "stream",
          "name": "stdout",
          "text": [
            "{'tokens': ['[CLS]', '▁손', '바', '닥', '▁위', '엔', '▁기', '쁨', '의', '▁눈', '물이', '▁흘', '러', '[SEP]', '▁추', '적', '추', '적', '▁비', '가', '▁내', '리는', '▁날', '이었', '어', '[MASK]', '[MASK]', '[MASK]', '▁', '왠', '지', '▁손', '님', '이', '▁많', '아', '[MASK]', '▁번', '에', '▁삼', '십', '가로', '[MASK]', '[MASK]', '▁번', '[MASK]', '[MASK]', '▁전', '▁오', '랜', '만에', '▁받아', '보', '는', '▁십', '▁전', '짜', '리', '▁백', '통', '화', '▁서', '푼', '[SEP]'], 'segment': [0, 0, 0, 0, 0, 0, 0, 0, 0, 0, 0, 0, 0, 0, 1, 1, 1, 1, 1, 1, 1, 1, 1, 1, 1, 1, 1, 1, 1, 1, 1, 1, 1, 1, 1, 1, 1, 1, 1, 1, 1, 1, 1, 1, 1, 1, 1, 1, 1, 1, 1, 1, 1, 1, 1, 1, 1, 1, 1, 1, 1, 1, 1, 1], 'is_next': 0, 'mask_idx': [25, 26, 27, 36, 41, 42, 43, 45, 46], 'mask_label': ['▁그', '날', '은', '▁첫', '▁전', '▁둘', '째', '▁오', '십']}\n",
            "{'tokens': ['[CLS]', '▁컬', '컬', '한', '▁목', '에', '▁모', '주', '▁한', '잔', '을', '暴', '°', '[SEP]', '▁몇', '▁달', '▁포', '▁전', '부터', '▁콜', '록', '거', '리는', '▁아내', '▁생각', '에', '▁그', '토', '록', '▁먹', '고', '▁싶', '다', '던', '▁설', '렁', '탕', '▁한', '▁그', '릇', '을', '▁이', '제는', '[MASK]', '▁수', '▁있어', '▁집', '으로', '▁돌아', '가는', '[MASK]', '▁난', '▁문', '득', '[MASK]', '[MASK]', '[MASK]', '[MASK]', '[MASK]', '▁목', '소', '리가', '▁거', '[SEP]'], 'segment': [0, 0, 0, 0, 0, 0, 0, 0, 0, 0, 0, 0, 0, 0, 1, 1, 1, 1, 1, 1, 1, 1, 1, 1, 1, 1, 1, 1, 1, 1, 1, 1, 1, 1, 1, 1, 1, 1, 1, 1, 1, 1, 1, 1, 1, 1, 1, 1, 1, 1, 1, 1, 1, 1, 1, 1, 1, 1, 1, 1, 1, 1, 1, 1], 'is_next': 1, 'mask_idx': [11, 12, 43, 50, 54, 55, 56, 57, 58], 'mask_label': ['▁적', '셔', '▁살', '▁길', '▁떠', '올', '라', '▁아내', '의']}\n",
            "{'tokens': ['[CLS]', '[MASK]', '[MASK]', '▁', '왠', '지', '▁나', '가지', '▁말', '라', '던', '▁내', '▁옆', '에', '▁있어', '[MASK]', '[MASK]', '[MASK]', '[SEP]', '▁그리', '도', '▁나가', '고', '▁싶', '으면', '[MASK]', '[MASK]', '[MASK]', '[MASK]', '▁들어', '와', '▁달', '라', '던', '▁아내', '의', '▁간', '절', '한', '▁목', '소', '리가', '▁들', '려', '와', '▁나', '를', '▁원', '망', '하', '듯', '▁비', '는', '▁점', '점', '▁거', '세', '져', '▁싸', '늘', '히', '▁식', '어', '[SEP]'], 'segment': [0, 0, 0, 0, 0, 0, 0, 0, 0, 0, 0, 0, 0, 0, 0, 0, 0, 0, 0, 1, 1, 1, 1, 1, 1, 1, 1, 1, 1, 1, 1, 1, 1, 1, 1, 1, 1, 1, 1, 1, 1, 1, 1, 1, 1, 1, 1, 1, 1, 1, 1, 1, 1, 1, 1, 1, 1, 1, 1, 1, 1, 1, 1, 1], 'is_next': 1, 'mask_idx': [1, 2, 15, 16, 17, 25, 26, 27, 28], 'mask_label': ['▁오늘', '은', '▁달', '라', '던', '▁일', '찍', '이라', '도']}\n",
            "{'tokens': ['[CLS]', '▁난', '▁맨', '날', '▁이렇게', '▁살', '▁수', '▁있', '으면', '▁얼마', '나', '▁좋', '을', '까', '[SEP]', '▁난', '▁몰', '라', '▁오늘', '은', '▁운', '수', '▁좋은', '▁날', '[SEP]'], 'segment': [0, 0, 0, 0, 0, 0, 0, 0, 0, 0, 0, 0, 0, 0, 0, 1, 1, 1, 1, 1, 1, 1, 1, 1, 1], 'is_next': 0, 'mask_idx': [7, 8, 15], 'mask_label': ['▁있', '으면', '▁난']}\n"
          ]
        }
      ]
    },
    {
      "cell_type": "markdown",
      "source": [
        "### 🔶 create_pretrain_instances() : Next Sentence Prediction을 위한 코퍼스 생성 메소드"
      ],
      "metadata": {
        "id": "dyr4z8Knp5zV"
      }
    },
    {
      "cell_type": "code",
      "source": [
        "def create_pretrain_instances(vocab, doc, n_seq, mask_prob, vocab_list):\n",
        "    \"\"\"\n",
        "    doc별 pretrain 데이터 생성\n",
        "    \"\"\"\n",
        "    # for CLS], [SEP], [SEP]\n",
        "    max_seq = n_seq - 3\n",
        "\n",
        "    instances = []\n",
        "    current_chunk = []\n",
        "    current_length = 0\n",
        "    for i in range(len(doc)):\n",
        "        current_chunk.append(doc[i])  # line\n",
        "        current_length += len(doc[i])\n",
        "        if 1 < len(current_chunk) and (i == len(doc) - 1 or current_length >= max_seq):\n",
        "            # token a\n",
        "            a_end = 1\n",
        "            if 1 < len(current_chunk):\n",
        "                a_end = random.randrange(1, len(current_chunk))\n",
        "            tokens_a = []\n",
        "            for j in range(a_end):\n",
        "                tokens_a.extend(current_chunk[j])\n",
        "            # token b\n",
        "            tokens_b = []\n",
        "            for j in range(a_end, len(current_chunk)):\n",
        "                tokens_b.extend(current_chunk[j])\n",
        "\n",
        "            if random.random() < 0.5:  # 50% 확률로 swap\n",
        "                is_next = 0\n",
        "                tokens_t = tokens_a\n",
        "                tokens_a = tokens_b\n",
        "                tokens_b = tokens_t\n",
        "            else:\n",
        "                is_next = 1\n",
        "            # max_seq 보다 큰 경우 길이 조절\n",
        "            trim_tokens(tokens_a, tokens_b, max_seq)\n",
        "            assert 0 < len(tokens_a)\n",
        "            assert 0 < len(tokens_b)\n",
        "            # tokens & aegment 생성\n",
        "            tokens = [\"[CLS]\"] + tokens_a + [\"[SEP]\"] + tokens_b + [\"[SEP]\"]\n",
        "            segment = [0] * (len(tokens_a) + 2) + [1] * (len(tokens_b) + 1)\n",
        "            # mask\n",
        "            tokens, mask_idx, mask_label = create_pretrain_mask(tokens, int((len(tokens) - 3) * mask_prob), vocab_list)\n",
        "\n",
        "            instance = {\n",
        "                \"tokens\": tokens,\n",
        "                \"segment\": segment,\n",
        "                \"is_next\": is_next,\n",
        "                \"mask_idx\": mask_idx,\n",
        "                \"mask_label\": mask_label\n",
        "            }\n",
        "            instances.append(instance)\n",
        "\n",
        "            current_chunk = []\n",
        "            current_length = 0\n",
        "    return instances"
      ],
      "metadata": {
        "id": "96GPNg0up27_"
      },
      "execution_count": 25,
      "outputs": []
    },
    {
      "cell_type": "code",
      "source": [
        "instances = create_pretrain_instances(vocab, doc, n_test_seq, 0.15, vocab_list)\n",
        "\n",
        "# 최종 데이터셋 결과 확인\n",
        "for instance in instances:\n",
        "    print(instance)"
      ],
      "metadata": {
        "colab": {
          "base_uri": "https://localhost:8080/"
        },
        "id": "7K5wP3_3qBh3",
        "outputId": "e4cf388f-2b1b-4c87-9706-82441094ca02"
      },
      "execution_count": 26,
      "outputs": [
        {
          "output_type": "stream",
          "name": "stdout",
          "text": [
            "{'tokens': ['[CLS]', '▁번', '에', '▁삼', '십', '[MASK]', '▁둘', '째', 'え', '▁오', '십', '▁전', '▁오', '랜', '만에', '[MASK]', '[MASK]', '[MASK]', '▁십', '▁전', '짜', '리', '▁백', '통', '화', '▁서', '푼', '에', '▁손', '바', '닥', '▁위', '엔', '▁기', '쁨', '의', '[MASK]', '[MASK]', '[MASK]', '[MASK]', '[SEP]', '▁추', '적', '추', '적', '▁비', '가', '▁내', '리는', '▁날', '이었', '어', '▁그', '날', '은', '▁', '왠', '지', '▁손', '님', '이', '▁많', '아', '[SEP]'], 'segment': [0, 0, 0, 0, 0, 0, 0, 0, 0, 0, 0, 0, 0, 0, 0, 0, 0, 0, 0, 0, 0, 0, 0, 0, 0, 0, 0, 0, 0, 0, 0, 0, 0, 0, 0, 0, 0, 0, 0, 0, 0, 1, 1, 1, 1, 1, 1, 1, 1, 1, 1, 1, 1, 1, 1, 1, 1, 1, 1, 1, 1, 1, 1, 1], 'is_next': 0, 'mask_idx': [5, 8, 15, 16, 17, 36, 37, 38, 39], 'mask_label': ['▁전', '▁번', '▁받아', '보', '는', '▁눈', '물이', '▁흘', '러']}\n",
            "{'tokens': ['[CLS]', '[MASK]', '[MASK]', '▁몇', '▁달', '[MASK]', '▁전', '부터', '[MASK]', '[MASK]', '[MASK]', '[MASK]', '▁아내', '▁생각', '에', '▁그', '토', '록', '▁먹', '고', '▁싶', '다', '던', '▁설', '렁', '탕', '▁한', '▁그', '릇', '을', '▁이', '제는', '[MASK]', '▁수', '▁있어', '▁집', '으로', '▁돌아', '가는', '[MASK]', '▁난', '▁문', '득', '▁떠', '올', '라', '[SEP]', '▁아내', '의', '▁목', '소', '리가', '▁거', '칠', '어', '만', '▁가는', '▁희', '박', '한', '▁숨', '소', '리가', '[SEP]'], 'segment': [0, 0, 0, 0, 0, 0, 0, 0, 0, 0, 0, 0, 0, 0, 0, 0, 0, 0, 0, 0, 0, 0, 0, 0, 0, 0, 0, 0, 0, 0, 0, 0, 0, 0, 0, 0, 0, 0, 0, 0, 0, 0, 0, 0, 0, 0, 0, 1, 1, 1, 1, 1, 1, 1, 1, 1, 1, 1, 1, 1, 1, 1, 1, 1], 'is_next': 1, 'mask_idx': [1, 2, 5, 8, 9, 10, 11, 32, 39], 'mask_label': ['▁적', '셔', '▁포', '▁콜', '록', '거', '리는', '▁살', '▁길']}\n",
            "{'tokens': ['[CLS]', '에', '▁있어', '▁달', '라', '던', '▁그리', '도', '[MASK]', '[MASK]', '▁싶', '으면', '▁일', '찍', '이라', '도', '▁들어', '와', '▁달', '라', '던', '▁아내', '의', '▁간', '절', '한', '▁목', '소', '리가', '▁들', '려', '와', '[SEP]', '▁나', '를', '▁원', '망', '하', '듯', '▁비', '는', '▁점', '점', '썹', '숙', '촐', '▁싸', '늘', '히', '▁식', '어', '가는', '▁아내', '가', '▁떠', '올', '라', '[MASK]', '[MASK]', '[MASK]', '▁더', '해', '져', '[SEP]'], 'segment': [0, 0, 0, 0, 0, 0, 0, 0, 0, 0, 0, 0, 0, 0, 0, 0, 0, 0, 0, 0, 0, 0, 0, 0, 0, 0, 0, 0, 0, 0, 0, 0, 0, 1, 1, 1, 1, 1, 1, 1, 1, 1, 1, 1, 1, 1, 1, 1, 1, 1, 1, 1, 1, 1, 1, 1, 1, 1, 1, 1, 1, 1, 1, 1], 'is_next': 1, 'mask_idx': [2, 8, 9, 43, 44, 45, 57, 58, 59], 'mask_label': ['▁있어', '▁나가', '고', '▁거', '세', '져', '▁', '걱', '정은']}\n",
            "{'tokens': ['[CLS]', '▁난', '[MASK]', '[MASK]', '▁이렇게', '▁살', '[MASK]', '▁있', '으면', '▁얼마', '나', '▁좋', '을', '까', '[SEP]', '▁난', '▁몰', '라', '▁오늘', '은', '▁운', '수', '▁좋은', '▁날', '[SEP]'], 'segment': [0, 0, 0, 0, 0, 0, 0, 0, 0, 0, 0, 0, 0, 0, 0, 1, 1, 1, 1, 1, 1, 1, 1, 1, 1], 'is_next': 0, 'mask_idx': [2, 3, 6], 'mask_label': ['▁맨', '날', '▁수']}\n"
          ]
        }
      ]
    },
    {
      "cell_type": "markdown",
      "source": [
        "# 4. 데이터 전처리 (3) 데이터셋 완성"
      ],
      "metadata": {
        "id": "zuvhYEK_qTyu"
      }
    },
    {
      "cell_type": "code",
      "source": [
        "corpus_file = '/content/drive/MyDrive/Going_Deeper_NLP_BS/Going_Deeper_NLP_BS_sub/bert/kowiki.txt'\n",
        "\n",
        "# line count 확인\n",
        "total = 0\n",
        "with open(corpus_file, 'r') as in_f:\n",
        "    for line in in_f:\n",
        "        total += 1\n",
        "\n",
        "total"
      ],
      "metadata": {
        "colab": {
          "base_uri": "https://localhost:8080/"
        },
        "id": "pXzS0aAxqQ6Y",
        "outputId": "7df09adc-411c-4212-edda-b9ebff7f53f4"
      },
      "execution_count": 27,
      "outputs": [
        {
          "output_type": "execute_result",
          "data": {
            "text/plain": [
              "3957761"
            ]
          },
          "metadata": {},
          "execution_count": 27
        }
      ]
    },
    {
      "cell_type": "markdown",
      "source": [
        "### a. 예시"
      ],
      "metadata": {
        "id": "CPGgF2h8qqjv"
      }
    },
    {
      "cell_type": "code",
      "source": [
        "# 위키가 주제별로 잘 나눠지는지 여부 확인\n",
        "count = 5\n",
        "\n",
        "with open(corpus_file, 'r') as in_f:\n",
        "    doc = []  # 단락 단위로 문서 저장\n",
        "    for line in tqdm(in_f, total=total):\n",
        "        line = line.strip()\n",
        "        if line == \"\":  # line이 빈줄 일 경우 (새로운 단락)  \n",
        "            if 0 < len(doc):\n",
        "                if 0 < count:\n",
        "                    count -= 1\n",
        "                    print(len(doc), \"lines :\", doc[0])\n",
        "                    print(doc[1])\n",
        "                    print(doc[-1])\n",
        "                    print()\n",
        "                else:\n",
        "                    break\n",
        "                doc = []\n",
        "        else:  # 빈 줄이 아니면 doc에 저장\n",
        "            pieces = vocab.encode_as_pieces(line)    \n",
        "            if 0 < len(pieces):\n",
        "                doc.append(pieces)\n",
        "    if 0 < len(doc):  # 마지막에 처리되지 않은 doc가 있는 경우\n",
        "        print(doc[0])\n",
        "        print(doc[1])\n",
        "        print(doc[-1])\n",
        "        doc = []"
      ],
      "metadata": {
        "colab": {
          "base_uri": "https://localhost:8080/",
          "height": 491,
          "referenced_widgets": [
            "37d20681e386415e8b2b702683f806b2",
            "d54b6876a30d4542ab07c720bb0d027e",
            "03112d26aa714c32b3e9b09779a69150",
            "16909302b770416eb1f2315e68c32456",
            "df7729190b7b41838c4271301f5f1e6f",
            "71b496f0b0474a9d8923a7a794f1db85",
            "9489c55ca9c948f68fd21c279b2cb269",
            "aa6e4f43299f45ecaadf6ab433b184c5",
            "6a115d795301459697498236f86a81d1",
            "3c571b12ef564a51b422ad519b71b8c3",
            "032717f5dd494f8e93292e36c9b2c894"
          ]
        },
        "id": "Sz_r1dgjqhBf",
        "outputId": "8e168368-de07-4d56-feed-56d90539208d"
      },
      "execution_count": 28,
      "outputs": [
        {
          "output_type": "display_data",
          "data": {
            "text/plain": [
              "  0%|          | 0/3957761 [00:00<?, ?it/s]"
            ],
            "application/vnd.jupyter.widget-view+json": {
              "version_major": 2,
              "version_minor": 0,
              "model_id": "37d20681e386415e8b2b702683f806b2"
            }
          },
          "metadata": {}
        },
        {
          "output_type": "stream",
          "name": "stdout",
          "text": [
            "21 lines : ['▁지', '미', '▁카', '터']\n",
            "['▁제임스', '▁얼', '▁\"', '지', '미', '\"', '▁카', '터', '▁주', '니어', '(,', '▁192', '4', '년', '▁10', '월', '▁1', '일', '▁~', '▁)', '는', '▁민주', '당', '▁출신', '▁미국', '▁3', '9', '번째', '▁대통령', '▁(19', '7', '7', '년', '▁~', '▁1981', '년', ')', '이다', '.']\n",
            "['▁그는', '▁2002', '년', '▁말', '▁인', '권', '과', '▁중', '재', '▁역할', '에', '▁대한', '▁공', '로를', '▁인정', '받아', '▁노', '벨', '▁평화', '상을', '▁받', '게', '▁되었다', '.']\n",
            "\n",
            "14 lines : ['▁수학']\n",
            "['▁수학', '(', '數', '學', ',', '▁)', '은', '▁양', ',', '▁구조', ',', '▁공간', ',', '▁변화', ',', '▁미', '적', '분', '▁등의', '▁개념', '을', '▁다루', '는', '▁학', '문', '이다', '.', '▁현대', '▁수학', '은', '▁형식', '▁논', '리를', '▁이용', '해서', '▁공', '리로', '▁구성된', '▁추', '상', '적', '▁구조를', '▁연구', '하는', '▁학', '문', '으로', '▁여겨', '지', '기도', '▁한다', '.', '▁수학', '은', '▁그', '▁구조', '와', '▁발전', '▁과정', '에서는', '▁자연', '과학', '에', '▁속하는', '▁물리', '학을', '▁비롯한', '▁다른', '▁학', '문', '들과', '▁깊', '은', '▁연', '관을', '▁맺', '고', '▁있다', '.', '▁하지만', ',', '▁어느', '▁과학', '의', '▁분야', '들과', '는', '▁달리', ',', '▁자연', '계에서', '▁관측', '되지', '▁않는', '▁개념', '들에', '▁대해서', '까지', '▁이론', '을', '▁일반', '화', '▁및', '▁추', '상', '화', '시', '킬', '▁수', '▁있다는', '▁차', '이가', '▁있다고', '▁한다', '.', '▁수', '학자', '들은', '▁그러', '한', '▁개념', '들에', '▁대해서', '▁추', '측', '을', '▁하고', ',', '▁적', '절', '하게', '▁선택', '된', '▁정의', '와', '▁공', '리', '로부터', '의', '▁엄', '밀', '한', '▁연', '역을', '▁통해', '서', '▁추', '측', '들의', '▁진', '위를', '▁파', '악', '한다', '.']\n",
            "['▁수', '학의', '▁기초', '를', '▁확', '실', '히', '▁세', '우', '기', '▁위해', ',', '▁수', '리', '논', '리', '학과', '▁집합', '론', '이', '▁발전', '하였고', ',', '▁이와', '▁더불어', '▁범', '주', '론', '이', '▁최근', '에도', '▁발전', '되고', '▁있다', '.', '▁“', '근', '본', '▁위', '기', '”', '라는', '▁말', '은', '▁대', '략', '▁19', '00', '년', '에서', '▁1930', '년', '▁사이에', '▁일어난', ',', '▁수', '학의', '▁엄', '밀', '한', '▁기초', '에', '▁대한', '▁탐', '구를', '▁상징', '적으로', '▁보여', '주는', '▁말이다', '.', '▁수', '학의', '▁엄', '밀', '한', '▁기초', '에', '▁대한', '▁몇', '▁가지', '▁의견', '▁불', '일', '치는', '▁오늘날', '에도', '▁계속', '되고', '▁있다', '.', '▁수', '학의', '▁기초', '에', '▁대한', '▁위', '기는', '▁그', '▁당시', '▁수많은', '▁논', '쟁', '에', '▁의해', '▁촉', '발', '되었으며', ',', '▁그', '▁논', '쟁', '에는', '▁칸', '토', '어의', '▁집합', '론', '과', '▁브라', '우', '어', '-', '힐', '베', '르트', '▁논', '쟁', '이', '▁포함', '되었다', '.']\n",
            "\n",
            "4 lines : ['▁수학', '▁상', '수']\n",
            "['▁수학', '에서', '▁상', '수', '란', '▁그', '▁값', '이', '▁변', '하지', '▁않는', '▁불', '변', '량', '으로', ',', '▁변', '수의', '▁반대', '말', '이다', '.', '▁물리', '▁상', '수', '와는', '▁달리', ',', '▁수학', '▁상', '수는', '▁물리', '적', '▁측정', '과는', '▁상', '관', '없이', '▁정의', '된다', '.']\n",
            "['▁특정', '▁수학', '▁상', '수', ',', '▁예를', '▁들', '면', '▁골', '롬', '-', '딕', '맨', '▁상', '수', ',', '▁프랑', '세', '즈', '-', '로', '빈', '슨', '▁상', '수', ',', '▁formula', '_1', ',', '▁레', '비', '▁상', '수', '같은', '▁상', '수는', '▁다른', '▁수학', '상', '수', '▁또는', '▁함수', '와', '▁약', '한', '▁상', '관', '관', '계', '▁또는', '▁강한', '▁상', '관', '관', '계를', '▁갖', '는다', '.']\n",
            "\n",
            "10 lines : ['▁문학']\n",
            "['▁문학', '(', '文', '學', ')', '은', '▁언', '어를', '▁예술', '적', '▁표현', '의', '▁제', '재', '로', '▁삼', '아', '▁새로운', '▁의미', '를', '▁창', '출', '하여', ',', '▁인간', '과', '▁사회', '를', '▁진', '실', '되', '게', '▁묘사', '하는', '▁예술', '의', '▁하', '위', '분', '야', '이다', '.', '▁간', '단', '하게', '▁설명', '하면', ',', '▁언', '어를', '▁통해', '▁인간의', '▁삶', '을', '▁미', '적', '(', '美', '的', ')', '으로', '▁형', '상', '화', '한', '▁것이라고', '▁볼', '▁수', '▁있다', '.', '▁문학', '은', '▁원래', '▁문', '예', '(', '文', '藝', ')', '라고', '▁부', '르는', '▁것이', '▁', '옳', '으며', ',', '▁문', '학을', '▁학', '문', '의', '▁대상', '으로서', '▁탐', '구', '하는', '▁학', '문', '의', '▁명칭', '▁역시', '▁문', '예', '학', '이다', '.', '▁문', '예', '학', '은', '▁음악', '사', '학', ',', '▁미술', '사', '학', '▁등과', '▁함께', '▁예술', '학의', '▁핵', '심', '분', '야', '로서', '▁인', '문', '학의', '▁하', '위', '범', '주에', '▁포함', '된다', '.']\n",
            "['▁반', '영', '론', '적', '▁관', '점에', '▁의한', '▁감', '상은', '▁작품', '을', '▁창', '작', '된', '▁당시', '▁시대', '▁정', '황', '과', '▁연결', '시켜', '▁감', '상', '하는', '▁입', '장', '이고', ',', '▁내', '재', '적', '▁관', '점', '의', '▁감', '상은', '▁작품', '의', '▁형식', ',', '▁내용', '에', '▁국', '한', '하여', '▁감', '상', '하는', '▁것이다', '.', '▁표현', '론', '적', '▁관', '점', '의', '▁감', '상은', '▁작가', '의', '▁전기', '적', '▁사실', '과', '▁작품', '을', '▁연결', '시켜', '▁감', '상', '하는', '▁것이', '고', ',', '▁수용', '론', '적', '▁관', '점', '의', '▁감', '상은', '▁독', '자와', '▁작품', '을', '▁연결', '시켜', '▁감', '상', '하는', '▁것을', '▁말한다', '.']\n",
            "\n",
            "10 lines : ['▁나라', '▁목록']\n",
            "['▁이', '▁문', '서는', '▁나라', '▁목록', '이며', ',', '▁전', '▁세계', '▁20', '6', '개', '▁나라', '의', '▁각', '▁현', '황', '과', '▁주', '권', '▁승', '인', '▁정보를', '▁개', '요', '▁형태로', '▁나', '열', '하고', '▁있다', '.']\n",
            "['▁위', '▁목록', '에', '▁포함', '되지', '▁않은', '▁다음', '▁국가', '는', '▁몬', '테', '비', '데', '오', '▁협', '약', '의', '▁모든', '▁조건', '을', '▁만족', '하지', '▁못', '하거나', ',', '▁자주', '적이고', '▁독립', '적', '임을', '▁주장', '하지', '▁않는', '▁국가', '이다', '.']\n",
            "\n",
            "['▁화학']\n",
            "['▁화학', '(', '化', '學', ',', '▁)', '은', '▁물질', '의', '▁성', '질', ',', '▁조성', ',', '▁구조', ',', '▁변화', '▁및', '▁그', '에', '▁수', '반', '하는', '▁에너', '지의', '▁변', '화를', '▁연구', '하는', '▁자연', '과', '학의', '▁한', '▁분야', '이다', '.', '▁물리', '학', '도', '▁역시', '▁물질', '을', '▁다루', '는', '▁학', '문', '이지만', ',', '▁물리', '학', '이', '▁원', '소', '와', '▁화', '합', '물을', '▁모두', '▁포함한', '▁물', '체의', '▁운동', '과', '▁에너', '지', ',', '▁열', '적', '·', '전', '기', '적', '·', '광', '학적', '·', '기', '계', '적', '▁속', '성을', '▁다루', '고', '▁이러한', '▁현', '상', '으로부터', '▁통일', '된', '▁이론', '을', '▁구축', '하려는', '▁것', '과는', '▁달리', '▁화학', '에서는', '▁물질', '▁자', '체를', '▁연구', '▁대상으로', '▁한다', '.', '▁화학', '은', '▁이미', '▁존재', '하는', '▁물질', '을', '▁이용하여', '▁특', '정한', '▁목', '적', '에', '▁맞', '는', '▁새로운', '▁물질', '을', '▁합', '성', '하는', '▁길', '을', '▁제공', '하며', ',', '▁이는', '▁농', '작', '물의', '▁증', '산', ',', '▁질', '병', '의', '▁치료', '▁및', '▁예', '방', ',', '▁에너', '지', '▁효', '율', '▁증', '대', ',', '▁환경', '오', '염', '▁감소', '▁등', '▁여러', '▁가지', '▁이', '점을', '▁제공', '한다', '.']\n",
            "['▁유', '기', '화', '학', '은', '▁탄', '소로', '▁이루어진', '▁화', '합', '물을', '▁연구', '하는', '▁분', '과', '이다', '.', '▁원래', '▁유', '기', '▁화', '합', '물', '은', '▁식물', '이나', '▁동물', '로부터', '▁추', '출', '해', '낸', '▁화', '합', '물을', '▁뜻', '하였으나', '▁지금', '은', '▁유', '기', '▁화', '합', '물의', '▁범', '위가', '▁크게', '▁넓', '어져', '▁탄', '소', '▁사', '슬', '▁또는', '▁탄', '소', '▁고', '리를', '▁가진', '▁모든', '▁화', '합', '물을', '▁뜻', '한다', '.', '▁유', '기', '화', '학의', '▁오', '랜', '▁관', '심', '사는', '▁유', '기', '▁화', '합', '물의', '▁합', '성', '▁메', '커', '니', '즘', '이다', '.', '▁현', '대에', '▁들어', '서', '▁핵', '자', '기', '▁공', '명', '법', '과', '▁X', '선', '▁결정', '학', '▁등이', '▁개발', '되어', '▁유', '기', '▁화', '합', '물', '▁분석', '에', '▁있어서', '▁매우', '▁중요한', '▁방법', '으로', '▁자리', '잡', '았다', '.', '▁플', '라스', '틱', ',', '▁합', '성', '섬', '유', '등', '의', '▁고', '분', '자', '물', '질', '▁등', '도', '▁유', '기', '화', '학', '에서', '▁다루', '어진', '다', '.']\n"
          ]
        }
      ]
    },
    {
      "cell_type": "code",
      "source": [
        "# instance 생성 기능 확인\n",
        "count = 5\n",
        "\n",
        "with open(corpus_file, 'r') as in_f:\n",
        "    doc = []  # 단락 단위로 문서 저장\n",
        "    for line in tqdm(in_f, total=total):\n",
        "        line = line.strip()\n",
        "        if line == \"\":  # line이 빈줄 일 경우 (새로운 단락)\n",
        "            if 0 < len(doc):\n",
        "                instances = create_pretrain_instances(vocab, doc, n_test_seq, 0.15, vocab_list)\n",
        "                # save\n",
        "                print(\"doc:\", len(doc), \"instances:\", len(instances))\n",
        "                print(instances[0])\n",
        "                print(instances[-1])\n",
        "                print()\n",
        "                doc = []\n",
        "                if 0 < count:  # 테스트를 위해서 부분 처리함\n",
        "                    count -= 1\n",
        "                else:\n",
        "                    break\n",
        "        else:  # doc에 저장\n",
        "            if 0 < len(pieces):\n",
        "                doc.append(pieces)\n",
        "    if 0 < len(doc):  # 마지막에 처리되지 않은 doc가 있는 경우\n",
        "        instances = create_pretrain_instances(doc, 128)\n",
        "        # save\n",
        "        print(\"doc:\", len(doc), \"instances:\", len(instances))\n",
        "        print(instances[0])\n",
        "        print(instances[-1])\n",
        "        print()\n",
        "        doc = []"
      ],
      "metadata": {
        "colab": {
          "base_uri": "https://localhost:8080/",
          "height": 510,
          "referenced_widgets": [
            "f1879fee43114bf2ba8334c73640283a",
            "c14c37f1943449dfb6e18b69c6d028d9",
            "94e65e509c1e4ca9b97c6e1ed439a6ff",
            "e871057e274c4d23ab26853cd6260e0a",
            "146100d14a2b49f58d24d10c580d21d1",
            "bda8befc681240b9bb442b18a6f3b94e",
            "b53bcc3d62bc49a2a0bee2e5dac1251e",
            "7405aef16d1e451583b1781fd09c4995",
            "9e09bcc5db1d4f238ee91d4c10a035db",
            "a4c270fa72d94110ac4b32aebc4f5df3",
            "d5092ff5daa2444b99b9657602de7bbf"
          ]
        },
        "id": "rAOWsctoqkz3",
        "outputId": "1e7e8bde-ab57-48fd-983e-33baf3339dcb"
      },
      "execution_count": 29,
      "outputs": [
        {
          "output_type": "display_data",
          "data": {
            "text/plain": [
              "  0%|          | 0/3957761 [00:00<?, ?it/s]"
            ],
            "application/vnd.jupyter.widget-view+json": {
              "version_major": 2,
              "version_minor": 0,
              "model_id": "f1879fee43114bf2ba8334c73640283a"
            }
          },
          "metadata": {}
        },
        {
          "output_type": "stream",
          "name": "stdout",
          "text": [
            "doc: 21 instances: 10\n",
            "{'tokens': ['[CLS]', '으로', '▁자리', '잡', '았다', '.', '▁플', '라스', '틱', ',', '[MASK]', '[MASK]', '[MASK]', '[MASK]', '[MASK]', '[MASK]', '▁고', '분', '자', '물', '질', '▁등', '도', '▁유', '기', '화', '학', '에서', '▁다루', '어진', '다', '.', '[SEP]', '▁유', '기', '화', '학', '은', '▁탄', '소로', '▁이루어진', '[MASK]', '[MASK]', '[MASK]', '▁연구', '하는', '▁분', '과', '이다', '.', '▁원래', '▁유', '기', '▁화', '합', '물', '은', '▁식물', '이나', '▁동물', '로부터', '▁추', '출', '[SEP]'], 'segment': [0, 0, 0, 0, 0, 0, 0, 0, 0, 0, 0, 0, 0, 0, 0, 0, 0, 0, 0, 0, 0, 0, 0, 0, 0, 0, 0, 0, 0, 0, 0, 0, 0, 1, 1, 1, 1, 1, 1, 1, 1, 1, 1, 1, 1, 1, 1, 1, 1, 1, 1, 1, 1, 1, 1, 1, 1, 1, 1, 1, 1, 1, 1, 1], 'is_next': 0, 'mask_idx': [10, 11, 12, 13, 14, 15, 41, 42, 43], 'mask_label': ['▁합', '성', '섬', '유', '등', '의', '▁화', '합', '물을']}\n",
            "{'tokens': ['[CLS]', '으로', '▁자리', '잡', '았다', '.', '▁플', '라스', '틱', ',', '▁합', '성', '섬', '유', '등', '의', '▁고', '분', '자', '물', '질', '▁등', '도', '[MASK]', '[MASK]', '[MASK]', '[MASK]', '[MASK]', '▁다루', '어진', '다', '.', '[SEP]', '▁유', '기', '화', '학', '은', '▁탄', '소로', '▁이루어진', '▁화', '합', '물을', '▁연구', '하는', '▁분', '과', '이다', '.', '▁원래', '▁유', '기', '[MASK]', '[MASK]', '[MASK]', '[MASK]', '▁식물', '이나', '▁동물', '로부터', '▁추', '출', '[SEP]'], 'segment': [0, 0, 0, 0, 0, 0, 0, 0, 0, 0, 0, 0, 0, 0, 0, 0, 0, 0, 0, 0, 0, 0, 0, 0, 0, 0, 0, 0, 0, 0, 0, 0, 0, 1, 1, 1, 1, 1, 1, 1, 1, 1, 1, 1, 1, 1, 1, 1, 1, 1, 1, 1, 1, 1, 1, 1, 1, 1, 1, 1, 1, 1, 1, 1], 'is_next': 1, 'mask_idx': [23, 24, 25, 26, 27, 53, 54, 55, 56], 'mask_label': ['▁유', '기', '화', '학', '에서', '▁화', '합', '물', '은']}\n",
            "\n",
            "doc: 14 instances: 7\n",
            "{'tokens': ['[CLS]', '으로', '▁자리', '잡', '았다', '.', '▁플', '라스', '틱', ',', '▁합', '성', '섬', '유', '등', '의', '▁고', '분', '자', '물', '질', '▁등', '도', '▁유', '기', '화', '학', '에서', '▁다루', '어진', '다', '.', '[SEP]', '▁유', '기', '화', '학', '은', '[MASK]', '[MASK]', '[MASK]', '▁화', '합', '물을', '[MASK]', '[MASK]', '[MASK]', '[MASK]', '[MASK]', '[MASK]', '▁원래', '▁유', '기', '▁화', '합', '물', '은', '▁식물', '이나', '▁동물', '로부터', '▁추', '출', '[SEP]'], 'segment': [0, 0, 0, 0, 0, 0, 0, 0, 0, 0, 0, 0, 0, 0, 0, 0, 0, 0, 0, 0, 0, 0, 0, 0, 0, 0, 0, 0, 0, 0, 0, 0, 0, 1, 1, 1, 1, 1, 1, 1, 1, 1, 1, 1, 1, 1, 1, 1, 1, 1, 1, 1, 1, 1, 1, 1, 1, 1, 1, 1, 1, 1, 1, 1], 'is_next': 1, 'mask_idx': [38, 39, 40, 44, 45, 46, 47, 48, 49], 'mask_label': ['▁탄', '소로', '▁이루어진', '▁연구', '하는', '▁분', '과', '이다', '.']}\n",
            "{'tokens': ['[CLS]', '[MASK]', '▁자리', '잡', '았다', '.', '▁플', '라스', '틱', ',', '▁합', '성', '섬', '유', '등', '의', '▁고', '분', '자', '물', '질', '▁등', '도', '▁유', '기', '화', '학', '에서', '▁다루', '어진', '다', '.', '[SEP]', '▁유', '기', '화', '학', '은', '▁탄', '소로', '[MASK]', '▁화', '합', '물을', '[MASK]', '[MASK]', '▁분', '과', '이다', '.', '[MASK]', '[MASK]', '[MASK]', '▁화', '합', '물', '은', '▁식물', '이나', '▁동물', '로부터', '[MASK]', '[MASK]', '[SEP]'], 'segment': [0, 0, 0, 0, 0, 0, 0, 0, 0, 0, 0, 0, 0, 0, 0, 0, 0, 0, 0, 0, 0, 0, 0, 0, 0, 0, 0, 0, 0, 0, 0, 0, 0, 1, 1, 1, 1, 1, 1, 1, 1, 1, 1, 1, 1, 1, 1, 1, 1, 1, 1, 1, 1, 1, 1, 1, 1, 1, 1, 1, 1, 1, 1, 1], 'is_next': 0, 'mask_idx': [1, 40, 44, 45, 50, 51, 52, 61, 62], 'mask_label': ['으로', '▁이루어진', '▁연구', '하는', '▁원래', '▁유', '기', '▁추', '출']}\n",
            "\n",
            "doc: 4 instances: 2\n",
            "{'tokens': ['[CLS]', '으로', '▁자리', '잡', '았다', '.', '▁플', '라스', '틱', ',', '▁합', '성', '섬', '유', '등', '의', '[MASK]', '[MASK]', '[MASK]', '[MASK]', '[MASK]', '▁등', '도', '▁유', '기', '화', '학', '에서', '▁다루', '어진', '다', '.', '[SEP]', '▁유', '기', '화', '학', '은', '▁탄', '소로', '▁이루어진', '▁화', '합', '물을', '[MASK]', '[MASK]', '▁분', '과', '이다', '.', '▁원래', '[MASK]', '[MASK]', '▁화', '합', '물', '은', '▁식물', '이나', '▁동물', '로부터', '▁추', '출', '[SEP]'], 'segment': [0, 0, 0, 0, 0, 0, 0, 0, 0, 0, 0, 0, 0, 0, 0, 0, 0, 0, 0, 0, 0, 0, 0, 0, 0, 0, 0, 0, 0, 0, 0, 0, 0, 1, 1, 1, 1, 1, 1, 1, 1, 1, 1, 1, 1, 1, 1, 1, 1, 1, 1, 1, 1, 1, 1, 1, 1, 1, 1, 1, 1, 1, 1, 1], 'is_next': 0, 'mask_idx': [16, 17, 18, 19, 20, 44, 45, 51, 52], 'mask_label': ['▁고', '분', '자', '물', '질', '▁연구', '하는', '▁유', '기']}\n",
            "{'tokens': ['[CLS]', '[MASK]', '▁자리', '잡', '았다', '.', '▁플', '라스', '틱', ',', '[MASK]', '[MASK]', '[MASK]', '[MASK]', '[MASK]', '[MASK]', '▁고', '분', '자', '물', '질', '[MASK]', '[MASK]', '▁유', '기', '화', '학', '에서', '▁다루', '어진', '다', '.', '[SEP]', '▁유', '기', '화', '학', '은', '▁탄', '소로', '▁이루어진', '▁화', '합', '물을', '▁연구', '하는', '▁분', '과', '이다', '.', '▁원래', '▁유', '기', '▁화', '합', '물', '은', '▁식물', '이나', '▁동물', '로부터', '▁추', '출', '[SEP]'], 'segment': [0, 0, 0, 0, 0, 0, 0, 0, 0, 0, 0, 0, 0, 0, 0, 0, 0, 0, 0, 0, 0, 0, 0, 0, 0, 0, 0, 0, 0, 0, 0, 0, 0, 1, 1, 1, 1, 1, 1, 1, 1, 1, 1, 1, 1, 1, 1, 1, 1, 1, 1, 1, 1, 1, 1, 1, 1, 1, 1, 1, 1, 1, 1, 1], 'is_next': 1, 'mask_idx': [1, 10, 11, 12, 13, 14, 15, 21, 22], 'mask_label': ['으로', '▁합', '성', '섬', '유', '등', '의', '▁등', '도']}\n",
            "\n",
            "doc: 10 instances: 5\n",
            "{'tokens': ['[CLS]', '으로', '▁자리', '잡', '았다', '.', '▁플', '라스', '틱', ',', '▁합', '성', '섬', '유', '등', '의', '▁고', '분', '자', '물', '질', '▁등', '도', '▁유', '기', '화', '학', '에서', '▁다루', '어진', '다', '.', '[SEP]', '▁유', '기', '화', '학', '은', '▁탄', '소로', '許', '▁화', '합', '물을', '▁연구', '하는', '▁분', '과', '이다', '.', '▁원래', '▁유', '기', '[MASK]', '[MASK]', '[MASK]', '[MASK]', '적', '惠', '▁동물', '로부터', '[MASK]', '[MASK]', '[SEP]'], 'segment': [0, 0, 0, 0, 0, 0, 0, 0, 0, 0, 0, 0, 0, 0, 0, 0, 0, 0, 0, 0, 0, 0, 0, 0, 0, 0, 0, 0, 0, 0, 0, 0, 0, 1, 1, 1, 1, 1, 1, 1, 1, 1, 1, 1, 1, 1, 1, 1, 1, 1, 1, 1, 1, 1, 1, 1, 1, 1, 1, 1, 1, 1, 1, 1], 'is_next': 0, 'mask_idx': [40, 53, 54, 55, 56, 57, 58, 61, 62], 'mask_label': ['▁이루어진', '▁화', '합', '물', '은', '▁식물', '이나', '▁추', '출']}\n",
            "{'tokens': ['[CLS]', '으로', '▁자리', '잡', '았다', '.', '▁플', '라스', '틱', ',', '▁합', '성', '섬', '유', '등', '의', '▁고', '분', '자', '물', '질', '▁등', '도', '[MASK]', '[MASK]', '[MASK]', '[MASK]', '[MASK]', '▁다루', '어진', '다', '.', '[SEP]', '▁유', '기', '화', '학', '은', '[MASK]', '[MASK]', '▁이루어진', '▁화', '합', '물을', '▁연구', '하는', '▁분', '과', '이다', '.', '▁원래', '[MASK]', '[MASK]', '▁화', '합', '물', '은', '▁식물', '이나', '▁동물', '로부터', '▁추', '출', '[SEP]'], 'segment': [0, 0, 0, 0, 0, 0, 0, 0, 0, 0, 0, 0, 0, 0, 0, 0, 0, 0, 0, 0, 0, 0, 0, 0, 0, 0, 0, 0, 0, 0, 0, 0, 0, 1, 1, 1, 1, 1, 1, 1, 1, 1, 1, 1, 1, 1, 1, 1, 1, 1, 1, 1, 1, 1, 1, 1, 1, 1, 1, 1, 1, 1, 1, 1], 'is_next': 1, 'mask_idx': [23, 24, 25, 26, 27, 38, 39, 51, 52], 'mask_label': ['▁유', '기', '화', '학', '에서', '▁탄', '소로', '▁유', '기']}\n",
            "\n",
            "doc: 10 instances: 5\n",
            "{'tokens': ['[CLS]', '[MASK]', '▁자리', '잡', '았다', '.', '▁플', '라스', '틱', ',', '▁합', '성', '섬', '유', '등', '의', '▁고', '분', '자', '물', '질', '▁등', '도', '▁유', '기', '화', '학', '에서', '▁다루', '어진', '다', '.', '[SEP]', '▁유', '기', '화', '학', '은', '▁탄', '소로', '▁이루어진', '▁화', '합', '물을', '▁연구', '하는', '[MASK]', '[MASK]', '[MASK]', '[MASK]', '▁원래', '[MASK]', '[MASK]', '▁화', '합', '물', '은', '[MASK]', '[MASK]', '▁동물', '로부터', '▁추', '출', '[SEP]'], 'segment': [0, 0, 0, 0, 0, 0, 0, 0, 0, 0, 0, 0, 0, 0, 0, 0, 0, 0, 0, 0, 0, 0, 0, 0, 0, 0, 0, 0, 0, 0, 0, 0, 0, 1, 1, 1, 1, 1, 1, 1, 1, 1, 1, 1, 1, 1, 1, 1, 1, 1, 1, 1, 1, 1, 1, 1, 1, 1, 1, 1, 1, 1, 1, 1], 'is_next': 0, 'mask_idx': [1, 46, 47, 48, 49, 51, 52, 57, 58], 'mask_label': ['으로', '▁분', '과', '이다', '.', '▁유', '기', '▁식물', '이나']}\n",
            "{'tokens': ['[CLS]', '으로', '▁자리', '잡', '았다', '.', '▁플', '라스', '틱', ',', '▁합', '성', '섬', '유', '등', '의', '▁고', '분', '자', '물', '질', '▁등', '도', '▁유', '기', '화', '학', '에서', '▁다루', '어진', '다', '.', '[SEP]', '▁유', '기', '화', '학', '은', '▁탄', '소로', '▁이루어진', '▁화', '합', '물을', '[MASK]', '[MASK]', '▁분', '과', '이다', '.', '[MASK]', '▁유', '기', '▁화', '합', '물', '은', '▁식물', '이나', '▁동물', '로부터', '[MASK]', '[MASK]', '[SEP]'], 'segment': [0, 0, 0, 0, 0, 0, 0, 0, 0, 0, 0, 0, 0, 0, 0, 0, 0, 0, 0, 0, 0, 0, 0, 0, 0, 0, 0, 0, 0, 0, 0, 0, 0, 1, 1, 1, 1, 1, 1, 1, 1, 1, 1, 1, 1, 1, 1, 1, 1, 1, 1, 1, 1, 1, 1, 1, 1, 1, 1, 1, 1, 1, 1, 1], 'is_next': 1, 'mask_idx': [44, 45, 50, 53, 54, 55, 56, 61, 62], 'mask_label': ['▁연구', '하는', '▁원래', '▁화', '합', '물', '은', '▁추', '출']}\n",
            "\n",
            "doc: 31 instances: 15\n",
            "{'tokens': ['[CLS]', '[MASK]', '▁자리', '잡', '았다', '.', '▁플', '라스', '틱', ',', '▁합', '성', '섬', '유', '등', '의', '▁고', '분', '자', '물', '질', '▁등', '도', '[MASK]', '[MASK]', '[MASK]', '[MASK]', '[MASK]', '▁다루', '어진', '다', '.', '[SEP]', '▁유', '기', '화', '학', '은', '▁탄', '소로', '[MASK]', '▁화', '합', '물을', '▁연구', '하는', '▁분', '과', '이다', '.', '▁원래', '[MASK]', '[MASK]', '▁화', '합', '물', '은', '▁식물', '이나', '▁동물', '로부터', '▁추', '출', '[SEP]'], 'segment': [0, 0, 0, 0, 0, 0, 0, 0, 0, 0, 0, 0, 0, 0, 0, 0, 0, 0, 0, 0, 0, 0, 0, 0, 0, 0, 0, 0, 0, 0, 0, 0, 0, 1, 1, 1, 1, 1, 1, 1, 1, 1, 1, 1, 1, 1, 1, 1, 1, 1, 1, 1, 1, 1, 1, 1, 1, 1, 1, 1, 1, 1, 1, 1], 'is_next': 1, 'mask_idx': [1, 23, 24, 25, 26, 27, 40, 51, 52], 'mask_label': ['으로', '▁유', '기', '화', '학', '에서', '▁이루어진', '▁유', '기']}\n",
            "{'tokens': ['[CLS]', '으로', '▁자리', '잡', '았다', '.', '▁플', '라스', '틱', ',', '▁합', '성', '섬', '유', '등', '의', '▁고', '분', '자', '물', '질', '▁등', '도', '▁유', '기', '화', '학', '에서', '▁다루', '어진', '다', '.', '[SEP]', '▁유', '기', '화', '학', '은', '▁탄', '소로', '▁이루어진', '[MASK]', '[MASK]', '[MASK]', '▁연구', '하는', '▁분', '과', '이다', '.', '[MASK]', '▁유', '기', '▁화', '합', '물', '은', '▁식물', '이나', '▁동물', '로부터', '▁추', '출', '[SEP]'], 'segment': [0, 0, 0, 0, 0, 0, 0, 0, 0, 0, 0, 0, 0, 0, 0, 0, 0, 0, 0, 0, 0, 0, 0, 0, 0, 0, 0, 0, 0, 0, 0, 0, 0, 1, 1, 1, 1, 1, 1, 1, 1, 1, 1, 1, 1, 1, 1, 1, 1, 1, 1, 1, 1, 1, 1, 1, 1, 1, 1, 1, 1, 1, 1, 1], 'is_next': 0, 'mask_idx': [23, 24, 25, 26, 27, 41, 42, 43, 50], 'mask_label': ['▁유', '기', '화', '학', '에서', '▁화', '합', '물을', '▁원래']}\n",
            "\n"
          ]
        }
      ]
    },
    {
      "cell_type": "markdown",
      "source": [
        "### 🔶 make_pretrain_data() : BERT pretrain 데이터셋 생성 메소드"
      ],
      "metadata": {
        "id": "msQn2gQoqvzV"
      }
    },
    {
      "cell_type": "code",
      "source": [
        "def make_pretrain_data(vocab, in_file, out_file, n_seq, mask_prob=0.15):\n",
        "    \"\"\" pretrain 데이터 생성 \"\"\"\n",
        "    def save_pretrain_instances(out_f, doc):\n",
        "        instances = create_pretrain_instances(vocab, doc, n_seq, mask_prob, vocab_list)\n",
        "        for instance in instances:\n",
        "            out_f.write(json.dumps(instance, ensure_ascii=False))\n",
        "            out_f.write(\"\\n\")\n",
        "\n",
        "    # 특수문자 7개를 제외한 vocab_list 생성\n",
        "    vocab_list = []\n",
        "    for id in range(7, len(vocab)):\n",
        "        if not vocab.is_unknown(id):        # 생성되는 단어 목록이 unknown인 경우는 제거합니다. \n",
        "            vocab_list.append(vocab.id_to_piece(id))\n",
        "\n",
        "    # line count 확인\n",
        "    line_cnt = 0\n",
        "    with open(in_file, \"r\") as in_f:\n",
        "        for line in in_f:\n",
        "            line_cnt += 1\n",
        "\n",
        "    with open(in_file, \"r\") as in_f:\n",
        "        with open(out_file, \"w\") as out_f:\n",
        "            doc = []\n",
        "            for line in tqdm(in_f, total=line_cnt):\n",
        "                line = line.strip()\n",
        "                if line == \"\":  # line이 빈줄 일 경우 (새로운 단락)\n",
        "                    if 0 < len(doc):\n",
        "                        save_pretrain_instances(out_f, doc)\n",
        "                        doc = []\n",
        "                else:  # line이 빈줄이 아닐 경우 tokenize 해서 doc에 저장\n",
        "                    pieces = vocab.encode_as_pieces(line)\n",
        "                    if 0 < len(pieces):\n",
        "                        doc.append(pieces)\n",
        "            if 0 < len(doc):  # 마지막에 처리되지 않은 doc가 있는 경우\n",
        "                save_pretrain_instances(out_f, doc)\n",
        "                doc = []"
      ],
      "metadata": {
        "id": "cc2DCGejqoWn"
      },
      "execution_count": 30,
      "outputs": []
    },
    {
      "cell_type": "code",
      "source": [
        "pretrain_json_path = '/content/bert_pre_train.json'\n",
        "\n",
        "make_pretrain_data(vocab, corpus_file, pretrain_json_path, 128)"
      ],
      "metadata": {
        "colab": {
          "base_uri": "https://localhost:8080/",
          "height": 49,
          "referenced_widgets": [
            "c667d0ef26b445d7aa0639f544bdda46",
            "58f0af12fd444ea282e9c8c3c191cf24",
            "e3eeac22ff0a4f049b8d75ced0cdab6e",
            "e0e3151836734958b403b9ff67186c29",
            "81394b489760492abbc71185fec89329",
            "b3645a16435f4866bf1b303345341c83",
            "ef522477507b42c7a9c6b071418a5050",
            "e66c990803dd4f3aa86b57795bdd1a80",
            "1d1115ec56fe4a5e85dd3a21e6d5810a",
            "1f6e5c01fa9545d9a033d08b381e5450",
            "6421f7eddf1046ff961e5a6f62589835"
          ]
        },
        "id": "Gj9eXrylrEjA",
        "outputId": "c9915358-4c90-44c2-f2d6-c7f69b05fbf4"
      },
      "execution_count": 33,
      "outputs": [
        {
          "output_type": "display_data",
          "data": {
            "text/plain": [
              "  0%|          | 0/3957761 [00:00<?, ?it/s]"
            ],
            "application/vnd.jupyter.widget-view+json": {
              "version_major": 2,
              "version_minor": 0,
              "model_id": "c667d0ef26b445d7aa0639f544bdda46"
            }
          },
          "metadata": {}
        }
      ]
    },
    {
      "cell_type": "code",
      "source": [
        "# 라인수\n",
        "total = 0\n",
        "with open(pretrain_json_path, \"r\") as f:\n",
        "    for line in f:\n",
        "        total += 1\n",
        "total"
      ],
      "metadata": {
        "colab": {
          "base_uri": "https://localhost:8080/"
        },
        "id": "CiaXI8zTrHdn",
        "outputId": "5a7263f2-5c6b-42a3-d174-d5e9df92a7b8"
      },
      "execution_count": 34,
      "outputs": [
        {
          "output_type": "execute_result",
          "data": {
            "text/plain": [
              "918189"
            ]
          },
          "metadata": {},
          "execution_count": 34
        }
      ]
    },
    {
      "cell_type": "markdown",
      "source": [
        "np.memmap을 사용해서 메모리 사용량을 최소화하는 방법 사용하기"
      ],
      "metadata": {
        "id": "zSRiD2czs8uo"
      }
    },
    {
      "cell_type": "code",
      "source": [
        "n_seq = 128\n",
        "# [CLS], tokens_a, [SEP], tokens_b, [SEP]\n",
        "max_seq = n_seq - 3\n",
        "\n",
        "# 만약 일반적인 Numpy Array에다 데이터를 로딩한다면 이렇게 되겠지만\n",
        "# enc_tokens = np.zeros((total, n_seq), np.int32)\n",
        "# dec_tokens = np.zeros((total, n_seq), np.int32)\n",
        "# labels_nsp = np.zeros((total,), np.int32)\n",
        "# labels_mlm = np.zeros((total, n_seq), np.int32)\n",
        "\n",
        "# np.memmap을 사용하면 메모리를 적은 메모리에서도 대용량 데이터 처리가 가능 함\n",
        "enc_tokens = np.memmap(filename='enc_tokens.memmap', mode='w+', dtype=np.int32, shape=(total, n_seq))\n",
        "segments = np.memmap(filename='segments.memmap', mode='w+', dtype=np.int32, shape=(total, n_seq))\n",
        "labels_nsp = np.memmap(filename='labels_nsp.memmap', mode='w+', dtype=np.int32, shape=(total,))\n",
        "labels_mlm = np.memmap(filename='labels_mlm.memmap', mode='w+', dtype=np.int32, shape=(total, n_seq))\n",
        "\n",
        "\n",
        "enc_tokens[0], enc_tokens[-1], segments[0], segments[-1], labels_nsp[0], labels_nsp[-1], labels_mlm[0], labels_mlm[-1]"
      ],
      "metadata": {
        "colab": {
          "base_uri": "https://localhost:8080/"
        },
        "id": "DfIBHVNUs49n",
        "outputId": "4c4f6923-455b-4dbc-bbaf-c1cdc3f54542"
      },
      "execution_count": 35,
      "outputs": [
        {
          "output_type": "execute_result",
          "data": {
            "text/plain": [
              "(memmap([0, 0, 0, 0, 0, 0, 0, 0, 0, 0, 0, 0, 0, 0, 0, 0, 0, 0, 0, 0, 0, 0,\n",
              "         0, 0, 0, 0, 0, 0, 0, 0, 0, 0, 0, 0, 0, 0, 0, 0, 0, 0, 0, 0, 0, 0,\n",
              "         0, 0, 0, 0, 0, 0, 0, 0, 0, 0, 0, 0, 0, 0, 0, 0, 0, 0, 0, 0, 0, 0,\n",
              "         0, 0, 0, 0, 0, 0, 0, 0, 0, 0, 0, 0, 0, 0, 0, 0, 0, 0, 0, 0, 0, 0,\n",
              "         0, 0, 0, 0, 0, 0, 0, 0, 0, 0, 0, 0, 0, 0, 0, 0, 0, 0, 0, 0, 0, 0,\n",
              "         0, 0, 0, 0, 0, 0, 0, 0, 0, 0, 0, 0, 0, 0, 0, 0, 0, 0], dtype=int32),\n",
              " memmap([0, 0, 0, 0, 0, 0, 0, 0, 0, 0, 0, 0, 0, 0, 0, 0, 0, 0, 0, 0, 0, 0,\n",
              "         0, 0, 0, 0, 0, 0, 0, 0, 0, 0, 0, 0, 0, 0, 0, 0, 0, 0, 0, 0, 0, 0,\n",
              "         0, 0, 0, 0, 0, 0, 0, 0, 0, 0, 0, 0, 0, 0, 0, 0, 0, 0, 0, 0, 0, 0,\n",
              "         0, 0, 0, 0, 0, 0, 0, 0, 0, 0, 0, 0, 0, 0, 0, 0, 0, 0, 0, 0, 0, 0,\n",
              "         0, 0, 0, 0, 0, 0, 0, 0, 0, 0, 0, 0, 0, 0, 0, 0, 0, 0, 0, 0, 0, 0,\n",
              "         0, 0, 0, 0, 0, 0, 0, 0, 0, 0, 0, 0, 0, 0, 0, 0, 0, 0], dtype=int32),\n",
              " memmap([0, 0, 0, 0, 0, 0, 0, 0, 0, 0, 0, 0, 0, 0, 0, 0, 0, 0, 0, 0, 0, 0,\n",
              "         0, 0, 0, 0, 0, 0, 0, 0, 0, 0, 0, 0, 0, 0, 0, 0, 0, 0, 0, 0, 0, 0,\n",
              "         0, 0, 0, 0, 0, 0, 0, 0, 0, 0, 0, 0, 0, 0, 0, 0, 0, 0, 0, 0, 0, 0,\n",
              "         0, 0, 0, 0, 0, 0, 0, 0, 0, 0, 0, 0, 0, 0, 0, 0, 0, 0, 0, 0, 0, 0,\n",
              "         0, 0, 0, 0, 0, 0, 0, 0, 0, 0, 0, 0, 0, 0, 0, 0, 0, 0, 0, 0, 0, 0,\n",
              "         0, 0, 0, 0, 0, 0, 0, 0, 0, 0, 0, 0, 0, 0, 0, 0, 0, 0], dtype=int32),\n",
              " memmap([0, 0, 0, 0, 0, 0, 0, 0, 0, 0, 0, 0, 0, 0, 0, 0, 0, 0, 0, 0, 0, 0,\n",
              "         0, 0, 0, 0, 0, 0, 0, 0, 0, 0, 0, 0, 0, 0, 0, 0, 0, 0, 0, 0, 0, 0,\n",
              "         0, 0, 0, 0, 0, 0, 0, 0, 0, 0, 0, 0, 0, 0, 0, 0, 0, 0, 0, 0, 0, 0,\n",
              "         0, 0, 0, 0, 0, 0, 0, 0, 0, 0, 0, 0, 0, 0, 0, 0, 0, 0, 0, 0, 0, 0,\n",
              "         0, 0, 0, 0, 0, 0, 0, 0, 0, 0, 0, 0, 0, 0, 0, 0, 0, 0, 0, 0, 0, 0,\n",
              "         0, 0, 0, 0, 0, 0, 0, 0, 0, 0, 0, 0, 0, 0, 0, 0, 0, 0], dtype=int32),\n",
              " 0,\n",
              " 0,\n",
              " memmap([0, 0, 0, 0, 0, 0, 0, 0, 0, 0, 0, 0, 0, 0, 0, 0, 0, 0, 0, 0, 0, 0,\n",
              "         0, 0, 0, 0, 0, 0, 0, 0, 0, 0, 0, 0, 0, 0, 0, 0, 0, 0, 0, 0, 0, 0,\n",
              "         0, 0, 0, 0, 0, 0, 0, 0, 0, 0, 0, 0, 0, 0, 0, 0, 0, 0, 0, 0, 0, 0,\n",
              "         0, 0, 0, 0, 0, 0, 0, 0, 0, 0, 0, 0, 0, 0, 0, 0, 0, 0, 0, 0, 0, 0,\n",
              "         0, 0, 0, 0, 0, 0, 0, 0, 0, 0, 0, 0, 0, 0, 0, 0, 0, 0, 0, 0, 0, 0,\n",
              "         0, 0, 0, 0, 0, 0, 0, 0, 0, 0, 0, 0, 0, 0, 0, 0, 0, 0], dtype=int32),\n",
              " memmap([0, 0, 0, 0, 0, 0, 0, 0, 0, 0, 0, 0, 0, 0, 0, 0, 0, 0, 0, 0, 0, 0,\n",
              "         0, 0, 0, 0, 0, 0, 0, 0, 0, 0, 0, 0, 0, 0, 0, 0, 0, 0, 0, 0, 0, 0,\n",
              "         0, 0, 0, 0, 0, 0, 0, 0, 0, 0, 0, 0, 0, 0, 0, 0, 0, 0, 0, 0, 0, 0,\n",
              "         0, 0, 0, 0, 0, 0, 0, 0, 0, 0, 0, 0, 0, 0, 0, 0, 0, 0, 0, 0, 0, 0,\n",
              "         0, 0, 0, 0, 0, 0, 0, 0, 0, 0, 0, 0, 0, 0, 0, 0, 0, 0, 0, 0, 0, 0,\n",
              "         0, 0, 0, 0, 0, 0, 0, 0, 0, 0, 0, 0, 0, 0, 0, 0, 0, 0], dtype=int32))"
            ]
          },
          "metadata": {},
          "execution_count": 35
        }
      ]
    },
    {
      "cell_type": "markdown",
      "source": [
        "만들어진 json 파일을 라인 단위로 읽어 들여 np.memmap에 로딩해보기"
      ],
      "metadata": {
        "id": "ywK_qxpstEez"
      }
    },
    {
      "cell_type": "code",
      "source": [
        "# 라인 단위로 처리\n",
        "with open(pretrain_json_path, \"r\") as f:\n",
        "    for i, line in enumerate(tqdm(f, total=total)):\n",
        "        if 5 < i:  # 테스트를 위해서 5개만 확인\n",
        "            break\n",
        "        data = json.loads(line)\n",
        "        # encoder token\n",
        "        enc_token = [vocab.piece_to_id(p) for p in data[\"tokens\"]]\n",
        "        enc_token += [0] * (n_seq - len(enc_token))\n",
        "        # segment\n",
        "        segment = data[\"segment\"]\n",
        "        segment += [0] * (n_seq - len(segment))\n",
        "        # nsp label\n",
        "        label_nsp = data[\"is_next\"]\n",
        "        # mlm label\n",
        "        mask_idx = np.array(data[\"mask_idx\"], dtype=np.int)\n",
        "        mask_label = np.array([vocab.piece_to_id(p) for p in data[\"mask_label\"]], dtype=np.int)\n",
        "        label_mlm = np.full(n_seq, dtype=np.int, fill_value=0)\n",
        "        label_mlm[mask_idx] = mask_label\n",
        "\n",
        "        print(data)\n",
        "        print(\"enc_token:\", enc_token)\n",
        "        print(\"segment:\", segment)\n",
        "        print(\"label_nsp:\", label_nsp)\n",
        "        print(\"label_mlm:\", label_mlm)\n",
        "        print()\n",
        "\n",
        "        assert len(enc_token) == len(segment) == len(label_mlm) == n_seq\n",
        "\n",
        "        enc_tokens[i] = enc_token\n",
        "        segments[i] = segment\n",
        "        labels_nsp[i] = label_nsp\n",
        "        labels_mlm[i] = label_mlm"
      ],
      "metadata": {
        "colab": {
          "base_uri": "https://localhost:8080/",
          "height": 1000,
          "referenced_widgets": [
            "00f3275a99c0460b9b92ea0076a1dae9",
            "b1ea9dafec58451cace091400f457a7b",
            "88ebdefe7ece49468add0da320d74dcf",
            "61e3746f79c643c48c140a26d81fb7cc",
            "ccdd510b6d1e443e9275875cc5bd1e05",
            "c125077fa54a4891a5ad004b460c2294",
            "22697650b1134d3b8b00cd1a1b042bcb",
            "e0bfa9cc61274609b1bf903a16c72291",
            "c7672a9d7ea04ef7ac753bf3d53575c4",
            "bc47780f4b9c4a9d95af12547ecd0f2b",
            "ea868ad50a344790a2e773bb9a810886"
          ]
        },
        "id": "8L10TfJgs8Jw",
        "outputId": "68150503-b884-4505-87a3-be288d0d083b"
      },
      "execution_count": 36,
      "outputs": [
        {
          "output_type": "display_data",
          "data": {
            "text/plain": [
              "  0%|          | 0/918189 [00:00<?, ?it/s]"
            ],
            "application/vnd.jupyter.widget-view+json": {
              "version_major": 2,
              "version_minor": 0,
              "model_id": "00f3275a99c0460b9b92ea0076a1dae9"
            }
          },
          "metadata": {}
        },
        {
          "output_type": "stream",
          "name": "stdout",
          "text": [
            "{'tokens': ['[CLS]', '▁지', '미', '▁카', '터', '[SEP]', '▁제임스', '▁얼', '▁\"', '지', '미', '\"', '▁카', '터', '▁주', '니어', '(,', '▁192', '4', '년', '▁10', '월', '▁1', '일', '▁~', '▁)', '는', '▁민주', '당', '▁출신', '▁미국', '▁3', '9', '번째', '▁대통령', '▁(19', '7', '7', '년', '▁~', '▁1981', '년', ')', '이다', '.', '[MASK]', '[MASK]', '▁카', '터', '는', '▁조지', '아', '주', '▁섬', '터', '▁카운', '티', '▁플', '레', '인', '스', '▁마을', '에서', '▁태어났다', '.', '▁조지', '아', '[MASK]', '[MASK]', '[MASK]', '[MASK]', '▁졸업', '하였다', '.', '▁그', '▁후', '▁해', '군에', '[MASK]', '▁전', '함', '·', '원', '자', '력', '·', '잠', '수', '함', '의', '▁승', '무', '원으로', '▁일', '하였다', '.', '▁195', '3', '년', '▁미국', '▁해군', '▁대', '위로', '▁예', '편', '하였고', '[MASK]', '▁땅', '콩', '·', '면', '화', '▁등을', '▁가', '꿔', '▁많은', '▁돈', '을', '[MASK]', '[MASK]', '[MASK]', '[MASK]', '[MASK]', '[MASK]', '▁\"', '땅', '콩', '[SEP]'], 'segment': [0, 0, 0, 0, 0, 0, 1, 1, 1, 1, 1, 1, 1, 1, 1, 1, 1, 1, 1, 1, 1, 1, 1, 1, 1, 1, 1, 1, 1, 1, 1, 1, 1, 1, 1, 1, 1, 1, 1, 1, 1, 1, 1, 1, 1, 1, 1, 1, 1, 1, 1, 1, 1, 1, 1, 1, 1, 1, 1, 1, 1, 1, 1, 1, 1, 1, 1, 1, 1, 1, 1, 1, 1, 1, 1, 1, 1, 1, 1, 1, 1, 1, 1, 1, 1, 1, 1, 1, 1, 1, 1, 1, 1, 1, 1, 1, 1, 1, 1, 1, 1, 1, 1, 1, 1, 1, 1, 1, 1, 1, 1, 1, 1, 1, 1, 1, 1, 1, 1, 1, 1, 1, 1, 1, 1, 1, 1, 1], 'is_next': 1, 'mask_idx': [17, 18, 19, 45, 46, 67, 68, 69, 70, 78, 106, 115, 118, 119, 120, 121, 122, 123], 'mask_label': ['▁192', '4', '년', '▁지', '미', '▁공', '과', '대학교', '를', '▁들어가', '▁이후', '▁많은', '▁벌', '었다', '.', '▁그의', '▁별', '명이']}\n",
            "enc_token: [5, 18, 3686, 207, 3714, 4, 3324, 1042, 103, 3610, 3686, 3718, 207, 3714, 37, 3418, 416, 810, 3666, 3625, 131, 3662, 7, 3629, 203, 241, 3602, 1114, 3724, 788, 243, 49, 3632, 796, 663, 1647, 3682, 3682, 3625, 203, 3008, 3625, 3616, 16, 3599, 6, 6, 207, 3714, 3602, 1755, 3630, 3646, 630, 3714, 3565, 3835, 429, 3740, 3628, 3626, 1369, 10, 1605, 3599, 1755, 3630, 6, 6, 6, 6, 1135, 52, 3599, 13, 81, 87, 1501, 6, 25, 3779, 3873, 3667, 3631, 3813, 3873, 4196, 3636, 3779, 3601, 249, 3725, 1232, 33, 52, 3599, 479, 3652, 3625, 243, 2780, 14, 1509, 168, 3877, 414, 6, 1697, 4290, 3873, 3703, 3683, 593, 21, 5007, 399, 1927, 3607, 6, 6, 6, 6, 6, 6, 103, 4313, 4290, 4]\n",
            "segment: [0, 0, 0, 0, 0, 0, 1, 1, 1, 1, 1, 1, 1, 1, 1, 1, 1, 1, 1, 1, 1, 1, 1, 1, 1, 1, 1, 1, 1, 1, 1, 1, 1, 1, 1, 1, 1, 1, 1, 1, 1, 1, 1, 1, 1, 1, 1, 1, 1, 1, 1, 1, 1, 1, 1, 1, 1, 1, 1, 1, 1, 1, 1, 1, 1, 1, 1, 1, 1, 1, 1, 1, 1, 1, 1, 1, 1, 1, 1, 1, 1, 1, 1, 1, 1, 1, 1, 1, 1, 1, 1, 1, 1, 1, 1, 1, 1, 1, 1, 1, 1, 1, 1, 1, 1, 1, 1, 1, 1, 1, 1, 1, 1, 1, 1, 1, 1, 1, 1, 1, 1, 1, 1, 1, 1, 1, 1, 1]\n",
            "label_nsp: 1\n",
            "label_mlm: [   0    0    0    0    0    0    0    0    0    0    0    0    0    0\n",
            "    0    0    0  810 3666 3625    0    0    0    0    0    0    0    0\n",
            "    0    0    0    0    0    0    0    0    0    0    0    0    0    0\n",
            "    0    0    0   18 3686    0    0    0    0    0    0    0    0    0\n",
            "    0    0    0    0    0    0    0    0    0    0    0   41 3644  830\n",
            " 3624    0    0    0    0    0    0    0 2247    0    0    0    0    0\n",
            "    0    0    0    0    0    0    0    0    0    0    0    0    0    0\n",
            "    0    0    0    0    0    0    0    0  165    0    0    0    0    0\n",
            "    0    0    0  399    0    0  813   17 3599  307  587  931    0    0\n",
            "    0    0]\n",
            "\n",
            "{'tokens': ['[CLS]', '[MASK]', '[MASK]', '▁대통령', '▁선거', '에', '▁민주', '당', '▁후보', '로', '▁출', '마', '하여', '▁도', '덕', '주의', '▁정책', '으로', '▁내', '세', '워', ',', '▁포', '드를', '▁누', '르고', '▁당선', '되었다', '.', '[SEP]', '▁196', '2', '년', '▁조지', '아', '▁주', '▁상', '원', '[MASK]', '▁선거', '에서', '▁낙', '선', '하나', '▁그', '▁선거', '가', '▁부정', '선거', '[MASK]', '[MASK]', '[MASK]', '▁입', '증', '하게', '▁되어', '▁당선', '되고', ',', '▁196', '6', '년', '▁조지', '아', '▁주', '▁지', '사', '▁선거', '에', '▁낙', '선', '하지만', '▁1970', '년', '▁조지', '아', '▁주', '▁지', '사를', '▁역임', '했다', '.', '▁대통령', '이', '▁되', '기', '[MASK]', '▁조지', '아', '주', '[MASK]', '[MASK]', '[MASK]', '▁두', '번', '▁연', '임', '했으며', ',', '[MASK]', '[MASK]', '▁1975', '년까지', '▁조지', '아', '중에', '60', '▁근무', '했다', '.', '▁조지', '아', '[MASK]', '[MASK]', '[MASK]', '▁지', '내', '면서', ',', '▁미국', '에', '▁사는', '▁흑', '인', '▁등', '용', '법을', '[SEP]'], 'segment': [0, 0, 0, 0, 0, 0, 0, 0, 0, 0, 0, 0, 0, 0, 0, 0, 0, 0, 0, 0, 0, 0, 0, 0, 0, 0, 0, 0, 0, 0, 1, 1, 1, 1, 1, 1, 1, 1, 1, 1, 1, 1, 1, 1, 1, 1, 1, 1, 1, 1, 1, 1, 1, 1, 1, 1, 1, 1, 1, 1, 1, 1, 1, 1, 1, 1, 1, 1, 1, 1, 1, 1, 1, 1, 1, 1, 1, 1, 1, 1, 1, 1, 1, 1, 1, 1, 1, 1, 1, 1, 1, 1, 1, 1, 1, 1, 1, 1, 1, 1, 1, 1, 1, 1, 1, 1, 1, 1, 1, 1, 1, 1, 1, 1, 1, 1, 1, 1, 1, 1, 1, 1, 1, 1, 1, 1, 1, 1], 'is_next': 0, 'mask_idx': [1, 2, 38, 44, 49, 50, 51, 86, 90, 91, 92, 99, 100, 105, 106, 112, 113, 114], 'mask_label': ['▁1976', '년', '▁의원', '▁그', '▁', '였', '음을', '▁전', '▁상', '원의', '원을', '▁1971', '년부터', '▁지', '사로', '▁주', '지', '사로']}\n",
            "enc_token: [5, 6, 6, 663, 822, 3600, 1114, 3724, 958, 3603, 117, 3674, 54, 75, 4089, 238, 1421, 9, 114, 3692, 3964, 3604, 119, 1486, 807, 2056, 2387, 43, 3599, 4, 386, 3619, 3625, 1755, 3630, 37, 76, 3667, 6, 822, 10, 1567, 3668, 3294, 13, 822, 3608, 2386, 2163, 6, 6, 6, 213, 3929, 173, 607, 2387, 317, 3604, 386, 3673, 3625, 1755, 3630, 37, 18, 3620, 822, 3600, 1567, 3668, 1447, 1921, 3625, 1755, 3630, 37, 18, 451, 1398, 31, 3599, 663, 3597, 450, 3614, 6, 1755, 3630, 3646, 6, 6, 6, 157, 3821, 61, 3773, 530, 3604, 6, 6, 3409, 673, 1755, 3630, 1402, 1590, 2711, 31, 3599, 1755, 3630, 6, 6, 6, 18, 3754, 151, 3604, 243, 3600, 3554, 1733, 3628, 50, 3717, 2046, 4]\n",
            "segment: [0, 0, 0, 0, 0, 0, 0, 0, 0, 0, 0, 0, 0, 0, 0, 0, 0, 0, 0, 0, 0, 0, 0, 0, 0, 0, 0, 0, 0, 0, 1, 1, 1, 1, 1, 1, 1, 1, 1, 1, 1, 1, 1, 1, 1, 1, 1, 1, 1, 1, 1, 1, 1, 1, 1, 1, 1, 1, 1, 1, 1, 1, 1, 1, 1, 1, 1, 1, 1, 1, 1, 1, 1, 1, 1, 1, 1, 1, 1, 1, 1, 1, 1, 1, 1, 1, 1, 1, 1, 1, 1, 1, 1, 1, 1, 1, 1, 1, 1, 1, 1, 1, 1, 1, 1, 1, 1, 1, 1, 1, 1, 1, 1, 1, 1, 1, 1, 1, 1, 1, 1, 1, 1, 1, 1, 1, 1, 1]\n",
            "label_nsp: 0\n",
            "label_mlm: [   0 3306 3625    0    0    0    0    0    0    0    0    0    0    0\n",
            "    0    0    0    0    0    0    0    0    0    0    0    0    0    0\n",
            "    0    0    0    0    0    0    0    0    0    0 2378    0    0    0\n",
            "    0    0   13    0    0    0    0 3596 3671  969    0    0    0    0\n",
            "    0    0    0    0    0    0    0    0    0    0    0    0    0    0\n",
            "    0    0    0    0    0    0    0    0    0    0    0    0    0    0\n",
            "    0    0   25    0    0    0   76  955  928    0    0    0    0    0\n",
            "    0 3372  523    0    0    0    0   18  982    0    0    0    0    0\n",
            "   37 3610  982    0    0    0    0    0    0    0    0    0    0    0\n",
            "    0    0]\n",
            "\n",
            "{'tokens': ['[CLS]', ',', '▁캠', '프', '▁데이', '비', '드에서', '▁안', '와', '르', '▁사', '다', '트', '▁대통령', '과', '▁메', '나', '헴', '[MASK]', '[MASK]', '▁수상', '과', '▁함께', '▁중', '동', '▁평', '화를', '▁위한', '▁캠', '프', '데', '이', '비', '드', '▁협', '정을', '▁체결', '했다', '.', '[MASK]', '▁이것은', '▁공', '화', '당', '과', '▁미국의', '[MASK]', '[MASK]', '[MASK]', '[MASK]', '▁반', '발', '을', '▁일으', '켰', '다', '.', '▁1979', '년', '▁백', '악', '관', '에서', '▁양', '국', '[MASK]', '▁평화', '조', '약', '으로', '▁이끌', '어졌다', '.', '▁또한', '[MASK]', '[MASK]', '▁제', '2', '차', '▁전략', '▁무', '기', '▁제한', '▁협', '상에', '[MASK]', '[MASK]', '[MASK]', '[MASK]', '[SEP]', '▁카', '터', '는', '▁1970', '년대', '▁후반', '▁당시', '▁대한민국', '▁등', '▁인', '권', '▁후', '진', '국의', '▁국민', '들의', '▁인', '권을', '▁지', '키', '기', '▁위해', '▁노력', '했으며', ',', '▁취임', '[MASK]', '▁계속', '해서', '▁도', '덕', '정', '치를', '▁내', '세', '웠다', '.', '[SEP]'], 'segment': [0, 0, 0, 0, 0, 0, 0, 0, 0, 0, 0, 0, 0, 0, 0, 0, 0, 0, 0, 0, 0, 0, 0, 0, 0, 0, 0, 0, 0, 0, 0, 0, 0, 0, 0, 0, 0, 0, 0, 0, 0, 0, 0, 0, 0, 0, 0, 0, 0, 0, 0, 0, 0, 0, 0, 0, 0, 0, 0, 0, 0, 0, 0, 0, 0, 0, 0, 0, 0, 0, 0, 0, 0, 0, 0, 0, 0, 0, 0, 0, 0, 0, 0, 0, 0, 0, 0, 0, 0, 0, 1, 1, 1, 1, 1, 1, 1, 1, 1, 1, 1, 1, 1, 1, 1, 1, 1, 1, 1, 1, 1, 1, 1, 1, 1, 1, 1, 1, 1, 1, 1, 1, 1, 1, 1, 1, 1, 1], 'is_next': 1, 'mask_idx': [18, 19, 39, 46, 47, 48, 49, 65, 74, 75, 85, 86, 87, 88, 101, 102, 103, 116], 'mask_label': ['▁베', '긴', '▁그러나', '▁유대', '인', '▁단', '체의', '▁간의', '▁소련', '과', '▁조', '인', '했다', '.', '▁후', '진', '국의', '▁이후']}\n",
            "enc_token: [5, 3604, 2432, 3721, 965, 3694, 3552, 172, 3665, 3699, 15, 3598, 3677, 663, 3644, 334, 3637, 5887, 6, 6, 1011, 3644, 280, 35, 3658, 232, 934, 521, 2432, 3721, 3736, 3597, 3694, 3681, 617, 666, 2525, 31, 3599, 6, 1487, 41, 3683, 3724, 3644, 679, 6, 6, 6, 6, 141, 3720, 3607, 1213, 4174, 3598, 3599, 2995, 3625, 456, 3928, 3708, 10, 230, 3643, 6, 2793, 3676, 3827, 9, 1435, 2521, 3599, 276, 6, 6, 30, 3619, 3751, 2835, 107, 3614, 1956, 617, 1824, 6, 6, 6, 6, 4, 207, 3714, 3602, 1921, 596, 1840, 316, 410, 50, 42, 3830, 81, 3713, 137, 968, 247, 42, 917, 18, 3793, 3614, 231, 3375, 530, 3604, 2659, 6, 785, 874, 75, 4089, 3642, 1233, 114, 3692, 1853, 3599, 4]\n",
            "segment: [0, 0, 0, 0, 0, 0, 0, 0, 0, 0, 0, 0, 0, 0, 0, 0, 0, 0, 0, 0, 0, 0, 0, 0, 0, 0, 0, 0, 0, 0, 0, 0, 0, 0, 0, 0, 0, 0, 0, 0, 0, 0, 0, 0, 0, 0, 0, 0, 0, 0, 0, 0, 0, 0, 0, 0, 0, 0, 0, 0, 0, 0, 0, 0, 0, 0, 0, 0, 0, 0, 0, 0, 0, 0, 0, 0, 0, 0, 0, 0, 0, 0, 0, 0, 0, 0, 0, 0, 0, 0, 1, 1, 1, 1, 1, 1, 1, 1, 1, 1, 1, 1, 1, 1, 1, 1, 1, 1, 1, 1, 1, 1, 1, 1, 1, 1, 1, 1, 1, 1, 1, 1, 1, 1, 1, 1, 1, 1]\n",
            "label_nsp: 1\n",
            "label_mlm: [   0    0    0    0    0    0    0    0    0    0    0    0    0    0\n",
            "    0    0    0    0  271 4099    0    0    0    0    0    0    0    0\n",
            "    0    0    0    0    0    0    0    0    0    0    0  330    0    0\n",
            "    0    0    0    0 2670 3628  164 1314    0    0    0    0    0    0\n",
            "    0    0    0    0    0    0    0    0    0 2714    0    0    0    0\n",
            "    0    0    0    0 1302 3644    0    0    0    0    0    0    0    0\n",
            "    0   53 3628   31 3599    0    0    0    0    0    0    0    0    0\n",
            "    0    0    0   81 3713  137    0    0    0    0    0    0    0    0\n",
            "    0    0    0    0  165    0    0    0    0    0    0    0    0    0\n",
            "    0    0]\n",
            "\n",
            "{'tokens': ['[CLS]', '▁반', '대에', '▁부', '딪', '혀', '▁주', '한', '미', '군은', '[MASK]', '[MASK]', '[MASK]', '[MASK]', '▁대신', '▁6', ',000', '명을', '▁감', '축', '하는', '▁데', '▁그', '쳤다', '.', '▁또한', '▁박', '정', '희', '▁정', '권의', '▁인', '권', '[MASK]', '[MASK]', '[MASK]', '▁논란', '으로', '▁불', '협', '화', '음을', '▁', '냈', '으나', ',', '쉐', '밌', '▁6', '월', '▁하', '순', ',', '▁대한민국', '을', '▁방문', '하여', '▁관계', '가', '[MASK]', '[MASK]', '▁회복', '되었다', '.', '[SEP]', '[MASK]', '▁주', '▁이란', '▁미국', '▁대사', '관', '▁인', '질', '▁사건', '에서', '▁인', '질', '▁구', '출', '▁실패', '를', '▁이유로', '▁1980', '년', '▁대통령', '▁29', '體', '▁공', '화', '당의', '▁로', '널', '드', '▁레이', '건', '▁후보', '에게', '▁', '져', '▁결국', '▁재', '선에', '▁실패', '했다', '.', '▁또한', '▁임', '기', '▁말', '기에', '▁터', '진', '▁소련', '의', '[MASK]', '[MASK]', '[MASK]', '[MASK]', '▁침공', '▁사건', '으로', '▁인해', '▁1980', '년', '▁하계', '▁올림픽', '에', '[SEP]'], 'segment': [0, 0, 0, 0, 0, 0, 0, 0, 0, 0, 0, 0, 0, 0, 0, 0, 0, 0, 0, 0, 0, 0, 0, 0, 0, 0, 0, 0, 0, 0, 0, 0, 0, 0, 0, 0, 0, 0, 0, 0, 0, 0, 0, 0, 0, 0, 0, 0, 0, 0, 0, 0, 0, 0, 0, 0, 0, 0, 0, 0, 0, 0, 0, 0, 0, 1, 1, 1, 1, 1, 1, 1, 1, 1, 1, 1, 1, 1, 1, 1, 1, 1, 1, 1, 1, 1, 1, 1, 1, 1, 1, 1, 1, 1, 1, 1, 1, 1, 1, 1, 1, 1, 1, 1, 1, 1, 1, 1, 1, 1, 1, 1, 1, 1, 1, 1, 1, 1, 1, 1, 1, 1, 1, 1, 1, 1, 1, 1], 'is_next': 0, 'mask_idx': [10, 11, 12, 13, 33, 34, 35, 46, 47, 59, 60, 65, 85, 86, 114, 115, 116, 117], 'mask_label': ['▁완', '전', '철', '수', '▁문제', '▁등', '과의', '▁1979', '년', '▁다', '소', '▁그러나', '▁선거', '에서', '▁아', '프가', '니', '스탄']}\n",
            "enc_token: [5, 141, 867, 51, 5148, 4178, 37, 3612, 3686, 941, 6, 6, 6, 6, 1083, 125, 847, 859, 209, 3909, 38, 189, 13, 1523, 3599, 276, 338, 3642, 4055, 36, 2649, 42, 3830, 6, 6, 6, 2408, 9, 128, 3993, 3683, 969, 3596, 4121, 191, 3604, 4941, 6758, 125, 3662, 27, 3946, 3604, 410, 3607, 2017, 54, 704, 3608, 6, 6, 3332, 43, 3599, 4, 6, 37, 3290, 243, 2630, 3708, 42, 3892, 636, 10, 42, 3892, 73, 3771, 1579, 3624, 1827, 1640, 3625, 663, 1118, 4924, 41, 3683, 1547, 194, 4044, 3681, 1169, 3803, 958, 113, 3596, 3944, 875, 174, 2087, 1579, 31, 3599, 276, 273, 3614, 150, 329, 870, 3713, 1302, 3601, 6, 6, 6, 6, 3232, 636, 9, 751, 1640, 3625, 2219, 779, 3600, 4]\n",
            "segment: [0, 0, 0, 0, 0, 0, 0, 0, 0, 0, 0, 0, 0, 0, 0, 0, 0, 0, 0, 0, 0, 0, 0, 0, 0, 0, 0, 0, 0, 0, 0, 0, 0, 0, 0, 0, 0, 0, 0, 0, 0, 0, 0, 0, 0, 0, 0, 0, 0, 0, 0, 0, 0, 0, 0, 0, 0, 0, 0, 0, 0, 0, 0, 0, 0, 1, 1, 1, 1, 1, 1, 1, 1, 1, 1, 1, 1, 1, 1, 1, 1, 1, 1, 1, 1, 1, 1, 1, 1, 1, 1, 1, 1, 1, 1, 1, 1, 1, 1, 1, 1, 1, 1, 1, 1, 1, 1, 1, 1, 1, 1, 1, 1, 1, 1, 1, 1, 1, 1, 1, 1, 1, 1, 1, 1, 1, 1, 1]\n",
            "label_nsp: 0\n",
            "label_mlm: [   0    0    0    0    0    0    0    0    0    0  443 3640 3917 3636\n",
            "    0    0    0    0    0    0    0    0    0    0    0    0    0    0\n",
            "    0    0    0    0    0  550   50  786    0    0    0    0    0    0\n",
            "    0    0    0    0 2995 3625    0    0    0    0    0    0    0    0\n",
            "    0    0    0   29 3688    0    0    0    0  330    0    0    0    0\n",
            "    0    0    0    0    0    0    0    0    0    0    0    0    0    0\n",
            "    0  822   10    0    0    0    0    0    0    0    0    0    0    0\n",
            "    0    0    0    0    0    0    0    0    0    0    0    0    0    0\n",
            "    0    0   26 2986 3733 1323    0    0    0    0    0    0    0    0\n",
            "    0    0]\n",
            "\n",
            "{'tokens': ['[CLS]', '▁밴', '스', '▁국', '무', '장', '관을', '▁조', '문', '사', '절', '로', '[MASK]', '[MASK]', '[MASK]', '▁12', '·', '12', '▁군사', '▁반란', '과', '▁5', '.', '17', '[MASK]', '[MASK]', '[MASK]', '[MASK]', '▁대해', '▁초기', '에는', '▁강', '하게', '▁비난', '했으나', ',', '▁미국', '▁정부', '가', '▁신', '군', '부를', '▁설', '득', '하는데', ',', '▁한', '계가', '▁있었고', '▁결국', '▁', '묵', '인', '하는', '▁', '듯', '한', '[MASK]', '[MASK]', '[MASK]', '[MASK]', '[MASK]', '[MASK]', '[MASK]', '[SEP]', '▁퇴', '임', '▁이후', '▁민간', '▁자', '원을', '▁적극', '▁활용', '한', '▁비', '영', '리', '▁기', '구', '인', '斯', '땐', '▁재', '단을', '▁설립', '한', '▁뒤', '▁민주', '주의', '▁실', '현', '을', '▁위해', '▁제', '▁3', '세', '계의', '▁선거', 'か', '▁머', '▁활동', '▁및', '▁기', '니', '▁벌', '레', '에', '▁의한', '▁드', '라', '쿤', '쿠', '르', '스', '▁질', '병', '▁방', '재', '를', '▁위해', '▁힘', '썼', '다', '.', '▁미국의', '▁빈', '곤', '[SEP]'], 'segment': [0, 0, 0, 0, 0, 0, 0, 0, 0, 0, 0, 0, 0, 0, 0, 0, 0, 0, 0, 0, 0, 0, 0, 0, 0, 0, 0, 0, 0, 0, 0, 0, 0, 0, 0, 0, 0, 0, 0, 0, 0, 0, 0, 0, 0, 0, 0, 0, 0, 0, 0, 0, 0, 0, 0, 0, 0, 0, 0, 0, 0, 0, 0, 0, 0, 1, 1, 1, 1, 1, 1, 1, 1, 1, 1, 1, 1, 1, 1, 1, 1, 1, 1, 1, 1, 1, 1, 1, 1, 1, 1, 1, 1, 1, 1, 1, 1, 1, 1, 1, 1, 1, 1, 1, 1, 1, 1, 1, 1, 1, 1, 1, 1, 1, 1, 1, 1, 1, 1, 1, 1, 1, 1, 1, 1, 1, 1, 1], 'is_next': 1, 'mask_idx': [12, 13, 14, 24, 25, 26, 27, 57, 58, 59, 60, 61, 62, 63, 80, 81, 98, 99], 'mask_label': ['▁파견', '했다', '.', '▁쿠', '데', '타', '에', '▁태', '도를', '▁보이', '게', '▁', '됐다', '.', '▁카', '터', '▁감', '시']}\n",
            "enc_token: [5, 1228, 3626, 79, 3725, 3651, 1657, 53, 3697, 3620, 3931, 3603, 6, 6, 6, 196, 3873, 1335, 1250, 2342, 3644, 94, 3599, 1695, 6, 6, 6, 6, 433, 1348, 66, 139, 173, 3560, 1003, 3604, 243, 513, 3608, 90, 3722, 1191, 178, 4059, 1294, 3604, 34, 2681, 2492, 875, 3596, 4502, 3628, 38, 3596, 4360, 3612, 6, 6, 6, 6, 6, 6, 6, 4, 1382, 3773, 165, 3174, 40, 928, 2929, 2523, 3612, 77, 3715, 3622, 24, 3653, 3628, 6234, 6123, 174, 1574, 686, 3612, 339, 1114, 238, 158, 3756, 3607, 231, 30, 49, 3692, 1654, 822, 5359, 792, 375, 228, 24, 3733, 813, 3740, 3600, 1332, 311, 3635, 4956, 3937, 3699, 3626, 761, 3886, 95, 3729, 3624, 231, 947, 4437, 3598, 3599, 679, 1412, 4234, 4]\n",
            "segment: [0, 0, 0, 0, 0, 0, 0, 0, 0, 0, 0, 0, 0, 0, 0, 0, 0, 0, 0, 0, 0, 0, 0, 0, 0, 0, 0, 0, 0, 0, 0, 0, 0, 0, 0, 0, 0, 0, 0, 0, 0, 0, 0, 0, 0, 0, 0, 0, 0, 0, 0, 0, 0, 0, 0, 0, 0, 0, 0, 0, 0, 0, 0, 0, 0, 1, 1, 1, 1, 1, 1, 1, 1, 1, 1, 1, 1, 1, 1, 1, 1, 1, 1, 1, 1, 1, 1, 1, 1, 1, 1, 1, 1, 1, 1, 1, 1, 1, 1, 1, 1, 1, 1, 1, 1, 1, 1, 1, 1, 1, 1, 1, 1, 1, 1, 1, 1, 1, 1, 1, 1, 1, 1, 1, 1, 1, 1, 1]\n",
            "label_nsp: 1\n",
            "label_mlm: [   0    0    0    0    0    0    0    0    0    0    0    0 2338   31\n",
            " 3599    0    0    0    0    0    0    0    0    0  927 3736 3732 3600\n",
            "    0    0    0    0    0    0    0    0    0    0    0    0    0    0\n",
            "    0    0    0    0    0    0    0    0    0    0    0    0    0    0\n",
            "    0  227  701 3052 3669 3596 1027 3599    0    0    0    0    0    0\n",
            "    0    0    0    0    0    0    0    0    0    0  207 3714    0    0\n",
            "    0    0    0    0    0    0    0    0    0    0    0    0    0    0\n",
            "  209 3623    0    0    0    0    0    0    0    0    0    0    0    0\n",
            "    0    0    0    0    0    0    0    0    0    0    0    0    0    0\n",
            "    0    0]\n",
            "\n",
            "{'tokens': ['[CLS]', '상을', '▁거부', '하면서', '▁사', '태', '의', '▁위', '기를', '▁초', '래', '한', '▁인물', '▁및', '▁단', '체를', '▁직접', '▁만나', '▁분', '쟁', '의', '▁원', '인을', '▁근', '본', '적으로', '[MASK]', '[MASK]', '▁위해', '▁힘', '썼', '다', '.', '▁이', '▁과정에서', '▁미국', '▁행정', '부와', '▁갈', '등', '을', '[MASK]', '[MASK]', '▁했지만', ',', '▁공간', '▁적', '▁대통령', '의', '▁권', '한', '과', '▁재', '야', '▁유명', '[MASK]', '[MASK]', '[MASK]', '[MASK]', '▁해결', '해', '▁나', '갔다', '.', '[SEP]', '▁카', '터', '는', '▁카', '터', '▁행정', '부', '▁이후', '▁미국', '이', '▁북', '핵', '▁위', '기', ',', '▁코', '소', '보', '▁전쟁', ',', '▁이', '라크', '▁전쟁', '과', '▁같이', '▁미국', '이', '▁군사', '적', '▁행', '동을', '▁최', '후', '로', '▁선택', '하는', '[MASK]', '[MASK]', '▁사고', '를', '잿', '▁개념', '▁군사', '적', '▁행', '동을', '[MASK]', '[MASK]', '[MASK]', '▁행', '위에', '▁대해', '▁깊', '은', '▁유', '감을', '▁표시', '▁하며', '[MASK]', '▁군사', '적', '▁활동', '[SEP]'], 'segment': [0, 0, 0, 0, 0, 0, 0, 0, 0, 0, 0, 0, 0, 0, 0, 0, 0, 0, 0, 0, 0, 0, 0, 0, 0, 0, 0, 0, 0, 0, 0, 0, 0, 0, 0, 0, 0, 0, 0, 0, 0, 0, 0, 0, 0, 0, 0, 0, 0, 0, 0, 0, 0, 0, 0, 0, 0, 0, 0, 0, 0, 0, 0, 0, 0, 1, 1, 1, 1, 1, 1, 1, 1, 1, 1, 1, 1, 1, 1, 1, 1, 1, 1, 1, 1, 1, 1, 1, 1, 1, 1, 1, 1, 1, 1, 1, 1, 1, 1, 1, 1, 1, 1, 1, 1, 1, 1, 1, 1, 1, 1, 1, 1, 1, 1, 1, 1, 1, 1, 1, 1, 1, 1, 1, 1, 1, 1, 1], 'is_next': 0, 'mask_idx': [26, 27, 41, 42, 45, 46, 55, 56, 57, 58, 101, 102, 105, 106, 111, 112, 113, 123], 'mask_label': ['▁해결', '하기', '▁보', '이기도', '▁전', '직', '▁인사', '들의', '▁활약', '으로', '▁전통', '적', '▁버', '리고', '▁선', '행', '하는', '▁미국의']}\n",
            "enc_token: [5, 460, 2324, 421, 15, 3800, 3601, 45, 333, 192, 3808, 3612, 1178, 228, 164, 1396, 1069, 2142, 147, 3972, 3601, 129, 1171, 387, 3759, 127, 6, 6, 231, 947, 4437, 3598, 3599, 8, 2208, 243, 895, 2576, 742, 3709, 3607, 6, 6, 3379, 3604, 1320, 239, 663, 3601, 476, 3612, 3644, 174, 3775, 939, 6, 6, 6, 6, 2317, 3645, 58, 1133, 3599, 4, 207, 3714, 3602, 207, 3714, 895, 3638, 165, 243, 3597, 251, 4166, 45, 3614, 3604, 258, 3688, 3672, 506, 3604, 8, 3553, 506, 3644, 733, 243, 3597, 1250, 3657, 236, 1629, 130, 3706, 3603, 1715, 38, 6, 6, 1646, 3624, 6647, 1596, 1250, 3657, 236, 1629, 6, 6, 6, 236, 1157, 433, 1910, 3613, 46, 2196, 2466, 1368, 6, 1250, 3657, 375, 4]\n",
            "segment: [0, 0, 0, 0, 0, 0, 0, 0, 0, 0, 0, 0, 0, 0, 0, 0, 0, 0, 0, 0, 0, 0, 0, 0, 0, 0, 0, 0, 0, 0, 0, 0, 0, 0, 0, 0, 0, 0, 0, 0, 0, 0, 0, 0, 0, 0, 0, 0, 0, 0, 0, 0, 0, 0, 0, 0, 0, 0, 0, 0, 0, 0, 0, 0, 0, 1, 1, 1, 1, 1, 1, 1, 1, 1, 1, 1, 1, 1, 1, 1, 1, 1, 1, 1, 1, 1, 1, 1, 1, 1, 1, 1, 1, 1, 1, 1, 1, 1, 1, 1, 1, 1, 1, 1, 1, 1, 1, 1, 1, 1, 1, 1, 1, 1, 1, 1, 1, 1, 1, 1, 1, 1, 1, 1, 1, 1, 1, 1]\n",
            "label_nsp: 0\n",
            "label_mlm: [   0    0    0    0    0    0    0    0    0    0    0    0    0    0\n",
            "    0    0    0    0    0    0    0    0    0    0    0    0 2317  167\n",
            "    0    0    0    0    0    0    0    0    0    0    0    0    0   47\n",
            " 1304    0    0   25 3802    0    0    0    0    0    0    0    0 3329\n",
            "  247 1102    9    0    0    0    0    0    0    0    0    0    0    0\n",
            "    0    0    0    0    0    0    0    0    0    0    0    0    0    0\n",
            "    0    0    0    0    0    0    0    0    0    0    0    0    0    0\n",
            "    0    0    0 1306 3657    0    0  407  999    0    0    0    0   57\n",
            " 3752   38    0    0    0    0    0    0    0    0    0  679    0    0\n",
            "    0    0]\n",
            "\n"
          ]
        },
        {
          "output_type": "stream",
          "name": "stderr",
          "text": [
            "/usr/local/lib/python3.7/dist-packages/ipykernel_launcher.py:16: DeprecationWarning: `np.int` is a deprecated alias for the builtin `int`. To silence this warning, use `int` by itself. Doing this will not modify any behavior and is safe. When replacing `np.int`, you may wish to use e.g. `np.int64` or `np.int32` to specify the precision. If you wish to review your current use, check the release note link for additional information.\n",
            "Deprecated in NumPy 1.20; for more details and guidance: https://numpy.org/devdocs/release/1.20.0-notes.html#deprecations\n",
            "  app.launch_new_instance()\n",
            "/usr/local/lib/python3.7/dist-packages/ipykernel_launcher.py:17: DeprecationWarning: `np.int` is a deprecated alias for the builtin `int`. To silence this warning, use `int` by itself. Doing this will not modify any behavior and is safe. When replacing `np.int`, you may wish to use e.g. `np.int64` or `np.int32` to specify the precision. If you wish to review your current use, check the release note link for additional information.\n",
            "Deprecated in NumPy 1.20; for more details and guidance: https://numpy.org/devdocs/release/1.20.0-notes.html#deprecations\n",
            "/usr/local/lib/python3.7/dist-packages/ipykernel_launcher.py:18: DeprecationWarning: `np.int` is a deprecated alias for the builtin `int`. To silence this warning, use `int` by itself. Doing this will not modify any behavior and is safe. When replacing `np.int`, you may wish to use e.g. `np.int64` or `np.int32` to specify the precision. If you wish to review your current use, check the release note link for additional information.\n",
            "Deprecated in NumPy 1.20; for more details and guidance: https://numpy.org/devdocs/release/1.20.0-notes.html#deprecations\n"
          ]
        }
      ]
    },
    {
      "cell_type": "markdown",
      "source": [
        "### 🔶 load_pre_train_data() : 학습에 필요한 데이터를 로딩하는 함수"
      ],
      "metadata": {
        "id": "gmMXFg2rtN0x"
      }
    },
    {
      "cell_type": "code",
      "source": [
        "def load_pre_train_data(vocab, filename, n_seq, count=None):\n",
        "    \"\"\"\n",
        "    학습에 필요한 데이터를 로드\n",
        "    :param vocab: vocab\n",
        "    :param filename: 전처리된 json 파일\n",
        "    :param n_seq: 시퀀스 길이 (number of sequence)\n",
        "    :param count: 데이터 수 제한 (None이면 전체)\n",
        "    :return enc_tokens: encoder inputs\n",
        "    :return segments: segment inputs\n",
        "    :return labels_nsp: nsp labels\n",
        "    :return labels_mlm: mlm labels\n",
        "    \"\"\"\n",
        "    total = 0\n",
        "    with open(filename, \"r\") as f:\n",
        "        for line in f:\n",
        "            total += 1\n",
        "            # 데이터 수 제한\n",
        "            if count is not None and count <= total:\n",
        "                break\n",
        "    \n",
        "    # np.memmap을 사용하면 메모리를 적은 메모리에서도 대용량 데이터 처리가 가능 함\n",
        "    enc_tokens = np.memmap(filename='enc_tokens.memmap', mode='w+', dtype=np.int32, shape=(total, n_seq))\n",
        "    segments = np.memmap(filename='segments.memmap', mode='w+', dtype=np.int32, shape=(total, n_seq))\n",
        "    labels_nsp = np.memmap(filename='labels_nsp.memmap', mode='w+', dtype=np.int32, shape=(total,))\n",
        "    labels_mlm = np.memmap(filename='labels_mlm.memmap', mode='w+', dtype=np.int32, shape=(total, n_seq))\n",
        "\n",
        "    with open(filename, \"r\") as f:\n",
        "        for i, line in enumerate(tqdm(f, total=total)):\n",
        "            if total <= i:\n",
        "                print(\"data load early stop\", total, i)\n",
        "                break\n",
        "            data = json.loads(line)\n",
        "            # encoder token\n",
        "            enc_token = [vocab.piece_to_id(p) for p in data[\"tokens\"]]\n",
        "            enc_token += [0] * (n_seq - len(enc_token))\n",
        "            # segment\n",
        "            segment = data[\"segment\"]\n",
        "            segment += [0] * (n_seq - len(segment))\n",
        "            # nsp label\n",
        "            label_nsp = data[\"is_next\"]\n",
        "            # mlm label\n",
        "            mask_idx = np.array(data[\"mask_idx\"], dtype=np.int)\n",
        "            mask_label = np.array([vocab.piece_to_id(p) for p in data[\"mask_label\"]], dtype=np.int)\n",
        "            label_mlm = np.full(n_seq, dtype=np.int, fill_value=0)\n",
        "            label_mlm[mask_idx] = mask_label\n",
        "\n",
        "            assert len(enc_token) == len(segment) == len(label_mlm) == n_seq\n",
        "\n",
        "            enc_tokens[i] = enc_token\n",
        "            segments[i] = segment\n",
        "            labels_nsp[i] = label_nsp\n",
        "            labels_mlm[i] = label_mlm\n",
        "\n",
        "    return (enc_tokens, segments), (labels_nsp, labels_mlm)"
      ],
      "metadata": {
        "id": "4XzobqcVtCzI"
      },
      "execution_count": 37,
      "outputs": []
    },
    {
      "cell_type": "code",
      "source": [
        "# 128000건만 메모리에 로딩\n",
        "pre_train_inputs, pre_train_labels = load_pre_train_data(vocab, pretrain_json_path, 128, count=128000)"
      ],
      "metadata": {
        "colab": {
          "base_uri": "https://localhost:8080/",
          "height": 198,
          "referenced_widgets": [
            "0b08157036ae4b10b921d25ef9d1da7e",
            "b94394a441944057b18a693192b852e8",
            "41c1b2e7746e49b398f26140b44af5b9",
            "39b1712b8854499b9bb333c83194bf65",
            "83cfcc696d7b485299bf2587b00eb732",
            "0f7e9f0f136a46388b20e545d3443a34",
            "3dd01bd9a0c94713a9478201a27826ad",
            "7d801c10bbc74b5c85280692513f9f04",
            "3eb2b72e9b7e4f6c833978080bd8726a",
            "d81658367e054752909a5a0940b9c879",
            "e5ce00878cd4489b918b7e74920c7376"
          ]
        },
        "id": "AK6n4Q9ltPm3",
        "outputId": "6dd52a92-a6a4-43bf-9646-0b6a1321afc7"
      },
      "execution_count": 38,
      "outputs": [
        {
          "output_type": "display_data",
          "data": {
            "text/plain": [
              "  0%|          | 0/128000 [00:00<?, ?it/s]"
            ],
            "application/vnd.jupyter.widget-view+json": {
              "version_major": 2,
              "version_minor": 0,
              "model_id": "0b08157036ae4b10b921d25ef9d1da7e"
            }
          },
          "metadata": {}
        },
        {
          "output_type": "stream",
          "name": "stderr",
          "text": [
            "/usr/local/lib/python3.7/dist-packages/ipykernel_launcher.py:42: DeprecationWarning: `np.int` is a deprecated alias for the builtin `int`. To silence this warning, use `int` by itself. Doing this will not modify any behavior and is safe. When replacing `np.int`, you may wish to use e.g. `np.int64` or `np.int32` to specify the precision. If you wish to review your current use, check the release note link for additional information.\n",
            "Deprecated in NumPy 1.20; for more details and guidance: https://numpy.org/devdocs/release/1.20.0-notes.html#deprecations\n",
            "/usr/local/lib/python3.7/dist-packages/ipykernel_launcher.py:43: DeprecationWarning: `np.int` is a deprecated alias for the builtin `int`. To silence this warning, use `int` by itself. Doing this will not modify any behavior and is safe. When replacing `np.int`, you may wish to use e.g. `np.int64` or `np.int32` to specify the precision. If you wish to review your current use, check the release note link for additional information.\n",
            "Deprecated in NumPy 1.20; for more details and guidance: https://numpy.org/devdocs/release/1.20.0-notes.html#deprecations\n",
            "/usr/local/lib/python3.7/dist-packages/ipykernel_launcher.py:44: DeprecationWarning: `np.int` is a deprecated alias for the builtin `int`. To silence this warning, use `int` by itself. Doing this will not modify any behavior and is safe. When replacing `np.int`, you may wish to use e.g. `np.int64` or `np.int32` to specify the precision. If you wish to review your current use, check the release note link for additional information.\n",
            "Deprecated in NumPy 1.20; for more details and guidance: https://numpy.org/devdocs/release/1.20.0-notes.html#deprecations\n"
          ]
        },
        {
          "output_type": "stream",
          "name": "stdout",
          "text": [
            "data load early stop 128000 128000\n"
          ]
        }
      ]
    },
    {
      "cell_type": "code",
      "source": [
        "# 처음과 마지막 확인\n",
        "pre_train_inputs[0][0], pre_train_inputs[0][-1], pre_train_inputs[1][0], pre_train_inputs[1][-1], pre_train_labels[0][0], pre_train_labels[0][-1], pre_train_labels[1][0], pre_train_labels[1][-1]"
      ],
      "metadata": {
        "colab": {
          "base_uri": "https://localhost:8080/"
        },
        "id": "O-TbzMWCtRoY",
        "outputId": "effe2b8e-5c68-4e85-aecd-cac4d1272f50"
      },
      "execution_count": 39,
      "outputs": [
        {
          "output_type": "execute_result",
          "data": {
            "text/plain": [
              "(memmap([   5,   18, 3686,  207, 3714,    4, 3324, 1042,  103, 3610, 3686,\n",
              "         3718,  207, 3714,   37, 3418,  416,  810, 3666, 3625,  131, 3662,\n",
              "            7, 3629,  203,  241, 3602, 1114, 3724,  788,  243,   49, 3632,\n",
              "          796,  663, 1647, 3682, 3682, 3625,  203, 3008, 3625, 3616,   16,\n",
              "         3599,    6,    6,  207, 3714, 3602, 1755, 3630, 3646,  630, 3714,\n",
              "         3565, 3835,  429, 3740, 3628, 3626, 1369,   10, 1605, 3599, 1755,\n",
              "         3630,    6,    6,    6,    6, 1135,   52, 3599,   13,   81,   87,\n",
              "         1501,    6,   25, 3779, 3873, 3667, 3631, 3813, 3873, 4196, 3636,\n",
              "         3779, 3601,  249, 3725, 1232,   33,   52, 3599,  479, 3652, 3625,\n",
              "          243, 2780,   14, 1509,  168, 3877,  414,    6, 1697, 4290, 3873,\n",
              "         3703, 3683,  593,   21, 5007,  399, 1927, 3607,    6,    6,    6,\n",
              "            6,    6,    6,  103, 4313, 4290,    4], dtype=int32),\n",
              " memmap([   5,   13,   81, 3604,   15, 3784,   68, 3238, 3602,   13,  316,\n",
              "         1425,  173,  305, 3620, 1395,  149, 3607,   19,  805,    6,    6,\n",
              "            6,    6,    6,    6,    6,    6, 3596, 4639, 1364, 3627,  991,\n",
              "         3616, 3600,    7, 3614, 3746,    9, 2972,  173, 1345, 3604,  848,\n",
              "         3784, 3833,    6,    6,    6,   12, 3614, 3746,  836, 3596, 4904,\n",
              "         3750, 3603, 4065,  115, 3600, 2972,  173,  351, 3599,    4,  848,\n",
              "         3784, 3833,    8, 3637, 3676,  848, 3784, 1931,    6,    6,    6,\n",
              "         2316, 3619, 3625, 3617, 3744, 4335,   12, 3625, 3616,  175, 3662,\n",
              "            7, 3629,  203,  578, 3652, 3625, 3617, 4148, 3665,  143, 3625,\n",
              "         3616,  131, 3662,    6,    6,    6,    6,  176,  334,  829, 1115,\n",
              "         3665, 1381, 4148, 3451, 1633,  375,  671, 1644, 3608,  547, 3423,\n",
              "          765,  815, 3604,  752, 3608, 3604,    4], dtype=int32),\n",
              " memmap([0, 0, 0, 0, 0, 0, 1, 1, 1, 1, 1, 1, 1, 1, 1, 1, 1, 1, 1, 1, 1, 1,\n",
              "         1, 1, 1, 1, 1, 1, 1, 1, 1, 1, 1, 1, 1, 1, 1, 1, 1, 1, 1, 1, 1, 1,\n",
              "         1, 1, 1, 1, 1, 1, 1, 1, 1, 1, 1, 1, 1, 1, 1, 1, 1, 1, 1, 1, 1, 1,\n",
              "         1, 1, 1, 1, 1, 1, 1, 1, 1, 1, 1, 1, 1, 1, 1, 1, 1, 1, 1, 1, 1, 1,\n",
              "         1, 1, 1, 1, 1, 1, 1, 1, 1, 1, 1, 1, 1, 1, 1, 1, 1, 1, 1, 1, 1, 1,\n",
              "         1, 1, 1, 1, 1, 1, 1, 1, 1, 1, 1, 1, 1, 1, 1, 1, 1, 1], dtype=int32),\n",
              " memmap([0, 0, 0, 0, 0, 0, 0, 0, 0, 0, 0, 0, 0, 0, 0, 0, 0, 0, 0, 0, 0, 0,\n",
              "         0, 0, 0, 0, 0, 0, 0, 0, 0, 0, 0, 0, 0, 0, 0, 0, 0, 0, 0, 0, 0, 0,\n",
              "         0, 0, 0, 0, 0, 0, 0, 0, 0, 0, 0, 0, 0, 0, 0, 0, 0, 0, 0, 0, 0, 1,\n",
              "         1, 1, 1, 1, 1, 1, 1, 1, 1, 1, 1, 1, 1, 1, 1, 1, 1, 1, 1, 1, 1, 1,\n",
              "         1, 1, 1, 1, 1, 1, 1, 1, 1, 1, 1, 1, 1, 1, 1, 1, 1, 1, 1, 1, 1, 1,\n",
              "         1, 1, 1, 1, 1, 1, 1, 1, 1, 1, 1, 1, 1, 1, 1, 1, 1, 1], dtype=int32),\n",
              " 1,\n",
              " 0,\n",
              " memmap([   0,    0,    0,    0,    0,    0,    0,    0,    0,    0,    0,\n",
              "            0,    0,    0,    0,    0,    0,  810, 3666, 3625,    0,    0,\n",
              "            0,    0,    0,    0,    0,    0,    0,    0,    0,    0,    0,\n",
              "            0,    0,    0,    0,    0,    0,    0,    0,    0,    0,    0,\n",
              "            0,   18, 3686,    0,    0,    0,    0,    0,    0,    0,    0,\n",
              "            0,    0,    0,    0,    0,    0,    0,    0,    0,    0,    0,\n",
              "            0,   41, 3644,  830, 3624,    0,    0,    0,    0,    0,    0,\n",
              "            0, 2247,    0,    0,    0,    0,    0,    0,    0,    0,    0,\n",
              "            0,    0,    0,    0,    0,    0,    0,    0,    0,    0,    0,\n",
              "            0,    0,    0,    0,    0,    0,    0,  165,    0,    0,    0,\n",
              "            0,    0,    0,    0,    0,  399,    0,    0,  813,   17, 3599,\n",
              "          307,  587,  931,    0,    0,    0,    0], dtype=int32),\n",
              " memmap([   0,    0,    0,    0,    0,    0,    0,    0,    0,    0,    0,\n",
              "            0,    0,    0,    0,    0,    0,    0,    0,    0, 3596, 4904,\n",
              "         3750, 3603, 4065,  115, 3617, 3756,    0,    0,    0,    0,    0,\n",
              "            0,    0,    0,    0,    0,    0,    0,    0,    0,    0,    0,\n",
              "            0,    0,    8, 3637, 2263,    0,    0,    0,    0,    0,    0,\n",
              "            0,    0,    0,    0,    0,    0,    0,    0,    0,    0,    0,\n",
              "            0,    0,    0,    0,    0,    0,    0,    0,   58, 3676,  416,\n",
              "            0,    0,    0,    0,    0,    0,    0,    0,    0,    0,    0,\n",
              "            0,    0,    0,    0,    0,    0,    0,    0,    0,    0,    0,\n",
              "            0,    0,    0,  342, 3629, 3616, 3602,    0,    0,    0,    0,\n",
              "            0,    0,    0,    0,    0,    0,    0,    0,    0,    0,    0,\n",
              "            0,    0,    0,    0,    0,    0,    0], dtype=int32))"
            ]
          },
          "metadata": {},
          "execution_count": 39
        }
      ]
    },
    {
      "cell_type": "markdown",
      "source": [
        "# 5. BERT 모델 구현"
      ],
      "metadata": {
        "id": "wG-qdyBTtb3N"
      }
    },
    {
      "cell_type": "markdown",
      "source": [
        "![image.png](data:image/png;base64,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)"
      ],
      "metadata": {
        "id": "yIdQE_vatgpr"
      }
    },
    {
      "cell_type": "markdown",
      "source": [
        "### a. 유틸리티 함수를 정의"
      ],
      "metadata": {
        "id": "wGLdXtcXuFjJ"
      }
    },
    {
      "cell_type": "code",
      "source": [
        "def get_pad_mask(tokens, i_pad=0):\n",
        "    \"\"\"\n",
        "    pad mask 계산하는 함수\n",
        "    :param tokens: tokens (bs, n_seq)\n",
        "    :param i_pad: id of pad\n",
        "    :return mask: pad mask (pad: 1, other: 0)\n",
        "    \"\"\"\n",
        "    mask = tf.cast(tf.math.equal(tokens, i_pad), tf.float32)\n",
        "    mask = tf.expand_dims(mask, axis=1)\n",
        "    return mask\n",
        "\n",
        "\n",
        "def get_ahead_mask(tokens, i_pad=0):\n",
        "    \"\"\"\n",
        "    ahead mask 계산하는 함수\n",
        "    :param tokens: tokens (bs, n_seq)\n",
        "    :param i_pad: id of pad\n",
        "    :return mask: ahead and pad mask (ahead or pad: 1, other: 0)\n",
        "    \"\"\"\n",
        "    n_seq = tf.shape(tokens)[1]\n",
        "    ahead_mask = 1 - tf.linalg.band_part(tf.ones((n_seq, n_seq)), -1, 0)\n",
        "    ahead_mask = tf.expand_dims(ahead_mask, axis=0)\n",
        "    pad_mask = get_pad_mask(tokens, i_pad)\n",
        "    mask = tf.maximum(ahead_mask, pad_mask)\n",
        "    return mask\n",
        "print(\"슝=3\")"
      ],
      "metadata": {
        "colab": {
          "base_uri": "https://localhost:8080/"
        },
        "id": "oHChjDj9tTkP",
        "outputId": "4e36dee1-b56c-40fa-dda7-7ab6c6004f74"
      },
      "execution_count": 40,
      "outputs": [
        {
          "output_type": "stream",
          "name": "stdout",
          "text": [
            "슝=3\n"
          ]
        }
      ]
    },
    {
      "cell_type": "markdown",
      "source": [
        "일반적으로 GELU는 ReLU나 ELU보다 성능이 좋기 때문에 여기서는 GELU를 사용하겠습니다"
      ],
      "metadata": {
        "id": "EmzvAQfHtuSq"
      }
    },
    {
      "cell_type": "markdown",
      "source": [
        "![image.png](data:image/png;base64,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)"
      ],
      "metadata": {
        "id": "aHiHjfectowi"
      }
    },
    {
      "cell_type": "code",
      "source": [
        "@tf.function(experimental_relax_shapes=True)\n",
        "def gelu(x):\n",
        "    \"\"\"\n",
        "    gelu activation 함수\n",
        "    :param x: 입력 값\n",
        "    :return: gelu activation result\n",
        "    \"\"\"\n",
        "    return 0.5*x*(1+tf.tanh(np.sqrt(2/np.pi)*(x+0.044715*tf.pow(x, 3))))\n",
        "\n",
        "def kernel_initializer(stddev=0.02):\n",
        "    \"\"\"\n",
        "    parameter initializer 생성\n",
        "    :param stddev: 생성할 랜덤 변수의 표준편차\n",
        "    \"\"\"\n",
        "    return tf.keras.initializers.TruncatedNormal(stddev=stddev)\n",
        "\n",
        "\n",
        "def bias_initializer():\n",
        "    \"\"\"\n",
        "    bias initializer 생성\n",
        "    \"\"\"\n",
        "    return tf.zeros_initializer\n",
        "\n",
        "class Config(dict):\n",
        "    \"\"\"\n",
        "    json을 config 형태로 사용하기 위한 Class\n",
        "    :param dict: config dictionary\n",
        "    \"\"\"\n",
        "    __getattr__ = dict.__getitem__\n",
        "    __setattr__ = dict.__setitem__\n",
        "\n",
        "    @classmethod\n",
        "    def load(cls, file):\n",
        "        \"\"\"\n",
        "        file에서 Config를 생성 함\n",
        "        :param file: filename\n",
        "        \"\"\"\n",
        "        with open(file, 'r') as f:\n",
        "            config = json.loads(f.read())\n",
        "            return Config(config)"
      ],
      "metadata": {
        "id": "I5kfwpAntjGv"
      },
      "execution_count": 42,
      "outputs": []
    },
    {
      "cell_type": "markdown",
      "source": [
        "### b. Token Embedding의 구현"
      ],
      "metadata": {
        "id": "u7TttGQFuH_x"
      }
    },
    {
      "cell_type": "code",
      "source": [
        "class SharedEmbedding(tf.keras.layers.Layer):\n",
        "    \"\"\"\n",
        "    Weighed Shaed Embedding Class\n",
        "    \"\"\"\n",
        "    def __init__(self, config, name=\"weight_shared_embedding\"):\n",
        "        \"\"\"\n",
        "        생성자\n",
        "        :param config: Config 객체\n",
        "        :param name: layer name\n",
        "        \"\"\"\n",
        "        super().__init__(name=name)\n",
        "\n",
        "        self.n_vocab = config.n_vocab\n",
        "        self.d_model = config.d_model\n",
        "    \n",
        "    def build(self, input_shape):\n",
        "        \"\"\"\n",
        "        shared weight 생성\n",
        "        :param input_shape: Tensor Shape (not used)\n",
        "        \"\"\"\n",
        "        with tf.name_scope(\"shared_embedding_weight\"):\n",
        "            self.shared_weights = self.add_weight(\n",
        "                \"weights\",\n",
        "                shape=[self.n_vocab, self.d_model],\n",
        "                initializer=kernel_initializer()\n",
        "            )\n",
        "\n",
        "    def call(self, inputs, mode=\"embedding\"):\n",
        "        \"\"\"\n",
        "        layer 실행\n",
        "        :param inputs: 입력\n",
        "        :param mode: 실행 모드\n",
        "        :return: embedding or linear 실행 결과\n",
        "        \"\"\"\n",
        "        # mode가 embedding일 경우 embedding lookup 실행\n",
        "        if mode == \"embedding\":\n",
        "            return self._embedding(inputs)\n",
        "        # mode가 linear일 경우 linear 실행\n",
        "        elif mode == \"linear\":\n",
        "            return self._linear(inputs)\n",
        "        # mode가 기타일 경우 오류 발생\n",
        "        else:\n",
        "            raise ValueError(f\"mode {mode} is not valid.\")\n",
        "    \n",
        "    def _embedding(self, inputs):\n",
        "        \"\"\"\n",
        "        embedding lookup\n",
        "        :param inputs: 입력\n",
        "        \"\"\"\n",
        "        embed = tf.gather(self.shared_weights, tf.cast(inputs, tf.int32))\n",
        "        return embed\n",
        "\n",
        "    def _linear(self, inputs):  # (bs, n_seq, d_model)\n",
        "        \"\"\"\n",
        "        linear 실행\n",
        "        :param inputs: 입력\n",
        "        \"\"\"\n",
        "        n_batch = tf.shape(inputs)[0]\n",
        "        n_seq = tf.shape(inputs)[1]\n",
        "        inputs = tf.reshape(inputs, [-1, self.d_model])  # (bs * n_seq, d_model)\n",
        "        outputs = tf.matmul(inputs, self.shared_weights, transpose_b=True)\n",
        "        outputs = tf.reshape(outputs, [n_batch, n_seq, self.n_vocab])  # (bs, n_seq, n_vocab)\n",
        "        return outputs"
      ],
      "metadata": {
        "id": "LHb-1ghCt6ow"
      },
      "execution_count": 43,
      "outputs": []
    },
    {
      "cell_type": "markdown",
      "source": [
        "### c. PositionEmbedding\n",
        "\n",
        "Transformer이 사인 함수와 코사인 함수를 이용한 Positional Encoding을 통해 토큰의 상대적인 위치를 학습했던 것과 달리, BERT에서는 Position Embedding을 사용합니다. "
      ],
      "metadata": {
        "id": "IMdHqE_FuT7d"
      }
    },
    {
      "cell_type": "markdown",
      "source": [
        "Position Embedding은 위치 정보가 담긴 임베딩 레이어를 하나 더 사용해 Position Embedding 벡터를 학습시켜서, BERT의 입력에 Position Embedding을 더해줍니다."
      ],
      "metadata": {
        "id": "pY6Oms-kuc3z"
      }
    },
    {
      "cell_type": "code",
      "source": [
        "class PositionEmbedding(tf.keras.layers.Layer):\n",
        "    \"\"\"\n",
        "    Position Embedding Class\n",
        "    \"\"\"\n",
        "    def __init__(self, config, name=\"position_embedding\"):\n",
        "        \"\"\"\n",
        "        생성자\n",
        "        :param config: Config 객체\n",
        "        :param name: layer name\n",
        "        \"\"\"\n",
        "        super().__init__(name=name)\n",
        "        \n",
        "        self.embedding = tf.keras.layers.Embedding(config.n_seq, config.d_model, embeddings_initializer=kernel_initializer())\n",
        "\n",
        "    def call(self, inputs):\n",
        "        \"\"\"\n",
        "        layer 실행\n",
        "        :param inputs: 입력\n",
        "        :return embed: position embedding lookup 결과\n",
        "        \"\"\"\n",
        "        position = tf.cast(tf.math.cumsum(tf.ones_like(inputs), axis=1, exclusive=True), tf.int32)\n",
        "        embed = self.embedding(position)\n",
        "        return embed"
      ],
      "metadata": {
        "id": "KMPZN8gDuLh3"
      },
      "execution_count": 44,
      "outputs": []
    },
    {
      "cell_type": "markdown",
      "source": [
        "Segment Embedding: 두 개의 문장을 구분하기 위한 임베딩"
      ],
      "metadata": {
        "id": "rom664s-uifJ"
      }
    },
    {
      "cell_type": "markdown",
      "source": [
        "### d. ScaleDotProductAttention과 이를 활용한 MultiHeadAttention"
      ],
      "metadata": {
        "id": "tvaGW1jwu0Yr"
      }
    },
    {
      "cell_type": "code",
      "source": [
        "class ScaleDotProductAttention(tf.keras.layers.Layer):\n",
        "    \"\"\"\n",
        "    Scale Dot Product Attention Class\n",
        "    \"\"\"\n",
        "    def __init__(self, name=\"scale_dot_product_attention\"):\n",
        "        \"\"\"\n",
        "        생성자\n",
        "        :param name: layer name\n",
        "        \"\"\"\n",
        "        super().__init__(name=name)\n",
        "\n",
        "    def call(self, Q, K, V, attn_mask):\n",
        "        \"\"\"\n",
        "        layer 실행\n",
        "        :param Q: Q value\n",
        "        :param K: K value\n",
        "        :param V: V value\n",
        "        :param attn_mask: 실행 모드\n",
        "        :return attn_out: attention 실행 결과\n",
        "        \"\"\"\n",
        "        attn_score = tf.matmul(Q, K, transpose_b=True)\n",
        "        scale = tf.math.sqrt(tf.cast(tf.shape(K)[-1], tf.float32))\n",
        "        attn_scale = tf.math.divide(attn_score, scale)\n",
        "        attn_scale -= 1.e9 * attn_mask\n",
        "        attn_prob = tf.nn.softmax(attn_scale, axis=-1)\n",
        "        attn_out = tf.matmul(attn_prob, V)\n",
        "        return attn_out\n",
        "\n",
        "class MultiHeadAttention(tf.keras.layers.Layer):\n",
        "    \"\"\"\n",
        "    Multi Head Attention Class\n",
        "    \"\"\"\n",
        "    def __init__(self, config, name=\"multi_head_attention\"):\n",
        "        \"\"\"\n",
        "        생성자\n",
        "        :param config: Config 객체\n",
        "        :param name: layer name\n",
        "        \"\"\"\n",
        "        super().__init__(name=name)\n",
        "\n",
        "        self.d_model = config.d_model\n",
        "        self.n_head = config.n_head\n",
        "        self.d_head = config.d_head\n",
        "\n",
        "        # Q, K, V input dense layer\n",
        "        self.W_Q = tf.keras.layers.Dense(config.n_head * config.d_head, kernel_initializer=kernel_initializer(), bias_initializer=bias_initializer())\n",
        "        self.W_K = tf.keras.layers.Dense(config.n_head * config.d_head, kernel_initializer=kernel_initializer(), bias_initializer=bias_initializer())\n",
        "        self.W_V = tf.keras.layers.Dense(config.n_head * config.d_head, kernel_initializer=kernel_initializer(), bias_initializer=bias_initializer())\n",
        "        # Scale Dot Product Attention class\n",
        "        self.attention = ScaleDotProductAttention(name=\"self_attention\")\n",
        "        # output dense layer\n",
        "        self.W_O = tf.keras.layers.Dense(config.d_model, kernel_initializer=kernel_initializer(), bias_initializer=bias_initializer())\n",
        "\n",
        "    def call(self, Q, K, V, attn_mask):\n",
        "        \"\"\"\n",
        "        layer 실행\n",
        "        :param Q: Q value\n",
        "        :param K: K value\n",
        "        :param V: V value\n",
        "        :param attn_mask: 실행 모드\n",
        "        :return attn_out: attention 실행 결과\n",
        "        \"\"\"\n",
        "        # reshape Q, K, V, attn_mask\n",
        "        batch_size = tf.shape(Q)[0]\n",
        "        Q_m = tf.transpose(tf.reshape(self.W_Q(Q), [batch_size, -1, self.n_head, self.d_head]), [0, 2, 1, 3])  # (bs, n_head, Q_len, d_head)\n",
        "        K_m = tf.transpose(tf.reshape(self.W_K(K), [batch_size, -1, self.n_head, self.d_head]), [0, 2, 1, 3])  # (bs, n_head, K_len, d_head)\n",
        "        V_m = tf.transpose(tf.reshape(self.W_V(V), [batch_size, -1, self.n_head, self.d_head]), [0, 2, 1, 3])  # (bs, n_head, K_len, d_head)\n",
        "        attn_mask_m = tf.expand_dims(attn_mask, axis=1)\n",
        "        # Scale Dot Product Attention with multi head Q, K, V, attn_mask\n",
        "        attn_out = self.attention(Q_m, K_m, V_m, attn_mask_m)  # (bs, n_head, Q_len, d_head)\n",
        "        # transpose and liner\n",
        "        attn_out_m = tf.transpose(attn_out, perm=[0, 2, 1, 3])  # (bs, Q_len, n_head, d_head)\n",
        "        attn_out = tf.reshape(attn_out_m, [batch_size, -1, config.n_head * config.d_head])  # (bs, Q_len, d_model)\n",
        "        attn_out = self.W_O(attn_out) # (bs, Q_len, d_model)\n",
        "\n",
        "        return attn_out\n"
      ],
      "metadata": {
        "id": "LF4QNCp1ufjv"
      },
      "execution_count": 45,
      "outputs": []
    },
    {
      "cell_type": "markdown",
      "source": [
        "### e. transformer encoder 레이어"
      ],
      "metadata": {
        "id": "uTE3dFIovM1t"
      }
    },
    {
      "cell_type": "code",
      "source": [
        "class PositionWiseFeedForward(tf.keras.layers.Layer):\n",
        "    \"\"\"\n",
        "    Position Wise Feed Forward Class\n",
        "    \"\"\"\n",
        "    def __init__(self, config, name=\"feed_forward\"):\n",
        "        \"\"\"\n",
        "        생성자\n",
        "        :param config: Config 객체\n",
        "        :param name: layer name\n",
        "        \"\"\"\n",
        "        super().__init__(name=name)\n",
        "\n",
        "        self.W_1 = tf.keras.layers.Dense(config.d_ff, activation=gelu, kernel_initializer=kernel_initializer(), bias_initializer=bias_initializer())\n",
        "        self.W_2 = tf.keras.layers.Dense(config.d_model, kernel_initializer=kernel_initializer(), bias_initializer=bias_initializer())\n",
        "\n",
        "    def call(self, inputs):\n",
        "        \"\"\"\n",
        "        layer 실행\n",
        "        :param inputs: inputs\n",
        "        :return ff_val: feed forward 실행 결과\n",
        "        \"\"\"\n",
        "        ff_val = self.W_2(self.W_1(inputs))\n",
        "        return ff_val\n",
        "  \n",
        "class EncoderLayer(tf.keras.layers.Layer):\n",
        "    \"\"\"\n",
        "    Encoder Layer Class\n",
        "    \"\"\"\n",
        "    def __init__(self, config, name=\"encoder_layer\"):\n",
        "        \"\"\"\n",
        "        생성자\n",
        "        :param config: Config 객체\n",
        "        :param name: layer name\n",
        "        \"\"\"\n",
        "        super().__init__(name=name)\n",
        "\n",
        "        self.self_attention = MultiHeadAttention(config)\n",
        "        self.norm1 = tf.keras.layers.LayerNormalization(epsilon=config.layernorm_epsilon)\n",
        "\n",
        "        self.ffn = PositionWiseFeedForward(config)\n",
        "        self.norm2 = tf.keras.layers.LayerNormalization(epsilon=config.layernorm_epsilon)\n",
        "\n",
        "        self.dropout = tf.keras.layers.Dropout(config.dropout)\n",
        " \n",
        "    def call(self, enc_embed, self_mask):\n",
        "        \"\"\"\n",
        "        layer 실행\n",
        "        :param enc_embed: enc_embed 또는 이전 EncoderLayer의 출력\n",
        "        :param self_mask: enc_tokens의 pad mask\n",
        "        :return enc_out: EncoderLayer 실행 결과\n",
        "        \"\"\"\n",
        "        self_attn_val = self.self_attention(enc_embed, enc_embed, enc_embed, self_mask)\n",
        "        norm1_val = self.norm1(enc_embed + self.dropout(self_attn_val))\n",
        "\n",
        "        ffn_val = self.ffn(norm1_val)\n",
        "        enc_out = self.norm2(norm1_val + self.dropout(ffn_val))\n",
        "\n",
        "        return enc_out"
      ],
      "metadata": {
        "id": "H_9wU_A3vJov"
      },
      "execution_count": 46,
      "outputs": []
    },
    {
      "cell_type": "markdown",
      "source": [
        "### f. BERT"
      ],
      "metadata": {
        "id": "D3DgwdewvW9D"
      }
    },
    {
      "cell_type": "code",
      "source": [
        "class BERT(tf.keras.layers.Layer):\n",
        "    \"\"\"\n",
        "    BERT Class\n",
        "    \"\"\"\n",
        "    def __init__(self, config, name=\"bert\"):\n",
        "        \"\"\"\n",
        "        생성자\n",
        "        :param config: Config 객체\n",
        "        :param name: layer name\n",
        "        \"\"\"\n",
        "        super().__init__(name=name)\n",
        "\n",
        "        self.i_pad = config.i_pad\n",
        "        self.embedding = SharedEmbedding(config)\n",
        "        self.position = PositionEmbedding(config)\n",
        "        self.segment = tf.keras.layers.Embedding(2, config.d_model, embeddings_initializer=kernel_initializer())\n",
        "        self.norm = tf.keras.layers.LayerNormalization(epsilon=config.layernorm_epsilon)\n",
        "        \n",
        "        self.encoder_layers = [EncoderLayer(config, name=f\"encoder_layer_{i}\") for i in range(config.n_layer)]\n",
        "\n",
        "        self.dropout = tf.keras.layers.Dropout(config.dropout)\n",
        "\n",
        "    def call(self, inputs):\n",
        "        \"\"\"\n",
        "        layer 실행\n",
        "        :param inputs: (enc_tokens, segments)\n",
        "        :return logits: dec_tokens에 대한 다음 토큰 예측 결과 logits\n",
        "        \"\"\"\n",
        "        enc_tokens, segments = inputs\n",
        "\n",
        "        enc_self_mask = tf.keras.layers.Lambda(get_pad_mask, output_shape=(1, None), name='enc_self_mask')(enc_tokens, self.i_pad)\n",
        "\n",
        "        enc_embed = self.get_embedding(enc_tokens, segments)\n",
        "\n",
        "        enc_out = self.dropout(enc_embed)\n",
        "        for encoder_layer in self.encoder_layers:\n",
        "            enc_out = encoder_layer(enc_out, enc_self_mask)\n",
        "\n",
        "        logits_cls = enc_out[:,0]\n",
        "        logits_lm = self.embedding(enc_out, mode=\"linear\")\n",
        "        return logits_cls, logits_lm\n",
        "    \n",
        "    def get_embedding(self, tokens, segments):\n",
        "        \"\"\"\n",
        "        token embedding, position embedding lookup\n",
        "        :param tokens: 입력 tokens\n",
        "        :param segments: 입력 segments\n",
        "        :return embed: embedding 결과\n",
        "        \"\"\"\n",
        "        embed = self.embedding(tokens) + self.position(tokens) + self.segment(segments)\n",
        "        embed = self.norm(embed)\n",
        "        return embed"
      ],
      "metadata": {
        "id": "gLmbWf5QvTO4"
      },
      "execution_count": 47,
      "outputs": []
    },
    {
      "cell_type": "markdown",
      "source": [
        "### BERT 레이어를 바탕으로 최종적으로 만들어질 pretrain용 BERT 모델 구성"
      ],
      "metadata": {
        "id": "RxZl-SLFvdZh"
      }
    },
    {
      "cell_type": "code",
      "source": [
        "# Encoder Layer class 정의\n",
        "class PooledOutput(tf.keras.layers.Layer):\n",
        "    def __init__(self, config, n_output, name=\"pooled_output\"):\n",
        "        super().__init__(name=name)\n",
        "\n",
        "        self.dense1 = tf.keras.layers.Dense(config.d_model, activation=tf.nn.tanh, kernel_initializer=kernel_initializer(), bias_initializer=bias_initializer())\n",
        "        self.dense2 = tf.keras.layers.Dense(n_output, use_bias=False, activation=tf.nn.softmax, name=\"nsp\", kernel_initializer=kernel_initializer(), bias_initializer=bias_initializer())\n",
        " \n",
        "    def call(self, inputs):\n",
        "        outputs = self.dense1(inputs)\n",
        "        outputs = self.dense2(outputs)\n",
        "        return outputs"
      ],
      "metadata": {
        "id": "WNzoNEHvvarf"
      },
      "execution_count": 48,
      "outputs": []
    },
    {
      "cell_type": "code",
      "source": [
        "def build_model_pre_train(config):\n",
        "    enc_tokens = tf.keras.layers.Input((None,), name=\"enc_tokens\")\n",
        "    segments = tf.keras.layers.Input((None,), name=\"segments\")\n",
        "\n",
        "    bert = BERT(config)\n",
        "    logits_cls, logits_lm = bert((enc_tokens, segments))\n",
        "\n",
        "    logits_cls = PooledOutput(config, 2, name=\"pooled_nsp\")(logits_cls)\n",
        "    outputs_nsp = tf.keras.layers.Softmax(name=\"nsp\")(logits_cls)\n",
        "\n",
        "    outputs_mlm = tf.keras.layers.Softmax(name=\"mlm\")(logits_lm)\n",
        "\n",
        "    model = tf.keras.Model(inputs=(enc_tokens, segments), outputs=(outputs_nsp, outputs_mlm))\n",
        "    return model"
      ],
      "metadata": {
        "id": "7utYWSTZvfXH"
      },
      "execution_count": 49,
      "outputs": []
    },
    {
      "cell_type": "markdown",
      "source": [
        "### pretrain용 BERT 모델(test_model)을 생성하여 동작을 확인"
      ],
      "metadata": {
        "id": "8ZMlaaRov0RV"
      }
    },
    {
      "cell_type": "code",
      "source": [
        "config = Config({\"d_model\": 256, \"n_head\": 4, \"d_head\": 64, \"dropout\": 0.1, \"d_ff\": 1024, \"layernorm_epsilon\": 0.001, \"n_layer\": 3, \"n_seq\": 256, \"n_vocab\": 0, \"i_pad\": 0})\n",
        "config.n_vocab = len(vocab)\n",
        "config.i_pad = vocab.pad_id()\n",
        "config"
      ],
      "metadata": {
        "colab": {
          "base_uri": "https://localhost:8080/"
        },
        "id": "pKi7cZujvlPX",
        "outputId": "0143c8af-b1ef-4dde-f762-ac48004e7d62"
      },
      "execution_count": 50,
      "outputs": [
        {
          "output_type": "execute_result",
          "data": {
            "text/plain": [
              "{'d_ff': 1024,\n",
              " 'd_head': 64,\n",
              " 'd_model': 256,\n",
              " 'dropout': 0.1,\n",
              " 'i_pad': 0,\n",
              " 'layernorm_epsilon': 0.001,\n",
              " 'n_head': 4,\n",
              " 'n_layer': 3,\n",
              " 'n_seq': 256,\n",
              " 'n_vocab': 8007}"
            ]
          },
          "metadata": {},
          "execution_count": 50
        }
      ]
    },
    {
      "cell_type": "code",
      "source": [
        "n_seq = 10\n",
        "\n",
        "# make test inputs\n",
        "enc_tokens = np.random.randint(0, len(vocab), (10, n_seq))\n",
        "segments = np.random.randint(0, 2, (10, n_seq))\n",
        "labels_nsp = np.random.randint(0, 2, (10,))\n",
        "labels_mlm = np.random.randint(0, len(vocab), (10, n_seq))\n",
        "\n",
        "test_model = build_model_pre_train(config)\n",
        "test_model.compile(loss=tf.keras.losses.sparse_categorical_crossentropy, optimizer=tf.keras.optimizers.Adam(), metrics=[\"acc\"])\n",
        "\n",
        "# test model fit\n",
        "test_model.fit((enc_tokens, segments), (labels_nsp, labels_mlm), epochs=2, batch_size=5)"
      ],
      "metadata": {
        "colab": {
          "base_uri": "https://localhost:8080/"
        },
        "id": "0BPqSWxKvqwH",
        "outputId": "8bd6766e-7500-4a5e-dfd7-788ee5fff473"
      },
      "execution_count": 51,
      "outputs": [
        {
          "output_type": "stream",
          "name": "stdout",
          "text": [
            "Epoch 1/2\n",
            "2/2 [==============================] - 7s 11ms/step - loss: 9.7747 - nsp_loss: 0.7198 - mlm_loss: 9.0549 - nsp_acc: 0.6000 - mlm_acc: 0.0000e+00\n",
            "Epoch 2/2\n",
            "2/2 [==============================] - 0s 10ms/step - loss: 8.5973 - nsp_loss: 0.6165 - mlm_loss: 7.9808 - nsp_acc: 0.8000 - mlm_acc: 0.0000e+00\n"
          ]
        },
        {
          "output_type": "execute_result",
          "data": {
            "text/plain": [
              "<keras.callbacks.History at 0x7f48be567390>"
            ]
          },
          "metadata": {},
          "execution_count": 51
        }
      ]
    },
    {
      "cell_type": "markdown",
      "source": [
        "# 6. pretrain 진행"
      ],
      "metadata": {
        "id": "tP4QEEjFv4F6"
      }
    },
    {
      "cell_type": "markdown",
      "source": [
        "학습 데이터의 label이 정수로 변환되었으므로 loss 함수는 SparseCategoricalCrossentropy를 사용합니다. MLM task에 대해 더 잘 학습하도록 loss를 20배 증가시켜 줍니다."
      ],
      "metadata": {
        "id": "pInLZ2LzwHUe"
      }
    },
    {
      "cell_type": "code",
      "source": [
        "def lm_loss(y_true, y_pred):\n",
        "    \"\"\"\n",
        "    loss 계산 함수\n",
        "    :param y_true: 정답 (bs, n_seq)\n",
        "    :param y_pred: 예측 값 (bs, n_seq, n_vocab)\n",
        "    \"\"\"\n",
        "    # loss 계산\n",
        "    loss = tf.keras.losses.SparseCategoricalCrossentropy(reduction=tf.keras.losses.Reduction.NONE)(y_true, y_pred)\n",
        "    # pad(0) 인 부분 mask\n",
        "    mask = tf.cast(tf.math.not_equal(y_true, 0), dtype=loss.dtype)\n",
        "    loss *= mask\n",
        "    return loss * 20  # mlm을 더 잘 학습하도록 20배 증가 시킴\n",
        "\n",
        "def lm_acc(y_true, y_pred):\n",
        "    \"\"\"\n",
        "    acc 계산 함수\n",
        "    :param y_true: 정답 (bs, n_seq)\n",
        "    :param y_pred: 예측 값 (bs, n_seq, n_vocab)\n",
        "    \"\"\"\n",
        "    # 정답 여부 확인\n",
        "    y_pred_class = tf.cast(K.argmax(y_pred, axis=-1), tf.float32)\n",
        "    matches = tf.cast(K.equal(y_true, y_pred_class), tf.float32)\n",
        "    # pad(0) 인 부분 mask\n",
        "    mask = tf.cast(tf.math.not_equal(y_true, 0), dtype=matches.dtype)\n",
        "    matches *= mask\n",
        "    # 정확도 계산\n",
        "    accuracy = K.sum(matches) / K.maximum(K.sum(mask), 1)\n",
        "    return accuracy\n"
      ],
      "metadata": {
        "id": "t-aB1XGpvt_v"
      },
      "execution_count": 53,
      "outputs": []
    },
    {
      "cell_type": "markdown",
      "source": [
        " Learning Rate 스케줄링은 WarmUp 이후 consine 형태로 감소하는 스케줄을 적용"
      ],
      "metadata": {
        "id": "FWwgfSR0wQsz"
      }
    },
    {
      "cell_type": "code",
      "source": [
        "class CosineSchedule(tf.keras.optimizers.schedules.LearningRateSchedule):\n",
        "    \"\"\"\n",
        "    CosineSchedule Class\n",
        "    \"\"\"\n",
        "    def __init__(self, train_steps=4000, warmup_steps=2000, max_lr=2.5e-4):\n",
        "        \"\"\"\n",
        "        생성자\n",
        "        :param train_steps: 학습 step 총 합\n",
        "        :param warmup_steps: warmup steps\n",
        "        :param max_lr: 최대 learning rate\n",
        "        \"\"\"\n",
        "        super().__init__()\n",
        "\n",
        "        assert 0 < warmup_steps < train_steps\n",
        "        self.warmup_steps = warmup_steps\n",
        "        self.train_steps = train_steps\n",
        "        self.max_lr = max_lr\n",
        "\n",
        "    def __call__(self, step_num):\n",
        "        \"\"\"\n",
        "        learning rate 계산\n",
        "        :param step_num: 현재 step number\n",
        "        :retrun: 계산된 learning rate\n",
        "        \"\"\"\n",
        "        state = tf.cast(step_num <= self.warmup_steps, tf.float32)\n",
        "        lr1 = tf.cast(step_num, tf.float32) / self.warmup_steps\n",
        "        progress = tf.cast(step_num - self.warmup_steps, tf.float32) / max(1, self.train_steps - self.warmup_steps)\n",
        "        lr2 = 0.5 * (1.0 + tf.math.cos(math.pi * progress))\n",
        "        return (state * lr1 + (1 - state) * lr2) * self.max_lr"
      ],
      "metadata": {
        "id": "wJb7StRGwDPg"
      },
      "execution_count": 54,
      "outputs": []
    },
    {
      "cell_type": "code",
      "source": [
        "# compute lr \n",
        "test_schedule = CosineSchedule(train_steps=4000, warmup_steps=500)\n",
        "lrs = []\n",
        "for step_num in range(4000):\n",
        "    lrs.append(test_schedule(float(step_num)).numpy())\n",
        "\n",
        "# draw\n",
        "plt.plot(lrs, 'r-', label='learning_rate')\n",
        "plt.xlabel('Step')\n",
        "plt.show()"
      ],
      "metadata": {
        "colab": {
          "base_uri": "https://localhost:8080/",
          "height": 279
        },
        "id": "8VSIaWMRwbMQ",
        "outputId": "1a4d9e4d-20d1-4613-97e7-21f9b1719249"
      },
      "execution_count": 55,
      "outputs": [
        {
          "output_type": "display_data",
          "data": {
            "text/plain": [
              "<Figure size 432x288 with 1 Axes>"
            ],
            "image/png": "[encoded data removed]"
          },
          "metadata": {
            "needs_background": "light"
          }
        }
      ]
    },
    {
      "cell_type": "code",
      "source": [
        "# 모델 생성\n",
        "pre_train_model = build_model_pre_train(config)\n",
        "pre_train_model.summary()"
      ],
      "metadata": {
        "colab": {
          "base_uri": "https://localhost:8080/"
        },
        "id": "3CXjEGAxwbn4",
        "outputId": "cde684ef-836c-41b8-e47d-13872ff70776"
      },
      "execution_count": 56,
      "outputs": [
        {
          "output_type": "stream",
          "name": "stdout",
          "text": [
            "Model: \"model_1\"\n",
            "__________________________________________________________________________________________________\n",
            " Layer (type)                   Output Shape         Param #     Connected to                     \n",
            "==================================================================================================\n",
            " enc_tokens (InputLayer)        [(None, None)]       0           []                               \n",
            "                                                                                                  \n",
            " segments (InputLayer)          [(None, None)]       0           []                               \n",
            "                                                                                                  \n",
            " bert (BERT)                    ((None, 256),        4485632     ['enc_tokens[0][0]',             \n",
            "                                 (None, None, 8007)               'segments[0][0]']               \n",
            "                                )                                                                 \n",
            "                                                                                                  \n",
            " pooled_nsp (PooledOutput)      (None, 2)            66304       ['bert[0][0]']                   \n",
            "                                                                                                  \n",
            " nsp (Softmax)                  (None, 2)            0           ['pooled_nsp[0][0]']             \n",
            "                                                                                                  \n",
            " mlm (Softmax)                  (None, None, 8007)   0           ['bert[0][1]']                   \n",
            "                                                                                                  \n",
            "==================================================================================================\n",
            "Total params: 4,551,936\n",
            "Trainable params: 4,551,936\n",
            "Non-trainable params: 0\n",
            "__________________________________________________________________________________________________\n"
          ]
        }
      ]
    },
    {
      "cell_type": "markdown",
      "source": [
        "optimizer는 Adam을 사용하고, MLM과 NSP에 대한 loss와 accuracy를 알 수 있도록 하였습니다."
      ],
      "metadata": {
        "id": "jzdl0_MiwxeC"
      }
    },
    {
      "cell_type": "code",
      "source": [
        "epochs = 10\n",
        "batch_size = 64\n",
        "\n",
        "# optimizer\n",
        "train_steps = math.ceil(len(pre_train_inputs[0]) / batch_size) * epochs\n",
        "print(\"train_steps:\", train_steps)\n",
        "learning_rate = CosineSchedule(train_steps=train_steps, warmup_steps=max(100, train_steps // 10))\n",
        "optimizer = tf.keras.optimizers.Adam(learning_rate, beta_1=0.9, beta_2=0.98, epsilon=1e-9)\n",
        "\n",
        "# compile\n",
        "pre_train_model.compile(loss=(tf.keras.losses.sparse_categorical_crossentropy, lm_loss), optimizer=optimizer, metrics={\"nsp\": \"acc\", \"mlm\": lm_acc})"
      ],
      "metadata": {
        "colab": {
          "base_uri": "https://localhost:8080/"
        },
        "id": "GyoH8tCewdew",
        "outputId": "09376930-31e4-407b-875b-53d9b6f0abfa"
      },
      "execution_count": 57,
      "outputs": [
        {
          "output_type": "stream",
          "name": "stdout",
          "text": [
            "train_steps: 20000\n"
          ]
        }
      ]
    },
    {
      "cell_type": "markdown",
      "source": [
        "### 훈련 시작"
      ],
      "metadata": {
        "id": "SfumQZrqwpBU"
      }
    },
    {
      "cell_type": "code",
      "source": [
        "# save weights callback\n",
        "save_weights = tf.keras.callbacks.ModelCheckpoint(f\"{data_dir}/bert_pre_train.hdf5\", monitor=\"mlm_lm_acc\", verbose=1, save_best_only=True, mode=\"max\", save_freq=\"epoch\", save_weights_only=True)\n",
        "# train\n",
        "history = pre_train_model.fit(pre_train_inputs, pre_train_labels, epochs=epochs, batch_size=batch_size, callbacks=[save_weights])"
      ],
      "metadata": {
        "colab": {
          "base_uri": "https://localhost:8080/"
        },
        "id": "b4gNXvsXwi5g",
        "outputId": "d834aa3e-184f-472a-9dd2-2937bdf6813c"
      },
      "execution_count": 60,
      "outputs": [
        {
          "output_type": "stream",
          "name": "stdout",
          "text": [
            "Epoch 1/10\n",
            "2000/2000 [==============================] - ETA: 0s - loss: 17.4998 - nsp_loss: 0.6226 - mlm_loss: 16.8773 - nsp_acc: 0.6174 - mlm_lm_acc: 0.1299\n",
            "Epoch 1: mlm_lm_acc improved from -inf to 0.12991, saving model to /content/bert_pre_train.hdf5\n",
            "2000/2000 [==============================] - 193s 96ms/step - loss: 17.4998 - nsp_loss: 0.6226 - mlm_loss: 16.8773 - nsp_acc: 0.6174 - mlm_lm_acc: 0.1299\n",
            "Epoch 2/10\n",
            "2000/2000 [==============================] - ETA: 0s - loss: 15.7808 - nsp_loss: 0.6151 - mlm_loss: 15.1656 - nsp_acc: 0.6269 - mlm_lm_acc: 0.1526\n",
            "Epoch 2: mlm_lm_acc improved from 0.12991 to 0.15262, saving model to /content/bert_pre_train.hdf5\n",
            "2000/2000 [==============================] - 193s 96ms/step - loss: 15.7808 - nsp_loss: 0.6151 - mlm_loss: 15.1656 - nsp_acc: 0.6269 - mlm_lm_acc: 0.1526\n",
            "Epoch 3/10\n",
            "2000/2000 [==============================] - ETA: 0s - loss: 14.0998 - nsp_loss: 0.6117 - mlm_loss: 13.4881 - nsp_acc: 0.6319 - mlm_lm_acc: 0.1906\n",
            "Epoch 3: mlm_lm_acc improved from 0.15262 to 0.19059, saving model to /content/bert_pre_train.hdf5\n",
            "2000/2000 [==============================] - 193s 96ms/step - loss: 14.0998 - nsp_loss: 0.6117 - mlm_loss: 13.4881 - nsp_acc: 0.6319 - mlm_lm_acc: 0.1906\n",
            "Epoch 4/10\n",
            "2000/2000 [==============================] - ETA: 0s - loss: 13.3527 - nsp_loss: 0.6072 - mlm_loss: 12.7455 - nsp_acc: 0.6370 - mlm_lm_acc: 0.2131\n",
            "Epoch 4: mlm_lm_acc improved from 0.19059 to 0.21309, saving model to /content/bert_pre_train.hdf5\n",
            "2000/2000 [==============================] - 193s 96ms/step - loss: 13.3527 - nsp_loss: 0.6072 - mlm_loss: 12.7455 - nsp_acc: 0.6370 - mlm_lm_acc: 0.2131\n",
            "Epoch 5/10\n",
            "2000/2000 [==============================] - ETA: 0s - loss: 12.8997 - nsp_loss: 0.6028 - mlm_loss: 12.2970 - nsp_acc: 0.6463 - mlm_lm_acc: 0.2278\n",
            "Epoch 5: mlm_lm_acc improved from 0.21309 to 0.22780, saving model to /content/bert_pre_train.hdf5\n",
            "2000/2000 [==============================] - 193s 97ms/step - loss: 12.8997 - nsp_loss: 0.6028 - mlm_loss: 12.2970 - nsp_acc: 0.6463 - mlm_lm_acc: 0.2278\n",
            "Epoch 6/10\n",
            "2000/2000 [==============================] - ETA: 0s - loss: 12.5918 - nsp_loss: 0.5980 - mlm_loss: 11.9938 - nsp_acc: 0.6587 - mlm_lm_acc: 0.2382\n",
            "Epoch 6: mlm_lm_acc improved from 0.22780 to 0.23822, saving model to /content/bert_pre_train.hdf5\n",
            "2000/2000 [==============================] - 193s 97ms/step - loss: 12.5918 - nsp_loss: 0.5980 - mlm_loss: 11.9938 - nsp_acc: 0.6587 - mlm_lm_acc: 0.2382\n",
            "Epoch 7/10\n",
            "2000/2000 [==============================] - ETA: 0s - loss: 12.3879 - nsp_loss: 0.5923 - mlm_loss: 11.7955 - nsp_acc: 0.6694 - mlm_lm_acc: 0.2451\n",
            "Epoch 7: mlm_lm_acc improved from 0.23822 to 0.24512, saving model to /content/bert_pre_train.hdf5\n",
            "2000/2000 [==============================] - 193s 96ms/step - loss: 12.3879 - nsp_loss: 0.5923 - mlm_loss: 11.7955 - nsp_acc: 0.6694 - mlm_lm_acc: 0.2451\n",
            "Epoch 8/10\n",
            "2000/2000 [==============================] - ETA: 0s - loss: 12.2625 - nsp_loss: 0.5874 - mlm_loss: 11.6751 - nsp_acc: 0.6759 - mlm_lm_acc: 0.2492\n",
            "Epoch 8: mlm_lm_acc improved from 0.24512 to 0.24917, saving model to /content/bert_pre_train.hdf5\n",
            "2000/2000 [==============================] - 193s 96ms/step - loss: 12.2625 - nsp_loss: 0.5874 - mlm_loss: 11.6751 - nsp_acc: 0.6759 - mlm_lm_acc: 0.2492\n",
            "Epoch 9/10\n",
            "2000/2000 [==============================] - ETA: 0s - loss: 12.2038 - nsp_loss: 0.5848 - mlm_loss: 11.6189 - nsp_acc: 0.6814 - mlm_lm_acc: 0.2512\n",
            "Epoch 9: mlm_lm_acc improved from 0.24917 to 0.25119, saving model to /content/bert_pre_train.hdf5\n",
            "2000/2000 [==============================] - 193s 96ms/step - loss: 12.2038 - nsp_loss: 0.5848 - mlm_loss: 11.6189 - nsp_acc: 0.6814 - mlm_lm_acc: 0.2512\n",
            "Epoch 10/10\n",
            "2000/2000 [==============================] - ETA: 0s - loss: 12.1932 - nsp_loss: 0.5847 - mlm_loss: 11.6085 - nsp_acc: 0.6833 - mlm_lm_acc: 0.2516\n",
            "Epoch 10: mlm_lm_acc improved from 0.25119 to 0.25161, saving model to /content/bert_pre_train.hdf5\n",
            "2000/2000 [==============================] - 193s 96ms/step - loss: 12.1932 - nsp_loss: 0.5847 - mlm_loss: 11.6085 - nsp_acc: 0.6833 - mlm_lm_acc: 0.2516\n"
          ]
        }
      ]
    },
    {
      "cell_type": "markdown",
      "source": [
        "### 시각화"
      ],
      "metadata": {
        "id": "JUFy_INkxFhb"
      }
    },
    {
      "cell_type": "code",
      "source": [
        "# training result\n",
        "plt.figure(figsize=(12, 4))\n",
        "\n",
        "plt.subplot(1, 2, 1)\n",
        "plt.plot(history.history['nsp_loss'], 'b-', label='nsp_loss')\n",
        "plt.plot(history.history['mlm_loss'], 'r--', label='mlm_loss')\n",
        "plt.xlabel('Epoch')\n",
        "plt.legend()\n",
        "\n",
        "plt.subplot(1, 2, 2)\n",
        "plt.plot(history.history['nsp_acc'], 'g-', label='nsp_acc')\n",
        "plt.plot(history.history['mlm_lm_acc'], 'k--', label='mlm_acc')\n",
        "plt.xlabel('Epoch')\n",
        "plt.legend()\n",
        "\n",
        "plt.show()"
      ],
      "metadata": {
        "colab": {
          "base_uri": "https://localhost:8080/",
          "height": 279
        },
        "id": "b00MvYlXwoMo",
        "outputId": "4dafb893-8ef3-46e7-f051-7341456b4189"
      },
      "execution_count": 61,
      "outputs": [
        {
          "output_type": "display_data",
          "data": {
            "text/plain": [
              "<Figure size 864x288 with 2 Axes>"
            ],
            "image/png": "[encoded data removed]"
          },
          "metadata": {
            "needs_background": "light"
          }
        }
      ]
    },
    {
      "cell_type": "markdown",
      "source": [
        "# 회고"
      ],
      "metadata": {
        "id": "jy-L40bu2u7u"
      }
    },
    {
      "cell_type": "markdown",
      "source": [
        "![image.png](data:image/png;base64,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)"
      ],
      "metadata": {
        "id": "gCHDaDoe6tHp"
      }
    },
    {
      "cell_type": "markdown",
      "source": [
        "레이블링이 되어 있지 않은 한글 나무위키 코퍼스 데이터를 이용해 언어 모델을 학습하고 이를 토대로 전이학습을 위한 pretrain 모델을 만들어보았습니다.\n",
        "\n",
        "epoch를 늘릴수록 loss 값은 줄고 정확도가 증가하는 것을 확인했습니다.\n",
        "\n",
        "대용량의 데이터를 직접 학습시키기 위해서는 매우 많은 자원과 시간이 필요하지만 BERT 모델은 기본적으로 대량의 단어 임베딩 등에 대해 사전 학습이 되어 있는 모델을 제공하기 때문에 상대적으로 적은 자원만으로도 작업이 충분히 가능했습니다."
      ],
      "metadata": {
        "id": "QvIRJug72wPC"
      }
    }
  ]
}