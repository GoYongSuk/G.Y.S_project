{
  "cells": [
    {
      "cell_type": "code",
      "execution_count": 3,
      "metadata": {
        "id": "iVaVZ5qvg8oF"
      },
      "outputs": [],
      "source": [
        "from tensorflow.keras.datasets import reuters\n",
        "import tensorflow as tf\n",
        "import matplotlib.pyplot as plt\n",
        "import seaborn as sns\n",
        "import numpy as np\n",
        "import pandas as pd\n",
        "import sklearn\n",
        "\n",
        "from sklearn.metrics import classification_report\n",
        "from sklearn.metrics import confusion_matrix\n",
        "from sklearn.metrics import accuracy_score #정확도 계산"
      ]
    },
    {
      "cell_type": "markdown",
      "metadata": {
        "id": "Z6etjDiTmo7a"
      },
      "source": [
        "reuters.load_data()에서 num_words는 이 데이터에서 등장 빈도 순위로 몇 번째에 해당하는 단어까지만 사용할 것인지 조절합니다."
      ]
    },
    {
      "cell_type": "markdown",
      "metadata": {
        "id": "muR3V07jmqzS"
      },
      "source": [
        "이번 실험에서는 num_words 값에 따른 모델 정확도를 살펴보도록 하겠습니다."
      ]
    },
    {
      "cell_type": "markdown",
      "metadata": {
        "id": "mUJgZecdnrGA"
      },
      "source": [
        "# 1. 로이터 뉴스 데이터 불러오기"
      ]
    },
    {
      "cell_type": "code",
      "execution_count": 4,
      "metadata": {
        "id": "OG2HTsgLhGRF",
        "colab": {
          "base_uri": "https://localhost:8080/"
        },
        "outputId": "12fdd521-b05d-4585-ace6-d6bb10664660"
      },
      "outputs": [
        {
          "output_type": "stream",
          "name": "stdout",
          "text": [
            "Downloading data from https://storage.googleapis.com/tensorflow/tf-keras-datasets/reuters.npz\n",
            "2113536/2110848 [==============================] - 0s 0us/step\n",
            "2121728/2110848 [==============================] - 0s 0us/step\n"
          ]
        }
      ],
      "source": [
        "(x_train, y_train), (x_test, y_test) = reuters.load_data(num_words=None, test_split=0.2)"
      ]
    },
    {
      "cell_type": "code",
      "execution_count": 5,
      "metadata": {
        "colab": {
          "base_uri": "https://localhost:8080/"
        },
        "id": "952Y6CPGh2rm",
        "outputId": "64e354e5-4c75-43e9-f81b-11f9d8f3c9ae"
      },
      "outputs": [
        {
          "output_type": "stream",
          "name": "stdout",
          "text": [
            "훈련 샘플의 수: 8982\n",
            "테스트 샘플의 수: 2246\n",
            "카테고리:  46\n"
          ]
        }
      ],
      "source": [
        "print('훈련 샘플의 수: {}'.format(len(x_train)))\n",
        "print('테스트 샘플의 수: {}'.format(len(x_test)))\n",
        "num_class = len(set(y_train))\n",
        "print('카테고리: ',num_class)"
      ]
    },
    {
      "cell_type": "code",
      "execution_count": 6,
      "metadata": {
        "colab": {
          "base_uri": "https://localhost:8080/"
        },
        "id": "YTvrS1R8jLnz",
        "outputId": "4281c29a-4855-48aa-e575-baa6e704939f"
      },
      "outputs": [
        {
          "output_type": "stream",
          "name": "stdout",
          "text": [
            "[1, 27595, 28842, 8, 43, 10, 447, 5, 25, 207, 270, 5, 3095, 111, 16, 369, 186, 90, 67, 7, 89, 5, 19, 102, 6, 19, 124, 15, 90, 67, 84, 22, 482, 26, 7, 48, 4, 49, 8, 864, 39, 209, 154, 6, 151, 6, 83, 11, 15, 22, 155, 11, 15, 7, 48, 9, 4579, 1005, 504, 6, 258, 6, 272, 11, 15, 22, 134, 44, 11, 15, 16, 8, 197, 1245, 90, 67, 52, 29, 209, 30, 32, 132, 6, 109, 15, 17, 12]\n",
            "[1, 4, 1378, 2025, 9, 697, 4622, 111, 8, 25, 109, 29, 3650, 11, 150, 244, 364, 33, 30, 30, 1398, 333, 6, 18292, 159, 9, 1084, 363, 13, 19231, 71, 9, 16273, 71, 117, 4, 225, 78, 206, 10, 9, 1214, 8, 4, 270, 5, 16273, 7, 748, 48, 9, 19231, 7, 207, 1451, 966, 1864, 793, 97, 133, 336, 7, 4, 493, 98, 273, 104, 284, 25, 39, 338, 22, 905, 220, 3465, 644, 59, 20, 6, 119, 61, 11, 15, 58, 579, 26, 10, 67, 7, 4, 738, 98, 43, 88, 333, 722, 12, 20, 6, 19, 746, 35, 15, 10, 9, 1214, 855, 129, 783, 21, 4, 2280, 244, 364, 51, 16, 299, 452, 16, 515, 4, 99, 29, 5, 4, 364, 281, 48, 10, 9, 1214, 23, 644, 47, 20, 324, 27, 56, 23406, 28185, 5, 192, 510, 17, 12]\n"
          ]
        }
      ],
      "source": [
        "print(x_train[0])\n",
        "print(x_test[0])"
      ]
    },
    {
      "cell_type": "code",
      "execution_count": 7,
      "metadata": {
        "colab": {
          "base_uri": "https://localhost:8080/"
        },
        "id": "CuZAY-WErIqq",
        "outputId": "a78577d9-a1ae-4cef-8a04-c57f472cd810"
      },
      "outputs": [
        {
          "output_type": "stream",
          "name": "stdout",
          "text": [
            "y_train: 3, y_test: 3\n",
            "y_train: 4, y_test: 10\n",
            "y_train: 3, y_test: 1\n",
            "y_train: 4, y_test: 4\n"
          ]
        }
      ],
      "source": [
        "for i in range(0, 4):\n",
        "  print('y_train: {}, y_test: {}'.format(y_train[i], y_test[i]))"
      ]
    },
    {
      "cell_type": "code",
      "execution_count": 8,
      "metadata": {
        "colab": {
          "base_uri": "https://localhost:8080/",
          "height": 334
        },
        "id": "UHqpnxutrcAV",
        "outputId": "2a4f93b7-e293-4fcb-b935-176efba06c54"
      },
      "outputs": [
        {
          "output_type": "stream",
          "name": "stdout",
          "text": [
            "훈련용 뉴스의 최대 길이 :2376\n",
            "훈련용 뉴스의 평균 길이 :145.5398574927633\n",
            "\n"
          ]
        },
        {
          "output_type": "display_data",
          "data": {
            "text/plain": [
              "<Figure size 432x288 with 1 Axes>"
            ],
            "image/png": "[encoded data removed]"
          },
          "metadata": {
            "needs_background": "light"
          }
        }
      ],
      "source": [
        "print('훈련용 뉴스의 최대 길이 :{}'.format(max(len(l) for l in x_train)))\n",
        "print('훈련용 뉴스의 평균 길이 :{}'.format(sum(map(len, x_train))/len(x_train)))\n",
        "print()\n",
        "\n",
        "plt.hist([len(s) for s in x_train], bins=50)\n",
        "plt.xlabel('length of samples')\n",
        "plt.ylabel('number of samples')\n",
        "plt.show()"
      ]
    },
    {
      "cell_type": "code",
      "execution_count": 9,
      "metadata": {
        "colab": {
          "base_uri": "https://localhost:8080/",
          "height": 320
        },
        "id": "RxdNkz8qslcL",
        "outputId": "b6d918d9-f03c-46ea-b2c0-b5fcad566bbc"
      },
      "outputs": [
        {
          "output_type": "display_data",
          "data": {
            "text/plain": [
              "<Figure size 792x360 with 1 Axes>"
            ],
            "image/png": "[encoded data removed]"
          },
          "metadata": {
            "needs_background": "light"
          }
        }
      ],
      "source": [
        "fig, axe = plt.subplots(ncols=1)\n",
        "fig.set_size_inches(11,5)\n",
        "sns.countplot(x=y_train)\n",
        "plt.show()"
      ]
    },
    {
      "cell_type": "code",
      "execution_count": 10,
      "metadata": {
        "colab": {
          "base_uri": "https://localhost:8080/"
        },
        "id": "yvGrG-Ndt4ud",
        "outputId": "de2410fd-280b-4c67-b438-672f9d9e5e88"
      },
      "outputs": [
        {
          "output_type": "stream",
          "name": "stdout",
          "text": [
            "각 클래스 빈도수:\n",
            "0: 55개\n",
            "1: 432개\n",
            "2: 74개\n",
            "3: 3159개\n",
            "4: 1949개\n",
            "5: 17개\n",
            "6: 48개\n",
            "7: 16개\n",
            "8: 139개\n",
            "9: 101개\n",
            "10: 124개\n",
            "11: 390개\n",
            "12: 49개\n",
            "13: 172개\n",
            "14: 26개\n",
            "15: 20개\n",
            "16: 444개\n",
            "17: 39개\n",
            "18: 66개\n",
            "19: 549개\n",
            "20: 269개\n",
            "21: 100개\n",
            "22: 15개\n",
            "23: 41개\n",
            "24: 62개\n",
            "25: 92개\n",
            "26: 24개\n",
            "27: 15개\n",
            "28: 48개\n",
            "29: 19개\n",
            "30: 45개\n",
            "31: 39개\n",
            "32: 32개\n",
            "33: 11개\n",
            "34: 50개\n",
            "35: 10개\n",
            "36: 49개\n",
            "37: 19개\n",
            "38: 19개\n",
            "39: 24개\n",
            "40: 36개\n",
            "41: 30개\n",
            "42: 13개\n",
            "43: 21개\n",
            "44: 12개\n",
            "45: 18개\n"
          ]
        }
      ],
      "source": [
        "unique_elements, counts_elements = np.unique(y_train, return_counts=True)\n",
        "print(\"각 클래스 빈도수:\")\n",
        "for i in range(0, 46):\n",
        "  print('{}: {}개'.format(unique_elements[i], counts_elements[i]))"
      ]
    },
    {
      "cell_type": "markdown",
      "metadata": {
        "id": "vPfNMYI5gNde"
      },
      "source": [
        "3번 레이블은 총 3,159개가 존재하고 4번 레이블은 총 1,949개가 존재하는 것을 확인할 수 있습니다."
      ]
    },
    {
      "cell_type": "markdown",
      "metadata": {
        "id": "Hh0BeB7mKdg6"
      },
      "source": [
        "# 로이터 뉴스 데이터 (2) 데이터 복원하기"
      ]
    },
    {
      "cell_type": "markdown",
      "metadata": {
        "id": "Rl9nH5B5Kf8C"
      },
      "source": [
        "이 데이터는 이미 어느 정도 전처리가 되어서 각 단어가 정수 시퀀스로 변환된 채 제공되고 있다"
      ]
    },
    {
      "cell_type": "code",
      "execution_count": 11,
      "metadata": {
        "id": "ON3XcfO-uQG8",
        "colab": {
          "base_uri": "https://localhost:8080/"
        },
        "outputId": "673e84ff-4747-4ec7-e95b-c3c8a0951230"
      },
      "outputs": [
        {
          "output_type": "stream",
          "name": "stdout",
          "text": [
            "Downloading data from https://storage.googleapis.com/tensorflow/tf-keras-datasets/reuters_word_index.json\n",
            "557056/550378 [==============================] - 0s 0us/step\n",
            "565248/550378 [==============================] - 0s 0us/step\n"
          ]
        }
      ],
      "source": [
        "word_index = reuters.get_word_index(path=\"reuters_word_index.json\")"
      ]
    },
    {
      "cell_type": "code",
      "execution_count": 12,
      "metadata": {
        "colab": {
          "base_uri": "https://localhost:8080/"
        },
        "id": "3TagKYuBKjO9",
        "outputId": "4a84c65f-3a01-4bfc-8c38-cc47f4cb6a24"
      },
      "outputs": [
        {
          "output_type": "execute_result",
          "data": {
            "text/plain": [
              "1"
            ]
          },
          "metadata": {},
          "execution_count": 12
        }
      ],
      "source": [
        "word_index['the']"
      ]
    },
    {
      "cell_type": "markdown",
      "metadata": {
        "id": "3Vf3bxCVKvWU"
      },
      "source": [
        "이 데이터에는 숨겨진 비밀이 하나 있는데, 뉴스 데이터 안에서 단어 'the'는 사실 1번이 아니라 4번 단어입니다. 그리고 단어 'it'은 사실 13번 단어가 아니라 16번 단어입니다. 다른 단어들도 마찬가지로 word_index에 입력으로 했을 때, 얻는 숫자보다는 +3을 한 숫자가 원래 고유한 숫자입니다. 이건 로이터 뉴스 데이터가 정의한 일종의 약속입니다."
      ]
    },
    {
      "cell_type": "markdown",
      "metadata": {
        "id": "w6EDlLqegt8S"
      },
      "source": [
        "가장 빈도수가 많은 레이블 2개를 확인해 보겠습니다."
      ]
    },
    {
      "cell_type": "code",
      "execution_count": 13,
      "metadata": {
        "colab": {
          "base_uri": "https://localhost:8080/"
        },
        "id": "rZky_BhiKucO",
        "outputId": "ab72478f-55cc-4d1d-9cc6-0f995a1d42fb"
      },
      "outputs": [
        {
          "output_type": "stream",
          "name": "stdout",
          "text": [
            "the\n"
          ]
        }
      ],
      "source": [
        "index_to_word = { index+3 : word for word, index in word_index.items() }\n",
        "print(index_to_word[4])"
      ]
    },
    {
      "cell_type": "code",
      "execution_count": 14,
      "metadata": {
        "colab": {
          "base_uri": "https://localhost:8080/"
        },
        "id": "wHe2lXkugWIr",
        "outputId": "8e186e81-bfec-432b-dcaf-da75192f0863"
      },
      "outputs": [
        {
          "output_type": "stream",
          "name": "stdout",
          "text": [
            "of\n"
          ]
        }
      ],
      "source": [
        "print(index_to_word[5])"
      ]
    },
    {
      "cell_type": "markdown",
      "metadata": {
        "id": "lAjyfLmNiCj9"
      },
      "source": [
        "확인 결과 빈도수가 많은 단어로 나온 the, of 는 보통 불용어로 분류됩니다."
      ]
    },
    {
      "cell_type": "markdown",
      "metadata": {
        "id": "u8CJLl8neAmW"
      },
      "source": [
        "0번, 1번, 2번은 사실 각각 `<pad>`, `<sos>`, `<unk>`라는 자연어 처리를 위한 특별한 토큰들을 위해 맵핑된 번호입니다."
      ]
    },
    {
      "cell_type": "code",
      "execution_count": 15,
      "metadata": {
        "id": "ipin89iweNS-"
      },
      "outputs": [],
      "source": [
        "for index, token in enumerate((\"<pad>\", \"<sos>\", \"<unk>\")):\n",
        "  index_to_word[index]=token"
      ]
    },
    {
      "cell_type": "code",
      "execution_count": 16,
      "metadata": {
        "colab": {
          "base_uri": "https://localhost:8080/"
        },
        "id": "UpBlZ2hQeO9O",
        "outputId": "3b530c3d-4e3c-44a3-eb84-16c4788e30a1"
      },
      "outputs": [
        {
          "output_type": "stream",
          "name": "stdout",
          "text": [
            "<sos> mcgrath rentcorp said as a result of its december acquisition of space co it expects earnings per share in 1987 of 1 15 to 1 30 dlrs per share up from 70 cts in 1986 the company said pretax net should rise to nine to 10 mln dlrs from six mln dlrs in 1986 and rental operation revenues to 19 to 22 mln dlrs from 12 5 mln dlrs it said cash flow per share this year should be 2 50 to three dlrs reuter 3\n"
          ]
        }
      ],
      "source": [
        "print(' '.join([index_to_word[index] for index in x_train[0]]))"
      ]
    },
    {
      "cell_type": "markdown",
      "metadata": {
        "id": "TSH6t9ZFh81A"
      },
      "source": [
        "num_words=10000"
      ]
    },
    {
      "cell_type": "markdown",
      "metadata": {
        "id": "M5oosQf0hIYG"
      },
      "source": [
        "![image.png](data:image/png;base64,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)"
      ]
    },
    {
      "cell_type": "markdown",
      "metadata": {
        "id": "nKX0DQUXihp2"
      },
      "source": [
        "기계가 알고 있는 단어들의 집합을 단어장(Vocabulary)이라고 합니다. 기계가 미처 배우지 못한 모르는 단어를 OOV(Out-Of-Vocabulary) 또는 UNK(Unknown) 이라고 표현합니다. 어떤 단어를 기계가 모르는 단어로 판단하면, 기계는 해당 단어를 전부 `<unk>`라는 일관된 특별 토큰으로 변환합니다."
      ]
    },
    {
      "cell_type": "markdown",
      "metadata": {
        "id": "F1DLBvwUhlXe"
      },
      "source": [
        "num_words로 주어진 값보다 큰 번호를 가졌던 단어들은 `<unk>`로 전부 맵핑이 됩니다. 하지만 위에서 num_words 값을 None으로 설정했기 때문에 `<unk>`가 존재하지 않습니다."
      ]
    },
    {
      "cell_type": "markdown",
      "metadata": {
        "id": "-QtCQ6I5jDRW"
      },
      "source": [
        "### 훈련용 뉴스 데이터 복원"
      ]
    },
    {
      "cell_type": "code",
      "execution_count": 17,
      "metadata": {
        "colab": {
          "base_uri": "https://localhost:8080/"
        },
        "id": "dpnyCln8eQ-e",
        "outputId": "b137636f-b1f9-4daa-8438-3ab5ccb0b32a"
      },
      "outputs": [
        {
          "output_type": "stream",
          "name": "stdout",
          "text": [
            "8982\n"
          ]
        }
      ],
      "source": [
        "decoded = []\n",
        "for i in range(len(x_train)):\n",
        "    t = ' '.join([index_to_word[index] for index in x_train[i]])\n",
        "    decoded.append(t)\n",
        "\n",
        "x_train = decoded\n",
        "print(len(x_train))"
      ]
    },
    {
      "cell_type": "markdown",
      "metadata": {
        "id": "HiBSzu-ojHD8"
      },
      "source": [
        "### 테스트 뉴스 데이터 복원"
      ]
    },
    {
      "cell_type": "code",
      "execution_count": 18,
      "metadata": {
        "colab": {
          "base_uri": "https://localhost:8080/"
        },
        "id": "XxemYm1qi0Nf",
        "outputId": "981edb4a-6f2f-438e-b48d-fe8c218214e0"
      },
      "outputs": [
        {
          "output_type": "stream",
          "name": "stdout",
          "text": [
            "2246\n"
          ]
        }
      ],
      "source": [
        "decoded = []\n",
        "for i in range(len(x_test)):\n",
        "    t = ' '.join([index_to_word[index] for index in x_test[i]])\n",
        "    decoded.append(t)\n",
        "\n",
        "x_test = decoded\n",
        "print(len(x_test))"
      ]
    },
    {
      "cell_type": "markdown",
      "metadata": {
        "id": "sjyKlT2ljWNo"
      },
      "source": [
        "### 데이터 확인"
      ]
    },
    {
      "cell_type": "code",
      "execution_count": 19,
      "metadata": {
        "colab": {
          "base_uri": "https://localhost:8080/"
        },
        "id": "pe3jk_iLjMX2",
        "outputId": "87aa3a6b-b61e-4b38-b275-3d62bef0ccd1"
      },
      "outputs": [
        {
          "output_type": "execute_result",
          "data": {
            "text/plain": [
              "['<sos> mcgrath rentcorp said as a result of its december acquisition of space co it expects earnings per share in 1987 of 1 15 to 1 30 dlrs per share up from 70 cts in 1986 the company said pretax net should rise to nine to 10 mln dlrs from six mln dlrs in 1986 and rental operation revenues to 19 to 22 mln dlrs from 12 5 mln dlrs it said cash flow per share this year should be 2 50 to three dlrs reuter 3',\n",
              " \"<sos> generale de banque sa lt genb br and lt heller overseas corp of chicago have each taken 50 pct stakes in factoring company sa belgo factors generale de banque said in a statement it gave no financial details of the transaction sa belgo factors' turnover in 1986 was 17 5 billion belgian francs reuter 3\",\n",
              " '<sos> shr 3 28 dlrs vs 22 cts shr diluted 2 99 dlrs vs 22 cts net 46 0 mln vs 3 328 000 avg shrs 14 0 mln vs 15 2 mln year shr 5 41 dlrs vs 1 56 dlrs shr diluted 4 94 dlrs vs 1 50 dlrs net 78 2 mln vs 25 9 mln avg shrs 14 5 mln vs 15 1 mln note earnings per share reflect the two for one split effective january 6 1987 per share amounts are calculated after preferred stock dividends loss continuing operations for the qtr 1986 includes gains of sale of investments in enron corp of 14 mln dlrs and associated companies of 4 189 000 less writedowns of investments in national intergroup inc of 11 8 mln and brae corp of 15 6 mln reuter 3',\n",
              " \"<sos> the farmers home administration the u s agriculture department's farm lending arm could lose about seven billion dlrs in outstanding principal on its severely delinquent borrowers or about one fourth of its farm loan portfolio the general accounting office gao said in remarks prepared for delivery to the senate agriculture committee brian crowley senior associate director of gao also said that a preliminary analysis of proposed changes in fmha's financial eligibility standards indicated as many as one half of fmha borrowers who received new loans from the agency in 1986 would be ineligible under the proposed system the agency has proposed evaluating applicants' credit using a variety of financial ratios instead of relying solely on cashflow ability senate agriculture committee chairman patrick leahy d vt slammed the proposed eligibility changes telling fmha administrator vance clark at a hearing that they would mark a dramatic shift in the agency's purpose away from being farmers' lender of last resort toward becoming a big city bank but clark defended the new regulations saying the agency had a responsibility to administer its 70 billion dlr loan portfolio in a compassionate yet judicious manner crowley of gao congress' investigative arm said the proposed credit scoring system attempted to ensure that fmha would make loans only to borrowers who had a reasonable change of repaying their debt reuter 3\",\n",
              " '<sos> seton co said its board has received a proposal from chairman and chief executive officer philip d kaltenbacher to acquire seton for 15 75 dlrs per share in cash seton said the acquisition bid is subject to kaltenbacher arranging the necessary financing it said he intends to ask other members of senior management to participate the company said kaltenbacher owns 30 pct of seton stock and other management members another 7 5 pct seton said it has formed an independent board committee to consider the offer and has deferred the annual meeting it had scheduled for march 31 reuter 3']"
            ]
          },
          "metadata": {},
          "execution_count": 19
        }
      ],
      "source": [
        "x_train[:5]"
      ]
    },
    {
      "cell_type": "code",
      "execution_count": 20,
      "metadata": {
        "colab": {
          "base_uri": "https://localhost:8080/"
        },
        "id": "176XSGFDjSFW",
        "outputId": "ff1a1a6e-4a04-4fb7-d4e1-7955af3720cb"
      },
      "outputs": [
        {
          "output_type": "execute_result",
          "data": {
            "text/plain": [
              "['<sos> the great atlantic and pacific tea co said its three year 345 mln dlr capital program will be be substantially increased to accommodate growth and expansion plans for waldbaum inc and shopwell inc over the next two years a and p said the acquisition of shopwell in august 1986 and waldbaum in december helped us achieve better than expected results in the fourth quarter ended february 28 its net income from continuing operations jumped 52 6 pct to 20 7 mln dlrs or 55 cts a share in the latest quarter as sales increased 48 3 pct to 1 58 billion dlrs a and p gave no details on the expanded capital program but it did say it completed the first year of the program during 1986 a and p is 52 4 pct owned by lt tengelmann warenhandelsgesellschaft of west germany reuter 3',\n",
              " \"<sos> philippine sugar production in the 1987 88 crop year ending august has been set at 1 6 mln tonnes up from a provisional 1 3 mln tonnes this year sugar regulatory administration sra chairman arsenio yulo said yulo told reuters a survey during the current milling season which ends next month showed the 1986 87 estimate would almost certainly be met he said at least 1 2 mln tonnes of the 1987 88 crop would be earmarked for domestic consumption yulo said about 130 000 tonnes would be set aside for the u s sugar quota 150 000 tonnes for strategic reserves and 50 000 tonnes would be sold on the world market he said if the government approved a long standing sra recommendation to manufacture ethanol the project would take up another 150 000 tonnes slightly raising the target the government for its own reasons has been delaying approval of the project but we expect it to come through by july yulo said ethanol could make up five pct of gasoline cutting the oil import bill by about 300 mln pesos yulo said three major philippine distilleries were ready to start manufacturing ethanol if the project was approved the ethanol project would result in employment for about 100 000 people sharply reducing those thrown out of work by depressed world sugar prices and a moribund domestic industry production quotas set for the first time in 1987 88 had been submitted to president corazon aquino i think the president would rather wait till the new congress convenes after the may elections he said but there is really no need for such quotas we are right now producing just slightly over our own consumption level the producers have never enjoyed such high prices yulo said adding sugar was currently selling locally for 320 pesos per picul up from 190 pesos last august yulo said prices were driven up because of speculation following the sra's bid to control production we are no longer concerned so much with the world market he said adding producers in the negros region had learned from their mistakes and diversified into corn and prawn farming and cloth production he said diversification into products other than ethanol was also possible within the sugar industry the brazilians long ago learnt their lessons yulo said they have 300 sugar mills compared with our 41 but they relocated many of them and diversified production we want to call this a 'sugarcane industry' instead of the sugar industry he said sugarcane could be fed to pigs and livestock used for thatching roofs or used in room panelling when you cut sugarcane you don't even have to produce sugar he said yulo said the philippines was lobbying for a renewal of the international sugar agreement which expired in 1984 as a major sugar producer we are urging them to write a new agreement which would revive world prices yulo said if there is no agreement world prices will always be depressed particularly because the european community is subsidising its producers and dumping sugar on the markets he said current world prices holding steady at about 7 60 cents per pound were uneconomical for the philippines where production costs ranged from 12 to 14 cents a pound if the price holds steady for a while at 7 60 cents i expect the level to rise to about 11 cents a pound by the end of this year he said yulo said economists forecast a bullish sugar market by 1990 with world consumption outstripping production he said sugar markets were holding up despite encroachments from artificial sweeteners and high fructose corn syrup but we are not happy with the reagan administration he said since 1935 we have been regular suppliers of sugar to the u s in 1982 when they restored the quota system they cut ours in half without any justification manila was keenly watching washington's moves to cut domestic support prices to 12 cents a pound from 18 cents the u s agriculture department last december slashed its 12 month 1987 sugar import quota from the philippines to 143 780 short tons from 231 660 short tons in 1986 yulo said despite next year's increased production target some philippine mills were expected to shut down at least four of the 41 mills were not working during the 1986 87 season he said we expect two or three more to follow suit during the next season reuter 3\",\n",
              " \"<sos> the agriculture department's widening of louisiana gulf differentials will affect county posted prices for number two yellow corn in ten states a usda official said all counties in iowa will be affected as will counties which use the gulf to price corn in illinois indiana tennessee kentucky missouri mississippi arkansas alabama and louisiana said ron burgess deputy director of commodity operations division for the usda usda last night notified the grain industry that effective immediately all gulf differentials used to price interior corn would be widened on a sliding scale basis of four to eight cts depending on what the differential is usda's action was taken to lower excessively high posted county prices for corn caused by high gulf prices we've been following this louisiana gulf situation for a month and we don't think it's going to get back in line in any nearby time burgess said burgess said usda will probably narrow back the gulf differentials when and if gulf prices recede if we're off the mark now because we're too high wouldn't we be as much off the mark if we're too low he said while forecasting more adjustments if gulf prices fall burgess said no other changes in usda's price system are being planned right now we don't tinker we don't make changes lightly and we don't make changes often he said reuter 3\",\n",
              " '<sos> graham mccormick oil and gas partnership said it completed the sale of interests in two major oil and gas fields to lt energy assets international corp for 21 mln dlrs the company said it sold about one half of its 50 pct interest in the oak hill and north rucias fields its two largest producing properties it said it used about 20 mln dlrs of the proceeds to prepay principal on its senior secured notes semi annual principal payments on the remaining 40 mln dlrs of notes have been satisfied until december 1988 as a result it said the company said the note agreements were amended to reflect an easing of some financial covenants and an increase of interest to 13 5 pct from 13 0 pct until december 1990 it said the noteholders exercise price for 1 125 000 warrants was also reduced to 50 cts from 1 50 dlrs the company said energy assets agreed to share the costs of increasing production at the oak hill field reuter 3',\n",
              " '<sos> strong south easterly winds were keeping many vessels trapped in the ice off the finnish and swedish coasts in one of the worst icy periods in the baltic for many years the finnish board of navigation said in finland and sweden up to 50 vessels were reported to be stuck in the ice and even the largest of the assisting icebreakers were having difficulties in breaking through to the stranded ships coastguard officials said however icy conditions in the southern baltic at the soviet oil ports of ventspils and klaipeda had eased they said weather officials in neighbouring sweden said the icy conditions in the baltic were the worst for 30 years with ships fighting a losing battle to keep moving in the coastal stretches of the gulf of bothnia which divides finland and sweden the ice is up to one metre thick with drifts and currents packing it into almost impenetrable walls three metres high swedish coastguard officials said weather forecasts say winds may ease during the weekend but a further drop in temperature could bring shipping to a standstill the officials said reuter 3']"
            ]
          },
          "metadata": {},
          "execution_count": 20
        }
      ],
      "source": [
        "x_test[:5]"
      ]
    },
    {
      "cell_type": "markdown",
      "metadata": {
        "id": "xyGXXlkLjcfO"
      },
      "source": [
        "# 벡터화 하기"
      ]
    },
    {
      "cell_type": "code",
      "execution_count": 21,
      "metadata": {
        "id": "qiLc8gmOjU3u"
      },
      "outputs": [],
      "source": [
        "from sklearn.feature_extraction.text import CountVectorizer\n",
        "from sklearn.feature_extraction.text import TfidfTransformer"
      ]
    },
    {
      "cell_type": "markdown",
      "metadata": {
        "id": "iwsLzog0kFwq"
      },
      "source": [
        "문서 단어 행렬(Document-Term Matrix, DTM)이란 다수의 문서에서 등장하는 각 단어들의 빈도를 행렬로 표현한 것을 말합니다."
      ]
    },
    {
      "cell_type": "markdown",
      "metadata": {
        "id": "cjY_cdLUkqCA"
      },
      "source": [
        "원-핫 벡터는 단어 집합의 크기가 벡터의 차원이 되고 대부분의 값이 0이 되는 벡터입니다. 원-핫 벡터는 공간적 낭비와 계산 리소스를 증가시킬 수 있다는 점에서 단점을 가집니다. 만약 가지고 있는 전체 코퍼스가 방대한 데이터라면 문서 벡터의 차원은 수만 이상의 차원을 가질 수도 있습니다. "
      ]
    },
    {
      "cell_type": "code",
      "execution_count": 22,
      "metadata": {
        "colab": {
          "base_uri": "https://localhost:8080/"
        },
        "id": "RbHvG8_RjhRG",
        "outputId": "050c70ae-33c4-4083-9b4c-543f7b04e2f7"
      },
      "outputs": [
        {
          "output_type": "stream",
          "name": "stdout",
          "text": [
            "(8982, 26506)\n"
          ]
        }
      ],
      "source": [
        "dtmvector = CountVectorizer()\n",
        "x_train_dtm = dtmvector.fit_transform(x_train)\n",
        "print(x_train_dtm.shape)"
      ]
    },
    {
      "cell_type": "markdown",
      "metadata": {
        "id": "X12rTiFMkQYQ"
      },
      "source": [
        "위에서 DTM의 shape를 확인했을 때 차원 수가 엄청 많은 것을 확인할 수 있습니다."
      ]
    },
    {
      "cell_type": "markdown",
      "metadata": {
        "id": "VtCPNSdFlCC7"
      },
      "source": [
        "그리고 두 번째 단점으로 단순 빈도 수 기반 접근이란 점이 있습니다. 앞에서 빈도수가 가장 높았던 단어는 the로 the는 어떤 문장이든 자주 등장할 수 밖에 없습니다. 그래서 단순 빈도 수 기반 접근으로는 이 문서들이 유사한 문서라고 판단할 수 없습니다."
      ]
    },
    {
      "cell_type": "markdown",
      "metadata": {
        "id": "lODJlCdhlqze"
      },
      "source": [
        "그래서 TF-IDF(Term Frequency-Inverse Document Frequency)는 단어의 빈도와 역 문서 빈도(문서의 빈도에 특정 식을 취함)를 사용하여 DTM 내의 각 단어들마다 중요한 정도를 가중치로 주는 방법을 사용해줍니다."
      ]
    },
    {
      "cell_type": "code",
      "execution_count": 23,
      "metadata": {
        "colab": {
          "base_uri": "https://localhost:8080/"
        },
        "id": "yWzAuR3cjn81",
        "outputId": "e73034aa-4068-4c63-97d4-53ee851e716f"
      },
      "outputs": [
        {
          "output_type": "stream",
          "name": "stdout",
          "text": [
            "(8982, 26506)\n"
          ]
        }
      ],
      "source": [
        "tfidf_transformer = TfidfTransformer()\n",
        "tfidfv = tfidf_transformer.fit_transform(x_train_dtm)\n",
        "print(tfidfv.shape)"
      ]
    },
    {
      "cell_type": "markdown",
      "metadata": {
        "id": "9TusWjanmTo0"
      },
      "source": [
        "추가적인 전처리를 하지 않아서 DTM과 크기는 동일합니다."
      ]
    },
    {
      "cell_type": "code",
      "execution_count": 24,
      "metadata": {
        "id": "NrAdSi2irX7L"
      },
      "outputs": [],
      "source": [
        "# test에 대한 document - term maxtrix, tfidf 생성\n",
        "x_test_dtm = dtmvector.transform(x_test) \n",
        "tfidfv_test = tfidf_transformer.transform(x_test_dtm) "
      ]
    },
    {
      "cell_type": "markdown",
      "metadata": {
        "id": "97BdKgmEmcWi"
      },
      "source": [
        "# 다양한 모델 사용하기"
      ]
    },
    {
      "cell_type": "code",
      "execution_count": 25,
      "metadata": {
        "id": "M8aWnx4VjvfG"
      },
      "outputs": [],
      "source": [
        "from sklearn.naive_bayes import MultinomialNB #다항분포 나이브 베이즈 모델\n",
        "from sklearn.linear_model import LogisticRegression, SGDClassifier\n",
        "from sklearn.naive_bayes import ComplementNB\n",
        "from sklearn.tree import DecisionTreeClassifier\n",
        "from sklearn.ensemble import RandomForestClassifier\n",
        "from sklearn.ensemble import GradientBoostingClassifier\n",
        "from sklearn.ensemble import VotingClassifier\n",
        "from sklearn.svm import LinearSVC"
      ]
    },
    {
      "cell_type": "markdown",
      "metadata": {
        "id": "Zhh_NHgco734"
      },
      "source": [
        "## 1. 나이브 베이즈 분류기"
      ]
    },
    {
      "cell_type": "code",
      "execution_count": 24,
      "metadata": {
        "id": "uiYIo2CcmvIv"
      },
      "outputs": [],
      "source": [
        "model_NB = MultinomialNB()"
      ]
    },
    {
      "cell_type": "code",
      "execution_count": 25,
      "metadata": {
        "colab": {
          "base_uri": "https://localhost:8080/"
        },
        "id": "RmI2F43proLu",
        "outputId": "85b1990c-6182-4737-8a64-b06e380b8324"
      },
      "outputs": [
        {
          "output_type": "stream",
          "name": "stdout",
          "text": [
            "정확도: 0.5997328584149599\n"
          ]
        }
      ],
      "source": [
        "model_NB.fit(tfidfv, y_train)\n",
        "predicted = model_NB.predict(tfidfv_test) #테스트 데이터에 대한 예측\n",
        "print(\"정확도:\", accuracy_score(y_test, predicted)) #예측값과 실제값 비교"
      ]
    },
    {
      "cell_type": "code",
      "execution_count": 26,
      "metadata": {
        "colab": {
          "base_uri": "https://localhost:8080/",
          "height": 90
        },
        "id": "x-iu7uGjr2yH",
        "outputId": "cdf49264-dafe-4b35-c9c6-7254be20c377"
      },
      "outputs": [
        {
          "output_type": "execute_result",
          "data": {
            "text/plain": [
              "'<sos> graham mccormick oil and gas partnership said it completed the sale of interests in two major oil and gas fields to lt energy assets international corp for 21 mln dlrs the company said it sold about one half of its 50 pct interest in the oak hill and north rucias fields its two largest producing properties it said it used about 20 mln dlrs of the proceeds to prepay principal on its senior secured notes semi annual principal payments on the remaining 40 mln dlrs of notes have been satisfied until december 1988 as a result it said the company said the note agreements were amended to reflect an easing of some financial covenants and an increase of interest to 13 5 pct from 13 0 pct until december 1990 it said the noteholders exercise price for 1 125 000 warrants was also reduced to 50 cts from 1 50 dlrs the company said energy assets agreed to share the costs of increasing production at the oak hill field reuter 3'"
            ],
            "application/vnd.google.colaboratory.intrinsic+json": {
              "type": "string"
            }
          },
          "metadata": {},
          "execution_count": 26
        }
      ],
      "source": [
        "x_test[3]"
      ]
    },
    {
      "cell_type": "code",
      "execution_count": 27,
      "metadata": {
        "colab": {
          "base_uri": "https://localhost:8080/"
        },
        "id": "kmNOAd1_tOtQ",
        "outputId": "8513d82c-e6f4-490f-ee15-afaecb99dea4"
      },
      "outputs": [
        {
          "output_type": "execute_result",
          "data": {
            "text/plain": [
              "4"
            ]
          },
          "metadata": {},
          "execution_count": 27
        }
      ],
      "source": [
        "y_test[3]"
      ]
    },
    {
      "cell_type": "code",
      "execution_count": 28,
      "metadata": {
        "colab": {
          "base_uri": "https://localhost:8080/",
          "height": 337
        },
        "id": "9EJQ1h_StQIn",
        "outputId": "b4869696-16e3-46ca-8a5b-f5187664e0ba"
      },
      "outputs": [
        {
          "output_type": "display_data",
          "data": {
            "text/plain": [
              "<Figure size 792x360 with 1 Axes>"
            ],
            "image/png": "[encoded data removed]"
          },
          "metadata": {
            "needs_background": "light"
          }
        }
      ],
      "source": [
        "probability_3 = model_NB.predict_proba(tfidfv_test[3])[0]\n",
        "\n",
        "plt.rcParams[\"figure.figsize\"] = (11,5)\n",
        "plt.bar(model_NB.classes_, probability_3)\n",
        "plt.xlim(-1, 21)\n",
        "plt.xticks(model_NB.classes_)\n",
        "plt.xlabel(\"Class\")\n",
        "plt.ylabel(\"Probability\")\n",
        "plt.show()"
      ]
    },
    {
      "cell_type": "code",
      "execution_count": 29,
      "metadata": {
        "colab": {
          "base_uri": "https://localhost:8080/"
        },
        "id": "zUCA8OqatTC_",
        "outputId": "1825ff76-d70c-4a15-853d-2ca7b71648ee"
      },
      "outputs": [
        {
          "output_type": "stream",
          "name": "stdout",
          "text": [
            "              precision    recall  f1-score   support\n",
            "\n",
            "           0       0.00      0.00      0.00        12\n",
            "           1       0.79      0.21      0.33       105\n",
            "           2       0.00      0.00      0.00        20\n",
            "           3       0.72      0.92      0.81       813\n",
            "           4       0.45      0.96      0.61       474\n",
            "           5       0.00      0.00      0.00         5\n",
            "           6       0.00      0.00      0.00        14\n",
            "           7       0.00      0.00      0.00         3\n",
            "           8       0.00      0.00      0.00        38\n",
            "           9       0.00      0.00      0.00        25\n",
            "          10       0.00      0.00      0.00        30\n",
            "          11       0.80      0.29      0.42        83\n",
            "          12       0.00      0.00      0.00        13\n",
            "          13       0.00      0.00      0.00        37\n",
            "          14       0.00      0.00      0.00         2\n",
            "          15       0.00      0.00      0.00         9\n",
            "          16       0.75      0.18      0.29        99\n",
            "          17       0.00      0.00      0.00        12\n",
            "          18       0.00      0.00      0.00        20\n",
            "          19       0.73      0.58      0.64       133\n",
            "          20       0.00      0.00      0.00        70\n",
            "          21       0.00      0.00      0.00        27\n",
            "          22       0.00      0.00      0.00         7\n",
            "          23       0.00      0.00      0.00        12\n",
            "          24       0.00      0.00      0.00        19\n",
            "          25       0.00      0.00      0.00        31\n",
            "          26       0.00      0.00      0.00         8\n",
            "          27       0.00      0.00      0.00         4\n",
            "          28       0.00      0.00      0.00        10\n",
            "          29       0.00      0.00      0.00         4\n",
            "          30       0.00      0.00      0.00        12\n",
            "          31       0.00      0.00      0.00        13\n",
            "          32       0.00      0.00      0.00        10\n",
            "          33       0.00      0.00      0.00         5\n",
            "          34       0.00      0.00      0.00         7\n",
            "          35       0.00      0.00      0.00         6\n",
            "          36       0.00      0.00      0.00        11\n",
            "          37       0.00      0.00      0.00         2\n",
            "          38       0.00      0.00      0.00         3\n",
            "          39       0.00      0.00      0.00         5\n",
            "          40       0.00      0.00      0.00        10\n",
            "          41       0.00      0.00      0.00         8\n",
            "          42       0.00      0.00      0.00         3\n",
            "          43       0.00      0.00      0.00         6\n",
            "          44       0.00      0.00      0.00         5\n",
            "          45       0.00      0.00      0.00         1\n",
            "\n",
            "    accuracy                           0.60      2246\n",
            "   macro avg       0.09      0.07      0.07      2246\n",
            "weighted avg       0.50      0.60      0.50      2246\n",
            "\n"
          ]
        }
      ],
      "source": [
        "print(classification_report(y_test, model_NB.predict(tfidfv_test), zero_division=0))"
      ]
    },
    {
      "cell_type": "code",
      "execution_count": 26,
      "metadata": {
        "id": "RLnX0aGqwewA"
      },
      "outputs": [],
      "source": [
        "def graph_confusion_matrix(model, x_test, y_test):#, classes_name):\n",
        "  df_cm = pd.DataFrame(confusion_matrix(y_test, model.predict(x_test)))#, index=classes_name, columns=classes_name)\n",
        "  fig = plt.figure(figsize=(12,12))\n",
        "  heatmap = sns.heatmap(df_cm, annot=True, fmt=\"d\")\n",
        "  heatmap.yaxis.set_ticklabels(heatmap.yaxis.get_ticklabels(), rotation=0, ha='right', fontsize=12)\n",
        "  heatmap.xaxis.set_ticklabels(heatmap.xaxis.get_ticklabels(), rotation=45, ha='right', fontsize=12)\n",
        "  plt.ylabel('label')\n",
        "  plt.xlabel('predicted value')"
      ]
    },
    {
      "cell_type": "code",
      "execution_count": 31,
      "metadata": {
        "colab": {
          "base_uri": "https://localhost:8080/",
          "height": 724
        },
        "id": "dPf8pIGRwm83",
        "outputId": "0a17b352-1b59-4e09-9ad2-70a7131acb27"
      },
      "outputs": [
        {
          "output_type": "display_data",
          "data": {
            "text/plain": [
              "<Figure size 864x864 with 2 Axes>"
            ],
            "image/png": "[encoded data removed]"
          },
          "metadata": {
            "needs_background": "light"
          }
        }
      ],
      "source": [
        "graph_confusion_matrix(model_NB, tfidfv_test, y_test)"
      ]
    },
    {
      "cell_type": "markdown",
      "metadata": {
        "id": "UtRMEEZWxGC_"
      },
      "source": [
        "## 2. Complement Naive Bayes Classifier(CNB)"
      ]
    },
    {
      "cell_type": "code",
      "execution_count": 32,
      "metadata": {
        "colab": {
          "base_uri": "https://localhost:8080/"
        },
        "id": "-Wp3rnHYwqVX",
        "outputId": "bcb259d5-9644-4e28-e6ec-e903a7602f8d"
      },
      "outputs": [
        {
          "output_type": "stream",
          "name": "stdout",
          "text": [
            "정확도: 0.7649154051647373\n"
          ]
        }
      ],
      "source": [
        "cb = ComplementNB()\n",
        "cb.fit(tfidfv, y_train)\n",
        "predicted = cb.predict(tfidfv_test) #테스트 데이터에 대한 예측\n",
        "print(\"정확도:\", accuracy_score(y_test, predicted)) #예측값과 실제값 비교"
      ]
    },
    {
      "cell_type": "markdown",
      "metadata": {
        "id": "hLKt4oI5xOMV"
      },
      "source": [
        "## 3. 로지스틱 회귀(Logistic Regression)"
      ]
    },
    {
      "cell_type": "code",
      "execution_count": 27,
      "metadata": {
        "colab": {
          "base_uri": "https://localhost:8080/"
        },
        "id": "JaPu2N1FxKso",
        "outputId": "9a94cf96-4398-4c7b-be26-693e11cef445"
      },
      "outputs": [
        {
          "output_type": "stream",
          "name": "stdout",
          "text": [
            "정확도: 0.813446126447017\n"
          ]
        },
        {
          "output_type": "stream",
          "name": "stderr",
          "text": [
            "/usr/local/lib/python3.7/dist-packages/sklearn/linear_model/_logistic.py:818: ConvergenceWarning: lbfgs failed to converge (status=1):\n",
            "STOP: TOTAL NO. of ITERATIONS REACHED LIMIT.\n",
            "\n",
            "Increase the number of iterations (max_iter) or scale the data as shown in:\n",
            "    https://scikit-learn.org/stable/modules/preprocessing.html\n",
            "Please also refer to the documentation for alternative solver options:\n",
            "    https://scikit-learn.org/stable/modules/linear_model.html#logistic-regression\n",
            "  extra_warning_msg=_LOGISTIC_SOLVER_CONVERGENCE_MSG,\n"
          ]
        }
      ],
      "source": [
        "lr = LogisticRegression(C=10000, penalty='l2')\n",
        "lr.fit(tfidfv, y_train)\n",
        "predicted = lr.predict(tfidfv_test) #테스트 데이터에 대한 예측\n",
        "print(\"정확도:\", accuracy_score(y_test, predicted)) #예측값과 실제값 비교"
      ]
    },
    {
      "cell_type": "code",
      "source": [
        "print(classification_report(y_test, lr.predict(tfidfv_test), zero_division=0))"
      ],
      "metadata": {
        "colab": {
          "base_uri": "https://localhost:8080/"
        },
        "id": "lSQHVxCRUNTe",
        "outputId": "b1ee791b-abad-47d2-adb8-e5521467fea5"
      },
      "execution_count": 28,
      "outputs": [
        {
          "output_type": "stream",
          "name": "stdout",
          "text": [
            "              precision    recall  f1-score   support\n",
            "\n",
            "           0       0.89      0.67      0.76        12\n",
            "           1       0.75      0.80      0.77       105\n",
            "           2       0.70      0.70      0.70        20\n",
            "           3       0.93      0.93      0.93       813\n",
            "           4       0.81      0.87      0.84       474\n",
            "           5       1.00      0.20      0.33         5\n",
            "           6       0.93      1.00      0.97        14\n",
            "           7       1.00      0.67      0.80         3\n",
            "           8       0.68      0.71      0.69        38\n",
            "           9       0.81      0.88      0.85        25\n",
            "          10       0.93      0.87      0.90        30\n",
            "          11       0.66      0.73      0.70        83\n",
            "          12       0.57      0.31      0.40        13\n",
            "          13       0.61      0.62      0.61        37\n",
            "          14       0.67      1.00      0.80         2\n",
            "          15       0.71      0.56      0.63         9\n",
            "          16       0.71      0.77      0.74        99\n",
            "          17       0.67      0.50      0.57        12\n",
            "          18       0.76      0.65      0.70        20\n",
            "          19       0.69      0.70      0.69       133\n",
            "          20       0.60      0.49      0.54        70\n",
            "          21       0.63      0.81      0.71        27\n",
            "          22       0.00      0.00      0.00         7\n",
            "          23       0.69      0.75      0.72        12\n",
            "          24       0.62      0.53      0.57        19\n",
            "          25       0.92      0.74      0.82        31\n",
            "          26       1.00      0.88      0.93         8\n",
            "          27       1.00      0.25      0.40         4\n",
            "          28       0.75      0.30      0.43        10\n",
            "          29       0.57      1.00      0.73         4\n",
            "          30       0.89      0.67      0.76        12\n",
            "          31       0.75      0.46      0.57        13\n",
            "          32       1.00      0.80      0.89        10\n",
            "          33       0.80      0.80      0.80         5\n",
            "          34       1.00      0.29      0.44         7\n",
            "          35       1.00      0.33      0.50         6\n",
            "          36       0.42      0.45      0.43        11\n",
            "          37       0.50      0.50      0.50         2\n",
            "          38       0.50      0.33      0.40         3\n",
            "          39       0.50      0.40      0.44         5\n",
            "          40       1.00      0.30      0.46        10\n",
            "          41       0.83      0.62      0.71         8\n",
            "          42       1.00      1.00      1.00         3\n",
            "          43       0.86      1.00      0.92         6\n",
            "          44       0.67      0.80      0.73         5\n",
            "          45       1.00      1.00      1.00         1\n",
            "\n",
            "    accuracy                           0.81      2246\n",
            "   macro avg       0.76      0.64      0.67      2246\n",
            "weighted avg       0.81      0.81      0.81      2246\n",
            "\n"
          ]
        }
      ]
    },
    {
      "cell_type": "code",
      "source": [
        "graph_confusion_matrix(lr, tfidfv_test, y_test)"
      ],
      "metadata": {
        "colab": {
          "base_uri": "https://localhost:8080/",
          "height": 724
        },
        "id": "oRk8Y0N1IKKr",
        "outputId": "8a4327a2-e801-4ef4-c24a-889251c936db"
      },
      "execution_count": 34,
      "outputs": [
        {
          "output_type": "display_data",
          "data": {
            "text/plain": [
              "<Figure size 864x864 with 2 Axes>"
            ],
            "image/png": "[encoded data removed]"
          },
          "metadata": {
            "needs_background": "light"
          }
        }
      ]
    },
    {
      "cell_type": "markdown",
      "metadata": {
        "id": "QIH2X0MoxVAU"
      },
      "source": [
        "## 4. 선형 서포트 벡터 머신(Linear Support Vector Machine)"
      ]
    },
    {
      "cell_type": "code",
      "execution_count": null,
      "metadata": {
        "colab": {
          "base_uri": "https://localhost:8080/"
        },
        "id": "T0hVYWVVxUGP",
        "outputId": "e182b125-c8a2-471a-fd61-2133799ec78a"
      },
      "outputs": [
        {
          "output_type": "stream",
          "name": "stdout",
          "text": [
            "정확도: 0.7871772039180766\n"
          ]
        },
        {
          "output_type": "stream",
          "name": "stderr",
          "text": [
            "/usr/local/lib/python3.7/dist-packages/sklearn/svm/_base.py:1208: ConvergenceWarning: Liblinear failed to converge, increase the number of iterations.\n",
            "  ConvergenceWarning,\n"
          ]
        }
      ],
      "source": [
        "lsvc = LinearSVC(C=1000, penalty='l1', max_iter=500, dual=False)\n",
        "lsvc.fit(tfidfv, y_train)\n",
        "predicted = lsvc.predict(tfidfv_test) #테스트 데이터에 대한 예측\n",
        "print(\"정확도:\", accuracy_score(y_test, predicted)) #예측값과 실제값 비교"
      ]
    },
    {
      "cell_type": "markdown",
      "metadata": {
        "id": "4mgOUyLVxr0l"
      },
      "source": [
        "## 5. 결정 트리(Decision Tree)"
      ]
    },
    {
      "cell_type": "code",
      "execution_count": 35,
      "metadata": {
        "colab": {
          "base_uri": "https://localhost:8080/"
        },
        "id": "VTEiTCIcxo6w",
        "outputId": "002b1b2f-ff9b-4de6-a60a-8b34b95d99f4"
      },
      "outputs": [
        {
          "output_type": "stream",
          "name": "stdout",
          "text": [
            "정확도: 0.6211041852181657\n"
          ]
        }
      ],
      "source": [
        "tree = DecisionTreeClassifier(max_depth=10, random_state=0)\n",
        "tree.fit(tfidfv, y_train)\n",
        "predicted = tree.predict(tfidfv_test) #테스트 데이터에 대한 예측\n",
        "print(\"정확도:\", accuracy_score(y_test, predicted)) #예측값과 실제값 비교"
      ]
    },
    {
      "cell_type": "code",
      "source": [
        "graph_confusion_matrix(tree, tfidfv_test, y_test)"
      ],
      "metadata": {
        "colab": {
          "base_uri": "https://localhost:8080/",
          "height": 724
        },
        "id": "uNW7LEnEIlKE",
        "outputId": "11b0bc84-f3ed-484b-e25d-04c4285d4c4a"
      },
      "execution_count": 36,
      "outputs": [
        {
          "output_type": "display_data",
          "data": {
            "text/plain": [
              "<Figure size 864x864 with 2 Axes>"
            ],
            "image/png": "[encoded data removed]"
          },
          "metadata": {
            "needs_background": "light"
          }
        }
      ]
    },
    {
      "cell_type": "markdown",
      "metadata": {
        "id": "qV9ON7PZx1lx"
      },
      "source": [
        "## 6. 랜덤 포레스트(Random Forest)"
      ]
    },
    {
      "cell_type": "code",
      "execution_count": null,
      "metadata": {
        "colab": {
          "base_uri": "https://localhost:8080/"
        },
        "id": "vgeISwR1x06H",
        "outputId": "03023908-dbf0-4959-da4b-4fe2b9c01c05"
      },
      "outputs": [
        {
          "output_type": "stream",
          "name": "stdout",
          "text": [
            "정확도: 0.6544968833481746\n"
          ]
        }
      ],
      "source": [
        "forest = RandomForestClassifier(n_estimators=5, random_state=0)\n",
        "forest.fit(tfidfv, y_train)\n",
        "predicted = forest.predict(tfidfv_test) #테스트 데이터에 대한 예측\n",
        "print(\"정확도:\", accuracy_score(y_test, predicted)) #예측값과 실제값 비교"
      ]
    },
    {
      "cell_type": "markdown",
      "metadata": {
        "id": "ZgKsDR23x7VX"
      },
      "source": [
        "## 7. 그래디언트 부스팅 트리(GradientBoostingClassifier)"
      ]
    },
    {
      "cell_type": "code",
      "execution_count": null,
      "metadata": {
        "colab": {
          "base_uri": "https://localhost:8080/"
        },
        "id": "1pTtbALcx6TP",
        "outputId": "72d1d43c-8a51-4fc0-fc15-b04cc5bba384"
      },
      "outputs": [
        {
          "output_type": "stream",
          "name": "stdout",
          "text": [
            "정확도: 0.7702582368655387\n"
          ]
        }
      ],
      "source": [
        "grbt = GradientBoostingClassifier(random_state=0) # verbose=3\n",
        "grbt.fit(tfidfv, y_train)\n",
        "predicted = grbt.predict(tfidfv_test) #테스트 데이터에 대한 예측\n",
        "print(\"정확도:\", accuracy_score(y_test, predicted)) #예측값과 실제값 비교"
      ]
    },
    {
      "cell_type": "markdown",
      "metadata": {
        "id": "giMKeuFQyGge"
      },
      "source": [
        "## 8. 보팅(Voting)"
      ]
    },
    {
      "cell_type": "code",
      "execution_count": null,
      "metadata": {
        "colab": {
          "base_uri": "https://localhost:8080/"
        },
        "id": "XU4ah-43yDq4",
        "outputId": "f14f072e-ee4b-4b17-fb54-0b2fb7eb7046"
      },
      "outputs": [
        {
          "output_type": "execute_result",
          "data": {
            "text/plain": [
              "VotingClassifier(estimators=[('lr', LogisticRegression(C=10000)),\n",
              "                             ('cb', ComplementNB()),\n",
              "                             ('grbt',\n",
              "                              GradientBoostingClassifier(random_state=0))],\n",
              "                 n_jobs=-1, voting='soft')"
            ]
          },
          "metadata": {},
          "execution_count": 38
        }
      ],
      "source": [
        "voting_classifier = VotingClassifier(estimators=[\n",
        "         ('lr', LogisticRegression(C=10000, penalty='l2')),\n",
        "        ('cb', ComplementNB()),\n",
        "        ('grbt', GradientBoostingClassifier(random_state=0))\n",
        "], voting='soft', n_jobs=-1)\n",
        "voting_classifier.fit(tfidfv, y_train)"
      ]
    },
    {
      "cell_type": "code",
      "execution_count": null,
      "metadata": {
        "colab": {
          "base_uri": "https://localhost:8080/"
        },
        "id": "DHPYDxUsyM67",
        "outputId": "635da665-b0af-42a6-b464-da9391b094ad"
      },
      "outputs": [
        {
          "output_type": "stream",
          "name": "stdout",
          "text": [
            "정확도: 0.8187889581478184\n"
          ]
        }
      ],
      "source": [
        "predicted = voting_classifier.predict(tfidfv_test) #테스트 데이터에 대한 예측\n",
        "print(\"정확도:\", accuracy_score(y_test, predicted)) #예측값과 실제값 비교"
      ]
    },
    {
      "cell_type": "markdown",
      "metadata": {
        "id": "9hJWDuUP9GGz"
      },
      "source": [
        "# num_words 변경해보기"
      ]
    },
    {
      "cell_type": "code",
      "execution_count": null,
      "metadata": {
        "id": "tdYawFHm9fTa"
      },
      "outputs": [],
      "source": [
        "def data_load(num_words):\n",
        "  (x_train, y_train), (x_test, y_test) = reuters.load_data(num_words=num_words, test_split=0.2)\n",
        "\n",
        "  word_index = reuters.get_word_index(path=\"reuters_word_index.json\")\n",
        "  index_to_word = { index+3 : word for word, index in word_index.items() }\n",
        "  for index, token in enumerate((\"<pad>\", \"<sos>\", \"<unk>\")):\n",
        "    index_to_word[index]=token\n",
        "\n",
        "  train_decoded = []\n",
        "  for i in range(len(x_train)):\n",
        "      t = ' '.join([index_to_word[index] for index in x_train[i]])\n",
        "      train_decoded.append(t)\n",
        "\n",
        "  x_train = train_decoded\n",
        "\n",
        "  test_decoded = []\n",
        "  for i in range(len(x_test)):\n",
        "      t = ' '.join([index_to_word[index] for index in x_test[i]])\n",
        "      test_decoded.append(t)\n",
        "\n",
        "  x_test = test_decoded\n",
        "\n",
        "  dtmvector = CountVectorizer()\n",
        "  x_train_dtm = dtmvector.fit_transform(x_train)\n",
        "\n",
        "  tfidf_transformer = TfidfTransformer()\n",
        "  tfidfv = tfidf_transformer.fit_transform(x_train_dtm)\n",
        "\n",
        "  x_test_dtm = dtmvector.transform(x_test)\n",
        "  tfidfv_test = tfidf_transformer.transform(x_test_dtm)\n",
        "\n",
        "  return tfidfv, y_train, tfidfv_test, y_test"
      ]
    },
    {
      "cell_type": "markdown",
      "metadata": {
        "id": "J07F_r2A9ZJ2"
      },
      "source": [
        "## 1. num_words=5000 "
      ]
    },
    {
      "cell_type": "code",
      "execution_count": null,
      "metadata": {
        "id": "bea8LT123hfW"
      },
      "outputs": [],
      "source": [
        "tfidfv, y_train, tfidfv_test, y_test = data_load(5000)"
      ]
    },
    {
      "cell_type": "code",
      "execution_count": null,
      "metadata": {
        "colab": {
          "base_uri": "https://localhost:8080/"
        },
        "id": "5pI24mkT_SbQ",
        "outputId": "6bc68888-fc57-4f08-f54b-58a47224a00b"
      },
      "outputs": [
        {
          "output_type": "execute_result",
          "data": {
            "text/plain": [
              "(8982, 4867)"
            ]
          },
          "metadata": {},
          "execution_count": 42
        }
      ],
      "source": [
        "tfidfv.shape"
      ]
    },
    {
      "cell_type": "code",
      "execution_count": null,
      "metadata": {
        "colab": {
          "base_uri": "https://localhost:8080/"
        },
        "id": "w-D1Dlmhw5ZY",
        "outputId": "bf82ab41-7eec-4ee0-ef1e-0d3e98503b8b"
      },
      "outputs": [
        {
          "output_type": "stream",
          "name": "stdout",
          "text": [
            "나이브 베이즈 분류기 정확도: 0.6731967943009796\n",
            "\n",
            "Complement Naive Bayes Classifier(CNB) 정확도: 0.7707034728406055\n",
            "\n"
          ]
        },
        {
          "output_type": "stream",
          "name": "stderr",
          "text": [
            "/usr/local/lib/python3.7/dist-packages/sklearn/linear_model/_logistic.py:818: ConvergenceWarning: lbfgs failed to converge (status=1):\n",
            "STOP: TOTAL NO. of ITERATIONS REACHED LIMIT.\n",
            "\n",
            "Increase the number of iterations (max_iter) or scale the data as shown in:\n",
            "    https://scikit-learn.org/stable/modules/preprocessing.html\n",
            "Please also refer to the documentation for alternative solver options:\n",
            "    https://scikit-learn.org/stable/modules/linear_model.html#logistic-regression\n",
            "  extra_warning_msg=_LOGISTIC_SOLVER_CONVERGENCE_MSG,\n"
          ]
        },
        {
          "output_type": "stream",
          "name": "stdout",
          "text": [
            "로지스틱 회귀(Logistic Regression) 정확도: 0.8058771148708815\n",
            "\n"
          ]
        },
        {
          "output_type": "stream",
          "name": "stderr",
          "text": [
            "/usr/local/lib/python3.7/dist-packages/sklearn/svm/_base.py:1208: ConvergenceWarning: Liblinear failed to converge, increase the number of iterations.\n",
            "  ConvergenceWarning,\n"
          ]
        },
        {
          "output_type": "stream",
          "name": "stdout",
          "text": [
            "서포트 벡터 머신(SVM) 정확도: 0.7604630454140695\n",
            "\n",
            "결정 트리(Decision Tree) 정확도: 0.6179875333926982\n",
            "\n",
            "랜덤 포레스트(Random Forest) 정확도: 0.701246660730187\n",
            "\n",
            "그래디언트 부스팅 트리(GradientBoostingClassifier) 정확도: 0.767586821015138\n"
          ]
        }
      ],
      "source": [
        "model_NB.fit(tfidfv, y_train)\n",
        "predicted_n = model_NB.predict(tfidfv_test) \n",
        "print(\"나이브 베이즈 분류기 정확도:\", accuracy_score(y_test, predicted_n))\n",
        "print()\n",
        "\n",
        "cb.fit(tfidfv, y_train)\n",
        "predicted_c = cb.predict(tfidfv_test)\n",
        "print(\"Complement Naive Bayes Classifier(CNB) 정확도:\", accuracy_score(y_test, predicted_c))\n",
        "print()\n",
        "\n",
        "lr.fit(tfidfv, y_train)\n",
        "predicted_l = lr.predict(tfidfv_test)\n",
        "print(\"로지스틱 회귀(Logistic Regression) 정확도:\", accuracy_score(y_test, predicted_l))\n",
        "print()\n",
        "\n",
        "lsvc.fit(tfidfv, y_train)\n",
        "predicted_ls = lsvc.predict(tfidfv_test)\n",
        "print(\"서포트 벡터 머신(SVM) 정확도:\", accuracy_score(y_test, predicted_ls))\n",
        "print()\n",
        "\n",
        "tree.fit(tfidfv, y_train)\n",
        "predicted_t = tree.predict(tfidfv_test)\n",
        "print(\"결정 트리(Decision Tree) 정확도:\", accuracy_score(y_test, predicted_t))\n",
        "print()\n",
        "\n",
        "forest.fit(tfidfv, y_train)\n",
        "predicted_f = forest.predict(tfidfv_test)\n",
        "print(\"랜덤 포레스트(Random Forest) 정확도:\", accuracy_score(y_test, predicted_f))\n",
        "print()\n",
        "\n",
        "grbt.fit(tfidfv, y_train)\n",
        "predicted_gb = grbt.predict(tfidfv_test)\n",
        "print(\"그래디언트 부스팅 트리(GradientBoostingClassifier) 정확도:\", accuracy_score(y_test, predicted_gb))"
      ]
    },
    {
      "cell_type": "code",
      "execution_count": null,
      "metadata": {
        "colab": {
          "base_uri": "https://localhost:8080/"
        },
        "id": "6o7arNy8UXb7",
        "outputId": "e22eb25a-319f-4773-8f23-4c94c4c67921"
      },
      "outputs": [
        {
          "output_type": "execute_result",
          "data": {
            "text/plain": [
              "VotingClassifier(estimators=[('lr', LogisticRegression(C=10000)),\n",
              "                             ('cb', ComplementNB()),\n",
              "                             ('grbt',\n",
              "                              GradientBoostingClassifier(random_state=0))],\n",
              "                 n_jobs=-1, voting='soft')"
            ]
          },
          "metadata": {},
          "execution_count": 44
        }
      ],
      "source": [
        "voting_classifier = VotingClassifier(estimators=[\n",
        "         ('lr', LogisticRegression(C=10000, penalty='l2')),\n",
        "        ('cb', ComplementNB()),\n",
        "        ('grbt', GradientBoostingClassifier(random_state=0))\n",
        "], voting='soft', n_jobs=-1)\n",
        "voting_classifier.fit(tfidfv, y_train)"
      ]
    },
    {
      "cell_type": "code",
      "execution_count": null,
      "metadata": {
        "colab": {
          "base_uri": "https://localhost:8080/"
        },
        "id": "eC2vk9Ulhunj",
        "outputId": "1e4a4bf7-cbf9-4ae9-fb22-eb5c3a7e7c82"
      },
      "outputs": [
        {
          "output_type": "stream",
          "name": "stdout",
          "text": [
            "Voting 정확도: 0.8161175422974176\n"
          ]
        }
      ],
      "source": [
        "predicted = voting_classifier.predict(tfidfv_test) #테스트 데이터에 대한 예측\n",
        "print(\"Voting 정확도:\", accuracy_score(y_test, predicted)) #예측값과 실제값 비교"
      ]
    },
    {
      "cell_type": "markdown",
      "metadata": {
        "id": "H70I_rRWfVyE"
      },
      "source": [
        "## 2. num_words=10000"
      ]
    },
    {
      "cell_type": "code",
      "execution_count": null,
      "metadata": {
        "id": "FZh-9agBfkbJ"
      },
      "outputs": [],
      "source": [
        "tfidfv, y_train, tfidfv_test, y_test = data_load(10000)"
      ]
    },
    {
      "cell_type": "code",
      "execution_count": null,
      "metadata": {
        "colab": {
          "base_uri": "https://localhost:8080/"
        },
        "id": "OBwyyrkvfl-Y",
        "outputId": "b3f4b337-0168-4066-8756-e843f2fa7fc8"
      },
      "outputs": [
        {
          "output_type": "execute_result",
          "data": {
            "text/plain": [
              "(8982, 9670)"
            ]
          },
          "metadata": {},
          "execution_count": 48
        }
      ],
      "source": [
        "tfidfv.shape"
      ]
    },
    {
      "cell_type": "code",
      "execution_count": null,
      "metadata": {
        "colab": {
          "base_uri": "https://localhost:8080/"
        },
        "id": "3CBzIPHfrGYk",
        "outputId": "75c6b6c7-223e-42b7-b6cd-1e8abd6bac78"
      },
      "outputs": [
        {
          "output_type": "stream",
          "name": "stdout",
          "text": [
            "나이브 베이즈 분류기 정확도: 0.6567230632235085\n",
            "\n",
            "Complement Naive Bayes Classifier(CNB) 정확도: 0.7707034728406055\n",
            "\n"
          ]
        },
        {
          "output_type": "stream",
          "name": "stderr",
          "text": [
            "/usr/local/lib/python3.7/dist-packages/sklearn/linear_model/_logistic.py:818: ConvergenceWarning: lbfgs failed to converge (status=1):\n",
            "STOP: TOTAL NO. of ITERATIONS REACHED LIMIT.\n",
            "\n",
            "Increase the number of iterations (max_iter) or scale the data as shown in:\n",
            "    https://scikit-learn.org/stable/modules/preprocessing.html\n",
            "Please also refer to the documentation for alternative solver options:\n",
            "    https://scikit-learn.org/stable/modules/linear_model.html#logistic-regression\n",
            "  extra_warning_msg=_LOGISTIC_SOLVER_CONVERGENCE_MSG,\n"
          ]
        },
        {
          "output_type": "stream",
          "name": "stdout",
          "text": [
            "로지스틱 회귀(Logistic Regression) 정확도: 0.8076580587711487\n",
            "\n"
          ]
        },
        {
          "output_type": "stream",
          "name": "stderr",
          "text": [
            "/usr/local/lib/python3.7/dist-packages/sklearn/svm/_base.py:1208: ConvergenceWarning: Liblinear failed to converge, increase the number of iterations.\n",
            "  ConvergenceWarning,\n"
          ]
        },
        {
          "output_type": "stream",
          "name": "stdout",
          "text": [
            "서포트 벡터 머신(SVM) 정확도: 0.7689225289403384\n",
            "\n",
            "결정 트리(Decision Tree) 정확도: 0.6202137132680321\n",
            "\n",
            "랜덤 포레스트(Random Forest) 정확도: 0.674087266251113\n",
            "\n",
            "그래디언트 부스팅 트리(GradientBoostingClassifier) 정확도: 0.7662511130899377\n"
          ]
        }
      ],
      "source": [
        "model_NB.fit(tfidfv, y_train)\n",
        "predicted_n = model_NB.predict(tfidfv_test) \n",
        "print(\"나이브 베이즈 분류기 정확도:\", accuracy_score(y_test, predicted_n))\n",
        "print()\n",
        "\n",
        "cb.fit(tfidfv, y_train)\n",
        "predicted_c = cb.predict(tfidfv_test)\n",
        "print(\"Complement Naive Bayes Classifier(CNB) 정확도:\", accuracy_score(y_test, predicted_c))\n",
        "print()\n",
        "\n",
        "lr.fit(tfidfv, y_train)\n",
        "predicted_l = lr.predict(tfidfv_test)\n",
        "print(\"로지스틱 회귀(Logistic Regression) 정확도:\", accuracy_score(y_test, predicted_l))\n",
        "print()\n",
        "\n",
        "lsvc.fit(tfidfv, y_train)\n",
        "predicted_ls = lsvc.predict(tfidfv_test)\n",
        "print(\"서포트 벡터 머신(SVM) 정확도:\", accuracy_score(y_test, predicted_ls))\n",
        "print()\n",
        "\n",
        "tree.fit(tfidfv, y_train)\n",
        "predicted_t = tree.predict(tfidfv_test)\n",
        "print(\"결정 트리(Decision Tree) 정확도:\", accuracy_score(y_test, predicted_t))\n",
        "print()\n",
        "\n",
        "forest.fit(tfidfv, y_train)\n",
        "predicted_f = forest.predict(tfidfv_test)\n",
        "print(\"랜덤 포레스트(Random Forest) 정확도:\", accuracy_score(y_test, predicted_f))\n",
        "print()\n",
        "\n",
        "grbt.fit(tfidfv, y_train)\n",
        "predicted_gb = grbt.predict(tfidfv_test)\n",
        "print(\"그래디언트 부스팅 트리(GradientBoostingClassifier) 정확도:\", accuracy_score(y_test, predicted_gb))"
      ]
    },
    {
      "cell_type": "code",
      "execution_count": null,
      "metadata": {
        "colab": {
          "base_uri": "https://localhost:8080/"
        },
        "id": "bpXdUv1OiF_M",
        "outputId": "c0946aa5-2312-4f0f-b644-bc9aae82aa8d"
      },
      "outputs": [
        {
          "output_type": "execute_result",
          "data": {
            "text/plain": [
              "VotingClassifier(estimators=[('lr', LogisticRegression(C=10000)),\n",
              "                             ('cb', ComplementNB()),\n",
              "                             ('grbt',\n",
              "                              GradientBoostingClassifier(random_state=0))],\n",
              "                 n_jobs=-1, voting='soft')"
            ]
          },
          "metadata": {},
          "execution_count": 50
        }
      ],
      "source": [
        "voting_classifier = VotingClassifier(estimators=[\n",
        "         ('lr', LogisticRegression(C=10000, penalty='l2')),\n",
        "        ('cb', ComplementNB()),\n",
        "        ('grbt', GradientBoostingClassifier(random_state=0))\n",
        "], voting='soft', n_jobs=-1)\n",
        "voting_classifier.fit(tfidfv, y_train)"
      ]
    },
    {
      "cell_type": "code",
      "execution_count": null,
      "metadata": {
        "colab": {
          "base_uri": "https://localhost:8080/"
        },
        "id": "u87RHxT8iIcd",
        "outputId": "0da2a1ac-a3eb-4eb9-840d-98435ad72847"
      },
      "outputs": [
        {
          "output_type": "stream",
          "name": "stdout",
          "text": [
            "Voting 정확도: 0.8116651825467498\n"
          ]
        }
      ],
      "source": [
        "predicted = voting_classifier.predict(tfidfv_test) #테스트 데이터에 대한 예측\n",
        "print(\"Voting 정확도:\", accuracy_score(y_test, predicted)) #예측값과 실제값 비교"
      ]
    },
    {
      "cell_type": "markdown",
      "metadata": {
        "id": "iTUB8XcvxJhj"
      },
      "source": [
        "## 3. num_words=20000"
      ]
    },
    {
      "cell_type": "code",
      "execution_count": null,
      "metadata": {
        "id": "FZylCSxVxI77"
      },
      "outputs": [],
      "source": [
        "tfidfv, y_train, tfidfv_test, y_test = data_load(20000)"
      ]
    },
    {
      "cell_type": "code",
      "execution_count": null,
      "metadata": {
        "colab": {
          "base_uri": "https://localhost:8080/"
        },
        "id": "ptCiFIaaxdQN",
        "outputId": "6e4fc790-fa91-444d-be8f-555562646963"
      },
      "outputs": [
        {
          "output_type": "execute_result",
          "data": {
            "text/plain": [
              "(8982, 18479)"
            ]
          },
          "metadata": {},
          "execution_count": 53
        }
      ],
      "source": [
        "tfidfv.shape"
      ]
    },
    {
      "cell_type": "code",
      "execution_count": null,
      "metadata": {
        "colab": {
          "base_uri": "https://localhost:8080/"
        },
        "id": "bCKfXjADxe19",
        "outputId": "a7a6931c-cd01-4304-ba34-9c331adf2b92"
      },
      "outputs": [
        {
          "output_type": "stream",
          "name": "stdout",
          "text": [
            "나이브 베이즈 분류기 정확도: 0.6193232413178985\n",
            "\n",
            "Complement Naive Bayes Classifier(CNB) 정확도: 0.7671415850400712\n",
            "\n"
          ]
        },
        {
          "output_type": "stream",
          "name": "stderr",
          "text": [
            "/usr/local/lib/python3.7/dist-packages/sklearn/linear_model/_logistic.py:818: ConvergenceWarning: lbfgs failed to converge (status=1):\n",
            "STOP: TOTAL NO. of ITERATIONS REACHED LIMIT.\n",
            "\n",
            "Increase the number of iterations (max_iter) or scale the data as shown in:\n",
            "    https://scikit-learn.org/stable/modules/preprocessing.html\n",
            "Please also refer to the documentation for alternative solver options:\n",
            "    https://scikit-learn.org/stable/modules/linear_model.html#logistic-regression\n",
            "  extra_warning_msg=_LOGISTIC_SOLVER_CONVERGENCE_MSG,\n"
          ]
        },
        {
          "output_type": "stream",
          "name": "stdout",
          "text": [
            "로지스틱 회귀(Logistic Regression) 정확도: 0.8098842386464826\n",
            "\n"
          ]
        },
        {
          "output_type": "stream",
          "name": "stderr",
          "text": [
            "/usr/local/lib/python3.7/dist-packages/sklearn/svm/_base.py:1208: ConvergenceWarning: Liblinear failed to converge, increase the number of iterations.\n",
            "  ConvergenceWarning,\n"
          ]
        },
        {
          "output_type": "stream",
          "name": "stdout",
          "text": [
            "서포트 벡터 머신(SVM) 정확도: 0.780053428317008\n",
            "\n",
            "결정 트리(Decision Tree) 정확도: 0.6211041852181657\n",
            "\n",
            "랜덤 포레스트(Random Forest) 정확도: 0.6714158504007124\n",
            "\n",
            "그래디언트 부스팅 트리(GradientBoostingClassifier) 정확도: 0.7702582368655387\n"
          ]
        }
      ],
      "source": [
        "model_NB.fit(tfidfv, y_train)\n",
        "predicted_n = model_NB.predict(tfidfv_test) \n",
        "print(\"나이브 베이즈 분류기 정확도:\", accuracy_score(y_test, predicted_n))\n",
        "print()\n",
        "\n",
        "cb.fit(tfidfv, y_train)\n",
        "predicted_c = cb.predict(tfidfv_test)\n",
        "print(\"Complement Naive Bayes Classifier(CNB) 정확도:\", accuracy_score(y_test, predicted_c))\n",
        "print()\n",
        "\n",
        "lr.fit(tfidfv, y_train)\n",
        "predicted_l = lr.predict(tfidfv_test)\n",
        "print(\"로지스틱 회귀(Logistic Regression) 정확도:\", accuracy_score(y_test, predicted_l))\n",
        "print()\n",
        "\n",
        "lsvc.fit(tfidfv, y_train)\n",
        "predicted_ls = lsvc.predict(tfidfv_test)\n",
        "print(\"서포트 벡터 머신(SVM) 정확도:\", accuracy_score(y_test, predicted_ls))\n",
        "print()\n",
        "\n",
        "tree.fit(tfidfv, y_train)\n",
        "predicted_t = tree.predict(tfidfv_test)\n",
        "print(\"결정 트리(Decision Tree) 정확도:\", accuracy_score(y_test, predicted_t))\n",
        "print()\n",
        "\n",
        "forest.fit(tfidfv, y_train)\n",
        "predicted_f = forest.predict(tfidfv_test)\n",
        "print(\"랜덤 포레스트(Random Forest) 정확도:\", accuracy_score(y_test, predicted_f))\n",
        "print()\n",
        "\n",
        "grbt.fit(tfidfv, y_train)\n",
        "predicted_gb = grbt.predict(tfidfv_test)\n",
        "print(\"그래디언트 부스팅 트리(GradientBoostingClassifier) 정확도:\", accuracy_score(y_test, predicted_gb))"
      ]
    },
    {
      "cell_type": "code",
      "execution_count": null,
      "metadata": {
        "colab": {
          "base_uri": "https://localhost:8080/"
        },
        "id": "vDK6FFinxiWd",
        "outputId": "019ecd14-2298-4d08-bd25-5c6053febc66"
      },
      "outputs": [
        {
          "output_type": "execute_result",
          "data": {
            "text/plain": [
              "VotingClassifier(estimators=[('lr', LogisticRegression(C=10000)),\n",
              "                             ('cb', ComplementNB()),\n",
              "                             ('grbt',\n",
              "                              GradientBoostingClassifier(random_state=0))],\n",
              "                 n_jobs=-1, voting='soft')"
            ]
          },
          "metadata": {},
          "execution_count": 55
        }
      ],
      "source": [
        "voting_classifier = VotingClassifier(estimators=[\n",
        "         ('lr', LogisticRegression(C=10000, penalty='l2')),\n",
        "        ('cb', ComplementNB()),\n",
        "        ('grbt', GradientBoostingClassifier(random_state=0))\n",
        "], voting='soft', n_jobs=-1)\n",
        "voting_classifier.fit(tfidfv, y_train)"
      ]
    },
    {
      "cell_type": "code",
      "execution_count": null,
      "metadata": {
        "colab": {
          "base_uri": "https://localhost:8080/"
        },
        "id": "hqmkzde5xjv9",
        "outputId": "b4a08344-18b1-42a6-e29d-65586311126c"
      },
      "outputs": [
        {
          "output_type": "stream",
          "name": "stdout",
          "text": [
            "Voting 정확도: 0.8178984861976848\n"
          ]
        }
      ],
      "source": [
        "predicted = voting_classifier.predict(tfidfv_test) #테스트 데이터에 대한 예측\n",
        "print(\"Voting 정확도:\", accuracy_score(y_test, predicted)) #예측값과 실제값 비교"
      ]
    },
    {
      "cell_type": "markdown",
      "source": [
        "# 4. num_words=1000"
      ],
      "metadata": {
        "id": "AxU31WK2wZ8i"
      }
    },
    {
      "cell_type": "code",
      "source": [
        "tfidfv, y_train, tfidfv_test, y_test = data_load(1000)"
      ],
      "metadata": {
        "id": "BafUxN4DwX3q"
      },
      "execution_count": null,
      "outputs": []
    },
    {
      "cell_type": "code",
      "source": [
        "tfidfv.shape"
      ],
      "metadata": {
        "colab": {
          "base_uri": "https://localhost:8080/"
        },
        "id": "PKMZmnzWwf-P",
        "outputId": "6a13c700-7e24-4ee8-d12c-4a3a93a27b8c"
      },
      "execution_count": null,
      "outputs": [
        {
          "output_type": "execute_result",
          "data": {
            "text/plain": [
              "(8982, 969)"
            ]
          },
          "metadata": {},
          "execution_count": 104
        }
      ]
    },
    {
      "cell_type": "code",
      "source": [
        "model_NB.fit(tfidfv, y_train)\n",
        "predicted_n = model_NB.predict(tfidfv_test) \n",
        "print(\"나이브 베이즈 분류기 정확도:\", accuracy_score(y_test, predicted_n))\n",
        "print()\n",
        "\n",
        "cb.fit(tfidfv, y_train)\n",
        "predicted_c = cb.predict(tfidfv_test)\n",
        "print(\"Complement Naive Bayes Classifier(CNB) 정확도:\", accuracy_score(y_test, predicted_c))\n",
        "print()\n",
        "\n",
        "lr.fit(tfidfv, y_train)\n",
        "predicted_l = lr.predict(tfidfv_test)\n",
        "print(\"로지스틱 회귀(Logistic Regression) 정확도:\", accuracy_score(y_test, predicted_l))\n",
        "print()\n",
        "\n",
        "lsvc.fit(tfidfv, y_train)\n",
        "predicted_ls = lsvc.predict(tfidfv_test)\n",
        "print(\"서포트 벡터 머신(SVM) 정확도:\", accuracy_score(y_test, predicted_ls))\n",
        "print()\n",
        "\n",
        "tree.fit(tfidfv, y_train)\n",
        "predicted_t = tree.predict(tfidfv_test)\n",
        "print(\"결정 트리(Decision Tree) 정확도:\", accuracy_score(y_test, predicted_t))\n",
        "print()\n",
        "\n",
        "forest.fit(tfidfv, y_train)\n",
        "predicted_f = forest.predict(tfidfv_test)\n",
        "print(\"랜덤 포레스트(Random Forest) 정확도:\", accuracy_score(y_test, predicted_f))\n",
        "print()\n",
        "\n",
        "grbt.fit(tfidfv, y_train)\n",
        "predicted_gb = grbt.predict(tfidfv_test)\n",
        "print(\"그래디언트 부스팅 트리(GradientBoostingClassifier) 정확도:\", accuracy_score(y_test, predicted_gb))"
      ],
      "metadata": {
        "colab": {
          "base_uri": "https://localhost:8080/"
        },
        "id": "i1p88cQdwgLH",
        "outputId": "88987463-17b9-427e-9569-b93f921d46ab"
      },
      "execution_count": null,
      "outputs": [
        {
          "output_type": "stream",
          "name": "stdout",
          "text": [
            "나이브 베이즈 분류기 정확도: 0.6856634016028496\n",
            "\n",
            "Complement Naive Bayes Classifier(CNB) 정확도: 0.7346393588601959\n",
            "\n"
          ]
        },
        {
          "output_type": "stream",
          "name": "stderr",
          "text": [
            "/usr/local/lib/python3.7/dist-packages/sklearn/linear_model/_logistic.py:818: ConvergenceWarning: lbfgs failed to converge (status=1):\n",
            "STOP: TOTAL NO. of ITERATIONS REACHED LIMIT.\n",
            "\n",
            "Increase the number of iterations (max_iter) or scale the data as shown in:\n",
            "    https://scikit-learn.org/stable/modules/preprocessing.html\n",
            "Please also refer to the documentation for alternative solver options:\n",
            "    https://scikit-learn.org/stable/modules/linear_model.html#logistic-regression\n",
            "  extra_warning_msg=_LOGISTIC_SOLVER_CONVERGENCE_MSG,\n"
          ]
        },
        {
          "output_type": "stream",
          "name": "stdout",
          "text": [
            "로지스틱 회귀(Logistic Regression) 정확도: 0.780053428317008\n",
            "\n"
          ]
        },
        {
          "output_type": "stream",
          "name": "stderr",
          "text": [
            "/usr/local/lib/python3.7/dist-packages/sklearn/svm/_base.py:1208: ConvergenceWarning: Liblinear failed to converge, increase the number of iterations.\n",
            "  ConvergenceWarning,\n"
          ]
        },
        {
          "output_type": "stream",
          "name": "stdout",
          "text": [
            "서포트 벡터 머신(SVM) 정확도: 0.7208370436331255\n",
            "\n",
            "결정 트리(Decision Tree) 정확도: 0.6179875333926982\n",
            "\n",
            "랜덤 포레스트(Random Forest) 정확도: 0.707479964381122\n",
            "\n",
            "그래디언트 부스팅 트리(GradientBoostingClassifier) 정확도: 0.7457702582368655\n"
          ]
        }
      ]
    },
    {
      "cell_type": "code",
      "source": [
        "voting_classifier = VotingClassifier(estimators=[\n",
        "         ('lr', LogisticRegression(C=10000, penalty='l2')),\n",
        "        ('cb', ComplementNB()),\n",
        "        ('grbt', GradientBoostingClassifier(random_state=0))\n",
        "], voting='soft', n_jobs=-1)\n",
        "voting_classifier.fit(tfidfv, y_train)"
      ],
      "metadata": {
        "colab": {
          "base_uri": "https://localhost:8080/"
        },
        "id": "iEkKtvRQwgcx",
        "outputId": "0f190546-9e33-45e2-cdcc-8bd0d81a0e88"
      },
      "execution_count": null,
      "outputs": [
        {
          "output_type": "execute_result",
          "data": {
            "text/plain": [
              "VotingClassifier(estimators=[('lr', LogisticRegression(C=10000)),\n",
              "                             ('cb', ComplementNB()),\n",
              "                             ('grbt',\n",
              "                              GradientBoostingClassifier(random_state=0))],\n",
              "                 n_jobs=-1, voting='soft')"
            ]
          },
          "metadata": {},
          "execution_count": 106
        }
      ]
    },
    {
      "cell_type": "code",
      "source": [
        "predicted = voting_classifier.predict(tfidfv_test) #테스트 데이터에 대한 예측\n",
        "print(\"Voting 정확도:\", accuracy_score(y_test, predicted)) #예측값과 실제값 비교"
      ],
      "metadata": {
        "colab": {
          "base_uri": "https://localhost:8080/"
        },
        "id": "nVTkEg12wmfd",
        "outputId": "d6111ee5-1848-409e-b71e-7fa88ee48831"
      },
      "execution_count": null,
      "outputs": [
        {
          "output_type": "stream",
          "name": "stdout",
          "text": [
            "Voting 정확도: 0.7845057880676759\n"
          ]
        }
      ]
    },
    {
      "cell_type": "markdown",
      "source": [
        "# 딥러닝 모델 돌려보기"
      ],
      "metadata": {
        "id": "t1kfRR9FV0l_"
      }
    },
    {
      "cell_type": "code",
      "source": [
        "from tensorflow.keras.preprocessing.sequence import pad_sequences\n",
        "from tensorflow.keras.utils import to_categorical\n",
        "from tensorflow.keras.callbacks import EarlyStopping, ModelCheckpoint"
      ],
      "metadata": {
        "id": "Wi7JVpCxYrEc"
      },
      "execution_count": null,
      "outputs": []
    },
    {
      "cell_type": "code",
      "source": [
        "(x_train, y_train), (x_test, y_test) = reuters.load_data(num_words=20000, test_split=0.2)"
      ],
      "metadata": {
        "id": "xIXwNoELdzBQ"
      },
      "execution_count": null,
      "outputs": []
    },
    {
      "cell_type": "code",
      "source": [
        "length_list = []\n",
        "\n",
        "def text_length(train_data):\n",
        "  min_len = 999\n",
        "  max_len = 0\n",
        "  sum_len = 0\n",
        "\n",
        "  for sen in train_data:\n",
        "    length = len(sen)\n",
        "    length_list.append(length)\n",
        "    if min_len > length: min_len = length\n",
        "    if max_len < length: max_len = length\n",
        "    sum_len += length\n",
        "  print(\"문장의 최단 길이: \", min_len)\n",
        "  print(\"문장의 최장 길이: \", max_len)\n",
        "  print(\"문장의 평균 길이: \", sum_len // len(train_data))\n",
        "  print('')\n",
        "  sentence_length = np.zeros((max_len), dtype=np.int)\n",
        "  \n",
        "  for sen in train_data:\n",
        "    sentence_length[len(sen)-1] += 1\n",
        "\n",
        "  plt.figure(figsize=(10,6))\n",
        "  plt.bar(range(max_len), sentence_length, width=1.0)\n",
        "  plt.title(\"Length Distribution\")\n",
        "  plt.show()"
      ],
      "metadata": {
        "id": "2LLrEsAn2BmE"
      },
      "execution_count": null,
      "outputs": []
    },
    {
      "cell_type": "code",
      "source": [
        "text_length(x_train)"
      ],
      "metadata": {
        "colab": {
          "base_uri": "https://localhost:8080/",
          "height": 520
        },
        "id": "54dnIZ5t2eXd",
        "outputId": "06960960-895e-47af-9ccf-f4c634195464"
      },
      "execution_count": null,
      "outputs": [
        {
          "output_type": "stream",
          "name": "stdout",
          "text": [
            "문장의 최단 길이:  13\n",
            "문장의 최장 길이:  2376\n",
            "문장의 평균 길이:  145\n",
            "\n"
          ]
        },
        {
          "output_type": "stream",
          "name": "stderr",
          "text": [
            "/usr/local/lib/python3.7/dist-packages/ipykernel_launcher.py:18: DeprecationWarning: `np.int` is a deprecated alias for the builtin `int`. To silence this warning, use `int` by itself. Doing this will not modify any behavior and is safe. When replacing `np.int`, you may wish to use e.g. `np.int64` or `np.int32` to specify the precision. If you wish to review your current use, check the release note link for additional information.\n",
            "Deprecated in NumPy 1.20; for more details and guidance: https://numpy.org/devdocs/release/1.20.0-notes.html#deprecations\n"
          ]
        },
        {
          "output_type": "display_data",
          "data": {
            "text/plain": [
              "<Figure size 720x432 with 1 Axes>"
            ],
            "image/png": "[encoded data removed]"
          },
          "metadata": {
            "needs_background": "light"
          }
        }
      ]
    },
    {
      "cell_type": "code",
      "source": [
        "# 표준편차\n",
        "np.std(length_list)"
      ],
      "metadata": {
        "colab": {
          "base_uri": "https://localhost:8080/"
        },
        "id": "UszUkiu92tZA",
        "outputId": "2b0e1b34-0d9a-45a2-b2ec-2fd4104d3227"
      },
      "execution_count": null,
      "outputs": [
        {
          "output_type": "execute_result",
          "data": {
            "text/plain": [
              "145.81413013409278"
            ]
          },
          "metadata": {},
          "execution_count": 123
        }
      ]
    },
    {
      "cell_type": "code",
      "source": [
        "def optimization_len(cut_len, raw):\n",
        "    cnt = 0\n",
        "    for sen in raw:\n",
        "        if(len(sen) <= cut_len):\n",
        "            cnt = cnt + 1\n",
        "    print('전체 뉴스 길이 중 {}이하에 포함되는 댓글 {}%'.format(cut_len, round((cnt / len(raw))*100),2))"
      ],
      "metadata": {
        "id": "8Kx0LuGQ2zte"
      },
      "execution_count": null,
      "outputs": []
    },
    {
      "cell_type": "code",
      "source": [
        "optimization_len(200, x_train) \n",
        "optimization_len(150, x_train)  \n",
        "optimization_len(100, x_train)  "
      ],
      "metadata": {
        "colab": {
          "base_uri": "https://localhost:8080/"
        },
        "id": "-Pi1vr-422Pv",
        "outputId": "5cc3f042-58fe-4969-adc5-08ad93e5e538"
      },
      "execution_count": null,
      "outputs": [
        {
          "output_type": "stream",
          "name": "stdout",
          "text": [
            "전체 뉴스 길이 중 200이하에 포함되는 댓글 79%\n",
            "전체 뉴스 길이 중 150이하에 포함되는 댓글 70%\n",
            "전체 뉴스 길이 중 100이하에 포함되는 댓글 54%\n"
          ]
        }
      ]
    },
    {
      "cell_type": "code",
      "source": [
        "max_len = 150"
      ],
      "metadata": {
        "id": "5fJ3s5xstezO"
      },
      "execution_count": null,
      "outputs": []
    },
    {
      "cell_type": "code",
      "source": [
        "x_train = pad_sequences(x_train, maxlen=max_len)\n",
        "x_test = pad_sequences(x_test, maxlen=max_len)"
      ],
      "metadata": {
        "id": "p0CikofUgkXG"
      },
      "execution_count": null,
      "outputs": []
    },
    {
      "cell_type": "code",
      "source": [
        "y_train = to_categorical(y_train) # 훈련용 뉴스 기사 레이블의 원-핫 인코딩\n",
        "y_test = to_categorical(y_test) # 테스트용 뉴스 기사 레이블의 원-핫 인코딩"
      ],
      "metadata": {
        "id": "yysW5TEhhlmL"
      },
      "execution_count": null,
      "outputs": []
    },
    {
      "cell_type": "code",
      "source": [
        "word_vector_dim = 128\n",
        "vocab_size = 1000"
      ],
      "metadata": {
        "id": "X3lCCf0vXG8g"
      },
      "execution_count": null,
      "outputs": []
    },
    {
      "cell_type": "code",
      "source": [
        "LSTM_model = tf.keras.Sequential()\n",
        "LSTM_model.add(tf.keras.layers.Embedding(vocab_size, word_vector_dim))\n",
        "LSTM_model.add(tf.keras.layers.LSTM(128))   # 가장 널리 쓰이는 RNN인 LSTM 레이어를 사용하였습니다. 이때 LSTM state 벡터의 차원수는 8로 하였습니다. (변경 가능)\n",
        "LSTM_model.add(tf.keras.layers.Dense(46, activation='softmax'))\n",
        "\n",
        "LSTM_model.compile(optimizer='adam',\n",
        "              loss='categorical_crossentropy',\n",
        "              metrics=['accuracy'])\n",
        "\n",
        "es = EarlyStopping(monitor='val_loss',  mode='min', patience=4, verbose=1)\n",
        "\n",
        "LSTM_model.summary()"
      ],
      "metadata": {
        "colab": {
          "base_uri": "https://localhost:8080/"
        },
        "id": "beSPUw_GV2N3",
        "outputId": "71355d94-4a82-454e-c61a-d1a6c31cc852"
      },
      "execution_count": null,
      "outputs": [
        {
          "output_type": "stream",
          "name": "stdout",
          "text": [
            "Model: \"sequential_5\"\n",
            "_________________________________________________________________\n",
            " Layer (type)                Output Shape              Param #   \n",
            "=================================================================\n",
            " embedding_4 (Embedding)     (None, None, 128)         128000    \n",
            "                                                                 \n",
            " lstm_4 (LSTM)               (None, 128)               131584    \n",
            "                                                                 \n",
            " dense_6 (Dense)             (None, 46)                5934      \n",
            "                                                                 \n",
            "=================================================================\n",
            "Total params: 265,518\n",
            "Trainable params: 265,518\n",
            "Non-trainable params: 0\n",
            "_________________________________________________________________\n"
          ]
        }
      ]
    },
    {
      "cell_type": "code",
      "source": [
        "history = LSTM_model.fit(x_train, y_train, epochs=30, batch_size=128, callbacks=[es], validation_data=(x_test, y_test))"
      ],
      "metadata": {
        "colab": {
          "base_uri": "https://localhost:8080/"
        },
        "id": "QrkteIqVXK99",
        "outputId": "27860590-28e5-499c-e0af-0590f327b59b"
      },
      "execution_count": null,
      "outputs": [
        {
          "output_type": "stream",
          "name": "stdout",
          "text": [
            "Epoch 1/30\n",
            "71/71 [==============================] - 3s 21ms/step - loss: 2.6093 - accuracy: 0.3471 - val_loss: 2.4167 - val_accuracy: 0.3620\n",
            "Epoch 2/30\n",
            "71/71 [==============================] - 1s 15ms/step - loss: 2.1820 - accuracy: 0.4380 - val_loss: 1.9724 - val_accuracy: 0.4858\n",
            "Epoch 3/30\n",
            "71/71 [==============================] - 1s 15ms/step - loss: 1.8720 - accuracy: 0.5190 - val_loss: 1.7773 - val_accuracy: 0.5454\n",
            "Epoch 4/30\n",
            "71/71 [==============================] - 1s 15ms/step - loss: 1.7526 - accuracy: 0.5531 - val_loss: 1.7580 - val_accuracy: 0.5565\n",
            "Epoch 5/30\n",
            "71/71 [==============================] - 1s 15ms/step - loss: 1.7403 - accuracy: 0.5552 - val_loss: 1.7432 - val_accuracy: 0.5570\n",
            "Epoch 6/30\n",
            "71/71 [==============================] - 1s 15ms/step - loss: 1.7197 - accuracy: 0.5560 - val_loss: 1.7207 - val_accuracy: 0.5703\n",
            "Epoch 7/30\n",
            "71/71 [==============================] - 1s 15ms/step - loss: 1.6486 - accuracy: 0.5748 - val_loss: 1.6794 - val_accuracy: 0.5779\n",
            "Epoch 8/30\n",
            "71/71 [==============================] - 1s 15ms/step - loss: 1.6043 - accuracy: 0.5927 - val_loss: 1.6399 - val_accuracy: 0.5904\n",
            "Epoch 9/30\n",
            "71/71 [==============================] - 1s 15ms/step - loss: 1.5783 - accuracy: 0.6072 - val_loss: 1.6220 - val_accuracy: 0.5993\n",
            "Epoch 10/30\n",
            "71/71 [==============================] - 1s 15ms/step - loss: 1.5209 - accuracy: 0.6129 - val_loss: 1.5682 - val_accuracy: 0.6006\n",
            "Epoch 11/30\n",
            "71/71 [==============================] - 1s 15ms/step - loss: 1.4269 - accuracy: 0.6442 - val_loss: 1.4601 - val_accuracy: 0.6394\n",
            "Epoch 12/30\n",
            "71/71 [==============================] - 1s 15ms/step - loss: 1.3650 - accuracy: 0.6658 - val_loss: 1.4297 - val_accuracy: 0.6492\n",
            "Epoch 13/30\n",
            "71/71 [==============================] - 1s 15ms/step - loss: 1.2663 - accuracy: 0.6888 - val_loss: 1.3804 - val_accuracy: 0.6674\n",
            "Epoch 14/30\n",
            "71/71 [==============================] - 1s 15ms/step - loss: 1.2378 - accuracy: 0.6931 - val_loss: 1.4436 - val_accuracy: 0.6376\n",
            "Epoch 15/30\n",
            "71/71 [==============================] - 1s 15ms/step - loss: 1.2000 - accuracy: 0.6978 - val_loss: 1.3332 - val_accuracy: 0.6612\n",
            "Epoch 16/30\n",
            "71/71 [==============================] - 1s 15ms/step - loss: 1.1122 - accuracy: 0.7228 - val_loss: 1.2418 - val_accuracy: 0.6937\n",
            "Epoch 17/30\n",
            "71/71 [==============================] - 1s 15ms/step - loss: 1.0468 - accuracy: 0.7394 - val_loss: 1.2109 - val_accuracy: 0.7008\n",
            "Epoch 18/30\n",
            "71/71 [==============================] - 1s 15ms/step - loss: 0.9844 - accuracy: 0.7558 - val_loss: 1.1882 - val_accuracy: 0.7102\n",
            "Epoch 19/30\n",
            "71/71 [==============================] - 1s 15ms/step - loss: 0.9818 - accuracy: 0.7580 - val_loss: 1.1673 - val_accuracy: 0.7093\n",
            "Epoch 20/30\n",
            "71/71 [==============================] - 1s 15ms/step - loss: 0.9153 - accuracy: 0.7702 - val_loss: 1.1469 - val_accuracy: 0.7155\n",
            "Epoch 21/30\n",
            "71/71 [==============================] - 1s 15ms/step - loss: 0.8902 - accuracy: 0.7799 - val_loss: 1.1818 - val_accuracy: 0.7070\n",
            "Epoch 22/30\n",
            "71/71 [==============================] - 1s 15ms/step - loss: 0.8439 - accuracy: 0.7911 - val_loss: 1.1850 - val_accuracy: 0.7093\n",
            "Epoch 23/30\n",
            "71/71 [==============================] - 1s 15ms/step - loss: 0.8078 - accuracy: 0.7984 - val_loss: 1.1151 - val_accuracy: 0.7235\n",
            "Epoch 24/30\n",
            "71/71 [==============================] - 1s 15ms/step - loss: 0.7642 - accuracy: 0.8122 - val_loss: 1.1530 - val_accuracy: 0.7173\n",
            "Epoch 25/30\n",
            "71/71 [==============================] - 1s 15ms/step - loss: 0.7548 - accuracy: 0.8123 - val_loss: 1.1355 - val_accuracy: 0.7155\n",
            "Epoch 26/30\n",
            "71/71 [==============================] - 1s 15ms/step - loss: 0.6996 - accuracy: 0.8275 - val_loss: 1.1672 - val_accuracy: 0.7191\n",
            "Epoch 27/30\n",
            "71/71 [==============================] - 1s 15ms/step - loss: 0.6753 - accuracy: 0.8358 - val_loss: 1.1717 - val_accuracy: 0.7262\n",
            "Epoch 27: early stopping\n"
          ]
        }
      ]
    },
    {
      "cell_type": "code",
      "source": [
        "LSTM_model.evaluate(x_test, y_test)"
      ],
      "metadata": {
        "colab": {
          "base_uri": "https://localhost:8080/"
        },
        "id": "WGzEIl0RXM3t",
        "outputId": "14497c86-e244-4dc6-a659-b5286c11bf3d"
      },
      "execution_count": null,
      "outputs": [
        {
          "output_type": "stream",
          "name": "stdout",
          "text": [
            "71/71 [==============================] - 0s 5ms/step - loss: 1.1717 - accuracy: 0.7262\n"
          ]
        },
        {
          "output_type": "execute_result",
          "data": {
            "text/plain": [
              "[1.1716830730438232, 0.7261798977851868]"
            ]
          },
          "metadata": {},
          "execution_count": 132
        }
      ]
    },
    {
      "cell_type": "code",
      "source": [
        "hist_dict = history.history\n",
        "loss = hist_dict['loss']\n",
        "val_loss = hist_dict['val_loss']\n",
        "acc = hist_dict['accuracy']\n",
        "val_acc = hist_dict['val_accuracy']\n",
        "\n",
        "fig = plt.figure(figsize=(15,5))\n",
        "ax1 = fig.add_subplot(1,2,1)\n",
        "plt.plot(loss, 'b', label='Training loss')\n",
        "plt.plot(val_loss, 'r', label='Validation loss')\n",
        "plt.legend()\n",
        "plt.grid()\n",
        "\n",
        "ax2 = fig.add_subplot(1,2,2)\n",
        "plt.plot(acc, 'b', label='Training accuracy')\n",
        "plt.plot(val_acc, 'r', label='Validation accuracy')\n",
        "plt.legend()\n",
        "plt.grid()\n",
        "\n",
        "plt.show()"
      ],
      "metadata": {
        "colab": {
          "base_uri": "https://localhost:8080/",
          "height": 320
        },
        "id": "AiALZw39XOud",
        "outputId": "bd148daa-3676-4c39-e220-752c83cb7701"
      },
      "execution_count": null,
      "outputs": [
        {
          "output_type": "display_data",
          "data": {
            "text/plain": [
              "<Figure size 1080x360 with 2 Axes>"
            ],
            "image/png": "[encoded data removed]"
          },
          "metadata": {
            "needs_background": "light"
          }
        }
      ]
    },
    {
      "cell_type": "markdown",
      "source": [
        "# 회고"
      ],
      "metadata": {
        "id": "VdP9vZ2U4Qkl"
      }
    },
    {
      "cell_type": "markdown",
      "source": [
        "## 1. num_words=None\n",
        "- 나이브 베이즈 정확도: 0.5997328584149599\n",
        "- CNB 정확도: 0.7649154051647373\n",
        "- 로지스틱 회귀 정확도: 0.813446126447017\n",
        "- LSVM 정확도: 0.7871772039180766\n",
        "- 결정 트리 정확도: 0.6211041852181657\n",
        "- 랜덤 포레스트 정확도: 0.6544968833481746\n",
        "- 그래디언트 부스팅 트리 정확도: 0.7702582368655387\n",
        "- 보팅 정확도: 0.8187889581478184"
      ],
      "metadata": {
        "id": "gr46I2v84R-z"
      }
    },
    {
      "cell_type": "markdown",
      "source": [
        "## 2. num_words=1000\n",
        "- 나이브 베이즈 정확도: 0.6856634016028496\n",
        "- CNB 정확도: 0.7346393588601959\n",
        "- 로지스틱 회귀 정확도: 0.780053428317008\n",
        "- LSVM 정확도: 0.7208370436331255\n",
        "- 결정 트리 정확도: 0.6179875333926982\n",
        "- 랜덤 포레스트 정확도: 0.707479964381122\n",
        "- 그래디언트 부스팅 트리 정확도: 0.7457702582368655\n",
        "- 보팅 정확도: 0.7845057880676759"
      ],
      "metadata": {
        "id": "thFn79095Qcl"
      }
    },
    {
      "cell_type": "markdown",
      "source": [
        "## 3. num_words=5000\n",
        "- 나이브 베이즈 정확도: 0.6731967943009796\n",
        "- CNB 정확도: 0.7707034728406055\n",
        "- 로지스틱 회귀 정확도: 0.8058771148708815\n",
        "- LSVM 정확도: 0.7604630454140695\n",
        "- 결정 트리 정확도: 0.6179875333926982\n",
        "- 랜덤 포레스트 정확도: 0.701246660730187\n",
        "- 그래디언트 부스팅 트리 정확도: 0.767586821015138\n",
        "- 보팅 정확도: 0.8161175422974176"
      ],
      "metadata": {
        "id": "XQAk9xdk5oKD"
      }
    },
    {
      "cell_type": "markdown",
      "source": [
        "## 3. num_words=10000\n",
        "- 나이브 베이즈 정확도: 0.6567230632235085\n",
        "- CNB 정확도: 0.7707034728406055\n",
        "- 로지스틱 회귀 정확도: 0.8076580587711487\n",
        "- LSVM 정확도: 0.7689225289403384\n",
        "- 결정 트리 정확도: 0.6202137132680321\n",
        "- 랜덤 포레스트 정확도: 0.674087266251113\n",
        "- 그래디언트 부스팅 트리 정확도: 0.7662511130899377\n",
        "- 보팅 정확도: 0.8116651825467498"
      ],
      "metadata": {
        "id": "_xd7QLxZ5-_1"
      }
    },
    {
      "cell_type": "markdown",
      "source": [
        "## 4. num_words=20000\n",
        "- 나이브 베이즈 정확도: 0.6193232413178985\n",
        "- CNB 정확도: 0.7671415850400712\n",
        "- 로지스틱 회귀 정확도: 0.8098842386464826\n",
        "- LSVM 정확도: 0.780053428317008\n",
        "- 결정 트리 정확도: 0.6211041852181657\n",
        "- 랜덤 포레스트 정확도: 0.6714158504007124\n",
        "- 그래디언트 부스팅 트리 정확도: 0.7702582368655387\n",
        "- 보팅 정확도: 0.8178984861976848"
      ],
      "metadata": {
        "id": "7UUW4uW66W68"
      }
    },
    {
      "cell_type": "markdown",
      "source": [
        "num_words=None 일 때 나이브 베이즈 분류기의 정확도가 제일 낮습니다. 그 이유는 num_words로 OOV를 처리해주지 않아서 각 Feature간의 관계가 독립적이지 않기 때문입니다. num_words를 설정해주면 Feature가 서로 독립적이게 되고 그 결과 나이브 베이즈 분류기에서 더 좋은 결과를 얻을 수 있었습니다. 그리고 나이브 베이츠 분류기는 이진 분류에 적합한 모델이라 다른 모델에 비해 정확도가 좋지는 않았습니다."
      ],
      "metadata": {
        "id": "bQ1JA7Vz6zAf"
      }
    },
    {
      "cell_type": "markdown",
      "source": [
        "SVM 결과는 정확도가 대부분 75% 이상으로 생각보다 좋은 결과가 나왔습니다. TF-IDF 과정을 거치면서 한쪽으로 치우친 데이터인 The나 of 같은 불용어들의 가중치를 조절해 줌으로써 데이터의 가중치가 고르게 분포되어서 좋은 결과를 얻은 것 같습니다. 그리고 SVM 모델은 하이퍼파라미터를 조정하면 더 좋은 결과를 얻을 수 있는데 이번 실험에서는 진행하지 않았습니다."
      ],
      "metadata": {
        "id": "UZuJCNsb98-Y"
      }
    },
    {
      "cell_type": "markdown",
      "source": [
        "로지스틱 회귀 결과가 가장 좋았던 이유는 데이터가 카테고리로 범주형 데이터였기 때문인 것 같습니다. 그리고 f1-score를 분석을 통해 정확도에 대한 확신을 가질 수 있었습니다."
      ],
      "metadata": {
        "id": "7y817yqx-x04"
      }
    },
    {
      "cell_type": "markdown",
      "source": [
        "딥러닝 모델을 사용했을 때 훈련을 계속할 수록 과적합되는 현상을 그래프를 통해 확인할 수 있었고 로지스틱 회귀보다 결과가 않좋게 나온이유는 데이터가 부족했기 때문인 것 같습니다. 데이터가 많이 있었다면 딥러닝이 더 좋은 결과를 얻을 수 있을 것 같습니다."
      ],
      "metadata": {
        "id": "uuGYlOsCTN2e"
      }
    },
    {
      "cell_type": "markdown",
      "source": [
        "# 참고자료\n",
        "- [로이터 뉴스 분류하기](https://wikidocs.net/22933)\n",
        "\n",
        "- [나이브 베이즈 분류기](https://bkshin.tistory.com/entry/%EB%A8%B8%EC%8B%A0%EB%9F%AC%EB%8B%9D-1%EB%82%98%EC%9D%B4%EB%B8%8C-%EB%B2%A0%EC%9D%B4%EC%A6%88-%EB%B6%84%EB%A5%98-Naive-Bayes-Classification)\n",
        "\n",
        "- [SVM](https://muzukphysics.tistory.com/entry/ML-8-%EB%A8%B8%EC%8B%A0%EB%9F%AC%EB%8B%9D-SVM-%EA%B8%B0%EB%B3%B8-%EA%B0%9C%EB%85%90%EA%B3%BC-%EC%9E%A5%EB%8B%A8%EC%A0%90-Support-Vector-Machine)\n",
        "\n",
        "- [레이블 원핫 인코딩](https://94ung.tistory.com/38)"
      ],
      "metadata": {
        "id": "Zm7e5JB67ERT"
      }
    }
  ],
  "metadata": {
    "colab": {
      "collapsed_sections": [],
      "name": "reuters_classifiaction_sub.ipynb",
      "provenance": [],
      "machine_shape": "hm"
    },
    "kernelspec": {
      "display_name": "Python 3",
      "name": "python3"
    },
    "language_info": {
      "name": "python"
    }
  },
  "nbformat": 4,
  "nbformat_minor": 0
}