{
 "cells": [
  {
   "cell_type": "code",
   "execution_count": 1,
   "id": "b150270e",
   "metadata": {},
   "outputs": [],
   "source": [
    "import konlpy\n",
    "import gensim\n",
    "import sklearn\n",
    "import seaborn\n",
    "import os\n",
    "\n",
    "import numpy as np\n",
    "from numpy import dot\n",
    "from numpy.linalg import norm"
   ]
  },
  {
   "cell_type": "markdown",
   "id": "01879c66",
   "metadata": {},
   "source": [
    "# STEP 1. 형태소 분석기를 이용하여 품사가 명사인 경우 해당 단어를 추출하기"
   ]
  },
  {
   "cell_type": "code",
   "execution_count": 2,
   "id": "05ab4a42",
   "metadata": {},
   "outputs": [],
   "source": [
    "from konlpy.tag import Okt\n",
    "okt = Okt()\n",
    "tokenized = []\n",
    "with open(os.getenv('HOME')+'/aiffel/weat/synopsis.txt', 'r') as file:\n",
    "    while True:\n",
    "        line = file.readline()\n",
    "        if not line: break\n",
    "        words = okt.pos(line, stem=True, norm=True)\n",
    "        res = []\n",
    "        for w in words:\n",
    "            if w[1] in [\"Noun\"]:      # \"Adjective\", \"Verb\" 등을 포함할 수도 있습니다.\n",
    "                res.append(w[0])    # 명사일 때만 tokenized 에 저장하게 됩니다. \n",
    "        tokenized.append(res)"
   ]
  },
  {
   "cell_type": "code",
   "execution_count": 3,
   "id": "85050f7e",
   "metadata": {
    "scrolled": true
   },
   "outputs": [
    {
     "name": "stdout",
     "output_type": "stream",
     "text": [
      "synopsis.txt 토큰화 개수: 71156개\n"
     ]
    }
   ],
   "source": [
    "print('synopsis.txt 토큰화 개수: {}개'.format(len(tokenized)))"
   ]
  },
  {
   "cell_type": "markdown",
   "id": "d288935a",
   "metadata": {},
   "source": [
    "# STEP 2. 추출된 결과로 embedding model 만들기"
   ]
  },
  {
   "cell_type": "markdown",
   "id": "89de3cd8",
   "metadata": {},
   "source": [
    "## 1. Word2Vec"
   ]
  },
  {
   "cell_type": "code",
   "execution_count": 4,
   "id": "8775f0f2",
   "metadata": {},
   "outputs": [],
   "source": [
    "from gensim.models import Word2Vec\n",
    "\n",
    "#model = Word2Vec(tokenized, vector_size=100, window=5, min_count=3, sg=0)  "
   ]
  },
  {
   "cell_type": "markdown",
   "id": "14a54700",
   "metadata": {},
   "source": [
    "### 여기서 Word2Vec의 하이퍼파라미터는 다음과 같다.\n",
    "\n",
    "- size = 워드 벡터의 특징 값. 즉, 임베딩 된 벡터의 차원.\n",
    "- window = 컨텍스트 윈도우 크기\n",
    "- min_count = 단어 최소 빈도 수 제한 (빈도가 적은 단어들은 학습하지 않는다.)\n",
    "- workers = 학습을 위한 프로세스 수\n",
    "- sg = 0는 CBOW, 1은 Skip-gram."
   ]
  },
  {
   "cell_type": "markdown",
   "id": "f2cfa01a",
   "metadata": {},
   "source": [
    "### 1) CBOW "
   ]
  },
  {
   "cell_type": "code",
   "execution_count": 5,
   "id": "5be66941",
   "metadata": {
    "scrolled": true
   },
   "outputs": [],
   "source": [
    "# tokenized에 담긴 데이터를 가지고 나만의 Word2Vec을 생성합니다. (Gensim 4.0 기준)\n",
    "model_cbow = Word2Vec(tokenized, vector_size=100, window=5, min_count=3, sg=0)  "
   ]
  },
  {
   "cell_type": "code",
   "execution_count": 6,
   "id": "3919ba79",
   "metadata": {},
   "outputs": [
    {
     "data": {
      "text/plain": [
       "[('현상', 0.8816644549369812),\n",
       " ('혼란', 0.8492339253425598),\n",
       " ('미스터리', 0.8435373902320862),\n",
       " ('극도', 0.8214647173881531),\n",
       " ('실체', 0.8124906420707703),\n",
       " ('불안', 0.8022640347480774),\n",
       " ('진실', 0.8021025657653809),\n",
       " ('소용돌이', 0.800876796245575),\n",
       " ('혼돈', 0.7998000383377075),\n",
       " ('미궁', 0.7905065417289734)]"
      ]
     },
     "execution_count": 6,
     "metadata": {},
     "output_type": "execute_result"
    }
   ],
   "source": [
    "model_cbow.wv.most_similar(positive=['공포'])"
   ]
  },
  {
   "cell_type": "code",
   "execution_count": 7,
   "id": "6842245a",
   "metadata": {
    "scrolled": true
   },
   "outputs": [
    {
     "data": {
      "text/plain": [
       "[('영화로', 0.9476891756057739),\n",
       " ('코미디', 0.9451098442077637),\n",
       " ('코믹', 0.9290702939033508),\n",
       " ('주제', 0.9229808449745178),\n",
       " ('스토리', 0.9208139181137085),\n",
       " ('소재', 0.9197803139686584),\n",
       " ('유머', 0.9130331873893738),\n",
       " ('형식', 0.912163257598877),\n",
       " ('감동', 0.9098063707351685),\n",
       " ('판타지', 0.9087377190589905)]"
      ]
     },
     "execution_count": 7,
     "metadata": {},
     "output_type": "execute_result"
    }
   ],
   "source": [
    "model_cbow.wv.most_similar(positive=['드라마'])"
   ]
  },
  {
   "cell_type": "code",
   "execution_count": 8,
   "id": "f9dd79bf",
   "metadata": {},
   "outputs": [
    {
     "data": {
      "text/plain": [
       "[('첫사랑', 0.7009838223457336),\n",
       " ('애정', 0.6904664635658264),\n",
       " ('만남', 0.6889879703521729),\n",
       " ('우정', 0.68681800365448),\n",
       " ('운명', 0.6822293400764465),\n",
       " ('행복', 0.6821461915969849),\n",
       " ('연애', 0.6801673769950867),\n",
       " ('가슴', 0.6784487962722778),\n",
       " ('진심', 0.677764356136322),\n",
       " ('이별', 0.6745288968086243)]"
      ]
     },
     "execution_count": 8,
     "metadata": {},
     "output_type": "execute_result"
    }
   ],
   "source": [
    "model_cbow.wv.most_similar(positive=['사랑'])"
   ]
  },
  {
   "cell_type": "markdown",
   "id": "73c242a3",
   "metadata": {},
   "source": [
    "### 2) Skip-gram"
   ]
  },
  {
   "cell_type": "code",
   "execution_count": 9,
   "id": "f65134b2",
   "metadata": {},
   "outputs": [],
   "source": [
    "model_sg = Word2Vec(tokenized, vector_size=100, window=5, min_count=3, sg=1)  "
   ]
  },
  {
   "cell_type": "code",
   "execution_count": 10,
   "id": "79ddd629",
   "metadata": {},
   "outputs": [
    {
     "data": {
      "text/plain": [
       "[('소름', 0.7634444236755371),\n",
       " ('징후', 0.7320382595062256),\n",
       " ('엄습', 0.7312825918197632),\n",
       " ('극도', 0.7289994955062866),\n",
       " ('환각', 0.7283061742782593),\n",
       " ('혼돈', 0.7283008098602295),\n",
       " ('혼령', 0.7229591608047485),\n",
       " ('괴기', 0.7224207520484924),\n",
       " ('광기', 0.7205642461776733),\n",
       " ('괴담', 0.7175443172454834)]"
      ]
     },
     "execution_count": 10,
     "metadata": {},
     "output_type": "execute_result"
    }
   ],
   "source": [
    "model_sg.wv.most_similar(positive=['공포'])"
   ]
  },
  {
   "cell_type": "code",
   "execution_count": 11,
   "id": "5b974fe4",
   "metadata": {},
   "outputs": [
    {
     "data": {
      "text/plain": [
       "[('코믹', 0.8494331240653992),\n",
       " ('수작', 0.8450980186462402),\n",
       " ('영화로', 0.8347231149673462),\n",
       " ('휴먼', 0.826644778251648),\n",
       " ('코미디', 0.825643002986908),\n",
       " ('희극', 0.8238294720649719),\n",
       " ('멜로', 0.8160691857337952),\n",
       " ('블랙코미디', 0.814423143863678),\n",
       " ('극영화', 0.8138425350189209),\n",
       " ('나레이션', 0.797196090221405)]"
      ]
     },
     "execution_count": 11,
     "metadata": {},
     "output_type": "execute_result"
    }
   ],
   "source": [
    "model_sg.wv.most_similar(positive=['드라마'])"
   ]
  },
  {
   "cell_type": "code",
   "execution_count": 12,
   "id": "157186c8",
   "metadata": {
    "scrolled": true
   },
   "outputs": [
    {
     "data": {
      "text/plain": [
       "[('삼각관계', 0.6843813061714172),\n",
       " ('마르코', 0.6831241250038147),\n",
       " ('타이밍', 0.6783453822135925),\n",
       " ('짊어지', 0.6699199080467224),\n",
       " ('해피엔딩', 0.6639875769615173),\n",
       " ('설레임', 0.65911465883255),\n",
       " ('젊음', 0.6563576459884644),\n",
       " ('로미오', 0.6554620265960693),\n",
       " ('소울메이트', 0.6534028649330139),\n",
       " ('진심', 0.6522775292396545)]"
      ]
     },
     "execution_count": 12,
     "metadata": {},
     "output_type": "execute_result"
    }
   ],
   "source": [
    "model_sg.wv.most_similar(positive=['사랑'])"
   ]
  },
  {
   "cell_type": "markdown",
   "id": "057a5946",
   "metadata": {},
   "source": [
    "## vector_size 의 영향 확인하기"
   ]
  },
  {
   "cell_type": "markdown",
   "id": "ef69e7c8",
   "metadata": {},
   "source": [
    "### 1) CBOW, vector_size=300"
   ]
  },
  {
   "cell_type": "code",
   "execution_count": 13,
   "id": "92c7edc9",
   "metadata": {},
   "outputs": [],
   "source": [
    "model_cbow_size300 = Word2Vec(tokenized, vector_size=300, window=5, min_count=3, sg=0)  "
   ]
  },
  {
   "cell_type": "code",
   "execution_count": 14,
   "id": "099a0701",
   "metadata": {},
   "outputs": [
    {
     "data": {
      "text/plain": [
       "[('현상', 0.8737897872924805),\n",
       " ('혼란', 0.8564962148666382),\n",
       " ('실체', 0.8345285058021545),\n",
       " ('진실', 0.8253214359283447),\n",
       " ('미스터리', 0.8217014074325562),\n",
       " ('미궁', 0.8108199834823608),\n",
       " ('소용돌이', 0.8059908151626587),\n",
       " ('극도', 0.8027533888816833),\n",
       " ('광기', 0.7981998920440674),\n",
       " ('초자연적', 0.7978798747062683)]"
      ]
     },
     "execution_count": 14,
     "metadata": {},
     "output_type": "execute_result"
    }
   ],
   "source": [
    "model_cbow_size300.wv.most_similar(positive=['공포'])"
   ]
  },
  {
   "cell_type": "code",
   "execution_count": 15,
   "id": "43045bf6",
   "metadata": {},
   "outputs": [
    {
     "data": {
      "text/plain": [
       "[('진심', 0.7127841114997864),\n",
       " ('애정', 0.7000278234481812),\n",
       " ('만남', 0.699159562587738),\n",
       " ('연애', 0.6976047158241272),\n",
       " ('세츠코', 0.6930647492408752),\n",
       " ('첫사랑', 0.6899194717407227),\n",
       " ('행복', 0.6882714033126831),\n",
       " ('이별', 0.6823956966400146),\n",
       " ('존경심', 0.6818589568138123),\n",
       " ('운명', 0.6768602132797241)]"
      ]
     },
     "execution_count": 15,
     "metadata": {},
     "output_type": "execute_result"
    }
   ],
   "source": [
    "model_cbow_size300.wv.most_similar(positive=['사랑'])"
   ]
  },
  {
   "cell_type": "markdown",
   "id": "6e986277",
   "metadata": {},
   "source": [
    "### 2) Skip-gram, vector_size=300"
   ]
  },
  {
   "cell_type": "code",
   "execution_count": 16,
   "id": "19f78afc",
   "metadata": {},
   "outputs": [],
   "source": [
    "model_sg_size300 = Word2Vec(tokenized, vector_size=300, window=5, min_count=3, sg=1)  "
   ]
  },
  {
   "cell_type": "code",
   "execution_count": 17,
   "id": "b6436da1",
   "metadata": {},
   "outputs": [
    {
     "data": {
      "text/plain": [
       "[('극도', 0.7250657081604004),\n",
       " ('엄습', 0.7232471108436584),\n",
       " ('혼령', 0.719109058380127),\n",
       " ('소름', 0.7183713912963867),\n",
       " ('환각', 0.7135828137397766),\n",
       " ('두려움', 0.7133579254150391),\n",
       " ('불안', 0.6938701272010803),\n",
       " ('괴기', 0.6935688257217407),\n",
       " ('불안감', 0.6893593072891235),\n",
       " ('징후', 0.6850590705871582)]"
      ]
     },
     "execution_count": 17,
     "metadata": {},
     "output_type": "execute_result"
    }
   ],
   "source": [
    "model_sg_size300.wv.most_similar(positive=['공포'])"
   ]
  },
  {
   "cell_type": "code",
   "execution_count": 18,
   "id": "d17119f2",
   "metadata": {
    "scrolled": true
   },
   "outputs": [
    {
     "data": {
      "text/plain": [
       "[('삼각관계', 0.6276111006736755),\n",
       " ('마르코', 0.6257237195968628),\n",
       " ('진심', 0.6241199374198914),\n",
       " ('로미오', 0.605178952217102),\n",
       " ('해피엔딩', 0.6034043431282043),\n",
       " ('타이밍', 0.5987192392349243),\n",
       " ('젊음', 0.598315954208374),\n",
       " ('동등', 0.5976152420043945),\n",
       " ('구애', 0.5940024256706238),\n",
       " ('짊어지', 0.5920853614807129)]"
      ]
     },
     "execution_count": 18,
     "metadata": {},
     "output_type": "execute_result"
    }
   ],
   "source": [
    "model_sg_size300.wv.most_similar(positive=['사랑'])"
   ]
  },
  {
   "cell_type": "markdown",
   "id": "3dbddde4",
   "metadata": {},
   "source": [
    "## window_size의 영향 확인하기"
   ]
  },
  {
   "cell_type": "markdown",
   "id": "612e2a6b",
   "metadata": {},
   "source": [
    "### 1) CBOW, window"
   ]
  },
  {
   "cell_type": "code",
   "execution_count": 19,
   "id": "5689e2ab",
   "metadata": {},
   "outputs": [],
   "source": [
    "model_cbow_window = Word2Vec(tokenized, vector_size=100, window=3, min_count=3, sg=0)  "
   ]
  },
  {
   "cell_type": "code",
   "execution_count": 20,
   "id": "3c2df6dd",
   "metadata": {},
   "outputs": [
    {
     "data": {
      "text/plain": [
       "[('현상', 0.863472044467926),\n",
       " ('혼란', 0.853343665599823),\n",
       " ('미스터리', 0.8450877070426941),\n",
       " ('극도', 0.8315221071243286),\n",
       " ('불안', 0.8275124430656433),\n",
       " ('실체', 0.8158162832260132),\n",
       " ('그림자', 0.8113927245140076),\n",
       " ('소용돌이', 0.8097884654998779),\n",
       " ('두려움', 0.8049400448799133),\n",
       " ('혼돈', 0.8019477128982544)]"
      ]
     },
     "execution_count": 20,
     "metadata": {},
     "output_type": "execute_result"
    }
   ],
   "source": [
    "model_cbow_window.wv.most_similar(positive=['공포'])"
   ]
  },
  {
   "cell_type": "code",
   "execution_count": 21,
   "id": "d90dc7de",
   "metadata": {},
   "outputs": [
    {
     "data": {
      "text/plain": [
       "[('첫사랑', 0.7315732836723328),\n",
       " ('행복', 0.705996572971344),\n",
       " ('진심', 0.7030820250511169),\n",
       " ('연애', 0.6925846338272095),\n",
       " ('가슴', 0.6908726096153259),\n",
       " ('열정', 0.6895402669906616),\n",
       " ('애정', 0.6852291822433472),\n",
       " ('재회', 0.6824396252632141),\n",
       " ('그리움', 0.681056797504425),\n",
       " ('관계', 0.6799020171165466)]"
      ]
     },
     "execution_count": 21,
     "metadata": {},
     "output_type": "execute_result"
    }
   ],
   "source": [
    "model_cbow_window.wv.most_similar(positive=['사랑'])"
   ]
  },
  {
   "cell_type": "markdown",
   "id": "46fbd7bb",
   "metadata": {},
   "source": [
    "### 2) Skip-gram, window"
   ]
  },
  {
   "cell_type": "code",
   "execution_count": 22,
   "id": "7715c884",
   "metadata": {},
   "outputs": [],
   "source": [
    "model_sg_window = Word2Vec(tokenized, vector_size=100, window=3, min_count=3, sg=1)  "
   ]
  },
  {
   "cell_type": "code",
   "execution_count": 23,
   "id": "474969b2",
   "metadata": {},
   "outputs": [
    {
     "data": {
      "text/plain": [
       "[('광기', 0.7558827996253967),\n",
       " ('환각', 0.7509889006614685),\n",
       " ('불안', 0.7484691143035889),\n",
       " ('극도', 0.7462623715400696),\n",
       " ('징후', 0.7407838106155396),\n",
       " ('엄습', 0.7400770783424377),\n",
       " ('혼돈', 0.7383862137794495),\n",
       " ('증폭', 0.7334837317466736),\n",
       " ('출구', 0.7224185466766357),\n",
       " ('환영', 0.7219017744064331)]"
      ]
     },
     "execution_count": 23,
     "metadata": {},
     "output_type": "execute_result"
    }
   ],
   "source": [
    "model_sg_window.wv.most_similar(positive=['공포'])"
   ]
  },
  {
   "cell_type": "code",
   "execution_count": 24,
   "id": "6870f429",
   "metadata": {},
   "outputs": [
    {
     "data": {
      "text/plain": [
       "[('삼각관계', 0.6546497344970703),\n",
       " ('인연', 0.6374243497848511),\n",
       " ('진심', 0.6340097784996033),\n",
       " ('짊어지', 0.6324462890625),\n",
       " ('재결합', 0.6304972171783447),\n",
       " ('행복', 0.6303399205207825),\n",
       " ('맹목', 0.628968358039856),\n",
       " ('배려', 0.6272339224815369),\n",
       " ('서약', 0.6257610321044922),\n",
       " ('타이밍', 0.6251264214515686)]"
      ]
     },
     "execution_count": 24,
     "metadata": {},
     "output_type": "execute_result"
    }
   ],
   "source": [
    "model_sg_window.wv.most_similar(positive=['사랑'])"
   ]
  },
  {
   "cell_type": "markdown",
   "id": "be4d00cd",
   "metadata": {},
   "source": [
    "### 다른 txt 파일로 Word2Vec 해보기"
   ]
  },
  {
   "cell_type": "code",
   "execution_count": 25,
   "id": "4870f371",
   "metadata": {},
   "outputs": [],
   "source": [
    "def data_word2vec(file_name):\n",
    "    okt = Okt()          \n",
    "    tokenized = []\n",
    "    with open(os.getenv('HOME')+'/aiffel/weat/'+file_name, 'r') as fread: \n",
    "        print(file_name, '파일을 읽고 있습니다.')\n",
    "        while True:\n",
    "            line = fread.readline() \n",
    "            if not line: break \n",
    "            tokenlist = okt.pos(line, stem=True, norm=True) \n",
    "            res = []\n",
    "            for word in tokenlist:\n",
    "                if word[1] in [\"Noun\"]:#, \"Adjective\", \"Verb\"] 명사추출\n",
    "                    res.append((word[0]))\n",
    "            tokenized.append(res)\n",
    "    return tokenized"
   ]
  },
  {
   "cell_type": "code",
   "execution_count": 26,
   "id": "b1fae107",
   "metadata": {
    "scrolled": true
   },
   "outputs": [
    {
     "name": "stdout",
     "output_type": "stream",
     "text": [
      "synopsis_SF.txt 파일을 읽고 있습니다.\n"
     ]
    }
   ],
   "source": [
    "sf = data_word2vec('synopsis_SF.txt')"
   ]
  },
  {
   "cell_type": "code",
   "execution_count": 27,
   "id": "b4838071",
   "metadata": {},
   "outputs": [],
   "source": [
    "model_sf = Word2Vec(sf, vector_size=100, window=5, min_count=3, sg=0)"
   ]
  },
  {
   "cell_type": "code",
   "execution_count": 28,
   "id": "65719355",
   "metadata": {},
   "outputs": [
    {
     "data": {
      "text/plain": [
       "[('인간', 0.9908024072647095),\n",
       " ('지구', 0.9905628561973572),\n",
       " ('그', 0.9904924631118774),\n",
       " ('시스템', 0.9904560446739197),\n",
       " ('위', 0.9904212951660156),\n",
       " ('은', 0.9903865456581116),\n",
       " ('친구', 0.9903097748756409),\n",
       " ('전', 0.9902998805046082),\n",
       " ('알', 0.9902915954589844),\n",
       " ('날', 0.9902775883674622)]"
      ]
     },
     "execution_count": 28,
     "metadata": {},
     "output_type": "execute_result"
    }
   ],
   "source": [
    "model_sf.wv.most_similar(positive=['공포'])"
   ]
  },
  {
   "cell_type": "code",
   "execution_count": 29,
   "id": "9e04f161",
   "metadata": {
    "scrolled": false
   },
   "outputs": [
    {
     "data": {
      "text/plain": [
       "[('이', 0.9962810277938843),\n",
       " ('그', 0.9962785840034485),\n",
       " ('인류', 0.9961081743240356),\n",
       " ('인간', 0.9960852265357971),\n",
       " ('미래', 0.9960364103317261),\n",
       " ('수', 0.9960343837738037),\n",
       " ('속', 0.9960141777992249),\n",
       " ('위해', 0.9959987998008728),\n",
       " ('온', 0.9959647059440613),\n",
       " ('의', 0.9959050416946411)]"
      ]
     },
     "execution_count": 29,
     "metadata": {},
     "output_type": "execute_result"
    }
   ],
   "source": [
    "model_sf.wv.most_similar(positive=['사랑'])"
   ]
  },
  {
   "cell_type": "markdown",
   "id": "0a2827cf",
   "metadata": {},
   "source": [
    "# STEP 3. target, attribute 단어 셋 만들기"
   ]
  },
  {
   "cell_type": "markdown",
   "id": "015b89fa",
   "metadata": {},
   "source": [
    "## 1. 예술영화와 상업영화 비교"
   ]
  },
  {
   "cell_type": "markdown",
   "id": "26e26433",
   "metadata": {},
   "source": [
    "### 영화 구분\n",
    "\n",
    "- synopsis_art.txt : 예술영화\n",
    "- synopsis_gen.txt : 일반영화(상업영화)\n",
    "- 그 외는 독립영화 등으로 분류됩니다."
   ]
  },
  {
   "cell_type": "code",
   "execution_count": 30,
   "id": "1d59b7b7",
   "metadata": {},
   "outputs": [],
   "source": [
    "import os\n",
    "from sklearn.feature_extraction.text import TfidfVectorizer\n",
    "import numpy as np\n",
    "from konlpy.tag import Okt\n",
    "\n",
    "def read_token(file_name):\n",
    "    okt = Okt()          \n",
    "    result = []\n",
    "    with open(os.getenv('HOME')+'/aiffel/weat/'+file_name, 'r') as fread: \n",
    "        print(file_name, '파일을 읽고 있습니다.')\n",
    "        while True:\n",
    "            line = fread.readline() \n",
    "            if not line: break \n",
    "            tokenlist = okt.pos(line, stem=True, norm=True) \n",
    "            for word in tokenlist:\n",
    "                if word[1] in [\"Noun\"]:#, \"Adjective\", \"Verb\"] 명사추출\n",
    "                    result.append((word[0]))\n",
    "    return ' '.join(result)"
   ]
  },
  {
   "cell_type": "code",
   "execution_count": 31,
   "id": "ca21737a",
   "metadata": {},
   "outputs": [],
   "source": [
    "art_txt = 'synopsis_art.txt'\n",
    "gen_txt = 'synopsis_gen.txt'"
   ]
  },
  {
   "cell_type": "code",
   "execution_count": 32,
   "id": "3bfbbeb0",
   "metadata": {
    "scrolled": true
   },
   "outputs": [
    {
     "name": "stdout",
     "output_type": "stream",
     "text": [
      "synopsis_art.txt 파일을 읽고 있습니다.\n",
      "synopsis_gen.txt 파일을 읽고 있습니다.\n"
     ]
    }
   ],
   "source": [
    "art = read_token(art_txt)\n",
    "gen = read_token(gen_txt)"
   ]
  },
  {
   "cell_type": "code",
   "execution_count": 33,
   "id": "cd469d6d",
   "metadata": {},
   "outputs": [
    {
     "name": "stdout",
     "output_type": "stream",
     "text": [
      "예술 영화의 개수: 620208\n",
      "상업 영화의 개수: 3014815\n"
     ]
    }
   ],
   "source": [
    "print('예술 영화의 개수: {}'.format(len(art)))\n",
    "print('상업 영화의 개수: {}'.format(len(gen)))"
   ]
  },
  {
   "cell_type": "markdown",
   "id": "585908b3",
   "metadata": {},
   "source": [
    "### TF-IDF 사용하기"
   ]
  },
  {
   "cell_type": "markdown",
   "id": "736b4d4b",
   "metadata": {},
   "source": [
    "코퍼스에서 자주 나타나는(TF가 높은) 단어이지만, 다른 코퍼스에까지 두루 걸쳐 나오지는 않는(IDF가 높은) 단어를 선정하는 방법"
   ]
  },
  {
   "attachments": {
    "image.png": {
     "image/png": "[encoded data removed]"
    }
   },
   "cell_type": "markdown",
   "id": "d72bcd9f",
   "metadata": {},
   "source": [
    "- fit 명령어를 통해서 text 변수에 저장된 데이터를 학습합니다.\n",
    "- 단어사전은 .vocabulary_ 명령어를 통해 출력이 가능합니다.\n",
    "\n",
    "### TF-IDF 하이퍼파라미터\n",
    "- min_df : min-df는 DF(document-frequency)의 최소 빈도값을 설정해주는 파라미터입니다. DF는 특정 단어가 나타나는 '문서의 수'를 의미합니다.\n",
    "\n",
    "\n",
    "- analyzer : analyzer = 'word'로 설정시, 학습의 단위를 단어로 설정합니다. analyzer = 'char'로 설정시, 학습의 단위를 글자로 설정합니다.\n",
    "\n",
    "\n",
    "- sublinear_tf : TF (Term-Frequency, 단어빈도) 값의 스무딩(smoothing) 여부를 결정하는 파라미터 입니다. (True/False)\n",
    "    - ![image.png](attachment:image.png)\n",
    "    이처럼 sublinear_tf는 높은 TF값을 완만하게 처리하는 효과를 가지고 있습니다.\n",
    "    \n",
    "\n",
    "\n",
    "- ngram_range : n-gram이라는 것은 단어의 묶음을 말합니다. 이 단어의 묶음을 범위를 설정하는 것이 ngram_range 파라미터입니다.\n",
    "\n",
    "\n",
    "- max_features : max_feature는 tf-idf vector의 최대 feature를 설정해주는 파라미터입니다.\n",
    "\n",
    "\n"
   ]
  },
  {
   "cell_type": "markdown",
   "id": "e15cce12",
   "metadata": {},
   "source": [
    "### max_features 예시"
   ]
  },
  {
   "cell_type": "code",
   "execution_count": 34,
   "id": "e73d3fc0",
   "metadata": {},
   "outputs": [
    {
     "name": "stdout",
     "output_type": "stream",
     "text": [
      "['I go to my home my home is very large', 'I went out my home I go to the market', 'I bought a yellow lemon I go back to home', 'For years now, the people have been oppressed by a ruthless dictator.', 'This play is supported by a grant from the local arts council.']\n"
     ]
    }
   ],
   "source": [
    "text = ['I go to my home my home is very large', 'I went out my home I go to the market', 'I bought a yellow lemon I go back to home', 'For years now, the people have been oppressed by a ruthless dictator.', 'This play is supported by a grant from the local arts council.']\n",
    "print(text)"
   ]
  },
  {
   "cell_type": "code",
   "execution_count": 35,
   "id": "8a1e45be",
   "metadata": {},
   "outputs": [
    {
     "data": {
      "text/plain": [
       "(5, 33)"
      ]
     },
     "execution_count": 35,
     "metadata": {},
     "output_type": "execute_result"
    }
   ],
   "source": [
    "vectorizer = TfidfVectorizer() \n",
    "a = vectorizer.fit_transform(text).toarray() \n",
    "a.shape"
   ]
  },
  {
   "cell_type": "code",
   "execution_count": 36,
   "id": "51cc071f",
   "metadata": {
    "scrolled": true
   },
   "outputs": [
    {
     "data": {
      "text/plain": [
       "(5, 10)"
      ]
     },
     "execution_count": 36,
     "metadata": {},
     "output_type": "execute_result"
    }
   ],
   "source": [
    "vectorizer = TfidfVectorizer(max_features = 10) \n",
    "a = vectorizer.fit_transform(text).toarray() \n",
    "a.shape"
   ]
  },
  {
   "cell_type": "markdown",
   "id": "32fb2bb4",
   "metadata": {},
   "source": [
    "단어가 포함된 문서의 빈도가 3보다 높은 단어 중 상위 500개의 단어만 사용하려고 했으나 max_df corresponds to < documents than min_df 오류로 인해 min_df는 사용하지 않았습니다. 이후에 500개의 단어만 추려서 진행해본 결과 중복이 되는 단어들이 많아서 각각의 고유한 단어를 추출하는데 어려움이 생겨 추후에 진행할 때 오류가 발생해서 제거했습니다."
   ]
  },
  {
   "cell_type": "markdown",
   "id": "773c0cfc",
   "metadata": {},
   "source": [
    "<span style=\"color:red\">That error is telling you that your max_df value is less than the min_df value.</span>"
   ]
  },
  {
   "cell_type": "code",
   "execution_count": 37,
   "id": "db77fdde",
   "metadata": {},
   "outputs": [
    {
     "name": "stdout",
     "output_type": "stream",
     "text": [
      "(2, 41082)\n"
     ]
    }
   ],
   "source": [
    "vectorizer = TfidfVectorizer()\n",
    "X = vectorizer.fit_transform([art, gen])\n",
    "\n",
    "print(X.shape)"
   ]
  },
  {
   "cell_type": "code",
   "execution_count": 38,
   "id": "74c10764",
   "metadata": {},
   "outputs": [
    {
     "name": "stdout",
     "output_type": "stream",
     "text": [
      "23976\n",
      "영화\n"
     ]
    },
    {
     "name": "stderr",
     "output_type": "stream",
     "text": [
      "/opt/conda/lib/python3.9/site-packages/sklearn/utils/deprecation.py:87: FutureWarning: Function get_feature_names is deprecated; get_feature_names is deprecated in 1.0 and will be removed in 1.2. Please use get_feature_names_out instead.\n",
      "  warnings.warn(msg, category=FutureWarning)\n"
     ]
    }
   ],
   "source": [
    "print(vectorizer.vocabulary_['영화'])\n",
    "print(vectorizer.get_feature_names()[23976])"
   ]
  },
  {
   "cell_type": "code",
   "execution_count": 39,
   "id": "6acb5466",
   "metadata": {
    "scrolled": true
   },
   "outputs": [
    {
     "name": "stdout",
     "output_type": "stream",
     "text": [
      "예술영화를 대표하는 단어들:\n",
      "그녀, 자신, 시작, 위해, 사랑, 사람, 영화, 친구, 남자, 가족, 이야기, 마을, 사건, 마음, 세상, 아버지, 아이, 엄마, 모든, 여자, 대한, 서로, 과연, 다시, 시간, 아들, 소녀, 아내, 다른, 사이, 영화제, 세계, 사실, 하나, 점점, 남편, 감독, 여행, 인생, 발견, 모두, 순간, 우리, 가장, 마지막, 생활, 아빠, 모습, 통해, 죽음, 기억, 비밀, 학교, 음악, 한편, 소년, 생각, 도시, 명의, 사고, 결혼, 전쟁, 때문, 위기, 이제, 최고, 이자, 과거, 일상, 경찰, 상황, 간다, 미국, 결심, 운명, 현실, 관계, 지금, 단편, 여인, 하루, 이름, 이후, 준비, 인간, 감정, 만난, 국제, 처음, 충격, 살인, 누구, 동안, 존재, 그린, 어머니, 연인, 계속, 동생, 작품, \n",
      "\n",
      "일반영화를 대표하는 단어들:\n",
      "자신, 그녀, 영화제, 위해, 사람, 시작, 국제, 영화, 친구, 사랑, 남자, 이야기, 대한, 서울, 여자, 사건, 남편, 아이, 가족, 아버지, 다른, 마을, 시간, 엄마, 아들, 모든, 단편, 마음, 사실, 다시, 세계, 모습, 작품, 통해, 생각, 서로, 세상, 발견, 감독, 아내, 관계, 소녀, 사이, 하나, 우리, 애니메이션, 때문, 여성, 죽음, 과연, 점점, 인간, 생활, 한편, 결혼, 상황, 모두, 기억, 명의, 소년, 여행, 가장, 간다, 순간, 이제, 도시, 비밀, 학교, 과거, 가지, 이자, 경찰, 마지막, 미국, 동안, 전쟁, 주인공, 대해, 존재, 현실, 연출, 사고, 살인, 일상, 어머니, 계속, 사회, 인생, 다큐멘터리, 부문, 섹스, 최고, 바로, 동생, 의도, 하루, 위기, 계획, 정체, 한국, "
     ]
    }
   ],
   "source": [
    "m1 = X[0].tocoo()   # art를 TF-IDF로 표현한 sparse matrix를 가져옵니다. \n",
    "m2 = X[1].tocoo()   # gen을 TF-IDF로 표현한 sparse matrix를 가져옵니다. \n",
    "\n",
    "w1 = [[i, j] for i, j in zip(m1.col, m1.data)]\n",
    "w2 = [[i, j] for i, j in zip(m2.col, m2.data)]\n",
    "\n",
    "w1.sort(key=lambda x: x[1], reverse=True)   #art를 구성하는 단어들을 TF-IDF가 높은 순으로 정렬합니다. \n",
    "w2.sort(key=lambda x: x[1], reverse=True)   #gen을 구성하는 단어들을 TF-IDF가 높은 순으로 정렬합니다. \n",
    "\n",
    "print('예술영화를 대표하는 단어들:')\n",
    "for i in range(100):\n",
    "    print(vectorizer.get_feature_names()[w1[i][0]], end=', ')\n",
    "\n",
    "print('\\n')\n",
    "    \n",
    "print('일반영화를 대표하는 단어들:')\n",
    "for i in range(100):\n",
    "    print(vectorizer.get_feature_names()[w2[i][0]], end=', ')"
   ]
  },
  {
   "cell_type": "markdown",
   "id": "842acb9c",
   "metadata": {},
   "source": [
    "출력 결과 양쪽에서 중복되는 단어가 많았습니다. 그래서 중복되는 단어를 제거하고 100개의 단어 중에 상위 15개의 단어만 출력하겠습니다."
   ]
  },
  {
   "cell_type": "code",
   "execution_count": 40,
   "id": "472bc2cc",
   "metadata": {},
   "outputs": [],
   "source": [
    "n = 15\n",
    "w1_, w2_ = [], []\n",
    "for i in range(100):\n",
    "    w1_.append(vectorizer.get_feature_names()[w1[i][0]])\n",
    "    w2_.append(vectorizer.get_feature_names()[w2[i][0]])\n",
    "\n",
    "# w1에만 있고 w2에는 없는, 예술영화를 잘 대표하는 단어를 15개 추출한다.\n",
    "target_art, target_gen = [], []\n",
    "for i in range(100):\n",
    "    if (w1_[i] not in w2_) and (w1_[i] in model_cbow.wv): target_art.append(w1_[i])\n",
    "    if len(target_art) == n: break \n",
    "\n",
    "# w2에만 있고 w1에는 없는, 일반영화를 잘 대표하는 단어를 15개 추출한다.\n",
    "for i in range(100):\n",
    "    if (w2_[i] not in w1_) and (w2_[i] in model_cbow.wv): target_gen.append(w2_[i])\n",
    "    if len(target_gen) == n: break"
   ]
  },
  {
   "cell_type": "code",
   "execution_count": 41,
   "id": "8520c572",
   "metadata": {},
   "outputs": [
    {
     "name": "stdout",
     "output_type": "stream",
     "text": [
      "예술영화: ['아빠', '음악', '결심', '운명', '지금', '여인', '이름', '이후', '준비', '감정', '만난', '처음', '충격', '누구', '그린']\n",
      "----------------------------------------------------------------------------------------------------------------------------------\n",
      "상업영화: ['서울', '애니메이션', '여성', '가지', '주인공', '대해', '연출', '사회', '다큐멘터리', '부문', '섹스', '바로', '의도', '계획', '정체']\n"
     ]
    }
   ],
   "source": [
    "print('예술영화: '+str(target_art))\n",
    "print('-'*130)\n",
    "print('상업영화: '+str(target_gen))"
   ]
  },
  {
   "cell_type": "markdown",
   "id": "7e048b15",
   "metadata": {},
   "source": [
    "### 장르 구분\n",
    "\n",
    "- synopsis_SF.txt: SF\n",
    "- synopsis_가족.txt: 가족\n",
    "- synopsis_공연.txt: 공연\n",
    "- synopsis_공포(호러).txt: 공포(호러)\n",
    "- synopsis_기타.txt: 기타\n",
    "- synopsis_다큐멘터리.txt: 다큐멘터리\n",
    "- synopsis_드라마.txt: 드라마\n",
    "- synopsis_멜로로맨스.txt: 멜로로맨스\n",
    "- synopsis_뮤지컬.txt: 뮤지컬\n",
    "- synopsis_미스터리.txt: 미스터리\n",
    "- synopsis_범죄.txt: 범죄\n",
    "- synopsis_사극.txt: 사극\n",
    "- synopsis_서부극(웨스턴).txt: 서부극(웨스턴)\n",
    "- synopsis_성인물(에로).txt: 성인물(에로)\n",
    "- synopsis_스릴러.txt: 스릴러\n",
    "- synopsis_애니메이션.txt: 애니메이션\n",
    "- synopsis_액션.txt: 액션\n",
    "- synopsis_어드벤처.txt: 어드벤처\n",
    "- synopsis_전쟁.txt: 전쟁\n",
    "- synopsis_코미디.txt: 코미디\n",
    "- synopsis_판타지.txt: 판타지"
   ]
  },
  {
   "cell_type": "code",
   "execution_count": 42,
   "id": "39f1261b",
   "metadata": {},
   "outputs": [],
   "source": [
    "genre_txt = ['synopsis_SF.txt', 'synopsis_family.txt', 'synopsis_show.txt', 'synopsis_horror.txt', 'synopsis_etc.txt', \n",
    "             'synopsis_documentary.txt', 'synopsis_drama.txt', 'synopsis_romance.txt', 'synopsis_musical.txt', \n",
    "             'synopsis_mystery.txt', 'synopsis_crime.txt', 'synopsis_historical.txt', 'synopsis_western.txt', \n",
    "             'synopsis_adult.txt', 'synopsis_thriller.txt', 'synopsis_animation.txt', 'synopsis_action.txt', \n",
    "             'synopsis_adventure.txt', 'synopsis_war.txt', 'synopsis_comedy.txt', 'synopsis_fantasy.txt']\n",
    "genre_name = ['SF', '가족', '공연', '공포(호러)', '기타', '다큐멘터리', '드라마', '멜로로맨스', '뮤지컬', '미스터리', '범죄', '사극', '서부극(웨스턴)',\n",
    "         '성인물(에로)', '스릴러', '애니메이션', '액션', '어드벤처', '전쟁', '코미디', '판타지']"
   ]
  },
  {
   "cell_type": "code",
   "execution_count": 43,
   "id": "18e4179f",
   "metadata": {
    "scrolled": false
   },
   "outputs": [
    {
     "name": "stdout",
     "output_type": "stream",
     "text": [
      "synopsis_SF.txt 파일을 읽고 있습니다.\n",
      "synopsis_family.txt 파일을 읽고 있습니다.\n",
      "synopsis_show.txt 파일을 읽고 있습니다.\n",
      "synopsis_horror.txt 파일을 읽고 있습니다.\n",
      "synopsis_etc.txt 파일을 읽고 있습니다.\n",
      "synopsis_documentary.txt 파일을 읽고 있습니다.\n",
      "synopsis_drama.txt 파일을 읽고 있습니다.\n",
      "synopsis_romance.txt 파일을 읽고 있습니다.\n",
      "synopsis_musical.txt 파일을 읽고 있습니다.\n",
      "synopsis_mystery.txt 파일을 읽고 있습니다.\n",
      "synopsis_crime.txt 파일을 읽고 있습니다.\n",
      "synopsis_historical.txt 파일을 읽고 있습니다.\n",
      "synopsis_western.txt 파일을 읽고 있습니다.\n",
      "synopsis_adult.txt 파일을 읽고 있습니다.\n",
      "synopsis_thriller.txt 파일을 읽고 있습니다.\n",
      "synopsis_animation.txt 파일을 읽고 있습니다.\n",
      "synopsis_action.txt 파일을 읽고 있습니다.\n",
      "synopsis_adventure.txt 파일을 읽고 있습니다.\n",
      "synopsis_war.txt 파일을 읽고 있습니다.\n",
      "synopsis_comedy.txt 파일을 읽고 있습니다.\n",
      "synopsis_fantasy.txt 파일을 읽고 있습니다.\n"
     ]
    }
   ],
   "source": [
    "genre = []\n",
    "for file_name in genre_txt:\n",
    "    genre.append(read_token(file_name))"
   ]
  },
  {
   "cell_type": "code",
   "execution_count": 44,
   "id": "930e4c9c",
   "metadata": {
    "scrolled": false
   },
   "outputs": [
    {
     "name": "stdout",
     "output_type": "stream",
     "text": [
      "SF: 65038\n",
      "가족: 23821\n",
      "공연: 24369\n",
      "공포(호러): 170697\n",
      "기타: 147570\n",
      "다큐멘터리: 477808\n",
      "드라마: 1124761\n",
      "멜로로맨스: 300036\n",
      "뮤지컬: 10424\n",
      "미스터리: 46534\n",
      "범죄: 87649\n",
      "사극: 10583\n",
      "서부극(웨스턴): 2719\n",
      "성인물(에로): 133364\n",
      "스릴러: 127030\n",
      "애니메이션: 369758\n",
      "액션: 342982\n",
      "어드벤처: 29205\n",
      "전쟁: 25786\n",
      "코미디: 321161\n",
      "판타지: 35443\n",
      "\n",
      "총 장르 개수:  21\n"
     ]
    }
   ],
   "source": [
    "for i in range(0, len(genre)):\n",
    "    print('{}: {}'.format(genre_name[i],len(genre[i])))\n",
    "print()\n",
    "print('총 장르 개수: ',len(genre))"
   ]
  },
  {
   "cell_type": "code",
   "execution_count": 45,
   "id": "2e3db8bd",
   "metadata": {
    "scrolled": true
   },
   "outputs": [
    {
     "name": "stdout",
     "output_type": "stream",
     "text": [
      "(21, 42191)\n"
     ]
    }
   ],
   "source": [
    "vectorizer = TfidfVectorizer()\n",
    "X = vectorizer.fit_transform(genre)\n",
    "\n",
    "print(X.shape)"
   ]
  },
  {
   "cell_type": "markdown",
   "id": "87209503",
   "metadata": {},
   "source": [
    "### 각 장르 대표단어 추출"
   ]
  },
  {
   "cell_type": "code",
   "execution_count": 46,
   "id": "0a9733ef",
   "metadata": {
    "scrolled": false
   },
   "outputs": [
    {
     "name": "stdout",
     "output_type": "stream",
     "text": [
      "SF: 위해, 자신, 지구, 시작, 사람, 인류, 인간, 미래, 우주, 그녀, 로봇, 세계, 모든, 박사, 우주선, \n",
      "가족: 엄마, 아빠, 가족, 영화제, 자신, 위해, 친구, 아주르, 아버지, 시작, 그녀, 아들, 마을, 국제, 낙타, \n",
      "공연: 오페라, 사랑, 토스카, 실황, 올레, 자신, 카바, 그녀, 공연, 오텔로, 리골레토, 백작, 프레, 베르디, 위해, \n",
      "공포(호러): 시작, 위해, 사람, 자신, 친구, 그녀, 사건, 공포, 발견, 죽음, 마을, 가족, 악령, 남자, 좀비, \n",
      "기타: 영화제, 국제, 서울, 단편, 영화, 자신, 사람, 이야기, 그녀, 남자, 위해, 시작, 사랑, 뉴미디어, 페스티벌, \n",
      "다큐멘터리: 영화제, 영화, 다큐, 국제, 다큐멘터리, 사람, 이야기, 대한, 자신, 감독, 위해, 서울, 우리, 시작, 세계, \n",
      "드라마: 자신, 영화제, 그녀, 사람, 사랑, 영화, 위해, 시작, 국제, 남자, 친구, 이야기, 엄마, 여자, 아버지, \n",
      "멜로로맨스: 그녀, 사랑, 자신, 시작, 남편, 남자, 여자, 사람, 친구, 섹스, 위해, 마음, 결혼, 서로, 아내, \n",
      "뮤지컬: 뮤지컬, 사랑, 에스메랄다, 그녀, 음악, 충무로, 모차르트, 영화, 토스카, 자신, 니웨, 카바, 영화제, 바흐, 페뷔스, \n",
      "미스터리: 사건, 그녀, 시작, 자신, 위해, 사람, 발견, 사고, 진실, 죽음, 기억, 살인, 친구, 아내, 남자, \n",
      "범죄: 사건, 위해, 자신, 경찰, 시작, 그녀, 범죄, 조직, 살인, 사람, 마약, 형사, 남자, 모든, 살해, \n",
      "사극: 조선, 위해, 시작, 신기전, 사랑, 자신, 아가멤논, 황제, 그녀, 루안, 최고, 운명, 사람, 하선, 전쟁, \n",
      "서부극(웨스턴): 서부, 보안관, 위해, 벌린, 카우보이, 그레이프바인, 헨리, 마을, 자신, 개릿, 아이, 시작, 무법자, 프린트, 마적, \n",
      "성인물(에로): 그녀, 남편, 마사지, 자신, 섹스, 관계, 영화, 정사, 남자, 위해, 시작, 여자, 유부녀, 마음, 사랑, \n",
      "스릴러: 자신, 그녀, 사건, 시작, 위해, 사람, 살인, 남자, 발견, 아내, 경찰, 친구, 모든, 사실, 살해, \n",
      "애니메이션: 애니메이션, 국제, 영화제, 친구, 인디애니페스트, 위해, 자신, 시작, 사람, 페스티벌, 서울, 이야기, 아이, 마을, 소녀, \n",
      "액션: 위해, 자신, 시작, 조직, 사건, 사람, 그녀, 경찰, 전쟁, 모든, 목숨, 사실, 친구, 가족, 요원, \n",
      "어드벤처: 위해, 자신, 시작, 친구, 마을, 아버지, 영화, 아이, 사람, 여행, 세계, 앤트, 세상, 가족, 모험, \n",
      "전쟁: 전쟁, 독일군, 전투, 위해, 작전, 시작, 부대, 윈터스, 독일, 연합군, 미군, 임무, 자신, 사람, 나치, \n",
      "코미디: 그녀, 자신, 시작, 위해, 사랑, 사람, 친구, 영화, 남자, 여자, 영화제, 가족, 과연, 마을, 사건, \n",
      "판타지: 자신, 그녀, 시작, 위해, 사람, 사랑, 요괴, 영화제, 이야기, 영화, 소녀, 남자, 인간, 세상, 마을, \n"
     ]
    }
   ],
   "source": [
    "m = [X[i].tocoo() for i in range(X.shape[0])]\n",
    "\n",
    "w = [[[i, j] for i, j in zip(mm.col, mm.data)] for mm in m]\n",
    "\n",
    "for i in range(len(w)):\n",
    "    w[i].sort(key=lambda x: x[1], reverse=True)\n",
    "attributes = []\n",
    "for i in range(len(w)):\n",
    "    print(genre_name[i], end=': ')\n",
    "    attr = []\n",
    "    j = 0\n",
    "    while (len(attr) < 15):\n",
    "        if vectorizer.get_feature_names()[w[i][j][0]] in model_cbow.wv:\n",
    "            attr.append(vectorizer.get_feature_names()[w[i][j][0]])\n",
    "            print(vectorizer.get_feature_names()[w[i][j][0]], end=', ')\n",
    "        j += 1\n",
    "    attributes.append(attr)\n",
    "    print()"
   ]
  },
  {
   "cell_type": "markdown",
   "id": "a2cf5f67",
   "metadata": {},
   "source": [
    "# STEP 4. WEAT score 계산과 시각화"
   ]
  },
  {
   "cell_type": "markdown",
   "id": "258c7ce5",
   "metadata": {},
   "source": [
    "<img src=\"https://img1.daumcdn.net/thumb/R1280x0/?scode=mtistory2&fname=https%3A%2F%2Fblog.kakaocdn.net%2Fdn%2F4tuP4%2Fbtrx0tCTTWh%2FUQAExpNuPkYG0MrGIdrCR1%2Fimg.png\" align=\"left\">"
   ]
  },
  {
   "cell_type": "code",
   "execution_count": 47,
   "id": "e49015b3",
   "metadata": {},
   "outputs": [],
   "source": [
    "#코사인 유사도 구하는 함수\n",
    "def cos_sim(i, j):\n",
    "    return dot(i, j.T)/(norm(i)*norm(j))\n",
    "\n",
    "#weat_score의 분자를 구하는 함수\n",
    "def s(w, A, B):\n",
    "    c_a = cos_sim(w, A)\n",
    "    c_b = cos_sim(w, B)\n",
    "    mean_A = np.mean(c_a, axis=-1)\n",
    "    mean_B = np.mean(c_b, axis=-1)\n",
    "    return mean_A - mean_B #, c_a, c_b\n",
    "\n",
    "#weat_score 구하는 함수\n",
    "def weat_score(X, Y, A, B):\n",
    "    \n",
    "    s_X = s(X, A, B)\n",
    "    s_Y = s(Y, A, B)\n",
    "\n",
    "    mean_X = np.mean(s_X)\n",
    "    mean_Y = np.mean(s_Y)\n",
    "    \n",
    "    std_dev = np.std(np.concatenate([s_X, s_Y], axis=0))\n",
    "    \n",
    "    return  (mean_X-mean_Y)/std_dev"
   ]
  },
  {
   "cell_type": "code",
   "execution_count": 48,
   "id": "9b0fb9d6",
   "metadata": {},
   "outputs": [],
   "source": [
    "matrix = [[0 for _ in range(len(genre_name))] for _ in range(len(genre_name))]\n",
    "\n",
    "X = np.array([model_cbow.wv[word] for word in target_art])\n",
    "Y = np.array([model_cbow.wv[word] for word in target_gen])\n",
    "\n",
    "for i in range(len(genre_name)-1):\n",
    "    for j in range(i+1, len(genre_name)):\n",
    "        A = np.array([model_cbow.wv[word] for word in attributes[i]])\n",
    "        B = np.array([model_cbow.wv[word] for word in attributes[j]])\n",
    "        matrix[i][j] = weat_score(X, Y, A, B)"
   ]
  },
  {
   "cell_type": "code",
   "execution_count": 49,
   "id": "7ba8dada",
   "metadata": {
    "scrolled": false
   },
   "outputs": [
    {
     "name": "stdout",
     "output_type": "stream",
     "text": [
      "SF 가족 -0.44423613\n",
      "SF 공연 -0.3507738\n",
      "SF 공포(호러) -0.65761745\n",
      "SF 기타 0.37816137\n",
      "SF 다큐멘터리 0.6123802\n",
      "SF 드라마 -0.33980915\n",
      "SF 멜로로맨스 -0.78705364\n",
      "SF 뮤지컬 0.3549546\n",
      "SF 미스터리 -0.685605\n",
      "SF 범죄 -0.18387094\n",
      "SF 사극 -0.80074054\n",
      "SF 서부극(웨스턴) -0.35088497\n",
      "SF 성인물(에로) -0.5643029\n",
      "SF 스릴러 -0.513014\n",
      "SF 애니메이션 0.4124538\n",
      "SF 액션 -0.42573223\n",
      "SF 어드벤처 -0.715351\n",
      "SF 전쟁 0.2849087\n",
      "SF 코미디 -0.38527244\n",
      "SF 판타지 -0.12765267\n",
      "가족 공연 0.12572743\n",
      "가족 공포(호러) -0.1847955\n",
      "가족 기타 0.73676735\n",
      "가족 다큐멘터리 0.8237428\n",
      "가족 드라마 0.170783\n",
      "가족 멜로로맨스 -0.6536547\n",
      "가족 뮤지컬 0.67753863\n",
      "가족 미스터리 -0.3392927\n",
      "가족 범죄 0.21139334\n",
      "가족 사극 -0.13529631\n",
      "가족 서부극(웨스턴) 0.3908214\n",
      "가족 성인물(에로) -0.35056034\n",
      "가족 스릴러 -0.16471483\n",
      "가족 애니메이션 0.8635362\n",
      "가족 액션 0.0934676\n",
      "가족 어드벤처 -0.05788854\n",
      "가족 전쟁 0.61012393\n",
      "가족 코미디 0.17877583\n",
      "가족 판타지 0.40044487\n",
      "공연 공포(호러) -0.23160215\n",
      "공연 기타 0.9594418\n",
      "공연 다큐멘터리 0.9482069\n",
      "공연 드라마 0.035473496\n",
      "공연 멜로로맨스 -0.72086716\n",
      "공연 뮤지컬 0.9043297\n",
      "공연 미스터리 -0.35549602\n",
      "공연 범죄 0.11561391\n",
      "공연 사극 -0.36739144\n",
      "공연 서부극(웨스턴) 0.11322896\n",
      "공연 성인물(에로) -0.49051583\n",
      "공연 스릴러 -0.20837043\n",
      "공연 애니메이션 0.94856364\n",
      "공연 액션 -0.004517422\n",
      "공연 어드벤처 -0.18043283\n",
      "공연 전쟁 0.606333\n",
      "공연 코미디 0.05363857\n",
      "공연 판타지 0.36793935\n",
      "공포(호러) 기타 0.65720344\n",
      "공포(호러) 다큐멘터리 0.76088315\n",
      "공포(호러) 드라마 0.30556646\n",
      "공포(호러) 멜로로맨스 -0.6475863\n",
      "공포(호러) 뮤지컬 0.62101036\n",
      "공포(호러) 미스터리 -0.6223383\n",
      "공포(호러) 범죄 0.70964295\n",
      "공포(호러) 사극 0.08306514\n",
      "공포(호러) 서부극(웨스턴) 0.44363433\n",
      "공포(호러) 성인물(에로) -0.25259775\n",
      "공포(호러) 스릴러 -0.027661191\n",
      "공포(호러) 애니메이션 0.68662816\n",
      "공포(호러) 액션 0.55300844\n",
      "공포(호러) 어드벤처 0.18380496\n",
      "공포(호러) 전쟁 0.6594171\n",
      "공포(호러) 코미디 0.45999083\n",
      "공포(호러) 판타지 0.53921795\n",
      "기타 다큐멘터리 0.59758615\n",
      "기타 드라마 -0.9079227\n",
      "기타 멜로로맨스 -0.9158475\n",
      "기타 뮤지컬 -0.10398735\n",
      "기타 미스터리 -0.6821939\n",
      "기타 범죄 -0.37682483\n",
      "기타 사극 -0.84486383\n",
      "기타 서부극(웨스턴) -0.6164792\n",
      "기타 성인물(에로) -0.8401154\n",
      "기타 스릴러 -0.5775993\n",
      "기타 애니메이션 0.0062196474\n",
      "기타 액션 -0.4831125\n",
      "기타 어드벤처 -0.8197485\n",
      "기타 전쟁 -0.23137026\n",
      "기타 코미디 -0.7442413\n",
      "기타 판타지 -0.7134562\n",
      "다큐멘터리 드라마 -0.9353759\n",
      "다큐멘터리 멜로로맨스 -0.9190122\n",
      "다큐멘터리 뮤지컬 -0.74689555\n",
      "다큐멘터리 미스터리 -0.7693138\n",
      "다큐멘터리 범죄 -0.5011737\n",
      "다큐멘터리 사극 -0.9242399\n",
      "다큐멘터리 서부극(웨스턴) -0.7292458\n",
      "다큐멘터리 성인물(에로) -0.85485756\n",
      "다큐멘터리 스릴러 -0.66628975\n",
      "다큐멘터리 애니메이션 -0.50175524\n",
      "다큐멘터리 액션 -0.6114444\n",
      "다큐멘터리 어드벤처 -0.9622621\n",
      "다큐멘터리 전쟁 -0.44374722\n",
      "다큐멘터리 코미디 -0.8339602\n",
      "다큐멘터리 판타지 -0.91231817\n",
      "드라마 멜로로맨스 -0.8566059\n",
      "드라마 뮤지컬 0.83529884\n",
      "드라마 미스터리 -0.43490675\n",
      "드라마 범죄 0.108527526\n",
      "드라마 사극 -0.3597689\n",
      "드라마 서부극(웨스턴) 0.08542189\n",
      "드라마 성인물(에로) -0.59992695\n",
      "드라마 스릴러 -0.25219455\n",
      "드라마 애니메이션 0.9164738\n",
      "드라마 액션 -0.020812996\n",
      "드라마 어드벤처 -0.27029964\n",
      "드라마 전쟁 0.47351316\n",
      "드라마 코미디 0.04808295\n",
      "드라마 판타지 0.5507448\n",
      "멜로로맨스 뮤지컬 0.8841605\n",
      "멜로로맨스 미스터리 0.46930566\n",
      "멜로로맨스 범죄 0.87996435\n",
      "멜로로맨스 사극 0.65919614\n",
      "멜로로맨스 서부극(웨스턴) 0.77771\n",
      "멜로로맨스 성인물(에로) 0.81916755\n",
      "멜로로맨스 스릴러 0.67478114\n",
      "멜로로맨스 애니메이션 0.9021494\n",
      "멜로로맨스 액션 0.7705397\n",
      "멜로로맨스 어드벤처 0.62637764\n",
      "멜로로맨스 전쟁 0.81752115\n",
      "멜로로맨스 코미디 0.9353744\n",
      "멜로로맨스 판타지 0.8521829\n",
      "뮤지컬 미스터리 -0.6531387\n",
      "뮤지컬 범죄 -0.34928727\n",
      "뮤지컬 사극 -0.81019247\n",
      "뮤지컬 서부극(웨스턴) -0.5595604\n",
      "뮤지컬 성인물(에로) -0.81098944\n",
      "뮤지컬 스릴러 -0.5471576\n",
      "뮤지컬 애니메이션 0.058937345\n",
      "뮤지컬 액션 -0.45588595\n",
      "뮤지컬 어드벤처 -0.7832028\n",
      "뮤지컬 전쟁 -0.19844782\n",
      "뮤지컬 코미디 -0.68621343\n",
      "뮤지컬 판타지 -0.66561764\n",
      "미스터리 범죄 1.083463\n",
      "미스터리 사극 0.2835707\n",
      "미스터리 서부극(웨스턴) 0.54771596\n",
      "미스터리 성인물(에로) -0.05919236\n",
      "미스터리 스릴러 0.7784986\n",
      "미스터리 애니메이션 0.69973284\n",
      "미스터리 액션 0.8202366\n",
      "미스터리 어드벤처 0.34332123\n",
      "미스터리 전쟁 0.697175\n",
      "미스터리 코미디 0.57532275\n",
      "미스터리 판타지 0.594146\n",
      "범죄 사극 -0.37027493\n",
      "범죄 서부극(웨스턴) -0.08315114\n",
      "범죄 성인물(에로) -0.53632003\n",
      "범죄 스릴러 -1.0349442\n",
      "범죄 애니메이션 0.3895165\n",
      "범죄 액션 -0.40770742\n",
      "범죄 어드벤처 -0.24641688\n",
      "범죄 전쟁 0.35668805\n",
      "범죄 코미디 -0.12220156\n",
      "범죄 판타지 0.07925008\n",
      "사극 서부극(웨스턴) 0.48049715\n",
      "사극 성인물(에로) -0.3287476\n",
      "사극 스릴러 -0.076436356\n",
      "사극 애니메이션 0.8522368\n",
      "사극 액션 0.26022172\n",
      "사극 어드벤처 0.14495815\n",
      "사극 전쟁 0.89618385\n",
      "사극 코미디 0.5124931\n",
      "사극 판타지 0.68198055\n",
      "서부극(웨스턴) 성인물(에로) -0.4810104\n",
      "서부극(웨스턴) 스릴러 -0.36734676\n",
      "서부극(웨스턴) 애니메이션 0.7023652\n",
      "서부극(웨스턴) 액션 -0.11122662\n",
      "서부극(웨스턴) 어드벤처 -0.40489328\n",
      "서부극(웨스턴) 전쟁 0.6403848\n",
      "서부극(웨스턴) 코미디 -0.07233174\n",
      "서부극(웨스턴) 판타지 0.22418642\n",
      "성인물(에로) 스릴러 0.2413847\n",
      "성인물(에로) 애니메이션 0.79284984\n",
      "성인물(에로) 액션 0.4160317\n",
      "성인물(에로) 어드벤처 0.334866\n",
      "성인물(에로) 전쟁 0.6304413\n",
      "성인물(에로) 코미디 0.63431543\n",
      "성인물(에로) 판타지 0.6575902\n",
      "스릴러 애니메이션 0.59627986\n",
      "스릴러 액션 0.54440033\n",
      "스릴러 어드벤처 0.14028697\n",
      "스릴러 전쟁 0.5928089\n",
      "스릴러 코미디 0.3386575\n",
      "스릴러 판타지 0.41073406\n",
      "애니메이션 액션 -0.5099974\n",
      "애니메이션 어드벤처 -0.9161898\n",
      "애니메이션 전쟁 -0.2549488\n",
      "애니메이션 코미디 -0.755704\n",
      "애니메이션 판타지 -0.72295135\n",
      "액션 어드벤처 -0.14033103\n",
      "액션 전쟁 0.5481427\n",
      "액션 코미디 0.045871843\n",
      "액션 판타지 0.2283836\n",
      "어드벤처 전쟁 0.68959844\n",
      "어드벤처 코미디 0.33892182\n",
      "어드벤처 판타지 0.73935956\n",
      "전쟁 코미디 -0.5036572\n",
      "전쟁 판타지 -0.28397635\n",
      "코미디 판타지 0.50804216\n"
     ]
    }
   ],
   "source": [
    "for i in range(len(genre_name)-1):\n",
    "    for j in range(i+1, len(genre_name)):\n",
    "        print(genre_name[i], genre_name[j],matrix[i][j])"
   ]
  },
  {
   "cell_type": "code",
   "execution_count": 50,
   "id": "6ae7c90a",
   "metadata": {
    "scrolled": false
   },
   "outputs": [
    {
     "data": {
      "text/plain": [
       "<AxesSubplot:>"
      ]
     },
     "execution_count": 50,
     "metadata": {},
     "output_type": "execute_result"
    },
    {
     "data": {
      "image/png": "[encoded data removed]",
      "text/plain": [
       "<Figure size 1080x1080 with 2 Axes>"
      ]
     },
     "metadata": {},
     "output_type": "display_data"
    }
   ],
   "source": [
    "import numpy as np; \n",
    "import seaborn as sns; \n",
    "import matplotlib.pyplot as plt\n",
    "\n",
    "np.random.seed(0)\n",
    "\n",
    "# 한글 지원 폰트\n",
    "sns.set(font='NanumGothic')\n",
    "\n",
    "plt.figure(figsize=(15,15))\n",
    "plt.rcParams['axes.unicode_minus'] = False\n",
    "\n",
    "ax = sns.heatmap(matrix, xticklabels=genre_name, yticklabels=genre_name, annot=True,  cmap='RdYlGn_r')\n",
    "ax"
   ]
  },
  {
   "cell_type": "markdown",
   "id": "1e7244e3",
   "metadata": {},
   "source": [
    "# 회고"
   ]
  },
  {
   "cell_type": "markdown",
   "id": "3b943109",
   "metadata": {},
   "source": [
    "cbow랑 skip-gram을 비교했을 때 대다수의 논문에서 skip-gram이 성능이 더 우수하다고 하는데 실험 결과는 cbow가 더 좋게 나왔다. 그 이유에 대해서 생각해본 결과 '공포','사랑'과 같은 단어는 문장에서 자주 등장하는 단어이기 때문에 주변 단어를 통해 중심 단어를 맞추는 skip-gram 보다 cbow처럼 중심 단어를 통해 주변 단어를 찾는 방법이 더 좋은 결과를 얻을 수 있었던 것 같다. 만약 희소성이 떨어지는 단어가 주어졌다면 skip-gram이 더 좋은 성능을 냈을 것이다."
   ]
  },
  {
   "cell_type": "markdown",
   "id": "672b5bcd",
   "metadata": {},
   "source": [
    "vector_size를 늘린 결과 사랑을 입력했을 때 로미오, 친타와 같이 직관적으로 관련이 없을 것 같은 단어가 나왔습니다. vector_size를 무작정 늘리는 것이 결과에 안좋은 영향을 미친다는 것을 알았습니다. window 사이즈를 3으로 줄인 결과 아르튬, 안즈, 토마슈 같은 단어가 아닌 사랑에 관련된 단어를 얻을 수 있었으나 cbow에서 정확도가 많이 떨어졌습니다. skip-gram은 정확도가 올랐지만 사랑과는 연관성이 없는 단어들이 출력되었습니다. 적절한 window 크기 설정하는 것이 얼마나 중요한지 알 수 있었습니다. 그리고 이 실험을 통해 명사가 아닌 조사, 동사가 포함이 되어있는 것을 확인했습니다."
   ]
  },
  {
   "cell_type": "markdown",
   "id": "fc3a93a6",
   "metadata": {},
   "source": [
    "데이터가 상업 영화쪽 데이터가 월등히 많아서, 상업 영화쪽으로의 편향이 있었습니다. 히트맵을 분석해보면 0에 가까울수록 두 장르간 편향성이 없다고 볼 수 있습니다. 초록색이 진할수록 예술영화에 가깝고 붉은색이 진할수록 상업영화에 가깝습니다. "
   ]
  },
  {
   "cell_type": "markdown",
   "id": "45ba4a35",
   "metadata": {},
   "source": [
    "### SF, 가족, 공포(호러) 장르에 대해서 +- 0.7을 기준으로 분석했습니다.\n",
    "\n",
    "- SF 장르와 로멘스, 사극, 어드벤처 장르들은 예술영화로 편향되어 있습니다.\n",
    "- 가족 장르와 기타, 다큐멘터리, 애니메이션 장르들은 상업영화에 편향되어 있습니다.\n",
    "- 공연 장르와 기타, 다큐멘터리, 뮤지컬, 애니메이션 장르들은 상업영화에 편향되어 있습니다. 하지만 멜로 장르는 예술영화에 편향되어 있습니다.\n",
    "- 공포 장르와 다큐멘터리, 범죄 장르들은 상업영화에 편향되어 있습니다."
   ]
  },
  {
   "cell_type": "markdown",
   "id": "bea639ce",
   "metadata": {},
   "source": [
    "### 예술영화와 상업영화"
   ]
  },
  {
   "cell_type": "markdown",
   "id": "0b2061f7",
   "metadata": {},
   "source": [
    "1) 상업영화 : 영화의 메카인 헐리우드의 대부분의 영화들이 그렇듯 가장 주체가 영화에 있어 가장 중요시 되는 부분이 흥행과 자본이라는 점이다. 자본주의적인 성격을 띄며 영화에 있어서는 감독과 연출의 표현하고자 하는 예술관이나 의도 보다는 관객들의 흥미를 이끌 수 있는 재미를 줌으로써 흥행이 목표인 영화의 종류이다.\n",
    "대체적인 특징으론 관객에게 영화를 보면서 이해나 생각의 틈과 기회를 부여한다기 보단 주입식의 내용전달을 하는 특징을 갖고 있다. 따라서 장르가 확연히 분간되는 특성을 갖고 있다.\n",
    "\n",
    "2) 예술영화 : 가장 큰 차이점이자 특징이라 말 할 수 있는 점은 대중오락적인 흥행성을 염두에 두지 않고 감독이 보여주고자 하는 가치관이나 예술관을 염려하여 비교적 상업영화보단 예술적인 가치에 중점을 두고 제작되는 영화를 이야기 한다.\n",
    "전개 자체가 스토리를 중시하는 상업영화와는 다르게 사회적이며 심리적인 현상에 중점을 두며 실험영화, 독립영화, 작가주의의 영화들이 이에 해당된다.\n",
    "대체로 이런 영화들은 거대 자본으로부터 벗어나 있고 상업적인 흥행보다는 작품성과 작가성에 의존하고 고전적인 내러티브에서 벗어난 분산적이거나 일관된 이야기 구성과 영웅적이지 않은 평범한 주인공이 등장하는 특징을 갖고 있다."
   ]
  },
  {
   "cell_type": "markdown",
   "id": "b5f867cc",
   "metadata": {},
   "source": [
    "히트맵을 통해 예술영화에 많이 편향된 장르는 SF, 기타, 다큐멘터리였고 상업영화에 편향된 장르들을 분석한 결과 예술영화와도 어느정도 편향된 것으로 나타났다. 상업영화로 편향이 집중된 장르는 없었습니다. 그리고 SF장르는 내가 알기에 상업적인 영화가 많은데 예술영화로 나와서 결과를 믿을 수 없었습니다. 그 이유로 생각해본 것은 TF-IDF를 진행하는 과정에서 빈도수가 많은 단어만 간추려서 사용했어야하는데 모든 단어를 학습해서 이런 결과가 나온 것 같습니다."
   ]
  },
  {
   "cell_type": "markdown",
   "id": "d53933cc",
   "metadata": {},
   "source": [
    "# 참고"
   ]
  },
  {
   "cell_type": "markdown",
   "id": "88a2655e",
   "metadata": {},
   "source": [
    "- [TF-IDF](https://wikidocs.net/31698)\n",
    "- [TF-IDF 하이퍼파라미터](https://chan-lab.tistory.com/27) \n",
    "- [TF-IDF 하이퍼파라미터 오류해결](https://stackoverflow.com/questions/39828369/max-df-corresponds-to-documents-than-min-df-error-in-ridge-classifier) \n",
    "\n",
    "- [데이터의 편향성](https://www.hankyung.com/it/article/201902200481g)\n",
    "- [관련논문](https://arxiv.org/pdf/2111.07864.pdf)\n",
    "- [예술영화 상업영화](http://report.kyobobook.co.kr/view/2013/11752522/)"
   ]
  }
 ],
 "metadata": {
  "kernelspec": {
   "display_name": "Python 3 (ipykernel)",
   "language": "python",
   "name": "python3"
  },
  "language_info": {
   "codemirror_mode": {
    "name": "ipython",
    "version": 3
   },
   "file_extension": ".py",
   "mimetype": "text/x-python",
   "name": "python",
   "nbconvert_exporter": "python",
   "pygments_lexer": "ipython3",
   "version": "3.9.7"
  }
 },
 "nbformat": 4,
 "nbformat_minor": 5
}
