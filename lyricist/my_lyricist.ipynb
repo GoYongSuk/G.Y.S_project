{
 "cells": [
  {
   "cell_type": "code",
   "execution_count": 1,
   "id": "8f3c72ee",
   "metadata": {},
   "outputs": [],
   "source": [
    "import glob\n",
    "import os, re \n",
    "import numpy as np\n",
    "import tensorflow as tf"
   ]
  },
  {
   "cell_type": "markdown",
   "id": "737b1e24",
   "metadata": {},
   "source": [
    "# 1. 데이터 불러오기"
   ]
  },
  {
   "cell_type": "code",
   "execution_count": 2,
   "id": "f7a62665",
   "metadata": {},
   "outputs": [
    {
     "name": "stdout",
     "output_type": "stream",
     "text": [
      "데이터 크기: 187088\n",
      "Examples:\n",
      " [\"Now I've heard there was a secret chord\", 'That David played, and it pleased the Lord', \"But you don't really care for music, do you?\"]\n"
     ]
    }
   ],
   "source": [
    "txt_file_path = os.getenv('HOME')+'/aiffel/lyricist/data/lyrics/*'    # * 를 이용해 전체 파일을 불러온다.\n",
    "\n",
    "txt_list = glob.glob(txt_file_path)\n",
    "\n",
    "raw_corpus = []   # 불러온 텍스트 파일을 담는 리스트\n",
    "\n",
    "# 여러개의 txt 파일을 모두 읽어서 raw_corpus 에 담습니다.\n",
    "for txt_file in txt_list:\n",
    "    with open(txt_file, \"r\") as f:\n",
    "        raw = f.read().splitlines()\n",
    "        raw_corpus.extend(raw)\n",
    "\n",
    "print(\"데이터 크기:\", len(raw_corpus))\n",
    "print(\"Examples:\\n\", raw_corpus[:3])"
   ]
  },
  {
   "cell_type": "markdown",
   "id": "fc1e9c82",
   "metadata": {},
   "source": [
    "# 2. 문장 중에 대화가 있는 문장만 골라내기(Tensorflow의 데이터 전처리)"
   ]
  },
  {
   "cell_type": "code",
   "execution_count": 3,
   "id": "8301f9ed",
   "metadata": {},
   "outputs": [
    {
     "name": "stdout",
     "output_type": "stream",
     "text": [
      "Now I've heard there was a secret chord\n",
      "That David played, and it pleased the Lord\n",
      "But you don't really care for music, do you?\n"
     ]
    }
   ],
   "source": [
    "for idx, sentence in enumerate(raw_corpus):\n",
    "    if len(sentence) == 0 : continue   # 길이가 0인 문장은 건너뜁니다.\n",
    "    if sentence[-1] == \":\": continue  # 문장의 끝이 : 인 문장은 건너뜁니다.\n",
    "\n",
    "    if idx > 2: break   # 문장 3개 확인해보기\n",
    "        \n",
    "    print(sentence)"
   ]
  },
  {
   "cell_type": "code",
   "execution_count": 4,
   "id": "77313126",
   "metadata": {},
   "outputs": [
    {
     "name": "stdout",
     "output_type": "stream",
     "text": [
      "<start> this is sample sentence . <end>\n"
     ]
    }
   ],
   "source": [
    "def preprocess_sentence(sentence):\n",
    "    sentence = sentence.lower().strip() # 1. 소문자로 바꾸고, 양쪽 공백을 지웁니다\n",
    "    sentence = re.sub(r\"([?.!,¿])\", r\" \\1 \", sentence) # 2. 특수문자 양쪽에 공백을 넣고\n",
    "    sentence = re.sub(r'[\" \"]+', \" \", sentence) # 3. 여러개의 공백은 하나의 공백으로 바꿉니다\n",
    "    sentence = re.sub(r\"[^a-zA-Z?.!,¿]+\", \" \", sentence) # 4. a-zA-Z?.!,¿가 아닌 모든 문자를 하나의 공백으로 바꿉니다\n",
    "    sentence = sentence.strip() # 5 .. 다시 양쪽 공백을 지웁니다\n",
    "    sentence = '<start> ' + sentence + ' <end>' # 6. 문장 시작에는 <start>, 끝에는 <end>를 추가합니다\n",
    "    return sentence\n",
    "\n",
    "# 처리된 문장 확인하기\n",
    "print(preprocess_sentence(\"This @_is ;;;sample        sentence.\"))"
   ]
  },
  {
   "cell_type": "code",
   "execution_count": 5,
   "id": "22c2cd90",
   "metadata": {},
   "outputs": [
    {
     "data": {
      "text/plain": [
       "['<start> now i ve heard there was a secret chord <end>',\n",
       " '<start> that david played , and it pleased the lord <end>',\n",
       " '<start> but you don t really care for music , do you ? <end>']"
      ]
     },
     "execution_count": 5,
     "metadata": {},
     "output_type": "execute_result"
    }
   ],
   "source": [
    "# 추출한 문장을 담는 리스트\n",
    "corpus = []\n",
    "\n",
    "#  원하는 문장만 추출\n",
    "for sentence in raw_corpus:\n",
    "    if len(sentence) == 0: continue\n",
    "    if sentence[-1] == \":\": continue    \n",
    "    preprocessed_sentence = preprocess_sentence(sentence)\n",
    "    corpus.append(preprocessed_sentence)\n",
    "        \n",
    "# 결과물을 3개 확인해 본다\n",
    "corpus[:3]"
   ]
  },
  {
   "cell_type": "markdown",
   "id": "5d1476be",
   "metadata": {},
   "source": [
    "## 토큰화 시작"
   ]
  },
  {
   "cell_type": "markdown",
   "id": "5faf7024",
   "metadata": {},
   "source": [
    "[Tensorflow](https://www.tensorflow.org/api_docs/python/tf/keras/preprocessing/sequence/pad_sequences)"
   ]
  },
  {
   "cell_type": "markdown",
   "id": "0682ba5c",
   "metadata": {},
   "source": [
    "### maxlen을 이용하면 시퀸스의 최대길이를 정할 수 있다"
   ]
  },
  {
   "cell_type": "code",
   "execution_count": 6,
   "id": "d7ca17f5",
   "metadata": {},
   "outputs": [
    {
     "name": "stdout",
     "output_type": "stream",
     "text": [
      "[[   2   50    5 ...    0    0    0]\n",
      " [   2   17 2639 ...    0    0    0]\n",
      " [   2   36    7 ...   43    3    0]\n",
      " ...\n",
      " [   5   22    9 ...   10 1013    3]\n",
      " [  37   15 9049 ...  877  647    3]\n",
      " [   2    7   34 ...    0    0    0]] <keras_preprocessing.text.Tokenizer object at 0x7f14612344c0>\n",
      "[[   2   50    5   91  297   65   57    9  969 6042]\n",
      " [   2   17 2639  873    4    8   11 6043    6  329]\n",
      " [   2   36    7   37   15  164  282   28  299    4]]\n"
     ]
    }
   ],
   "source": [
    "# 토큰화 할 때 텐서플로우의 Tokenizer와 pad_sequences를 사용합니다\n",
    "def tokenize(corpus):\n",
    "    tokenizer = tf.keras.preprocessing.text.Tokenizer(\n",
    "        num_words=12000,  #12000개의 단어장 \n",
    "        filters=' ',     # 데이터를 정제 했기때문에 사용할 필요가 없다\n",
    "        oov_token=\"<unk>\"\n",
    "    )\n",
    "    # corpus 함수를 이용해 tokenizer 내부의 단어장을 완성합니다\n",
    "    tokenizer.fit_on_texts(corpus)\n",
    "    # 준비한 tokenizer를 이용해 corpus를 Tensor로 변환합니다\n",
    "    tensor = tokenizer.texts_to_sequences(corpus)   \n",
    "    # 입력 데이터의 시퀀스 길이를 일정하게 맞춰줍니다\n",
    "    # 만약 시퀀스가 짧다면 문장 뒤에 패딩을 붙여 길이를 맞춰줍니다.\n",
    "    # 문장 앞에 패딩을 붙여 길이를 맞추고 싶다면 padding='pre'를 사용합니다\n",
    "    tensor = tf.keras.preprocessing.sequence.pad_sequences(tensor, padding='post', maxlen=15) \n",
    "    \n",
    "    print(tensor,tokenizer)\n",
    "    return tensor, tokenizer\n",
    "\n",
    "tensor, tokenizer = tokenize(corpus)\n",
    "print(tensor[:3, :10])     # 문장 뒤에 padding이 붙어서 0이 출력되는 것을 확인할 수 있다."
   ]
  },
  {
   "cell_type": "code",
   "execution_count": 7,
   "id": "df4948d5",
   "metadata": {
    "scrolled": true
   },
   "outputs": [
    {
     "name": "stdout",
     "output_type": "stream",
     "text": [
      "1 : <unk>\n",
      "2 : <start>\n",
      "3 : <end>\n",
      "4 : ,\n",
      "5 : i\n",
      "6 : the\n",
      "7 : you\n",
      "8 : and\n",
      "9 : a\n",
      "10 : to\n"
     ]
    }
   ],
   "source": [
    "for idx in tokenizer.index_word:       #tokenizer에 구축된 단어 사전의 인덱스\n",
    "    print(idx, \":\", tokenizer.index_word[idx])\n",
    "    if idx >= 10: break"
   ]
  },
  {
   "cell_type": "markdown",
   "id": "f77e4623",
   "metadata": {},
   "source": [
    "### padding이란 데이터의 크기를 맞춰주기 위해 특정 값을 채워넣는 것이다"
   ]
  },
  {
   "cell_type": "code",
   "execution_count": 8,
   "id": "dd522345",
   "metadata": {},
   "outputs": [
    {
     "name": "stdout",
     "output_type": "stream",
     "text": [
      "[   2   50    5   91  297   65   57    9  969 6042    3    0    0    0]\n",
      "[  50    5   91  297   65   57    9  969 6042    3    0    0    0    0]\n"
     ]
    }
   ],
   "source": [
    "# tensor에서 마지막 토큰을 잘라내서 소스 문장을 생성합니다, padding 값은 의미가 없으므로 제거한다.\n",
    "rc_input = tensor[:, :-1]   # 마지막 토큰은 <end>가 아니라 <pad>일 가능성이 높습니다. 출력값을 보면 끝 부분이 0인 것이 padding\n",
    "# tensor에서 <start>를 잘라내서 타겟 문장을 생성합니다.\n",
    "tgt_input = tensor[:, 1:]    # 앞에서부터 진행한다. start를 잘라준다.\n",
    "\n",
    "print(src_input[0])\n",
    "print(tgt_input[0])"
   ]
  },
  {
   "cell_type": "markdown",
   "id": "199ee8fa",
   "metadata": {},
   "source": [
    "# 3. 데이터를 훈련데이터와 평가 데이터(전체의 20%)로 분리한다."
   ]
  },
  {
   "cell_type": "code",
   "execution_count": 10,
   "id": "7a2d28db",
   "metadata": {},
   "outputs": [],
   "source": [
    "from sklearn.model_selection import train_test_split\n",
    "enc_train, enc_val, dec_train, dec_val = train_test_split(src_input, \n",
    "                                                          tgt_input, \n",
    "                                                          test_size=0.2,\n",
    "                                                          random_state=42,) "
   ]
  },
  {
   "cell_type": "markdown",
   "id": "c91b76a2",
   "metadata": {},
   "source": [
    "# 4. 데이터 셋 객체 만들기"
   ]
  },
  {
   "cell_type": "code",
   "execution_count": 11,
   "id": "bb90283c",
   "metadata": {},
   "outputs": [
    {
     "data": {
      "text/plain": [
       "<BatchDataset shapes: ((256, 14), (256, 14)), types: (tf.int32, tf.int32)>"
      ]
     },
     "execution_count": 11,
     "metadata": {},
     "output_type": "execute_result"
    }
   ],
   "source": [
    "BUFFER_SIZE = len(src_input)\n",
    "BATCH_SIZE = 256\n",
    "steps_per_epoch = len(src_input) // BATCH_SIZE\n",
    "\n",
    " # tokenizer가 구축한 단어사전 내 12000개와, 여기 포함되지 않은 0:<pad>를 포함하여 12001개\n",
    "VOCAB_SIZE = tokenizer.num_words + 1   \n",
    "\n",
    "dataset = tf.data.Dataset.from_tensor_slices((src_input, tgt_input))\n",
    "dataset = dataset.shuffle(BUFFER_SIZE)\n",
    "dataset = dataset.batch(BATCH_SIZE, drop_remainder=True)\n",
    "dataset"
   ]
  },
  {
   "cell_type": "markdown",
   "id": "784277c3",
   "metadata": {},
   "source": [
    "# 5. 작사 모델 만들기"
   ]
  },
  {
   "cell_type": "code",
   "execution_count": 12,
   "id": "ff2a6e72",
   "metadata": {},
   "outputs": [],
   "source": [
    "class TextGenerator(tf.keras.Model):\n",
    "    def __init__(self, vocab_size, embedding_size, hidden_size):\n",
    "        super().__init__()\n",
    "        \n",
    "        self.embedding = tf.keras.layers.Embedding(vocab_size, embedding_size)\n",
    "        self.rnn_1 = tf.keras.layers.LSTM(hidden_size, return_sequences=True)\n",
    "        self.rnn_2 = tf.keras.layers.LSTM(hidden_size, return_sequences=True)\n",
    "        self.linear = tf.keras.layers.Dense(vocab_size)\n",
    "        \n",
    "    def call(self, x):\n",
    "        out = self.embedding(x)\n",
    "        out = self.rnn_1(out)\n",
    "        out = self.rnn_2(out)\n",
    "        out = self.linear(out)\n",
    "        \n",
    "        return out\n",
    "    \n",
    "embedding_size = 256        # 배치 사이즈\n",
    "hidden_size = 1024\n",
    "model = TextGenerator(tokenizer.num_words + 1, embedding_size , hidden_size)"
   ]
  },
  {
   "cell_type": "markdown",
   "id": "f8336c80",
   "metadata": {},
   "source": [
    "embedding_size 값이 커질수록 단어의 추상적인 특징들을 더 잡아낼 수 있지만, 충분한 데이터가 주어지지 않으면 오히려 혼란만을 야기할 수 있다.\n",
    "hidden_size 값은 '판단하는 사람의 수'라고 생각할 수 있다. 충분한 데이터가 있으면 상관이 없지만 적은 데이터라면 오히려 혼란을 일으킬 수 있다. 사공이 많으면 배가 산으로 간다는 말이다."
   ]
  },
  {
   "cell_type": "code",
   "execution_count": 15,
   "id": "10c4403d",
   "metadata": {},
   "outputs": [
    {
     "data": {
      "text/plain": [
       "<tf.Tensor: shape=(256, 14, 12001), dtype=float32, numpy=\n",
       "array([[[-8.72402961e-05, -9.28012450e-05, -1.18685632e-04, ...,\n",
       "          7.11265748e-05,  1.94095162e-04,  1.62847755e-05],\n",
       "        [-3.44120548e-04, -3.63957457e-04, -2.25052878e-04, ...,\n",
       "         -1.73488825e-05,  3.31190211e-04,  9.82931397e-06],\n",
       "        [-7.41630618e-04, -6.60670106e-04, -3.21213913e-04, ...,\n",
       "         -1.53919376e-04,  5.25018899e-04,  7.05226630e-05],\n",
       "        ...,\n",
       "        [-1.72573794e-03, -7.94656051e-04,  1.04067195e-03, ...,\n",
       "          6.71265938e-04,  1.68912829e-05, -5.36252512e-04],\n",
       "        [-1.97361223e-03, -1.11946324e-03,  8.09121237e-04, ...,\n",
       "          5.77226107e-04,  1.73955632e-04, -3.55791504e-04],\n",
       "        [-2.05686409e-03, -1.04225602e-03,  8.51469464e-04, ...,\n",
       "          6.49749592e-04,  2.21561902e-04, -2.32820821e-04]],\n",
       "\n",
       "       [[-7.12693654e-05, -4.00051722e-05, -7.08139341e-05, ...,\n",
       "          2.85087357e-04, -1.13417031e-04,  8.53467282e-05],\n",
       "        [-3.01605352e-04,  3.36235353e-05, -1.17672287e-04, ...,\n",
       "          4.63383330e-04, -3.15109384e-04,  2.47358024e-04],\n",
       "        [-4.94662090e-04,  1.88383183e-05,  1.42734047e-04, ...,\n",
       "          4.79437527e-04, -5.65586379e-04,  9.92226996e-05],\n",
       "        ...,\n",
       "        [-1.80326728e-03, -5.62835252e-04,  1.69084384e-03, ...,\n",
       "         -1.24066079e-04, -1.70471496e-03, -1.62861659e-03],\n",
       "        [-1.54924730e-03, -6.44221145e-04,  1.65738992e-03, ...,\n",
       "         -1.01208934e-05, -1.51179126e-03, -1.47930440e-03],\n",
       "        [-1.20244978e-03, -6.59601530e-04,  1.60547730e-03, ...,\n",
       "          1.08321445e-04, -1.16980216e-03, -1.13924150e-03]],\n",
       "\n",
       "       [[-7.12693654e-05, -4.00051722e-05, -7.08139341e-05, ...,\n",
       "          2.85087357e-04, -1.13417031e-04,  8.53467282e-05],\n",
       "        [-5.52042970e-04, -2.63644179e-05, -6.10043799e-06, ...,\n",
       "          3.02553090e-04, -8.45407849e-05, -1.82446864e-04],\n",
       "        [-7.86523451e-04,  2.32550490e-04, -1.31810084e-04, ...,\n",
       "          7.86541495e-05,  4.13027883e-05, -4.25329141e-04],\n",
       "        ...,\n",
       "        [-1.45273487e-04,  2.74225720e-04,  2.53412407e-04, ...,\n",
       "          8.44328955e-04,  5.12140919e-04, -4.46787104e-04],\n",
       "        [ 1.01877740e-04,  2.37002692e-04,  4.05668921e-04, ...,\n",
       "          9.01128806e-04,  6.20211707e-04,  1.31589288e-04],\n",
       "        [ 3.66799795e-04,  2.33999832e-04,  5.79664193e-04, ...,\n",
       "          9.16510762e-04,  7.87207740e-04,  7.68784666e-04]],\n",
       "\n",
       "       ...,\n",
       "\n",
       "       [[-7.12693654e-05, -4.00051722e-05, -7.08139341e-05, ...,\n",
       "          2.85087357e-04, -1.13417031e-04,  8.53467282e-05],\n",
       "        [-8.41677102e-05, -6.56549091e-05, -1.95771718e-04, ...,\n",
       "          3.38660087e-04, -2.30301589e-06,  1.48456253e-04],\n",
       "        [-1.26964791e-04,  1.80328789e-04, -1.91363637e-04, ...,\n",
       "          9.46655200e-05,  1.17550320e-04,  1.17293079e-04],\n",
       "        ...,\n",
       "        [ 4.28753439e-04,  4.18111391e-04, -4.23108489e-04, ...,\n",
       "         -1.64896628e-04,  6.44259504e-04,  1.57250883e-03],\n",
       "        [ 8.34529812e-04,  4.64562152e-04, -3.50896124e-04, ...,\n",
       "          9.77840682e-05,  5.04223339e-04,  1.75300892e-03],\n",
       "        [ 1.19153748e-03,  4.96634224e-04, -2.09013742e-04, ...,\n",
       "          3.27236223e-04,  4.49329236e-04,  2.00917106e-03]],\n",
       "\n",
       "       [[-7.12693654e-05, -4.00051722e-05, -7.08139341e-05, ...,\n",
       "          2.85087357e-04, -1.13417031e-04,  8.53467282e-05],\n",
       "        [ 2.68645032e-04, -1.94919456e-04, -2.09556150e-04, ...,\n",
       "          1.74107554e-04, -7.78116737e-05,  3.92985676e-04],\n",
       "        [ 6.14749442e-04, -1.03762701e-04, -3.78658151e-04, ...,\n",
       "         -1.34141708e-04,  8.08918921e-05,  5.27604949e-04],\n",
       "        ...,\n",
       "        [ 1.33545510e-03,  3.21667903e-04,  1.04394904e-03, ...,\n",
       "          7.53428612e-04,  4.91977087e-04,  1.47596234e-03],\n",
       "        [ 1.47857028e-03,  4.36500937e-04,  1.15054601e-03, ...,\n",
       "          8.48197087e-04,  6.19426894e-04,  1.89749140e-03],\n",
       "        [ 1.63007772e-03,  5.58576023e-04,  1.24682870e-03, ...,\n",
       "          8.91727512e-04,  7.91744853e-04,  2.34605419e-03]],\n",
       "\n",
       "       [[-7.12693654e-05, -4.00051722e-05, -7.08139341e-05, ...,\n",
       "          2.85087357e-04, -1.13417031e-04,  8.53467282e-05],\n",
       "        [-3.51911993e-04,  9.76258380e-05, -1.38523537e-04, ...,\n",
       "          4.62512311e-04, -4.26928716e-04,  2.74412276e-04],\n",
       "        [-5.25843643e-04, -6.43875683e-05, -4.79074311e-04, ...,\n",
       "          6.24067499e-04, -3.66935681e-04,  5.02361974e-04],\n",
       "        ...,\n",
       "        [-1.71906897e-03,  1.69069419e-04,  1.29709987e-03, ...,\n",
       "          3.28061054e-04,  1.78218135e-04, -3.23231710e-04],\n",
       "        [-1.67000294e-03,  3.61686580e-05,  1.20492931e-03, ...,\n",
       "          3.63317435e-04,  1.31786728e-04,  4.91917235e-05],\n",
       "        [-1.42680923e-03, -2.63599923e-05,  1.13123585e-03, ...,\n",
       "          4.39558207e-04,  2.45815289e-04,  4.41799057e-04]]],\n",
       "      dtype=float32)>"
      ]
     },
     "execution_count": 15,
     "metadata": {},
     "output_type": "execute_result"
    }
   ],
   "source": [
    "# 데이터셋에서 데이터 한 배치만 불러온다.\n",
    "for src_sample, tgt_sample in dataset.take(1): break\n",
    "# 테스트 용으로 한 배치만 불러온 데이터를 모델에 넣어보았다\n",
    "model(src_sample)"
   ]
  },
  {
   "cell_type": "code",
   "execution_count": 16,
   "id": "61aa402f",
   "metadata": {
    "scrolled": true
   },
   "outputs": [
    {
     "name": "stdout",
     "output_type": "stream",
     "text": [
      "Model: \"text_generator_1\"\n",
      "_________________________________________________________________\n",
      "Layer (type)                 Output Shape              Param #   \n",
      "=================================================================\n",
      "embedding_1 (Embedding)      multiple                  3072256   \n",
      "_________________________________________________________________\n",
      "lstm_2 (LSTM)                multiple                  5246976   \n",
      "_________________________________________________________________\n",
      "lstm_3 (LSTM)                multiple                  8392704   \n",
      "_________________________________________________________________\n",
      "dense_1 (Dense)              multiple                  12301025  \n",
      "=================================================================\n",
      "Total params: 29,012,961\n",
      "Trainable params: 29,012,961\n",
      "Non-trainable params: 0\n",
      "_________________________________________________________________\n"
     ]
    }
   ],
   "source": [
    "model.summary()   #모델의 구조 확인"
   ]
  },
  {
   "cell_type": "markdown",
   "id": "c24e9588",
   "metadata": {},
   "source": [
    "# 6. 손실함수 loss 구해보기"
   ]
  },
  {
   "cell_type": "markdown",
   "id": "4f0715f5",
   "metadata": {},
   "source": [
    "## [loss](https://www.tensorflow.org/api_docs/python/tf/keras/losses/SparseCategoricalCrossentropy)"
   ]
  },
  {
   "cell_type": "code",
   "execution_count": 17,
   "id": "36648bd7",
   "metadata": {
    "scrolled": true
   },
   "outputs": [
    {
     "name": "stdout",
     "output_type": "stream",
     "text": [
      "Epoch 1/10\n",
      "686/686 [==============================] - 112s 160ms/step - loss: 3.6116\n",
      "Epoch 2/10\n",
      "686/686 [==============================] - 111s 162ms/step - loss: 3.1332\n",
      "Epoch 3/10\n",
      "686/686 [==============================] - 112s 162ms/step - loss: 2.9400\n",
      "Epoch 4/10\n",
      "686/686 [==============================] - 112s 162ms/step - loss: 2.7907\n",
      "Epoch 5/10\n",
      "686/686 [==============================] - 112s 162ms/step - loss: 2.6616\n",
      "Epoch 6/10\n",
      "686/686 [==============================] - 112s 162ms/step - loss: 2.5448\n",
      "Epoch 7/10\n",
      "686/686 [==============================] - 112s 162ms/step - loss: 2.4363\n",
      "Epoch 8/10\n",
      "686/686 [==============================] - 112s 162ms/step - loss: 2.3350\n",
      "Epoch 9/10\n",
      "686/686 [==============================] - 112s 162ms/step - loss: 2.2383\n",
      "Epoch 10/10\n",
      "686/686 [==============================] - 112s 162ms/step - loss: 2.1464\n"
     ]
    },
    {
     "data": {
      "text/plain": [
       "<keras.callbacks.History at 0x7f139c3c64f0>"
      ]
     },
     "execution_count": 17,
     "metadata": {},
     "output_type": "execute_result"
    }
   ],
   "source": [
    "optimizer = tf.keras.optimizers.Adam()\n",
    "loss = tf.keras.losses.SparseCategoricalCrossentropy(\n",
    "    from_logits=True,\n",
    "    reduction='none'\n",
    ")\n",
    "\n",
    "model.compile(loss=loss, optimizer=optimizer)\n",
    "model.fit(dataset, epochs=10)"
   ]
  },
  {
   "cell_type": "code",
   "execution_count": 19,
   "id": "9d409857",
   "metadata": {},
   "outputs": [],
   "source": [
    "def generate_text(model, tokenizer, init_sentence=\"<start>\", max_len=20):\n",
    "    # 테스트를 위해서 입력받은 init_sentence도 텐서로 변환합니다\n",
    "    test_input = tokenizer.texts_to_sequences([init_sentence])\n",
    "    test_tensor = tf.convert_to_tensor(test_input, dtype=tf.int64)\n",
    "    end_token = tokenizer.word_index[\"<end>\"]\n",
    "\n",
    "    # 단어 하나씩 예측해 문장을 만듭니다\n",
    "    #    1. 입력받은 문장의 텐서를 입력합니다\n",
    "    #    2. 예측된 값 중 가장 높은 확률인 word index를 뽑아냅니다\n",
    "    #    3. 2에서 예측된 word index를 문장 뒤에 붙입니다\n",
    "    #    4. 모델이 <end>를 예측했거나, max_len에 도달했다면 문장 생성을 마칩니다\n",
    "    while True:\n",
    "        # 1\n",
    "        predict = model(test_tensor) \n",
    "        # 2\n",
    "        predict_word = tf.argmax(tf.nn.softmax(predict, axis=-1), axis=-1)[:, -1] \n",
    "        # 3 \n",
    "        test_tensor = tf.concat([test_tensor, tf.expand_dims(predict_word, axis=0)], axis=-1)\n",
    "        # 4\n",
    "        if predict_word.numpy()[0] == end_token: break\n",
    "        if test_tensor.shape[1] >= max_len: break\n",
    "\n",
    "    generated = \"\"\n",
    "    # tokenizer를 이용해 word index를 단어로 하나씩 변환합니다 \n",
    "    for word_index in test_tensor[0].numpy():\n",
    "        generated += tokenizer.index_word[word_index] + \" \"\n",
    "\n",
    "    return generated"
   ]
  },
  {
   "cell_type": "code",
   "execution_count": 22,
   "id": "aba316e4",
   "metadata": {},
   "outputs": [
    {
     "data": {
      "text/plain": [
       "'<start> she s got me runnin round and round <end> '"
      ]
     },
     "execution_count": 22,
     "metadata": {},
     "output_type": "execute_result"
    }
   ],
   "source": [
    "generate_text(model, tokenizer, init_sentence=\"<start> she\")"
   ]
  }
 ],
 "metadata": {
  "kernelspec": {
   "display_name": "Python 3 (ipykernel)",
   "language": "python",
   "name": "python3"
  },
  "language_info": {
   "codemirror_mode": {
    "name": "ipython",
    "version": 3
   },
   "file_extension": ".py",
   "mimetype": "text/x-python",
   "name": "python",
   "nbconvert_exporter": "python",
   "pygments_lexer": "ipython3",
   "version": "3.9.7"
  }
 },
 "nbformat": 4,
 "nbformat_minor": 5
}
