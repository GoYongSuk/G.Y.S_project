{
 "cells": [
  {
   "cell_type": "markdown",
   "id": "b3fd4616",
   "metadata": {},
   "source": [
    "# 네이버 영화리뷰 감성분석 도전하기"
   ]
  },
  {
   "cell_type": "code",
   "execution_count": 1,
   "id": "b36de1da",
   "metadata": {},
   "outputs": [],
   "source": [
    "import pandas as pd\n",
    "import numpy as np\n",
    "import tensorflow as tf\n",
    "import re\n",
    "import matplotlib.pyplot as plt\n",
    "%matplotlib inline\n",
    "import gensim\n",
    "from tensorflow.keras.preprocessing.sequence import pad_sequences\n",
    "from tensorflow import keras\n",
    "from gensim.models.keyedvectors import Word2VecKeyedVectors\n",
    "from gensim.models import KeyedVectors\n",
    "from tensorflow.keras.initializers import Constant\n",
    "import os\n",
    "import warnings\n",
    "warnings.filterwarnings(\"ignore\")"
   ]
  },
  {
   "cell_type": "markdown",
   "id": "ff0855c2",
   "metadata": {},
   "source": [
    "# 1. 데이터 불러오기"
   ]
  },
  {
   "cell_type": "code",
   "execution_count": 2,
   "id": "6773551b",
   "metadata": {
    "scrolled": true
   },
   "outputs": [
    {
     "data": {
      "text/html": [
       "<div>\n",
       "<style scoped>\n",
       "    .dataframe tbody tr th:only-of-type {\n",
       "        vertical-align: middle;\n",
       "    }\n",
       "\n",
       "    .dataframe tbody tr th {\n",
       "        vertical-align: top;\n",
       "    }\n",
       "\n",
       "    .dataframe thead th {\n",
       "        text-align: right;\n",
       "    }\n",
       "</style>\n",
       "<table border=\"1\" class=\"dataframe\">\n",
       "  <thead>\n",
       "    <tr style=\"text-align: right;\">\n",
       "      <th></th>\n",
       "      <th>id</th>\n",
       "      <th>document</th>\n",
       "      <th>label</th>\n",
       "    </tr>\n",
       "  </thead>\n",
       "  <tbody>\n",
       "    <tr>\n",
       "      <th>0</th>\n",
       "      <td>9976970</td>\n",
       "      <td>아 더빙.. 진짜 짜증나네요 목소리</td>\n",
       "      <td>0</td>\n",
       "    </tr>\n",
       "    <tr>\n",
       "      <th>1</th>\n",
       "      <td>3819312</td>\n",
       "      <td>흠...포스터보고 초딩영화줄....오버연기조차 가볍지 않구나</td>\n",
       "      <td>1</td>\n",
       "    </tr>\n",
       "    <tr>\n",
       "      <th>2</th>\n",
       "      <td>10265843</td>\n",
       "      <td>너무재밓었다그래서보는것을추천한다</td>\n",
       "      <td>0</td>\n",
       "    </tr>\n",
       "    <tr>\n",
       "      <th>3</th>\n",
       "      <td>9045019</td>\n",
       "      <td>교도소 이야기구먼 ..솔직히 재미는 없다..평점 조정</td>\n",
       "      <td>0</td>\n",
       "    </tr>\n",
       "    <tr>\n",
       "      <th>4</th>\n",
       "      <td>6483659</td>\n",
       "      <td>사이몬페그의 익살스런 연기가 돋보였던 영화!스파이더맨에서 늙어보이기만 했던 커스틴 ...</td>\n",
       "      <td>1</td>\n",
       "    </tr>\n",
       "  </tbody>\n",
       "</table>\n",
       "</div>"
      ],
      "text/plain": [
       "         id                                           document  label\n",
       "0   9976970                                아 더빙.. 진짜 짜증나네요 목소리      0\n",
       "1   3819312                  흠...포스터보고 초딩영화줄....오버연기조차 가볍지 않구나      1\n",
       "2  10265843                                  너무재밓었다그래서보는것을추천한다      0\n",
       "3   9045019                      교도소 이야기구먼 ..솔직히 재미는 없다..평점 조정      0\n",
       "4   6483659  사이몬페그의 익살스런 연기가 돋보였던 영화!스파이더맨에서 늙어보이기만 했던 커스틴 ...      1"
      ]
     },
     "execution_count": 2,
     "metadata": {},
     "output_type": "execute_result"
    }
   ],
   "source": [
    "# 데이터를 읽어봅시다. \n",
    "train_data = pd.read_table('~/aiffel/sentiment_classification/data/ratings_train.txt')\n",
    "test_data = pd.read_table('~/aiffel/sentiment_classification/data/ratings_test.txt')\n",
    "\n",
    "train_data.head()"
   ]
  },
  {
   "cell_type": "markdown",
   "id": "fe051d00",
   "metadata": {},
   "source": [
    "### 훈련 데이터와 시험 데이터의 개수 파악"
   ]
  },
  {
   "cell_type": "code",
   "execution_count": 3,
   "id": "4e4bafc0",
   "metadata": {},
   "outputs": [
    {
     "name": "stdout",
     "output_type": "stream",
     "text": [
      "훈련용 데이터: 150000개 , 시험 데이터: 50000개\n"
     ]
    }
   ],
   "source": [
    "print('훈련용 데이터: {}개 , 시험 데이터: {}개'.format(len(train_data),len(test_data)))"
   ]
  },
  {
   "cell_type": "markdown",
   "id": "74499d36",
   "metadata": {},
   "source": [
    "# 2. 데이터 전처리"
   ]
  },
  {
   "cell_type": "markdown",
   "id": "69aeabf1",
   "metadata": {},
   "source": [
    "### 데이터 개수 확인 + 결측치 확인 + 제거"
   ]
  },
  {
   "cell_type": "code",
   "execution_count": 4,
   "id": "58f33c21",
   "metadata": {},
   "outputs": [],
   "source": [
    "from konlpy.tag import Mecab\n",
    "import numpy as np\n",
    "from collections import Counter\n",
    "\n",
    "tokenizer = Mecab()\n",
    "stopwords = ['의','가','이','은','들','는','좀','잘','걍','과','도','를','으로','자','에','와','한','하다']\n",
    "\n",
    "def load_data(train_data, test_data, num_words=10000):\n",
    "    train_data.drop_duplicates(subset=['document'], inplace=True)\n",
    "    train_data = train_data.dropna(how = 'any') \n",
    "    test_data.drop_duplicates(subset=['document'], inplace=True)\n",
    "    test_data = test_data.dropna(how = 'any') \n",
    "    \n",
    "    X_train = []\n",
    "    for sentence in train_data['document']:\n",
    "        temp_X = tokenizer.morphs(sentence) # 토큰화\n",
    "        temp_X = [word for word in temp_X if not word in stopwords] # 불용어 제거\n",
    "        X_train.append(temp_X)\n",
    "\n",
    "    X_test = []\n",
    "    for sentence in test_data['document']:\n",
    "        temp_X = tokenizer.morphs(sentence) # 토큰화\n",
    "        temp_X = [word for word in temp_X if not word in stopwords] # 불용어 제거\n",
    "        X_test.append(temp_X)\n",
    "    \n",
    "    words = np.concatenate(X_train).tolist()\n",
    "    counter = Counter(words)\n",
    "    counter = counter.most_common(10000-4)\n",
    "    vocab = ['<PAD>', '<BOS>', '<UNK>', '<UNUSED>'] + [key for key, _ in counter]\n",
    "    word_to_index = {word:index for index, word in enumerate(vocab)}\n",
    "        \n",
    "    def wordlist_to_indexlist(wordlist):\n",
    "        return [word_to_index[word] if word in word_to_index else word_to_index['<UNK>'] for word in wordlist]\n",
    "        \n",
    "    X_train = list(map(wordlist_to_indexlist, X_train))\n",
    "    X_test = list(map(wordlist_to_indexlist, X_test))\n",
    "        \n",
    "    return X_train, np.array(list(train_data['label'])), X_test, np.array(list(test_data['label'])), word_to_index"
   ]
  },
  {
   "cell_type": "code",
   "execution_count": 5,
   "id": "70f3a380",
   "metadata": {},
   "outputs": [],
   "source": [
    "X_train, y_train, X_test, y_test, word_to_index = load_data(train_data, test_data)"
   ]
  },
  {
   "cell_type": "code",
   "execution_count": 6,
   "id": "37c50198",
   "metadata": {},
   "outputs": [],
   "source": [
    "index_to_word = {index:word for word, index in word_to_index.items()}"
   ]
  },
  {
   "cell_type": "code",
   "execution_count": 7,
   "id": "505a438d",
   "metadata": {},
   "outputs": [],
   "source": [
    "# 문장 1개를 활용할 딕셔너리와 함께 주면, 단어 인덱스 리스트 벡터로 변환해 주는 함수입니다. \n",
    "# 단, 모든 문장은 <BOS>로 시작하는 것으로 합니다. \n",
    "def get_encoded_sentence(sentence, word_to_index):\n",
    "    return [word_to_index['<BOS>']]+[word_to_index[word] if word in word_to_index else word_to_index['<UNK>'] for word in sentence.split()]\n",
    "\n",
    "# 여러 개의 문장 리스트를 한꺼번에 단어 인덱스 리스트 벡터로 encode해 주는 함수입니다. \n",
    "def get_encoded_sentences(sentences, word_to_index):\n",
    "    return [get_encoded_sentence(sentence, word_to_index) for sentence in sentences]\n",
    "\n",
    "# 숫자 벡터로 encode된 문장을 원래대로 decode하는 함수입니다. \n",
    "def get_decoded_sentence(encoded_sentence, index_to_word):\n",
    "    return ' '.join(index_to_word[index] if index in index_to_word else '<UNK>' for index in encoded_sentence[1:])  #[1:]를 통해 <BOS>를 제외\n",
    "\n",
    "# 여러 개의 숫자 벡터로 encode된 문장을 한꺼번에 원래대로 decode하는 함수입니다. \n",
    "def get_decoded_sentences(encoded_sentences, index_to_word):\n",
    "    return [get_decoded_sentence(encoded_sentence, index_to_word) for encoded_sentence in encoded_sentences]"
   ]
  },
  {
   "cell_type": "code",
   "execution_count": 8,
   "id": "64c94fa5",
   "metadata": {
    "scrolled": false
   },
   "outputs": [
    {
     "name": "stdout",
     "output_type": "stream",
     "text": [
      "훈련데이터: 146182,   시험데이터: 49157\n"
     ]
    }
   ],
   "source": [
    "print('훈련데이터: {},   시험데이터: {}'.format(len(X_train), len(X_test)))"
   ]
  },
  {
   "cell_type": "markdown",
   "id": "56a945cf",
   "metadata": {},
   "source": [
    "### 토큰화된 데이터 확인"
   ]
  },
  {
   "cell_type": "code",
   "execution_count": 9,
   "id": "d9909576",
   "metadata": {},
   "outputs": [
    {
     "name": "stdout",
     "output_type": "stream",
     "text": [
      "[32, 74, 919, 4, 4, 39, 228, 20, 33, 748]\n",
      "라벨:  0\n"
     ]
    }
   ],
   "source": [
    "print(X_train[0])\n",
    "print('라벨: ', y_train[0]) "
   ]
  },
  {
   "cell_type": "code",
   "execution_count": 10,
   "id": "53dae1bb",
   "metadata": {
    "scrolled": true
   },
   "outputs": [
    {
     "name": "stdout",
     "output_type": "stream",
     "text": [
      "더 빙 . . 진짜 짜증 나 네요 목소리\n",
      "라벨:  0\n"
     ]
    }
   ],
   "source": [
    "print(get_decoded_sentence(X_train[0], index_to_word))\n",
    "print('라벨: ', y_train[0])  # 1번째 리뷰데이터의 라벨"
   ]
  },
  {
   "cell_type": "markdown",
   "id": "c4b2d679",
   "metadata": {},
   "source": [
    "### train 데이터의 길이랑 test 데이터의 길이를 맞춰야 된다."
   ]
  },
  {
   "cell_type": "code",
   "execution_count": 11,
   "id": "5f3fbbe1",
   "metadata": {},
   "outputs": [
    {
     "name": "stdout",
     "output_type": "stream",
     "text": [
      "문장길이 평균 :  15.96940191154864\n",
      "문장길이 최대 :  116\n",
      "문장길이 표준편차 :  12.843571191092\n",
      "pad_sequences maxlen :  41\n",
      "전체 문장의 0.9342988343341575%가 maxlen 설정값 이내에 포함됩니다. \n"
     ]
    }
   ],
   "source": [
    "total_data_text = list(X_train) + list(X_test)\n",
    "# 텍스트데이터 문장길이의 리스트를 생성한 후\n",
    "num_tokens = [len(tokens) for tokens in total_data_text]\n",
    "num_tokens = np.array(num_tokens)\n",
    "# 문장길이의 평균값, 최대값, 표준편차를 계산해 본다. \n",
    "print('문장길이 평균 : ', np.mean(num_tokens))\n",
    "print('문장길이 최대 : ', np.max(num_tokens))\n",
    "print('문장길이 표준편차 : ', np.std(num_tokens))\n",
    "\n",
    "# 예를들어, 최대 길이를 (평균 + 2*표준편차)로 한다면,  \n",
    "max_tokens = np.mean(num_tokens) + 2 * np.std(num_tokens)\n",
    "maxlen = int(max_tokens)\n",
    "print('pad_sequences maxlen : ', maxlen)\n",
    "print('전체 문장의 {}%가 maxlen 설정값 이내에 포함됩니다. '.format(np.sum(num_tokens < max_tokens) / len(num_tokens)))"
   ]
  },
  {
   "cell_type": "code",
   "execution_count": 12,
   "id": "efd5c5a8",
   "metadata": {
    "scrolled": false
   },
   "outputs": [
    {
     "data": {
      "image/png": "[encoded data removed]",
      "text/plain": [
       "<Figure size 432x288 with 1 Axes>"
      ]
     },
     "metadata": {
      "needs_background": "light"
     },
     "output_type": "display_data"
    }
   ],
   "source": [
    "plt.hist(num_tokens, bins=50)\n",
    "plt.xlabel('Length of Samples')\n",
    "plt.ylabel('Number of Samples')\n",
    "plt.show()"
   ]
  },
  {
   "cell_type": "markdown",
   "id": "77336911",
   "metadata": {},
   "source": [
    "['post' 말고 'pre' 사용하는 이유](https://blog.naver.com/qbxlvnf11/221945962124)"
   ]
  },
  {
   "cell_type": "code",
   "execution_count": 13,
   "id": "59a0c1bd",
   "metadata": {
    "scrolled": false
   },
   "outputs": [
    {
     "name": "stdout",
     "output_type": "stream",
     "text": [
      "(146182, 41)\n",
      "(49157, 41)\n"
     ]
    }
   ],
   "source": [
    "X_train = tf.keras.preprocessing.sequence.pad_sequences(X_train,\n",
    "                                                        value=word_to_index[\"<PAD>\"],\n",
    "                                                        padding='pre', # 혹은 'pre'\n",
    "                                                        maxlen=maxlen)\n",
    "\n",
    "X_test = tf.keras.preprocessing.sequence.pad_sequences(X_test,\n",
    "                                                       value=word_to_index[\"<PAD>\"],\n",
    "                                                       padding='pre', # 혹은 'pre'\n",
    "                                                       maxlen=maxlen)\n",
    "\n",
    "print(X_train.shape)\n",
    "print(X_test.shape)"
   ]
  },
  {
   "cell_type": "code",
   "execution_count": 14,
   "id": "0a186115",
   "metadata": {
    "scrolled": true
   },
   "outputs": [
    {
     "name": "stdout",
     "output_type": "stream",
     "text": [
      "[   0    0    0    0    0    0    0    0    0    0    0    0    0    0\n",
      "    0    0    0    0    0    0    0    0    0    0    0    0    0    0\n",
      "    0    0    0    0  181    5 1945   29    2    8   88 2740    5]\n",
      "[   0    0    0    0    0    0    0    0    0    0    0    0    0    0\n",
      "    0    0    0    0    0    0    0    0    0    0    0    0    0    0\n",
      "    0    0    0    0    0    0    0    0    0 1009  179   63 1058]\n"
     ]
    }
   ],
   "source": [
    "print(X_train[-1])\n",
    "print(X_test[-1])"
   ]
  },
  {
   "cell_type": "code",
   "execution_count": 15,
   "id": "9278d355",
   "metadata": {
    "scrolled": false
   },
   "outputs": [
    {
     "name": "stdout",
     "output_type": "stream",
     "text": [
      "<PAD> <PAD> <PAD> <PAD> <PAD> <PAD> <PAD> <PAD> <PAD> <PAD> <PAD> <PAD> <PAD> <PAD> <PAD> <PAD> <PAD> <PAD> <PAD> <PAD> <PAD> <PAD> <PAD> <PAD> <PAD> <PAD> <PAD> <PAD> <PAD> <PAD> <PAD> 한국 영화 최초 로 <UNK> 하 내용 담긴 영화\n",
      "라벨:  0\n"
     ]
    }
   ],
   "source": [
    "print(get_decoded_sentence(X_train[-1], index_to_word))\n",
    "print('라벨: ', y_train[-1])  # 1번째 리뷰데이터의 라벨"
   ]
  },
  {
   "cell_type": "code",
   "execution_count": 16,
   "id": "facc0b61",
   "metadata": {},
   "outputs": [
    {
     "name": "stdout",
     "output_type": "stream",
     "text": [
      "<PAD> <PAD> <PAD> <PAD> <PAD> <PAD> <PAD> <PAD> <PAD> <PAD> <PAD> <PAD> <PAD> <PAD> <PAD> <PAD> <PAD> <PAD> <PAD> <PAD> <PAD> <PAD> <PAD> <PAD> <PAD> <PAD> <PAD> <PAD> <PAD> <PAD> <PAD> <PAD> <PAD> <PAD> <PAD> <PAD> 마무리 또 왜 이래\n",
      "라벨:  0\n"
     ]
    }
   ],
   "source": [
    "print(get_decoded_sentence(X_test[-1], index_to_word))\n",
    "print('라벨: ', y_test[-1])  # 1번째 리뷰데이터의 라벨"
   ]
  },
  {
   "cell_type": "markdown",
   "id": "cbe52b2e",
   "metadata": {},
   "source": [
    "# 3. 여러가지 모델 사용해보기"
   ]
  },
  {
   "cell_type": "code",
   "execution_count": 17,
   "id": "a920a46a",
   "metadata": {},
   "outputs": [],
   "source": [
    "vocab_size = 10000\n",
    "word_vector_dim = 32  # 단어 하나를 표현하는 임베딩 벡터의 차원수입니다. "
   ]
  },
  {
   "cell_type": "markdown",
   "id": "ca705fd2",
   "metadata": {},
   "source": [
    "### 검증 데이터 나누기"
   ]
  },
  {
   "cell_type": "code",
   "execution_count": 18,
   "id": "cc715813",
   "metadata": {},
   "outputs": [
    {
     "name": "stdout",
     "output_type": "stream",
     "text": [
      "(116982, 41)\n",
      "(116982,)\n"
     ]
    }
   ],
   "source": [
    "# validation set X_train set의 20% 분리\n",
    "x_val = X_train[:29200]   \n",
    "y_val = y_train[:29200]\n",
    "\n",
    "# validation set을 제외한 나머지\n",
    "partial_x_train = X_train[29200:]  \n",
    "partial_y_train = y_train[29200:]\n",
    "\n",
    "print(partial_x_train.shape)\n",
    "print(partial_y_train.shape)"
   ]
  },
  {
   "cell_type": "markdown",
   "id": "c5ab8b26",
   "metadata": {},
   "source": [
    "## 1) RNN"
   ]
  },
  {
   "cell_type": "code",
   "execution_count": 19,
   "id": "62fed4ca",
   "metadata": {
    "scrolled": true
   },
   "outputs": [
    {
     "name": "stdout",
     "output_type": "stream",
     "text": [
      "Model: \"sequential\"\n",
      "_________________________________________________________________\n",
      "Layer (type)                 Output Shape              Param #   \n",
      "=================================================================\n",
      "embedding (Embedding)        (None, None, 32)          320000    \n",
      "_________________________________________________________________\n",
      "lstm (LSTM)                  (None, 16)                3136      \n",
      "_________________________________________________________________\n",
      "dense (Dense)                (None, 8)                 136       \n",
      "_________________________________________________________________\n",
      "dense_1 (Dense)              (None, 1)                 9         \n",
      "=================================================================\n",
      "Total params: 323,281\n",
      "Trainable params: 323,281\n",
      "Non-trainable params: 0\n",
      "_________________________________________________________________\n"
     ]
    }
   ],
   "source": [
    "RNN_model = tf.keras.Sequential()\n",
    "RNN_model.add(tf.keras.layers.Embedding(vocab_size, word_vector_dim, input_shape=(None,)))\n",
    "RNN_model.add(tf.keras.layers.LSTM(16))   # 가장 널리 쓰이는 RNN인 LSTM 레이어를 사용하였습니다. 이때 LSTM state 벡터의 차원수는 8로 하였습니다. (변경 가능)\n",
    "RNN_model.add(tf.keras.layers.Dense(8, activation='relu'))\n",
    "RNN_model.add(tf.keras.layers.Dense(1, activation='sigmoid'))  # 최종 출력은 긍정/부정을 나타내는 1dim 입니다.\n",
    "\n",
    "RNN_model.summary()"
   ]
  },
  {
   "cell_type": "code",
   "execution_count": 20,
   "id": "b3e64db9",
   "metadata": {
    "scrolled": false
   },
   "outputs": [
    {
     "name": "stdout",
     "output_type": "stream",
     "text": [
      "Epoch 1/5\n",
      "3656/3656 [==============================] - 22s 5ms/step - loss: 0.3786 - accuracy: 0.8289 - val_loss: 0.3336 - val_accuracy: 0.8538\n",
      "Epoch 2/5\n",
      "3656/3656 [==============================] - 18s 5ms/step - loss: 0.2991 - accuracy: 0.8706 - val_loss: 0.3203 - val_accuracy: 0.8617\n",
      "Epoch 3/5\n",
      "3656/3656 [==============================] - 18s 5ms/step - loss: 0.2608 - accuracy: 0.8892 - val_loss: 0.3316 - val_accuracy: 0.8616\n",
      "Epoch 4/5\n",
      "3656/3656 [==============================] - 18s 5ms/step - loss: 0.2307 - accuracy: 0.9048 - val_loss: 0.3506 - val_accuracy: 0.8581\n",
      "Epoch 5/5\n",
      "3656/3656 [==============================] - 18s 5ms/step - loss: 0.2051 - accuracy: 0.9160 - val_loss: 0.3767 - val_accuracy: 0.8574\n"
     ]
    }
   ],
   "source": [
    "RNN_model.compile(optimizer='adam',\n",
    "              loss='binary_crossentropy',\n",
    "              metrics=['accuracy'])\n",
    "              \n",
    "epochs=5  # 몇 epoch를 훈련하면 좋을지 결과를 보면서 바꾸어 봅시다. \n",
    "\n",
    "history = RNN_model.fit(partial_x_train,\n",
    "                    partial_y_train,\n",
    "                    epochs=epochs,\n",
    "                    batch_size=32,\n",
    "                    validation_data=(x_val, y_val),\n",
    "                    verbose=1)"
   ]
  },
  {
   "cell_type": "markdown",
   "id": "02de17f2",
   "metadata": {},
   "source": [
    "### 그래프 분석 RNN"
   ]
  },
  {
   "cell_type": "code",
   "execution_count": 21,
   "id": "d4f88422",
   "metadata": {},
   "outputs": [
    {
     "name": "stdout",
     "output_type": "stream",
     "text": [
      "dict_keys(['loss', 'accuracy', 'val_loss', 'val_accuracy'])\n"
     ]
    }
   ],
   "source": [
    "history_dict = history.history\n",
    "print(history_dict.keys()) # epoch에 따른 그래프를 그려볼 수 있는 항목들"
   ]
  },
  {
   "cell_type": "code",
   "execution_count": 22,
   "id": "e3510e6a",
   "metadata": {},
   "outputs": [
    {
     "data": {
      "image/png": "[encoded data removed]",
      "text/plain": [
       "<Figure size 1080x360 with 2 Axes>"
      ]
     },
     "metadata": {
      "needs_background": "light"
     },
     "output_type": "display_data"
    }
   ],
   "source": [
    "acc = history_dict['accuracy']\n",
    "val_acc = history_dict['val_accuracy']\n",
    "loss = history_dict['loss']\n",
    "val_loss = history_dict['val_loss']\n",
    "\n",
    "epochs = range(1, len(acc) + 1)\n",
    "\n",
    "fig = plt.figure(figsize=(15,5))\n",
    "ax1 = fig.add_subplot(1,2,1)\n",
    "# \"ro\"는 \"빨간색 점\"입니다\n",
    "plt.plot(epochs, loss, 'ro', label='Training loss')\n",
    "# b는 \"파란 실선\"입니다\n",
    "plt.plot(epochs, val_loss, 'b', label='Validation loss')\n",
    "plt.title('Training and validation loss')\n",
    "plt.xlabel('Epochs')\n",
    "plt.ylabel('Loss')\n",
    "plt.legend()\n",
    "\n",
    "ax2 = fig.add_subplot(1,2,2)\n",
    "plt.plot(epochs, acc, 'ro', label='Training acc')\n",
    "plt.plot(epochs, val_acc, 'b', label='Validation acc')\n",
    "plt.title('Training and validation accuracy')\n",
    "plt.xlabel('Epochs')\n",
    "plt.ylabel('Accuracy')\n",
    "plt.legend()\n",
    "\n",
    "plt.show()"
   ]
  },
  {
   "cell_type": "code",
   "execution_count": 23,
   "id": "3acb6b23",
   "metadata": {
    "scrolled": true
   },
   "outputs": [
    {
     "name": "stdout",
     "output_type": "stream",
     "text": [
      "1537/1537 - 3s - loss: 0.3804 - accuracy: 0.8527\n",
      "[0.38036343455314636, 0.8526760935783386]\n"
     ]
    }
   ],
   "source": [
    "results = RNN_model.evaluate(X_test,  y_test, verbose=2)\n",
    "print(results)"
   ]
  },
  {
   "cell_type": "markdown",
   "id": "457e165c",
   "metadata": {},
   "source": [
    "### embedding layer (RNN)"
   ]
  },
  {
   "cell_type": "code",
   "execution_count": 24,
   "id": "5a91443c",
   "metadata": {},
   "outputs": [
    {
     "name": "stdout",
     "output_type": "stream",
     "text": [
      "(10000, 32)\n"
     ]
    }
   ],
   "source": [
    "embedding_layer = RNN_model.layers[0]\n",
    "weights = embedding_layer.get_weights()[0]\n",
    "print(weights.shape)    # shape: (vocab_size, embedding_dim)"
   ]
  },
  {
   "cell_type": "code",
   "execution_count": 25,
   "id": "6a45bf91",
   "metadata": {},
   "outputs": [],
   "source": [
    "# 학습한 Embedding 파라미터를 파일에 써서 저장합니다. \n",
    "word2vec_file_path = os.getenv('HOME')+'/aiffel/sentiment_classification/data/RNNword2vec.txt'\n",
    "f = open(word2vec_file_path, 'w')\n",
    "f.write('{} {}\\n'.format(vocab_size-4, word_vector_dim))  # 몇개의 벡터를 얼마 사이즈로 기재할지 타이틀을 씁니다.\n",
    "\n",
    "# 단어 개수(에서 특수문자 4개는 제외하고)만큼의 워드 벡터를 파일에 기록합니다. \n",
    "vectors = RNN_model.get_weights()[0]\n",
    "for i in range(4,vocab_size):\n",
    "    f.write('{} {}\\n'.format(index_to_word[i], ' '.join(map(str, list(vectors[i, :])))))\n",
    "f.close()"
   ]
  },
  {
   "cell_type": "code",
   "execution_count": 26,
   "id": "cfa6627f",
   "metadata": {
    "scrolled": true
   },
   "outputs": [
    {
     "data": {
      "text/plain": [
       "array([ 0.14407139,  0.08724835,  0.01504255,  0.02275497, -0.05565699,\n",
       "        0.06801142, -0.04052428,  0.1451029 , -0.04252971,  0.05362587,\n",
       "       -0.12379825,  0.05535479,  0.04421499, -0.09873541, -0.12774138,\n",
       "       -0.00964929, -0.07932693, -0.2091995 , -0.01721791,  0.04997775,\n",
       "        0.03381173, -0.01983873,  0.09888999,  0.08759838, -0.04847975,\n",
       "        0.08020575,  0.11280472,  0.09640181,  0.04797148,  0.04294715,\n",
       "       -0.07912029, -0.07685395], dtype=float32)"
      ]
     },
     "execution_count": 26,
     "metadata": {},
     "output_type": "execute_result"
    }
   ],
   "source": [
    "word_vectors = Word2VecKeyedVectors.load_word2vec_format(word2vec_file_path, binary=False)\n",
    "vector = word_vectors['영화']\n",
    "vector"
   ]
  },
  {
   "cell_type": "code",
   "execution_count": 27,
   "id": "a1cb3470",
   "metadata": {},
   "outputs": [
    {
     "data": {
      "text/plain": [
       "[('재미없', 0.9785269498825073),\n",
       " ('가관', 0.9690766334533691),\n",
       " ('실패작', 0.9678778052330017),\n",
       " ('어색', 0.9674192070960999),\n",
       " ('잤', 0.9656728506088257),\n",
       " ('문란', 0.957480788230896),\n",
       " ('비추', 0.9571312665939331),\n",
       " ('후지', 0.9557182788848877),\n",
       " ('버린다', 0.9549447298049927),\n",
       " ('자니', 0.9534690380096436)]"
      ]
     },
     "execution_count": 27,
     "metadata": {},
     "output_type": "execute_result"
    }
   ],
   "source": [
    "word_vectors.similar_by_word(\"실망\")"
   ]
  },
  {
   "cell_type": "markdown",
   "id": "1742ef61",
   "metadata": {},
   "source": [
    "### 한국어 Word2Vec 임베딩 활용하여 성능 개선 (RNN)"
   ]
  },
  {
   "cell_type": "code",
   "execution_count": 28,
   "id": "81e01ac6",
   "metadata": {
    "scrolled": false
   },
   "outputs": [
    {
     "data": {
      "text/plain": [
       "array([-1.7577837 , -1.0874279 ,  1.5300866 , -0.1115231 , -0.37980682,\n",
       "        1.4828517 ,  1.3180419 ,  0.11094163,  0.7430535 , -0.45461136,\n",
       "        0.58841336,  0.5763913 ,  1.210707  ,  1.3132795 , -0.86962503,\n",
       "       -0.18507595, -0.47440064,  1.5100725 ,  1.0965794 ,  1.0600823 ,\n",
       "       -0.27457932, -0.70003706,  2.3117511 ,  1.4944884 ,  0.25560892,\n",
       "       -2.866659  , -0.28312334,  0.34263936, -0.67723423,  0.71714777,\n",
       "        0.25549442,  0.71732044, -0.13262457,  0.01792452, -0.3184774 ,\n",
       "        0.5271619 ,  0.7561084 , -2.1247065 ,  1.061429  , -0.21065854,\n",
       "        0.6877343 , -1.4956383 ,  0.60346967, -2.6955893 ,  0.37694618,\n",
       "       -1.0164185 ,  0.5430663 ,  0.1200121 , -2.6315718 ,  0.6216742 ,\n",
       "        1.1583976 , -2.5385962 ,  1.326312  , -0.10284371, -0.0286147 ,\n",
       "       -0.9132947 ,  0.7647564 ,  0.79202783, -1.8625957 , -0.7418395 ,\n",
       "        0.5884277 , -0.9917992 , -0.62114453,  1.5367815 , -0.6628939 ,\n",
       "        0.6712103 ,  0.12914915,  0.21228492,  0.9017655 , -0.25083402,\n",
       "        0.71500814,  0.08644514,  0.59993285,  0.5766137 ,  0.64095974,\n",
       "        0.47888306, -2.8426213 , -2.8502681 , -0.140544  , -1.5917364 ,\n",
       "        0.26691505,  0.59476066,  0.85868204,  1.0322351 ,  0.25671318,\n",
       "       -0.34831643,  1.752927  , -0.21967097, -0.77352476,  1.6995213 ,\n",
       "        1.3996491 , -0.9419836 ,  0.85996443, -1.8812876 , -2.5428605 ,\n",
       "        0.39351937, -1.2882805 ,  0.56548136,  1.006273  ,  1.2217585 ,\n",
       "        3.5744793 ,  1.717737  ,  1.6917158 , -2.2176905 , -0.3167447 ,\n",
       "        1.2449    , -1.255284  , -2.1539652 , -1.096709  , -0.74976933,\n",
       "       -0.16744931, -1.8507233 ,  2.1861036 , -0.05389732,  1.038033  ,\n",
       "        0.33730686, -1.4647075 , -1.264041  ,  0.25509247,  0.0622906 ,\n",
       "        0.27852032, -0.52661455,  0.8529616 ,  0.58257025, -0.57665855,\n",
       "        1.3990631 ,  0.28237963,  1.6566037 ,  1.9912103 ,  0.63888913,\n",
       "        0.7732426 , -1.3757724 ,  0.17209321, -0.2433672 ,  0.6328291 ,\n",
       "        1.486971  ,  2.3435354 , -1.7037928 ,  3.1944559 , -1.9049606 ,\n",
       "       -0.51309574,  0.79082954, -1.4480313 , -0.68631476,  0.62008876,\n",
       "       -2.3400223 , -0.5785594 ,  0.5270694 ,  3.0061607 , -1.3661511 ,\n",
       "       -2.7953272 , -1.1794031 , -0.27734265,  0.71130925, -0.06620383,\n",
       "        0.33663416,  0.7204997 , -0.923218  , -2.1603265 , -0.8904896 ,\n",
       "       -1.4137112 , -0.4189144 ,  0.42834592,  1.8104875 , -1.8274456 ,\n",
       "       -0.26700613,  0.7743727 ,  0.80048114,  1.1333636 ,  3.2746978 ,\n",
       "       -0.0188297 ,  0.9245737 , -0.1246058 , -0.5802861 , -0.01926111,\n",
       "        1.05892   , -1.4247856 ,  1.0689156 ,  2.5728712 , -1.294882  ,\n",
       "        0.74771804,  1.3066916 , -1.3213431 ,  1.6501019 , -0.12401557,\n",
       "        0.96340084,  0.26050946,  1.3826336 , -0.02877662,  2.3431563 ,\n",
       "       -0.26337367,  1.9162012 , -0.77454543,  1.7392642 ,  0.08038983,\n",
       "       -0.60325927,  0.29508227,  0.4812675 ,  0.5271086 ,  0.94171894],\n",
       "      dtype=float32)"
      ]
     },
     "execution_count": 28,
     "metadata": {},
     "output_type": "execute_result"
    }
   ],
   "source": [
    "word2vec_path = os.getenv('HOME')+'/aiffel/sentiment_classification/ko.bin.gz'\n",
    "word2vec = gensim.models.Word2Vec.load(word2vec_path)\n",
    "vector = word2vec['영화']\n",
    "vector"
   ]
  },
  {
   "cell_type": "code",
   "execution_count": 29,
   "id": "d28b06f5",
   "metadata": {
    "scrolled": true
   },
   "outputs": [
    {
     "data": {
      "text/plain": [
       "[('당황', 0.7591220140457153),\n",
       " ('경악', 0.6881837248802185),\n",
       " ('분개', 0.6751235723495483),\n",
       " ('분노', 0.6750859022140503),\n",
       " ('격분', 0.647419810295105),\n",
       " ('감동', 0.6267645955085754),\n",
       " ('감탄', 0.6222271919250488),\n",
       " ('원망', 0.6156655550003052),\n",
       " ('조심', 0.6145114898681641),\n",
       " ('감복', 0.6109203696250916)]"
      ]
     },
     "execution_count": 29,
     "metadata": {},
     "output_type": "execute_result"
    }
   ],
   "source": [
    "word2vec.similar_by_word(\"실망\")"
   ]
  },
  {
   "cell_type": "code",
   "execution_count": 30,
   "id": "b64cc8d7",
   "metadata": {},
   "outputs": [],
   "source": [
    "vocab_size = 10000\n",
    "word_vector_dim = 200\n",
    "embedding_matrix = np.random.rand(vocab_size, word_vector_dim)\n",
    "\n",
    "for i in range(4,vocab_size):\n",
    "    if index_to_word[i] in word2vec:\n",
    "        embedding_matrix[i] = word2vec[index_to_word[i]]"
   ]
  },
  {
   "cell_type": "code",
   "execution_count": 31,
   "id": "4d91b97e",
   "metadata": {
    "scrolled": true
   },
   "outputs": [
    {
     "name": "stdout",
     "output_type": "stream",
     "text": [
      "Model: \"sequential_1\"\n",
      "_________________________________________________________________\n",
      "Layer (type)                 Output Shape              Param #   \n",
      "=================================================================\n",
      "embedding_1 (Embedding)      (None, 41, 200)           2000000   \n",
      "_________________________________________________________________\n",
      "lstm_1 (LSTM)                (None, 16)                13888     \n",
      "_________________________________________________________________\n",
      "dense_2 (Dense)              (None, 8)                 136       \n",
      "_________________________________________________________________\n",
      "dense_3 (Dense)              (None, 1)                 9         \n",
      "=================================================================\n",
      "Total params: 2,014,033\n",
      "Trainable params: 2,014,033\n",
      "Non-trainable params: 0\n",
      "_________________________________________________________________\n"
     ]
    }
   ],
   "source": [
    "# 모델 구성\n",
    "RNN_model = tf.keras.Sequential()\n",
    "RNN_model.add(tf.keras.layers.Embedding(vocab_size, \n",
    "                                 word_vector_dim, \n",
    "                                 embeddings_initializer=Constant(embedding_matrix),  # 카피한 임베딩을 여기서 활용\n",
    "                                 input_length=maxlen, \n",
    "                                 trainable=True))   # trainable을 True로 주면 Fine-tuning\n",
    "RNN_model.add(tf.keras.layers.LSTM(16))   # 가장 널리 쓰이는 RNN인 LSTM 레이어를 사용하였습니다. 이때 LSTM state 벡터의 차원수는 8로 하였습니다. (변경 가능)\n",
    "RNN_model.add(tf.keras.layers.Dense(8, activation='relu'))\n",
    "RNN_model.add(tf.keras.layers.Dense(1, activation='sigmoid'))  # 최종 출력은 긍정/부정을 나타내는 1dim 입니다.\n",
    "\n",
    "RNN_model.summary()"
   ]
  },
  {
   "cell_type": "code",
   "execution_count": 32,
   "id": "2fe88a6c",
   "metadata": {},
   "outputs": [],
   "source": [
    "RNN_model.compile(optimizer='adam',\n",
    "              loss='binary_crossentropy',\n",
    "              metrics=['accuracy'])"
   ]
  },
  {
   "cell_type": "code",
   "execution_count": 33,
   "id": "a9e0a8e6",
   "metadata": {},
   "outputs": [
    {
     "name": "stdout",
     "output_type": "stream",
     "text": [
      "Epoch 1/5\n",
      "3656/3656 [==============================] - 21s 5ms/step - loss: 0.4106 - accuracy: 0.8100 - val_loss: 0.3412 - val_accuracy: 0.8510\n",
      "Epoch 2/5\n",
      "3656/3656 [==============================] - 20s 6ms/step - loss: 0.3102 - accuracy: 0.8686 - val_loss: 0.3291 - val_accuracy: 0.8564\n",
      "Epoch 3/5\n",
      "3656/3656 [==============================] - 20s 5ms/step - loss: 0.2747 - accuracy: 0.8848 - val_loss: 0.3260 - val_accuracy: 0.8599\n",
      "Epoch 4/5\n",
      "3656/3656 [==============================] - 20s 5ms/step - loss: 0.2447 - accuracy: 0.8996 - val_loss: 0.3354 - val_accuracy: 0.8592\n",
      "Epoch 5/5\n",
      "3656/3656 [==============================] - 20s 5ms/step - loss: 0.2176 - accuracy: 0.9117 - val_loss: 0.3492 - val_accuracy: 0.8584\n"
     ]
    }
   ],
   "source": [
    "history = RNN_model.fit(partial_x_train,\n",
    "                    partial_y_train,\n",
    "                    epochs=5,\n",
    "                    batch_size=32,\n",
    "                    validation_data=(x_val, y_val),\n",
    "                    verbose=1)"
   ]
  },
  {
   "cell_type": "code",
   "execution_count": 34,
   "id": "df11da6e",
   "metadata": {},
   "outputs": [
    {
     "name": "stdout",
     "output_type": "stream",
     "text": [
      "1537/1537 - 3s - loss: 0.3588 - accuracy: 0.8544\n",
      "[0.3587951958179474, 0.8544052839279175]\n"
     ]
    }
   ],
   "source": [
    "results = RNN_model.evaluate(X_test,  y_test, verbose=2)\n",
    "print(results)"
   ]
  },
  {
   "cell_type": "markdown",
   "id": "d9fdd2f2",
   "metadata": {},
   "source": [
    "## 2) 1-D Convolution Neural Network(1-D CNN)"
   ]
  },
  {
   "cell_type": "code",
   "execution_count": 35,
   "id": "05082676",
   "metadata": {},
   "outputs": [
    {
     "name": "stdout",
     "output_type": "stream",
     "text": [
      "Model: \"sequential_2\"\n",
      "_________________________________________________________________\n",
      "Layer (type)                 Output Shape              Param #   \n",
      "=================================================================\n",
      "embedding_2 (Embedding)      (None, None, 200)         2000000   \n",
      "_________________________________________________________________\n",
      "conv1d (Conv1D)              (None, None, 16)          22416     \n",
      "_________________________________________________________________\n",
      "max_pooling1d (MaxPooling1D) (None, None, 16)          0         \n",
      "_________________________________________________________________\n",
      "conv1d_1 (Conv1D)            (None, None, 16)          1808      \n",
      "_________________________________________________________________\n",
      "global_max_pooling1d (Global (None, 16)                0         \n",
      "_________________________________________________________________\n",
      "dense_4 (Dense)              (None, 8)                 136       \n",
      "_________________________________________________________________\n",
      "dense_5 (Dense)              (None, 1)                 9         \n",
      "=================================================================\n",
      "Total params: 2,024,369\n",
      "Trainable params: 2,024,369\n",
      "Non-trainable params: 0\n",
      "_________________________________________________________________\n"
     ]
    }
   ],
   "source": [
    "CNN_model = tf.keras.Sequential()\n",
    "CNN_model.add(tf.keras.layers.Embedding(vocab_size, word_vector_dim, input_shape=(None,)))\n",
    "CNN_model.add(tf.keras.layers.Conv1D(16, 7, activation='relu'))\n",
    "CNN_model.add(tf.keras.layers.MaxPooling1D(5))\n",
    "CNN_model.add(tf.keras.layers.Conv1D(16, 7, activation='relu'))\n",
    "CNN_model.add(tf.keras.layers.GlobalMaxPooling1D())\n",
    "CNN_model.add(tf.keras.layers.Dense(8, activation='relu'))\n",
    "CNN_model.add(tf.keras.layers.Dense(1, activation='sigmoid'))  # 최종 출력은 긍정/부정을 나타내는 1dim 입니다.\n",
    "\n",
    "CNN_model.summary()"
   ]
  },
  {
   "cell_type": "code",
   "execution_count": 36,
   "id": "c5022607",
   "metadata": {
    "scrolled": true
   },
   "outputs": [
    {
     "name": "stdout",
     "output_type": "stream",
     "text": [
      "Epoch 1/5\n",
      "3656/3656 [==============================] - 19s 5ms/step - loss: 0.3753 - accuracy: 0.8265 - val_loss: 0.3202 - val_accuracy: 0.8617\n",
      "Epoch 2/5\n",
      "3656/3656 [==============================] - 17s 5ms/step - loss: 0.2620 - accuracy: 0.8920 - val_loss: 0.3248 - val_accuracy: 0.8609\n",
      "Epoch 3/5\n",
      "3656/3656 [==============================] - 17s 5ms/step - loss: 0.1782 - accuracy: 0.9310 - val_loss: 0.3734 - val_accuracy: 0.8527\n",
      "Epoch 4/5\n",
      "3656/3656 [==============================] - 17s 5ms/step - loss: 0.1132 - accuracy: 0.9587 - val_loss: 0.4954 - val_accuracy: 0.8442\n",
      "Epoch 5/5\n",
      "3656/3656 [==============================] - 17s 5ms/step - loss: 0.0812 - accuracy: 0.9702 - val_loss: 0.5631 - val_accuracy: 0.8421\n"
     ]
    }
   ],
   "source": [
    "CNN_model.compile(optimizer='adam',\n",
    "              loss='binary_crossentropy',\n",
    "              metrics=['accuracy'])\n",
    "              \n",
    "epochs=5  # 몇 epoch를 훈련하면 좋을지 결과를 보면서 바꾸어 봅시다. \n",
    "\n",
    "history = CNN_model.fit(partial_x_train,\n",
    "                    partial_y_train,\n",
    "                    epochs=epochs,\n",
    "                    batch_size=32,\n",
    "                    validation_data=(x_val, y_val),\n",
    "                    verbose=1)"
   ]
  },
  {
   "cell_type": "markdown",
   "id": "6474b82f",
   "metadata": {},
   "source": [
    "### 그래프 분석 1-D Convolution Neural Network(1-D CNN)"
   ]
  },
  {
   "cell_type": "code",
   "execution_count": 37,
   "id": "6014def8",
   "metadata": {},
   "outputs": [
    {
     "name": "stdout",
     "output_type": "stream",
     "text": [
      "dict_keys(['loss', 'accuracy', 'val_loss', 'val_accuracy'])\n"
     ]
    }
   ],
   "source": [
    "history_dict = history.history\n",
    "print(history_dict.keys()) # epoch에 따른 그래프를 그려볼 수 있는 항목들"
   ]
  },
  {
   "cell_type": "code",
   "execution_count": 38,
   "id": "5d9a201c",
   "metadata": {},
   "outputs": [
    {
     "data": {
      "image/png": "[encoded data removed]",
      "text/plain": [
       "<Figure size 1080x360 with 2 Axes>"
      ]
     },
     "metadata": {
      "needs_background": "light"
     },
     "output_type": "display_data"
    }
   ],
   "source": [
    "acc = history_dict['accuracy']\n",
    "val_acc = history_dict['val_accuracy']\n",
    "loss = history_dict['loss']\n",
    "val_loss = history_dict['val_loss']\n",
    "\n",
    "epochs = range(1, len(acc) + 1)\n",
    "\n",
    "fig = plt.figure(figsize=(15,5))\n",
    "ax1 = fig.add_subplot(1,2,1)\n",
    "# \"ro\"는 \"빨간색 점\"입니다\n",
    "plt.plot(epochs, loss, 'ro', label='Training loss')\n",
    "# b는 \"파란 실선\"입니다\n",
    "plt.plot(epochs, val_loss, 'b', label='Validation loss')\n",
    "plt.title('Training and validation loss')\n",
    "plt.xlabel('Epochs')\n",
    "plt.ylabel('Loss')\n",
    "plt.legend()\n",
    "\n",
    "ax2 = fig.add_subplot(1,2,2)\n",
    "plt.plot(epochs, acc, 'ro', label='Training acc')\n",
    "plt.plot(epochs, val_acc, 'b', label='Validation acc')\n",
    "plt.title('Training and validation accuracy')\n",
    "plt.xlabel('Epochs')\n",
    "plt.ylabel('Accuracy')\n",
    "plt.legend()\n",
    "\n",
    "plt.show()"
   ]
  },
  {
   "cell_type": "code",
   "execution_count": 39,
   "id": "c62ba718",
   "metadata": {},
   "outputs": [
    {
     "name": "stdout",
     "output_type": "stream",
     "text": [
      "1537/1537 - 2s - loss: 0.5745 - accuracy: 0.8387\n",
      "[0.5744879841804504, 0.8387208580970764]\n"
     ]
    }
   ],
   "source": [
    "results = CNN_model.evaluate(X_test,  y_test, verbose=2)\n",
    "print(results)"
   ]
  },
  {
   "cell_type": "markdown",
   "id": "55508574",
   "metadata": {},
   "source": [
    "### embedding layer (1-D Convolution Neural Network(1-D CNN)"
   ]
  },
  {
   "cell_type": "code",
   "execution_count": 40,
   "id": "df42aa88",
   "metadata": {},
   "outputs": [
    {
     "name": "stdout",
     "output_type": "stream",
     "text": [
      "(10000, 200)\n"
     ]
    }
   ],
   "source": [
    "embedding_layer = CNN_model.layers[0]\n",
    "weights = embedding_layer.get_weights()[0]\n",
    "print(weights.shape)    # shape: (vocab_size, embedding_dim)"
   ]
  },
  {
   "cell_type": "code",
   "execution_count": 41,
   "id": "3608ce88",
   "metadata": {},
   "outputs": [],
   "source": [
    "# 학습한 Embedding 파라미터를 파일에 써서 저장합니다. \n",
    "word2vec_file_path = os.getenv('HOME')+'/aiffel/sentiment_classification/data/CNNword2vec.txt'\n",
    "f = open(word2vec_file_path, 'w')\n",
    "f.write('{} {}\\n'.format(vocab_size-4, word_vector_dim))  # 몇개의 벡터를 얼마 사이즈로 기재할지 타이틀을 씁니다.\n",
    "\n",
    "# 단어 개수(에서 특수문자 4개는 제외하고)만큼의 워드 벡터를 파일에 기록합니다. \n",
    "vectors = CNN_model.get_weights()[0]\n",
    "for i in range(4,vocab_size):\n",
    "    f.write('{} {}\\n'.format(index_to_word[i], ' '.join(map(str, list(vectors[i, :])))))\n",
    "f.close()"
   ]
  },
  {
   "cell_type": "code",
   "execution_count": 42,
   "id": "ddc2d1b3",
   "metadata": {},
   "outputs": [
    {
     "data": {
      "text/plain": [
       "array([-9.41210315e-02,  9.54017416e-02,  7.69393053e-03, -1.18003665e-02,\n",
       "        1.16658293e-01,  6.76655993e-02, -5.32102399e-02, -1.37610301e-01,\n",
       "        2.29320526e-02,  9.89811867e-02,  3.29777598e-02, -7.88691416e-02,\n",
       "       -1.75196566e-02, -1.90004129e-02,  1.62760168e-01,  1.35699943e-01,\n",
       "       -7.82043114e-02,  5.31749055e-02,  4.81083654e-02, -3.58590744e-02,\n",
       "        9.02787298e-02, -9.08359215e-02,  1.58882439e-02,  6.70951158e-02,\n",
       "        4.24925387e-02, -2.47382210e-04, -7.32346997e-02,  7.79194534e-02,\n",
       "        1.33616462e-01,  1.68653987e-02,  4.95464951e-02,  3.13038528e-02,\n",
       "        7.56136701e-02,  5.99132963e-02,  6.71788454e-02, -2.63488553e-02,\n",
       "       -7.08514601e-02, -1.13793723e-02,  5.90698086e-02, -1.67728290e-02,\n",
       "       -1.26168773e-01,  6.33578226e-02, -5.70801608e-02,  6.55129505e-03,\n",
       "        2.26852410e-02, -8.34240019e-02,  1.19939789e-01,  1.01862438e-01,\n",
       "        4.61558951e-03, -2.16931961e-02,  8.22593421e-02, -1.26768462e-02,\n",
       "        3.33022401e-02,  9.74012613e-02,  1.09534487e-01,  1.04004648e-02,\n",
       "        5.50981425e-02,  1.38620054e-03,  3.28660905e-02,  6.15924373e-02,\n",
       "        3.18005718e-02,  2.28211656e-03, -1.05381012e-01, -4.94578220e-02,\n",
       "       -1.00880429e-01,  6.85694208e-03,  1.03259899e-01,  9.66216438e-04,\n",
       "       -3.87553424e-02,  1.05460480e-01,  1.06454536e-01, -6.74568489e-02,\n",
       "        1.23729602e-01,  7.32059330e-02,  2.31961515e-02, -9.19978321e-02,\n",
       "        1.35664389e-01, -1.18898742e-01,  1.31848417e-02, -5.65930689e-03,\n",
       "        8.78266692e-02,  6.20888509e-02,  1.48946233e-03, -2.99660880e-02,\n",
       "        5.13505079e-02,  6.73223957e-02, -3.55229643e-03,  8.33204687e-02,\n",
       "        1.04136333e-01,  1.02766149e-01, -1.90669194e-01,  4.44111675e-02,\n",
       "       -1.37553394e-01, -3.29638533e-02, -1.40072957e-01,  1.97674260e-02,\n",
       "       -4.78616804e-02, -5.55846877e-02,  8.14634003e-03, -4.38848957e-02,\n",
       "       -3.80535872e-04,  6.65535852e-02,  8.98933858e-02,  4.95199719e-03,\n",
       "       -9.41880494e-02,  3.29295583e-02, -3.38915363e-02, -1.96157619e-02,\n",
       "        3.18940394e-02,  4.27366942e-02, -5.28642982e-02, -1.49569358e-04,\n",
       "        3.81927472e-03,  1.00112528e-01, -8.36449191e-02, -6.37691468e-02,\n",
       "       -8.82284530e-03, -1.32775679e-01,  5.52489758e-02,  1.69263721e-01,\n",
       "        4.62662205e-02, -7.39919441e-03,  5.30308262e-02,  6.17640801e-02,\n",
       "        3.54880989e-02,  9.51939896e-02, -2.13320665e-02, -5.11594377e-02,\n",
       "       -1.06729604e-01,  4.28023413e-02, -3.99440154e-02, -5.87450825e-02,\n",
       "       -2.12162688e-01, -2.76825242e-02,  4.15282063e-02,  2.25789696e-02,\n",
       "       -1.24096230e-01,  4.08924446e-02, -6.10046014e-02,  8.51156861e-02,\n",
       "        4.72958349e-02,  1.18871965e-01, -8.70215297e-02,  9.99579579e-02,\n",
       "       -9.12189260e-02, -4.55894396e-02,  4.90740053e-02,  5.67024760e-02,\n",
       "       -6.95237592e-02,  3.10449917e-02, -5.01761511e-02,  1.17211670e-01,\n",
       "        3.46867070e-02, -4.69016507e-02,  3.95412147e-02,  4.15685624e-02,\n",
       "       -3.60325985e-02, -1.43270314e-01,  1.17689379e-01, -3.84074263e-02,\n",
       "        1.32856786e-01, -7.88670704e-02, -3.38694593e-03,  1.30223244e-01,\n",
       "        2.56407615e-02,  7.63143376e-02, -8.92291293e-02,  7.79706985e-02,\n",
       "       -1.74646080e-01, -4.02268441e-03,  1.81308370e-02, -1.34017095e-01,\n",
       "        1.72413029e-02, -1.28961861e-01, -8.29524547e-02,  8.74031559e-02,\n",
       "       -5.30083179e-02,  1.36831934e-02, -5.15251458e-02,  3.22401673e-02,\n",
       "        3.37573737e-02, -2.43144948e-03,  8.48243013e-02, -3.64351198e-02,\n",
       "        1.09130457e-01, -9.16898325e-02, -3.34403180e-02,  5.44171147e-02,\n",
       "       -1.15133516e-01,  3.11942790e-02,  7.39628151e-02, -4.56543602e-02,\n",
       "       -4.16379236e-02, -4.38191295e-02, -3.29544060e-02,  8.08786303e-02,\n",
       "       -1.14140930e-02,  7.51885474e-02,  4.40513492e-02, -2.04361007e-02],\n",
       "      dtype=float32)"
      ]
     },
     "execution_count": 42,
     "metadata": {},
     "output_type": "execute_result"
    }
   ],
   "source": [
    "word_vectors = Word2VecKeyedVectors.load_word2vec_format(word2vec_file_path, binary=False)\n",
    "vector = word_vectors['영화']\n",
    "vector"
   ]
  },
  {
   "cell_type": "code",
   "execution_count": 43,
   "id": "7bdd1bc0",
   "metadata": {},
   "outputs": [
    {
     "data": {
      "text/plain": [
       "[('떨어집니다', 0.8158352375030518),\n",
       " ('가관', 0.8035213351249695),\n",
       " ('불친절', 0.8001257181167603),\n",
       " ('문란', 0.7880607843399048),\n",
       " ('해놨', 0.7849583625793457),\n",
       " ('흑역사', 0.7825869917869568),\n",
       " ('.-', 0.774508535861969),\n",
       " ('에휴', 0.7735586166381836),\n",
       " ('부실', 0.7725807428359985),\n",
       " ('잘못', 0.7695517539978027)]"
      ]
     },
     "execution_count": 43,
     "metadata": {},
     "output_type": "execute_result"
    }
   ],
   "source": [
    "word_vectors.similar_by_word(\"실망\")"
   ]
  },
  {
   "cell_type": "markdown",
   "id": "fd50642d",
   "metadata": {},
   "source": [
    "### 한국어 Word2Vec 임베딩 활용하여 성능 개선 (CNN)"
   ]
  },
  {
   "cell_type": "code",
   "execution_count": 44,
   "id": "99a25c09",
   "metadata": {},
   "outputs": [
    {
     "data": {
      "text/plain": [
       "array([-1.7577837 , -1.0874279 ,  1.5300866 , -0.1115231 , -0.37980682,\n",
       "        1.4828517 ,  1.3180419 ,  0.11094163,  0.7430535 , -0.45461136,\n",
       "        0.58841336,  0.5763913 ,  1.210707  ,  1.3132795 , -0.86962503,\n",
       "       -0.18507595, -0.47440064,  1.5100725 ,  1.0965794 ,  1.0600823 ,\n",
       "       -0.27457932, -0.70003706,  2.3117511 ,  1.4944884 ,  0.25560892,\n",
       "       -2.866659  , -0.28312334,  0.34263936, -0.67723423,  0.71714777,\n",
       "        0.25549442,  0.71732044, -0.13262457,  0.01792452, -0.3184774 ,\n",
       "        0.5271619 ,  0.7561084 , -2.1247065 ,  1.061429  , -0.21065854,\n",
       "        0.6877343 , -1.4956383 ,  0.60346967, -2.6955893 ,  0.37694618,\n",
       "       -1.0164185 ,  0.5430663 ,  0.1200121 , -2.6315718 ,  0.6216742 ,\n",
       "        1.1583976 , -2.5385962 ,  1.326312  , -0.10284371, -0.0286147 ,\n",
       "       -0.9132947 ,  0.7647564 ,  0.79202783, -1.8625957 , -0.7418395 ,\n",
       "        0.5884277 , -0.9917992 , -0.62114453,  1.5367815 , -0.6628939 ,\n",
       "        0.6712103 ,  0.12914915,  0.21228492,  0.9017655 , -0.25083402,\n",
       "        0.71500814,  0.08644514,  0.59993285,  0.5766137 ,  0.64095974,\n",
       "        0.47888306, -2.8426213 , -2.8502681 , -0.140544  , -1.5917364 ,\n",
       "        0.26691505,  0.59476066,  0.85868204,  1.0322351 ,  0.25671318,\n",
       "       -0.34831643,  1.752927  , -0.21967097, -0.77352476,  1.6995213 ,\n",
       "        1.3996491 , -0.9419836 ,  0.85996443, -1.8812876 , -2.5428605 ,\n",
       "        0.39351937, -1.2882805 ,  0.56548136,  1.006273  ,  1.2217585 ,\n",
       "        3.5744793 ,  1.717737  ,  1.6917158 , -2.2176905 , -0.3167447 ,\n",
       "        1.2449    , -1.255284  , -2.1539652 , -1.096709  , -0.74976933,\n",
       "       -0.16744931, -1.8507233 ,  2.1861036 , -0.05389732,  1.038033  ,\n",
       "        0.33730686, -1.4647075 , -1.264041  ,  0.25509247,  0.0622906 ,\n",
       "        0.27852032, -0.52661455,  0.8529616 ,  0.58257025, -0.57665855,\n",
       "        1.3990631 ,  0.28237963,  1.6566037 ,  1.9912103 ,  0.63888913,\n",
       "        0.7732426 , -1.3757724 ,  0.17209321, -0.2433672 ,  0.6328291 ,\n",
       "        1.486971  ,  2.3435354 , -1.7037928 ,  3.1944559 , -1.9049606 ,\n",
       "       -0.51309574,  0.79082954, -1.4480313 , -0.68631476,  0.62008876,\n",
       "       -2.3400223 , -0.5785594 ,  0.5270694 ,  3.0061607 , -1.3661511 ,\n",
       "       -2.7953272 , -1.1794031 , -0.27734265,  0.71130925, -0.06620383,\n",
       "        0.33663416,  0.7204997 , -0.923218  , -2.1603265 , -0.8904896 ,\n",
       "       -1.4137112 , -0.4189144 ,  0.42834592,  1.8104875 , -1.8274456 ,\n",
       "       -0.26700613,  0.7743727 ,  0.80048114,  1.1333636 ,  3.2746978 ,\n",
       "       -0.0188297 ,  0.9245737 , -0.1246058 , -0.5802861 , -0.01926111,\n",
       "        1.05892   , -1.4247856 ,  1.0689156 ,  2.5728712 , -1.294882  ,\n",
       "        0.74771804,  1.3066916 , -1.3213431 ,  1.6501019 , -0.12401557,\n",
       "        0.96340084,  0.26050946,  1.3826336 , -0.02877662,  2.3431563 ,\n",
       "       -0.26337367,  1.9162012 , -0.77454543,  1.7392642 ,  0.08038983,\n",
       "       -0.60325927,  0.29508227,  0.4812675 ,  0.5271086 ,  0.94171894],\n",
       "      dtype=float32)"
      ]
     },
     "execution_count": 44,
     "metadata": {},
     "output_type": "execute_result"
    }
   ],
   "source": [
    "word2vec_path = os.getenv('HOME')+'/aiffel/sentiment_classification/ko.bin.gz'\n",
    "word2vec = gensim.models.Word2Vec.load(word2vec_path)\n",
    "vector = word2vec['영화']\n",
    "vector"
   ]
  },
  {
   "cell_type": "code",
   "execution_count": 45,
   "id": "00e546a9",
   "metadata": {},
   "outputs": [
    {
     "data": {
      "text/plain": [
       "[('당황', 0.7591220140457153),\n",
       " ('경악', 0.6881837248802185),\n",
       " ('분개', 0.6751235723495483),\n",
       " ('분노', 0.6750859022140503),\n",
       " ('격분', 0.647419810295105),\n",
       " ('감동', 0.6267645955085754),\n",
       " ('감탄', 0.6222271919250488),\n",
       " ('원망', 0.6156655550003052),\n",
       " ('조심', 0.6145114898681641),\n",
       " ('감복', 0.6109203696250916)]"
      ]
     },
     "execution_count": 45,
     "metadata": {},
     "output_type": "execute_result"
    }
   ],
   "source": [
    "word2vec.similar_by_word(\"실망\")"
   ]
  },
  {
   "cell_type": "code",
   "execution_count": 46,
   "id": "d08f7950",
   "metadata": {},
   "outputs": [],
   "source": [
    "vocab_size = 10000\n",
    "word_vector_dim = 200\n",
    "embedding_matrix = np.random.rand(vocab_size, word_vector_dim)\n",
    "\n",
    "for i in range(4,vocab_size):\n",
    "    if index_to_word[i] in word2vec:\n",
    "        embedding_matrix[i] = word2vec[index_to_word[i]]"
   ]
  },
  {
   "cell_type": "code",
   "execution_count": 47,
   "id": "8e250906",
   "metadata": {},
   "outputs": [
    {
     "name": "stdout",
     "output_type": "stream",
     "text": [
      "Model: \"sequential_3\"\n",
      "_________________________________________________________________\n",
      "Layer (type)                 Output Shape              Param #   \n",
      "=================================================================\n",
      "embedding_3 (Embedding)      (None, 41, 200)           2000000   \n",
      "_________________________________________________________________\n",
      "conv1d_2 (Conv1D)            (None, 35, 16)            22416     \n",
      "_________________________________________________________________\n",
      "max_pooling1d_1 (MaxPooling1 (None, 7, 16)             0         \n",
      "_________________________________________________________________\n",
      "conv1d_3 (Conv1D)            (None, 1, 16)             1808      \n",
      "_________________________________________________________________\n",
      "global_max_pooling1d_1 (Glob (None, 16)                0         \n",
      "_________________________________________________________________\n",
      "dense_6 (Dense)              (None, 8)                 136       \n",
      "_________________________________________________________________\n",
      "dense_7 (Dense)              (None, 1)                 9         \n",
      "=================================================================\n",
      "Total params: 2,024,369\n",
      "Trainable params: 2,024,369\n",
      "Non-trainable params: 0\n",
      "_________________________________________________________________\n"
     ]
    }
   ],
   "source": [
    "# 모델 구성\n",
    "CNN_model = tf.keras.Sequential()\n",
    "CNN_model.add(tf.keras.layers.Embedding(vocab_size, \n",
    "                                 word_vector_dim, \n",
    "                                 embeddings_initializer=Constant(embedding_matrix),  # 카피한 임베딩을 여기서 활용\n",
    "                                 input_length=maxlen, \n",
    "                                 trainable=True))   # trainable을 True로 주면 Fine-tuning\n",
    "CNN_model.add(tf.keras.layers.Conv1D(16, 7, activation='relu'))\n",
    "CNN_model.add(tf.keras.layers.MaxPooling1D(5))\n",
    "CNN_model.add(tf.keras.layers.Conv1D(16, 7, activation='relu'))\n",
    "CNN_model.add(tf.keras.layers.GlobalMaxPooling1D())\n",
    "CNN_model.add(tf.keras.layers.Dense(8, activation='relu'))\n",
    "CNN_model.add(tf.keras.layers.Dense(1, activation='sigmoid'))  # 최종 출력은 긍정/부정을 나타내는 1dim 입니다.\n",
    "\n",
    "CNN_model.summary()"
   ]
  },
  {
   "cell_type": "code",
   "execution_count": 48,
   "id": "efeab069",
   "metadata": {},
   "outputs": [],
   "source": [
    "CNN_model.compile(optimizer='adam',\n",
    "              loss='binary_crossentropy',\n",
    "              metrics=['accuracy'])"
   ]
  },
  {
   "cell_type": "code",
   "execution_count": 49,
   "id": "81656e5f",
   "metadata": {},
   "outputs": [
    {
     "name": "stdout",
     "output_type": "stream",
     "text": [
      "Epoch 1/5\n",
      "3656/3656 [==============================] - 18s 5ms/step - loss: 0.4355 - accuracy: 0.7925 - val_loss: 0.3504 - val_accuracy: 0.8449\n",
      "Epoch 2/5\n",
      "3656/3656 [==============================] - 17s 5ms/step - loss: 0.3240 - accuracy: 0.8609 - val_loss: 0.3340 - val_accuracy: 0.8550\n",
      "Epoch 3/5\n",
      "3656/3656 [==============================] - 17s 5ms/step - loss: 0.2842 - accuracy: 0.8813 - val_loss: 0.3305 - val_accuracy: 0.8570\n",
      "Epoch 4/5\n",
      "3656/3656 [==============================] - 17s 5ms/step - loss: 0.2495 - accuracy: 0.8976 - val_loss: 0.3519 - val_accuracy: 0.8561\n",
      "Epoch 5/5\n",
      "3656/3656 [==============================] - 17s 5ms/step - loss: 0.2160 - accuracy: 0.9132 - val_loss: 0.3650 - val_accuracy: 0.8529\n"
     ]
    }
   ],
   "source": [
    "history = CNN_model.fit(partial_x_train,\n",
    "                    partial_y_train,\n",
    "                    epochs=5,\n",
    "                    batch_size=32,\n",
    "                    validation_data=(x_val, y_val),\n",
    "                    verbose=1)"
   ]
  },
  {
   "cell_type": "code",
   "execution_count": 50,
   "id": "36186664",
   "metadata": {},
   "outputs": [
    {
     "name": "stdout",
     "output_type": "stream",
     "text": [
      "1537/1537 - 2s - loss: 0.3761 - accuracy: 0.8503\n",
      "[0.3761356770992279, 0.8502553105354309]\n"
     ]
    }
   ],
   "source": [
    "results = CNN_model.evaluate(X_test,  y_test, verbose=2)\n",
    "print(results)"
   ]
  },
  {
   "cell_type": "markdown",
   "id": "ec9604d5",
   "metadata": {},
   "source": [
    "## 3) GlobalMaxPooling1D()"
   ]
  },
  {
   "cell_type": "code",
   "execution_count": 51,
   "id": "a3942002",
   "metadata": {},
   "outputs": [
    {
     "name": "stdout",
     "output_type": "stream",
     "text": [
      "Model: \"sequential_4\"\n",
      "_________________________________________________________________\n",
      "Layer (type)                 Output Shape              Param #   \n",
      "=================================================================\n",
      "embedding_4 (Embedding)      (None, None, 200)         2000000   \n",
      "_________________________________________________________________\n",
      "global_max_pooling1d_2 (Glob (None, 200)               0         \n",
      "_________________________________________________________________\n",
      "dense_8 (Dense)              (None, 8)                 1608      \n",
      "_________________________________________________________________\n",
      "dense_9 (Dense)              (None, 1)                 9         \n",
      "=================================================================\n",
      "Total params: 2,001,617\n",
      "Trainable params: 2,001,617\n",
      "Non-trainable params: 0\n",
      "_________________________________________________________________\n"
     ]
    }
   ],
   "source": [
    "GMP_model = tf.keras.Sequential()\n",
    "GMP_model.add(tf.keras.layers.Embedding(vocab_size, word_vector_dim, input_shape=(None,)))\n",
    "GMP_model.add(tf.keras.layers.GlobalMaxPooling1D())\n",
    "GMP_model.add(tf.keras.layers.Dense(8, activation='relu'))\n",
    "GMP_model.add(tf.keras.layers.Dense(1, activation='sigmoid'))  # 최종 출력은 긍정/부정을 나타내는 1dim 입니다.\n",
    "\n",
    "GMP_model.summary()"
   ]
  },
  {
   "cell_type": "code",
   "execution_count": 52,
   "id": "76244f45",
   "metadata": {
    "scrolled": true
   },
   "outputs": [
    {
     "name": "stdout",
     "output_type": "stream",
     "text": [
      "Epoch 1/5\n",
      "3656/3656 [==============================] - 14s 4ms/step - loss: 0.3826 - accuracy: 0.8302 - val_loss: 0.3378 - val_accuracy: 0.8526\n",
      "Epoch 2/5\n",
      "3656/3656 [==============================] - 13s 4ms/step - loss: 0.2956 - accuracy: 0.8762 - val_loss: 0.3364 - val_accuracy: 0.8575\n",
      "Epoch 3/5\n",
      "3656/3656 [==============================] - 13s 4ms/step - loss: 0.2426 - accuracy: 0.9019 - val_loss: 0.3492 - val_accuracy: 0.8564\n",
      "Epoch 4/5\n",
      "3656/3656 [==============================] - 13s 4ms/step - loss: 0.1908 - accuracy: 0.9262 - val_loss: 0.3851 - val_accuracy: 0.8516\n",
      "Epoch 5/5\n",
      "3656/3656 [==============================] - 13s 3ms/step - loss: 0.1412 - accuracy: 0.9476 - val_loss: 0.4641 - val_accuracy: 0.8474\n"
     ]
    }
   ],
   "source": [
    "GMP_model.compile(optimizer='adam',\n",
    "              loss='binary_crossentropy',\n",
    "              metrics=['accuracy'])\n",
    "              \n",
    "epochs=5  # 몇 epoch를 훈련하면 좋을지 결과를 보면서 바꾸어 봅시다. \n",
    "\n",
    "history = GMP_model.fit(partial_x_train,\n",
    "                    partial_y_train,\n",
    "                    epochs=epochs,\n",
    "                    batch_size=32,\n",
    "                    validation_data=(x_val, y_val),\n",
    "                    verbose=1)"
   ]
  },
  {
   "cell_type": "markdown",
   "id": "0f48ae6c",
   "metadata": {},
   "source": [
    "### 그래프 분석 GlobalMaxPooling1D()"
   ]
  },
  {
   "cell_type": "code",
   "execution_count": 53,
   "id": "9fac8168",
   "metadata": {},
   "outputs": [
    {
     "name": "stdout",
     "output_type": "stream",
     "text": [
      "dict_keys(['loss', 'accuracy', 'val_loss', 'val_accuracy'])\n"
     ]
    }
   ],
   "source": [
    "history_dict = history.history\n",
    "print(history_dict.keys()) # epoch에 따른 그래프를 그려볼 수 있는 항목들"
   ]
  },
  {
   "cell_type": "code",
   "execution_count": 54,
   "id": "24541a87",
   "metadata": {},
   "outputs": [
    {
     "data": {
      "image/png": "[encoded data removed]",
      "text/plain": [
       "<Figure size 1080x360 with 2 Axes>"
      ]
     },
     "metadata": {
      "needs_background": "light"
     },
     "output_type": "display_data"
    }
   ],
   "source": [
    "acc = history_dict['accuracy']\n",
    "val_acc = history_dict['val_accuracy']\n",
    "loss = history_dict['loss']\n",
    "val_loss = history_dict['val_loss']\n",
    "\n",
    "epochs = range(1, len(acc) + 1)\n",
    "\n",
    "fig = plt.figure(figsize=(15,5))\n",
    "ax1 = fig.add_subplot(1,2,1)\n",
    "# \"ro\"는 \"빨간색 점\"입니다\n",
    "plt.plot(epochs, loss, 'ro', label='Training loss')\n",
    "# b는 \"파란 실선\"입니다\n",
    "plt.plot(epochs, val_loss, 'b', label='Validation loss')\n",
    "plt.title('Training and validation loss')\n",
    "plt.xlabel('Epochs')\n",
    "plt.ylabel('Loss')\n",
    "plt.legend()\n",
    "\n",
    "ax2 = fig.add_subplot(1,2,2)\n",
    "plt.plot(epochs, acc, 'ro', label='Training acc')\n",
    "plt.plot(epochs, val_acc, 'b', label='Validation acc')\n",
    "plt.title('Training and validation accuracy')\n",
    "plt.xlabel('Epochs')\n",
    "plt.ylabel('Accuracy')\n",
    "plt.legend()\n",
    "\n",
    "plt.show()"
   ]
  },
  {
   "cell_type": "code",
   "execution_count": 55,
   "id": "b617b9aa",
   "metadata": {},
   "outputs": [
    {
     "name": "stdout",
     "output_type": "stream",
     "text": [
      "1537/1537 - 2s - loss: 0.4651 - accuracy: 0.8435\n",
      "[0.46505850553512573, 0.8435014486312866]\n"
     ]
    }
   ],
   "source": [
    "results = GMP_model.evaluate(X_test,  y_test, verbose=2)\n",
    "print(results)"
   ]
  },
  {
   "cell_type": "markdown",
   "id": "461766f3",
   "metadata": {},
   "source": [
    "### embedding layer (GlobalMaxPooling1D)"
   ]
  },
  {
   "cell_type": "code",
   "execution_count": 56,
   "id": "e1626043",
   "metadata": {},
   "outputs": [
    {
     "name": "stdout",
     "output_type": "stream",
     "text": [
      "(10000, 200)\n"
     ]
    }
   ],
   "source": [
    "embedding_layer = GMP_model.layers[0]\n",
    "weights = embedding_layer.get_weights()[0]\n",
    "print(weights.shape)    # shape: (vocab_size, embedding_dim)"
   ]
  },
  {
   "cell_type": "code",
   "execution_count": 57,
   "id": "40a18ffb",
   "metadata": {},
   "outputs": [],
   "source": [
    "# 학습한 Embedding 파라미터를 파일에 써서 저장합니다. \n",
    "word2vec_file_path = os.getenv('HOME')+'/aiffel/sentiment_classification/data/GMPword2vec.txt'\n",
    "f = open(word2vec_file_path, 'w')\n",
    "f.write('{} {}\\n'.format(vocab_size-4, word_vector_dim))  # 몇개의 벡터를 얼마 사이즈로 기재할지 타이틀을 씁니다.\n",
    "\n",
    "# 단어 개수(에서 특수문자 4개는 제외하고)만큼의 워드 벡터를 파일에 기록합니다. \n",
    "vectors = GMP_model.get_weights()[0]\n",
    "for i in range(4,vocab_size):\n",
    "    f.write('{} {}\\n'.format(index_to_word[i], ' '.join(map(str, list(vectors[i, :])))))\n",
    "f.close()"
   ]
  },
  {
   "cell_type": "code",
   "execution_count": 58,
   "id": "3b1e901d",
   "metadata": {},
   "outputs": [
    {
     "data": {
      "text/plain": [
       "array([-0.1256925 , -0.19091079, -0.11137646, -0.13867183,  0.04315162,\n",
       "       -0.08418351, -0.15381636, -0.24816352, -0.12120295, -0.19711234,\n",
       "       -0.11917408, -0.23065074, -0.04279614, -0.05806922, -0.14056818,\n",
       "       -0.16186434, -0.22422054, -0.11388251, -0.13019413, -0.28739792,\n",
       "        0.01979981, -0.14719585,  0.01939621,  0.25167447, -0.08313365,\n",
       "       -0.10854414, -0.05925051, -0.20406431, -0.09144842, -0.09776396,\n",
       "        0.20334628, -0.198129  , -0.05672632, -0.17734568, -0.15402938,\n",
       "       -0.06423121, -0.08377635,  0.09160884, -0.12805244, -0.08176218,\n",
       "       -0.13317674, -0.23783594, -0.11256407, -0.20388387, -0.2343159 ,\n",
       "       -0.06588906,  0.08883683, -0.19089659, -0.1238077 , -0.06926543,\n",
       "       -0.08131389,  0.17791207, -0.1289887 , -0.10792688, -0.20816551,\n",
       "       -0.29139346, -0.29262716, -0.18842295, -0.13595897, -0.24439204,\n",
       "       -0.26300102, -0.25587383, -0.1170483 , -0.16995458,  0.38983148,\n",
       "       -0.1368109 , -0.17458129,  0.01495867, -0.10778385,  0.17731594,\n",
       "       -0.03303415, -0.12310112, -0.25174102, -0.28166044, -0.16246817,\n",
       "       -0.10106173, -0.13889599, -0.03289564, -0.15397103, -0.08324996,\n",
       "       -0.02764955, -0.1670509 , -0.20349424, -0.33357632, -0.4040876 ,\n",
       "       -0.05790273,  0.16549228, -0.08291657, -0.10895371, -0.05874356,\n",
       "       -0.18935598,  0.02872475, -0.12570874,  0.02634616, -0.17651103,\n",
       "       -0.12165666, -0.20927398, -0.19006258, -0.24555197, -0.02507833,\n",
       "       -0.03374317, -0.20021091, -0.08961814, -0.1334499 , -0.22815755,\n",
       "       -0.11080559,  0.09821141, -0.16486984, -0.16149302, -0.12575875,\n",
       "       -0.09782732, -0.09576004, -0.1351507 , -0.26356506, -0.01925203,\n",
       "       -0.18719652, -0.13880207,  0.05108339,  0.06752988, -0.13944402,\n",
       "       -0.13995568, -0.15117423, -0.15732479, -0.22457056,  0.00732169,\n",
       "       -0.18895485, -0.20169766, -0.05869893, -0.06812882, -0.13999395,\n",
       "       -0.11343107, -0.16122381, -0.10762712, -0.09554917, -0.10249045,\n",
       "       -0.04478763, -0.15264334, -0.01812225, -0.15897828, -0.16047221,\n",
       "       -0.14403166, -0.19245176, -0.11984843, -0.24422969,  0.13040358,\n",
       "       -0.17460015, -0.04426636, -0.09217758, -0.06688843, -0.04401816,\n",
       "       -0.1401241 ,  0.23228158, -0.15170678, -0.20126748, -0.12207716,\n",
       "        0.12247683, -0.14836185, -0.2640604 , -0.18550393, -0.11006694,\n",
       "       -0.2983538 , -0.11957493, -0.07897639, -0.13178897, -0.06551508,\n",
       "        0.09173813, -0.05449046, -0.16608424, -0.06629033, -0.03779384,\n",
       "       -0.13980442,  0.09196288, -0.15161869, -0.09740832, -0.00496469,\n",
       "        0.00706618, -0.03070845, -0.21028699, -0.15295026, -0.09428905,\n",
       "       -0.17091738, -0.08943681,  0.00706414, -0.16189215,  0.03631835,\n",
       "       -0.18262975, -0.15076685, -0.00587572, -0.0251014 , -0.23985615,\n",
       "        0.16468985, -0.1855566 , -0.05696986, -0.13386035, -0.11923638,\n",
       "       -0.14287698, -0.22203863, -0.25503224, -0.1490988 ,  0.11800579],\n",
       "      dtype=float32)"
      ]
     },
     "execution_count": 58,
     "metadata": {},
     "output_type": "execute_result"
    }
   ],
   "source": [
    "word_vectors = Word2VecKeyedVectors.load_word2vec_format(word2vec_file_path, binary=False)\n",
    "vector = word_vectors['영화']\n",
    "vector"
   ]
  },
  {
   "cell_type": "code",
   "execution_count": 59,
   "id": "2c0e98fa",
   "metadata": {},
   "outputs": [
    {
     "data": {
      "text/plain": [
       "[('애매', 0.6789845824241638),\n",
       " ('구려', 0.6283780336380005),\n",
       " ('난장판', 0.6094778180122375),\n",
       " ('그만', 0.605902373790741),\n",
       " ('한심', 0.6030822992324829),\n",
       " ('오버', 0.5982528924942017),\n",
       " ('망치', 0.5982508659362793),\n",
       " ('때려', 0.5979940891265869),\n",
       " ('별루', 0.5921976566314697),\n",
       " ('잔', 0.5901636481285095)]"
      ]
     },
     "execution_count": 59,
     "metadata": {},
     "output_type": "execute_result"
    }
   ],
   "source": [
    "word_vectors.similar_by_word(\"실망\")"
   ]
  },
  {
   "cell_type": "markdown",
   "id": "6dadbcc0",
   "metadata": {},
   "source": [
    "### 한국어 Word2Vec 임베딩 활용하여 성능 개선 (GlobalMaxPooling1D)"
   ]
  },
  {
   "cell_type": "code",
   "execution_count": 60,
   "id": "7e7d3728",
   "metadata": {},
   "outputs": [
    {
     "data": {
      "text/plain": [
       "array([-1.7577837 , -1.0874279 ,  1.5300866 , -0.1115231 , -0.37980682,\n",
       "        1.4828517 ,  1.3180419 ,  0.11094163,  0.7430535 , -0.45461136,\n",
       "        0.58841336,  0.5763913 ,  1.210707  ,  1.3132795 , -0.86962503,\n",
       "       -0.18507595, -0.47440064,  1.5100725 ,  1.0965794 ,  1.0600823 ,\n",
       "       -0.27457932, -0.70003706,  2.3117511 ,  1.4944884 ,  0.25560892,\n",
       "       -2.866659  , -0.28312334,  0.34263936, -0.67723423,  0.71714777,\n",
       "        0.25549442,  0.71732044, -0.13262457,  0.01792452, -0.3184774 ,\n",
       "        0.5271619 ,  0.7561084 , -2.1247065 ,  1.061429  , -0.21065854,\n",
       "        0.6877343 , -1.4956383 ,  0.60346967, -2.6955893 ,  0.37694618,\n",
       "       -1.0164185 ,  0.5430663 ,  0.1200121 , -2.6315718 ,  0.6216742 ,\n",
       "        1.1583976 , -2.5385962 ,  1.326312  , -0.10284371, -0.0286147 ,\n",
       "       -0.9132947 ,  0.7647564 ,  0.79202783, -1.8625957 , -0.7418395 ,\n",
       "        0.5884277 , -0.9917992 , -0.62114453,  1.5367815 , -0.6628939 ,\n",
       "        0.6712103 ,  0.12914915,  0.21228492,  0.9017655 , -0.25083402,\n",
       "        0.71500814,  0.08644514,  0.59993285,  0.5766137 ,  0.64095974,\n",
       "        0.47888306, -2.8426213 , -2.8502681 , -0.140544  , -1.5917364 ,\n",
       "        0.26691505,  0.59476066,  0.85868204,  1.0322351 ,  0.25671318,\n",
       "       -0.34831643,  1.752927  , -0.21967097, -0.77352476,  1.6995213 ,\n",
       "        1.3996491 , -0.9419836 ,  0.85996443, -1.8812876 , -2.5428605 ,\n",
       "        0.39351937, -1.2882805 ,  0.56548136,  1.006273  ,  1.2217585 ,\n",
       "        3.5744793 ,  1.717737  ,  1.6917158 , -2.2176905 , -0.3167447 ,\n",
       "        1.2449    , -1.255284  , -2.1539652 , -1.096709  , -0.74976933,\n",
       "       -0.16744931, -1.8507233 ,  2.1861036 , -0.05389732,  1.038033  ,\n",
       "        0.33730686, -1.4647075 , -1.264041  ,  0.25509247,  0.0622906 ,\n",
       "        0.27852032, -0.52661455,  0.8529616 ,  0.58257025, -0.57665855,\n",
       "        1.3990631 ,  0.28237963,  1.6566037 ,  1.9912103 ,  0.63888913,\n",
       "        0.7732426 , -1.3757724 ,  0.17209321, -0.2433672 ,  0.6328291 ,\n",
       "        1.486971  ,  2.3435354 , -1.7037928 ,  3.1944559 , -1.9049606 ,\n",
       "       -0.51309574,  0.79082954, -1.4480313 , -0.68631476,  0.62008876,\n",
       "       -2.3400223 , -0.5785594 ,  0.5270694 ,  3.0061607 , -1.3661511 ,\n",
       "       -2.7953272 , -1.1794031 , -0.27734265,  0.71130925, -0.06620383,\n",
       "        0.33663416,  0.7204997 , -0.923218  , -2.1603265 , -0.8904896 ,\n",
       "       -1.4137112 , -0.4189144 ,  0.42834592,  1.8104875 , -1.8274456 ,\n",
       "       -0.26700613,  0.7743727 ,  0.80048114,  1.1333636 ,  3.2746978 ,\n",
       "       -0.0188297 ,  0.9245737 , -0.1246058 , -0.5802861 , -0.01926111,\n",
       "        1.05892   , -1.4247856 ,  1.0689156 ,  2.5728712 , -1.294882  ,\n",
       "        0.74771804,  1.3066916 , -1.3213431 ,  1.6501019 , -0.12401557,\n",
       "        0.96340084,  0.26050946,  1.3826336 , -0.02877662,  2.3431563 ,\n",
       "       -0.26337367,  1.9162012 , -0.77454543,  1.7392642 ,  0.08038983,\n",
       "       -0.60325927,  0.29508227,  0.4812675 ,  0.5271086 ,  0.94171894],\n",
       "      dtype=float32)"
      ]
     },
     "execution_count": 60,
     "metadata": {},
     "output_type": "execute_result"
    }
   ],
   "source": [
    "word2vec_path = os.getenv('HOME')+'/aiffel/sentiment_classification/ko.bin.gz'\n",
    "word2vec = gensim.models.Word2Vec.load(word2vec_path)\n",
    "vector = word2vec['영화']\n",
    "vector"
   ]
  },
  {
   "cell_type": "code",
   "execution_count": 61,
   "id": "5cadc538",
   "metadata": {},
   "outputs": [
    {
     "data": {
      "text/plain": [
       "[('당황', 0.7591220140457153),\n",
       " ('경악', 0.6881837248802185),\n",
       " ('분개', 0.6751235723495483),\n",
       " ('분노', 0.6750859022140503),\n",
       " ('격분', 0.647419810295105),\n",
       " ('감동', 0.6267645955085754),\n",
       " ('감탄', 0.6222271919250488),\n",
       " ('원망', 0.6156655550003052),\n",
       " ('조심', 0.6145114898681641),\n",
       " ('감복', 0.6109203696250916)]"
      ]
     },
     "execution_count": 61,
     "metadata": {},
     "output_type": "execute_result"
    }
   ],
   "source": [
    "word2vec.similar_by_word(\"실망\")"
   ]
  },
  {
   "cell_type": "code",
   "execution_count": 62,
   "id": "9bb10c7c",
   "metadata": {},
   "outputs": [],
   "source": [
    "vocab_size = 10000\n",
    "word_vector_dim = 200\n",
    "embedding_matrix = np.random.rand(vocab_size, word_vector_dim)\n",
    "\n",
    "for i in range(4,vocab_size):\n",
    "    if index_to_word[i] in word2vec:\n",
    "        embedding_matrix[i] = word2vec[index_to_word[i]]"
   ]
  },
  {
   "cell_type": "code",
   "execution_count": 63,
   "id": "3b2b39bf",
   "metadata": {},
   "outputs": [
    {
     "name": "stdout",
     "output_type": "stream",
     "text": [
      "Model: \"sequential_5\"\n",
      "_________________________________________________________________\n",
      "Layer (type)                 Output Shape              Param #   \n",
      "=================================================================\n",
      "embedding_5 (Embedding)      (None, 41, 200)           2000000   \n",
      "_________________________________________________________________\n",
      "global_max_pooling1d_3 (Glob (None, 200)               0         \n",
      "_________________________________________________________________\n",
      "dense_10 (Dense)             (None, 8)                 1608      \n",
      "_________________________________________________________________\n",
      "dense_11 (Dense)             (None, 1)                 9         \n",
      "=================================================================\n",
      "Total params: 2,001,617\n",
      "Trainable params: 2,001,617\n",
      "Non-trainable params: 0\n",
      "_________________________________________________________________\n"
     ]
    }
   ],
   "source": [
    "# 모델 구성\n",
    "GMP_model = tf.keras.Sequential()\n",
    "GMP_model.add(tf.keras.layers.Embedding(vocab_size, \n",
    "                                 word_vector_dim, \n",
    "                                 embeddings_initializer=Constant(embedding_matrix),  # 카피한 임베딩을 여기서 활용\n",
    "                                 input_length=maxlen, \n",
    "                                 trainable=True))   # trainable을 True로 주면 Fine-tuning\n",
    "GMP_model.add(tf.keras.layers.GlobalMaxPooling1D())\n",
    "GMP_model.add(tf.keras.layers.Dense(8, activation='relu'))\n",
    "GMP_model.add(tf.keras.layers.Dense(1, activation='sigmoid'))  # 최종 출력은 긍정/부정을 나타내는 1dim 입니다.\n",
    "\n",
    "GMP_model.summary()"
   ]
  },
  {
   "cell_type": "code",
   "execution_count": 64,
   "id": "4208319e",
   "metadata": {},
   "outputs": [],
   "source": [
    "GMP_model.compile(optimizer='adam',\n",
    "              loss='binary_crossentropy',\n",
    "              metrics=['accuracy'])"
   ]
  },
  {
   "cell_type": "code",
   "execution_count": 65,
   "id": "231fde11",
   "metadata": {},
   "outputs": [
    {
     "name": "stdout",
     "output_type": "stream",
     "text": [
      "Epoch 1/7\n",
      "3656/3656 [==============================] - 13s 3ms/step - loss: 0.5405 - accuracy: 0.7207 - val_loss: 0.4443 - val_accuracy: 0.7922\n",
      "Epoch 2/7\n",
      "3656/3656 [==============================] - 13s 3ms/step - loss: 0.4138 - accuracy: 0.8106 - val_loss: 0.4028 - val_accuracy: 0.8166\n",
      "Epoch 3/7\n",
      "3656/3656 [==============================] - 13s 3ms/step - loss: 0.3654 - accuracy: 0.8382 - val_loss: 0.3843 - val_accuracy: 0.8272\n",
      "Epoch 4/7\n",
      "3656/3656 [==============================] - 13s 3ms/step - loss: 0.3300 - accuracy: 0.8570 - val_loss: 0.4081 - val_accuracy: 0.8182\n",
      "Epoch 5/7\n",
      "3656/3656 [==============================] - 13s 3ms/step - loss: 0.3020 - accuracy: 0.8724 - val_loss: 0.3778 - val_accuracy: 0.8362\n",
      "Epoch 6/7\n",
      "3656/3656 [==============================] - 13s 3ms/step - loss: 0.2767 - accuracy: 0.8854 - val_loss: 0.3790 - val_accuracy: 0.8381\n",
      "Epoch 7/7\n",
      "3656/3656 [==============================] - 13s 3ms/step - loss: 0.2538 - accuracy: 0.8964 - val_loss: 0.3894 - val_accuracy: 0.8359\n"
     ]
    }
   ],
   "source": [
    "history = GMP_model.fit(partial_x_train,\n",
    "                    partial_y_train,\n",
    "                    epochs=7,\n",
    "                    batch_size=32,\n",
    "                    validation_data=(x_val, y_val),\n",
    "                    verbose=1)"
   ]
  },
  {
   "cell_type": "code",
   "execution_count": 66,
   "id": "b1dcdf6c",
   "metadata": {},
   "outputs": [
    {
     "name": "stdout",
     "output_type": "stream",
     "text": [
      "1537/1537 - 2s - loss: 0.4020 - accuracy: 0.8307\n",
      "[0.40197697281837463, 0.8306853771209717]\n"
     ]
    }
   ],
   "source": [
    "results = GMP_model.evaluate(X_test,  y_test, verbose=2)\n",
    "print(results)"
   ]
  },
  {
   "cell_type": "markdown",
   "id": "d0e13608",
   "metadata": {},
   "source": [
    "# 회고"
   ]
  },
  {
   "cell_type": "markdown",
   "id": "a2cea77c",
   "metadata": {},
   "source": [
    "[batch size setting](https://blog.naver.com/qbxlvnf11/221449595336)"
   ]
  },
  {
   "cell_type": "markdown",
   "id": "ab922e81",
   "metadata": {},
   "source": [
    "기존 노드에서 진행했던 배치 사이즈(512)가 문제가 있다고 판단해서 구글링을 통해서 알아낸 미니 배치 사이즈 방법으로 세팅한 후, 손실함수 그래프를 보고 epochs를 줄여서 좋은 결과를 얻을 수 있었다. 한국어 임베딩을 진행하면서 gensim 버전이 4.0.0 보다 높아서 Vocab이 포함되어 있지않다는 오류가 발생했다. 버전을 3.8.3으로 업데이트하는 것으로 문제를 해결했다. 한국어 임베딩 시 기존에 구했던 값보다 낮게 나오는 경우가 있었는데 내 생각에는 데이터 양이 많아서 과적합이 일어나는 것이라고 판단되었다. 그래서 epochs의 값을 반으로 줄여서 측정한 결과 85%가 넘는 결과를 얻을 수 있었다. GlobalMaxPooling1D 같은 경우 여러 개의 벡터 정보 중 가장 큰 벡터를 골라서 반환하기 때문에 단어장을 10000개만 구성 했기때문에 결과값이 부족하게 나왔던 것 같다."
   ]
  }
 ],
 "metadata": {
  "kernelspec": {
   "display_name": "Python 3 (ipykernel)",
   "language": "python",
   "name": "python3"
  },
  "language_info": {
   "codemirror_mode": {
    "name": "ipython",
    "version": 3
   },
   "file_extension": ".py",
   "mimetype": "text/x-python",
   "name": "python",
   "nbconvert_exporter": "python",
   "pygments_lexer": "ipython3",
   "version": "3.9.7"
  }
 },
 "nbformat": 4,
 "nbformat_minor": 5
}
