{
 "cells": [
  {
   "cell_type": "markdown",
   "id": "0acbbbc4",
   "metadata": {},
   "source": [
    "# 영화 추천 시스템 만들기"
   ]
  },
  {
   "cell_type": "code",
   "execution_count": 1,
   "id": "13bf9d4c",
   "metadata": {},
   "outputs": [],
   "source": [
    "import os\n",
    "import numpy as np\n",
    "import pandas as pd\n",
    "import tensorflow as tf\n",
    "import matplotlib.pyplot as plt"
   ]
  },
  {
   "cell_type": "markdown",
   "id": "a8981810",
   "metadata": {},
   "source": [
    "# MovieLens 1M Dataset 불러오기"
   ]
  },
  {
   "cell_type": "markdown",
   "id": "13fe75ab",
   "metadata": {},
   "source": [
    "### 유저가 영화에 대해 평점을 매긴 데이터가 데이터 크기 별로 있습니다. MovieLens 1M Dataset 사용을 권장합니다."
   ]
  },
  {
   "cell_type": "code",
   "execution_count": 2,
   "id": "70ec964e",
   "metadata": {
    "scrolled": true
   },
   "outputs": [
    {
     "data": {
      "text/html": [
       "<div>\n",
       "<style scoped>\n",
       "    .dataframe tbody tr th:only-of-type {\n",
       "        vertical-align: middle;\n",
       "    }\n",
       "\n",
       "    .dataframe tbody tr th {\n",
       "        vertical-align: top;\n",
       "    }\n",
       "\n",
       "    .dataframe thead th {\n",
       "        text-align: right;\n",
       "    }\n",
       "</style>\n",
       "<table border=\"1\" class=\"dataframe\">\n",
       "  <thead>\n",
       "    <tr style=\"text-align: right;\">\n",
       "      <th></th>\n",
       "      <th>user_id</th>\n",
       "      <th>movie_id</th>\n",
       "      <th>ratings</th>\n",
       "      <th>timestamp</th>\n",
       "    </tr>\n",
       "  </thead>\n",
       "  <tbody>\n",
       "    <tr>\n",
       "      <th>0</th>\n",
       "      <td>1</td>\n",
       "      <td>1193</td>\n",
       "      <td>5</td>\n",
       "      <td>978300760</td>\n",
       "    </tr>\n",
       "    <tr>\n",
       "      <th>1</th>\n",
       "      <td>1</td>\n",
       "      <td>661</td>\n",
       "      <td>3</td>\n",
       "      <td>978302109</td>\n",
       "    </tr>\n",
       "    <tr>\n",
       "      <th>2</th>\n",
       "      <td>1</td>\n",
       "      <td>914</td>\n",
       "      <td>3</td>\n",
       "      <td>978301968</td>\n",
       "    </tr>\n",
       "    <tr>\n",
       "      <th>3</th>\n",
       "      <td>1</td>\n",
       "      <td>3408</td>\n",
       "      <td>4</td>\n",
       "      <td>978300275</td>\n",
       "    </tr>\n",
       "    <tr>\n",
       "      <th>4</th>\n",
       "      <td>1</td>\n",
       "      <td>2355</td>\n",
       "      <td>5</td>\n",
       "      <td>978824291</td>\n",
       "    </tr>\n",
       "  </tbody>\n",
       "</table>\n",
       "</div>"
      ],
      "text/plain": [
       "   user_id  movie_id  ratings  timestamp\n",
       "0        1      1193        5  978300760\n",
       "1        1       661        3  978302109\n",
       "2        1       914        3  978301968\n",
       "3        1      3408        4  978300275\n",
       "4        1      2355        5  978824291"
      ]
     },
     "execution_count": 2,
     "metadata": {},
     "output_type": "execute_result"
    }
   ],
   "source": [
    "rating_file_path=os.getenv('HOME') + '/aiffel/recommendata_iu/data/ml-1m/ratings.dat'\n",
    "ratings_cols = ['user_id', 'movie_id', 'ratings', 'timestamp']\n",
    "ratings = pd.read_csv(rating_file_path, sep='::', names=ratings_cols, engine='python', encoding = \"ISO-8859-1\")\n",
    "orginal_data_size = len(ratings)\n",
    "ratings.head()"
   ]
  },
  {
   "cell_type": "markdown",
   "id": "f0d58844",
   "metadata": {},
   "source": [
    "### 유저가 3점 미만으로 준 데이터는 선호하지 않는다고 가정하고 제외하겠습니다."
   ]
  },
  {
   "cell_type": "code",
   "execution_count": 3,
   "id": "ed993458",
   "metadata": {},
   "outputs": [
    {
     "name": "stdout",
     "output_type": "stream",
     "text": [
      "orginal_data_size: 1000209, filtered_data_size: 836478\n",
      "Ratio of Remaining Data is 83.63%\n"
     ]
    }
   ],
   "source": [
    "# 3점 이상만 남깁니다.\n",
    "ratings = ratings[ratings['ratings']>=3]\n",
    "filtered_data_size = len(ratings)\n",
    "\n",
    "print(f'orginal_data_size: {orginal_data_size}, filtered_data_size: {filtered_data_size}')\n",
    "print(f'Ratio of Remaining Data is {filtered_data_size / orginal_data_size:.2%}')"
   ]
  },
  {
   "cell_type": "markdown",
   "id": "3826032d",
   "metadata": {},
   "source": [
    "### 별점을 시청횟수로 해석해서 생각하겠습니다."
   ]
  },
  {
   "cell_type": "code",
   "execution_count": 4,
   "id": "8be8fbb0",
   "metadata": {},
   "outputs": [],
   "source": [
    "# ratings 컬럼의 이름을 counts로 바꿉니다.\n",
    "ratings.rename(columns={'ratings':'counts'}, inplace=True)"
   ]
  },
  {
   "cell_type": "code",
   "execution_count": 5,
   "id": "28d95765",
   "metadata": {
    "scrolled": true
   },
   "outputs": [
    {
     "data": {
      "text/plain": [
       "0    5\n",
       "1    3\n",
       "2    3\n",
       "3    4\n",
       "4    5\n",
       "Name: counts, dtype: int64"
      ]
     },
     "execution_count": 5,
     "metadata": {},
     "output_type": "execute_result"
    }
   ],
   "source": [
    "ratings['counts'].head()"
   ]
  },
  {
   "cell_type": "markdown",
   "id": "b6208e2c",
   "metadata": {},
   "source": [
    "### timestamp은 영화 시청 날짜를 나타내므로 필요가 없다."
   ]
  },
  {
   "cell_type": "code",
   "execution_count": 6,
   "id": "78ce5c8d",
   "metadata": {},
   "outputs": [
    {
     "data": {
      "text/html": [
       "<div>\n",
       "<style scoped>\n",
       "    .dataframe tbody tr th:only-of-type {\n",
       "        vertical-align: middle;\n",
       "    }\n",
       "\n",
       "    .dataframe tbody tr th {\n",
       "        vertical-align: top;\n",
       "    }\n",
       "\n",
       "    .dataframe thead th {\n",
       "        text-align: right;\n",
       "    }\n",
       "</style>\n",
       "<table border=\"1\" class=\"dataframe\">\n",
       "  <thead>\n",
       "    <tr style=\"text-align: right;\">\n",
       "      <th></th>\n",
       "      <th>user_id</th>\n",
       "      <th>movie_id</th>\n",
       "      <th>counts</th>\n",
       "    </tr>\n",
       "  </thead>\n",
       "  <tbody>\n",
       "    <tr>\n",
       "      <th>0</th>\n",
       "      <td>1</td>\n",
       "      <td>1193</td>\n",
       "      <td>5</td>\n",
       "    </tr>\n",
       "    <tr>\n",
       "      <th>1</th>\n",
       "      <td>1</td>\n",
       "      <td>661</td>\n",
       "      <td>3</td>\n",
       "    </tr>\n",
       "    <tr>\n",
       "      <th>2</th>\n",
       "      <td>1</td>\n",
       "      <td>914</td>\n",
       "      <td>3</td>\n",
       "    </tr>\n",
       "    <tr>\n",
       "      <th>3</th>\n",
       "      <td>1</td>\n",
       "      <td>3408</td>\n",
       "      <td>4</td>\n",
       "    </tr>\n",
       "    <tr>\n",
       "      <th>4</th>\n",
       "      <td>1</td>\n",
       "      <td>2355</td>\n",
       "      <td>5</td>\n",
       "    </tr>\n",
       "  </tbody>\n",
       "</table>\n",
       "</div>"
      ],
      "text/plain": [
       "   user_id  movie_id  counts\n",
       "0        1      1193       5\n",
       "1        1       661       3\n",
       "2        1       914       3\n",
       "3        1      3408       4\n",
       "4        1      2355       5"
      ]
     },
     "execution_count": 6,
     "metadata": {},
     "output_type": "execute_result"
    }
   ],
   "source": [
    "# 사용하는 컬럼만 남겨줍니다.\n",
    "using_cols = ['user_id', 'movie_id', 'counts']\n",
    "ratings = ratings[using_cols]\n",
    "ratings.head()"
   ]
  },
  {
   "cell_type": "code",
   "execution_count": 7,
   "id": "770837c3",
   "metadata": {
    "scrolled": false
   },
   "outputs": [
    {
     "data": {
      "text/html": [
       "<div>\n",
       "<style scoped>\n",
       "    .dataframe tbody tr th:only-of-type {\n",
       "        vertical-align: middle;\n",
       "    }\n",
       "\n",
       "    .dataframe tbody tr th {\n",
       "        vertical-align: top;\n",
       "    }\n",
       "\n",
       "    .dataframe thead th {\n",
       "        text-align: right;\n",
       "    }\n",
       "</style>\n",
       "<table border=\"1\" class=\"dataframe\">\n",
       "  <thead>\n",
       "    <tr style=\"text-align: right;\">\n",
       "      <th></th>\n",
       "      <th>movie_id</th>\n",
       "      <th>title</th>\n",
       "      <th>genre</th>\n",
       "    </tr>\n",
       "  </thead>\n",
       "  <tbody>\n",
       "    <tr>\n",
       "      <th>0</th>\n",
       "      <td>1</td>\n",
       "      <td>Toy Story (1995)</td>\n",
       "      <td>Animation|Children's|Comedy</td>\n",
       "    </tr>\n",
       "    <tr>\n",
       "      <th>1</th>\n",
       "      <td>2</td>\n",
       "      <td>Jumanji (1995)</td>\n",
       "      <td>Adventure|Children's|Fantasy</td>\n",
       "    </tr>\n",
       "    <tr>\n",
       "      <th>2</th>\n",
       "      <td>3</td>\n",
       "      <td>Grumpier Old Men (1995)</td>\n",
       "      <td>Comedy|Romance</td>\n",
       "    </tr>\n",
       "    <tr>\n",
       "      <th>3</th>\n",
       "      <td>4</td>\n",
       "      <td>Waiting to Exhale (1995)</td>\n",
       "      <td>Comedy|Drama</td>\n",
       "    </tr>\n",
       "    <tr>\n",
       "      <th>4</th>\n",
       "      <td>5</td>\n",
       "      <td>Father of the Bride Part II (1995)</td>\n",
       "      <td>Comedy</td>\n",
       "    </tr>\n",
       "  </tbody>\n",
       "</table>\n",
       "</div>"
      ],
      "text/plain": [
       "   movie_id                               title                         genre\n",
       "0         1                    Toy Story (1995)   Animation|Children's|Comedy\n",
       "1         2                      Jumanji (1995)  Adventure|Children's|Fantasy\n",
       "2         3             Grumpier Old Men (1995)                Comedy|Romance\n",
       "3         4            Waiting to Exhale (1995)                  Comedy|Drama\n",
       "4         5  Father of the Bride Part II (1995)                        Comedy"
      ]
     },
     "execution_count": 7,
     "metadata": {},
     "output_type": "execute_result"
    }
   ],
   "source": [
    "# 영화 제목을 보기 위해 메타 데이터를 읽어옵니다.\n",
    "movie_file_path=os.getenv('HOME') + '/aiffel/recommendata_iu/data/ml-1m/movies.dat'\n",
    "cols = ['movie_id', 'title', 'genre'] \n",
    "movies = pd.read_csv(movie_file_path, sep='::', names=cols, engine='python', encoding='ISO-8859-1')\n",
    "movies.head()"
   ]
  },
  {
   "cell_type": "markdown",
   "id": "beec34c2",
   "metadata": {},
   "source": [
    "### 검색하기 쉽게 소문자로 변경"
   ]
  },
  {
   "cell_type": "code",
   "execution_count": 8,
   "id": "2b84e98d",
   "metadata": {},
   "outputs": [],
   "source": [
    "movies['title'] = movies['title'].str.lower()\n",
    "movies['genre'] = movies['genre'].str.lower()"
   ]
  },
  {
   "cell_type": "code",
   "execution_count": 9,
   "id": "d90b3c49",
   "metadata": {
    "scrolled": true
   },
   "outputs": [
    {
     "data": {
      "text/html": [
       "<div>\n",
       "<style scoped>\n",
       "    .dataframe tbody tr th:only-of-type {\n",
       "        vertical-align: middle;\n",
       "    }\n",
       "\n",
       "    .dataframe tbody tr th {\n",
       "        vertical-align: top;\n",
       "    }\n",
       "\n",
       "    .dataframe thead th {\n",
       "        text-align: right;\n",
       "    }\n",
       "</style>\n",
       "<table border=\"1\" class=\"dataframe\">\n",
       "  <thead>\n",
       "    <tr style=\"text-align: right;\">\n",
       "      <th></th>\n",
       "      <th>movie_id</th>\n",
       "      <th>title</th>\n",
       "      <th>genre</th>\n",
       "    </tr>\n",
       "  </thead>\n",
       "  <tbody>\n",
       "    <tr>\n",
       "      <th>0</th>\n",
       "      <td>1</td>\n",
       "      <td>toy story (1995)</td>\n",
       "      <td>animation|children's|comedy</td>\n",
       "    </tr>\n",
       "    <tr>\n",
       "      <th>1</th>\n",
       "      <td>2</td>\n",
       "      <td>jumanji (1995)</td>\n",
       "      <td>adventure|children's|fantasy</td>\n",
       "    </tr>\n",
       "    <tr>\n",
       "      <th>2</th>\n",
       "      <td>3</td>\n",
       "      <td>grumpier old men (1995)</td>\n",
       "      <td>comedy|romance</td>\n",
       "    </tr>\n",
       "    <tr>\n",
       "      <th>3</th>\n",
       "      <td>4</td>\n",
       "      <td>waiting to exhale (1995)</td>\n",
       "      <td>comedy|drama</td>\n",
       "    </tr>\n",
       "    <tr>\n",
       "      <th>4</th>\n",
       "      <td>5</td>\n",
       "      <td>father of the bride part ii (1995)</td>\n",
       "      <td>comedy</td>\n",
       "    </tr>\n",
       "  </tbody>\n",
       "</table>\n",
       "</div>"
      ],
      "text/plain": [
       "   movie_id                               title                         genre\n",
       "0         1                    toy story (1995)   animation|children's|comedy\n",
       "1         2                      jumanji (1995)  adventure|children's|fantasy\n",
       "2         3             grumpier old men (1995)                comedy|romance\n",
       "3         4            waiting to exhale (1995)                  comedy|drama\n",
       "4         5  father of the bride part ii (1995)                        comedy"
      ]
     },
     "execution_count": 9,
     "metadata": {},
     "output_type": "execute_result"
    }
   ],
   "source": [
    "movies.head()"
   ]
  },
  {
   "cell_type": "markdown",
   "id": "1238f845",
   "metadata": {},
   "source": [
    "# 데이터 분석하기"
   ]
  },
  {
   "cell_type": "markdown",
   "id": "ac124083",
   "metadata": {},
   "source": [
    "### ratings에 있는 유니크한 영화 개수, ratings에 있는 유니크한 사용자 수"
   ]
  },
  {
   "cell_type": "code",
   "execution_count": 10,
   "id": "5aa70554",
   "metadata": {},
   "outputs": [
    {
     "name": "stdout",
     "output_type": "stream",
     "text": [
      "3628\n",
      "6039\n"
     ]
    }
   ],
   "source": [
    "# user_id의 개수와 movie_id의 개수 확인\n",
    "print(ratings[\"movie_id\"].nunique())\n",
    "print(ratings[\"user_id\"].nunique())"
   ]
  },
  {
   "cell_type": "code",
   "execution_count": 11,
   "id": "16da0b37",
   "metadata": {},
   "outputs": [
    {
     "name": "stdout",
     "output_type": "stream",
     "text": [
      "movue_id 결측치 확인 : 0\n",
      "user_id 결측치 확인  : 0\n",
      "counts 결측치 확인   : 0\n"
     ]
    }
   ],
   "source": [
    "print('movue_id 결측치 확인 :', ratings[\"movie_id\"].isna().sum())\n",
    "print('user_id 결측치 확인  :', ratings[\"user_id\"].isna().sum())\n",
    "print('counts 결측치 확인   :', ratings[\"counts\"].isna().sum())"
   ]
  },
  {
   "cell_type": "code",
   "execution_count": 12,
   "id": "865a342d",
   "metadata": {},
   "outputs": [
    {
     "name": "stdout",
     "output_type": "stream",
     "text": [
      "movue_id 결측치 확인 : 0\n",
      "user_id 결측치 확인  : 0\n",
      "counts 결측치 확인   : 0\n"
     ]
    }
   ],
   "source": [
    "print('movue_id 결측치 확인 :', movies[\"movie_id\"].isna().sum())\n",
    "print('user_id 결측치 확인  :', movies[\"title\"].isna().sum())\n",
    "print('counts 결측치 확인   :', movies[\"genre\"].isna().sum())"
   ]
  },
  {
   "cell_type": "code",
   "execution_count": 13,
   "id": "7cb3e603",
   "metadata": {
    "scrolled": true
   },
   "outputs": [
    {
     "data": {
      "text/html": [
       "<div>\n",
       "<style scoped>\n",
       "    .dataframe tbody tr th:only-of-type {\n",
       "        vertical-align: middle;\n",
       "    }\n",
       "\n",
       "    .dataframe tbody tr th {\n",
       "        vertical-align: top;\n",
       "    }\n",
       "\n",
       "    .dataframe thead th {\n",
       "        text-align: right;\n",
       "    }\n",
       "</style>\n",
       "<table border=\"1\" class=\"dataframe\">\n",
       "  <thead>\n",
       "    <tr style=\"text-align: right;\">\n",
       "      <th></th>\n",
       "      <th>movie_id</th>\n",
       "      <th>title</th>\n",
       "      <th>genre</th>\n",
       "      <th>user_id</th>\n",
       "      <th>counts</th>\n",
       "    </tr>\n",
       "  </thead>\n",
       "  <tbody>\n",
       "    <tr>\n",
       "      <th>0</th>\n",
       "      <td>1</td>\n",
       "      <td>toy story (1995)</td>\n",
       "      <td>animation|children's|comedy</td>\n",
       "      <td>1</td>\n",
       "      <td>5</td>\n",
       "    </tr>\n",
       "    <tr>\n",
       "      <th>1</th>\n",
       "      <td>1</td>\n",
       "      <td>toy story (1995)</td>\n",
       "      <td>animation|children's|comedy</td>\n",
       "      <td>6</td>\n",
       "      <td>4</td>\n",
       "    </tr>\n",
       "    <tr>\n",
       "      <th>2</th>\n",
       "      <td>1</td>\n",
       "      <td>toy story (1995)</td>\n",
       "      <td>animation|children's|comedy</td>\n",
       "      <td>8</td>\n",
       "      <td>4</td>\n",
       "    </tr>\n",
       "    <tr>\n",
       "      <th>3</th>\n",
       "      <td>1</td>\n",
       "      <td>toy story (1995)</td>\n",
       "      <td>animation|children's|comedy</td>\n",
       "      <td>9</td>\n",
       "      <td>5</td>\n",
       "    </tr>\n",
       "    <tr>\n",
       "      <th>4</th>\n",
       "      <td>1</td>\n",
       "      <td>toy story (1995)</td>\n",
       "      <td>animation|children's|comedy</td>\n",
       "      <td>10</td>\n",
       "      <td>5</td>\n",
       "    </tr>\n",
       "  </tbody>\n",
       "</table>\n",
       "</div>"
      ],
      "text/plain": [
       "   movie_id             title                        genre  user_id  counts\n",
       "0         1  toy story (1995)  animation|children's|comedy        1       5\n",
       "1         1  toy story (1995)  animation|children's|comedy        6       4\n",
       "2         1  toy story (1995)  animation|children's|comedy        8       4\n",
       "3         1  toy story (1995)  animation|children's|comedy        9       5\n",
       "4         1  toy story (1995)  animation|children's|comedy       10       5"
      ]
     },
     "execution_count": 13,
     "metadata": {},
     "output_type": "execute_result"
    }
   ],
   "source": [
    "#ratings와 movies를 이어붙임 = 원활한 데이터 분석을 위해\n",
    "data = pd.merge(movies, ratings)\n",
    "data.head()"
   ]
  },
  {
   "cell_type": "markdown",
   "id": "b97158bf",
   "metadata": {},
   "source": [
    "### 가장 인기 있는 영화 30개(인기순)"
   ]
  },
  {
   "cell_type": "code",
   "execution_count": 14,
   "id": "4824b11a",
   "metadata": {},
   "outputs": [
    {
     "data": {
      "text/plain": [
       "title\n",
       "american beauty (1999)                                   3211\n",
       "star wars: episode iv - a new hope (1977)                2910\n",
       "star wars: episode v - the empire strikes back (1980)    2885\n",
       "star wars: episode vi - return of the jedi (1983)        2716\n",
       "saving private ryan (1998)                               2561\n",
       "terminator 2: judgment day (1991)                        2509\n",
       "silence of the lambs, the (1991)                         2498\n",
       "raiders of the lost ark (1981)                           2473\n",
       "back to the future (1985)                                2460\n",
       "matrix, the (1999)                                       2434\n",
       "jurassic park (1993)                                     2413\n",
       "sixth sense, the (1999)                                  2385\n",
       "fargo (1996)                                             2371\n",
       "braveheart (1995)                                        2314\n",
       "men in black (1997)                                      2297\n",
       "schindler's list (1993)                                  2257\n",
       "princess bride, the (1987)                               2252\n",
       "shakespeare in love (1998)                               2213\n",
       "l.a. confidential (1997)                                 2210\n",
       "shawshank redemption, the (1994)                         2194\n",
       "godfather, the (1972)                                    2167\n",
       "groundhog day (1993)                                     2121\n",
       "e.t. the extra-terrestrial (1982)                        2102\n",
       "being john malkovich (1999)                              2066\n",
       "ghostbusters (1984)                                      2051\n",
       "pulp fiction (1994)                                      2030\n",
       "forrest gump (1994)                                      2022\n",
       "terminator, the (1984)                                   2019\n",
       "toy story (1995)                                         2000\n",
       "fugitive, the (1993)                                     1941\n",
       "Name: user_id, dtype: int64"
      ]
     },
     "execution_count": 14,
     "metadata": {},
     "output_type": "execute_result"
    }
   ],
   "source": [
    "#인기있는 영화순\n",
    "movie_count = data.groupby(\"title\")[\"user_id\"].count()\n",
    "movie_count.sort_values(ascending=False).head(30)"
   ]
  },
  {
   "cell_type": "code",
   "execution_count": 15,
   "id": "901b34c3",
   "metadata": {},
   "outputs": [
    {
     "data": {
      "text/plain": [
       "count    6039.000000\n",
       "mean      138.512668\n",
       "std       156.241599\n",
       "min         1.000000\n",
       "25%        38.000000\n",
       "50%        81.000000\n",
       "75%       177.000000\n",
       "max      1968.000000\n",
       "Name: title, dtype: float64"
      ]
     },
     "execution_count": 15,
     "metadata": {},
     "output_type": "execute_result"
    }
   ],
   "source": [
    "# 유저별 몇 편의 영화를 보고 평가 했는지에 대한 통계\n",
    "user_count = data.groupby('user_id')['title'].count()\n",
    "user_count.describe()"
   ]
  },
  {
   "cell_type": "markdown",
   "id": "346b5d3e",
   "metadata": {},
   "source": [
    "# 내가 선호하는 영화 추가하기"
   ]
  },
  {
   "cell_type": "code",
   "execution_count": 16,
   "id": "b60e9638",
   "metadata": {
    "scrolled": true
   },
   "outputs": [
    {
     "data": {
      "text/html": [
       "<div>\n",
       "<style scoped>\n",
       "    .dataframe tbody tr th:only-of-type {\n",
       "        vertical-align: middle;\n",
       "    }\n",
       "\n",
       "    .dataframe tbody tr th {\n",
       "        vertical-align: top;\n",
       "    }\n",
       "\n",
       "    .dataframe thead th {\n",
       "        text-align: right;\n",
       "    }\n",
       "</style>\n",
       "<table border=\"1\" class=\"dataframe\">\n",
       "  <thead>\n",
       "    <tr style=\"text-align: right;\">\n",
       "      <th></th>\n",
       "      <th>movie_id</th>\n",
       "      <th>title</th>\n",
       "      <th>genre</th>\n",
       "      <th>user_id</th>\n",
       "      <th>counts</th>\n",
       "    </tr>\n",
       "  </thead>\n",
       "  <tbody>\n",
       "    <tr>\n",
       "      <th>0</th>\n",
       "      <td>NaN</td>\n",
       "      <td>sixth sense, the (1999)</td>\n",
       "      <td>NaN</td>\n",
       "      <td>gomen</td>\n",
       "      <td>5</td>\n",
       "    </tr>\n",
       "    <tr>\n",
       "      <th>1</th>\n",
       "      <td>NaN</td>\n",
       "      <td>men in black (1997)</td>\n",
       "      <td>NaN</td>\n",
       "      <td>gomen</td>\n",
       "      <td>5</td>\n",
       "    </tr>\n",
       "    <tr>\n",
       "      <th>2</th>\n",
       "      <td>NaN</td>\n",
       "      <td>terminator 2: judgment day (1991)</td>\n",
       "      <td>NaN</td>\n",
       "      <td>gomen</td>\n",
       "      <td>5</td>\n",
       "    </tr>\n",
       "    <tr>\n",
       "      <th>3</th>\n",
       "      <td>NaN</td>\n",
       "      <td>toy story (1995)</td>\n",
       "      <td>NaN</td>\n",
       "      <td>gomen</td>\n",
       "      <td>5</td>\n",
       "    </tr>\n",
       "    <tr>\n",
       "      <th>4</th>\n",
       "      <td>NaN</td>\n",
       "      <td>terminator, the (1984)</td>\n",
       "      <td>NaN</td>\n",
       "      <td>gomen</td>\n",
       "      <td>5</td>\n",
       "    </tr>\n",
       "  </tbody>\n",
       "</table>\n",
       "</div>"
      ],
      "text/plain": [
       "   movie_id                              title genre user_id  counts\n",
       "0       NaN            sixth sense, the (1999)   NaN   gomen       5\n",
       "1       NaN                men in black (1997)   NaN   gomen       5\n",
       "2       NaN  terminator 2: judgment day (1991)   NaN   gomen       5\n",
       "3       NaN                   toy story (1995)   NaN   gomen       5\n",
       "4       NaN             terminator, the (1984)   NaN   gomen       5"
      ]
     },
     "execution_count": 16,
     "metadata": {},
     "output_type": "execute_result"
    }
   ],
   "source": [
    "#내가 선호하는 5가지 영화\n",
    "my_favorite = [\"sixth sense, the (1999)\", \"men in black (1997)\", \"terminator 2: judgment day (1991)\", \"toy story (1995)\", \"terminator, the (1984)\"]\n",
    "\n",
    "# yyttt라는 user_id가 위 영화를 5점씩 주었다고 가정 # 이 정보를 바탕으로 추천받기위해\n",
    "my_playlist = pd.DataFrame({'user_id': ['gomen']*5, 'title': my_favorite, 'counts':[5]*5})\n",
    "\n",
    "# user_id에 'yyttt'라는 데이터가 없다면\n",
    "# 위에 임의로 만든 my_favorite 데이터를 추가         \n",
    "if not data.isin({\"user_id\":[\"gomen\"]})[\"user_id\"].any():\n",
    "    data = data.append(my_playlist)\n",
    "    \n",
    "data.tail()"
   ]
  },
  {
   "cell_type": "code",
   "execution_count": 17,
   "id": "e35401b2",
   "metadata": {},
   "outputs": [
    {
     "data": {
      "text/html": [
       "<div>\n",
       "<style scoped>\n",
       "    .dataframe tbody tr th:only-of-type {\n",
       "        vertical-align: middle;\n",
       "    }\n",
       "\n",
       "    .dataframe tbody tr th {\n",
       "        vertical-align: top;\n",
       "    }\n",
       "\n",
       "    .dataframe thead th {\n",
       "        text-align: right;\n",
       "    }\n",
       "</style>\n",
       "<table border=\"1\" class=\"dataframe\">\n",
       "  <thead>\n",
       "    <tr style=\"text-align: right;\">\n",
       "      <th></th>\n",
       "      <th>movie_id</th>\n",
       "      <th>title</th>\n",
       "      <th>genre</th>\n",
       "      <th>user_id</th>\n",
       "      <th>counts</th>\n",
       "    </tr>\n",
       "  </thead>\n",
       "  <tbody>\n",
       "    <tr>\n",
       "      <th>0</th>\n",
       "      <td>NaN</td>\n",
       "      <td>sixth sense, the (1999)</td>\n",
       "      <td>NaN</td>\n",
       "      <td>gomen</td>\n",
       "      <td>5</td>\n",
       "    </tr>\n",
       "    <tr>\n",
       "      <th>1</th>\n",
       "      <td>NaN</td>\n",
       "      <td>men in black (1997)</td>\n",
       "      <td>NaN</td>\n",
       "      <td>gomen</td>\n",
       "      <td>5</td>\n",
       "    </tr>\n",
       "    <tr>\n",
       "      <th>2</th>\n",
       "      <td>NaN</td>\n",
       "      <td>terminator 2: judgment day (1991)</td>\n",
       "      <td>NaN</td>\n",
       "      <td>gomen</td>\n",
       "      <td>5</td>\n",
       "    </tr>\n",
       "    <tr>\n",
       "      <th>3</th>\n",
       "      <td>NaN</td>\n",
       "      <td>toy story (1995)</td>\n",
       "      <td>NaN</td>\n",
       "      <td>gomen</td>\n",
       "      <td>5</td>\n",
       "    </tr>\n",
       "    <tr>\n",
       "      <th>4</th>\n",
       "      <td>NaN</td>\n",
       "      <td>terminator, the (1984)</td>\n",
       "      <td>NaN</td>\n",
       "      <td>gomen</td>\n",
       "      <td>5</td>\n",
       "    </tr>\n",
       "  </tbody>\n",
       "</table>\n",
       "</div>"
      ],
      "text/plain": [
       "   movie_id                              title genre user_id  counts\n",
       "0       NaN            sixth sense, the (1999)   NaN   gomen       5\n",
       "1       NaN                men in black (1997)   NaN   gomen       5\n",
       "2       NaN  terminator 2: judgment day (1991)   NaN   gomen       5\n",
       "3       NaN                   toy story (1995)   NaN   gomen       5\n",
       "4       NaN             terminator, the (1984)   NaN   gomen       5"
      ]
     },
     "execution_count": 17,
     "metadata": {},
     "output_type": "execute_result"
    }
   ],
   "source": [
    "data[data['user_id']=='gomen']"
   ]
  },
  {
   "cell_type": "code",
   "execution_count": 18,
   "id": "92f0fee3",
   "metadata": {},
   "outputs": [],
   "source": [
    "data = data.drop(['movie_id','genre'], axis=1)"
   ]
  },
  {
   "cell_type": "code",
   "execution_count": 19,
   "id": "7712863f",
   "metadata": {},
   "outputs": [
    {
     "data": {
      "text/html": [
       "<div>\n",
       "<style scoped>\n",
       "    .dataframe tbody tr th:only-of-type {\n",
       "        vertical-align: middle;\n",
       "    }\n",
       "\n",
       "    .dataframe tbody tr th {\n",
       "        vertical-align: top;\n",
       "    }\n",
       "\n",
       "    .dataframe thead th {\n",
       "        text-align: right;\n",
       "    }\n",
       "</style>\n",
       "<table border=\"1\" class=\"dataframe\">\n",
       "  <thead>\n",
       "    <tr style=\"text-align: right;\">\n",
       "      <th></th>\n",
       "      <th>title</th>\n",
       "      <th>user_id</th>\n",
       "      <th>counts</th>\n",
       "    </tr>\n",
       "  </thead>\n",
       "  <tbody>\n",
       "    <tr>\n",
       "      <th>836473</th>\n",
       "      <td>contender, the (2000)</td>\n",
       "      <td>5682</td>\n",
       "      <td>3</td>\n",
       "    </tr>\n",
       "    <tr>\n",
       "      <th>836474</th>\n",
       "      <td>contender, the (2000)</td>\n",
       "      <td>5812</td>\n",
       "      <td>4</td>\n",
       "    </tr>\n",
       "    <tr>\n",
       "      <th>836475</th>\n",
       "      <td>contender, the (2000)</td>\n",
       "      <td>5831</td>\n",
       "      <td>3</td>\n",
       "    </tr>\n",
       "    <tr>\n",
       "      <th>836476</th>\n",
       "      <td>contender, the (2000)</td>\n",
       "      <td>5837</td>\n",
       "      <td>4</td>\n",
       "    </tr>\n",
       "    <tr>\n",
       "      <th>836477</th>\n",
       "      <td>contender, the (2000)</td>\n",
       "      <td>5998</td>\n",
       "      <td>4</td>\n",
       "    </tr>\n",
       "    <tr>\n",
       "      <th>0</th>\n",
       "      <td>sixth sense, the (1999)</td>\n",
       "      <td>gomen</td>\n",
       "      <td>5</td>\n",
       "    </tr>\n",
       "    <tr>\n",
       "      <th>1</th>\n",
       "      <td>men in black (1997)</td>\n",
       "      <td>gomen</td>\n",
       "      <td>5</td>\n",
       "    </tr>\n",
       "    <tr>\n",
       "      <th>2</th>\n",
       "      <td>terminator 2: judgment day (1991)</td>\n",
       "      <td>gomen</td>\n",
       "      <td>5</td>\n",
       "    </tr>\n",
       "    <tr>\n",
       "      <th>3</th>\n",
       "      <td>toy story (1995)</td>\n",
       "      <td>gomen</td>\n",
       "      <td>5</td>\n",
       "    </tr>\n",
       "    <tr>\n",
       "      <th>4</th>\n",
       "      <td>terminator, the (1984)</td>\n",
       "      <td>gomen</td>\n",
       "      <td>5</td>\n",
       "    </tr>\n",
       "  </tbody>\n",
       "</table>\n",
       "</div>"
      ],
      "text/plain": [
       "                                    title user_id  counts\n",
       "836473              contender, the (2000)    5682       3\n",
       "836474              contender, the (2000)    5812       4\n",
       "836475              contender, the (2000)    5831       3\n",
       "836476              contender, the (2000)    5837       4\n",
       "836477              contender, the (2000)    5998       4\n",
       "0                 sixth sense, the (1999)   gomen       5\n",
       "1                     men in black (1997)   gomen       5\n",
       "2       terminator 2: judgment day (1991)   gomen       5\n",
       "3                        toy story (1995)   gomen       5\n",
       "4                  terminator, the (1984)   gomen       5"
      ]
     },
     "execution_count": 19,
     "metadata": {},
     "output_type": "execute_result"
    }
   ],
   "source": [
    "data.tail(10)"
   ]
  },
  {
   "cell_type": "code",
   "execution_count": 20,
   "id": "06ea8a1c",
   "metadata": {},
   "outputs": [
    {
     "data": {
      "text/html": [
       "<div>\n",
       "<style scoped>\n",
       "    .dataframe tbody tr th:only-of-type {\n",
       "        vertical-align: middle;\n",
       "    }\n",
       "\n",
       "    .dataframe tbody tr th {\n",
       "        vertical-align: top;\n",
       "    }\n",
       "\n",
       "    .dataframe thead th {\n",
       "        text-align: right;\n",
       "    }\n",
       "</style>\n",
       "<table border=\"1\" class=\"dataframe\">\n",
       "  <thead>\n",
       "    <tr style=\"text-align: right;\">\n",
       "      <th></th>\n",
       "      <th>index</th>\n",
       "      <th>title</th>\n",
       "      <th>user_id</th>\n",
       "      <th>counts</th>\n",
       "    </tr>\n",
       "  </thead>\n",
       "  <tbody>\n",
       "    <tr>\n",
       "      <th>0</th>\n",
       "      <td>0</td>\n",
       "      <td>toy story (1995)</td>\n",
       "      <td>1</td>\n",
       "      <td>5</td>\n",
       "    </tr>\n",
       "    <tr>\n",
       "      <th>1</th>\n",
       "      <td>1</td>\n",
       "      <td>toy story (1995)</td>\n",
       "      <td>6</td>\n",
       "      <td>4</td>\n",
       "    </tr>\n",
       "    <tr>\n",
       "      <th>2</th>\n",
       "      <td>2</td>\n",
       "      <td>toy story (1995)</td>\n",
       "      <td>8</td>\n",
       "      <td>4</td>\n",
       "    </tr>\n",
       "    <tr>\n",
       "      <th>3</th>\n",
       "      <td>3</td>\n",
       "      <td>toy story (1995)</td>\n",
       "      <td>9</td>\n",
       "      <td>5</td>\n",
       "    </tr>\n",
       "    <tr>\n",
       "      <th>4</th>\n",
       "      <td>4</td>\n",
       "      <td>toy story (1995)</td>\n",
       "      <td>10</td>\n",
       "      <td>5</td>\n",
       "    </tr>\n",
       "    <tr>\n",
       "      <th>...</th>\n",
       "      <td>...</td>\n",
       "      <td>...</td>\n",
       "      <td>...</td>\n",
       "      <td>...</td>\n",
       "    </tr>\n",
       "    <tr>\n",
       "      <th>836478</th>\n",
       "      <td>0</td>\n",
       "      <td>sixth sense, the (1999)</td>\n",
       "      <td>gomen</td>\n",
       "      <td>5</td>\n",
       "    </tr>\n",
       "    <tr>\n",
       "      <th>836479</th>\n",
       "      <td>1</td>\n",
       "      <td>men in black (1997)</td>\n",
       "      <td>gomen</td>\n",
       "      <td>5</td>\n",
       "    </tr>\n",
       "    <tr>\n",
       "      <th>836480</th>\n",
       "      <td>2</td>\n",
       "      <td>terminator 2: judgment day (1991)</td>\n",
       "      <td>gomen</td>\n",
       "      <td>5</td>\n",
       "    </tr>\n",
       "    <tr>\n",
       "      <th>836481</th>\n",
       "      <td>3</td>\n",
       "      <td>toy story (1995)</td>\n",
       "      <td>gomen</td>\n",
       "      <td>5</td>\n",
       "    </tr>\n",
       "    <tr>\n",
       "      <th>836482</th>\n",
       "      <td>4</td>\n",
       "      <td>terminator, the (1984)</td>\n",
       "      <td>gomen</td>\n",
       "      <td>5</td>\n",
       "    </tr>\n",
       "  </tbody>\n",
       "</table>\n",
       "<p>836483 rows × 4 columns</p>\n",
       "</div>"
      ],
      "text/plain": [
       "        index                              title user_id  counts\n",
       "0           0                   toy story (1995)       1       5\n",
       "1           1                   toy story (1995)       6       4\n",
       "2           2                   toy story (1995)       8       4\n",
       "3           3                   toy story (1995)       9       5\n",
       "4           4                   toy story (1995)      10       5\n",
       "...       ...                                ...     ...     ...\n",
       "836478      0            sixth sense, the (1999)   gomen       5\n",
       "836479      1                men in black (1997)   gomen       5\n",
       "836480      2  terminator 2: judgment day (1991)   gomen       5\n",
       "836481      3                   toy story (1995)   gomen       5\n",
       "836482      4             terminator, the (1984)   gomen       5\n",
       "\n",
       "[836483 rows x 4 columns]"
      ]
     },
     "execution_count": 20,
     "metadata": {},
     "output_type": "execute_result"
    }
   ],
   "source": [
    "data.reset_index()"
   ]
  },
  {
   "cell_type": "code",
   "execution_count": 21,
   "id": "b7c3e562",
   "metadata": {},
   "outputs": [],
   "source": [
    "# 고유한 유저, title을 찾아내는 코드\n",
    "user_unique = data[\"user_id\"].unique()\n",
    "title_unique = data[\"title\"].unique()\n",
    "\n",
    "user_to_idx = {v:k for k,v in enumerate(user_unique)}\n",
    "title_to_idx = {v:k for k,v in enumerate(title_unique)}"
   ]
  },
  {
   "cell_type": "code",
   "execution_count": 22,
   "id": "4a3dfa9d",
   "metadata": {},
   "outputs": [
    {
     "name": "stdout",
     "output_type": "stream",
     "text": [
      "6040\n",
      "3628\n"
     ]
    }
   ],
   "source": [
    "print(len(user_unique))\n",
    "print(len(title_unique))"
   ]
  },
  {
   "cell_type": "code",
   "execution_count": 23,
   "id": "da7591f0",
   "metadata": {},
   "outputs": [
    {
     "name": "stdout",
     "output_type": "stream",
     "text": [
      "6039\n",
      "1419\n"
     ]
    }
   ],
   "source": [
    "print(user_to_idx['gomen'])    # 6040명의 유저 중 마지막으로 추가된 유저이니 6039가 나와야 함\n",
    "print(title_to_idx[\"men in black (1997)\"])"
   ]
  },
  {
   "cell_type": "code",
   "execution_count": 26,
   "id": "109fa2ba",
   "metadata": {
    "scrolled": false
   },
   "outputs": [
    {
     "name": "stdout",
     "output_type": "stream",
     "text": [
      "user_id column indexing Fail!!\n",
      "title column indexing OK!!\n"
     ]
    },
    {
     "data": {
      "text/html": [
       "<div>\n",
       "<style scoped>\n",
       "    .dataframe tbody tr th:only-of-type {\n",
       "        vertical-align: middle;\n",
       "    }\n",
       "\n",
       "    .dataframe tbody tr th {\n",
       "        vertical-align: top;\n",
       "    }\n",
       "\n",
       "    .dataframe thead th {\n",
       "        text-align: right;\n",
       "    }\n",
       "</style>\n",
       "<table border=\"1\" class=\"dataframe\">\n",
       "  <thead>\n",
       "    <tr style=\"text-align: right;\">\n",
       "      <th></th>\n",
       "      <th>title</th>\n",
       "      <th>user_id</th>\n",
       "      <th>counts</th>\n",
       "    </tr>\n",
       "  </thead>\n",
       "  <tbody>\n",
       "    <tr>\n",
       "      <th>0</th>\n",
       "      <td>0</td>\n",
       "      <td>0</td>\n",
       "      <td>5</td>\n",
       "    </tr>\n",
       "    <tr>\n",
       "      <th>1</th>\n",
       "      <td>0</td>\n",
       "      <td>1</td>\n",
       "      <td>4</td>\n",
       "    </tr>\n",
       "    <tr>\n",
       "      <th>2</th>\n",
       "      <td>0</td>\n",
       "      <td>2</td>\n",
       "      <td>4</td>\n",
       "    </tr>\n",
       "    <tr>\n",
       "      <th>3</th>\n",
       "      <td>0</td>\n",
       "      <td>3</td>\n",
       "      <td>5</td>\n",
       "    </tr>\n",
       "    <tr>\n",
       "      <th>4</th>\n",
       "      <td>0</td>\n",
       "      <td>4</td>\n",
       "      <td>5</td>\n",
       "    </tr>\n",
       "    <tr>\n",
       "      <th>...</th>\n",
       "      <td>...</td>\n",
       "      <td>...</td>\n",
       "      <td>...</td>\n",
       "    </tr>\n",
       "    <tr>\n",
       "      <th>0</th>\n",
       "      <td>2507</td>\n",
       "      <td>6039</td>\n",
       "      <td>5</td>\n",
       "    </tr>\n",
       "    <tr>\n",
       "      <th>1</th>\n",
       "      <td>1419</td>\n",
       "      <td>6039</td>\n",
       "      <td>5</td>\n",
       "    </tr>\n",
       "    <tr>\n",
       "      <th>2</th>\n",
       "      <td>569</td>\n",
       "      <td>6039</td>\n",
       "      <td>5</td>\n",
       "    </tr>\n",
       "    <tr>\n",
       "      <th>3</th>\n",
       "      <td>0</td>\n",
       "      <td>6039</td>\n",
       "      <td>5</td>\n",
       "    </tr>\n",
       "    <tr>\n",
       "      <th>4</th>\n",
       "      <td>1122</td>\n",
       "      <td>6039</td>\n",
       "      <td>5</td>\n",
       "    </tr>\n",
       "  </tbody>\n",
       "</table>\n",
       "<p>836483 rows × 3 columns</p>\n",
       "</div>"
      ],
      "text/plain": [
       "    title  user_id  counts\n",
       "0       0        0       5\n",
       "1       0        1       4\n",
       "2       0        2       4\n",
       "3       0        3       5\n",
       "4       0        4       5\n",
       "..    ...      ...     ...\n",
       "0    2507     6039       5\n",
       "1    1419     6039       5\n",
       "2     569     6039       5\n",
       "3       0     6039       5\n",
       "4    1122     6039       5\n",
       "\n",
       "[836483 rows x 3 columns]"
      ]
     },
     "execution_count": 26,
     "metadata": {},
     "output_type": "execute_result"
    }
   ],
   "source": [
    "# indexing을 통해 데이터 컬럼 내 값을 바꾸는 코드\n",
    "# dictionary 자료형의 get 함수는 https://wikidocs.net/16 을 참고하세요.\n",
    "\n",
    "# user_to_idx.get을 통해 user_id 컬럼의 모든 값을 인덱싱한 Series를 구해 봅시다. \n",
    "# 혹시 정상적으로 인덱싱되지 않은 row가 있다면 인덱스가 NaN이 될 테니 dropna()로 제거합니다. \n",
    "temp_user_data = data['user_id'].map(user_to_idx.get).dropna()\n",
    "if len(temp_user_data) == len(data):   # 모든 row가 정상적으로 인덱싱되었다면\n",
    "    print('user_id column indexing OK!!')\n",
    "    data['user_id'] = temp_user_data   # data['user_id']을 인덱싱된 Series로 교체해 줍니다. \n",
    "else:\n",
    "    print('user_id column indexing Fail!!')\n",
    "\n",
    "# artist_to_idx을 통해 artist 컬럼도 동일한 방식으로 인덱싱해 줍니다. \n",
    "temp_title_data = data['title'].map(title_to_idx.get).dropna()\n",
    "if len(temp_title_data) == len(data):\n",
    "    print('title column indexing OK!!')\n",
    "    data['title'] = temp_title_data\n",
    "else:\n",
    "    print('title column indexing Fail!!')\n",
    "\n",
    "data"
   ]
  },
  {
   "cell_type": "markdown",
   "id": "e1fe0640",
   "metadata": {},
   "source": [
    "# CSR matrix 만들기"
   ]
  },
  {
   "cell_type": "code",
   "execution_count": 27,
   "id": "cf8504d2",
   "metadata": {},
   "outputs": [
    {
     "data": {
      "text/plain": [
       "<6040x3628 sparse matrix of type '<class 'numpy.int64'>'\n",
       "\twith 836483 stored elements in Compressed Sparse Row format>"
      ]
     },
     "execution_count": 27,
     "metadata": {},
     "output_type": "execute_result"
    }
   ],
   "source": [
    "from scipy.sparse import csr_matrix\n",
    "\n",
    "num_user = data['user_id'].nunique()\n",
    "num_movie = data['title'].nunique()\n",
    "\n",
    "csr_data = csr_matrix((data.counts, (data.user_id, data.title)), shape= (num_user, num_movie))\n",
    "csr_data"
   ]
  },
  {
   "cell_type": "markdown",
   "id": "bbadfa15",
   "metadata": {},
   "source": [
    "# AlternatingLeastSquares 모델 구성"
   ]
  },
  {
   "cell_type": "code",
   "execution_count": 28,
   "id": "239cea59",
   "metadata": {},
   "outputs": [],
   "source": [
    "from implicit.als import AlternatingLeastSquares\n",
    "import os\n",
    "import numpy as np\n",
    "\n",
    "# implicit 라이브러리에서 권장하고 있는 부분입니다. 학습 내용과는 무관합니다.\n",
    "os.environ['OPENBLAS_NUM_THREADS']='1'\n",
    "os.environ['KMP_DUPLICATE_LIB_OK']='True'\n",
    "os.environ['MKL_NUM_THREADS']='1'"
   ]
  },
  {
   "cell_type": "code",
   "execution_count": 29,
   "id": "19fd7b87",
   "metadata": {},
   "outputs": [],
   "source": [
    "# Implicit AlternatingLeastSquares 모델의 선언\n",
    "als_model = AlternatingLeastSquares(factors=400, regularization=0.01, use_gpu=False, iterations=200, dtype=np.float32)"
   ]
  },
  {
   "cell_type": "code",
   "execution_count": 30,
   "id": "9e36cb4c",
   "metadata": {
    "scrolled": true
   },
   "outputs": [
    {
     "data": {
      "text/plain": [
       "<3628x6040 sparse matrix of type '<class 'numpy.int64'>'\n",
       "\twith 836483 stored elements in Compressed Sparse Column format>"
      ]
     },
     "execution_count": 30,
     "metadata": {},
     "output_type": "execute_result"
    }
   ],
   "source": [
    "# als 모델은 input으로 (item X user 꼴의 matrix를 받기 때문에 Transpose해줍니다.)\n",
    "csr_data_transpose = csr_data.T\n",
    "csr_data_transpose"
   ]
  },
  {
   "cell_type": "code",
   "execution_count": 31,
   "id": "748eb64a",
   "metadata": {},
   "outputs": [
    {
     "data": {
      "application/vnd.jupyter.widget-view+json": {
       "model_id": "99d244b72c6849028e4976ed6441da29",
       "version_major": 2,
       "version_minor": 0
      },
      "text/plain": [
       "  0%|          | 0/200 [00:00<?, ?it/s]"
      ]
     },
     "metadata": {},
     "output_type": "display_data"
    }
   ],
   "source": [
    "#훈련시작\n",
    "als_model.fit(csr_data_transpose)"
   ]
  },
  {
   "cell_type": "markdown",
   "id": "5eac5f79",
   "metadata": {},
   "source": [
    "# 모델 예측하기"
   ]
  },
  {
   "cell_type": "code",
   "execution_count": 32,
   "id": "e754532c",
   "metadata": {},
   "outputs": [],
   "source": [
    "gomen, men_in_black = user_to_idx['gomen'], title_to_idx['men in black (1997)']\n",
    "gomen_vector, men_in_black_vector = als_model.user_factors[gomen], als_model.item_factors[men_in_black]"
   ]
  },
  {
   "cell_type": "code",
   "execution_count": 33,
   "id": "b0a5301b",
   "metadata": {},
   "outputs": [
    {
     "data": {
      "text/plain": [
       "array([-2.99138087e-03,  3.45750749e-01, -4.70748730e-02, -2.95501232e-01,\n",
       "        4.54890132e-02, -1.01190001e-01, -6.61127716e-02,  1.60814270e-01,\n",
       "        2.10321397e-01, -1.63021926e-02, -5.57704922e-03, -6.76446259e-02,\n",
       "        1.78148612e-01, -2.44523715e-02,  1.70569479e-01, -1.35325696e-02,\n",
       "       -5.08850552e-02,  9.07529145e-02,  1.68547451e-01, -1.68830194e-02,\n",
       "       -3.94071899e-02,  1.58807158e-01, -7.65735330e-03, -1.19559847e-01,\n",
       "       -4.69308458e-02,  1.31576091e-01, -2.22216919e-01, -4.13275547e-02,\n",
       "        1.95156306e-01, -6.40356764e-02,  7.18981773e-02, -7.81773031e-02,\n",
       "        1.41591756e-02, -8.08097944e-02, -5.88849261e-02,  9.58070010e-02,\n",
       "       -8.84692892e-02, -2.70925671e-01,  3.39462645e-02,  1.81657672e-01,\n",
       "        1.39633417e-01,  6.79516345e-02, -5.65957278e-02,  7.28564337e-02,\n",
       "       -6.45353422e-02, -8.93636942e-02, -9.84376594e-02, -2.77386084e-02,\n",
       "        1.80333350e-02, -1.68084472e-01,  1.63027287e-01, -1.21327445e-01,\n",
       "       -8.33841041e-02,  3.58412080e-02, -1.94190577e-01,  1.13715790e-01,\n",
       "       -1.12237796e-01, -7.25888163e-02,  2.42010489e-01, -2.77262509e-01,\n",
       "       -1.18330032e-01,  7.12910146e-02,  1.16639838e-01,  1.33136064e-01,\n",
       "        3.25493589e-02, -3.22008505e-02,  9.31458846e-02, -2.18774408e-01,\n",
       "        6.18009865e-02,  3.89869735e-02, -3.47732976e-02, -4.28886749e-02,\n",
       "        1.95676610e-01, -2.65744701e-02,  2.19016448e-01, -6.83308616e-02,\n",
       "        4.30199094e-02, -2.05762371e-01,  1.91038065e-02,  3.01130235e-01,\n",
       "       -4.26797271e-02,  2.83666085e-02,  1.60895903e-02,  1.37432873e-01,\n",
       "        1.67636290e-01,  2.32258532e-02, -1.46165863e-01, -2.36812159e-01,\n",
       "       -6.54644594e-02, -2.60679424e-01,  5.32564186e-02,  1.47147581e-01,\n",
       "       -2.32053012e-01, -1.51081443e-01,  8.94913822e-02,  7.56826624e-02,\n",
       "        5.44937290e-02, -5.86809553e-02, -1.44362897e-01, -9.20113176e-02,\n",
       "       -2.51411855e-01, -5.62650859e-02, -5.86854704e-02, -8.26229602e-02,\n",
       "        3.33189815e-02,  1.65338874e-01,  1.28963247e-01,  2.29350522e-01,\n",
       "        4.55013216e-02,  5.31734414e-02, -1.00754239e-01,  7.79990330e-02,\n",
       "        3.55473347e-02, -1.91194579e-01, -8.04854855e-02, -2.48743445e-01,\n",
       "       -1.59647560e-03, -5.31889386e-02,  4.30193655e-02,  1.21749625e-01,\n",
       "        4.53460366e-02,  1.25038311e-01, -5.17087840e-02,  4.42079455e-02,\n",
       "       -5.54917827e-02,  7.92830288e-02,  1.08979465e-02, -3.57616283e-02,\n",
       "        1.06306829e-01,  1.91328153e-01, -4.53934185e-02,  3.94337401e-02,\n",
       "       -1.68578669e-01,  9.68099460e-02,  6.85623800e-03, -2.21571967e-01,\n",
       "        3.11685689e-02, -2.24450037e-01, -3.43036987e-02, -7.00804815e-02,\n",
       "       -7.72672659e-03,  1.83264121e-01,  5.53251691e-02,  7.09477961e-02,\n",
       "        1.07490994e-01, -3.62428218e-01, -1.50394039e-02,  2.02728242e-01,\n",
       "        2.59685889e-02, -5.44472188e-02,  5.03414869e-02,  1.35529056e-01,\n",
       "        1.25482515e-01, -9.54176858e-02, -1.18334822e-01,  3.24725546e-02,\n",
       "       -1.69397905e-01,  2.65335649e-01, -3.20211574e-02,  1.11745179e-01,\n",
       "       -5.44099063e-02,  5.43404333e-02, -1.32705728e-02, -2.19663139e-02,\n",
       "       -6.17199317e-02, -4.23447937e-02,  2.72506237e-01,  1.25591010e-01,\n",
       "        2.48375908e-01,  5.14986739e-02,  1.16693845e-03,  1.80029385e-02,\n",
       "        6.99841045e-03,  7.55411461e-02,  3.43348794e-02, -8.50084126e-02,\n",
       "       -4.31553274e-03, -1.24226753e-02, -1.78658575e-01,  2.14828667e-03,\n",
       "       -1.02683812e-01, -4.20292877e-02, -1.33731976e-01, -1.68514084e-02,\n",
       "       -2.28170201e-01, -1.61076605e-01,  1.93861380e-01,  2.13213146e-01,\n",
       "       -1.57411858e-01, -1.66986555e-01, -3.32107320e-02,  2.03195751e-01,\n",
       "        7.17200991e-03,  1.45378426e-01,  8.78826827e-02, -5.53529821e-02,\n",
       "        1.80158779e-01,  4.01504748e-02,  1.33334264e-01,  1.65412948e-01,\n",
       "       -2.13471800e-02,  1.18966578e-02,  6.13475963e-02,  9.50801298e-02,\n",
       "        1.66703984e-02,  1.85314741e-03, -2.42095798e-01, -1.87089786e-01,\n",
       "        3.36100012e-02, -8.39733854e-02, -1.53859288e-01,  1.32723406e-01,\n",
       "       -6.05706312e-02, -2.50272185e-01,  9.47850347e-02, -1.08805627e-01,\n",
       "        1.42965810e-02,  1.93929207e-02,  8.74321088e-02,  5.14692515e-02,\n",
       "       -6.02016188e-02, -2.32613325e-01,  1.03472993e-01,  6.51023462e-02,\n",
       "       -1.34846613e-01, -2.97215909e-01,  5.66580184e-02,  9.74340141e-02,\n",
       "        8.93720835e-02,  1.06884986e-01, -8.96245688e-02,  1.36341164e-02,\n",
       "       -6.24170788e-02, -1.30534798e-01,  1.12611894e-02, -3.16033334e-01,\n",
       "        6.78274706e-02, -7.82482028e-02, -1.22273266e-01,  2.72831116e-02,\n",
       "       -1.73958421e-01,  2.68477132e-03,  1.58429101e-01, -8.82643089e-02,\n",
       "        2.51551718e-02,  5.80897927e-02, -1.12257227e-01,  6.97468072e-02,\n",
       "       -4.74769659e-02, -1.56500354e-01, -4.76083755e-02, -1.34413555e-01,\n",
       "       -3.23489308e-02,  6.71055838e-02, -1.53488487e-01,  1.65438265e-01,\n",
       "       -1.31738499e-01, -1.46997824e-01,  1.09234579e-01,  1.42522249e-02,\n",
       "       -4.12847847e-03, -8.51176493e-03,  9.78542715e-02, -6.08823728e-03,\n",
       "        1.89839497e-01,  2.54269093e-01,  9.86132249e-02,  5.49815483e-02,\n",
       "       -1.88623980e-01, -5.22498190e-02, -5.22527434e-02, -1.93773583e-02,\n",
       "        7.38559812e-02,  4.37922440e-02,  1.72926635e-01, -7.93676823e-02,\n",
       "       -5.55642247e-02,  1.15757659e-01,  8.71938020e-02,  2.99637645e-01,\n",
       "       -6.66347072e-02,  1.54539064e-01, -1.94277585e-01, -1.27404734e-01,\n",
       "       -1.55441761e-01,  3.59397717e-02, -5.15604019e-02,  4.31265458e-02,\n",
       "       -6.49999678e-02, -3.35989222e-02, -6.10158481e-02,  8.23388696e-02,\n",
       "        3.44084091e-02,  7.65119717e-02, -1.70034066e-01, -1.11140832e-02,\n",
       "       -4.24128771e-02, -1.20209660e-02,  2.87985921e-01, -2.11414173e-01,\n",
       "        1.50013724e-02,  2.52277613e-01,  2.20735252e-01,  2.52087452e-02,\n",
       "       -2.06423387e-01, -3.55757959e-02,  3.68514359e-02,  1.47674128e-01,\n",
       "        2.04890475e-01, -1.16318643e-01,  7.12319306e-05, -1.36642769e-01,\n",
       "       -1.95493951e-01,  8.24053064e-02, -1.26877844e-01,  2.30987191e-01,\n",
       "       -1.64279476e-01, -1.43800050e-01,  6.71450123e-02, -1.39993206e-01,\n",
       "        9.01885107e-02, -2.04294696e-02, -6.80889040e-02,  9.18499306e-02,\n",
       "        7.46691898e-02, -1.49841517e-01,  1.46771982e-01,  1.10284761e-01,\n",
       "        1.42972767e-01,  2.14279741e-01,  1.01311162e-01, -4.68619838e-02,\n",
       "       -1.29908532e-01,  1.66564271e-01,  9.26442593e-02, -8.52621198e-02,\n",
       "        1.04431443e-01, -1.49098057e-02,  1.01804644e-01,  6.68698475e-02,\n",
       "        4.05071005e-02, -6.28305152e-02,  1.88436769e-02, -1.01055495e-01,\n",
       "       -2.01248214e-01,  1.31660104e-01,  4.60210629e-02,  4.60999720e-02,\n",
       "        1.29930288e-01, -1.40827253e-01,  8.97383690e-02,  5.60199134e-02,\n",
       "       -3.36623192e-02, -4.22145166e-02, -1.64508328e-01, -3.85336652e-02,\n",
       "       -1.38461813e-01, -1.41582891e-01, -6.34607486e-03, -1.07558034e-01,\n",
       "        7.89451525e-02, -1.42494254e-02, -2.33216062e-02, -2.44597524e-01,\n",
       "       -1.85315851e-02,  4.24840525e-02,  7.44280266e-03,  1.91610008e-01,\n",
       "        8.84038582e-02, -1.79600164e-01, -4.11538035e-02, -5.79733774e-02,\n",
       "       -1.23314179e-01,  7.02540576e-02, -7.05092698e-02, -2.17650570e-02,\n",
       "        2.38080963e-01,  4.92424183e-02,  1.97094500e-01, -1.35240838e-01,\n",
       "       -1.05869127e-02,  2.96205059e-02, -2.12620780e-01, -1.58514202e-01,\n",
       "        1.21143945e-01, -1.48107514e-01,  3.72188874e-02,  4.42666374e-03,\n",
       "        8.89777914e-02, -1.09861173e-01,  3.32763745e-03,  4.02345695e-02,\n",
       "        1.06351040e-01,  1.35051042e-01,  1.54392272e-01,  7.95018151e-02,\n",
       "        9.11479443e-02, -2.95694508e-02, -1.93971127e-01, -1.94569826e-01],\n",
       "      dtype=float32)"
      ]
     },
     "execution_count": 33,
     "metadata": {},
     "output_type": "execute_result"
    }
   ],
   "source": [
    "gomen_vector"
   ]
  },
  {
   "cell_type": "code",
   "execution_count": 34,
   "id": "833819ab",
   "metadata": {},
   "outputs": [
    {
     "data": {
      "text/plain": [
       "array([ 3.97901684e-02,  1.44497011e-04,  3.38366081e-04, -9.96457972e-03,\n",
       "       -3.67158987e-02, -1.97237302e-02,  1.09891687e-03,  1.30282082e-02,\n",
       "        3.09972633e-02,  3.78560051e-02, -2.28744186e-02,  4.07522684e-03,\n",
       "        4.44239192e-02,  1.46804657e-02,  4.46226671e-02,  2.52974145e-02,\n",
       "        1.29544865e-02,  3.48298065e-02,  2.77267415e-02,  2.21979134e-02,\n",
       "       -7.22251609e-02,  3.88558470e-02, -1.54822040e-02, -2.72834711e-02,\n",
       "       -5.51426634e-02, -1.21324398e-02,  4.26587239e-02,  4.36684750e-02,\n",
       "        3.72486562e-02, -5.54168113e-02, -5.98321157e-03,  2.26331577e-02,\n",
       "       -6.80039674e-02,  1.21453160e-03, -4.02473025e-02,  3.53895314e-02,\n",
       "       -2.09448021e-02, -7.51169398e-03,  2.27685533e-02,  3.72727290e-02,\n",
       "       -6.66618580e-03, -2.17274274e-03,  3.24617773e-02,  2.26346892e-03,\n",
       "        3.03186458e-02, -5.73004484e-02,  5.32735186e-03, -4.21667174e-02,\n",
       "        3.68364155e-02, -9.54430725e-04,  8.10692757e-02, -3.45356129e-02,\n",
       "       -2.01739576e-02,  4.11159247e-02, -5.29425927e-02,  6.55089989e-02,\n",
       "        5.08905528e-03, -6.92945765e-03,  1.79373398e-02, -5.21359108e-02,\n",
       "        1.87688752e-03,  1.80589966e-02,  5.57223596e-02, -6.46850793e-03,\n",
       "       -2.01880876e-02,  1.57703962e-02,  2.30793878e-02, -2.49590240e-02,\n",
       "        4.56657894e-02, -4.07604463e-02, -4.30554487e-02,  1.99726596e-02,\n",
       "       -1.08787892e-02, -3.71276103e-02,  9.01264846e-02, -2.52166055e-02,\n",
       "        8.52830112e-02, -3.25451791e-02, -4.77682194e-03,  1.01365939e-01,\n",
       "        6.72970666e-03,  6.33851737e-02,  2.56235711e-02,  1.39043229e-02,\n",
       "        1.95280078e-03, -1.51407942e-02,  1.79971079e-03, -1.92570873e-02,\n",
       "        1.53304043e-03, -9.42505139e-04,  2.98144873e-02,  2.22069658e-02,\n",
       "       -1.31344227e-02, -7.57171139e-02,  7.40611106e-02,  8.76468346e-02,\n",
       "        6.09805249e-02, -2.02368782e-03, -1.67833865e-02,  1.93495899e-02,\n",
       "        1.69344153e-02, -2.61915084e-02, -7.40945432e-03, -1.81995034e-02,\n",
       "       -1.86956264e-02,  2.63011530e-02,  8.59292690e-03, -4.14488204e-02,\n",
       "        5.62125407e-02, -5.67639573e-03,  8.30413122e-03, -2.74638236e-02,\n",
       "       -2.39197705e-02, -2.84015685e-02,  1.44988094e-02, -9.76340994e-02,\n",
       "       -4.27275002e-02, -4.80013974e-02, -7.57918227e-04, -1.23003107e-02,\n",
       "        5.72439171e-02, -1.20110605e-02, -1.75707601e-02,  3.61602977e-02,\n",
       "       -1.08852917e-02, -2.04853565e-02,  4.15015630e-02,  5.04018106e-02,\n",
       "        3.90407257e-02, -3.60874906e-02,  5.31022698e-02,  3.91229168e-02,\n",
       "       -2.82789189e-02,  6.74708094e-03, -6.55097328e-03,  7.27464398e-03,\n",
       "        4.33596782e-02, -3.60675193e-02,  4.37398218e-02,  3.24672870e-02,\n",
       "        1.94124121e-03,  6.33153841e-02,  4.65269014e-02,  2.95993369e-02,\n",
       "        6.44188449e-02, -1.02519684e-01, -4.84145321e-02,  4.50101234e-02,\n",
       "        7.63841113e-03, -6.15584515e-02, -7.08403718e-03,  6.62443638e-02,\n",
       "        8.49878043e-03, -8.42187554e-04,  3.81551404e-03,  4.10176162e-03,\n",
       "       -6.68029562e-02,  1.59512255e-02,  2.69673262e-02, -3.97448242e-03,\n",
       "       -3.70218195e-02,  3.22841890e-02, -4.26571183e-02, -1.45068197e-02,\n",
       "       -3.76696326e-02,  1.78930536e-02,  5.11528254e-02,  2.23944858e-02,\n",
       "        5.17110974e-02,  1.40746562e-02,  3.34410034e-02,  1.30320126e-02,\n",
       "       -1.24455588e-02, -1.48918042e-02,  4.65621334e-03, -8.41131527e-03,\n",
       "       -2.17151884e-02, -1.35249244e-02, -4.70007025e-02,  3.66890547e-03,\n",
       "       -6.25770986e-02,  6.53827265e-02,  7.10126292e-03, -5.89558259e-02,\n",
       "        2.70953253e-02, -1.01183290e-02,  6.63297996e-02,  7.77410194e-02,\n",
       "       -4.58057299e-02,  2.99438629e-02,  3.41881141e-02,  8.08655098e-02,\n",
       "        1.44693500e-03,  1.40927024e-02,  1.07733244e-02,  3.54428515e-02,\n",
       "       -7.77011563e-04,  3.20757329e-02,  3.74318883e-02,  2.17818394e-02,\n",
       "       -8.03135037e-02,  3.35070379e-02,  7.07912594e-02,  3.34957130e-02,\n",
       "       -3.52807753e-02,  5.67225926e-02,  5.87169044e-02, -4.76702377e-02,\n",
       "        2.38761250e-02,  2.31750533e-02, -2.67088674e-02,  2.07741875e-02,\n",
       "       -2.52901074e-02, -1.87216569e-02,  9.66687426e-02, -1.50745632e-02,\n",
       "        1.02923470e-04, -3.74956639e-03,  2.43653618e-02, -1.47713982e-02,\n",
       "        1.77593771e-02,  8.96341726e-03,  3.73409763e-02,  1.94959696e-02,\n",
       "        3.49361226e-02, -5.39684482e-02,  1.30973011e-02,  3.01799402e-02,\n",
       "        6.73890337e-02,  4.08461057e-02, -2.31716949e-02,  2.22259108e-02,\n",
       "       -1.52557087e-03,  1.71058718e-02,  6.01804489e-03, -5.41635230e-02,\n",
       "        2.11074483e-02, -2.90784668e-02, -2.07354818e-02,  4.33228351e-02,\n",
       "        3.48749869e-02, -1.32519472e-02,  4.40931283e-02,  4.53526415e-02,\n",
       "       -3.29969153e-02, -4.07629600e-03,  6.26696134e-03,  7.38430256e-03,\n",
       "        1.05572748e-03,  2.68262476e-02, -3.25666480e-02, -1.12481564e-02,\n",
       "       -3.25852856e-02,  4.32276763e-02,  9.29672271e-03,  9.27136615e-02,\n",
       "       -2.51398999e-02, -1.95003245e-02,  4.06176038e-02,  8.30584147e-04,\n",
       "       -7.78039219e-03,  3.53764407e-02,  4.31653969e-02,  7.07009516e-04,\n",
       "       -1.74576859e-03,  2.33914796e-02,  3.73501852e-02,  5.22979200e-02,\n",
       "       -3.51200588e-02, -6.83877170e-02, -1.13109564e-02,  1.61872208e-02,\n",
       "        7.34128989e-03,  2.12800782e-02,  2.57301647e-02,  9.91048384e-03,\n",
       "       -3.93952765e-02, -5.96158952e-03,  2.47305539e-02, -1.53836729e-02,\n",
       "       -5.24692759e-02,  2.72072162e-02, -2.47478466e-02,  6.90048859e-02,\n",
       "        2.38550417e-02,  7.66152609e-03, -1.15449801e-02,  6.83718473e-02,\n",
       "       -4.87500206e-02, -1.37070455e-02, -2.89297197e-02,  5.72764352e-02,\n",
       "        4.09272388e-02,  3.91423032e-02, -6.12244308e-02, -3.14604789e-02,\n",
       "       -2.60473266e-02,  5.42593487e-02,  6.77704858e-03,  4.01736423e-03,\n",
       "       -2.18037926e-02,  2.98789851e-02,  2.65312996e-02, -3.33852433e-02,\n",
       "       -1.34733357e-02,  4.19736356e-02, -7.87623692e-03,  7.61846378e-02,\n",
       "        4.90408763e-02,  2.11074110e-02,  1.41152162e-02, -3.64762805e-02,\n",
       "       -6.91172853e-02,  5.85295185e-02,  1.47416384e-03, -2.60047931e-02,\n",
       "        2.73031686e-02, -1.83895361e-02,  5.35343401e-02, -5.82460575e-02,\n",
       "        2.64412146e-02, -3.56513783e-02, -9.90669429e-02,  3.84888723e-02,\n",
       "        2.75531095e-02, -5.69978431e-02,  7.78846219e-02,  4.43282388e-02,\n",
       "       -2.73090601e-03,  5.00118472e-02,  5.87007590e-02, -3.57639007e-02,\n",
       "        1.48978923e-02,  1.41984900e-03, -3.82023640e-02,  4.62114103e-02,\n",
       "        1.61002968e-02, -1.54696563e-02,  2.31463592e-02,  9.07705352e-02,\n",
       "        3.56250890e-02,  1.76429320e-02, -1.38164954e-02, -2.26032664e-03,\n",
       "       -4.74876212e-03, -3.84155847e-02,  4.44029011e-02,  5.67369815e-03,\n",
       "        4.73847234e-04, -7.79244527e-02, -2.16880511e-03, -9.64303985e-02,\n",
       "       -5.02663441e-02,  3.02827116e-02, -4.57597859e-02, -2.72384714e-02,\n",
       "       -1.36325238e-02, -5.85723929e-02, -1.69863664e-02,  3.00325546e-02,\n",
       "        2.44908705e-02, -5.87092200e-03,  1.01021593e-02, -1.36978403e-01,\n",
       "        1.49977189e-02,  5.64352609e-02,  1.58975590e-02,  2.11541094e-02,\n",
       "        4.35932949e-02,  2.11643983e-05,  2.33174134e-02, -1.75874680e-02,\n",
       "       -1.24590777e-01, -5.37863299e-02,  3.11206952e-02,  7.24934414e-02,\n",
       "        2.31894627e-02,  4.48907614e-02,  9.03225988e-02,  3.69779989e-02,\n",
       "        7.24496543e-02,  4.31063920e-02, -6.33293297e-03,  2.56756078e-02,\n",
       "        8.02916661e-03, -4.11732383e-02,  4.91980761e-02,  1.00728320e-02,\n",
       "       -3.03354934e-02, -2.02453975e-02,  5.60470112e-02,  2.57472824e-02,\n",
       "        1.79267824e-02,  5.34280129e-02,  7.43524171e-03,  8.87372717e-02,\n",
       "        2.35919151e-02, -4.45186533e-02, -6.21705800e-02, -1.75977647e-02],\n",
       "      dtype=float32)"
      ]
     },
     "execution_count": 34,
     "metadata": {},
     "output_type": "execute_result"
    }
   ],
   "source": [
    "men_in_black_vector"
   ]
  },
  {
   "cell_type": "code",
   "execution_count": 35,
   "id": "21e34577",
   "metadata": {},
   "outputs": [
    {
     "data": {
      "text/plain": [
       "0.88910604"
      ]
     },
     "execution_count": 35,
     "metadata": {},
     "output_type": "execute_result"
    }
   ],
   "source": [
    "# gomen, men_in_black을 내적하는 코드\n",
    "np.dot(gomen_vector, men_in_black_vector)"
   ]
  },
  {
   "cell_type": "code",
   "execution_count": 37,
   "id": "f476b513",
   "metadata": {},
   "outputs": [
    {
     "data": {
      "text/plain": [
       "0.91976947"
      ]
     },
     "execution_count": 37,
     "metadata": {},
     "output_type": "execute_result"
    }
   ],
   "source": [
    "sixth_sense = title_to_idx['sixth sense, the (1999)']\n",
    "sixth_sense_vector = als_model.item_factors[sixth_sense]\n",
    "np.dot(gomen_vector, sixth_sense_vector)"
   ]
  },
  {
   "cell_type": "code",
   "execution_count": 38,
   "id": "68efa8cb",
   "metadata": {},
   "outputs": [],
   "source": [
    "idx_to_title = {v:k for k,v in title_to_idx.items()}\n",
    "\n",
    "def get_similar_title(title_name: str):\n",
    "    title_id = title_to_idx[title_name]\n",
    "    similar_title = als_model.similar_items(title_id)\n",
    "    similar_title = [idx_to_title[i[0]] for i in similar_title]\n",
    "    return similar_title"
   ]
  },
  {
   "cell_type": "code",
   "execution_count": 39,
   "id": "b9371c2a",
   "metadata": {},
   "outputs": [
    {
     "data": {
      "text/plain": [
       "['toy story (1995)',\n",
       " 'toy story 2 (1999)',\n",
       " 'aladdin (1992)',\n",
       " 'soft toilet seats (1999)',\n",
       " \"bug's life, a (1998)\",\n",
       " 'nobody loves me (keiner liebt mich) (1994)',\n",
       " 'lion king, the (1994)',\n",
       " 'babe (1995)',\n",
       " 'groundhog day (1993)',\n",
       " 'best men (1997)']"
      ]
     },
     "execution_count": 39,
     "metadata": {},
     "output_type": "execute_result"
    }
   ],
   "source": [
    "get_similar_title(\"toy story (1995)\")"
   ]
  },
  {
   "cell_type": "code",
   "execution_count": 40,
   "id": "d950525b",
   "metadata": {},
   "outputs": [
    {
     "data": {
      "text/plain": [
       "['contender, the (2000)',\n",
       " 'nurse betty (2000)',\n",
       " 'almost famous (2000)',\n",
       " 'wonder boys (2000)',\n",
       " 'best in show (2000)',\n",
       " 'requiem for a dream (2000)',\n",
       " 'yards, the (1999)',\n",
       " 'tigerland (2000)',\n",
       " 'remember the titans (2000)',\n",
       " 'watcher, the (2000)']"
      ]
     },
     "execution_count": 40,
     "metadata": {},
     "output_type": "execute_result"
    }
   ],
   "source": [
    "get_similar_title(\"contender, the (2000)\")"
   ]
  },
  {
   "cell_type": "code",
   "execution_count": 41,
   "id": "2b2ec57f",
   "metadata": {},
   "outputs": [
    {
     "data": {
      "text/plain": [
       "['forrest gump (1994)',\n",
       " \"devil's brigade, the (1968)\",\n",
       " 'outside ozona (1998)',\n",
       " \"child's play 3 (1992)\",\n",
       " 'soft fruit (1999)',\n",
       " 'digimon: the movie (2000)',\n",
       " 'anna (1996)',\n",
       " 'death in the garden (mort en ce jardin, la) (1956)',\n",
       " 'pretty woman (1990)',\n",
       " 'ulysses (ulisse) (1954)']"
      ]
     },
     "execution_count": 41,
     "metadata": {},
     "output_type": "execute_result"
    }
   ],
   "source": [
    "get_similar_title(\"forrest gump (1994)\")"
   ]
  },
  {
   "cell_type": "markdown",
   "id": "51838a74",
   "metadata": {},
   "source": [
    "# 가장 선호하는 영화 추천 받기"
   ]
  },
  {
   "cell_type": "code",
   "execution_count": 44,
   "id": "1e1be7e3",
   "metadata": {},
   "outputs": [
    {
     "data": {
      "text/plain": [
       "[(2845, 0.1850586),\n",
       " (2325, 0.17934443),\n",
       " (1084, 0.16045839),\n",
       " (2657, 0.124851026),\n",
       " (949, 0.1235615),\n",
       " (1369, 0.12164909),\n",
       " (462, 0.11260992),\n",
       " (1098, 0.107155286),\n",
       " (20, 0.10388384),\n",
       " (439, 0.10298101),\n",
       " (2542, 0.09958276),\n",
       " (2903, 0.09601663),\n",
       " (574, 0.095674485),\n",
       " (2667, 0.089631446),\n",
       " (3127, 0.08799505),\n",
       " (1245, 0.08765642),\n",
       " (995, 0.08628108),\n",
       " (3224, 0.08271313),\n",
       " (1160, 0.08133225),\n",
       " (33, 0.081058696)]"
      ]
     },
     "execution_count": 44,
     "metadata": {},
     "output_type": "execute_result"
    }
   ],
   "source": [
    "user = user_to_idx['gomen']\n",
    "# recommend에서는 user*item CSR Matrix를 받습니다.\n",
    "title_recommended = als_model.recommend(user, csr_data, N=20, filter_already_liked_items=True)\n",
    "title_recommended"
   ]
  },
  {
   "cell_type": "code",
   "execution_count": 45,
   "id": "3b0e2add",
   "metadata": {
    "scrolled": true
   },
   "outputs": [
    {
     "data": {
      "text/plain": [
       "['toy story 2 (1999)',\n",
       " 'matrix, the (1999)',\n",
       " 'aliens (1986)',\n",
       " 'total recall (1990)',\n",
       " 'die hard (1988)',\n",
       " 'austin powers: international man of mystery (1997)',\n",
       " 'jurassic park (1993)',\n",
       " 'alien (1979)',\n",
       " 'get shorty (1995)',\n",
       " 'fugitive, the (1993)',\n",
       " 'big (1988)',\n",
       " 'talented mr. ripley, the (1999)',\n",
       " 'snow white and the seven dwarfs (1937)',\n",
       " 'hairspray (1988)',\n",
       " 'jungle fever (1991)',\n",
       " 'star trek: the motion picture (1979)',\n",
       " 'reservoir dogs (1992)',\n",
       " 'predator (1987)',\n",
       " 'young frankenstein (1974)',\n",
       " 'babe (1995)']"
      ]
     },
     "execution_count": 45,
     "metadata": {},
     "output_type": "execute_result"
    }
   ],
   "source": [
    "[idx_to_title[i[0]] for i in title_recommended]"
   ]
  },
  {
   "cell_type": "code",
   "execution_count": 50,
   "id": "d1c79cd9",
   "metadata": {},
   "outputs": [],
   "source": [
    "matrix_trousers = title_to_idx[\"matrix, the (1999)\"]\n",
    "explain = als_model.explain(user, csr_data, itemid=matrix_trousers)"
   ]
  },
  {
   "cell_type": "code",
   "execution_count": 51,
   "id": "426fb6de",
   "metadata": {
    "scrolled": true
   },
   "outputs": [
    {
     "data": {
      "text/plain": [
       "[('terminator 2: judgment day (1991)', 0.10647738830041029),\n",
       " ('sixth sense, the (1999)', 0.04027354363577505),\n",
       " ('toy story (1995)', 0.02811144939117893),\n",
       " ('men in black (1997)', 0.008415775436988538),\n",
       " ('terminator, the (1984)', -0.004120889583034762)]"
      ]
     },
     "execution_count": 51,
     "metadata": {},
     "output_type": "execute_result"
    }
   ],
   "source": [
    "[(idx_to_title[i[0]], i[1]) for i in explain[1]]"
   ]
  },
  {
   "cell_type": "code",
   "execution_count": 56,
   "id": "ff8fe0aa",
   "metadata": {
    "scrolled": true
   },
   "outputs": [
    {
     "data": {
      "text/html": [
       "<div>\n",
       "<style scoped>\n",
       "    .dataframe tbody tr th:only-of-type {\n",
       "        vertical-align: middle;\n",
       "    }\n",
       "\n",
       "    .dataframe tbody tr th {\n",
       "        vertical-align: top;\n",
       "    }\n",
       "\n",
       "    .dataframe thead th {\n",
       "        text-align: right;\n",
       "    }\n",
       "</style>\n",
       "<table border=\"1\" class=\"dataframe\">\n",
       "  <thead>\n",
       "    <tr style=\"text-align: right;\">\n",
       "      <th></th>\n",
       "      <th>movie_id</th>\n",
       "      <th>title</th>\n",
       "      <th>genre</th>\n",
       "    </tr>\n",
       "  </thead>\n",
       "  <tbody>\n",
       "    <tr>\n",
       "      <th>2502</th>\n",
       "      <td>2571</td>\n",
       "      <td>matrix, the (1999)</td>\n",
       "      <td>action|sci-fi|thriller</td>\n",
       "    </tr>\n",
       "  </tbody>\n",
       "</table>\n",
       "</div>"
      ],
      "text/plain": [
       "      movie_id               title                   genre\n",
       "2502      2571  matrix, the (1999)  action|sci-fi|thriller"
      ]
     },
     "execution_count": 56,
     "metadata": {},
     "output_type": "execute_result"
    }
   ],
   "source": [
    "movies[movies['title']=='matrix, the (1999)']"
   ]
  },
  {
   "cell_type": "code",
   "execution_count": 57,
   "id": "09cbf193",
   "metadata": {
    "scrolled": true
   },
   "outputs": [
    {
     "data": {
      "text/html": [
       "<div>\n",
       "<style scoped>\n",
       "    .dataframe tbody tr th:only-of-type {\n",
       "        vertical-align: middle;\n",
       "    }\n",
       "\n",
       "    .dataframe tbody tr th {\n",
       "        vertical-align: top;\n",
       "    }\n",
       "\n",
       "    .dataframe thead th {\n",
       "        text-align: right;\n",
       "    }\n",
       "</style>\n",
       "<table border=\"1\" class=\"dataframe\">\n",
       "  <thead>\n",
       "    <tr style=\"text-align: right;\">\n",
       "      <th></th>\n",
       "      <th>movie_id</th>\n",
       "      <th>title</th>\n",
       "      <th>genre</th>\n",
       "    </tr>\n",
       "  </thead>\n",
       "  <tbody>\n",
       "    <tr>\n",
       "      <th>585</th>\n",
       "      <td>589</td>\n",
       "      <td>terminator 2: judgment day (1991)</td>\n",
       "      <td>action|sci-fi|thriller</td>\n",
       "    </tr>\n",
       "  </tbody>\n",
       "</table>\n",
       "</div>"
      ],
      "text/plain": [
       "     movie_id                              title                   genre\n",
       "585       589  terminator 2: judgment day (1991)  action|sci-fi|thriller"
      ]
     },
     "execution_count": 57,
     "metadata": {},
     "output_type": "execute_result"
    }
   ],
   "source": [
    "movies[movies['title']=='terminator 2: judgment day (1991)']"
   ]
  },
  {
   "cell_type": "code",
   "execution_count": 58,
   "id": "a9c7948f",
   "metadata": {
    "scrolled": true
   },
   "outputs": [
    {
     "data": {
      "text/html": [
       "<div>\n",
       "<style scoped>\n",
       "    .dataframe tbody tr th:only-of-type {\n",
       "        vertical-align: middle;\n",
       "    }\n",
       "\n",
       "    .dataframe tbody tr th {\n",
       "        vertical-align: top;\n",
       "    }\n",
       "\n",
       "    .dataframe thead th {\n",
       "        text-align: right;\n",
       "    }\n",
       "</style>\n",
       "<table border=\"1\" class=\"dataframe\">\n",
       "  <thead>\n",
       "    <tr style=\"text-align: right;\">\n",
       "      <th></th>\n",
       "      <th>movie_id</th>\n",
       "      <th>title</th>\n",
       "      <th>genre</th>\n",
       "    </tr>\n",
       "  </thead>\n",
       "  <tbody>\n",
       "    <tr>\n",
       "      <th>1220</th>\n",
       "      <td>1240</td>\n",
       "      <td>terminator, the (1984)</td>\n",
       "      <td>action|sci-fi|thriller</td>\n",
       "    </tr>\n",
       "  </tbody>\n",
       "</table>\n",
       "</div>"
      ],
      "text/plain": [
       "      movie_id                   title                   genre\n",
       "1220      1240  terminator, the (1984)  action|sci-fi|thriller"
      ]
     },
     "execution_count": 58,
     "metadata": {},
     "output_type": "execute_result"
    }
   ],
   "source": [
    "movies[movies['title']=='terminator, the (1984)']"
   ]
  },
  {
   "cell_type": "code",
   "execution_count": 59,
   "id": "43af13a5",
   "metadata": {},
   "outputs": [
    {
     "data": {
      "text/html": [
       "<div>\n",
       "<style scoped>\n",
       "    .dataframe tbody tr th:only-of-type {\n",
       "        vertical-align: middle;\n",
       "    }\n",
       "\n",
       "    .dataframe tbody tr th {\n",
       "        vertical-align: top;\n",
       "    }\n",
       "\n",
       "    .dataframe thead th {\n",
       "        text-align: right;\n",
       "    }\n",
       "</style>\n",
       "<table border=\"1\" class=\"dataframe\">\n",
       "  <thead>\n",
       "    <tr style=\"text-align: right;\">\n",
       "      <th></th>\n",
       "      <th>movie_id</th>\n",
       "      <th>title</th>\n",
       "      <th>genre</th>\n",
       "    </tr>\n",
       "  </thead>\n",
       "  <tbody>\n",
       "    <tr>\n",
       "      <th>0</th>\n",
       "      <td>1</td>\n",
       "      <td>toy story (1995)</td>\n",
       "      <td>animation|children's|comedy</td>\n",
       "    </tr>\n",
       "  </tbody>\n",
       "</table>\n",
       "</div>"
      ],
      "text/plain": [
       "   movie_id             title                        genre\n",
       "0         1  toy story (1995)  animation|children's|comedy"
      ]
     },
     "execution_count": 59,
     "metadata": {},
     "output_type": "execute_result"
    }
   ],
   "source": [
    "movies[movies['title']=='toy story (1995)']"
   ]
  },
  {
   "cell_type": "markdown",
   "id": "9ac68937",
   "metadata": {},
   "source": [
    "# 회고"
   ]
  },
  {
   "cell_type": "markdown",
   "id": "f291019b",
   "metadata": {},
   "source": [
    "셀을 합치는 함수로 concat()을 사용했으나 아무런 옵션 없이 행 인덱스와 열 인덱스가 서로 다른 두 데이터프레임을 병합하는 경우 위와 같이 병합되기 전 자신의 인덱스를 그대로 사용하고 열 인덱스가 맞지 않는 부분은 NaN 값으로 채워진다. 그래서 키값을 기준으로 병합을 하는 merge() 함수를 사용해서 문제를 해결할 수 있었습니다. MF모델이 예측한 유저 선호도 및 아이템간 유사도, 기여도가 의미있게 측정된 것을 확인할 수 있었습니다. toy story를 검색했을 때 알맞은 영화를 추천해주는 것을 볼 수 있었습니다. \n",
    "매트릭스 영화를 추천한데 터미네이터2가 많은 기여를 한 것을 확인했다. matrix, the (1999) 장르와 영향을 가장 많이준 terminator 2: judgment day (1991)의 장르가 일치하는 것을 보아 장르가 추천에 기여를 하는 것 같습니다. 그러나 toy story (1995)의 장르는 다릅니다. 그래서 장르가 무조건 적으로 영향을 끼친다고는 할 수 없습니다."
   ]
  }
 ],
 "metadata": {
  "kernelspec": {
   "display_name": "Python 3 (ipykernel)",
   "language": "python",
   "name": "python3"
  },
  "language_info": {
   "codemirror_mode": {
    "name": "ipython",
    "version": 3
   },
   "file_extension": ".py",
   "mimetype": "text/x-python",
   "name": "python",
   "nbconvert_exporter": "python",
   "pygments_lexer": "ipython3",
   "version": "3.9.7"
  }
 },
 "nbformat": 4,
 "nbformat_minor": 5
}
