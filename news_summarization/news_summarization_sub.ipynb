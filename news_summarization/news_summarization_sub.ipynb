{
 "cells": [
  {
   "cell_type": "code",
   "execution_count": 1,
   "id": "d38a1470",
   "metadata": {
    "scrolled": true
   },
   "outputs": [
    {
     "name": "stderr",
     "output_type": "stream",
     "text": [
      "[nltk_data] Downloading package stopwords to /aiffel/nltk_data...\n",
      "[nltk_data]   Package stopwords is already up-to-date!\n"
     ]
    }
   ],
   "source": [
    "import nltk\n",
    "nltk.download('stopwords')\n",
    "\n",
    "import numpy as np\n",
    "import pandas as pd\n",
    "import os\n",
    "import re\n",
    "import matplotlib.pyplot as plt\n",
    "from nltk.corpus import stopwords\n",
    "from bs4 import BeautifulSoup \n",
    "from tensorflow.keras.preprocessing.text import Tokenizer \n",
    "from tensorflow.keras.preprocessing.sequence import pad_sequences\n",
    "import urllib.request\n",
    "import warnings\n",
    "warnings.filterwarnings(\"ignore\", category=UserWarning, module='bs4')"
   ]
  },
  {
   "cell_type": "markdown",
   "id": "159b8a9e",
   "metadata": {},
   "source": [
    "# 1. 데이터 불러오기"
   ]
  },
  {
   "cell_type": "code",
   "execution_count": 2,
   "id": "4a044423",
   "metadata": {},
   "outputs": [
    {
     "data": {
      "text/html": [
       "<div>\n",
       "<style scoped>\n",
       "    .dataframe tbody tr th:only-of-type {\n",
       "        vertical-align: middle;\n",
       "    }\n",
       "\n",
       "    .dataframe tbody tr th {\n",
       "        vertical-align: top;\n",
       "    }\n",
       "\n",
       "    .dataframe thead th {\n",
       "        text-align: right;\n",
       "    }\n",
       "</style>\n",
       "<table border=\"1\" class=\"dataframe\">\n",
       "  <thead>\n",
       "    <tr style=\"text-align: right;\">\n",
       "      <th></th>\n",
       "      <th>headlines</th>\n",
       "      <th>text</th>\n",
       "    </tr>\n",
       "  </thead>\n",
       "  <tbody>\n",
       "    <tr>\n",
       "      <th>0</th>\n",
       "      <td>upGrad learner switches to career in ML &amp; Al w...</td>\n",
       "      <td>Saurav Kant, an alumnus of upGrad and IIIT-B's...</td>\n",
       "    </tr>\n",
       "    <tr>\n",
       "      <th>1</th>\n",
       "      <td>Delhi techie wins free food from Swiggy for on...</td>\n",
       "      <td>Kunal Shah's credit card bill payment platform...</td>\n",
       "    </tr>\n",
       "    <tr>\n",
       "      <th>2</th>\n",
       "      <td>New Zealand end Rohit Sharma-led India's 12-ma...</td>\n",
       "      <td>New Zealand defeated India by 8 wickets in the...</td>\n",
       "    </tr>\n",
       "    <tr>\n",
       "      <th>3</th>\n",
       "      <td>Aegon life iTerm insurance plan helps customer...</td>\n",
       "      <td>With Aegon Life iTerm Insurance plan, customer...</td>\n",
       "    </tr>\n",
       "    <tr>\n",
       "      <th>4</th>\n",
       "      <td>Have known Hirani for yrs, what if MeToo claim...</td>\n",
       "      <td>Speaking about the sexual harassment allegatio...</td>\n",
       "    </tr>\n",
       "  </tbody>\n",
       "</table>\n",
       "</div>"
      ],
      "text/plain": [
       "                                           headlines  \\\n",
       "0  upGrad learner switches to career in ML & Al w...   \n",
       "1  Delhi techie wins free food from Swiggy for on...   \n",
       "2  New Zealand end Rohit Sharma-led India's 12-ma...   \n",
       "3  Aegon life iTerm insurance plan helps customer...   \n",
       "4  Have known Hirani for yrs, what if MeToo claim...   \n",
       "\n",
       "                                                text  \n",
       "0  Saurav Kant, an alumnus of upGrad and IIIT-B's...  \n",
       "1  Kunal Shah's credit card bill payment platform...  \n",
       "2  New Zealand defeated India by 8 wickets in the...  \n",
       "3  With Aegon Life iTerm Insurance plan, customer...  \n",
       "4  Speaking about the sexual harassment allegatio...  "
      ]
     },
     "execution_count": 2,
     "metadata": {},
     "output_type": "execute_result"
    }
   ],
   "source": [
    "urllib.request.urlretrieve(\"https://raw.githubusercontent.com/sunnysai12345/News_Summary/master/news_summary_more.csv\", filename=\"news_summary_more.csv\")\n",
    "data = pd.read_csv('news_summary_more.csv', encoding='iso-8859-1')\n",
    "data.head(5)"
   ]
  },
  {
   "cell_type": "code",
   "execution_count": 3,
   "id": "f54b52ae",
   "metadata": {},
   "outputs": [
    {
     "data": {
      "text/plain": [
       "headlines    Female gang drugged, filmed me to extort Ã¢ÂÂ...\n",
       "text         BJP MP KC Patel has claimed that he was drugge...\n",
       "Name: 90938, dtype: object"
      ]
     },
     "execution_count": 3,
     "metadata": {},
     "output_type": "execute_result"
    }
   ],
   "source": [
    "data.loc[90938]"
   ]
  },
  {
   "cell_type": "code",
   "execution_count": 4,
   "id": "1a39cfff",
   "metadata": {
    "scrolled": true
   },
   "outputs": [
    {
     "name": "stdout",
     "output_type": "stream",
     "text": [
      "전체 샘플수 : 98401\n"
     ]
    },
    {
     "data": {
      "text/html": [
       "<div>\n",
       "<style scoped>\n",
       "    .dataframe tbody tr th:only-of-type {\n",
       "        vertical-align: middle;\n",
       "    }\n",
       "\n",
       "    .dataframe tbody tr th {\n",
       "        vertical-align: top;\n",
       "    }\n",
       "\n",
       "    .dataframe thead th {\n",
       "        text-align: right;\n",
       "    }\n",
       "</style>\n",
       "<table border=\"1\" class=\"dataframe\">\n",
       "  <thead>\n",
       "    <tr style=\"text-align: right;\">\n",
       "      <th></th>\n",
       "      <th>headlines</th>\n",
       "      <th>text</th>\n",
       "    </tr>\n",
       "  </thead>\n",
       "  <tbody>\n",
       "    <tr>\n",
       "      <th>60254</th>\n",
       "      <td>BJP releases second list of candidates for Guj...</td>\n",
       "      <td>The BJP on Saturday released its second list o...</td>\n",
       "    </tr>\n",
       "    <tr>\n",
       "      <th>69306</th>\n",
       "      <td>Tax benefit for those donating LPG connection ...</td>\n",
       "      <td>Oil Minister Dharmendra Pradhan has revealed t...</td>\n",
       "    </tr>\n",
       "    <tr>\n",
       "      <th>59147</th>\n",
       "      <td>PM Modi in tears: I sold tea but I didn't sell...</td>\n",
       "      <td>Stating that the Congress had failed to hide i...</td>\n",
       "    </tr>\n",
       "    <tr>\n",
       "      <th>9417</th>\n",
       "      <td>Jet pilots refuse additional duties over salar...</td>\n",
       "      <td>Jet Airways' pilots have reportedly threatened...</td>\n",
       "    </tr>\n",
       "    <tr>\n",
       "      <th>1304</th>\n",
       "      <td>LIC completes acquisition of 51% stake in IDBI...</td>\n",
       "      <td>IDBI Bank on Monday said the country's largest...</td>\n",
       "    </tr>\n",
       "  </tbody>\n",
       "</table>\n",
       "</div>"
      ],
      "text/plain": [
       "                                               headlines  \\\n",
       "60254  BJP releases second list of candidates for Guj...   \n",
       "69306  Tax benefit for those donating LPG connection ...   \n",
       "59147  PM Modi in tears: I sold tea but I didn't sell...   \n",
       "9417   Jet pilots refuse additional duties over salar...   \n",
       "1304   LIC completes acquisition of 51% stake in IDBI...   \n",
       "\n",
       "                                                    text  \n",
       "60254  The BJP on Saturday released its second list o...  \n",
       "69306  Oil Minister Dharmendra Pradhan has revealed t...  \n",
       "59147  Stating that the Congress had failed to hide i...  \n",
       "9417   Jet Airways' pilots have reportedly threatened...  \n",
       "1304   IDBI Bank on Monday said the country's largest...  "
      ]
     },
     "execution_count": 4,
     "metadata": {},
     "output_type": "execute_result"
    }
   ],
   "source": [
    "print('전체 샘플수 :', (len(data)))\n",
    "data.sample(5)"
   ]
  },
  {
   "cell_type": "markdown",
   "id": "ffc34d21",
   "metadata": {},
   "source": [
    "# 2. 데이터 전처리"
   ]
  },
  {
   "cell_type": "code",
   "execution_count": 5,
   "id": "6b213eeb",
   "metadata": {},
   "outputs": [
    {
     "name": "stdout",
     "output_type": "stream",
     "text": [
      "text 열에서 중복을 배제한 유일한 샘플의 수 : 98360\n"
     ]
    }
   ],
   "source": [
    "print('text 열에서 중복을 배제한 유일한 샘플의 수 :', data['text'].nunique())"
   ]
  },
  {
   "cell_type": "code",
   "execution_count": 6,
   "id": "984061ca",
   "metadata": {},
   "outputs": [
    {
     "name": "stdout",
     "output_type": "stream",
     "text": [
      "전체 샘플수 : 98360\n"
     ]
    }
   ],
   "source": [
    "# inplace=True 를 설정하면 DataFrame 타입 값을 return 하지 않고 data 내부를 직접적으로 바꿉니다\n",
    "data.drop_duplicates(subset = ['text'], inplace=True)\n",
    "print('전체 샘플수 :', (len(data)))"
   ]
  },
  {
   "cell_type": "markdown",
   "id": "ca46c126",
   "metadata": {},
   "source": [
    "### 결측치가 있는지 확인"
   ]
  },
  {
   "cell_type": "code",
   "execution_count": 7,
   "id": "4156e463",
   "metadata": {
    "scrolled": true
   },
   "outputs": [
    {
     "name": "stdout",
     "output_type": "stream",
     "text": [
      "headlines    0\n",
      "text         0\n",
      "dtype: int64\n"
     ]
    }
   ],
   "source": [
    "print(data.isnull().sum())"
   ]
  },
  {
   "cell_type": "markdown",
   "id": "190239d0",
   "metadata": {},
   "source": [
    "### 불용어 제거"
   ]
  },
  {
   "cell_type": "code",
   "execution_count": 8,
   "id": "4e059faa",
   "metadata": {},
   "outputs": [
    {
     "name": "stdout",
     "output_type": "stream",
     "text": [
      "정규화 사전의 수:  120\n"
     ]
    }
   ],
   "source": [
    "contractions = {\"ain't\": \"is not\", \"aren't\": \"are not\",\"can't\": \"cannot\", \"'cause\": \"because\", \"could've\": \"could have\", \"couldn't\": \"could not\",\n",
    "                           \"didn't\": \"did not\",  \"doesn't\": \"does not\", \"don't\": \"do not\", \"hadn't\": \"had not\", \"hasn't\": \"has not\", \"haven't\": \"have not\",\n",
    "                           \"he'd\": \"he would\",\"he'll\": \"he will\", \"he's\": \"he is\", \"how'd\": \"how did\", \"how'd'y\": \"how do you\", \"how'll\": \"how will\", \"how's\": \"how is\",\n",
    "                           \"I'd\": \"I would\", \"I'd've\": \"I would have\", \"I'll\": \"I will\", \"I'll've\": \"I will have\",\"I'm\": \"I am\", \"I've\": \"I have\", \"i'd\": \"i would\",\n",
    "                           \"i'd've\": \"i would have\", \"i'll\": \"i will\",  \"i'll've\": \"i will have\",\"i'm\": \"i am\", \"i've\": \"i have\", \"isn't\": \"is not\", \"it'd\": \"it would\",\n",
    "                           \"it'd've\": \"it would have\", \"it'll\": \"it will\", \"it'll've\": \"it will have\",\"it's\": \"it is\", \"let's\": \"let us\", \"ma'am\": \"madam\",\n",
    "                           \"mayn't\": \"may not\", \"might've\": \"might have\",\"mightn't\": \"might not\",\"mightn't've\": \"might not have\", \"must've\": \"must have\",\n",
    "                           \"mustn't\": \"must not\", \"mustn't've\": \"must not have\", \"needn't\": \"need not\", \"needn't've\": \"need not have\",\"o'clock\": \"of the clock\",\n",
    "                           \"oughtn't\": \"ought not\", \"oughtn't've\": \"ought not have\", \"shan't\": \"shall not\", \"sha'n't\": \"shall not\", \"shan't've\": \"shall not have\",\n",
    "                           \"she'd\": \"she would\", \"she'd've\": \"she would have\", \"she'll\": \"she will\", \"she'll've\": \"she will have\", \"she's\": \"she is\",\n",
    "                           \"should've\": \"should have\", \"shouldn't\": \"should not\", \"shouldn't've\": \"should not have\", \"so've\": \"so have\",\"so's\": \"so as\",\n",
    "                           \"this's\": \"this is\",\"that'd\": \"that would\", \"that'd've\": \"that would have\", \"that's\": \"that is\", \"there'd\": \"there would\",\n",
    "                           \"there'd've\": \"there would have\", \"there's\": \"there is\", \"here's\": \"here is\",\"they'd\": \"they would\", \"they'd've\": \"they would have\",\n",
    "                           \"they'll\": \"they will\", \"they'll've\": \"they will have\", \"they're\": \"they are\", \"they've\": \"they have\", \"to've\": \"to have\",\n",
    "                           \"wasn't\": \"was not\", \"we'd\": \"we would\", \"we'd've\": \"we would have\", \"we'll\": \"we will\", \"we'll've\": \"we will have\", \"we're\": \"we are\",\n",
    "                           \"we've\": \"we have\", \"weren't\": \"were not\", \"what'll\": \"what will\", \"what'll've\": \"what will have\", \"what're\": \"what are\",\n",
    "                           \"what's\": \"what is\", \"what've\": \"what have\", \"when's\": \"when is\", \"when've\": \"when have\", \"where'd\": \"where did\", \"where's\": \"where is\",\n",
    "                           \"where've\": \"where have\", \"who'll\": \"who will\", \"who'll've\": \"who will have\", \"who's\": \"who is\", \"who've\": \"who have\",\n",
    "                           \"why's\": \"why is\", \"why've\": \"why have\", \"will've\": \"will have\", \"won't\": \"will not\", \"won't've\": \"will not have\",\n",
    "                           \"would've\": \"would have\", \"wouldn't\": \"would not\", \"wouldn't've\": \"would not have\", \"y'all\": \"you all\",\n",
    "                           \"y'all'd\": \"you all would\",\"y'all'd've\": \"you all would have\",\"y'all're\": \"you all are\",\"y'all've\": \"you all have\",\n",
    "                           \"you'd\": \"you would\", \"you'd've\": \"you would have\", \"you'll\": \"you will\", \"you'll've\": \"you will have\",\n",
    "                           \"you're\": \"you are\", \"you've\": \"you have\"}\n",
    "\n",
    "print(\"정규화 사전의 수: \", len(contractions))"
   ]
  },
  {
   "cell_type": "code",
   "execution_count": 9,
   "id": "a7401575",
   "metadata": {},
   "outputs": [
    {
     "name": "stdout",
     "output_type": "stream",
     "text": [
      "불용어 개수 : 179\n",
      "['i', 'me', 'my', 'myself', 'we', 'our', 'ours', 'ourselves', 'you', \"you're\", \"you've\", \"you'll\", \"you'd\", 'your', 'yours', 'yourself', 'yourselves', 'he', 'him', 'his', 'himself', 'she', \"she's\", 'her', 'hers', 'herself', 'it', \"it's\", 'its', 'itself', 'they', 'them', 'their', 'theirs', 'themselves', 'what', 'which', 'who', 'whom', 'this', 'that', \"that'll\", 'these', 'those', 'am', 'is', 'are', 'was', 'were', 'be', 'been', 'being', 'have', 'has', 'had', 'having', 'do', 'does', 'did', 'doing', 'a', 'an', 'the', 'and', 'but', 'if', 'or', 'because', 'as', 'until', 'while', 'of', 'at', 'by', 'for', 'with', 'about', 'against', 'between', 'into', 'through', 'during', 'before', 'after', 'above', 'below', 'to', 'from', 'up', 'down', 'in', 'out', 'on', 'off', 'over', 'under', 'again', 'further', 'then', 'once', 'here', 'there', 'when', 'where', 'why', 'how', 'all', 'any', 'both', 'each', 'few', 'more', 'most', 'other', 'some', 'such', 'no', 'nor', 'not', 'only', 'own', 'same', 'so', 'than', 'too', 'very', 's', 't', 'can', 'will', 'just', 'don', \"don't\", 'should', \"should've\", 'now', 'd', 'll', 'm', 'o', 're', 've', 'y', 'ain', 'aren', \"aren't\", 'couldn', \"couldn't\", 'didn', \"didn't\", 'doesn', \"doesn't\", 'hadn', \"hadn't\", 'hasn', \"hasn't\", 'haven', \"haven't\", 'isn', \"isn't\", 'ma', 'mightn', \"mightn't\", 'mustn', \"mustn't\", 'needn', \"needn't\", 'shan', \"shan't\", 'shouldn', \"shouldn't\", 'wasn', \"wasn't\", 'weren', \"weren't\", 'won', \"won't\", 'wouldn', \"wouldn't\"]\n"
     ]
    }
   ],
   "source": [
    "print('불용어 개수 :', len(stopwords.words('english') ))\n",
    "print(stopwords.words('english'))"
   ]
  },
  {
   "cell_type": "code",
   "execution_count": 10,
   "id": "ca92a7f9",
   "metadata": {},
   "outputs": [],
   "source": [
    "# 데이터 전처리 함수\n",
    "def preprocess_sentence(sentence, remove_stopwords=True):\n",
    "    sentence = sentence.lower() # 텍스트 소문자화\n",
    "    sentence = BeautifulSoup(sentence, \"lxml\").text # <br />, <a href = ...> 등의 html 태그 제거\n",
    "    sentence = re.sub(r'\\([^)]*\\)', '', sentence) # 괄호로 닫힌 문자열 (...) 제거 Ex) my husband (and myself!) for => my husband for\n",
    "    sentence = re.sub('\"','', sentence) # 쌍따옴표 \" 제거\n",
    "    sentence = ' '.join([contractions[t] if t in contractions else t for t in sentence.split(\" \")]) # 약어 정규화\n",
    "    sentence = re.sub(r\"'s\\b\",\"\", sentence) # 소유격 제거. Ex) roland's -> roland\n",
    "    sentence = re.sub(\"[^a-zA-Z]\", \" \", sentence) # 영어 외 문자(숫자, 특수문자 등) 공백으로 변환\n",
    "    sentence = re.sub('[m]{2,}', 'mm', sentence) # m이 3개 이상이면 2개로 변경. Ex) ummmmmmm yeah -> umm yeah\n",
    "    \n",
    "    # 불용어 제거 (Text)\n",
    "    if remove_stopwords:\n",
    "        tokens = ' '.join(word for word in sentence.split() if not word in stopwords.words('english') if len(word) > 1)\n",
    "    # 불용어 미제거 (Summary)\n",
    "    else:\n",
    "        tokens = ' '.join(word for word in sentence.split() if len(word) > 1)\n",
    "    return tokens"
   ]
  },
  {
   "cell_type": "code",
   "execution_count": 11,
   "id": "3ff77f74",
   "metadata": {
    "scrolled": true
   },
   "outputs": [
    {
     "name": "stdout",
     "output_type": "stream",
     "text": [
      "text 전처리 후 결과:  ['saurav kant alumnus upgrad iiit pg program machine learning artificial intelligence sr systems engineer infosys almost years work experience program upgrad degree career support helped transition data scientist tech mahindra salary hike upgrad online power learning powered lakh careers', 'kunal shah credit card bill payment platform cred gave users chance win free food swiggy one year pranav kaushik delhi techie bagged reward spending cred coins users get one cred coin per rupee bill paid used avail rewards brands like ixigo bookmyshow ubereats cult fit', 'new zealand defeated india wickets fourth odi hamilton thursday win first match five match odi series india lost international match rohit sharma captaincy consecutive victories dating back march match witnessed india getting seventh lowest total odi cricket history', 'aegon life iterm insurance plan customers enjoy tax benefits premiums paid save taxes plan provides life cover age years also customers options insure critical illnesses disability accidental death benefit rider life cover age years', 'speaking sexual harassment allegations rajkumar hirani sonam kapoor said known hirani many years true metoo movement get derailed metoo movement always believe woman case need reserve judgment added hirani accused assistant worked sanju']\n"
     ]
    }
   ],
   "source": [
    "clean_text = []\n",
    "# 전체 Text 데이터에 대한 전처리 : 10분 이상 시간이 걸릴 수 있습니다. \n",
    "for s in data['text']:\n",
    "    clean_text.append(preprocess_sentence(s))\n",
    "\n",
    "# 전처리 후 출력\n",
    "print(\"text 전처리 후 결과: \", clean_text[:5])"
   ]
  },
  {
   "cell_type": "code",
   "execution_count": 12,
   "id": "fd7d5908",
   "metadata": {
    "scrolled": false
   },
   "outputs": [
    {
     "data": {
      "text/plain": [
       "77692    Wouldn't have made 'Ae Dil Hai Mushkil' withou...\n",
       "47274    Bitcoin miner in New York interferes with mobi...\n",
       "22209    Family of baby born in note ban line to flag o...\n",
       "42597    Balesh Sharma named CEO of Vodafone-Idea India...\n",
       "34165    Apple's Watch Series 3 with LTE to launch in I...\n",
       "Name: headlines, dtype: object"
      ]
     },
     "execution_count": 12,
     "metadata": {},
     "output_type": "execute_result"
    }
   ],
   "source": [
    "data['headlines'].sample(5)"
   ]
  },
  {
   "cell_type": "code",
   "execution_count": 13,
   "id": "943dbb5b",
   "metadata": {},
   "outputs": [
    {
     "data": {
      "text/plain": [
       "headlines    Female gang drugged, filmed me to extort Ã¢ÂÂ...\n",
       "text         BJP MP KC Patel has claimed that he was drugge...\n",
       "Name: 90938, dtype: object"
      ]
     },
     "execution_count": 13,
     "metadata": {},
     "output_type": "execute_result"
    }
   ],
   "source": [
    "data.loc[90938]"
   ]
  },
  {
   "cell_type": "markdown",
   "id": "e104384c",
   "metadata": {},
   "source": [
    "### 데이터 전처리"
   ]
  },
  {
   "cell_type": "code",
   "execution_count": 14,
   "id": "4e755563",
   "metadata": {},
   "outputs": [
    {
     "name": "stdout",
     "output_type": "stream",
     "text": [
      "headlines 전처리 후 결과:  ['upgrad learner switches to career in ml al with salary hike', 'delhi techie wins free food from swiggy for one year on cred', 'new zealand end rohit sharma led india match winning streak', 'aegon life iterm insurance plan helps customers save tax', 'have known hirani for yrs what if metoo claims are not true sonam']\n"
     ]
    }
   ],
   "source": [
    "clean_headlines = []\n",
    "# 전체 Summary 데이터에 대한 전처리 : 5분 이상 시간이 걸릴 수 있습니다. \n",
    "for s in data['headlines']:\n",
    "    clean_headlines.append(preprocess_sentence(s, False))\n",
    "\n",
    "print(\"headlines 전처리 후 결과: \", clean_headlines[:5])"
   ]
  },
  {
   "cell_type": "code",
   "execution_count": 15,
   "id": "565f756d",
   "metadata": {},
   "outputs": [],
   "source": [
    "data['text'] = clean_text\n",
    "data['headlines'] = clean_headlines\n",
    "\n",
    "# 빈 값을 Null 값으로 변환\n",
    "data.replace('', np.nan, inplace=True)"
   ]
  },
  {
   "cell_type": "code",
   "execution_count": 16,
   "id": "8919e761",
   "metadata": {},
   "outputs": [
    {
     "data": {
      "text/plain": [
       "headlines    0\n",
       "text         0\n",
       "dtype: int64"
      ]
     },
     "execution_count": 16,
     "metadata": {},
     "output_type": "execute_result"
    }
   ],
   "source": [
    "data.isnull().sum()"
   ]
  },
  {
   "cell_type": "code",
   "execution_count": 17,
   "id": "55fdaed5",
   "metadata": {},
   "outputs": [
    {
     "name": "stdout",
     "output_type": "stream",
     "text": [
      "전체 샘플수 : 98360\n"
     ]
    }
   ],
   "source": [
    "print('전체 샘플수 :', (len(data)))"
   ]
  },
  {
   "cell_type": "markdown",
   "id": "b5818dad",
   "metadata": {},
   "source": [
    "### 데이터 문장 최대 길이 통일하기"
   ]
  },
  {
   "cell_type": "code",
   "execution_count": 19,
   "id": "f88dd550",
   "metadata": {},
   "outputs": [
    {
     "name": "stdout",
     "output_type": "stream",
     "text": [
      "텍스트의 최소 길이 : 1\n",
      "텍스트의 최대 길이 : 60\n",
      "텍스트의 평균 길이 : 35.09968483123221\n",
      "요약의 최소 길이 : 1\n",
      "요약의 최대 길이 : 16\n",
      "요약의 평균 길이 : 9.299532330215534\n"
     ]
    },
    {
     "data": {
      "image/png": "[encoded data removed]",
      "text/plain": [
       "<Figure size 432x288 with 2 Axes>"
      ]
     },
     "metadata": {
      "needs_background": "light"
     },
     "output_type": "display_data"
    },
    {
     "data": {
      "image/png": "[encoded data removed]",
      "text/plain": [
       "<Figure size 432x288 with 1 Axes>"
      ]
     },
     "metadata": {
      "needs_background": "light"
     },
     "output_type": "display_data"
    },
    {
     "data": {
      "image/png": "[encoded data removed]",
      "text/plain": [
       "<Figure size 432x288 with 1 Axes>"
      ]
     },
     "metadata": {
      "needs_background": "light"
     },
     "output_type": "display_data"
    }
   ],
   "source": [
    "text_len = [len(s.split()) for s in data['text']]\n",
    "headlines_len = [len(s.split()) for s in data['headlines']]\n",
    "\n",
    "print('텍스트의 최소 길이 : {}'.format(np.min(text_len)))\n",
    "print('텍스트의 최대 길이 : {}'.format(np.max(text_len)))\n",
    "print('텍스트의 평균 길이 : {}'.format(np.mean(text_len)))\n",
    "print('요약의 최소 길이 : {}'.format(np.min(headlines_len)))\n",
    "print('요약의 최대 길이 : {}'.format(np.max(headlines_len)))\n",
    "print('요약의 평균 길이 : {}'.format(np.mean(headlines_len)))\n",
    "\n",
    "plt.subplot(1,2,1)\n",
    "plt.boxplot(text_len)\n",
    "plt.title('Text')\n",
    "plt.subplot(1,2,2)\n",
    "plt.boxplot(headlines_len)\n",
    "plt.title('headlines')\n",
    "plt.tight_layout()\n",
    "plt.show()\n",
    "\n",
    "plt.title('text')\n",
    "plt.hist(text_len, bins = 40)\n",
    "plt.xlabel('length of samples')\n",
    "plt.ylabel('number of samples')\n",
    "plt.show()\n",
    "\n",
    "plt.title('headlines')\n",
    "plt.hist(headlines_len, bins = 40)\n",
    "plt.xlabel('length of samples')\n",
    "plt.ylabel('number of samples')\n",
    "plt.show()"
   ]
  },
  {
   "cell_type": "code",
   "execution_count": 20,
   "id": "20c887b9",
   "metadata": {
    "scrolled": false
   },
   "outputs": [
    {
     "name": "stdout",
     "output_type": "stream",
     "text": [
      "text의 표준편차:  3.7993861876499637\n",
      "text의 최대길이:  42.69845720653214\n"
     ]
    }
   ],
   "source": [
    "print('text의 표준편차: ',np.std(text_len))\n",
    "text_max = np.mean(text_len) + 2 * np.std(text_len)\n",
    "print('text의 최대길이: ',text_max)"
   ]
  },
  {
   "cell_type": "code",
   "execution_count": 21,
   "id": "c77c5fc9",
   "metadata": {},
   "outputs": [
    {
     "name": "stdout",
     "output_type": "stream",
     "text": [
      "headlines의 표준편차:  1.3900944321771693\n",
      "headlines의 최대길이:  12.079721194569872\n"
     ]
    }
   ],
   "source": [
    "print('headlines의 표준편차: ',np.std(headlines_len))\n",
    "headlines_max = np.mean(headlines_len) + 2 * np.std(headlines_len)\n",
    "print('headlines의 최대길이: ',headlines_max)"
   ]
  },
  {
   "cell_type": "code",
   "execution_count": 22,
   "id": "89822ecc",
   "metadata": {},
   "outputs": [],
   "source": [
    "text_max_len = 43\n",
    "headlines_max_len = 12"
   ]
  },
  {
   "cell_type": "code",
   "execution_count": 23,
   "id": "d7e25632",
   "metadata": {},
   "outputs": [],
   "source": [
    "def below_threshold_len(max_len, nested_list):\n",
    "  cnt = 0\n",
    "  for s in nested_list:\n",
    "    if(len(s.split()) <= max_len):\n",
    "        cnt = cnt + 1\n",
    "  print('전체 샘플 중 길이가 %s 이하인 샘플의 비율: %s'%(max_len, (cnt / len(nested_list))))"
   ]
  },
  {
   "cell_type": "code",
   "execution_count": 24,
   "id": "c6021d5a",
   "metadata": {
    "scrolled": true
   },
   "outputs": [
    {
     "name": "stdout",
     "output_type": "stream",
     "text": [
      "전체 샘플 중 길이가 43 이하인 샘플의 비율: 0.9871797478649857\n",
      "전체 샘플 중 길이가 12 이하인 샘플의 비율: 0.9880337535583571\n"
     ]
    }
   ],
   "source": [
    "below_threshold_len(text_max_len, data['text'])\n",
    "below_threshold_len(headlines_max_len, data['headlines'])"
   ]
  },
  {
   "cell_type": "markdown",
   "id": "fed6f092",
   "metadata": {},
   "source": [
    "### 데이터 길이보다 길면 제외"
   ]
  },
  {
   "cell_type": "code",
   "execution_count": 25,
   "id": "79ac77c8",
   "metadata": {},
   "outputs": [
    {
     "name": "stdout",
     "output_type": "stream",
     "text": [
      "전체 샘플수 : 95935\n"
     ]
    }
   ],
   "source": [
    "data = data[data['text'].apply(lambda x: len(x.split()) <= text_max_len)]\n",
    "data = data[data['headlines'].apply(lambda x: len(x.split()) <= headlines_max_len)]\n",
    "print('전체 샘플수 :', (len(data)))"
   ]
  },
  {
   "cell_type": "markdown",
   "id": "d203a9b6",
   "metadata": {},
   "source": [
    "# 3. 시작과 종료 토큰 추가하기"
   ]
  },
  {
   "cell_type": "code",
   "execution_count": 26,
   "id": "2f0f8bf4",
   "metadata": {},
   "outputs": [
    {
     "data": {
      "text/html": [
       "<div>\n",
       "<style scoped>\n",
       "    .dataframe tbody tr th:only-of-type {\n",
       "        vertical-align: middle;\n",
       "    }\n",
       "\n",
       "    .dataframe tbody tr th {\n",
       "        vertical-align: top;\n",
       "    }\n",
       "\n",
       "    .dataframe thead th {\n",
       "        text-align: right;\n",
       "    }\n",
       "</style>\n",
       "<table border=\"1\" class=\"dataframe\">\n",
       "  <thead>\n",
       "    <tr style=\"text-align: right;\">\n",
       "      <th></th>\n",
       "      <th>headlines</th>\n",
       "      <th>text</th>\n",
       "      <th>decoder_input</th>\n",
       "      <th>decoder_target</th>\n",
       "    </tr>\n",
       "  </thead>\n",
       "  <tbody>\n",
       "    <tr>\n",
       "      <th>0</th>\n",
       "      <td>upgrad learner switches to career in ml al wit...</td>\n",
       "      <td>saurav kant alumnus upgrad iiit pg program mac...</td>\n",
       "      <td>sostoken upgrad learner switches to career in ...</td>\n",
       "      <td>upgrad learner switches to career in ml al wit...</td>\n",
       "    </tr>\n",
       "    <tr>\n",
       "      <th>2</th>\n",
       "      <td>new zealand end rohit sharma led india match w...</td>\n",
       "      <td>new zealand defeated india wickets fourth odi ...</td>\n",
       "      <td>sostoken new zealand end rohit sharma led indi...</td>\n",
       "      <td>new zealand end rohit sharma led india match w...</td>\n",
       "    </tr>\n",
       "    <tr>\n",
       "      <th>3</th>\n",
       "      <td>aegon life iterm insurance plan helps customer...</td>\n",
       "      <td>aegon life iterm insurance plan customers enjo...</td>\n",
       "      <td>sostoken aegon life iterm insurance plan helps...</td>\n",
       "      <td>aegon life iterm insurance plan helps customer...</td>\n",
       "    </tr>\n",
       "    <tr>\n",
       "      <th>5</th>\n",
       "      <td>rahat fateh ali khan denies getting notice for...</td>\n",
       "      <td>pakistani singer rahat fateh ali khan denied r...</td>\n",
       "      <td>sostoken rahat fateh ali khan denies getting n...</td>\n",
       "      <td>rahat fateh ali khan denies getting notice for...</td>\n",
       "    </tr>\n",
       "    <tr>\n",
       "      <th>6</th>\n",
       "      <td>india get all out for their lowest odi total i...</td>\n",
       "      <td>india recorded lowest odi total new zealand ge...</td>\n",
       "      <td>sostoken india get all out for their lowest od...</td>\n",
       "      <td>india get all out for their lowest odi total i...</td>\n",
       "    </tr>\n",
       "  </tbody>\n",
       "</table>\n",
       "</div>"
      ],
      "text/plain": [
       "                                           headlines  \\\n",
       "0  upgrad learner switches to career in ml al wit...   \n",
       "2  new zealand end rohit sharma led india match w...   \n",
       "3  aegon life iterm insurance plan helps customer...   \n",
       "5  rahat fateh ali khan denies getting notice for...   \n",
       "6  india get all out for their lowest odi total i...   \n",
       "\n",
       "                                                text  \\\n",
       "0  saurav kant alumnus upgrad iiit pg program mac...   \n",
       "2  new zealand defeated india wickets fourth odi ...   \n",
       "3  aegon life iterm insurance plan customers enjo...   \n",
       "5  pakistani singer rahat fateh ali khan denied r...   \n",
       "6  india recorded lowest odi total new zealand ge...   \n",
       "\n",
       "                                       decoder_input  \\\n",
       "0  sostoken upgrad learner switches to career in ...   \n",
       "2  sostoken new zealand end rohit sharma led indi...   \n",
       "3  sostoken aegon life iterm insurance plan helps...   \n",
       "5  sostoken rahat fateh ali khan denies getting n...   \n",
       "6  sostoken india get all out for their lowest od...   \n",
       "\n",
       "                                      decoder_target  \n",
       "0  upgrad learner switches to career in ml al wit...  \n",
       "2  new zealand end rohit sharma led india match w...  \n",
       "3  aegon life iterm insurance plan helps customer...  \n",
       "5  rahat fateh ali khan denies getting notice for...  \n",
       "6  india get all out for their lowest odi total i...  "
      ]
     },
     "execution_count": 26,
     "metadata": {},
     "output_type": "execute_result"
    }
   ],
   "source": [
    "data['decoder_input'] = data['headlines'].apply(lambda x : 'sostoken '+ x)\n",
    "data['decoder_target'] = data['headlines'].apply(lambda x : x + ' eostoken')\n",
    "data.head()"
   ]
  },
  {
   "cell_type": "code",
   "execution_count": 27,
   "id": "0eff5394",
   "metadata": {},
   "outputs": [],
   "source": [
    "encoder_input = np.array(data['text']) # 인코더의 입력\n",
    "decoder_input = np.array(data['decoder_input']) # 디코더의 입력\n",
    "decoder_target = np.array(data['decoder_target']) # 디코더의 레이블"
   ]
  },
  {
   "cell_type": "code",
   "execution_count": 28,
   "id": "e7062ca9",
   "metadata": {},
   "outputs": [
    {
     "name": "stdout",
     "output_type": "stream",
     "text": [
      "[ 1759 75367 51366 ...  1914 85902 46730]\n"
     ]
    }
   ],
   "source": [
    "indices = np.arange(encoder_input.shape[0])\n",
    "np.random.shuffle(indices)\n",
    "print(indices)"
   ]
  },
  {
   "cell_type": "code",
   "execution_count": 29,
   "id": "42e7905a",
   "metadata": {},
   "outputs": [],
   "source": [
    "encoder_input = encoder_input[indices]\n",
    "decoder_input = decoder_input[indices]\n",
    "decoder_target = decoder_target[indices]"
   ]
  },
  {
   "cell_type": "code",
   "execution_count": 30,
   "id": "74790286",
   "metadata": {},
   "outputs": [
    {
     "name": "stdout",
     "output_type": "stream",
     "text": [
      "테스트 데이터의 수 : 19187\n"
     ]
    }
   ],
   "source": [
    "n_of_val = int(len(encoder_input)*0.2)\n",
    "print('테스트 데이터의 수 :', n_of_val)"
   ]
  },
  {
   "cell_type": "code",
   "execution_count": 31,
   "id": "b3b602ae",
   "metadata": {
    "scrolled": true
   },
   "outputs": [
    {
     "name": "stdout",
     "output_type": "stream",
     "text": [
      "훈련 데이터의 개수 : 76748\n",
      "훈련 레이블의 개수 : 76748\n",
      "테스트 데이터의 개수 : 19187\n",
      "테스트 레이블의 개수 : 19187\n"
     ]
    }
   ],
   "source": [
    "encoder_input_train = encoder_input[:-n_of_val]\n",
    "decoder_input_train = decoder_input[:-n_of_val]\n",
    "decoder_target_train = decoder_target[:-n_of_val]\n",
    "\n",
    "encoder_input_test = encoder_input[-n_of_val:]\n",
    "decoder_input_test = decoder_input[-n_of_val:]\n",
    "decoder_target_test = decoder_target[-n_of_val:]\n",
    "\n",
    "print('훈련 데이터의 개수 :', len(encoder_input_train))\n",
    "print('훈련 레이블의 개수 :', len(decoder_input_train))\n",
    "print('테스트 데이터의 개수 :', len(encoder_input_test))\n",
    "print('테스트 레이블의 개수 :', len(decoder_input_test))"
   ]
  },
  {
   "cell_type": "markdown",
   "id": "2314a2a4",
   "metadata": {},
   "source": [
    "# 4. 단어 집합 만들기 "
   ]
  },
  {
   "cell_type": "markdown",
   "id": "44fa583a",
   "metadata": {},
   "source": [
    "### 훈련 데이터로 단어 집합 만들기 "
   ]
  },
  {
   "cell_type": "code",
   "execution_count": 32,
   "id": "8e7f6fcc",
   "metadata": {},
   "outputs": [],
   "source": [
    "src_tokenizer = Tokenizer() # 토크나이저 정의\n",
    "src_tokenizer.fit_on_texts(encoder_input_train) # 입력된 데이터로부터 단어 집합 생성"
   ]
  },
  {
   "cell_type": "code",
   "execution_count": 33,
   "id": "72c88e62",
   "metadata": {},
   "outputs": [
    {
     "name": "stdout",
     "output_type": "stream",
     "text": [
      "단어 집합(vocabulary)의 크기 : 68470\n",
      "등장 빈도가 6번 이하인 희귀 단어의 수: 46667\n",
      "단어 집합에서 희귀 단어를 제외시킬 경우의 단어 집합의 크기 21803\n",
      "단어 집합에서 희귀 단어의 비율: 68.15685701767197\n",
      "전체 등장 빈도에서 희귀 단어 등장 빈도 비율: 3.5399017908658728\n"
     ]
    }
   ],
   "source": [
    "threshold = 7\n",
    "total_cnt = len(src_tokenizer.word_index) # 단어의 수\n",
    "rare_cnt = 0 # 등장 빈도수가 threshold보다 작은 단어의 개수를 카운트\n",
    "total_freq = 0 # 훈련 데이터의 전체 단어 빈도수 총 합\n",
    "rare_freq = 0 # 등장 빈도수가 threshold보다 작은 단어의 등장 빈도수의 총 합\n",
    "\n",
    "# 단어와 빈도수의 쌍(pair)을 key와 value로 받는다.\n",
    "for key, value in src_tokenizer.word_counts.items():\n",
    "    total_freq = total_freq + value\n",
    "\n",
    "    # 단어의 등장 빈도수가 threshold보다 작으면\n",
    "    if(value < threshold):\n",
    "        rare_cnt = rare_cnt + 1\n",
    "        rare_freq = rare_freq + value\n",
    "\n",
    "print('단어 집합(vocabulary)의 크기 :', total_cnt)\n",
    "print('등장 빈도가 %s번 이하인 희귀 단어의 수: %s'%(threshold - 1, rare_cnt))\n",
    "print('단어 집합에서 희귀 단어를 제외시킬 경우의 단어 집합의 크기 %s'%(total_cnt - rare_cnt))\n",
    "print(\"단어 집합에서 희귀 단어의 비율:\", (rare_cnt / total_cnt)*100)\n",
    "print(\"전체 등장 빈도에서 희귀 단어 등장 빈도 비율:\", (rare_freq / total_freq)*100)"
   ]
  },
  {
   "cell_type": "code",
   "execution_count": 34,
   "id": "1f5d4f56",
   "metadata": {},
   "outputs": [],
   "source": [
    "src_vocab = 21000\n",
    "src_tokenizer = Tokenizer(num_words=src_vocab) # 단어 집합의 크기를 20,000으로 제한\n",
    "src_tokenizer.fit_on_texts(encoder_input_train) # 단어 집합 재생성"
   ]
  },
  {
   "cell_type": "code",
   "execution_count": 35,
   "id": "dcabd25f",
   "metadata": {
    "scrolled": true
   },
   "outputs": [
    {
     "name": "stdout",
     "output_type": "stream",
     "text": [
      "[[50, 1894, 1259, 4148, 116, 659, 949, 239, 162, 11699, 902, 405, 72, 558, 1083, 122, 30, 405, 72, 230, 3218, 949, 239, 162, 22, 941, 1259, 1311, 162, 1862, 1259, 292, 162, 97, 708, 1409, 230, 954, 949, 239, 30, 1], [570, 1, 17215, 529, 1470, 1053, 2, 1789, 85, 1, 1921, 327, 4783, 845, 3932, 1053, 278, 54, 529, 416, 541, 2, 22, 61, 2, 490, 1332, 739, 2492, 570, 386, 17216, 1053], [401, 840, 2216, 86, 71, 9, 2926, 2476, 55, 4597, 4352, 1014, 44, 304, 69, 38, 352, 1685, 24, 699, 625, 1394, 466, 38, 9, 3201, 6778, 223, 304, 4597, 4352]]\n"
     ]
    }
   ],
   "source": [
    "# 텍스트 시퀀스를 정수 시퀀스로 변환\n",
    "encoder_input_train = src_tokenizer.texts_to_sequences(encoder_input_train) \n",
    "encoder_input_test = src_tokenizer.texts_to_sequences(encoder_input_test)\n",
    "\n",
    "# 잘 진행되었는지 샘플 출력\n",
    "print(encoder_input_train[:3])"
   ]
  },
  {
   "cell_type": "markdown",
   "id": "3d13b51e",
   "metadata": {},
   "source": [
    "### 시험 데이터로 단어 집합 만들기"
   ]
  },
  {
   "cell_type": "code",
   "execution_count": 36,
   "id": "b5e6c57f",
   "metadata": {},
   "outputs": [],
   "source": [
    "tar_tokenizer = Tokenizer()\n",
    "tar_tokenizer.fit_on_texts(decoder_input_train)"
   ]
  },
  {
   "cell_type": "code",
   "execution_count": 37,
   "id": "08d57ce3",
   "metadata": {},
   "outputs": [
    {
     "name": "stdout",
     "output_type": "stream",
     "text": [
      "단어 집합(vocabulary)의 크기 : 29685\n",
      "등장 빈도가 5번 이하인 희귀 단어의 수: 19395\n",
      "단어 집합에서 희귀 단어를 제외시킬 경우의 단어 집합의 크기 10290\n",
      "단어 집합에서 희귀 단어의 비율: 65.33602829711975\n",
      "전체 등장 빈도에서 희귀 단어 등장 빈도 비율: 4.718929215426393\n"
     ]
    }
   ],
   "source": [
    "threshold = 6\n",
    "total_cnt = len(tar_tokenizer.word_index) # 단어의 수\n",
    "rare_cnt = 0 # 등장 빈도수가 threshold보다 작은 단어의 개수를 카운트\n",
    "total_freq = 0 # 훈련 데이터의 전체 단어 빈도수 총 합\n",
    "rare_freq = 0 # 등장 빈도수가 threshold보다 작은 단어의 등장 빈도수의 총 합\n",
    "\n",
    "# 단어와 빈도수의 쌍(pair)을 key와 value로 받는다.\n",
    "for key, value in tar_tokenizer.word_counts.items():\n",
    "    total_freq = total_freq + value\n",
    "\n",
    "    # 단어의 등장 빈도수가 threshold보다 작으면\n",
    "    if(value < threshold):\n",
    "        rare_cnt = rare_cnt + 1\n",
    "        rare_freq = rare_freq + value\n",
    "\n",
    "print('단어 집합(vocabulary)의 크기 :', total_cnt)\n",
    "print('등장 빈도가 %s번 이하인 희귀 단어의 수: %s'%(threshold - 1, rare_cnt))\n",
    "print('단어 집합에서 희귀 단어를 제외시킬 경우의 단어 집합의 크기 %s'%(total_cnt - rare_cnt))\n",
    "print(\"단어 집합에서 희귀 단어의 비율:\", (rare_cnt / total_cnt)*100)\n",
    "print(\"전체 등장 빈도에서 희귀 단어 등장 빈도 비율:\", (rare_freq / total_freq)*100)"
   ]
  },
  {
   "cell_type": "code",
   "execution_count": 38,
   "id": "5190cf25",
   "metadata": {},
   "outputs": [
    {
     "name": "stdout",
     "output_type": "stream",
     "text": [
      "input\n",
      "input  [[1, 1248, 3, 466, 3, 543, 557, 204, 11, 714, 58], [1, 45, 3, 487, 1719, 1621, 3, 8, 266], [1, 55, 424, 805, 5121, 2401, 13, 1691, 140], [1, 6720, 39, 141, 3, 255, 349, 338, 1647, 766], [1, 10, 8707, 3, 118, 367, 116, 82, 628, 15]]\n",
      "target\n",
      "decoder  [[1248, 3, 466, 3, 543, 557, 204, 11, 714, 58, 2], [45, 3, 487, 1719, 1621, 3, 8, 266, 2], [55, 424, 805, 5121, 2401, 13, 1691, 140, 2], [6720, 39, 141, 3, 255, 349, 338, 1647, 766, 2], [10, 8707, 3, 118, 367, 116, 82, 628, 15, 2]]\n"
     ]
    }
   ],
   "source": [
    "tar_vocab = 10000\n",
    "tar_tokenizer = Tokenizer(num_words=tar_vocab) \n",
    "tar_tokenizer.fit_on_texts(decoder_input_train)\n",
    "tar_tokenizer.fit_on_texts(decoder_target_train)\n",
    "\n",
    "# 텍스트 시퀀스를 정수 시퀀스로 변환\n",
    "decoder_input_train = tar_tokenizer.texts_to_sequences(decoder_input_train) \n",
    "decoder_target_train = tar_tokenizer.texts_to_sequences(decoder_target_train)\n",
    "decoder_input_test = tar_tokenizer.texts_to_sequences(decoder_input_test)\n",
    "decoder_target_test = tar_tokenizer.texts_to_sequences(decoder_target_test)\n",
    "\n",
    "# 잘 변환되었는지 확인\n",
    "print('input')\n",
    "print('input ',decoder_input_train[:5])\n",
    "print('target')\n",
    "print('decoder ',decoder_target_train[:5])"
   ]
  },
  {
   "cell_type": "code",
   "execution_count": 40,
   "id": "a10243a9",
   "metadata": {},
   "outputs": [
    {
     "name": "stdout",
     "output_type": "stream",
     "text": [
      "삭제할 훈련 데이터의 개수 : 0\n",
      "삭제할 테스트 데이터의 개수 : 0\n",
      "훈련 데이터의 개수 : 76748\n",
      "훈련 레이블의 개수 : 76748\n",
      "테스트 데이터의 개수 : 19187\n",
      "테스트 레이블의 개수 : 19187\n"
     ]
    }
   ],
   "source": [
    "drop_train = [index for index, sentence in enumerate(decoder_input_train) if len(sentence) == 1]\n",
    "drop_test = [index for index, sentence in enumerate(decoder_input_test) if len(sentence) == 1]\n",
    "\n",
    "print('삭제할 훈련 데이터의 개수 :', len(drop_train))\n",
    "print('삭제할 테스트 데이터의 개수 :', len(drop_test))\n",
    "\n",
    "encoder_input_train = [sentence for index, sentence in enumerate(encoder_input_train) if index not in drop_train]\n",
    "decoder_input_train = [sentence for index, sentence in enumerate(decoder_input_train) if index not in drop_train]\n",
    "decoder_target_train = [sentence for index, sentence in enumerate(decoder_target_train) if index not in drop_train]\n",
    "\n",
    "encoder_input_test = [sentence for index, sentence in enumerate(encoder_input_test) if index not in drop_test]\n",
    "decoder_input_test = [sentence for index, sentence in enumerate(decoder_input_test) if index not in drop_test]\n",
    "decoder_target_test = [sentence for index, sentence in enumerate(decoder_target_test) if index not in drop_test]\n",
    "\n",
    "print('훈련 데이터의 개수 :', len(encoder_input_train))\n",
    "print('훈련 레이블의 개수 :', len(decoder_input_train))\n",
    "print('테스트 데이터의 개수 :', len(encoder_input_test))\n",
    "print('테스트 레이블의 개수 :', len(decoder_input_test))"
   ]
  },
  {
   "cell_type": "markdown",
   "id": "fff20824",
   "metadata": {},
   "source": [
    "### 패딩하기"
   ]
  },
  {
   "cell_type": "code",
   "execution_count": 41,
   "id": "56319e40",
   "metadata": {},
   "outputs": [],
   "source": [
    "encoder_input_train = pad_sequences(encoder_input_train, maxlen=text_max_len, padding='post')\n",
    "encoder_input_test = pad_sequences(encoder_input_test, maxlen=text_max_len, padding='post')\n",
    "decoder_input_train = pad_sequences(decoder_input_train, maxlen=headlines_max_len, padding='post')\n",
    "decoder_target_train = pad_sequences(decoder_target_train, maxlen=headlines_max_len, padding='post')\n",
    "decoder_input_test = pad_sequences(decoder_input_test, maxlen=headlines_max_len, padding='post')\n",
    "decoder_target_test = pad_sequences(decoder_target_test, maxlen=headlines_max_len, padding='post')"
   ]
  },
  {
   "cell_type": "markdown",
   "id": "fb263931",
   "metadata": {},
   "source": [
    "# 5. 모델 설계"
   ]
  },
  {
   "cell_type": "code",
   "execution_count": 42,
   "id": "f26d3dd1",
   "metadata": {},
   "outputs": [
    {
     "name": "stdout",
     "output_type": "stream",
     "text": [
      "WARNING:tensorflow:Layer lstm will not use cuDNN kernels since it doesn't meet the criteria. It will use a generic GPU kernel as fallback when running on GPU.\n",
      "WARNING:tensorflow:Layer lstm_1 will not use cuDNN kernels since it doesn't meet the criteria. It will use a generic GPU kernel as fallback when running on GPU.\n",
      "WARNING:tensorflow:Layer lstm_2 will not use cuDNN kernels since it doesn't meet the criteria. It will use a generic GPU kernel as fallback when running on GPU.\n"
     ]
    }
   ],
   "source": [
    "from tensorflow.keras.layers import Input, LSTM, Embedding, Dense, Concatenate, TimeDistributed\n",
    "from tensorflow.keras.models import Model\n",
    "from tensorflow.keras.callbacks import EarlyStopping, ModelCheckpoint\n",
    "\n",
    "\n",
    "# 인코더 설계 시작\n",
    "embedding_dim = 128\n",
    "hidden_size = 256\n",
    "\n",
    "# 인코더\n",
    "encoder_inputs = Input(shape=(text_max_len,))\n",
    "\n",
    "# 인코더의 임베딩 층\n",
    "enc_emb = Embedding(src_vocab, embedding_dim)(encoder_inputs)\n",
    "\n",
    "# 인코더의 LSTM 1\n",
    "encoder_lstm1 = LSTM(hidden_size, return_sequences=True, return_state=True ,dropout = 0.4, recurrent_dropout = 0.4)\n",
    "encoder_output1, state_h1, state_c1 = encoder_lstm1(enc_emb)\n",
    "\n",
    "# 인코더의 LSTM 2\n",
    "encoder_lstm2 = LSTM(hidden_size, return_sequences=True, return_state=True, dropout=0.4, recurrent_dropout=0.4)\n",
    "encoder_output2, state_h2, state_c2 = encoder_lstm2(encoder_output1)\n",
    "\n",
    "# 인코더의 LSTM 3\n",
    "encoder_lstm3 = LSTM(hidden_size, return_state=True, return_sequences=True, dropout=0.4, recurrent_dropout=0.4)\n",
    "encoder_outputs, state_h, state_c= encoder_lstm3(encoder_output2)"
   ]
  },
  {
   "cell_type": "code",
   "execution_count": 43,
   "id": "0949e49d",
   "metadata": {},
   "outputs": [
    {
     "name": "stdout",
     "output_type": "stream",
     "text": [
      "WARNING:tensorflow:Layer lstm_3 will not use cuDNN kernels since it doesn't meet the criteria. It will use a generic GPU kernel as fallback when running on GPU.\n"
     ]
    }
   ],
   "source": [
    "# 디코더 설계\n",
    "decoder_inputs = Input(shape=(None,))\n",
    "\n",
    "# 디코더의 임베딩 층\n",
    "dec_emb_layer = Embedding(tar_vocab, embedding_dim)\n",
    "dec_emb = dec_emb_layer(decoder_inputs)\n",
    "\n",
    "# 디코더의 LSTM\n",
    "decoder_lstm = LSTM(hidden_size, return_sequences=True, return_state=True, dropout=0.4, recurrent_dropout=0.2)\n",
    "decoder_outputs, _, _ = decoder_lstm(dec_emb, initial_state=[state_h, state_c])"
   ]
  },
  {
   "cell_type": "code",
   "execution_count": 44,
   "id": "660251f8",
   "metadata": {
    "scrolled": false
   },
   "outputs": [
    {
     "name": "stdout",
     "output_type": "stream",
     "text": [
      "Model: \"model\"\n",
      "__________________________________________________________________________________________________\n",
      "Layer (type)                    Output Shape         Param #     Connected to                     \n",
      "==================================================================================================\n",
      "input_1 (InputLayer)            [(None, 43)]         0                                            \n",
      "__________________________________________________________________________________________________\n",
      "embedding (Embedding)           (None, 43, 128)      2688000     input_1[0][0]                    \n",
      "__________________________________________________________________________________________________\n",
      "lstm (LSTM)                     [(None, 43, 256), (N 394240      embedding[0][0]                  \n",
      "__________________________________________________________________________________________________\n",
      "input_2 (InputLayer)            [(None, None)]       0                                            \n",
      "__________________________________________________________________________________________________\n",
      "lstm_1 (LSTM)                   [(None, 43, 256), (N 525312      lstm[0][0]                       \n",
      "__________________________________________________________________________________________________\n",
      "embedding_1 (Embedding)         (None, None, 128)    1280000     input_2[0][0]                    \n",
      "__________________________________________________________________________________________________\n",
      "lstm_2 (LSTM)                   [(None, 43, 256), (N 525312      lstm_1[0][0]                     \n",
      "__________________________________________________________________________________________________\n",
      "lstm_3 (LSTM)                   [(None, None, 256),  394240      embedding_1[0][0]                \n",
      "                                                                 lstm_2[0][1]                     \n",
      "                                                                 lstm_2[0][2]                     \n",
      "__________________________________________________________________________________________________\n",
      "dense (Dense)                   (None, None, 10000)  2570000     lstm_3[0][0]                     \n",
      "==================================================================================================\n",
      "Total params: 8,377,104\n",
      "Trainable params: 8,377,104\n",
      "Non-trainable params: 0\n",
      "__________________________________________________________________________________________________\n"
     ]
    }
   ],
   "source": [
    "# 디코더의 출력층\n",
    "decoder_softmax_layer = Dense(tar_vocab, activation='softmax')\n",
    "decoder_softmax_outputs = decoder_softmax_layer(decoder_outputs) \n",
    "\n",
    "# 모델 정의\n",
    "model = Model([encoder_inputs, decoder_inputs], decoder_softmax_outputs)\n",
    "model.summary()"
   ]
  },
  {
   "cell_type": "markdown",
   "id": "8a9eadd2",
   "metadata": {},
   "source": [
    "### 새로운 신경망 구축 (어텐션 메커니즘을 수행하는 함수를 설계)"
   ]
  },
  {
   "cell_type": "code",
   "execution_count": 45,
   "id": "3cd8426d",
   "metadata": {
    "scrolled": false
   },
   "outputs": [
    {
     "name": "stdout",
     "output_type": "stream",
     "text": [
      "Model: \"model_1\"\n",
      "__________________________________________________________________________________________________\n",
      "Layer (type)                    Output Shape         Param #     Connected to                     \n",
      "==================================================================================================\n",
      "input_1 (InputLayer)            [(None, 43)]         0                                            \n",
      "__________________________________________________________________________________________________\n",
      "embedding (Embedding)           (None, 43, 128)      2688000     input_1[0][0]                    \n",
      "__________________________________________________________________________________________________\n",
      "lstm (LSTM)                     [(None, 43, 256), (N 394240      embedding[0][0]                  \n",
      "__________________________________________________________________________________________________\n",
      "input_2 (InputLayer)            [(None, None)]       0                                            \n",
      "__________________________________________________________________________________________________\n",
      "lstm_1 (LSTM)                   [(None, 43, 256), (N 525312      lstm[0][0]                       \n",
      "__________________________________________________________________________________________________\n",
      "embedding_1 (Embedding)         (None, None, 128)    1280000     input_2[0][0]                    \n",
      "__________________________________________________________________________________________________\n",
      "lstm_2 (LSTM)                   [(None, 43, 256), (N 525312      lstm_1[0][0]                     \n",
      "__________________________________________________________________________________________________\n",
      "lstm_3 (LSTM)                   [(None, None, 256),  394240      embedding_1[0][0]                \n",
      "                                                                 lstm_2[0][1]                     \n",
      "                                                                 lstm_2[0][2]                     \n",
      "__________________________________________________________________________________________________\n",
      "attention_layer (AdditiveAttent (None, None, 256)    256         lstm_3[0][0]                     \n",
      "                                                                 lstm_2[0][0]                     \n",
      "__________________________________________________________________________________________________\n",
      "concat_layer (Concatenate)      (None, None, 512)    0           lstm_3[0][0]                     \n",
      "                                                                 attention_layer[0][0]            \n",
      "__________________________________________________________________________________________________\n",
      "dense_1 (Dense)                 (None, None, 10000)  5130000     concat_layer[0][0]               \n",
      "==================================================================================================\n",
      "Total params: 10,937,360\n",
      "Trainable params: 10,937,360\n",
      "Non-trainable params: 0\n",
      "__________________________________________________________________________________________________\n"
     ]
    }
   ],
   "source": [
    "from tensorflow.keras.layers import AdditiveAttention\n",
    "\n",
    "# 어텐션 층(어텐션 함수)\n",
    "attn_layer = AdditiveAttention(name='attention_layer')\n",
    "\n",
    "# 인코더와 디코더의 모든 time step의 hidden state를 어텐션 층에 전달하고 결과를 리턴\n",
    "attn_out = attn_layer([decoder_outputs, encoder_outputs])\n",
    "\n",
    "\n",
    "# 어텐션의 결과와 디코더의 hidden state들을 연결\n",
    "decoder_concat_input = Concatenate(axis=-1, name='concat_layer')([decoder_outputs, attn_out])\n",
    "\n",
    "# 디코더의 출력층\n",
    "decoder_softmax_layer = Dense(tar_vocab, activation='softmax')\n",
    "decoder_softmax_outputs = decoder_softmax_layer(decoder_concat_input)\n",
    "\n",
    "# 모델 정의\n",
    "model = Model([encoder_inputs, decoder_inputs], decoder_softmax_outputs)\n",
    "model.summary()"
   ]
  },
  {
   "cell_type": "markdown",
   "id": "20f23f10",
   "metadata": {},
   "source": [
    "# 6. 훈련하기"
   ]
  },
  {
   "cell_type": "code",
   "execution_count": 46,
   "id": "5d36b8e8",
   "metadata": {},
   "outputs": [
    {
     "name": "stdout",
     "output_type": "stream",
     "text": [
      "Epoch 1/50\n",
      "300/300 [==============================] - 200s 616ms/step - loss: 5.6304 - val_loss: 5.1996\n",
      "Epoch 2/50\n",
      "300/300 [==============================] - 181s 603ms/step - loss: 5.0636 - val_loss: 4.8152\n",
      "Epoch 3/50\n",
      "300/300 [==============================] - 183s 609ms/step - loss: 4.7018 - val_loss: 4.5394\n",
      "Epoch 4/50\n",
      "300/300 [==============================] - 180s 601ms/step - loss: 4.4394 - val_loss: 4.3384\n",
      "Epoch 5/50\n",
      "300/300 [==============================] - 180s 599ms/step - loss: 4.2423 - val_loss: 4.2184\n",
      "Epoch 6/50\n",
      "300/300 [==============================] - 180s 600ms/step - loss: 4.0775 - val_loss: 4.1264\n",
      "Epoch 7/50\n",
      "300/300 [==============================] - 181s 602ms/step - loss: 3.9348 - val_loss: 4.0223\n",
      "Epoch 8/50\n",
      "300/300 [==============================] - 182s 607ms/step - loss: 3.8089 - val_loss: 3.9489\n",
      "Epoch 9/50\n",
      "300/300 [==============================] - 182s 607ms/step - loss: 3.6977 - val_loss: 3.8853\n",
      "Epoch 10/50\n",
      "300/300 [==============================] - 180s 601ms/step - loss: 3.6032 - val_loss: 3.8407\n",
      "Epoch 11/50\n",
      "300/300 [==============================] - 180s 600ms/step - loss: 3.5166 - val_loss: 3.8009\n",
      "Epoch 12/50\n",
      "300/300 [==============================] - 180s 598ms/step - loss: 3.4382 - val_loss: 3.7656\n",
      "Epoch 13/50\n",
      "300/300 [==============================] - 180s 599ms/step - loss: 3.3657 - val_loss: 3.7417\n",
      "Epoch 14/50\n",
      "300/300 [==============================] - 180s 601ms/step - loss: 3.2967 - val_loss: 3.7121\n",
      "Epoch 15/50\n",
      "300/300 [==============================] - 181s 602ms/step - loss: 3.2365 - val_loss: 3.6887\n",
      "Epoch 16/50\n",
      "300/300 [==============================] - 183s 609ms/step - loss: 3.1825 - val_loss: 3.6747\n",
      "Epoch 17/50\n",
      "300/300 [==============================] - 180s 602ms/step - loss: 3.1283 - val_loss: 3.6626\n",
      "Epoch 18/50\n",
      "300/300 [==============================] - 182s 608ms/step - loss: 3.0802 - val_loss: 3.6512\n",
      "Epoch 19/50\n",
      "300/300 [==============================] - 181s 603ms/step - loss: 3.0374 - val_loss: 3.6481\n",
      "Epoch 20/50\n",
      "300/300 [==============================] - 182s 607ms/step - loss: 2.9927 - val_loss: 3.6308\n",
      "Epoch 21/50\n",
      "300/300 [==============================] - 181s 605ms/step - loss: 2.9530 - val_loss: 3.6268\n",
      "Epoch 22/50\n",
      "300/300 [==============================] - 183s 611ms/step - loss: 2.9144 - val_loss: 3.6233\n",
      "Epoch 23/50\n",
      "300/300 [==============================] - 182s 606ms/step - loss: 2.8763 - val_loss: 3.6209\n",
      "Epoch 24/50\n",
      "300/300 [==============================] - 183s 609ms/step - loss: 2.8407 - val_loss: 3.6069\n",
      "Epoch 25/50\n",
      "300/300 [==============================] - 183s 612ms/step - loss: 2.8045 - val_loss: 3.6071\n",
      "Epoch 26/50\n",
      "300/300 [==============================] - 180s 601ms/step - loss: 2.7758 - val_loss: 3.6026\n",
      "Epoch 27/50\n",
      "300/300 [==============================] - 180s 601ms/step - loss: 2.7491 - val_loss: 3.5996\n",
      "Epoch 28/50\n",
      "300/300 [==============================] - 180s 599ms/step - loss: 2.7195 - val_loss: 3.6001\n",
      "Epoch 29/50\n",
      "300/300 [==============================] - 180s 599ms/step - loss: 2.6926 - val_loss: 3.6057\n",
      "Epoch 00029: early stopping\n"
     ]
    }
   ],
   "source": [
    "model.compile(optimizer='rmsprop', loss='sparse_categorical_crossentropy')\n",
    "es = EarlyStopping(monitor='val_loss', patience=2, verbose=1)\n",
    "history = model.fit(x=[encoder_input_train, decoder_input_train], y=decoder_target_train, \\\n",
    "          validation_data=([encoder_input_test, decoder_input_test], decoder_target_test), \\\n",
    "          batch_size=256, callbacks=[es], epochs=50)"
   ]
  },
  {
   "cell_type": "code",
   "execution_count": 47,
   "id": "9efc6f17",
   "metadata": {},
   "outputs": [
    {
     "data": {
      "image/png": "[encoded data removed]",
      "text/plain": [
       "<Figure size 432x288 with 1 Axes>"
      ]
     },
     "metadata": {
      "needs_background": "light"
     },
     "output_type": "display_data"
    }
   ],
   "source": [
    "plt.plot(history.history['loss'], label='train')\n",
    "plt.plot(history.history['val_loss'], label='test')\n",
    "plt.legend()\n",
    "plt.show()"
   ]
  },
  {
   "cell_type": "code",
   "execution_count": 48,
   "id": "4be8366f",
   "metadata": {},
   "outputs": [],
   "source": [
    "src_index_to_word = src_tokenizer.index_word # 원문 단어 집합에서 정수 -> 단어를 얻음\n",
    "tar_word_to_index = tar_tokenizer.word_index # 요약 단어 집합에서 단어 -> 정수를 얻음\n",
    "tar_index_to_word = tar_tokenizer.index_word # 요약 단어 집합에서 정수 -> 단어를 얻음"
   ]
  },
  {
   "cell_type": "code",
   "execution_count": 49,
   "id": "8fa4ae22",
   "metadata": {},
   "outputs": [],
   "source": [
    "# 인코더 설계\n",
    "encoder_model = Model(inputs=encoder_inputs, outputs=[encoder_outputs, state_h, state_c])\n",
    "\n",
    "# 이전 시점의 상태들을 저장하는 텐서\n",
    "decoder_state_input_h = Input(shape=(hidden_size,))\n",
    "decoder_state_input_c = Input(shape=(hidden_size,))\n",
    "\n",
    "dec_emb2 = dec_emb_layer(decoder_inputs)\n",
    "\n",
    "# 문장의 다음 단어를 예측하기 위해서 초기 상태(initial_state)를 이전 시점의 상태로 사용. 이는 뒤의 함수 decode_sequence()에 구현\n",
    "# 훈련 과정에서와 달리 LSTM의 리턴하는 은닉 상태와 셀 상태인 state_h와 state_c를 버리지 않음.\n",
    "decoder_outputs2, state_h2, state_c2 = decoder_lstm(dec_emb2, initial_state=[decoder_state_input_h, decoder_state_input_c])"
   ]
  },
  {
   "cell_type": "markdown",
   "id": "a1c3b6f9",
   "metadata": {},
   "source": [
    "### 출력층을 설계"
   ]
  },
  {
   "cell_type": "code",
   "execution_count": 50,
   "id": "1bab3cca",
   "metadata": {},
   "outputs": [],
   "source": [
    "# 어텐션 함수\n",
    "decoder_hidden_state_input = Input(shape=(text_max_len, hidden_size))\n",
    "attn_out_inf = attn_layer([decoder_outputs2, decoder_hidden_state_input])\n",
    "decoder_inf_concat = Concatenate(axis=-1, name='concat')([decoder_outputs2, attn_out_inf])\n",
    "\n",
    "# 디코더의 출력층\n",
    "decoder_outputs2 = decoder_softmax_layer(decoder_inf_concat) \n",
    "\n",
    "# 최종 디코더 모델\n",
    "decoder_model = Model(\n",
    "    [decoder_inputs] + [decoder_hidden_state_input,decoder_state_input_h, decoder_state_input_c],\n",
    "    [decoder_outputs2] + [state_h2, state_c2])\n"
   ]
  },
  {
   "cell_type": "markdown",
   "id": "b12564e8",
   "metadata": {},
   "source": [
    "### 단어 시퀸스를 완성하는 함수"
   ]
  },
  {
   "cell_type": "code",
   "execution_count": 54,
   "id": "994e5352",
   "metadata": {},
   "outputs": [],
   "source": [
    "def decode_sequence(input_seq):\n",
    "    # 입력으로부터 인코더의 상태를 얻음\n",
    "    e_out, e_h, e_c = encoder_model.predict(input_seq)\n",
    "\n",
    "     # <SOS>에 해당하는 토큰 생성\n",
    "    target_seq = np.zeros((1,1))\n",
    "    target_seq[0, 0] = tar_word_to_index['sostoken']\n",
    "\n",
    "    stop_condition = False\n",
    "    decoded_sentence = ''\n",
    "    while not stop_condition: # stop_condition이 True가 될 때까지 루프 반복\n",
    "\n",
    "        output_tokens, h, c = decoder_model.predict([target_seq] + [e_out, e_h, e_c])\n",
    "        sampled_token_index = np.argmax(output_tokens[0, -1, :])\n",
    "        sampled_token = tar_index_to_word[sampled_token_index]\n",
    "\n",
    "        if (sampled_token!='eostoken'):\n",
    "            decoded_sentence += ' '+sampled_token\n",
    "\n",
    "        #  <eos>에 도달하거나 최대 길이를 넘으면 중단.\n",
    "        if (sampled_token == 'eostoken'  or len(decoded_sentence.split()) >= (headlines_max_len-1)):\n",
    "            stop_condition = True\n",
    "\n",
    "        # 길이가 1인 타겟 시퀀스를 업데이트\n",
    "        target_seq = np.zeros((1,1))\n",
    "        target_seq[0, 0] = sampled_token_index\n",
    "\n",
    "        # 상태를 업데이트 합니다.\n",
    "        e_h, e_c = h, c\n",
    "\n",
    "    return decoded_sentence"
   ]
  },
  {
   "cell_type": "code",
   "execution_count": 56,
   "id": "a624eec5",
   "metadata": {},
   "outputs": [],
   "source": [
    "# 원문의 정수 시퀀스를 텍스트 시퀀스로 변환\n",
    "def seq2text(input_seq):\n",
    "    temp=''\n",
    "    for i in input_seq:\n",
    "        if (i!=0):\n",
    "            temp = temp + src_index_to_word[i]+' '\n",
    "    return temp\n",
    "\n",
    "# 요약문의 정수 시퀀스를 텍스트 시퀀스로 변환\n",
    "def seq2headlines(input_seq):\n",
    "    temp=''\n",
    "    for i in input_seq:\n",
    "        if ((i!=0 and i!=tar_word_to_index['sostoken']) and i!=tar_word_to_index['eostoken']):\n",
    "            temp = temp + tar_index_to_word[i] + ' '\n",
    "    return temp"
   ]
  },
  {
   "cell_type": "markdown",
   "id": "347026b5",
   "metadata": {},
   "source": [
    "# 모델 테스트하기"
   ]
  },
  {
   "cell_type": "code",
   "execution_count": 57,
   "id": "32375dba",
   "metadata": {
    "scrolled": false
   },
   "outputs": [
    {
     "name": "stdout",
     "output_type": "stream",
     "text": [
      "원문 : nationalist congress party monday demanded bjp led maharashtra government waive farmers loans october failing threatened stage statewide agitation party also demanded comprehensive list farmers eligible waiver notably lakh farmers maharashtra applied loan waivers \n",
      "실제 요약 : waive farm loans by oct or face protests ncp to maha govt \n",
      "예측 요약 :  cong farmers protest over land loan waiver in maha\n",
      "\n",
      "\n",
      "원문 : vijay mallya united breweries holdings told karnataka high court current valuation assets worth crore clear dues company corporate loans raised defunct kingfisher airlines said amount would also cover defaulted loan crore airline \n",
      "실제 요약 : have assets worth cr can clear dues mallya firm \n",
      "예측 요약 :  mallya assets worth crore in delhi\n",
      "\n",
      "\n",
      "원문 : chinese authorities collecting dna samples fingerprints biometric data every resident xinjiang region uighur community lives human rights watch said data used surveillance persons ethnicity religion added notably china repeatedly blamed exiled uighur separatists attacks region \n",
      "실제 요약 : china collecting dna from all residents of \n",
      "예측 요약 :  chinese students to get hiv into hiv to\n",
      "\n",
      "\n",
      "원문 : least students two died fire religious school kuala lumpur today broke bedrooms students could escape due window fires unregistered private religious schools since one considered one malaysia worst fire disasters years \n",
      "실제 요약 : students killed in fire at malaysian school \n",
      "예측 요약 :  students killed in hostel room in maharashtra\n",
      "\n",
      "\n",
      "원문 : us ally kuwait given north korea ambassador month leave gulf state downgrade diplomatic representation north korea according reports comes kuwait ruling emir recently met us president donald trump us reportedly putting pressure allies cut ties north korea nuclear programme \n",
      "실제 요약 : kuwait gives korean envoy one month to leave the country \n",
      "예측 요약 :  us rejects korea to end military cooperation with korea\n",
      "\n",
      "\n",
      "원문 : fishermen still missing due cyclone ockhi hit country five months ago parliamentary panel said panel headed congress leader chidambaram noted centre made efforts rescue fishermen chances returning low search rescue operation called \n",
      "실제 요약 : over fishermen still missing after cyclone ockhi panel \n",
      "예측 요약 :  over lakh killed in nepal floods in days\n",
      "\n",
      "\n",
      "원문 : actor ranbir kapoor revealed nicotine addict since age taken trips austria doctor gave injections ears help quit smoking first time said ranbir added think give \n",
      "실제 요약 : have been addict since the age of ranbir \n",
      "예측 요약 :  ranbir kapoor was ranbir kapoor\n",
      "\n",
      "\n",
      "원문 : wimbledon planning honour two time wimbledon champion former world number one andy murray statue england club three time grand slam champion announced friday calling time career hip injury club unveiled statue three time wimbledon champion perry \n",
      "실제 요약 : andy murray to get his own statue at wimbledon \n",
      "예측 요약 :  wwe wins title of wwe grand slam title\n",
      "\n",
      "\n",
      "원문 : actress kareena kapoor khan said want life son taimur ali khan documented added months old twice enough constant kareena said wants taimur lead normal life possible \n",
      "실제 요약 : do not want my son taimur life to be kareena \n",
      "예측 요약 :  taimur taimur will taimur taimur in taimur kareena\n",
      "\n",
      "\n",
      "원문 : delhi high court allowed use social media platform whatsapp email judicial proceedings issue summons recently bombay high court served summons whatsapp court ruled hearing case filed tata sons alleging unidentified email ids used defamatory allegations one officials \n",
      "실제 요약 : delhi hc allows use of whatsapp in court proceedings \n",
      "예측 요약 :  delhi hc directs delhi to stop fake news of whatsapp\n",
      "\n",
      "\n",
      "원문 : people availed benefits government funded health insurance scheme ayushman bharat pradhan mantri jan arogya yojana within day launch first beneficiary jharkhand scheme launched woman gave birth baby girl according reports maximum cases reported chhattisgarh haryana jharkhand assam \n",
      "실제 요약 : get benefits of bharat within day of launch \n",
      "예측 요약 :  govt to provide free education service to students\n",
      "\n",
      "\n",
      "원문 : finance ministry reportedly asked public sector banks look domestic overseas branches strengthen financials asked banks discuss consolidation overseas branches take final call closing unviable operations notably bank baroda presence across countries sbi offices across countries \n",
      "실제 요약 : govt asks public sector banks to close loss making branches \n",
      "예측 요약 :  govt asks banks to leave country over pnb deal\n",
      "\n",
      "\n",
      "원문 : several flights cancelled affecting thousands passengers new zealand city auckland monday burst oil pipeline triggered shortage jet fuel airport disruption expected last week meanwhile airlines said look refuelling australian pacific airports ensure long haul services continue \n",
      "실제 요약 : new zealand flights disrupted after oil pipeline bursts \n",
      "예측 요약 :  flights cancelled in france amid fuel price hike\n",
      "\n",
      "\n",
      "원문 : homegrown cab aggregator ola reportedly talks bengaluru based bike sharing startup automotive lead million round funding ola expected lead round venture capital firms ventures partners matrix partners founded startup offers round clock scooter rental service intended cost effective alternative cabs \n",
      "실제 요약 : ola to lead mn round in bike sharing startup report \n",
      "예측 요약 :  ola ola raises million in delhi\n",
      "\n",
      "\n",
      "원문 : india spinner ravichandran ashwin took instagram share statue patience meme batsman cheteshwar pujara latter ball run knock australia sydney test picture pujara face seen photoshopped onto statue unity cheteshwar pujara looks like satyagraha nationwide response ashwin wrote alongside meme \n",
      "실제 요약 : ashwin shares pujara statue of meme after run knock \n",
      "예측 요약 :  ashwin shares video of his son dancing at lord\n",
      "\n",
      "\n",
      "원문 : pictures actress katrina kaif sets upcoming film thugs hindostan surfaced online seen dressed golden outfit shooting song film sets pictures thugs hindostan also star aamir khan amitabh bachchan fatima sana shaikh \n",
      "실제 요약 : katrina pics from thugs of hindostan sets surface online \n",
      "예측 요약 :  katrina ranveer to star in ranbir katrina simmba reports\n",
      "\n",
      "\n",
      "원문 : amitabh bachchan took twitter share post demise dmk chief karunanidhi tuesday evening received st national award hindustani ceremony held chennai year wrote karunanidhi chief guest ceremony chief minister tamil nadu time \n",
      "실제 요약 : received my very st national award from karunanidhi big \n",
      "예측 요약 :  amitabh bachchan meets big funeral in raj\n",
      "\n",
      "\n",
      "원문 : online food delivery startup zomato acquired lucknow based drone delivery startup innovations founded iit kanpur alumnus vikram singh college days works custom made drones capable carrying loads five kilograms comes ministry civil aviation recently legalised commercial use drones india january \n",
      "실제 요약 : zomato acquires iit kanpur alumnus drone delivery startup \n",
      "예측 요약 :  swiggy rival delivery startup offers to rival\n",
      "\n",
      "\n",
      "원문 : white hosting eid reception envoys new delhi external affairs minister sushma swaraj tuesday said never allow forces hatred violence come anywhere near people said world indeed one family added compassion mercy tolerance values shared billions muslims non muslims around world \n",
      "실제 요약 : india will not let forces of hatred come near its people swaraj \n",
      "예측 요약 :  let us open to be safe punjab cm on rohingya violence\n",
      "\n",
      "\n",
      "원문 : uk police investigating manchester terror attack reportedly stopped sharing information us series leaked us media comes uk expressed said leaks us media including photographs remains bomb bomber name could undermine investigation \n",
      "실제 요약 : uk stops sharing intel with us after manchester attack leaks \n",
      "예측 요약 :  us police arrests man over attacks on info on isis\n",
      "\n",
      "\n",
      "원문 : trolling model reality tv star kendall jenner attending golden user tweeted kendall jenner golden get nominated pepsi ad another user wrote hand pepsi women wearing black kendall jenner forgot bring pepsi read tweet \n",
      "실제 요약 : twitter users troll kendall for attending golden \n",
      "예측 요약 :  kendall jenner slammed for magazine cover of kendall jenner\n",
      "\n",
      "\n",
      "원문 : researchers led australian national university found first proof antarctica isolated rest earth discovery foreign kilometres reach researchers suggested biological could used plants animals icy continent soon local environment becomes \n",
      "실제 요약 : km to reach antarctica study \n",
      "예측 요약 :  scientists discover of the of the year\n",
      "\n",
      "\n",
      "원문 : retired lieutenant colonel indian army tweet addressed prime minister narendra modi slammed message printed back railway ticket aware fare borne common citizens country message read however railway ministry clarified message printed every ticket \n",
      "실제 요약 : retd lt slams message on rail ticket ministry clarifies \n",
      "예측 요약 :  pm modi slams metro for not paying ticket for diwali\n",
      "\n",
      "\n",
      "원문 : year old man arrested allegedly sexually harassing vistara flight attendant lucknow delhi flight flight attendant said incident occurred plane landed passengers preparing deboard meanwhile vistara said tolerate abusive unruly behaviour passengers puts safety staff customers risk \n",
      "실제 요약 : year old held for sexually harassing vistara crew member \n",
      "예측 요약 :  man arrested for molesting woman at delhi airport\n",
      "\n",
      "\n",
      "원문 : elon musk led space startup spacex sunday launched satellite world heaviest commercial communications satellite weighing kg falcon rocket upgraded first stage booster flew back landed shore second successful launch new version spacex block rocket \n",
      "실제 요약 : spacex launches world heaviest communications satellite \n",
      "예측 요약 :  spacex successfully launches rocket th attempt\n",
      "\n",
      "\n",
      "원문 : philippine president rodrigo duterte said god promised victims extrajudicial killings would go heaven asked god god said done duterte said adding victims get human rights heaven people philippines killed duterte war drugs \n",
      "실제 요약 : god promised heaven for killings victims duterte \n",
      "예측 요약 :  philippine prez duterte calls for him\n",
      "\n",
      "\n",
      "원문 : former german chancellor architect germany passed away friday age led germany years making longest serving german chancellor since otto also one authors european single currency left active politics \n",
      "실제 요약 : architect of germany passes away \n",
      "예측 요약 :  former zimbabwe leader dies aged\n",
      "\n",
      "\n",
      "원문 : chile named best country visit next year lonely planet best travel list south korea portugal ranked second third respectively djibouti new zealand completed top five countries featured list malta georgia mauritius china south africa \n",
      "실제 요약 : chile named best country to visit in \n",
      "예측 요약 :  wins best ever national award in india\n",
      "\n",
      "\n",
      "원문 : twenty five people questioned regarding leak cbse question papers arrest made far delhi police said thursday two cases registered special investigation team formed probe case cbse ordered test class economics class math exams leak \n",
      "실제 요약 : people questioned no arrest police on cbse paper leak \n",
      "예측 요약 :  cbi files fir against cbse for leak of leak\n",
      "\n",
      "\n",
      "원문 : actor akshay kumar said twinkle khanna still tells actress rani mukerji teri zindagi maine twinkle rejected role karan johar directorial kuch kuch hota hai read script understand actually thrown script called sh added akshay \n",
      "실제 요약 : twinkle still tells rani teri akshay \n",
      "예측 요약 :  akshay kumar shares pic of akshay kumar from akshay kumar\n",
      "\n",
      "\n",
      "원문 : australian officials plant samples dating back mid sent france research purposes officials cited missing paperwork blamed email mix previous incident highlighting australia laws samples new zealand destroyed country enacted blanket ban sending specimens australia \n",
      "실제 요약 : aus officials destroy year old plant samples from france \n",
      "예측 요약 :  australian supermarket recalls lakh people over faulty wheel\n",
      "\n",
      "\n",
      "원문 : filmmaker michael bay confirmed fourteen stories transformers film franchise already written bay said would like direct one hinting future may return franchise director earlier announced fifth installment transformers last knight would last transformers film \n",
      "실제 요약 : stories for franchise written michael \n",
      "예측 요약 :  approached to play villain in upcoming film reports\n",
      "\n",
      "\n",
      "원문 : uk based study found iceland saw less volcanic activity glacier cover glaciers melted eruptions increased due changes surface pressure researchers noticed year time lag major decrease ancient global temperatures reduced adding similar time lag expected following recent shift warmer temperatures \n",
      "실제 요약 : global warming could increase volcanic study \n",
      "예측 요약 :  scientists lose new zealand study\n",
      "\n",
      "\n",
      "원문 : rjd leader singh said nitish kumar must step cm number criminal charges including murder filed victim nitish kumar killed still waiting justice criminal head state case becomes state vs state scenario singh added \n",
      "실제 요약 : cm nitish must step down he is accused in murder case rjd \n",
      "예측 요약 :  rjd leader murder accused of bihar cm murder\n",
      "\n",
      "\n",
      "원문 : fifty six year old mani become isro first woman scientist spend days antarctica mani woman member expedition team went indian research station bharati selection process mani sent high altitude places like badrinath made carry heavy check endurance \n",
      "실제 요약 : yr old is st isro woman to spend days in antarctica \n",
      "예측 요약 :  year old woman makes st woman to marry\n",
      "\n",
      "\n",
      "원문 : former general manager mumbai based infrastructure firm arrested extorting crore company using information gathered irregularities firm projects using rti act filed complaints firm irregularities demanded money company bills allegedly stuck owing man complaints \n",
      "실제 요약 : ex employee uses rti to extort crore from firm arrested \n",
      "예측 요약 :  former investor arrested for duping people in mumbai\n",
      "\n",
      "\n",
      "원문 : talking congress president rahul gandhi pm narendra modi said earlier used records sometimes pin gets stuck people whose pin gets stuck enjoy things election time added pm modi responding bjp workers queries rahul claim establish mobile factories madhya pradesh districts \n",
      "실제 요약 : rahul stuck like people should enjoy it pm modi \n",
      "예측 요약 :  pm modi should be punished rahul gandhi\n",
      "\n",
      "\n",
      "원문 : delhi cm arvind kejriwal friday tweeted lieutenant governor anil baijal obstructing every scheme every project delhi government comes transport minister kailash gahlot said objected yatra yojana senior citizens taken free pilgrimage every year run govt like kejriwal asked \n",
      "실제 요약 : is obstructing every scheme delhi cm \n",
      "예측 요약 :  kejriwal should be given jobs in delhi kejriwal\n",
      "\n",
      "\n",
      "원문 : supreme court monday said national capital region firecrackers indian army informed lakh kg firecrackers around ncr burn whole country sc said government earlier directed suspend licences permitting sale fireworks within ncr till orders \n",
      "실제 요약 : more firecrackers in national capital region than army sc \n",
      "예측 요약 :  ngt asks states to give more to ngt for stubble burning\n",
      "\n",
      "\n",
      "원문 : south korean first lady kim jung serve homemade traditional us president donald trump wife melania arrive country today include chocolate coated dried called tea official said first lady kim put whole mind order treat highest respect \n",
      "실제 요약 : south korean first lady to serve snacks to trump \n",
      "예측 요약 :  melania trump first dog to visit korea\n",
      "\n",
      "\n",
      "원문 : india world cup winning captain prithvi shaw revealed seeing people around ipl debut dd made nervous learned ipl face difficult situations get added year old scored runs nine ipl innings \n",
      "실제 요약 : got nervous seeing people during my ipl debut shaw \n",
      "예측 요약 :  was shaw for ipl was not in ipl final\n",
      "\n",
      "\n",
      "원문 : reebok mocked us president donald trump told french president emmanuel macron year old wife good shape beautiful reebok posted graphic twitter labelled appropriate say good shape beautiful chart several scenarios listed including world leader greeting spouse head state \n",
      "실제 요약 : mocks trump for remarks on french prez wife looks \n",
      "예측 요약 :  trump thanks for french president\n",
      "\n",
      "\n",
      "원문 : pakistan rounder mohammad hafeez suspended bowling international cricket third time three years icc found action illegal however icc said hafeez still bowl domestic cricket events played pakistan cricket board hafeez previously banned bowling november june \n",
      "실제 요약 : pak banned for rd time in yrs for illegal action \n",
      "예측 요약 :  pak bowler suspended for matches over fixing fixing\n",
      "\n",
      "\n",
      "원문 : us judge sentenced chief defence lawyer guantanamo bay detention centre marine brigadier general john baker days confinement contempt comes baker released three defence attorneys case involving attack killed us sailors yemen judge ordered attorneys appear person guantanamo video feed \n",
      "실제 요약 : court orders of general over contempt \n",
      "예측 요약 :  us judge quits over us terror attack\n",
      "\n",
      "\n",
      "원문 : government planning open restricted areas arunachal pradesh sikkim foreign tourists tourism minister kj alphons said consideration taking final decision assess security tourism potential state governments added currently foreign tourists access areas protected areas permit restricted areas permit \n",
      "실제 요약 : govt to open northeast areas to foreign tourists \n",
      "예측 요약 :  govt to provide free to counter india flag\n",
      "\n",
      "\n",
      "원문 : bjp spokesperson prakash condemned mla panna lal shakya recent remarks questioning cricketer virat kohli patriotism italy india get married adding shakya business question kohli patriotism prakash said former right tarnish party image hopes mla ways \n",
      "실제 요약 : bjp condemns its mla virat kohli not remark \n",
      "예측 요약 :  bjp mla slams marrying anushka over marrying remark on bjp mla\n",
      "\n",
      "\n",
      "원문 : indian shuttler saina nehwal beat china indonesia masters semi final reach final tournament saturday saina finished match scoreline read nehwal silver edition indonesia masters face winner semi final chen carolina marin \n",
      "실제 요약 : saina nehwal reaches final of indonesia masters \n",
      "예측 요약 :  saina nehwal wins bronze at world championships\n",
      "\n",
      "\n",
      "원문 : several uk ministers including brexit secretary dominic resigned draft brexit agreement drawn eu uk negotiators move comes uk pm theresa may announced received backing cabinet following long five hour debate reportedly ministers spoken draft agreement debate \n",
      "실제 요약 : several uk ministers resign over draft brexit agreement \n",
      "예측 요약 :  uk uk to brexit brexit deal\n",
      "\n",
      "\n",
      "원문 : april ussr launched first ever space station mark decade launching first man space yuri gagarin first designated crew docked five days return without entering due faulty hatch kg station intentionally crashed pacific ocean days launch \n",
      "실제 요약 : first space station was crashed after days \n",
      "예측 요약 :  st ever satellite was st ever rocket unveiled\n",
      "\n",
      "\n",
      "원문 : footage cctv camera installed opposite burari house people found dead revealed family eldest daughter law brought two teenagers got wires pooja family apparently followed script found diary said food ordered pm performed \n",
      "실제 요약 : daughter in law got kids for burari suicide \n",
      "예측 요약 :  burari family found dead in mumbai\n",
      "\n",
      "\n"
     ]
    }
   ],
   "source": [
    "for i in range(50, 100):\n",
    "    print(\"원문 :\", seq2text(encoder_input_test[i]))\n",
    "    print(\"실제 요약 :\", seq2headlines(decoder_input_test[i]))\n",
    "    print(\"예측 요약 :\", decode_sequence(encoder_input_test[i].reshape(1, text_max_len)))\n",
    "    print(\"\\n\")"
   ]
  },
  {
   "cell_type": "markdown",
   "id": "119a774e",
   "metadata": {},
   "source": [
    "# Summa을 이용해서 추출적 요약해보기"
   ]
  },
  {
   "cell_type": "code",
   "execution_count": 59,
   "id": "0659493c",
   "metadata": {},
   "outputs": [],
   "source": [
    "import requests\n",
    "from summa.summarizer import summarize"
   ]
  },
  {
   "cell_type": "code",
   "execution_count": 60,
   "id": "3a86a846",
   "metadata": {},
   "outputs": [],
   "source": [
    "text = requests.get('http://rare-technologies.com/the_matrix_synopsis.txt').text"
   ]
  },
  {
   "cell_type": "code",
   "execution_count": 61,
   "id": "b426e2e3",
   "metadata": {},
   "outputs": [
    {
     "name": "stdout",
     "output_type": "stream",
     "text": [
      "The screen is filled with green, cascading code which gives way to the title, The Matrix.\r\n",
      "\r\n",
      "A phone rings and text appears on the screen: \"Call trans opt: received. 2-19-98 13:24:18 REC: Log>\" As a conversation takes place between Trinity (Carrie-Anne Moss) and Cypher (Joe Pantoliano), two free humans, a table of random green numbers are being scanned and individual numbers selected, creating a series of digits not unlike an ordinary phone number, as if a code is being deciphered or a call is being traced.\r\n",
      "\r\n",
      "Trinity discusses some unknown person. Cypher taunts Trinity, suggesting she enjoys watching him. Trinity counters that \"Morpheus (Laurence Fishburne) says he may be 'the One',\" just as the sound of a number being selected alerts Trinity that someone may be tracing their call. She ends the call.\r\n",
      "\r\n",
      "Armed policemen move down a darkened, decrepit hallway in the Heart O' the City Hotel, their flashlight beam bouncing just ahead of them. They come to room 303, kick down the door and find a woman dressed in black, facing away from them. It's Trinity. She brings her hands up from the laptop she's working on at their command.\r\n",
      "\r\n",
      "Outside the hotel a car drives up and three agents appear in neatly pressed black suits. They are Agent Smith (Hugo Weaving), Agent Brown (Paul Goddard), and Agent Jones (Robert Taylor). Agent Smith and the presiding police lieutenant argue. Agent Smith admonishes the policeman that they were given specific orders to contact the agents first, for their\n"
     ]
    }
   ],
   "source": [
    "print(text[:1500])"
   ]
  },
  {
   "cell_type": "markdown",
   "id": "fe48452e",
   "metadata": {},
   "source": [
    "- text (str) : 요약할 테스트.\n",
    "- ratio (float, optional) – 요약문에서 원본에서 선택되는 문장 비율. 0~1 사이값\n",
    "- words (int or None, optional) – 출력에 포함할 단어 수.\n",
    "- 만약, ratio와 함께 두 파라미터가 모두 제공되는 경우 ratio는 무시한다.\n",
    "- split (bool, optional) – True면 문장 list / False는 조인(join)된 문자열을 반환"
   ]
  },
  {
   "cell_type": "code",
   "execution_count": 62,
   "id": "6ce5ef08",
   "metadata": {},
   "outputs": [
    {
     "name": "stdout",
     "output_type": "stream",
     "text": [
      "Summary:\n",
      "Morpheus, Trinity, Neo, Apoc, Switch, Mouse and Cypher are jacked into the Matrix.\n",
      "Trinity brings the helicopter down to the floor that Morpheus is on and Neo opens fire on the three Agents.\n"
     ]
    }
   ],
   "source": [
    "print('Summary:')\n",
    "print(summarize(text, ratio=0.005))"
   ]
  },
  {
   "cell_type": "code",
   "execution_count": 63,
   "id": "7aecaa70",
   "metadata": {},
   "outputs": [
    {
     "name": "stdout",
     "output_type": "stream",
     "text": [
      "Summary:\n",
      "['Morpheus, Trinity, Neo, Apoc, Switch, Mouse and Cypher are jacked into the Matrix.', 'Trinity brings the helicopter down to the floor that Morpheus is on and Neo opens fire on the three Agents.']\n"
     ]
    }
   ],
   "source": [
    "print('Summary:')\n",
    "print(summarize(text, ratio=0.005, split=True))"
   ]
  },
  {
   "cell_type": "code",
   "execution_count": 64,
   "id": "8f10f5e8",
   "metadata": {
    "scrolled": true
   },
   "outputs": [
    {
     "name": "stdout",
     "output_type": "stream",
     "text": [
      "Summary:\n",
      "Trinity takes Neo to Morpheus.\n",
      "Morpheus, Trinity, Neo, Apoc, Switch, Mouse and Cypher are jacked into the Matrix.\n",
      "Trinity brings the helicopter down to the floor that Morpheus is on and Neo opens fire on the three Agents.\n"
     ]
    }
   ],
   "source": [
    "print('Summary:')\n",
    "print(summarize(text, words=50))"
   ]
  },
  {
   "cell_type": "markdown",
   "id": "7475abdb",
   "metadata": {},
   "source": [
    "# 회고"
   ]
  },
  {
   "cell_type": "markdown",
   "id": "8d5702ae",
   "metadata": {},
   "source": [
    "ISO-8859-1 인코딩 방식을 사용해서 ‚àëA¬¨‚àëM 같은 인코딩 오류가 떠서 UTF-8로 바꿨다. UTF-8은 가변 길이 인코딩이고 ISO-8859-1는 단일 바이트 고정 길이 인코딩입니다. Latin-1은 유니코드 문자 집합의 처음 256개 코드 포인트만 인코딩하는 반면 UTF-8은 모든 코드 포인트를 인코딩하는 데 사용할 수 있습니다. 물리적 인코딩 수준에서 코드 포인트 0 - 127만 동일하게 인코딩됩니다. 코드 포인트 128 - 255는 UTF-8에서는 2바이트 시퀀스가 되는 반면 ISO-8859-1에서는 단일 바이트가 된다는 점에서 다릅니다. 하지만 나는 UTF-8 변환이 시간도 오래걸리고 바뀌는 것도 없어서 unique를 사용한 후 단어의 빈도수가 높은 것만 추리는 것으로 이 문제를 해결했다.\n",
    "\n",
    "추상적 요약을 통해 얻은 헤드라인과 실제 헤드라인을 비교했을 때 결과가 일치하지 않고 새로운 문장을 만들어낸 것을 확인할 수 있었다. 하지만 만들어진 문장을 해석해본 결과 기존 요약과는 달랐지만 본문을 나름대로 잘 요약한 것을 확인할 수 있었다. 추출적 요약을 했을 때 기존 문장에 있던 단어로 구성되어 있는 요약을 얻을 수 있었지만 내용에서 많은 부분이 빠져있어서 오히려 요약이 이상한 것을 확인할 수 있었다."
   ]
  }
 ],
 "metadata": {
  "kernelspec": {
   "display_name": "Python 3 (ipykernel)",
   "language": "python",
   "name": "python3"
  },
  "language_info": {
   "codemirror_mode": {
    "name": "ipython",
    "version": 3
   },
   "file_extension": ".py",
   "mimetype": "text/x-python",
   "name": "python",
   "nbconvert_exporter": "python",
   "pygments_lexer": "ipython3",
   "version": "3.9.7"
  }
 },
 "nbformat": 4,
 "nbformat_minor": 5
}
