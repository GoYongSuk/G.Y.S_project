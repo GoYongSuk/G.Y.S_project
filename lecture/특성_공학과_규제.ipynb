{
 "cells": [
  {
   "cell_type": "markdown",
   "id": "9f409156",
   "metadata": {},
   "source": [
    "# 03-3 특성 공학과 규제"
   ]
  },
  {
   "cell_type": "markdown",
   "id": "fe709c4b",
   "metadata": {},
   "source": [
    "### 기존의 특성을 사용해 새로운 특성을 뽑아내는 작업을 <span style=\"color:red\">**특성 공학(feature engineering)**</span> 이라고 합니다."
   ]
  },
  {
   "cell_type": "markdown",
   "id": "77cf5989",
   "metadata": {},
   "source": [
    "## 1. 데이터 준비하기"
   ]
  },
  {
   "cell_type": "code",
   "execution_count": 1,
   "id": "21f56595",
   "metadata": {},
   "outputs": [],
   "source": [
    "import pandas as pd\n",
    "import numpy as np"
   ]
  },
  {
   "cell_type": "markdown",
   "id": "ea5e3b41",
   "metadata": {},
   "source": [
    "[perch_csv_data](https://raw.githubusercontent.com/rickiepark/hg-mldl/master/perch_full.csv)"
   ]
  },
  {
   "cell_type": "code",
   "execution_count": 2,
   "id": "3f0b8c31",
   "metadata": {},
   "outputs": [],
   "source": [
    "df = pd.read_csv('https://bit.ly/perch_csv_data')   \n",
    "perch_full = df.to_numpy()"
   ]
  },
  {
   "cell_type": "code",
   "execution_count": 3,
   "id": "c1ac2b80",
   "metadata": {},
   "outputs": [],
   "source": [
    "import numpy as np\n",
    "\n",
    "perch_weight = np.array(\n",
    "    [5.9, 32.0, 40.0, 51.5, 70.0, 100.0, 78.0, 80.0, 85.0, 85.0, \n",
    "     110.0, 115.0, 125.0, 130.0, 120.0, 120.0, 130.0, 135.0, 110.0, \n",
    "     130.0, 150.0, 145.0, 150.0, 170.0, 225.0, 145.0, 188.0, 180.0, \n",
    "     197.0, 218.0, 300.0, 260.0, 265.0, 250.0, 250.0, 300.0, 320.0, \n",
    "     514.0, 556.0, 840.0, 685.0, 700.0, 700.0, 690.0, 900.0, 650.0, \n",
    "     820.0, 850.0, 900.0, 1015.0, 820.0, 1100.0, 1000.0, 1100.0, \n",
    "     1000.0, 1000.0]\n",
    "     )"
   ]
  },
  {
   "cell_type": "code",
   "execution_count": 4,
   "id": "5dc7d854",
   "metadata": {},
   "outputs": [],
   "source": [
    "from sklearn.model_selection import train_test_split\n",
    "\n",
    "train_input, test_input, train_target, test_target = train_test_split(perch_full, perch_weight, random_state=42)"
   ]
  },
  {
   "cell_type": "markdown",
   "id": "8c1d9507",
   "metadata": {},
   "source": [
    "## 2. 사이킷런의 변환기"
   ]
  },
  {
   "cell_type": "code",
   "execution_count": 5,
   "id": "20d71ec9",
   "metadata": {},
   "outputs": [],
   "source": [
    "from sklearn.preprocessing import PolynomialFeatures"
   ]
  },
  {
   "cell_type": "markdown",
   "id": "5a54be31",
   "metadata": {},
   "source": [
    "[PolynomialFeatures](https://scikit-learn.org/stable/modules/generated/sklearn.preprocessing.PolynomialFeatures.html)"
   ]
  },
  {
   "cell_type": "markdown",
   "id": "bcd15243",
   "metadata": {},
   "source": [
    "class sklearn.preprocessing.PolynomialFeatures(degree=2, *, interaction_only=False, include_bias=True, order='C')\n",
    "\n",
    "- degree : 차수를 조절한다. = 제곱을 조절한다\n",
    "\n",
    "- include_bias는 절편을 만드는 것입니다. include_bias = True이면 1 +ax + bx(제곱)와 같이 1 같은 절편을 추가합니다. False이면 추가하지 않습니다.\n",
    "\n",
    "- transform from (x1, x2) to (1(bias), x1, x2, x1^2, x1*x2, x2^2)"
   ]
  },
  {
   "cell_type": "code",
   "execution_count": 6,
   "id": "95b28515",
   "metadata": {},
   "outputs": [
    {
     "name": "stdout",
     "output_type": "stream",
     "text": [
      "[[1. 2. 3. 4. 6. 9.]]\n"
     ]
    }
   ],
   "source": [
    "poly = PolynomialFeatures()\n",
    "poly.fit([[2, 3]])\n",
    "print(poly.transform([[2, 3]]))"
   ]
  },
  {
   "cell_type": "markdown",
   "id": "a9710bb9",
   "metadata": {},
   "source": [
    "##### 변환기는 타깃 데이터 없이 입력 데이터를 변환합니다."
   ]
  },
  {
   "cell_type": "code",
   "execution_count": 7,
   "id": "6b32228e",
   "metadata": {},
   "outputs": [
    {
     "name": "stdout",
     "output_type": "stream",
     "text": [
      "[[2. 3. 4. 6. 9.]]\n"
     ]
    }
   ],
   "source": [
    "poly = PolynomialFeatures(include_bias=False)\n",
    "#훈련\n",
    "poly.fit([[2, 3]])  #새롭게 만들 특성 조합을 찾는다.\n",
    "\n",
    "#변환\n",
    "print(poly.transform([[2, 3]]))   # 실제로 데이터를 변환한다."
   ]
  },
  {
   "cell_type": "markdown",
   "id": "d203d692",
   "metadata": {},
   "source": [
    "#### <span style=\"color:red\">**y = ax + b**</span> 이런 일차식을 만들 때 a가 기울기 b가 절편 <br>\n",
    "#### `[a, b]*[x, 1]` LinearRegression 클래스가 1 특성을 무시한다. 그래서 1을 생성하지않는다."
   ]
  },
  {
   "cell_type": "code",
   "execution_count": 8,
   "id": "280033eb",
   "metadata": {},
   "outputs": [],
   "source": [
    "poly = PolynomialFeatures(include_bias=False)   \n",
    "\n",
    "poly.fit(train_input)             # 실제로 뭔가를 학습하는게 아님, 특성이 몇개 있는지 특성을 이용해 어떤 특성을 만들 것인지\n",
    "train_poly = poly.transform(train_input)     #변환기 (fit, transform)"
   ]
  },
  {
   "cell_type": "code",
   "execution_count": 9,
   "id": "15f88288",
   "metadata": {},
   "outputs": [
    {
     "name": "stdout",
     "output_type": "stream",
     "text": [
      "(42, 9)\n"
     ]
    }
   ],
   "source": [
    "print(train_poly.shape)   #42개의 샘플 9개의 배열"
   ]
  },
  {
   "cell_type": "code",
   "execution_count": 10,
   "id": "00e792ca",
   "metadata": {},
   "outputs": [
    {
     "data": {
      "text/plain": [
       "array(['x0', 'x1', 'x2', 'x0^2', 'x0 x1', 'x0 x2', 'x1^2', 'x1 x2',\n",
       "       'x2^2'], dtype=object)"
      ]
     },
     "execution_count": 10,
     "metadata": {},
     "output_type": "execute_result"
    }
   ],
   "source": [
    "poly.get_feature_names_out()"
   ]
  },
  {
   "cell_type": "code",
   "execution_count": 11,
   "id": "38a89c75",
   "metadata": {},
   "outputs": [],
   "source": [
    "test_poly = poly.transform(test_input)    #테스트도 똑같이 변환"
   ]
  },
  {
   "cell_type": "markdown",
   "id": "79eb7c84",
   "metadata": {},
   "source": [
    "## 3. 다중 회귀 모델 훈련하기"
   ]
  },
  {
   "cell_type": "code",
   "execution_count": 12,
   "id": "06356468",
   "metadata": {},
   "outputs": [
    {
     "name": "stdout",
     "output_type": "stream",
     "text": [
      "0.9903183436982124\n"
     ]
    }
   ],
   "source": [
    "from sklearn.linear_model import LinearRegression\n",
    "\n",
    "lr = LinearRegression()      # 다중 회귀 모델을 훈련하는 것은 선형 회귀 모델을 훈련하는 것과 같다.\n",
    "lr.fit(train_poly, train_target)\n",
    "print(lr.score(train_poly, train_target))     # 특성을 많이 넣었기 때문에 정확도가 올라간다."
   ]
  },
  {
   "cell_type": "code",
   "execution_count": 13,
   "id": "68b30366",
   "metadata": {},
   "outputs": [
    {
     "name": "stdout",
     "output_type": "stream",
     "text": [
      "0.9714559911594133\n"
     ]
    }
   ],
   "source": [
    "print(lr.score(test_poly, test_target))"
   ]
  },
  {
   "cell_type": "code",
   "execution_count": 14,
   "id": "20c16565",
   "metadata": {},
   "outputs": [],
   "source": [
    "poly = PolynomialFeatures(degree=5, include_bias=False)\n",
    "\n",
    "poly.fit(train_input)\n",
    "train_poly = poly.transform(train_input)\n",
    "test_poly = poly.transform(test_input)"
   ]
  },
  {
   "cell_type": "code",
   "execution_count": 15,
   "id": "af4d5d5b",
   "metadata": {},
   "outputs": [
    {
     "name": "stdout",
     "output_type": "stream",
     "text": [
      "(42, 55)\n"
     ]
    }
   ],
   "source": [
    "print(train_poly.shape)     # 배열의 열의 개수 = 55"
   ]
  },
  {
   "cell_type": "code",
   "execution_count": 16,
   "id": "0a1e2558",
   "metadata": {},
   "outputs": [
    {
     "name": "stdout",
     "output_type": "stream",
     "text": [
      "0.9999999999991096\n"
     ]
    }
   ],
   "source": [
    "lr.fit(train_poly, train_target)\n",
    "print(lr.score(train_poly, train_target))"
   ]
  },
  {
   "cell_type": "code",
   "execution_count": 17,
   "id": "f0ba5f43",
   "metadata": {},
   "outputs": [
    {
     "name": "stdout",
     "output_type": "stream",
     "text": [
      "-144.40579242684694\n"
     ]
    }
   ],
   "source": [
    "print(lr.score(test_poly, test_target))"
   ]
  },
  {
   "cell_type": "markdown",
   "id": "edf785e1",
   "metadata": {},
   "source": [
    "### 결과 : 특성 개수를 늘리면 훈련 데이터를 완벽하게 학습할 수 있지만 오버피팅을 일으킬 수 있다."
   ]
  },
  {
   "cell_type": "markdown",
   "id": "c17b0eb5",
   "metadata": {},
   "source": [
    "## ※ 규제"
   ]
  },
  {
   "cell_type": "markdown",
   "id": "d7db9c5e",
   "metadata": {},
   "source": [
    "## <span style=\"color:blue\">**규제는 극도로 과대적합을 완화하는 기법**</span> <br><br>  <span style=\"color:red\">가중치(기울기) 값을 작게하는 것, 줄이는 것</span>"
   ]
  },
  {
   "cell_type": "markdown",
   "id": "c1cba549",
   "metadata": {},
   "source": [
    "#### sklearn에서 제공하는 변환기 ex) 가위바위보 맞추기에서 0~1 사이로 값을 바꿨던 것"
   ]
  },
  {
   "cell_type": "code",
   "execution_count": 18,
   "id": "bfb90aeb",
   "metadata": {},
   "outputs": [],
   "source": [
    "from sklearn.preprocessing import StandardScaler     #LinearRegression 수치적인 반복으로 계산하기 때문에 크기의 영향을 받지 않는다.\n",
    "\n",
    "ss = StandardScaler()\n",
    "ss.fit(train_poly)\n",
    "\n",
    "# 훈련 데이터와 시험 데이터 scale은 같아야한다.\n",
    "train_scaled = ss.transform(train_poly)\n",
    "test_scaled = ss.transform(test_poly)"
   ]
  },
  {
   "cell_type": "markdown",
   "id": "a428affa",
   "metadata": {},
   "source": [
    "## (1) 릿지 회귀"
   ]
  },
  {
   "cell_type": "markdown",
   "id": "8b9c4ad2",
   "metadata": {},
   "source": [
    "### 선형 회귀 모델에 규제를 추가한 모델을 릿지(ridge)와 라쏘(lasso)라고 부릅니다<br>\n",
    "##### 릿지와 라쏘 모두 sklearn.linaer_model 패키지 안에 있습니다"
   ]
  },
  {
   "cell_type": "markdown",
   "id": "45d6c1fc",
   "metadata": {},
   "source": [
    "### 릿지 회귀가 규제하는 방법 => 가중치에 제곱을 벌칙으로 준다 = (L2규제) 선형회귀에 적용된 모델"
   ]
  },
  {
   "cell_type": "code",
   "execution_count": 19,
   "id": "df908552",
   "metadata": {},
   "outputs": [
    {
     "name": "stdout",
     "output_type": "stream",
     "text": [
      "0.9896101671037343\n"
     ]
    }
   ],
   "source": [
    "from sklearn.linear_model import Ridge\n",
    "\n",
    "ridge = Ridge()    #alpha = 1\n",
    "ridge.fit(train_scaled, train_target)\n",
    "print(ridge.score(train_scaled, train_target))"
   ]
  },
  {
   "cell_type": "code",
   "execution_count": 20,
   "id": "9c811960",
   "metadata": {},
   "outputs": [
    {
     "name": "stdout",
     "output_type": "stream",
     "text": [
      "0.9790693977615388\n"
     ]
    }
   ],
   "source": [
    "print(ridge.score(test_scaled, test_target))"
   ]
  },
  {
   "cell_type": "code",
   "execution_count": 21,
   "id": "21540db6",
   "metadata": {},
   "outputs": [],
   "source": [
    "import matplotlib.pyplot as plt\n",
    "\n",
    "train_score = []\n",
    "test_score = []"
   ]
  },
  {
   "cell_type": "code",
   "execution_count": 22,
   "id": "bc935fd9",
   "metadata": {},
   "outputs": [],
   "source": [
    "alpha_list = [0.001, 0.01, 0.1, 1, 10, 100]\n",
    "for alpha in alpha_list:\n",
    "    # 릿지 모델을 만듭니다\n",
    "    ridge = Ridge(alpha=alpha)\n",
    "    # 릿지 모델을 훈련합니다\n",
    "    ridge.fit(train_scaled, train_target)\n",
    "    # 훈련 점수와 테스트 점수를 저장합니다\n",
    "    train_score.append(ridge.score(train_scaled, train_target))\n",
    "    test_score.append(ridge.score(test_scaled, test_target))"
   ]
  },
  {
   "cell_type": "code",
   "execution_count": 23,
   "id": "b1b8eb04",
   "metadata": {
    "scrolled": true
   },
   "outputs": [
    {
     "data": {
      "image/png": "[encoded data removed]",
      "text/plain": [
       "<Figure size 432x288 with 1 Axes>"
      ]
     },
     "metadata": {
      "needs_background": "light"
     },
     "output_type": "display_data"
    }
   ],
   "source": [
    "plt.plot(np.log10(alpha_list), train_score)        #np에서 제공하는 log함수 사용\n",
    "plt.plot(np.log10(alpha_list), test_score)\n",
    "plt.xlabel('alpha')\n",
    "plt.ylabel('R^2')\n",
    "plt.show()"
   ]
  },
  {
   "cell_type": "markdown",
   "id": "a49fc8f2",
   "metadata": {},
   "source": [
    "**위는 훈련 세트 그래프, 아래는 테스트 세트 그래프입니다. 이 그래프의 왼쪽을 보면 훈련 세트와 테스트 세트의 점수차가 큽니다. 훈련 세트에는 잘 맞고 테스트 세트에는 형편없는 과대적합의 전형적인 모습이죠. 반대로 오른쪽 편은 훈련 세트와 테스트 세트의 점수가 모두 낮아지는 과소적합으로 가는 모습을 보입니다**"
   ]
  },
  {
   "cell_type": "code",
   "execution_count": 24,
   "id": "d974a108",
   "metadata": {},
   "outputs": [
    {
     "name": "stdout",
     "output_type": "stream",
     "text": [
      "0.9903815817570367\n",
      "0.982797646538695\n"
     ]
    }
   ],
   "source": [
    "ridge = Ridge(alpha=0.1)\n",
    "ridge.fit(train_scaled, train_target)\n",
    "\n",
    "print(ridge.score(train_scaled, train_target))\n",
    "print(ridge.score(test_scaled, test_target))"
   ]
  },
  {
   "cell_type": "markdown",
   "id": "58e8fdd2",
   "metadata": {},
   "source": [
    "## (2) 라쏘 회귀"
   ]
  },
  {
   "cell_type": "markdown",
   "id": "d944fa01",
   "metadata": {},
   "source": [
    "### 라쏘 회귀가 규제하는 방법 => |가중치| = 가중치의 절대값을 벌칙으로 준다. = L1규제 (선형회귀에 적용된 모델)"
   ]
  },
  {
   "cell_type": "markdown",
   "id": "6ffa30d0",
   "metadata": {},
   "source": [
    "라쏘 회귀에서는 일부 특성을 완전히 사용안 할 수 있다. 특성마다 가중치를 곱하는데 가중치를 0으로 만들면 특성이 의미가 없어진다."
   ]
  },
  {
   "cell_type": "code",
   "execution_count": 25,
   "id": "8da477b4",
   "metadata": {},
   "outputs": [
    {
     "name": "stdout",
     "output_type": "stream",
     "text": [
      "0.989789897208096\n"
     ]
    }
   ],
   "source": [
    "from sklearn.linear_model import Lasso\n",
    "\n",
    "lasso = Lasso()\n",
    "lasso.fit(train_scaled, train_target)\n",
    "print(lasso.score(train_scaled, train_target))"
   ]
  },
  {
   "cell_type": "code",
   "execution_count": 26,
   "id": "72d213d7",
   "metadata": {},
   "outputs": [
    {
     "name": "stdout",
     "output_type": "stream",
     "text": [
      "0.9800593698421883\n"
     ]
    }
   ],
   "source": [
    "print(lasso.score(test_scaled, test_target))"
   ]
  },
  {
   "cell_type": "code",
   "execution_count": 27,
   "id": "b40d72bb",
   "metadata": {},
   "outputs": [
    {
     "name": "stderr",
     "output_type": "stream",
     "text": [
      "/opt/conda/lib/python3.9/site-packages/sklearn/linear_model/_coordinate_descent.py:645: ConvergenceWarning: Objective did not converge. You might want to increase the number of iterations, check the scale of the features or consider increasing regularisation. Duality gap: 1.878e+04, tolerance: 5.183e+02\n",
      "  model = cd_fast.enet_coordinate_descent(\n",
      "/opt/conda/lib/python3.9/site-packages/sklearn/linear_model/_coordinate_descent.py:645: ConvergenceWarning: Objective did not converge. You might want to increase the number of iterations, check the scale of the features or consider increasing regularisation. Duality gap: 1.297e+04, tolerance: 5.183e+02\n",
      "  model = cd_fast.enet_coordinate_descent(\n"
     ]
    }
   ],
   "source": [
    "train_score = []\n",
    "test_score = []\n",
    "\n",
    "alpha_list = [0.001, 0.01, 0.1, 1, 10,   100]\n",
    "for alpha in alpha_list:\n",
    "    # 라쏘 모델을 만듭니다\n",
    "    lasso = Lasso(alpha=alpha, max_iter=10000)\n",
    "    # 라쏘 모델을 훈련합니다\n",
    "    lasso.fit(train_scaled, train_target)\n",
    "    # 훈련 점수와 테스트 점수를 저장합니다\n",
    "    train_score.append(lasso.score(train_scaled, train_target))\n",
    "    test_score.append(lasso.score(test_scaled, test_target))"
   ]
  },
  {
   "cell_type": "markdown",
   "id": "4a5adb49",
   "metadata": {},
   "source": [
    "사이킷런의 라쏘 모델은 최적의 개수를 찾기 위해 반복적인 계산을 수행하는데 지정한 반복 횟수가 부족할 때 경고가 발생합니다. 이 반복 횟수를 늘리기 위해 max_iter 매개변수의 값을 10000으로 지정했습니다."
   ]
  },
  {
   "cell_type": "code",
   "execution_count": 28,
   "id": "07204f83",
   "metadata": {},
   "outputs": [
    {
     "data": {
      "image/png": "[encoded data removed]",
      "text/plain": [
       "<Figure size 432x288 with 1 Axes>"
      ]
     },
     "metadata": {
      "needs_background": "light"
     },
     "output_type": "display_data"
    }
   ],
   "source": [
    "plt.plot(np.log10(alpha_list), train_score)\n",
    "plt.plot(np.log10(alpha_list), test_score)\n",
    "plt.xlabel('alpha')\n",
    "plt.ylabel('R^2')\n",
    "plt.show()"
   ]
  },
  {
   "cell_type": "code",
   "execution_count": 29,
   "id": "60a95bcf",
   "metadata": {},
   "outputs": [
    {
     "name": "stdout",
     "output_type": "stream",
     "text": [
      "0.9888067471131867\n",
      "0.9824470598706695\n"
     ]
    }
   ],
   "source": [
    "lasso = Lasso(alpha=10)\n",
    "lasso.fit(train_scaled, train_target)\n",
    "\n",
    "print(lasso.score(train_scaled, train_target))\n",
    "print(lasso.score(test_scaled, test_target))"
   ]
  },
  {
   "cell_type": "code",
   "execution_count": 30,
   "id": "d3c54332",
   "metadata": {
    "scrolled": true
   },
   "outputs": [
    {
     "name": "stdout",
     "output_type": "stream",
     "text": [
      "40\n"
     ]
    }
   ],
   "source": [
    "print(np.sum(lasso.coef_ == 0))     #가중치를 0으로 한 것의 개수"
   ]
  }
 ],
 "metadata": {
  "kernelspec": {
   "display_name": "Python 3 (ipykernel)",
   "language": "python",
   "name": "python3"
  },
  "language_info": {
   "codemirror_mode": {
    "name": "ipython",
    "version": 3
   },
   "file_extension": ".py",
   "mimetype": "text/x-python",
   "name": "python",
   "nbconvert_exporter": "python",
   "pygments_lexer": "ipython3",
   "version": "3.9.7"
  }
 },
 "nbformat": 4,
 "nbformat_minor": 5
}
